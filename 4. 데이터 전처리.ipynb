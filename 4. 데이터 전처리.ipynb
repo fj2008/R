{
 "cells": [
  {
   "cell_type": "markdown",
   "id": "19359056",
   "metadata": {},
   "source": [
    "| dplyr 함수 | 기능 |\n",
    "| :-- | :-- |\n",
    "| filter()| 행추출|\n",
    "| select()| 열 추출|\n",
    "| arrange() | 정렬|\n",
    "| summarise()| 통계치 산출|\n",
    "| group_by()| 집단별로 나누기|\n",
    "| left_join()| 데이터 합치기(열)|\n",
    "| bind_rows()| 데이터 합치기(행)|\n"
   ]
  },
  {
   "cell_type": "code",
   "execution_count": 5,
   "id": "6c3c4683",
   "metadata": {},
   "outputs": [],
   "source": [
    "library(dplyr)"
   ]
  },
  {
   "cell_type": "code",
   "execution_count": 6,
   "id": "9bc233c2",
   "metadata": {},
   "outputs": [
    {
     "data": {
      "text/html": [
       "<table>\n",
       "<thead><tr><th scope=col>id</th><th scope=col>class</th><th scope=col>math</th><th scope=col>english</th><th scope=col>science</th></tr></thead>\n",
       "<tbody>\n",
       "\t<tr><td>1 </td><td>1 </td><td>50</td><td>98</td><td>50</td></tr>\n",
       "\t<tr><td>2 </td><td>1 </td><td>60</td><td>97</td><td>60</td></tr>\n",
       "\t<tr><td>3 </td><td>1 </td><td>45</td><td>86</td><td>78</td></tr>\n",
       "\t<tr><td>4 </td><td>1 </td><td>30</td><td>98</td><td>58</td></tr>\n",
       "\t<tr><td>5 </td><td>2 </td><td>25</td><td>80</td><td>65</td></tr>\n",
       "\t<tr><td>6 </td><td>2 </td><td>50</td><td>89</td><td>98</td></tr>\n",
       "</tbody>\n",
       "</table>\n"
      ],
      "text/latex": [
       "\\begin{tabular}{r|lllll}\n",
       " id & class & math & english & science\\\\\n",
       "\\hline\n",
       "\t 1  & 1  & 50 & 98 & 50\\\\\n",
       "\t 2  & 1  & 60 & 97 & 60\\\\\n",
       "\t 3  & 1  & 45 & 86 & 78\\\\\n",
       "\t 4  & 1  & 30 & 98 & 58\\\\\n",
       "\t 5  & 2  & 25 & 80 & 65\\\\\n",
       "\t 6  & 2  & 50 & 89 & 98\\\\\n",
       "\\end{tabular}\n"
      ],
      "text/markdown": [
       "\n",
       "| id | class | math | english | science |\n",
       "|---|---|---|---|---|\n",
       "| 1  | 1  | 50 | 98 | 50 |\n",
       "| 2  | 1  | 60 | 97 | 60 |\n",
       "| 3  | 1  | 45 | 86 | 78 |\n",
       "| 4  | 1  | 30 | 98 | 58 |\n",
       "| 5  | 2  | 25 | 80 | 65 |\n",
       "| 6  | 2  | 50 | 89 | 98 |\n",
       "\n"
      ],
      "text/plain": [
       "  id class math english science\n",
       "1 1  1     50   98      50     \n",
       "2 2  1     60   97      60     \n",
       "3 3  1     45   86      78     \n",
       "4 4  1     30   98      58     \n",
       "5 5  2     25   80      65     \n",
       "6 6  2     50   89      98     "
      ]
     },
     "metadata": {},
     "output_type": "display_data"
    }
   ],
   "source": [
    "exam <- read.csv(\"../data/csv_exam.csv\")\n",
    "head(exam)"
   ]
  },
  {
   "cell_type": "code",
   "execution_count": 3,
   "id": "3efe7649",
   "metadata": {},
   "outputs": [
    {
     "data": {
      "text/html": [
       "<table>\n",
       "<thead><tr><th scope=col>id</th><th scope=col>class</th><th scope=col>math</th><th scope=col>english</th><th scope=col>science</th></tr></thead>\n",
       "<tbody>\n",
       "\t<tr><td>1 </td><td>1 </td><td>50</td><td>98</td><td>50</td></tr>\n",
       "\t<tr><td>2 </td><td>1 </td><td>60</td><td>97</td><td>60</td></tr>\n",
       "\t<tr><td>3 </td><td>1 </td><td>45</td><td>86</td><td>78</td></tr>\n",
       "\t<tr><td>4 </td><td>1 </td><td>30</td><td>98</td><td>58</td></tr>\n",
       "</tbody>\n",
       "</table>\n"
      ],
      "text/latex": [
       "\\begin{tabular}{r|lllll}\n",
       " id & class & math & english & science\\\\\n",
       "\\hline\n",
       "\t 1  & 1  & 50 & 98 & 50\\\\\n",
       "\t 2  & 1  & 60 & 97 & 60\\\\\n",
       "\t 3  & 1  & 45 & 86 & 78\\\\\n",
       "\t 4  & 1  & 30 & 98 & 58\\\\\n",
       "\\end{tabular}\n"
      ],
      "text/markdown": [
       "\n",
       "| id | class | math | english | science |\n",
       "|---|---|---|---|---|\n",
       "| 1  | 1  | 50 | 98 | 50 |\n",
       "| 2  | 1  | 60 | 97 | 60 |\n",
       "| 3  | 1  | 45 | 86 | 78 |\n",
       "| 4  | 1  | 30 | 98 | 58 |\n",
       "\n"
      ],
      "text/plain": [
       "  id class math english science\n",
       "1 1  1     50   98      50     \n",
       "2 2  1     60   97      60     \n",
       "3 3  1     45   86      78     \n",
       "4 4  1     30   98      58     "
      ]
     },
     "metadata": {},
     "output_type": "display_data"
    }
   ],
   "source": [
    "# class 가 1인 경우만 추출\n",
    "#filter()\t행추출\n",
    "exam %>% filter(class ==1 )\n",
    "\n",
    "# %>% : 파이프 연산자 (pipe operator)\n",
    "#함수들을 연결하는 기능"
   ]
  },
  {
   "cell_type": "code",
   "execution_count": 5,
   "id": "c7705fc4",
   "metadata": {},
   "outputs": [
    {
     "data": {
      "text/html": [
       "<table>\n",
       "<thead><tr><th scope=col>id</th><th scope=col>class</th><th scope=col>math</th><th scope=col>english</th><th scope=col>science</th></tr></thead>\n",
       "<tbody>\n",
       "\t<tr><td> 5</td><td>2 </td><td>25</td><td>80</td><td>65</td></tr>\n",
       "\t<tr><td> 6</td><td>2 </td><td>50</td><td>89</td><td>98</td></tr>\n",
       "\t<tr><td> 7</td><td>2 </td><td>80</td><td>90</td><td>45</td></tr>\n",
       "\t<tr><td> 8</td><td>2 </td><td>90</td><td>78</td><td>25</td></tr>\n",
       "\t<tr><td> 9</td><td>3 </td><td>20</td><td>98</td><td>15</td></tr>\n",
       "\t<tr><td>10</td><td>3 </td><td>50</td><td>98</td><td>45</td></tr>\n",
       "\t<tr><td>11</td><td>3 </td><td>65</td><td>65</td><td>65</td></tr>\n",
       "\t<tr><td>12</td><td>3 </td><td>45</td><td>85</td><td>32</td></tr>\n",
       "\t<tr><td>13</td><td>4 </td><td>46</td><td>98</td><td>65</td></tr>\n",
       "\t<tr><td>14</td><td>4 </td><td>48</td><td>87</td><td>12</td></tr>\n",
       "\t<tr><td>15</td><td>4 </td><td>75</td><td>56</td><td>78</td></tr>\n",
       "\t<tr><td>16</td><td>4 </td><td>58</td><td>98</td><td>65</td></tr>\n",
       "\t<tr><td>17</td><td>5 </td><td>65</td><td>68</td><td>98</td></tr>\n",
       "\t<tr><td>18</td><td>5 </td><td>80</td><td>78</td><td>90</td></tr>\n",
       "\t<tr><td>19</td><td>5 </td><td>89</td><td>68</td><td>87</td></tr>\n",
       "\t<tr><td>20</td><td>5 </td><td>78</td><td>83</td><td>58</td></tr>\n",
       "</tbody>\n",
       "</table>\n"
      ],
      "text/latex": [
       "\\begin{tabular}{r|lllll}\n",
       " id & class & math & english & science\\\\\n",
       "\\hline\n",
       "\t  5 & 2  & 25 & 80 & 65\\\\\n",
       "\t  6 & 2  & 50 & 89 & 98\\\\\n",
       "\t  7 & 2  & 80 & 90 & 45\\\\\n",
       "\t  8 & 2  & 90 & 78 & 25\\\\\n",
       "\t  9 & 3  & 20 & 98 & 15\\\\\n",
       "\t 10 & 3  & 50 & 98 & 45\\\\\n",
       "\t 11 & 3  & 65 & 65 & 65\\\\\n",
       "\t 12 & 3  & 45 & 85 & 32\\\\\n",
       "\t 13 & 4  & 46 & 98 & 65\\\\\n",
       "\t 14 & 4  & 48 & 87 & 12\\\\\n",
       "\t 15 & 4  & 75 & 56 & 78\\\\\n",
       "\t 16 & 4  & 58 & 98 & 65\\\\\n",
       "\t 17 & 5  & 65 & 68 & 98\\\\\n",
       "\t 18 & 5  & 80 & 78 & 90\\\\\n",
       "\t 19 & 5  & 89 & 68 & 87\\\\\n",
       "\t 20 & 5  & 78 & 83 & 58\\\\\n",
       "\\end{tabular}\n"
      ],
      "text/markdown": [
       "\n",
       "| id | class | math | english | science |\n",
       "|---|---|---|---|---|\n",
       "|  5 | 2  | 25 | 80 | 65 |\n",
       "|  6 | 2  | 50 | 89 | 98 |\n",
       "|  7 | 2  | 80 | 90 | 45 |\n",
       "|  8 | 2  | 90 | 78 | 25 |\n",
       "|  9 | 3  | 20 | 98 | 15 |\n",
       "| 10 | 3  | 50 | 98 | 45 |\n",
       "| 11 | 3  | 65 | 65 | 65 |\n",
       "| 12 | 3  | 45 | 85 | 32 |\n",
       "| 13 | 4  | 46 | 98 | 65 |\n",
       "| 14 | 4  | 48 | 87 | 12 |\n",
       "| 15 | 4  | 75 | 56 | 78 |\n",
       "| 16 | 4  | 58 | 98 | 65 |\n",
       "| 17 | 5  | 65 | 68 | 98 |\n",
       "| 18 | 5  | 80 | 78 | 90 |\n",
       "| 19 | 5  | 89 | 68 | 87 |\n",
       "| 20 | 5  | 78 | 83 | 58 |\n",
       "\n"
      ],
      "text/plain": [
       "   id class math english science\n",
       "1   5 2     25   80      65     \n",
       "2   6 2     50   89      98     \n",
       "3   7 2     80   90      45     \n",
       "4   8 2     90   78      25     \n",
       "5   9 3     20   98      15     \n",
       "6  10 3     50   98      45     \n",
       "7  11 3     65   65      65     \n",
       "8  12 3     45   85      32     \n",
       "9  13 4     46   98      65     \n",
       "10 14 4     48   87      12     \n",
       "11 15 4     75   56      78     \n",
       "12 16 4     58   98      65     \n",
       "13 17 5     65   68      98     \n",
       "14 18 5     80   78      90     \n",
       "15 19 5     89   68      87     \n",
       "16 20 5     78   83      58     "
      ]
     },
     "metadata": {},
     "output_type": "display_data"
    }
   ],
   "source": [
    "## class 가 1 이 아닌 경우만 추출\n",
    "\n",
    "exam %>% filter(class !=1 )"
   ]
  },
  {
   "cell_type": "code",
   "execution_count": 6,
   "id": "f5bb774f",
   "metadata": {},
   "outputs": [
    {
     "data": {
      "text/html": [
       "<table>\n",
       "<thead><tr><th scope=col>id</th><th scope=col>class</th><th scope=col>math</th><th scope=col>english</th><th scope=col>science</th></tr></thead>\n",
       "<tbody>\n",
       "\t<tr><td> 2</td><td>1 </td><td>60</td><td>97</td><td>60</td></tr>\n",
       "\t<tr><td> 7</td><td>2 </td><td>80</td><td>90</td><td>45</td></tr>\n",
       "\t<tr><td> 8</td><td>2 </td><td>90</td><td>78</td><td>25</td></tr>\n",
       "\t<tr><td>11</td><td>3 </td><td>65</td><td>65</td><td>65</td></tr>\n",
       "\t<tr><td>15</td><td>4 </td><td>75</td><td>56</td><td>78</td></tr>\n",
       "\t<tr><td>16</td><td>4 </td><td>58</td><td>98</td><td>65</td></tr>\n",
       "\t<tr><td>17</td><td>5 </td><td>65</td><td>68</td><td>98</td></tr>\n",
       "\t<tr><td>18</td><td>5 </td><td>80</td><td>78</td><td>90</td></tr>\n",
       "\t<tr><td>19</td><td>5 </td><td>89</td><td>68</td><td>87</td></tr>\n",
       "\t<tr><td>20</td><td>5 </td><td>78</td><td>83</td><td>58</td></tr>\n",
       "</tbody>\n",
       "</table>\n"
      ],
      "text/latex": [
       "\\begin{tabular}{r|lllll}\n",
       " id & class & math & english & science\\\\\n",
       "\\hline\n",
       "\t  2 & 1  & 60 & 97 & 60\\\\\n",
       "\t  7 & 2  & 80 & 90 & 45\\\\\n",
       "\t  8 & 2  & 90 & 78 & 25\\\\\n",
       "\t 11 & 3  & 65 & 65 & 65\\\\\n",
       "\t 15 & 4  & 75 & 56 & 78\\\\\n",
       "\t 16 & 4  & 58 & 98 & 65\\\\\n",
       "\t 17 & 5  & 65 & 68 & 98\\\\\n",
       "\t 18 & 5  & 80 & 78 & 90\\\\\n",
       "\t 19 & 5  & 89 & 68 & 87\\\\\n",
       "\t 20 & 5  & 78 & 83 & 58\\\\\n",
       "\\end{tabular}\n"
      ],
      "text/markdown": [
       "\n",
       "| id | class | math | english | science |\n",
       "|---|---|---|---|---|\n",
       "|  2 | 1  | 60 | 97 | 60 |\n",
       "|  7 | 2  | 80 | 90 | 45 |\n",
       "|  8 | 2  | 90 | 78 | 25 |\n",
       "| 11 | 3  | 65 | 65 | 65 |\n",
       "| 15 | 4  | 75 | 56 | 78 |\n",
       "| 16 | 4  | 58 | 98 | 65 |\n",
       "| 17 | 5  | 65 | 68 | 98 |\n",
       "| 18 | 5  | 80 | 78 | 90 |\n",
       "| 19 | 5  | 89 | 68 | 87 |\n",
       "| 20 | 5  | 78 | 83 | 58 |\n",
       "\n"
      ],
      "text/plain": [
       "   id class math english science\n",
       "1   2 1     60   97      60     \n",
       "2   7 2     80   90      45     \n",
       "3   8 2     90   78      25     \n",
       "4  11 3     65   65      65     \n",
       "5  15 4     75   56      78     \n",
       "6  16 4     58   98      65     \n",
       "7  17 5     65   68      98     \n",
       "8  18 5     80   78      90     \n",
       "9  19 5     89   68      87     \n",
       "10 20 5     78   83      58     "
      ]
     },
     "metadata": {},
     "output_type": "display_data"
    }
   ],
   "source": [
    "# math가 50을 초과한 경우만 추출\n",
    "exam%>% filter(math > 50)"
   ]
  },
  {
   "cell_type": "markdown",
   "id": "1273d5c8",
   "metadata": {},
   "source": [
    "## 여러 조건을 충족하는 행 추출"
   ]
  },
  {
   "cell_type": "code",
   "execution_count": 8,
   "id": "8c71452b",
   "metadata": {},
   "outputs": [
    {
     "data": {
      "text/html": [
       "<table>\n",
       "<thead><tr><th scope=col>id</th><th scope=col>class</th><th scope=col>math</th><th scope=col>english</th><th scope=col>science</th></tr></thead>\n",
       "<tbody>\n",
       "\t<tr><td>1 </td><td>1 </td><td>50</td><td>98</td><td>50</td></tr>\n",
       "\t<tr><td>2 </td><td>1 </td><td>60</td><td>97</td><td>60</td></tr>\n",
       "</tbody>\n",
       "</table>\n"
      ],
      "text/latex": [
       "\\begin{tabular}{r|lllll}\n",
       " id & class & math & english & science\\\\\n",
       "\\hline\n",
       "\t 1  & 1  & 50 & 98 & 50\\\\\n",
       "\t 2  & 1  & 60 & 97 & 60\\\\\n",
       "\\end{tabular}\n"
      ],
      "text/markdown": [
       "\n",
       "| id | class | math | english | science |\n",
       "|---|---|---|---|---|\n",
       "| 1  | 1  | 50 | 98 | 50 |\n",
       "| 2  | 1  | 60 | 97 | 60 |\n",
       "\n"
      ],
      "text/plain": [
       "  id class math english science\n",
       "1 1  1     50   98      50     \n",
       "2 2  1     60   97      60     "
      ]
     },
     "metadata": {},
     "output_type": "display_data"
    }
   ],
   "source": [
    "## class 가 1이면서 math가 50 이상인 경우\n",
    "exam%>% filter(class ==1 & math >=50)"
   ]
  },
  {
   "cell_type": "markdown",
   "id": "779d0a76",
   "metadata": {},
   "source": [
    "## 여러 조건 중 하나 이상 충족하는 행 추출"
   ]
  },
  {
   "cell_type": "code",
   "execution_count": 9,
   "id": "9819d900",
   "metadata": {},
   "outputs": [
    {
     "data": {
      "text/html": [
       "<table>\n",
       "<thead><tr><th scope=col>id</th><th scope=col>class</th><th scope=col>math</th><th scope=col>english</th><th scope=col>science</th></tr></thead>\n",
       "<tbody>\n",
       "\t<tr><td> 1</td><td>1 </td><td>50</td><td>98</td><td>50</td></tr>\n",
       "\t<tr><td> 2</td><td>1 </td><td>60</td><td>97</td><td>60</td></tr>\n",
       "\t<tr><td> 4</td><td>1 </td><td>30</td><td>98</td><td>58</td></tr>\n",
       "\t<tr><td> 7</td><td>2 </td><td>80</td><td>90</td><td>45</td></tr>\n",
       "\t<tr><td> 9</td><td>3 </td><td>20</td><td>98</td><td>15</td></tr>\n",
       "\t<tr><td>10</td><td>3 </td><td>50</td><td>98</td><td>45</td></tr>\n",
       "\t<tr><td>13</td><td>4 </td><td>46</td><td>98</td><td>65</td></tr>\n",
       "\t<tr><td>16</td><td>4 </td><td>58</td><td>98</td><td>65</td></tr>\n",
       "</tbody>\n",
       "</table>\n"
      ],
      "text/latex": [
       "\\begin{tabular}{r|lllll}\n",
       " id & class & math & english & science\\\\\n",
       "\\hline\n",
       "\t  1 & 1  & 50 & 98 & 50\\\\\n",
       "\t  2 & 1  & 60 & 97 & 60\\\\\n",
       "\t  4 & 1  & 30 & 98 & 58\\\\\n",
       "\t  7 & 2  & 80 & 90 & 45\\\\\n",
       "\t  9 & 3  & 20 & 98 & 15\\\\\n",
       "\t 10 & 3  & 50 & 98 & 45\\\\\n",
       "\t 13 & 4  & 46 & 98 & 65\\\\\n",
       "\t 16 & 4  & 58 & 98 & 65\\\\\n",
       "\\end{tabular}\n"
      ],
      "text/markdown": [
       "\n",
       "| id | class | math | english | science |\n",
       "|---|---|---|---|---|\n",
       "|  1 | 1  | 50 | 98 | 50 |\n",
       "|  2 | 1  | 60 | 97 | 60 |\n",
       "|  4 | 1  | 30 | 98 | 58 |\n",
       "|  7 | 2  | 80 | 90 | 45 |\n",
       "|  9 | 3  | 20 | 98 | 15 |\n",
       "| 10 | 3  | 50 | 98 | 45 |\n",
       "| 13 | 4  | 46 | 98 | 65 |\n",
       "| 16 | 4  | 58 | 98 | 65 |\n",
       "\n"
      ],
      "text/plain": [
       "  id class math english science\n",
       "1  1 1     50   98      50     \n",
       "2  2 1     60   97      60     \n",
       "3  4 1     30   98      58     \n",
       "4  7 2     80   90      45     \n",
       "5  9 3     20   98      15     \n",
       "6 10 3     50   98      45     \n",
       "7 13 4     46   98      65     \n",
       "8 16 4     58   98      65     "
      ]
     },
     "metadata": {},
     "output_type": "display_data"
    }
   ],
   "source": [
    "# math가 90 이상이거나 english가 90 이상인 경우\n",
    "exam %>% filter(math >90 | english >= 90)"
   ]
  },
  {
   "cell_type": "markdown",
   "id": "a3c596c7",
   "metadata": {},
   "source": [
    "## 목록에 해당되는 행 추출"
   ]
  },
  {
   "cell_type": "code",
   "execution_count": 10,
   "id": "19eba26b",
   "metadata": {},
   "outputs": [
    {
     "data": {
      "text/html": [
       "<table>\n",
       "<thead><tr><th scope=col>id</th><th scope=col>class</th><th scope=col>math</th><th scope=col>english</th><th scope=col>science</th></tr></thead>\n",
       "<tbody>\n",
       "\t<tr><td> 1</td><td>1 </td><td>50</td><td>98</td><td>50</td></tr>\n",
       "\t<tr><td> 2</td><td>1 </td><td>60</td><td>97</td><td>60</td></tr>\n",
       "\t<tr><td> 3</td><td>1 </td><td>45</td><td>86</td><td>78</td></tr>\n",
       "\t<tr><td> 4</td><td>1 </td><td>30</td><td>98</td><td>58</td></tr>\n",
       "\t<tr><td> 9</td><td>3 </td><td>20</td><td>98</td><td>15</td></tr>\n",
       "\t<tr><td>10</td><td>3 </td><td>50</td><td>98</td><td>45</td></tr>\n",
       "\t<tr><td>11</td><td>3 </td><td>65</td><td>65</td><td>65</td></tr>\n",
       "\t<tr><td>12</td><td>3 </td><td>45</td><td>85</td><td>32</td></tr>\n",
       "\t<tr><td>17</td><td>5 </td><td>65</td><td>68</td><td>98</td></tr>\n",
       "\t<tr><td>18</td><td>5 </td><td>80</td><td>78</td><td>90</td></tr>\n",
       "\t<tr><td>19</td><td>5 </td><td>89</td><td>68</td><td>87</td></tr>\n",
       "\t<tr><td>20</td><td>5 </td><td>78</td><td>83</td><td>58</td></tr>\n",
       "</tbody>\n",
       "</table>\n"
      ],
      "text/latex": [
       "\\begin{tabular}{r|lllll}\n",
       " id & class & math & english & science\\\\\n",
       "\\hline\n",
       "\t  1 & 1  & 50 & 98 & 50\\\\\n",
       "\t  2 & 1  & 60 & 97 & 60\\\\\n",
       "\t  3 & 1  & 45 & 86 & 78\\\\\n",
       "\t  4 & 1  & 30 & 98 & 58\\\\\n",
       "\t  9 & 3  & 20 & 98 & 15\\\\\n",
       "\t 10 & 3  & 50 & 98 & 45\\\\\n",
       "\t 11 & 3  & 65 & 65 & 65\\\\\n",
       "\t 12 & 3  & 45 & 85 & 32\\\\\n",
       "\t 17 & 5  & 65 & 68 & 98\\\\\n",
       "\t 18 & 5  & 80 & 78 & 90\\\\\n",
       "\t 19 & 5  & 89 & 68 & 87\\\\\n",
       "\t 20 & 5  & 78 & 83 & 58\\\\\n",
       "\\end{tabular}\n"
      ],
      "text/markdown": [
       "\n",
       "| id | class | math | english | science |\n",
       "|---|---|---|---|---|\n",
       "|  1 | 1  | 50 | 98 | 50 |\n",
       "|  2 | 1  | 60 | 97 | 60 |\n",
       "|  3 | 1  | 45 | 86 | 78 |\n",
       "|  4 | 1  | 30 | 98 | 58 |\n",
       "|  9 | 3  | 20 | 98 | 15 |\n",
       "| 10 | 3  | 50 | 98 | 45 |\n",
       "| 11 | 3  | 65 | 65 | 65 |\n",
       "| 12 | 3  | 45 | 85 | 32 |\n",
       "| 17 | 5  | 65 | 68 | 98 |\n",
       "| 18 | 5  | 80 | 78 | 90 |\n",
       "| 19 | 5  | 89 | 68 | 87 |\n",
       "| 20 | 5  | 78 | 83 | 58 |\n",
       "\n"
      ],
      "text/plain": [
       "   id class math english science\n",
       "1   1 1     50   98      50     \n",
       "2   2 1     60   97      60     \n",
       "3   3 1     45   86      78     \n",
       "4   4 1     30   98      58     \n",
       "5   9 3     20   98      15     \n",
       "6  10 3     50   98      45     \n",
       "7  11 3     65   65      65     \n",
       "8  12 3     45   85      32     \n",
       "9  17 5     65   68      98     \n",
       "10 18 5     80   78      90     \n",
       "11 19 5     89   68      87     \n",
       "12 20 5     78   83      58     "
      ]
     },
     "metadata": {},
     "output_type": "display_data"
    }
   ],
   "source": [
    "# class 가 1,3,5에 해당하면 추출\n",
    "exam %>% filter(class ==1 | class ==3 | class == 5)"
   ]
  },
  {
   "cell_type": "code",
   "execution_count": 11,
   "id": "a2535bf9",
   "metadata": {},
   "outputs": [
    {
     "data": {
      "text/html": [
       "<table>\n",
       "<thead><tr><th scope=col>id</th><th scope=col>class</th><th scope=col>math</th><th scope=col>english</th><th scope=col>science</th></tr></thead>\n",
       "<tbody>\n",
       "\t<tr><td> 1</td><td>1 </td><td>50</td><td>98</td><td>50</td></tr>\n",
       "\t<tr><td> 2</td><td>1 </td><td>60</td><td>97</td><td>60</td></tr>\n",
       "\t<tr><td> 3</td><td>1 </td><td>45</td><td>86</td><td>78</td></tr>\n",
       "\t<tr><td> 4</td><td>1 </td><td>30</td><td>98</td><td>58</td></tr>\n",
       "\t<tr><td> 9</td><td>3 </td><td>20</td><td>98</td><td>15</td></tr>\n",
       "\t<tr><td>10</td><td>3 </td><td>50</td><td>98</td><td>45</td></tr>\n",
       "\t<tr><td>11</td><td>3 </td><td>65</td><td>65</td><td>65</td></tr>\n",
       "\t<tr><td>12</td><td>3 </td><td>45</td><td>85</td><td>32</td></tr>\n",
       "\t<tr><td>17</td><td>5 </td><td>65</td><td>68</td><td>98</td></tr>\n",
       "\t<tr><td>18</td><td>5 </td><td>80</td><td>78</td><td>90</td></tr>\n",
       "\t<tr><td>19</td><td>5 </td><td>89</td><td>68</td><td>87</td></tr>\n",
       "\t<tr><td>20</td><td>5 </td><td>78</td><td>83</td><td>58</td></tr>\n",
       "</tbody>\n",
       "</table>\n"
      ],
      "text/latex": [
       "\\begin{tabular}{r|lllll}\n",
       " id & class & math & english & science\\\\\n",
       "\\hline\n",
       "\t  1 & 1  & 50 & 98 & 50\\\\\n",
       "\t  2 & 1  & 60 & 97 & 60\\\\\n",
       "\t  3 & 1  & 45 & 86 & 78\\\\\n",
       "\t  4 & 1  & 30 & 98 & 58\\\\\n",
       "\t  9 & 3  & 20 & 98 & 15\\\\\n",
       "\t 10 & 3  & 50 & 98 & 45\\\\\n",
       "\t 11 & 3  & 65 & 65 & 65\\\\\n",
       "\t 12 & 3  & 45 & 85 & 32\\\\\n",
       "\t 17 & 5  & 65 & 68 & 98\\\\\n",
       "\t 18 & 5  & 80 & 78 & 90\\\\\n",
       "\t 19 & 5  & 89 & 68 & 87\\\\\n",
       "\t 20 & 5  & 78 & 83 & 58\\\\\n",
       "\\end{tabular}\n"
      ],
      "text/markdown": [
       "\n",
       "| id | class | math | english | science |\n",
       "|---|---|---|---|---|\n",
       "|  1 | 1  | 50 | 98 | 50 |\n",
       "|  2 | 1  | 60 | 97 | 60 |\n",
       "|  3 | 1  | 45 | 86 | 78 |\n",
       "|  4 | 1  | 30 | 98 | 58 |\n",
       "|  9 | 3  | 20 | 98 | 15 |\n",
       "| 10 | 3  | 50 | 98 | 45 |\n",
       "| 11 | 3  | 65 | 65 | 65 |\n",
       "| 12 | 3  | 45 | 85 | 32 |\n",
       "| 17 | 5  | 65 | 68 | 98 |\n",
       "| 18 | 5  | 80 | 78 | 90 |\n",
       "| 19 | 5  | 89 | 68 | 87 |\n",
       "| 20 | 5  | 78 | 83 | 58 |\n",
       "\n"
      ],
      "text/plain": [
       "   id class math english science\n",
       "1   1 1     50   98      50     \n",
       "2   2 1     60   97      60     \n",
       "3   3 1     45   86      78     \n",
       "4   4 1     30   98      58     \n",
       "5   9 3     20   98      15     \n",
       "6  10 3     50   98      45     \n",
       "7  11 3     65   65      65     \n",
       "8  12 3     45   85      32     \n",
       "9  17 5     65   68      98     \n",
       "10 18 5     80   78      90     \n",
       "11 19 5     89   68      87     \n",
       "12 20 5     78   83      58     "
      ]
     },
     "metadata": {},
     "output_type": "display_data"
    }
   ],
   "source": [
    "# %in% 이용하기\n",
    "exam %>% filter(class %in% c(1,3,5))\n",
    "#exam %>% filter(class ==1 | class ==3 | class == 5) 와같은것이다.\n",
    "#뒤에 나오는 백터에 일치하는 값만 추출한것"
   ]
  },
  {
   "cell_type": "markdown",
   "id": "da5ed7e8",
   "metadata": {},
   "source": [
    "## 추출한 행으로 데이터 만들기"
   ]
  },
  {
   "cell_type": "code",
   "execution_count": 12,
   "id": "6b7f0bec",
   "metadata": {},
   "outputs": [
    {
     "data": {
      "text/html": [
       "<table>\n",
       "<thead><tr><th scope=col>id</th><th scope=col>class</th><th scope=col>math</th><th scope=col>english</th><th scope=col>science</th></tr></thead>\n",
       "<tbody>\n",
       "\t<tr><td>1 </td><td>1 </td><td>50</td><td>98</td><td>50</td></tr>\n",
       "\t<tr><td>2 </td><td>1 </td><td>60</td><td>97</td><td>60</td></tr>\n",
       "\t<tr><td>3 </td><td>1 </td><td>45</td><td>86</td><td>78</td></tr>\n",
       "\t<tr><td>4 </td><td>1 </td><td>30</td><td>98</td><td>58</td></tr>\n",
       "</tbody>\n",
       "</table>\n"
      ],
      "text/latex": [
       "\\begin{tabular}{r|lllll}\n",
       " id & class & math & english & science\\\\\n",
       "\\hline\n",
       "\t 1  & 1  & 50 & 98 & 50\\\\\n",
       "\t 2  & 1  & 60 & 97 & 60\\\\\n",
       "\t 3  & 1  & 45 & 86 & 78\\\\\n",
       "\t 4  & 1  & 30 & 98 & 58\\\\\n",
       "\\end{tabular}\n"
      ],
      "text/markdown": [
       "\n",
       "| id | class | math | english | science |\n",
       "|---|---|---|---|---|\n",
       "| 1  | 1  | 50 | 98 | 50 |\n",
       "| 2  | 1  | 60 | 97 | 60 |\n",
       "| 3  | 1  | 45 | 86 | 78 |\n",
       "| 4  | 1  | 30 | 98 | 58 |\n",
       "\n"
      ],
      "text/plain": [
       "  id class math english science\n",
       "1 1  1     50   98      50     \n",
       "2 2  1     60   97      60     \n",
       "3 3  1     45   86      78     \n",
       "4 4  1     30   98      58     "
      ]
     },
     "metadata": {},
     "output_type": "display_data"
    }
   ],
   "source": [
    "# class 가 1인 행 추출, class1 에 할당\n",
    "class1 <- exam %>% filter(class ==1)\n",
    "class1"
   ]
  },
  {
   "cell_type": "code",
   "execution_count": 13,
   "id": "824ae04d",
   "metadata": {},
   "outputs": [
    {
     "data": {
      "text/html": [
       "46.25"
      ],
      "text/latex": [
       "46.25"
      ],
      "text/markdown": [
       "46.25"
      ],
      "text/plain": [
       "[1] 46.25"
      ]
     },
     "metadata": {},
     "output_type": "display_data"
    }
   ],
   "source": [
    "# class가 1인 행의 math 평균 구하기\n",
    "mean(class1$math)"
   ]
  },
  {
   "cell_type": "markdown",
   "id": "713f339a",
   "metadata": {},
   "source": [
    "## mpg 데이터 분석 연습\n",
    "\n",
    "*분석계획* : <br>\n",
    "1. 자동차 배기량에 따라 고속도로 연비가 다른지 알아보려고 함. displ(배기량)이 4이하인 자동차와 5이상인 자동차 중 어떤 자동차의 hwy(고속도로 연비)가 평균적으로 더 높은지 분석.<br>\n",
    "2. 자동차 제조사 별로 도시 연비가 다른지 알아보려고 함. audi와 toyota 중 어느 manufacturer(자동차 제조사)의 cty(도시 연비)가 평균적으로 더 높은지 분석.<br>\n",
    "3. chevrolet, ford, honda 자동차의 고속도로 연비 평균을 알아보려고 함. 이 회사들의 데이터를 추출한 후 hwy 전체 평균을 분석."
   ]
  },
  {
   "cell_type": "code",
   "execution_count": 15,
   "id": "71a06723",
   "metadata": {},
   "outputs": [],
   "source": [
    "mpg <- as.data.frame(ggplot2::mpg)"
   ]
  },
  {
   "cell_type": "code",
   "execution_count": 14,
   "id": "f49cfbd2",
   "metadata": {},
   "outputs": [],
   "source": [
    "a1 <- mpg %>% filter(displ <= 4)\n",
    "\n",
    "\n"
   ]
  },
  {
   "cell_type": "code",
   "execution_count": 21,
   "id": "c66e4450",
   "metadata": {},
   "outputs": [
    {
     "data": {
      "text/html": [
       "17.9883720930233"
      ],
      "text/latex": [
       "17.9883720930233"
      ],
      "text/markdown": [
       "17.9883720930233"
      ],
      "text/plain": [
       "[1] 17.98837"
      ]
     },
     "metadata": {},
     "output_type": "display_data"
    }
   ],
   "source": [
    "mean(a1$hwy)"
   ]
  },
  {
   "cell_type": "code",
   "execution_count": 53,
   "id": "13f20b5d",
   "metadata": {},
   "outputs": [],
   "source": [
    "a2 <- mpg %>% filter(displ >= 5)"
   ]
  },
  {
   "cell_type": "code",
   "execution_count": 24,
   "id": "9f99bfe3",
   "metadata": {},
   "outputs": [
    {
     "data": {
      "text/html": [
       "24.4040404040404"
      ],
      "text/latex": [
       "24.4040404040404"
      ],
      "text/markdown": [
       "24.4040404040404"
      ],
      "text/plain": [
       "[1] 24.40404"
      ]
     },
     "metadata": {},
     "output_type": "display_data"
    }
   ],
   "source": [
    "mean(a2$hwy)"
   ]
  },
  {
   "cell_type": "code",
   "execution_count": 25,
   "id": "cdacbf59",
   "metadata": {},
   "outputs": [],
   "source": [
    "audi <- mpg %>% filter(manufacturer == \"audi\")"
   ]
  },
  {
   "cell_type": "code",
   "execution_count": 27,
   "id": "49c4c303",
   "metadata": {},
   "outputs": [],
   "source": [
    "toyota <-mpg %>% filter(manufacturer == \"toyota\")"
   ]
  },
  {
   "cell_type": "code",
   "execution_count": 28,
   "id": "654ace59",
   "metadata": {},
   "outputs": [
    {
     "data": {
      "text/html": [
       "17.6111111111111"
      ],
      "text/latex": [
       "17.6111111111111"
      ],
      "text/markdown": [
       "17.6111111111111"
      ],
      "text/plain": [
       "[1] 17.61111"
      ]
     },
     "metadata": {},
     "output_type": "display_data"
    }
   ],
   "source": [
    "mean(audi$cty)"
   ]
  },
  {
   "cell_type": "code",
   "execution_count": 32,
   "id": "08dda496",
   "metadata": {},
   "outputs": [
    {
     "data": {
      "text/html": [
       "18.5294117647059"
      ],
      "text/latex": [
       "18.5294117647059"
      ],
      "text/markdown": [
       "18.5294117647059"
      ],
      "text/plain": [
       "[1] 18.52941"
      ]
     },
     "metadata": {},
     "output_type": "display_data"
    }
   ],
   "source": [
    "mean(toyota$cty)"
   ]
  },
  {
   "cell_type": "code",
   "execution_count": 33,
   "id": "fac13b2a",
   "metadata": {},
   "outputs": [],
   "source": [
    "chevrolet<-mpg %>% filter(manufacturer == \"chevrolet\")"
   ]
  },
  {
   "cell_type": "code",
   "execution_count": 34,
   "id": "99d93511",
   "metadata": {},
   "outputs": [],
   "source": [
    "ford<-mpg %>% filter(manufacturer == \"ford\")"
   ]
  },
  {
   "cell_type": "code",
   "execution_count": 35,
   "id": "d4d914f0",
   "metadata": {},
   "outputs": [],
   "source": [
    "honda<-mpg %>% filter(manufacturer == \"honda\")"
   ]
  },
  {
   "cell_type": "code",
   "execution_count": 45,
   "id": "11686caa",
   "metadata": {},
   "outputs": [
    {
     "data": {
      "text/html": [
       "21.8947368421053"
      ],
      "text/latex": [
       "21.8947368421053"
      ],
      "text/markdown": [
       "21.8947368421053"
      ],
      "text/plain": [
       "[1] 21.89474"
      ]
     },
     "metadata": {},
     "output_type": "display_data"
    }
   ],
   "source": [
    "h1 <- mean(chevrolet$hwy)\n",
    "h1"
   ]
  },
  {
   "cell_type": "code",
   "execution_count": 47,
   "id": "77212c96",
   "metadata": {},
   "outputs": [
    {
     "data": {
      "text/html": [
       "19.36"
      ],
      "text/latex": [
       "19.36"
      ],
      "text/markdown": [
       "19.36"
      ],
      "text/plain": [
       "[1] 19.36"
      ]
     },
     "metadata": {},
     "output_type": "display_data"
    }
   ],
   "source": [
    "h2 <- mean(ford$hwy)\n",
    "h2"
   ]
  },
  {
   "cell_type": "code",
   "execution_count": 49,
   "id": "605d32bb",
   "metadata": {},
   "outputs": [
    {
     "data": {
      "text/html": [
       "32.5555555555556"
      ],
      "text/latex": [
       "32.5555555555556"
      ],
      "text/markdown": [
       "32.5555555555556"
      ],
      "text/plain": [
       "[1] 32.55556"
      ]
     },
     "metadata": {},
     "output_type": "display_data"
    }
   ],
   "source": [
    "h3 <- mean(honda$hwy)\n",
    "h3"
   ]
  },
  {
   "cell_type": "code",
   "execution_count": 52,
   "id": "ee6231b2",
   "metadata": {},
   "outputs": [
    {
     "data": {
      "text/html": [
       "52.1065886939571"
      ],
      "text/latex": [
       "52.1065886939571"
      ],
      "text/markdown": [
       "52.1065886939571"
      ],
      "text/plain": [
       "[1] 52.10659"
      ]
     },
     "metadata": {},
     "output_type": "display_data"
    }
   ],
   "source": [
    "h1+h2+h3 /3"
   ]
  },
  {
   "cell_type": "markdown",
   "id": "3b73a777",
   "metadata": {},
   "source": [
    "## 필요한 변수만 추출하기\n"
   ]
  },
  {
   "cell_type": "code",
   "execution_count": 7,
   "id": "26eea1ef",
   "metadata": {},
   "outputs": [
    {
     "data": {
      "text/html": [
       "<table>\n",
       "<thead><tr><th scope=col>math</th></tr></thead>\n",
       "<tbody>\n",
       "\t<tr><td>50</td></tr>\n",
       "\t<tr><td>60</td></tr>\n",
       "\t<tr><td>45</td></tr>\n",
       "\t<tr><td>30</td></tr>\n",
       "\t<tr><td>25</td></tr>\n",
       "\t<tr><td>50</td></tr>\n",
       "\t<tr><td>80</td></tr>\n",
       "\t<tr><td>90</td></tr>\n",
       "\t<tr><td>20</td></tr>\n",
       "\t<tr><td>50</td></tr>\n",
       "\t<tr><td>65</td></tr>\n",
       "\t<tr><td>45</td></tr>\n",
       "\t<tr><td>46</td></tr>\n",
       "\t<tr><td>48</td></tr>\n",
       "\t<tr><td>75</td></tr>\n",
       "\t<tr><td>58</td></tr>\n",
       "\t<tr><td>65</td></tr>\n",
       "\t<tr><td>80</td></tr>\n",
       "\t<tr><td>89</td></tr>\n",
       "\t<tr><td>78</td></tr>\n",
       "</tbody>\n",
       "</table>\n"
      ],
      "text/latex": [
       "\\begin{tabular}{r|l}\n",
       " math\\\\\n",
       "\\hline\n",
       "\t 50\\\\\n",
       "\t 60\\\\\n",
       "\t 45\\\\\n",
       "\t 30\\\\\n",
       "\t 25\\\\\n",
       "\t 50\\\\\n",
       "\t 80\\\\\n",
       "\t 90\\\\\n",
       "\t 20\\\\\n",
       "\t 50\\\\\n",
       "\t 65\\\\\n",
       "\t 45\\\\\n",
       "\t 46\\\\\n",
       "\t 48\\\\\n",
       "\t 75\\\\\n",
       "\t 58\\\\\n",
       "\t 65\\\\\n",
       "\t 80\\\\\n",
       "\t 89\\\\\n",
       "\t 78\\\\\n",
       "\\end{tabular}\n"
      ],
      "text/markdown": [
       "\n",
       "| math |\n",
       "|---|\n",
       "| 50 |\n",
       "| 60 |\n",
       "| 45 |\n",
       "| 30 |\n",
       "| 25 |\n",
       "| 50 |\n",
       "| 80 |\n",
       "| 90 |\n",
       "| 20 |\n",
       "| 50 |\n",
       "| 65 |\n",
       "| 45 |\n",
       "| 46 |\n",
       "| 48 |\n",
       "| 75 |\n",
       "| 58 |\n",
       "| 65 |\n",
       "| 80 |\n",
       "| 89 |\n",
       "| 78 |\n",
       "\n"
      ],
      "text/plain": [
       "   math\n",
       "1  50  \n",
       "2  60  \n",
       "3  45  \n",
       "4  30  \n",
       "5  25  \n",
       "6  50  \n",
       "7  80  \n",
       "8  90  \n",
       "9  20  \n",
       "10 50  \n",
       "11 65  \n",
       "12 45  \n",
       "13 46  \n",
       "14 48  \n",
       "15 75  \n",
       "16 58  \n",
       "17 65  \n",
       "18 80  \n",
       "19 89  \n",
       "20 78  "
      ]
     },
     "metadata": {},
     "output_type": "display_data"
    }
   ],
   "source": [
    "# exam 데이터에서 math 추출\n",
    "exam %>% select(math)\n",
    "\n",
    "#select 함수를 사용하면 해당 열 이름만 추출할 수 있다."
   ]
  },
  {
   "cell_type": "markdown",
   "id": "672decbc",
   "metadata": {},
   "source": [
    "## 여러 변수 추출"
   ]
  },
  {
   "cell_type": "code",
   "execution_count": 8,
   "id": "af0cfc45",
   "metadata": {},
   "outputs": [
    {
     "data": {
      "text/html": [
       "<table>\n",
       "<thead><tr><th scope=col>class</th><th scope=col>math</th><th scope=col>english</th></tr></thead>\n",
       "<tbody>\n",
       "\t<tr><td>1 </td><td>50</td><td>98</td></tr>\n",
       "\t<tr><td>1 </td><td>60</td><td>97</td></tr>\n",
       "\t<tr><td>1 </td><td>45</td><td>86</td></tr>\n",
       "\t<tr><td>1 </td><td>30</td><td>98</td></tr>\n",
       "\t<tr><td>2 </td><td>25</td><td>80</td></tr>\n",
       "\t<tr><td>2 </td><td>50</td><td>89</td></tr>\n",
       "\t<tr><td>2 </td><td>80</td><td>90</td></tr>\n",
       "\t<tr><td>2 </td><td>90</td><td>78</td></tr>\n",
       "\t<tr><td>3 </td><td>20</td><td>98</td></tr>\n",
       "\t<tr><td>3 </td><td>50</td><td>98</td></tr>\n",
       "\t<tr><td>3 </td><td>65</td><td>65</td></tr>\n",
       "\t<tr><td>3 </td><td>45</td><td>85</td></tr>\n",
       "\t<tr><td>4 </td><td>46</td><td>98</td></tr>\n",
       "\t<tr><td>4 </td><td>48</td><td>87</td></tr>\n",
       "\t<tr><td>4 </td><td>75</td><td>56</td></tr>\n",
       "\t<tr><td>4 </td><td>58</td><td>98</td></tr>\n",
       "\t<tr><td>5 </td><td>65</td><td>68</td></tr>\n",
       "\t<tr><td>5 </td><td>80</td><td>78</td></tr>\n",
       "\t<tr><td>5 </td><td>89</td><td>68</td></tr>\n",
       "\t<tr><td>5 </td><td>78</td><td>83</td></tr>\n",
       "</tbody>\n",
       "</table>\n"
      ],
      "text/latex": [
       "\\begin{tabular}{r|lll}\n",
       " class & math & english\\\\\n",
       "\\hline\n",
       "\t 1  & 50 & 98\\\\\n",
       "\t 1  & 60 & 97\\\\\n",
       "\t 1  & 45 & 86\\\\\n",
       "\t 1  & 30 & 98\\\\\n",
       "\t 2  & 25 & 80\\\\\n",
       "\t 2  & 50 & 89\\\\\n",
       "\t 2  & 80 & 90\\\\\n",
       "\t 2  & 90 & 78\\\\\n",
       "\t 3  & 20 & 98\\\\\n",
       "\t 3  & 50 & 98\\\\\n",
       "\t 3  & 65 & 65\\\\\n",
       "\t 3  & 45 & 85\\\\\n",
       "\t 4  & 46 & 98\\\\\n",
       "\t 4  & 48 & 87\\\\\n",
       "\t 4  & 75 & 56\\\\\n",
       "\t 4  & 58 & 98\\\\\n",
       "\t 5  & 65 & 68\\\\\n",
       "\t 5  & 80 & 78\\\\\n",
       "\t 5  & 89 & 68\\\\\n",
       "\t 5  & 78 & 83\\\\\n",
       "\\end{tabular}\n"
      ],
      "text/markdown": [
       "\n",
       "| class | math | english |\n",
       "|---|---|---|\n",
       "| 1  | 50 | 98 |\n",
       "| 1  | 60 | 97 |\n",
       "| 1  | 45 | 86 |\n",
       "| 1  | 30 | 98 |\n",
       "| 2  | 25 | 80 |\n",
       "| 2  | 50 | 89 |\n",
       "| 2  | 80 | 90 |\n",
       "| 2  | 90 | 78 |\n",
       "| 3  | 20 | 98 |\n",
       "| 3  | 50 | 98 |\n",
       "| 3  | 65 | 65 |\n",
       "| 3  | 45 | 85 |\n",
       "| 4  | 46 | 98 |\n",
       "| 4  | 48 | 87 |\n",
       "| 4  | 75 | 56 |\n",
       "| 4  | 58 | 98 |\n",
       "| 5  | 65 | 68 |\n",
       "| 5  | 80 | 78 |\n",
       "| 5  | 89 | 68 |\n",
       "| 5  | 78 | 83 |\n",
       "\n"
      ],
      "text/plain": [
       "   class math english\n",
       "1  1     50   98     \n",
       "2  1     60   97     \n",
       "3  1     45   86     \n",
       "4  1     30   98     \n",
       "5  2     25   80     \n",
       "6  2     50   89     \n",
       "7  2     80   90     \n",
       "8  2     90   78     \n",
       "9  3     20   98     \n",
       "10 3     50   98     \n",
       "11 3     65   65     \n",
       "12 3     45   85     \n",
       "13 4     46   98     \n",
       "14 4     48   87     \n",
       "15 4     75   56     \n",
       "16 4     58   98     \n",
       "17 5     65   68     \n",
       "18 5     80   78     \n",
       "19 5     89   68     \n",
       "20 5     78   83     "
      ]
     },
     "metadata": {},
     "output_type": "display_data"
    }
   ],
   "source": [
    "# class, math, english 변수 추출\n",
    "exam %>% select(class, math, english)"
   ]
  },
  {
   "cell_type": "markdown",
   "id": "a934dc31",
   "metadata": {},
   "source": [
    "## 변수 제외하기"
   ]
  },
  {
   "cell_type": "code",
   "execution_count": 9,
   "id": "6bb52b49",
   "metadata": {},
   "outputs": [
    {
     "data": {
      "text/html": [
       "<table>\n",
       "<thead><tr><th scope=col>id</th><th scope=col>class</th><th scope=col>science</th></tr></thead>\n",
       "<tbody>\n",
       "\t<tr><td> 1</td><td>1 </td><td>50</td></tr>\n",
       "\t<tr><td> 2</td><td>1 </td><td>60</td></tr>\n",
       "\t<tr><td> 3</td><td>1 </td><td>78</td></tr>\n",
       "\t<tr><td> 4</td><td>1 </td><td>58</td></tr>\n",
       "\t<tr><td> 5</td><td>2 </td><td>65</td></tr>\n",
       "\t<tr><td> 6</td><td>2 </td><td>98</td></tr>\n",
       "\t<tr><td> 7</td><td>2 </td><td>45</td></tr>\n",
       "\t<tr><td> 8</td><td>2 </td><td>25</td></tr>\n",
       "\t<tr><td> 9</td><td>3 </td><td>15</td></tr>\n",
       "\t<tr><td>10</td><td>3 </td><td>45</td></tr>\n",
       "\t<tr><td>11</td><td>3 </td><td>65</td></tr>\n",
       "\t<tr><td>12</td><td>3 </td><td>32</td></tr>\n",
       "\t<tr><td>13</td><td>4 </td><td>65</td></tr>\n",
       "\t<tr><td>14</td><td>4 </td><td>12</td></tr>\n",
       "\t<tr><td>15</td><td>4 </td><td>78</td></tr>\n",
       "\t<tr><td>16</td><td>4 </td><td>65</td></tr>\n",
       "\t<tr><td>17</td><td>5 </td><td>98</td></tr>\n",
       "\t<tr><td>18</td><td>5 </td><td>90</td></tr>\n",
       "\t<tr><td>19</td><td>5 </td><td>87</td></tr>\n",
       "\t<tr><td>20</td><td>5 </td><td>58</td></tr>\n",
       "</tbody>\n",
       "</table>\n"
      ],
      "text/latex": [
       "\\begin{tabular}{r|lll}\n",
       " id & class & science\\\\\n",
       "\\hline\n",
       "\t  1 & 1  & 50\\\\\n",
       "\t  2 & 1  & 60\\\\\n",
       "\t  3 & 1  & 78\\\\\n",
       "\t  4 & 1  & 58\\\\\n",
       "\t  5 & 2  & 65\\\\\n",
       "\t  6 & 2  & 98\\\\\n",
       "\t  7 & 2  & 45\\\\\n",
       "\t  8 & 2  & 25\\\\\n",
       "\t  9 & 3  & 15\\\\\n",
       "\t 10 & 3  & 45\\\\\n",
       "\t 11 & 3  & 65\\\\\n",
       "\t 12 & 3  & 32\\\\\n",
       "\t 13 & 4  & 65\\\\\n",
       "\t 14 & 4  & 12\\\\\n",
       "\t 15 & 4  & 78\\\\\n",
       "\t 16 & 4  & 65\\\\\n",
       "\t 17 & 5  & 98\\\\\n",
       "\t 18 & 5  & 90\\\\\n",
       "\t 19 & 5  & 87\\\\\n",
       "\t 20 & 5  & 58\\\\\n",
       "\\end{tabular}\n"
      ],
      "text/markdown": [
       "\n",
       "| id | class | science |\n",
       "|---|---|---|\n",
       "|  1 | 1  | 50 |\n",
       "|  2 | 1  | 60 |\n",
       "|  3 | 1  | 78 |\n",
       "|  4 | 1  | 58 |\n",
       "|  5 | 2  | 65 |\n",
       "|  6 | 2  | 98 |\n",
       "|  7 | 2  | 45 |\n",
       "|  8 | 2  | 25 |\n",
       "|  9 | 3  | 15 |\n",
       "| 10 | 3  | 45 |\n",
       "| 11 | 3  | 65 |\n",
       "| 12 | 3  | 32 |\n",
       "| 13 | 4  | 65 |\n",
       "| 14 | 4  | 12 |\n",
       "| 15 | 4  | 78 |\n",
       "| 16 | 4  | 65 |\n",
       "| 17 | 5  | 98 |\n",
       "| 18 | 5  | 90 |\n",
       "| 19 | 5  | 87 |\n",
       "| 20 | 5  | 58 |\n",
       "\n"
      ],
      "text/plain": [
       "   id class science\n",
       "1   1 1     50     \n",
       "2   2 1     60     \n",
       "3   3 1     78     \n",
       "4   4 1     58     \n",
       "5   5 2     65     \n",
       "6   6 2     98     \n",
       "7   7 2     45     \n",
       "8   8 2     25     \n",
       "9   9 3     15     \n",
       "10 10 3     45     \n",
       "11 11 3     65     \n",
       "12 12 3     32     \n",
       "13 13 4     65     \n",
       "14 14 4     12     \n",
       "15 15 4     78     \n",
       "16 16 4     65     \n",
       "17 17 5     98     \n",
       "18 18 5     90     \n",
       "19 19 5     87     \n",
       "20 20 5     58     "
      ]
     },
     "metadata": {},
     "output_type": "display_data"
    }
   ],
   "source": [
    "# 필요없는 변수만 제외\n",
    "#math, english 제외\n",
    "exam %>% select(-math, -english)"
   ]
  },
  {
   "cell_type": "markdown",
   "id": "55b99dde",
   "metadata": {},
   "source": [
    "## dplyr 함수 조합\n",
    " - 파이프연산자를 사용하는 이유는 함수끼리 연결을 시킬때 엄청 유용하기 때문이다."
   ]
  },
  {
   "cell_type": "code",
   "execution_count": 11,
   "id": "a8cba632",
   "metadata": {},
   "outputs": [
    {
     "data": {
      "text/html": [
       "<table>\n",
       "<thead><tr><th scope=col>english</th></tr></thead>\n",
       "<tbody>\n",
       "\t<tr><td>98</td></tr>\n",
       "\t<tr><td>97</td></tr>\n",
       "\t<tr><td>86</td></tr>\n",
       "\t<tr><td>98</td></tr>\n",
       "</tbody>\n",
       "</table>\n"
      ],
      "text/latex": [
       "\\begin{tabular}{r|l}\n",
       " english\\\\\n",
       "\\hline\n",
       "\t 98\\\\\n",
       "\t 97\\\\\n",
       "\t 86\\\\\n",
       "\t 98\\\\\n",
       "\\end{tabular}\n"
      ],
      "text/markdown": [
       "\n",
       "| english |\n",
       "|---|\n",
       "| 98 |\n",
       "| 97 |\n",
       "| 86 |\n",
       "| 98 |\n",
       "\n"
      ],
      "text/plain": [
       "  english\n",
       "1 98     \n",
       "2 97     \n",
       "3 86     \n",
       "4 98     "
      ]
     },
     "metadata": {},
     "output_type": "display_data"
    }
   ],
   "source": [
    "# class 가 1인 행에서 english 추출\n",
    "exam %>% \n",
    "    filter(class ==1) %>% \n",
    "    select(english)"
   ]
  },
  {
   "cell_type": "code",
   "execution_count": 12,
   "id": "924e80ad",
   "metadata": {},
   "outputs": [
    {
     "data": {
      "text/html": [
       "<table>\n",
       "<thead><tr><th scope=col>id</th><th scope=col>math</th></tr></thead>\n",
       "<tbody>\n",
       "\t<tr><td>1 </td><td>50</td></tr>\n",
       "\t<tr><td>2 </td><td>60</td></tr>\n",
       "\t<tr><td>3 </td><td>45</td></tr>\n",
       "\t<tr><td>4 </td><td>30</td></tr>\n",
       "\t<tr><td>5 </td><td>25</td></tr>\n",
       "\t<tr><td>6 </td><td>50</td></tr>\n",
       "</tbody>\n",
       "</table>\n"
      ],
      "text/latex": [
       "\\begin{tabular}{r|ll}\n",
       " id & math\\\\\n",
       "\\hline\n",
       "\t 1  & 50\\\\\n",
       "\t 2  & 60\\\\\n",
       "\t 3  & 45\\\\\n",
       "\t 4  & 30\\\\\n",
       "\t 5  & 25\\\\\n",
       "\t 6  & 50\\\\\n",
       "\\end{tabular}\n"
      ],
      "text/markdown": [
       "\n",
       "| id | math |\n",
       "|---|---|\n",
       "| 1  | 50 |\n",
       "| 2  | 60 |\n",
       "| 3  | 45 |\n",
       "| 4  | 30 |\n",
       "| 5  | 25 |\n",
       "| 6  | 50 |\n",
       "\n"
      ],
      "text/plain": [
       "  id math\n",
       "1 1  50  \n",
       "2 2  60  \n",
       "3 3  45  \n",
       "4 4  30  \n",
       "5 5  25  \n",
       "6 6  50  "
      ]
     },
     "metadata": {},
     "output_type": "display_data"
    }
   ],
   "source": [
    "# 일부만 출력\n",
    "exam %>% \n",
    "    select(id,math) %>%\n",
    "    head()"
   ]
  },
  {
   "cell_type": "markdown",
   "id": "3fe0d556",
   "metadata": {},
   "source": [
    "## mpg 데이터 분석 연습\n",
    "*분석계획* : <br>\n",
    "1. mpg데이터에서 class(자동차 종류), cty(도시 연비) 변수만 추출해 새로운 데이터 생성. <br>\n",
    "2. 자동차 종류에 따라 도시 연비가 다른지 알아보려고 함. class(자동차 종류)가 \"suv\"인 자동차와 \"compact\"인 자동차 중 어떤 자동차의 cty(도시 연비) 평균이 더 높은지 분석."
   ]
  },
  {
   "cell_type": "code",
   "execution_count": 16,
   "id": "22d14130",
   "metadata": {},
   "outputs": [
    {
     "data": {
      "text/html": [
       "<table>\n",
       "<thead><tr><th scope=col>class</th><th scope=col>cty</th></tr></thead>\n",
       "<tbody>\n",
       "\t<tr><td>compact</td><td>18     </td></tr>\n",
       "\t<tr><td>compact</td><td>21     </td></tr>\n",
       "\t<tr><td>compact</td><td>20     </td></tr>\n",
       "\t<tr><td>compact</td><td>21     </td></tr>\n",
       "\t<tr><td>compact</td><td>16     </td></tr>\n",
       "\t<tr><td>compact</td><td>18     </td></tr>\n",
       "\t<tr><td>compact</td><td>18     </td></tr>\n",
       "\t<tr><td>compact</td><td>18     </td></tr>\n",
       "\t<tr><td>compact</td><td>16     </td></tr>\n",
       "\t<tr><td>compact</td><td>20     </td></tr>\n",
       "\t<tr><td>compact</td><td>19     </td></tr>\n",
       "\t<tr><td>compact</td><td>15     </td></tr>\n",
       "\t<tr><td>compact</td><td>17     </td></tr>\n",
       "\t<tr><td>compact</td><td>17     </td></tr>\n",
       "\t<tr><td>compact</td><td>15     </td></tr>\n",
       "\t<tr><td>midsize</td><td>15     </td></tr>\n",
       "\t<tr><td>midsize</td><td>17     </td></tr>\n",
       "\t<tr><td>midsize</td><td>16     </td></tr>\n",
       "\t<tr><td>suv    </td><td>14     </td></tr>\n",
       "\t<tr><td>suv    </td><td>11     </td></tr>\n",
       "\t<tr><td>suv    </td><td>14     </td></tr>\n",
       "\t<tr><td>suv    </td><td>13     </td></tr>\n",
       "\t<tr><td>suv    </td><td>12     </td></tr>\n",
       "\t<tr><td>2seater</td><td>16     </td></tr>\n",
       "\t<tr><td>2seater</td><td>15     </td></tr>\n",
       "\t<tr><td>2seater</td><td>16     </td></tr>\n",
       "\t<tr><td>2seater</td><td>15     </td></tr>\n",
       "\t<tr><td>2seater</td><td>15     </td></tr>\n",
       "\t<tr><td>suv    </td><td>14     </td></tr>\n",
       "\t<tr><td>suv    </td><td>11     </td></tr>\n",
       "\t<tr><td>...</td><td>...</td></tr>\n",
       "\t<tr><td>pickup    </td><td>15        </td></tr>\n",
       "\t<tr><td>pickup    </td><td>15        </td></tr>\n",
       "\t<tr><td>pickup    </td><td>16        </td></tr>\n",
       "\t<tr><td>compact   </td><td>21        </td></tr>\n",
       "\t<tr><td>compact   </td><td>19        </td></tr>\n",
       "\t<tr><td>compact   </td><td>21        </td></tr>\n",
       "\t<tr><td>compact   </td><td>22        </td></tr>\n",
       "\t<tr><td>compact   </td><td>17        </td></tr>\n",
       "\t<tr><td>compact   </td><td>33        </td></tr>\n",
       "\t<tr><td>compact   </td><td>21        </td></tr>\n",
       "\t<tr><td>compact   </td><td>19        </td></tr>\n",
       "\t<tr><td>compact   </td><td>22        </td></tr>\n",
       "\t<tr><td>compact   </td><td>21        </td></tr>\n",
       "\t<tr><td>compact   </td><td>21        </td></tr>\n",
       "\t<tr><td>compact   </td><td>21        </td></tr>\n",
       "\t<tr><td>compact   </td><td>16        </td></tr>\n",
       "\t<tr><td>compact   </td><td>17        </td></tr>\n",
       "\t<tr><td>subcompact</td><td>35        </td></tr>\n",
       "\t<tr><td>subcompact</td><td>29        </td></tr>\n",
       "\t<tr><td>subcompact</td><td>21        </td></tr>\n",
       "\t<tr><td>subcompact</td><td>19        </td></tr>\n",
       "\t<tr><td>subcompact</td><td>20        </td></tr>\n",
       "\t<tr><td>subcompact</td><td>20        </td></tr>\n",
       "\t<tr><td>midsize   </td><td>21        </td></tr>\n",
       "\t<tr><td>midsize   </td><td>18        </td></tr>\n",
       "\t<tr><td>midsize   </td><td>19        </td></tr>\n",
       "\t<tr><td>midsize   </td><td>21        </td></tr>\n",
       "\t<tr><td>midsize   </td><td>16        </td></tr>\n",
       "\t<tr><td>midsize   </td><td>18        </td></tr>\n",
       "\t<tr><td>midsize   </td><td>17        </td></tr>\n",
       "</tbody>\n",
       "</table>\n"
      ],
      "text/latex": [
       "\\begin{tabular}{r|ll}\n",
       " class & cty\\\\\n",
       "\\hline\n",
       "\t compact & 18     \\\\\n",
       "\t compact & 21     \\\\\n",
       "\t compact & 20     \\\\\n",
       "\t compact & 21     \\\\\n",
       "\t compact & 16     \\\\\n",
       "\t compact & 18     \\\\\n",
       "\t compact & 18     \\\\\n",
       "\t compact & 18     \\\\\n",
       "\t compact & 16     \\\\\n",
       "\t compact & 20     \\\\\n",
       "\t compact & 19     \\\\\n",
       "\t compact & 15     \\\\\n",
       "\t compact & 17     \\\\\n",
       "\t compact & 17     \\\\\n",
       "\t compact & 15     \\\\\n",
       "\t midsize & 15     \\\\\n",
       "\t midsize & 17     \\\\\n",
       "\t midsize & 16     \\\\\n",
       "\t suv     & 14     \\\\\n",
       "\t suv     & 11     \\\\\n",
       "\t suv     & 14     \\\\\n",
       "\t suv     & 13     \\\\\n",
       "\t suv     & 12     \\\\\n",
       "\t 2seater & 16     \\\\\n",
       "\t 2seater & 15     \\\\\n",
       "\t 2seater & 16     \\\\\n",
       "\t 2seater & 15     \\\\\n",
       "\t 2seater & 15     \\\\\n",
       "\t suv     & 14     \\\\\n",
       "\t suv     & 11     \\\\\n",
       "\t ... & ...\\\\\n",
       "\t pickup     & 15        \\\\\n",
       "\t pickup     & 15        \\\\\n",
       "\t pickup     & 16        \\\\\n",
       "\t compact    & 21        \\\\\n",
       "\t compact    & 19        \\\\\n",
       "\t compact    & 21        \\\\\n",
       "\t compact    & 22        \\\\\n",
       "\t compact    & 17        \\\\\n",
       "\t compact    & 33        \\\\\n",
       "\t compact    & 21        \\\\\n",
       "\t compact    & 19        \\\\\n",
       "\t compact    & 22        \\\\\n",
       "\t compact    & 21        \\\\\n",
       "\t compact    & 21        \\\\\n",
       "\t compact    & 21        \\\\\n",
       "\t compact    & 16        \\\\\n",
       "\t compact    & 17        \\\\\n",
       "\t subcompact & 35        \\\\\n",
       "\t subcompact & 29        \\\\\n",
       "\t subcompact & 21        \\\\\n",
       "\t subcompact & 19        \\\\\n",
       "\t subcompact & 20        \\\\\n",
       "\t subcompact & 20        \\\\\n",
       "\t midsize    & 21        \\\\\n",
       "\t midsize    & 18        \\\\\n",
       "\t midsize    & 19        \\\\\n",
       "\t midsize    & 21        \\\\\n",
       "\t midsize    & 16        \\\\\n",
       "\t midsize    & 18        \\\\\n",
       "\t midsize    & 17        \\\\\n",
       "\\end{tabular}\n"
      ],
      "text/markdown": [
       "\n",
       "| class | cty |\n",
       "|---|---|\n",
       "| compact | 18      |\n",
       "| compact | 21      |\n",
       "| compact | 20      |\n",
       "| compact | 21      |\n",
       "| compact | 16      |\n",
       "| compact | 18      |\n",
       "| compact | 18      |\n",
       "| compact | 18      |\n",
       "| compact | 16      |\n",
       "| compact | 20      |\n",
       "| compact | 19      |\n",
       "| compact | 15      |\n",
       "| compact | 17      |\n",
       "| compact | 17      |\n",
       "| compact | 15      |\n",
       "| midsize | 15      |\n",
       "| midsize | 17      |\n",
       "| midsize | 16      |\n",
       "| suv     | 14      |\n",
       "| suv     | 11      |\n",
       "| suv     | 14      |\n",
       "| suv     | 13      |\n",
       "| suv     | 12      |\n",
       "| 2seater | 16      |\n",
       "| 2seater | 15      |\n",
       "| 2seater | 16      |\n",
       "| 2seater | 15      |\n",
       "| 2seater | 15      |\n",
       "| suv     | 14      |\n",
       "| suv     | 11      |\n",
       "| ... | ... |\n",
       "| pickup     | 15         |\n",
       "| pickup     | 15         |\n",
       "| pickup     | 16         |\n",
       "| compact    | 21         |\n",
       "| compact    | 19         |\n",
       "| compact    | 21         |\n",
       "| compact    | 22         |\n",
       "| compact    | 17         |\n",
       "| compact    | 33         |\n",
       "| compact    | 21         |\n",
       "| compact    | 19         |\n",
       "| compact    | 22         |\n",
       "| compact    | 21         |\n",
       "| compact    | 21         |\n",
       "| compact    | 21         |\n",
       "| compact    | 16         |\n",
       "| compact    | 17         |\n",
       "| subcompact | 35         |\n",
       "| subcompact | 29         |\n",
       "| subcompact | 21         |\n",
       "| subcompact | 19         |\n",
       "| subcompact | 20         |\n",
       "| subcompact | 20         |\n",
       "| midsize    | 21         |\n",
       "| midsize    | 18         |\n",
       "| midsize    | 19         |\n",
       "| midsize    | 21         |\n",
       "| midsize    | 16         |\n",
       "| midsize    | 18         |\n",
       "| midsize    | 17         |\n",
       "\n"
      ],
      "text/plain": [
       "    class      cty\n",
       "1   compact    18 \n",
       "2   compact    21 \n",
       "3   compact    20 \n",
       "4   compact    21 \n",
       "5   compact    16 \n",
       "6   compact    18 \n",
       "7   compact    18 \n",
       "8   compact    18 \n",
       "9   compact    16 \n",
       "10  compact    20 \n",
       "11  compact    19 \n",
       "12  compact    15 \n",
       "13  compact    17 \n",
       "14  compact    17 \n",
       "15  compact    15 \n",
       "16  midsize    15 \n",
       "17  midsize    17 \n",
       "18  midsize    16 \n",
       "19  suv        14 \n",
       "20  suv        11 \n",
       "21  suv        14 \n",
       "22  suv        13 \n",
       "23  suv        12 \n",
       "24  2seater    16 \n",
       "25  2seater    15 \n",
       "26  2seater    16 \n",
       "27  2seater    15 \n",
       "28  2seater    15 \n",
       "29  suv        14 \n",
       "30  suv        11 \n",
       "... ...        ...\n",
       "205 pickup     15 \n",
       "206 pickup     15 \n",
       "207 pickup     16 \n",
       "208 compact    21 \n",
       "209 compact    19 \n",
       "210 compact    21 \n",
       "211 compact    22 \n",
       "212 compact    17 \n",
       "213 compact    33 \n",
       "214 compact    21 \n",
       "215 compact    19 \n",
       "216 compact    22 \n",
       "217 compact    21 \n",
       "218 compact    21 \n",
       "219 compact    21 \n",
       "220 compact    16 \n",
       "221 compact    17 \n",
       "222 subcompact 35 \n",
       "223 subcompact 29 \n",
       "224 subcompact 21 \n",
       "225 subcompact 19 \n",
       "226 subcompact 20 \n",
       "227 subcompact 20 \n",
       "228 midsize    21 \n",
       "229 midsize    18 \n",
       "230 midsize    19 \n",
       "231 midsize    21 \n",
       "232 midsize    16 \n",
       "233 midsize    18 \n",
       "234 midsize    17 "
      ]
     },
     "metadata": {},
     "output_type": "display_data"
    }
   ],
   "source": [
    "mpg %>%\n",
    "    select(class, cty)"
   ]
  },
  {
   "cell_type": "code",
   "execution_count": 23,
   "id": "9ff3aaa6",
   "metadata": {},
   "outputs": [
    {
     "data": {
      "text/html": [
       "13.5"
      ],
      "text/latex": [
       "13.5"
      ],
      "text/markdown": [
       "13.5"
      ],
      "text/plain": [
       "[1] 13.5"
      ]
     },
     "metadata": {},
     "output_type": "display_data"
    }
   ],
   "source": [
    "#자동차 종류에 따라 도시 연비가 다른지 알아보려고 함. \n",
    "#class(자동차 종류)가 \"suv\"인 자동차와 \"compact\"인 자동차 중 \n",
    "#어떤 자동차의 cty(도시 연비) 평균이 더 높은지 분석.\n",
    "suv <- mpg %>% filter(class == \"suv\")\n",
    "ct1<-mean(suv$cty)\n",
    "ct1"
   ]
  },
  {
   "cell_type": "code",
   "execution_count": 22,
   "id": "b9ce5917",
   "metadata": {},
   "outputs": [
    {
     "data": {
      "text/html": [
       "20.1276595744681"
      ],
      "text/latex": [
       "20.1276595744681"
      ],
      "text/markdown": [
       "20.1276595744681"
      ],
      "text/plain": [
       "[1] 20.12766"
      ]
     },
     "metadata": {},
     "output_type": "display_data"
    }
   ],
   "source": [
    "compact <- mpg %>% filter(class == \"compact\")\n",
    "ct2<- mean(compact$cty)\n",
    "ct2"
   ]
  },
  {
   "cell_type": "markdown",
   "id": "6fec1a23",
   "metadata": {},
   "source": [
    "## 정렬"
   ]
  },
  {
   "cell_type": "code",
   "execution_count": 24,
   "id": "957702ee",
   "metadata": {},
   "outputs": [
    {
     "data": {
      "text/html": [
       "<table>\n",
       "<thead><tr><th scope=col>id</th><th scope=col>class</th><th scope=col>math</th><th scope=col>english</th><th scope=col>science</th></tr></thead>\n",
       "<tbody>\n",
       "\t<tr><td> 9</td><td>3 </td><td>20</td><td>98</td><td>15</td></tr>\n",
       "\t<tr><td> 5</td><td>2 </td><td>25</td><td>80</td><td>65</td></tr>\n",
       "\t<tr><td> 4</td><td>1 </td><td>30</td><td>98</td><td>58</td></tr>\n",
       "\t<tr><td> 3</td><td>1 </td><td>45</td><td>86</td><td>78</td></tr>\n",
       "\t<tr><td>12</td><td>3 </td><td>45</td><td>85</td><td>32</td></tr>\n",
       "\t<tr><td>13</td><td>4 </td><td>46</td><td>98</td><td>65</td></tr>\n",
       "\t<tr><td>14</td><td>4 </td><td>48</td><td>87</td><td>12</td></tr>\n",
       "\t<tr><td> 1</td><td>1 </td><td>50</td><td>98</td><td>50</td></tr>\n",
       "\t<tr><td> 6</td><td>2 </td><td>50</td><td>89</td><td>98</td></tr>\n",
       "\t<tr><td>10</td><td>3 </td><td>50</td><td>98</td><td>45</td></tr>\n",
       "\t<tr><td>16</td><td>4 </td><td>58</td><td>98</td><td>65</td></tr>\n",
       "\t<tr><td> 2</td><td>1 </td><td>60</td><td>97</td><td>60</td></tr>\n",
       "\t<tr><td>11</td><td>3 </td><td>65</td><td>65</td><td>65</td></tr>\n",
       "\t<tr><td>17</td><td>5 </td><td>65</td><td>68</td><td>98</td></tr>\n",
       "\t<tr><td>15</td><td>4 </td><td>75</td><td>56</td><td>78</td></tr>\n",
       "\t<tr><td>20</td><td>5 </td><td>78</td><td>83</td><td>58</td></tr>\n",
       "\t<tr><td> 7</td><td>2 </td><td>80</td><td>90</td><td>45</td></tr>\n",
       "\t<tr><td>18</td><td>5 </td><td>80</td><td>78</td><td>90</td></tr>\n",
       "\t<tr><td>19</td><td>5 </td><td>89</td><td>68</td><td>87</td></tr>\n",
       "\t<tr><td> 8</td><td>2 </td><td>90</td><td>78</td><td>25</td></tr>\n",
       "</tbody>\n",
       "</table>\n"
      ],
      "text/latex": [
       "\\begin{tabular}{r|lllll}\n",
       " id & class & math & english & science\\\\\n",
       "\\hline\n",
       "\t  9 & 3  & 20 & 98 & 15\\\\\n",
       "\t  5 & 2  & 25 & 80 & 65\\\\\n",
       "\t  4 & 1  & 30 & 98 & 58\\\\\n",
       "\t  3 & 1  & 45 & 86 & 78\\\\\n",
       "\t 12 & 3  & 45 & 85 & 32\\\\\n",
       "\t 13 & 4  & 46 & 98 & 65\\\\\n",
       "\t 14 & 4  & 48 & 87 & 12\\\\\n",
       "\t  1 & 1  & 50 & 98 & 50\\\\\n",
       "\t  6 & 2  & 50 & 89 & 98\\\\\n",
       "\t 10 & 3  & 50 & 98 & 45\\\\\n",
       "\t 16 & 4  & 58 & 98 & 65\\\\\n",
       "\t  2 & 1  & 60 & 97 & 60\\\\\n",
       "\t 11 & 3  & 65 & 65 & 65\\\\\n",
       "\t 17 & 5  & 65 & 68 & 98\\\\\n",
       "\t 15 & 4  & 75 & 56 & 78\\\\\n",
       "\t 20 & 5  & 78 & 83 & 58\\\\\n",
       "\t  7 & 2  & 80 & 90 & 45\\\\\n",
       "\t 18 & 5  & 80 & 78 & 90\\\\\n",
       "\t 19 & 5  & 89 & 68 & 87\\\\\n",
       "\t  8 & 2  & 90 & 78 & 25\\\\\n",
       "\\end{tabular}\n"
      ],
      "text/markdown": [
       "\n",
       "| id | class | math | english | science |\n",
       "|---|---|---|---|---|\n",
       "|  9 | 3  | 20 | 98 | 15 |\n",
       "|  5 | 2  | 25 | 80 | 65 |\n",
       "|  4 | 1  | 30 | 98 | 58 |\n",
       "|  3 | 1  | 45 | 86 | 78 |\n",
       "| 12 | 3  | 45 | 85 | 32 |\n",
       "| 13 | 4  | 46 | 98 | 65 |\n",
       "| 14 | 4  | 48 | 87 | 12 |\n",
       "|  1 | 1  | 50 | 98 | 50 |\n",
       "|  6 | 2  | 50 | 89 | 98 |\n",
       "| 10 | 3  | 50 | 98 | 45 |\n",
       "| 16 | 4  | 58 | 98 | 65 |\n",
       "|  2 | 1  | 60 | 97 | 60 |\n",
       "| 11 | 3  | 65 | 65 | 65 |\n",
       "| 17 | 5  | 65 | 68 | 98 |\n",
       "| 15 | 4  | 75 | 56 | 78 |\n",
       "| 20 | 5  | 78 | 83 | 58 |\n",
       "|  7 | 2  | 80 | 90 | 45 |\n",
       "| 18 | 5  | 80 | 78 | 90 |\n",
       "| 19 | 5  | 89 | 68 | 87 |\n",
       "|  8 | 2  | 90 | 78 | 25 |\n",
       "\n"
      ],
      "text/plain": [
       "   id class math english science\n",
       "1   9 3     20   98      15     \n",
       "2   5 2     25   80      65     \n",
       "3   4 1     30   98      58     \n",
       "4   3 1     45   86      78     \n",
       "5  12 3     45   85      32     \n",
       "6  13 4     46   98      65     \n",
       "7  14 4     48   87      12     \n",
       "8   1 1     50   98      50     \n",
       "9   6 2     50   89      98     \n",
       "10 10 3     50   98      45     \n",
       "11 16 4     58   98      65     \n",
       "12  2 1     60   97      60     \n",
       "13 11 3     65   65      65     \n",
       "14 17 5     65   68      98     \n",
       "15 15 4     75   56      78     \n",
       "16 20 5     78   83      58     \n",
       "17  7 2     80   90      45     \n",
       "18 18 5     80   78      90     \n",
       "19 19 5     89   68      87     \n",
       "20  8 2     90   78      25     "
      ]
     },
     "metadata": {},
     "output_type": "display_data"
    }
   ],
   "source": [
    "# exam 데이터 math 오름차순 정렬\n",
    "exam %>% arrange(math)"
   ]
  },
  {
   "cell_type": "code",
   "execution_count": 25,
   "id": "9e0f8488",
   "metadata": {},
   "outputs": [
    {
     "data": {
      "text/html": [
       "<table>\n",
       "<thead><tr><th scope=col>id</th><th scope=col>class</th><th scope=col>math</th><th scope=col>english</th><th scope=col>science</th></tr></thead>\n",
       "<tbody>\n",
       "\t<tr><td> 8</td><td>2 </td><td>90</td><td>78</td><td>25</td></tr>\n",
       "\t<tr><td>19</td><td>5 </td><td>89</td><td>68</td><td>87</td></tr>\n",
       "\t<tr><td> 7</td><td>2 </td><td>80</td><td>90</td><td>45</td></tr>\n",
       "\t<tr><td>18</td><td>5 </td><td>80</td><td>78</td><td>90</td></tr>\n",
       "\t<tr><td>20</td><td>5 </td><td>78</td><td>83</td><td>58</td></tr>\n",
       "\t<tr><td>15</td><td>4 </td><td>75</td><td>56</td><td>78</td></tr>\n",
       "\t<tr><td>11</td><td>3 </td><td>65</td><td>65</td><td>65</td></tr>\n",
       "\t<tr><td>17</td><td>5 </td><td>65</td><td>68</td><td>98</td></tr>\n",
       "\t<tr><td> 2</td><td>1 </td><td>60</td><td>97</td><td>60</td></tr>\n",
       "\t<tr><td>16</td><td>4 </td><td>58</td><td>98</td><td>65</td></tr>\n",
       "\t<tr><td> 1</td><td>1 </td><td>50</td><td>98</td><td>50</td></tr>\n",
       "\t<tr><td> 6</td><td>2 </td><td>50</td><td>89</td><td>98</td></tr>\n",
       "\t<tr><td>10</td><td>3 </td><td>50</td><td>98</td><td>45</td></tr>\n",
       "\t<tr><td>14</td><td>4 </td><td>48</td><td>87</td><td>12</td></tr>\n",
       "\t<tr><td>13</td><td>4 </td><td>46</td><td>98</td><td>65</td></tr>\n",
       "\t<tr><td> 3</td><td>1 </td><td>45</td><td>86</td><td>78</td></tr>\n",
       "\t<tr><td>12</td><td>3 </td><td>45</td><td>85</td><td>32</td></tr>\n",
       "\t<tr><td> 4</td><td>1 </td><td>30</td><td>98</td><td>58</td></tr>\n",
       "\t<tr><td> 5</td><td>2 </td><td>25</td><td>80</td><td>65</td></tr>\n",
       "\t<tr><td> 9</td><td>3 </td><td>20</td><td>98</td><td>15</td></tr>\n",
       "</tbody>\n",
       "</table>\n"
      ],
      "text/latex": [
       "\\begin{tabular}{r|lllll}\n",
       " id & class & math & english & science\\\\\n",
       "\\hline\n",
       "\t  8 & 2  & 90 & 78 & 25\\\\\n",
       "\t 19 & 5  & 89 & 68 & 87\\\\\n",
       "\t  7 & 2  & 80 & 90 & 45\\\\\n",
       "\t 18 & 5  & 80 & 78 & 90\\\\\n",
       "\t 20 & 5  & 78 & 83 & 58\\\\\n",
       "\t 15 & 4  & 75 & 56 & 78\\\\\n",
       "\t 11 & 3  & 65 & 65 & 65\\\\\n",
       "\t 17 & 5  & 65 & 68 & 98\\\\\n",
       "\t  2 & 1  & 60 & 97 & 60\\\\\n",
       "\t 16 & 4  & 58 & 98 & 65\\\\\n",
       "\t  1 & 1  & 50 & 98 & 50\\\\\n",
       "\t  6 & 2  & 50 & 89 & 98\\\\\n",
       "\t 10 & 3  & 50 & 98 & 45\\\\\n",
       "\t 14 & 4  & 48 & 87 & 12\\\\\n",
       "\t 13 & 4  & 46 & 98 & 65\\\\\n",
       "\t  3 & 1  & 45 & 86 & 78\\\\\n",
       "\t 12 & 3  & 45 & 85 & 32\\\\\n",
       "\t  4 & 1  & 30 & 98 & 58\\\\\n",
       "\t  5 & 2  & 25 & 80 & 65\\\\\n",
       "\t  9 & 3  & 20 & 98 & 15\\\\\n",
       "\\end{tabular}\n"
      ],
      "text/markdown": [
       "\n",
       "| id | class | math | english | science |\n",
       "|---|---|---|---|---|\n",
       "|  8 | 2  | 90 | 78 | 25 |\n",
       "| 19 | 5  | 89 | 68 | 87 |\n",
       "|  7 | 2  | 80 | 90 | 45 |\n",
       "| 18 | 5  | 80 | 78 | 90 |\n",
       "| 20 | 5  | 78 | 83 | 58 |\n",
       "| 15 | 4  | 75 | 56 | 78 |\n",
       "| 11 | 3  | 65 | 65 | 65 |\n",
       "| 17 | 5  | 65 | 68 | 98 |\n",
       "|  2 | 1  | 60 | 97 | 60 |\n",
       "| 16 | 4  | 58 | 98 | 65 |\n",
       "|  1 | 1  | 50 | 98 | 50 |\n",
       "|  6 | 2  | 50 | 89 | 98 |\n",
       "| 10 | 3  | 50 | 98 | 45 |\n",
       "| 14 | 4  | 48 | 87 | 12 |\n",
       "| 13 | 4  | 46 | 98 | 65 |\n",
       "|  3 | 1  | 45 | 86 | 78 |\n",
       "| 12 | 3  | 45 | 85 | 32 |\n",
       "|  4 | 1  | 30 | 98 | 58 |\n",
       "|  5 | 2  | 25 | 80 | 65 |\n",
       "|  9 | 3  | 20 | 98 | 15 |\n",
       "\n"
      ],
      "text/plain": [
       "   id class math english science\n",
       "1   8 2     90   78      25     \n",
       "2  19 5     89   68      87     \n",
       "3   7 2     80   90      45     \n",
       "4  18 5     80   78      90     \n",
       "5  20 5     78   83      58     \n",
       "6  15 4     75   56      78     \n",
       "7  11 3     65   65      65     \n",
       "8  17 5     65   68      98     \n",
       "9   2 1     60   97      60     \n",
       "10 16 4     58   98      65     \n",
       "11  1 1     50   98      50     \n",
       "12  6 2     50   89      98     \n",
       "13 10 3     50   98      45     \n",
       "14 14 4     48   87      12     \n",
       "15 13 4     46   98      65     \n",
       "16  3 1     45   86      78     \n",
       "17 12 3     45   85      32     \n",
       "18  4 1     30   98      58     \n",
       "19  5 2     25   80      65     \n",
       "20  9 3     20   98      15     "
      ]
     },
     "metadata": {},
     "output_type": "display_data"
    }
   ],
   "source": [
    "# math 내림차순 정렬\n",
    "exam %>% arrange(desc(math))"
   ]
  },
  {
   "cell_type": "code",
   "execution_count": 26,
   "id": "d8af1b48",
   "metadata": {},
   "outputs": [
    {
     "data": {
      "text/html": [
       "<table>\n",
       "<thead><tr><th scope=col>id</th><th scope=col>class</th><th scope=col>math</th><th scope=col>english</th><th scope=col>science</th></tr></thead>\n",
       "<tbody>\n",
       "\t<tr><td> 4</td><td>1 </td><td>30</td><td>98</td><td>58</td></tr>\n",
       "\t<tr><td> 3</td><td>1 </td><td>45</td><td>86</td><td>78</td></tr>\n",
       "\t<tr><td> 1</td><td>1 </td><td>50</td><td>98</td><td>50</td></tr>\n",
       "\t<tr><td> 2</td><td>1 </td><td>60</td><td>97</td><td>60</td></tr>\n",
       "\t<tr><td> 5</td><td>2 </td><td>25</td><td>80</td><td>65</td></tr>\n",
       "\t<tr><td> 6</td><td>2 </td><td>50</td><td>89</td><td>98</td></tr>\n",
       "\t<tr><td> 7</td><td>2 </td><td>80</td><td>90</td><td>45</td></tr>\n",
       "\t<tr><td> 8</td><td>2 </td><td>90</td><td>78</td><td>25</td></tr>\n",
       "\t<tr><td> 9</td><td>3 </td><td>20</td><td>98</td><td>15</td></tr>\n",
       "\t<tr><td>12</td><td>3 </td><td>45</td><td>85</td><td>32</td></tr>\n",
       "\t<tr><td>10</td><td>3 </td><td>50</td><td>98</td><td>45</td></tr>\n",
       "\t<tr><td>11</td><td>3 </td><td>65</td><td>65</td><td>65</td></tr>\n",
       "\t<tr><td>13</td><td>4 </td><td>46</td><td>98</td><td>65</td></tr>\n",
       "\t<tr><td>14</td><td>4 </td><td>48</td><td>87</td><td>12</td></tr>\n",
       "\t<tr><td>16</td><td>4 </td><td>58</td><td>98</td><td>65</td></tr>\n",
       "\t<tr><td>15</td><td>4 </td><td>75</td><td>56</td><td>78</td></tr>\n",
       "\t<tr><td>17</td><td>5 </td><td>65</td><td>68</td><td>98</td></tr>\n",
       "\t<tr><td>20</td><td>5 </td><td>78</td><td>83</td><td>58</td></tr>\n",
       "\t<tr><td>18</td><td>5 </td><td>80</td><td>78</td><td>90</td></tr>\n",
       "\t<tr><td>19</td><td>5 </td><td>89</td><td>68</td><td>87</td></tr>\n",
       "</tbody>\n",
       "</table>\n"
      ],
      "text/latex": [
       "\\begin{tabular}{r|lllll}\n",
       " id & class & math & english & science\\\\\n",
       "\\hline\n",
       "\t  4 & 1  & 30 & 98 & 58\\\\\n",
       "\t  3 & 1  & 45 & 86 & 78\\\\\n",
       "\t  1 & 1  & 50 & 98 & 50\\\\\n",
       "\t  2 & 1  & 60 & 97 & 60\\\\\n",
       "\t  5 & 2  & 25 & 80 & 65\\\\\n",
       "\t  6 & 2  & 50 & 89 & 98\\\\\n",
       "\t  7 & 2  & 80 & 90 & 45\\\\\n",
       "\t  8 & 2  & 90 & 78 & 25\\\\\n",
       "\t  9 & 3  & 20 & 98 & 15\\\\\n",
       "\t 12 & 3  & 45 & 85 & 32\\\\\n",
       "\t 10 & 3  & 50 & 98 & 45\\\\\n",
       "\t 11 & 3  & 65 & 65 & 65\\\\\n",
       "\t 13 & 4  & 46 & 98 & 65\\\\\n",
       "\t 14 & 4  & 48 & 87 & 12\\\\\n",
       "\t 16 & 4  & 58 & 98 & 65\\\\\n",
       "\t 15 & 4  & 75 & 56 & 78\\\\\n",
       "\t 17 & 5  & 65 & 68 & 98\\\\\n",
       "\t 20 & 5  & 78 & 83 & 58\\\\\n",
       "\t 18 & 5  & 80 & 78 & 90\\\\\n",
       "\t 19 & 5  & 89 & 68 & 87\\\\\n",
       "\\end{tabular}\n"
      ],
      "text/markdown": [
       "\n",
       "| id | class | math | english | science |\n",
       "|---|---|---|---|---|\n",
       "|  4 | 1  | 30 | 98 | 58 |\n",
       "|  3 | 1  | 45 | 86 | 78 |\n",
       "|  1 | 1  | 50 | 98 | 50 |\n",
       "|  2 | 1  | 60 | 97 | 60 |\n",
       "|  5 | 2  | 25 | 80 | 65 |\n",
       "|  6 | 2  | 50 | 89 | 98 |\n",
       "|  7 | 2  | 80 | 90 | 45 |\n",
       "|  8 | 2  | 90 | 78 | 25 |\n",
       "|  9 | 3  | 20 | 98 | 15 |\n",
       "| 12 | 3  | 45 | 85 | 32 |\n",
       "| 10 | 3  | 50 | 98 | 45 |\n",
       "| 11 | 3  | 65 | 65 | 65 |\n",
       "| 13 | 4  | 46 | 98 | 65 |\n",
       "| 14 | 4  | 48 | 87 | 12 |\n",
       "| 16 | 4  | 58 | 98 | 65 |\n",
       "| 15 | 4  | 75 | 56 | 78 |\n",
       "| 17 | 5  | 65 | 68 | 98 |\n",
       "| 20 | 5  | 78 | 83 | 58 |\n",
       "| 18 | 5  | 80 | 78 | 90 |\n",
       "| 19 | 5  | 89 | 68 | 87 |\n",
       "\n"
      ],
      "text/plain": [
       "   id class math english science\n",
       "1   4 1     30   98      58     \n",
       "2   3 1     45   86      78     \n",
       "3   1 1     50   98      50     \n",
       "4   2 1     60   97      60     \n",
       "5   5 2     25   80      65     \n",
       "6   6 2     50   89      98     \n",
       "7   7 2     80   90      45     \n",
       "8   8 2     90   78      25     \n",
       "9   9 3     20   98      15     \n",
       "10 12 3     45   85      32     \n",
       "11 10 3     50   98      45     \n",
       "12 11 3     65   65      65     \n",
       "13 13 4     46   98      65     \n",
       "14 14 4     48   87      12     \n",
       "15 16 4     58   98      65     \n",
       "16 15 4     75   56      78     \n",
       "17 17 5     65   68      98     \n",
       "18 20 5     78   83      58     \n",
       "19 18 5     80   78      90     \n",
       "20 19 5     89   68      87     "
      ]
     },
     "metadata": {},
     "output_type": "display_data"
    }
   ],
   "source": [
    "# 정렬 기준 변수 여러개 지정\n",
    "# class 및 math 오름차순 정렬\n",
    "exam %>% arrange(class, math)\n",
    "\n",
    "#class 가 먼저 정렬이 되고 math의 순서가 정렬이 된다.\n",
    "#그래서 위와같은 문법을 사용할때는 순서가 굉장히 중요하다"
   ]
  },
  {
   "cell_type": "markdown",
   "id": "e0d1c616",
   "metadata": {},
   "source": [
    "## 파생변수 추가"
   ]
  },
  {
   "cell_type": "code",
   "execution_count": 28,
   "id": "b4cd31f6",
   "metadata": {},
   "outputs": [
    {
     "data": {
      "text/html": [
       "<table>\n",
       "<thead><tr><th scope=col>id</th><th scope=col>class</th><th scope=col>math</th><th scope=col>english</th><th scope=col>science</th><th scope=col>total</th></tr></thead>\n",
       "<tbody>\n",
       "\t<tr><td>1  </td><td>1  </td><td>50 </td><td>98 </td><td>50 </td><td>198</td></tr>\n",
       "\t<tr><td>2  </td><td>1  </td><td>60 </td><td>97 </td><td>60 </td><td>217</td></tr>\n",
       "\t<tr><td>3  </td><td>1  </td><td>45 </td><td>86 </td><td>78 </td><td>209</td></tr>\n",
       "\t<tr><td>4  </td><td>1  </td><td>30 </td><td>98 </td><td>58 </td><td>186</td></tr>\n",
       "\t<tr><td>5  </td><td>2  </td><td>25 </td><td>80 </td><td>65 </td><td>170</td></tr>\n",
       "\t<tr><td>6  </td><td>2  </td><td>50 </td><td>89 </td><td>98 </td><td>237</td></tr>\n",
       "</tbody>\n",
       "</table>\n"
      ],
      "text/latex": [
       "\\begin{tabular}{r|llllll}\n",
       " id & class & math & english & science & total\\\\\n",
       "\\hline\n",
       "\t 1   & 1   & 50  & 98  & 50  & 198\\\\\n",
       "\t 2   & 1   & 60  & 97  & 60  & 217\\\\\n",
       "\t 3   & 1   & 45  & 86  & 78  & 209\\\\\n",
       "\t 4   & 1   & 30  & 98  & 58  & 186\\\\\n",
       "\t 5   & 2   & 25  & 80  & 65  & 170\\\\\n",
       "\t 6   & 2   & 50  & 89  & 98  & 237\\\\\n",
       "\\end{tabular}\n"
      ],
      "text/markdown": [
       "\n",
       "| id | class | math | english | science | total |\n",
       "|---|---|---|---|---|---|\n",
       "| 1   | 1   | 50  | 98  | 50  | 198 |\n",
       "| 2   | 1   | 60  | 97  | 60  | 217 |\n",
       "| 3   | 1   | 45  | 86  | 78  | 209 |\n",
       "| 4   | 1   | 30  | 98  | 58  | 186 |\n",
       "| 5   | 2   | 25  | 80  | 65  | 170 |\n",
       "| 6   | 2   | 50  | 89  | 98  | 237 |\n",
       "\n"
      ],
      "text/plain": [
       "  id class math english science total\n",
       "1 1  1     50   98      50      198  \n",
       "2 2  1     60   97      60      217  \n",
       "3 3  1     45   86      78      209  \n",
       "4 4  1     30   98      58      186  \n",
       "5 5  2     25   80      65      170  \n",
       "6 6  2     50   89      98      237  "
      ]
     },
     "metadata": {},
     "output_type": "display_data"
    }
   ],
   "source": [
    "# mutate() : 기존데이터에 파생변수 추가\n",
    "# mutate(변수명 = 계산식)\n",
    "\n",
    "#총합 변수 추가\n",
    "exam %>%\n",
    "    mutate(total =math + english + science) %>%\n",
    "    head"
   ]
  },
  {
   "cell_type": "code",
   "execution_count": 30,
   "id": "e4ef08ad",
   "metadata": {},
   "outputs": [
    {
     "data": {
      "text/html": [
       "<table>\n",
       "<thead><tr><th scope=col>id</th><th scope=col>class</th><th scope=col>math</th><th scope=col>english</th><th scope=col>science</th><th scope=col>total</th><th scope=col>mean</th></tr></thead>\n",
       "<tbody>\n",
       "\t<tr><td>1       </td><td>1       </td><td>50      </td><td>98      </td><td>50      </td><td>198     </td><td>66.00000</td></tr>\n",
       "\t<tr><td>2       </td><td>1       </td><td>60      </td><td>97      </td><td>60      </td><td>217     </td><td>72.33333</td></tr>\n",
       "\t<tr><td>3       </td><td>1       </td><td>45      </td><td>86      </td><td>78      </td><td>209     </td><td>69.66667</td></tr>\n",
       "\t<tr><td>4       </td><td>1       </td><td>30      </td><td>98      </td><td>58      </td><td>186     </td><td>62.00000</td></tr>\n",
       "\t<tr><td>5       </td><td>2       </td><td>25      </td><td>80      </td><td>65      </td><td>170     </td><td>56.66667</td></tr>\n",
       "\t<tr><td>6       </td><td>2       </td><td>50      </td><td>89      </td><td>98      </td><td>237     </td><td>79.00000</td></tr>\n",
       "</tbody>\n",
       "</table>\n"
      ],
      "text/latex": [
       "\\begin{tabular}{r|lllllll}\n",
       " id & class & math & english & science & total & mean\\\\\n",
       "\\hline\n",
       "\t 1        & 1        & 50       & 98       & 50       & 198      & 66.00000\\\\\n",
       "\t 2        & 1        & 60       & 97       & 60       & 217      & 72.33333\\\\\n",
       "\t 3        & 1        & 45       & 86       & 78       & 209      & 69.66667\\\\\n",
       "\t 4        & 1        & 30       & 98       & 58       & 186      & 62.00000\\\\\n",
       "\t 5        & 2        & 25       & 80       & 65       & 170      & 56.66667\\\\\n",
       "\t 6        & 2        & 50       & 89       & 98       & 237      & 79.00000\\\\\n",
       "\\end{tabular}\n"
      ],
      "text/markdown": [
       "\n",
       "| id | class | math | english | science | total | mean |\n",
       "|---|---|---|---|---|---|---|\n",
       "| 1        | 1        | 50       | 98       | 50       | 198      | 66.00000 |\n",
       "| 2        | 1        | 60       | 97       | 60       | 217      | 72.33333 |\n",
       "| 3        | 1        | 45       | 86       | 78       | 209      | 69.66667 |\n",
       "| 4        | 1        | 30       | 98       | 58       | 186      | 62.00000 |\n",
       "| 5        | 2        | 25       | 80       | 65       | 170      | 56.66667 |\n",
       "| 6        | 2        | 50       | 89       | 98       | 237      | 79.00000 |\n",
       "\n"
      ],
      "text/plain": [
       "  id class math english science total mean    \n",
       "1 1  1     50   98      50      198   66.00000\n",
       "2 2  1     60   97      60      217   72.33333\n",
       "3 3  1     45   86      78      209   69.66667\n",
       "4 4  1     30   98      58      186   62.00000\n",
       "5 5  2     25   80      65      170   56.66667\n",
       "6 6  2     50   89      98      237   79.00000"
      ]
     },
     "metadata": {},
     "output_type": "display_data"
    }
   ],
   "source": [
    "# 여러 파생변수 한 번에 추가하기\n",
    "exam %>%\n",
    "    mutate(total = math+ english + science,\n",
    "            mean = (math + english + science)/3) %>%\n",
    "    head"
   ]
  },
  {
   "cell_type": "code",
   "execution_count": 31,
   "id": "4619c397",
   "metadata": {},
   "outputs": [
    {
     "data": {
      "text/html": [
       "<table>\n",
       "<thead><tr><th scope=col>id</th><th scope=col>class</th><th scope=col>math</th><th scope=col>english</th><th scope=col>science</th><th scope=col>test</th></tr></thead>\n",
       "<tbody>\n",
       "\t<tr><td>1   </td><td>1   </td><td>50  </td><td>98  </td><td>50  </td><td>fail</td></tr>\n",
       "\t<tr><td>2   </td><td>1   </td><td>60  </td><td>97  </td><td>60  </td><td>pass</td></tr>\n",
       "\t<tr><td>3   </td><td>1   </td><td>45  </td><td>86  </td><td>78  </td><td>pass</td></tr>\n",
       "\t<tr><td>4   </td><td>1   </td><td>30  </td><td>98  </td><td>58  </td><td>fail</td></tr>\n",
       "\t<tr><td>5   </td><td>2   </td><td>25  </td><td>80  </td><td>65  </td><td>pass</td></tr>\n",
       "\t<tr><td>6   </td><td>2   </td><td>50  </td><td>89  </td><td>98  </td><td>pass</td></tr>\n",
       "</tbody>\n",
       "</table>\n"
      ],
      "text/latex": [
       "\\begin{tabular}{r|llllll}\n",
       " id & class & math & english & science & test\\\\\n",
       "\\hline\n",
       "\t 1    & 1    & 50   & 98   & 50   & fail\\\\\n",
       "\t 2    & 1    & 60   & 97   & 60   & pass\\\\\n",
       "\t 3    & 1    & 45   & 86   & 78   & pass\\\\\n",
       "\t 4    & 1    & 30   & 98   & 58   & fail\\\\\n",
       "\t 5    & 2    & 25   & 80   & 65   & pass\\\\\n",
       "\t 6    & 2    & 50   & 89   & 98   & pass\\\\\n",
       "\\end{tabular}\n"
      ],
      "text/markdown": [
       "\n",
       "| id | class | math | english | science | test |\n",
       "|---|---|---|---|---|---|\n",
       "| 1    | 1    | 50   | 98   | 50   | fail |\n",
       "| 2    | 1    | 60   | 97   | 60   | pass |\n",
       "| 3    | 1    | 45   | 86   | 78   | pass |\n",
       "| 4    | 1    | 30   | 98   | 58   | fail |\n",
       "| 5    | 2    | 25   | 80   | 65   | pass |\n",
       "| 6    | 2    | 50   | 89   | 98   | pass |\n",
       "\n"
      ],
      "text/plain": [
       "  id class math english science test\n",
       "1 1  1     50   98      50      fail\n",
       "2 2  1     60   97      60      pass\n",
       "3 3  1     45   86      78      pass\n",
       "4 4  1     30   98      58      fail\n",
       "5 5  2     25   80      65      pass\n",
       "6 6  2     50   89      98      pass"
      ]
     },
     "metadata": {},
     "output_type": "display_data"
    }
   ],
   "source": [
    "# muteat()에 ifelst()적용하기\n",
    "exam %>%\n",
    "    mutate(test = ifelse(science >= 60, \"pass\",\"fail\"))%>%\n",
    "    head"
   ]
  },
  {
   "cell_type": "code",
   "execution_count": 32,
   "id": "678a5fcf",
   "metadata": {},
   "outputs": [
    {
     "data": {
      "text/html": [
       "<table>\n",
       "<thead><tr><th scope=col>id</th><th scope=col>class</th><th scope=col>math</th><th scope=col>english</th><th scope=col>science</th><th scope=col>total</th></tr></thead>\n",
       "<tbody>\n",
       "\t<tr><td> 9 </td><td>3  </td><td>20 </td><td>98 </td><td>15 </td><td>133</td></tr>\n",
       "\t<tr><td>14 </td><td>4  </td><td>48 </td><td>87 </td><td>12 </td><td>147</td></tr>\n",
       "\t<tr><td>12 </td><td>3  </td><td>45 </td><td>85 </td><td>32 </td><td>162</td></tr>\n",
       "\t<tr><td> 5 </td><td>2  </td><td>25 </td><td>80 </td><td>65 </td><td>170</td></tr>\n",
       "\t<tr><td> 4 </td><td>1  </td><td>30 </td><td>98 </td><td>58 </td><td>186</td></tr>\n",
       "\t<tr><td> 8 </td><td>2  </td><td>90 </td><td>78 </td><td>25 </td><td>193</td></tr>\n",
       "</tbody>\n",
       "</table>\n"
      ],
      "text/latex": [
       "\\begin{tabular}{r|llllll}\n",
       " id & class & math & english & science & total\\\\\n",
       "\\hline\n",
       "\t  9  & 3   & 20  & 98  & 15  & 133\\\\\n",
       "\t 14  & 4   & 48  & 87  & 12  & 147\\\\\n",
       "\t 12  & 3   & 45  & 85  & 32  & 162\\\\\n",
       "\t  5  & 2   & 25  & 80  & 65  & 170\\\\\n",
       "\t  4  & 1   & 30  & 98  & 58  & 186\\\\\n",
       "\t  8  & 2   & 90  & 78  & 25  & 193\\\\\n",
       "\\end{tabular}\n"
      ],
      "text/markdown": [
       "\n",
       "| id | class | math | english | science | total |\n",
       "|---|---|---|---|---|---|\n",
       "|  9  | 3   | 20  | 98  | 15  | 133 |\n",
       "| 14  | 4   | 48  | 87  | 12  | 147 |\n",
       "| 12  | 3   | 45  | 85  | 32  | 162 |\n",
       "|  5  | 2   | 25  | 80  | 65  | 170 |\n",
       "|  4  | 1   | 30  | 98  | 58  | 186 |\n",
       "|  8  | 2   | 90  | 78  | 25  | 193 |\n",
       "\n"
      ],
      "text/plain": [
       "  id class math english science total\n",
       "1  9 3     20   98      15      133  \n",
       "2 14 4     48   87      12      147  \n",
       "3 12 3     45   85      32      162  \n",
       "4  5 2     25   80      65      170  \n",
       "5  4 1     30   98      58      186  \n",
       "6  8 2     90   78      25      193  "
      ]
     },
     "metadata": {},
     "output_type": "display_data"
    }
   ],
   "source": [
    "# 추가한 변수를 dplyr 코드에 바로 활용하기\n",
    "exam %>%\n",
    "    mutate(total = math + english + science) %>%\n",
    "    arrange(total) %>%\n",
    "    head"
   ]
  },
  {
   "cell_type": "markdown",
   "id": "c12b0552",
   "metadata": {},
   "source": [
    "1. mpg 데이터에서 cty와 hwy를 합\"한산연비\" 변수 추가\n",
    "2. \"합산연비\"를 2로 나눠 \"평균 연비\" 변수를 추가\n",
    "3. \"평균 연비\" 가 가장 높은 자동차 3종의 데이터를 출력"
   ]
  },
  {
   "cell_type": "code",
   "execution_count": 33,
   "id": "b1fab23a",
   "metadata": {},
   "outputs": [
    {
     "data": {
      "text/html": [
       "<table>\n",
       "<thead><tr><th scope=col>manufacturer</th><th scope=col>model</th><th scope=col>displ</th><th scope=col>year</th><th scope=col>cyl</th><th scope=col>trans</th><th scope=col>drv</th><th scope=col>cty</th><th scope=col>hwy</th><th scope=col>fl</th><th scope=col>class</th><th scope=col>합산연비</th><th scope=col>평균연비</th></tr></thead>\n",
       "<tbody>\n",
       "\t<tr><td>dodge              </td><td>dakota pickup 4wd  </td><td>4.7                </td><td>2008               </td><td>8                  </td><td>auto(l5)           </td><td>4                  </td><td> 9                 </td><td>12                 </td><td>e                  </td><td>pickup             </td><td>21                 </td><td>10.5               </td></tr>\n",
       "\t<tr><td>dodge              </td><td>durango 4wd        </td><td>4.7                </td><td>2008               </td><td>8                  </td><td>auto(l5)           </td><td>4                  </td><td> 9                 </td><td>12                 </td><td>e                  </td><td>suv                </td><td>21                 </td><td>10.5               </td></tr>\n",
       "\t<tr><td>dodge              </td><td>ram 1500 pickup 4wd</td><td>4.7                </td><td>2008               </td><td>8                  </td><td>auto(l5)           </td><td>4                  </td><td> 9                 </td><td>12                 </td><td>e                  </td><td>pickup             </td><td>21                 </td><td>10.5               </td></tr>\n",
       "\t<tr><td>dodge              </td><td>ram 1500 pickup 4wd</td><td>4.7                </td><td>2008               </td><td>8                  </td><td>manual(m6)         </td><td>4                  </td><td> 9                 </td><td>12                 </td><td>e                  </td><td>pickup             </td><td>21                 </td><td>10.5               </td></tr>\n",
       "\t<tr><td>jeep               </td><td>grand cherokee 4wd </td><td>4.7                </td><td>2008               </td><td>8                  </td><td>auto(l5)           </td><td>4                  </td><td> 9                 </td><td>12                 </td><td>e                  </td><td>suv                </td><td>21                 </td><td>10.5               </td></tr>\n",
       "\t<tr><td>chevrolet          </td><td>k1500 tahoe 4wd    </td><td>5.3                </td><td>2008               </td><td>8                  </td><td>auto(l4)           </td><td>4                  </td><td>11                 </td><td>14                 </td><td>e                  </td><td>suv                </td><td>25                 </td><td>12.5               </td></tr>\n",
       "</tbody>\n",
       "</table>\n"
      ],
      "text/latex": [
       "\\begin{tabular}{r|lllllllllllll}\n",
       " manufacturer & model & displ & year & cyl & trans & drv & cty & hwy & fl & class & 합산연비 & 평균연비\\\\\n",
       "\\hline\n",
       "\t dodge               & dakota pickup 4wd   & 4.7                 & 2008                & 8                   & auto(l5)            & 4                   &  9                  & 12                  & e                   & pickup              & 21                  & 10.5               \\\\\n",
       "\t dodge               & durango 4wd         & 4.7                 & 2008                & 8                   & auto(l5)            & 4                   &  9                  & 12                  & e                   & suv                 & 21                  & 10.5               \\\\\n",
       "\t dodge               & ram 1500 pickup 4wd & 4.7                 & 2008                & 8                   & auto(l5)            & 4                   &  9                  & 12                  & e                   & pickup              & 21                  & 10.5               \\\\\n",
       "\t dodge               & ram 1500 pickup 4wd & 4.7                 & 2008                & 8                   & manual(m6)          & 4                   &  9                  & 12                  & e                   & pickup              & 21                  & 10.5               \\\\\n",
       "\t jeep                & grand cherokee 4wd  & 4.7                 & 2008                & 8                   & auto(l5)            & 4                   &  9                  & 12                  & e                   & suv                 & 21                  & 10.5               \\\\\n",
       "\t chevrolet           & k1500 tahoe 4wd     & 5.3                 & 2008                & 8                   & auto(l4)            & 4                   & 11                  & 14                  & e                   & suv                 & 25                  & 12.5               \\\\\n",
       "\\end{tabular}\n"
      ],
      "text/markdown": [
       "\n",
       "| manufacturer | model | displ | year | cyl | trans | drv | cty | hwy | fl | class | 합산연비 | 평균연비 |\n",
       "|---|---|---|---|---|---|---|---|---|---|---|---|---|\n",
       "| dodge               | dakota pickup 4wd   | 4.7                 | 2008                | 8                   | auto(l5)            | 4                   |  9                  | 12                  | e                   | pickup              | 21                  | 10.5                |\n",
       "| dodge               | durango 4wd         | 4.7                 | 2008                | 8                   | auto(l5)            | 4                   |  9                  | 12                  | e                   | suv                 | 21                  | 10.5                |\n",
       "| dodge               | ram 1500 pickup 4wd | 4.7                 | 2008                | 8                   | auto(l5)            | 4                   |  9                  | 12                  | e                   | pickup              | 21                  | 10.5                |\n",
       "| dodge               | ram 1500 pickup 4wd | 4.7                 | 2008                | 8                   | manual(m6)          | 4                   |  9                  | 12                  | e                   | pickup              | 21                  | 10.5                |\n",
       "| jeep                | grand cherokee 4wd  | 4.7                 | 2008                | 8                   | auto(l5)            | 4                   |  9                  | 12                  | e                   | suv                 | 21                  | 10.5                |\n",
       "| chevrolet           | k1500 tahoe 4wd     | 5.3                 | 2008                | 8                   | auto(l4)            | 4                   | 11                  | 14                  | e                   | suv                 | 25                  | 12.5                |\n",
       "\n"
      ],
      "text/plain": [
       "  manufacturer model               displ year cyl trans      drv cty hwy fl\n",
       "1 dodge        dakota pickup 4wd   4.7   2008 8   auto(l5)   4    9  12  e \n",
       "2 dodge        durango 4wd         4.7   2008 8   auto(l5)   4    9  12  e \n",
       "3 dodge        ram 1500 pickup 4wd 4.7   2008 8   auto(l5)   4    9  12  e \n",
       "4 dodge        ram 1500 pickup 4wd 4.7   2008 8   manual(m6) 4    9  12  e \n",
       "5 jeep         grand cherokee 4wd  4.7   2008 8   auto(l5)   4    9  12  e \n",
       "6 chevrolet    k1500 tahoe 4wd     5.3   2008 8   auto(l4)   4   11  14  e \n",
       "  class  합산연비 평균연비\n",
       "1 pickup 21       10.5    \n",
       "2 suv    21       10.5    \n",
       "3 pickup 21       10.5    \n",
       "4 pickup 21       10.5    \n",
       "5 suv    21       10.5    \n",
       "6 suv    25       12.5    "
      ]
     },
     "metadata": {},
     "output_type": "display_data"
    }
   ],
   "source": [
    "mpg %>%\n",
    "    mutate(합산연비 =  cty+ hwy) %>%\n",
    "    mutate(평균연비 = 합산연비/2) %>%\n",
    "    arrange(평균연비)%>%\n",
    "    head"
   ]
  },
  {
   "cell_type": "markdown",
   "id": "532d976b",
   "metadata": {},
   "source": [
    "## 집단별로 요약하기"
   ]
  },
  {
   "cell_type": "code",
   "execution_count": 36,
   "id": "40e03f0c",
   "metadata": {},
   "outputs": [
    {
     "data": {
      "text/html": [
       "<table>\n",
       "<thead><tr><th scope=col>mean_math</th></tr></thead>\n",
       "<tbody>\n",
       "\t<tr><td>57.45</td></tr>\n",
       "</tbody>\n",
       "</table>\n"
      ],
      "text/latex": [
       "\\begin{tabular}{r|l}\n",
       " mean\\_math\\\\\n",
       "\\hline\n",
       "\t 57.45\\\\\n",
       "\\end{tabular}\n"
      ],
      "text/markdown": [
       "\n",
       "| mean_math |\n",
       "|---|\n",
       "| 57.45 |\n",
       "\n"
      ],
      "text/plain": [
       "  mean_math\n",
       "1 57.45    "
      ]
     },
     "metadata": {},
     "output_type": "display_data"
    }
   ],
   "source": [
    "# exam 데이터에서 math 평균 산출\n",
    "exam %>%\n",
    "    summarise(mean_math = mean(math))"
   ]
  },
  {
   "cell_type": "code",
   "execution_count": 37,
   "id": "cf77738d",
   "metadata": {},
   "outputs": [
    {
     "data": {
      "text/html": [
       "57.45"
      ],
      "text/latex": [
       "57.45"
      ],
      "text/markdown": [
       "57.45"
      ],
      "text/plain": [
       "[1] 57.45"
      ]
     },
     "metadata": {},
     "output_type": "display_data"
    }
   ],
   "source": [
    "mean(exam$math)"
   ]
  },
  {
   "cell_type": "code",
   "execution_count": 38,
   "id": "e0e6eb85",
   "metadata": {},
   "outputs": [
    {
     "data": {
      "text/html": [
       "<table>\n",
       "<thead><tr><th scope=col>class</th><th scope=col>mean_math</th></tr></thead>\n",
       "<tbody>\n",
       "\t<tr><td>1    </td><td>46.25</td></tr>\n",
       "\t<tr><td>2    </td><td>61.25</td></tr>\n",
       "\t<tr><td>3    </td><td>45.00</td></tr>\n",
       "\t<tr><td>4    </td><td>56.75</td></tr>\n",
       "\t<tr><td>5    </td><td>78.00</td></tr>\n",
       "</tbody>\n",
       "</table>\n"
      ],
      "text/latex": [
       "\\begin{tabular}{r|ll}\n",
       " class & mean\\_math\\\\\n",
       "\\hline\n",
       "\t 1     & 46.25\\\\\n",
       "\t 2     & 61.25\\\\\n",
       "\t 3     & 45.00\\\\\n",
       "\t 4     & 56.75\\\\\n",
       "\t 5     & 78.00\\\\\n",
       "\\end{tabular}\n"
      ],
      "text/markdown": [
       "\n",
       "| class | mean_math |\n",
       "|---|---|\n",
       "| 1     | 46.25 |\n",
       "| 2     | 61.25 |\n",
       "| 3     | 45.00 |\n",
       "| 4     | 56.75 |\n",
       "| 5     | 78.00 |\n",
       "\n"
      ],
      "text/plain": [
       "  class mean_math\n",
       "1 1     46.25    \n",
       "2 2     61.25    \n",
       "3 3     45.00    \n",
       "4 4     56.75    \n",
       "5 5     78.00    "
      ]
     },
     "metadata": {},
     "output_type": "display_data"
    }
   ],
   "source": [
    "#집단별로 요약하기\n",
    "exam %>%\n",
    "    group_by(class) %>% #class별로 분리\n",
    "    summarise(mean_math = mean(math))"
   ]
  },
  {
   "cell_type": "code",
   "execution_count": 39,
   "id": "9a6666c6",
   "metadata": {},
   "outputs": [
    {
     "data": {
      "text/html": [
       "<table>\n",
       "<thead><tr><th scope=col>class</th><th scope=col>mean_math</th><th scope=col>sum_math</th><th scope=col>median_math</th><th scope=col>n</th></tr></thead>\n",
       "<tbody>\n",
       "\t<tr><td>1    </td><td>46.25</td><td>185  </td><td>47.5 </td><td>4    </td></tr>\n",
       "\t<tr><td>2    </td><td>61.25</td><td>245  </td><td>65.0 </td><td>4    </td></tr>\n",
       "\t<tr><td>3    </td><td>45.00</td><td>180  </td><td>47.5 </td><td>4    </td></tr>\n",
       "\t<tr><td>4    </td><td>56.75</td><td>227  </td><td>53.0 </td><td>4    </td></tr>\n",
       "\t<tr><td>5    </td><td>78.00</td><td>312  </td><td>79.0 </td><td>4    </td></tr>\n",
       "</tbody>\n",
       "</table>\n"
      ],
      "text/latex": [
       "\\begin{tabular}{r|lllll}\n",
       " class & mean\\_math & sum\\_math & median\\_math & n\\\\\n",
       "\\hline\n",
       "\t 1     & 46.25 & 185   & 47.5  & 4    \\\\\n",
       "\t 2     & 61.25 & 245   & 65.0  & 4    \\\\\n",
       "\t 3     & 45.00 & 180   & 47.5  & 4    \\\\\n",
       "\t 4     & 56.75 & 227   & 53.0  & 4    \\\\\n",
       "\t 5     & 78.00 & 312   & 79.0  & 4    \\\\\n",
       "\\end{tabular}\n"
      ],
      "text/markdown": [
       "\n",
       "| class | mean_math | sum_math | median_math | n |\n",
       "|---|---|---|---|---|\n",
       "| 1     | 46.25 | 185   | 47.5  | 4     |\n",
       "| 2     | 61.25 | 245   | 65.0  | 4     |\n",
       "| 3     | 45.00 | 180   | 47.5  | 4     |\n",
       "| 4     | 56.75 | 227   | 53.0  | 4     |\n",
       "| 5     | 78.00 | 312   | 79.0  | 4     |\n",
       "\n"
      ],
      "text/plain": [
       "  class mean_math sum_math median_math n\n",
       "1 1     46.25     185      47.5        4\n",
       "2 2     61.25     245      65.0        4\n",
       "3 3     45.00     180      47.5        4\n",
       "4 4     56.75     227      53.0        4\n",
       "5 5     78.00     312      79.0        4"
      ]
     },
     "metadata": {},
     "output_type": "display_data"
    }
   ],
   "source": [
    "#  여러 요약 통계량 한번에 산출하기\n",
    "exam %>%\n",
    "    group_by(class) %>%\n",
    "    summarise(mean_math = mean(math),\n",
    "              sum_math = sum(math),\n",
    "                median_math = median(math),\n",
    "                 n = n())"
   ]
  },
  {
   "cell_type": "markdown",
   "id": "a48f989a",
   "metadata": {},
   "source": [
    "- mena() : 평균\n",
    "- sd() : 표준편차\n",
    "- sum() : 합계\n",
    "- median() : 중앙값\n",
    "- min() : 최솟값\n",
    "- max() : 최댓값\n",
    "- n() : 빈도"
   ]
  },
  {
   "cell_type": "code",
   "execution_count": 41,
   "id": "64affd4a",
   "metadata": {},
   "outputs": [
    {
     "data": {
      "text/html": [
       "<table>\n",
       "<thead><tr><th scope=col>manufacturer</th><th scope=col>drv</th><th scope=col>mean_cty</th></tr></thead>\n",
       "<tbody>\n",
       "\t<tr><td>audi     </td><td>4        </td><td>16.81818 </td></tr>\n",
       "\t<tr><td>audi     </td><td>f        </td><td>18.85714 </td></tr>\n",
       "\t<tr><td>chevrolet</td><td>4        </td><td>12.50000 </td></tr>\n",
       "\t<tr><td>chevrolet</td><td>f        </td><td>18.80000 </td></tr>\n",
       "\t<tr><td>chevrolet</td><td>r        </td><td>14.10000 </td></tr>\n",
       "\t<tr><td>dodge    </td><td>4        </td><td>12.00000 </td></tr>\n",
       "</tbody>\n",
       "</table>\n"
      ],
      "text/latex": [
       "\\begin{tabular}{r|lll}\n",
       " manufacturer & drv & mean\\_cty\\\\\n",
       "\\hline\n",
       "\t audi      & 4         & 16.81818 \\\\\n",
       "\t audi      & f         & 18.85714 \\\\\n",
       "\t chevrolet & 4         & 12.50000 \\\\\n",
       "\t chevrolet & f         & 18.80000 \\\\\n",
       "\t chevrolet & r         & 14.10000 \\\\\n",
       "\t dodge     & 4         & 12.00000 \\\\\n",
       "\\end{tabular}\n"
      ],
      "text/markdown": [
       "\n",
       "| manufacturer | drv | mean_cty |\n",
       "|---|---|---|\n",
       "| audi      | 4         | 16.81818  |\n",
       "| audi      | f         | 18.85714  |\n",
       "| chevrolet | 4         | 12.50000  |\n",
       "| chevrolet | f         | 18.80000  |\n",
       "| chevrolet | r         | 14.10000  |\n",
       "| dodge     | 4         | 12.00000  |\n",
       "\n"
      ],
      "text/plain": [
       "  manufacturer drv mean_cty\n",
       "1 audi         4   16.81818\n",
       "2 audi         f   18.85714\n",
       "3 chevrolet    4   12.50000\n",
       "4 chevrolet    f   18.80000\n",
       "5 chevrolet    r   14.10000\n",
       "6 dodge        4   12.00000"
      ]
     },
     "metadata": {},
     "output_type": "display_data"
    }
   ],
   "source": [
    "# 각 집단별로 다시 집단 나누기\n",
    "mpg %>%\n",
    "    group_by(manufacturer, drv) %>% #제조사별로 나누고 나눈데이터 안에서 drv로 나누기\n",
    "    summarise(mean_cty = mean(cty)) %>%\n",
    "    head"
   ]
  },
  {
   "cell_type": "code",
   "execution_count": 45,
   "id": "9cf0dfd6",
   "metadata": {},
   "outputs": [
    {
     "data": {
      "text/html": [
       "<table>\n",
       "<thead><tr><th scope=col>manufacturer</th><th scope=col>mean_tot</th></tr></thead>\n",
       "<tbody>\n",
       "\t<tr><td>subaru  </td><td>21.91667</td></tr>\n",
       "\t<tr><td>toyota  </td><td>16.31250</td></tr>\n",
       "\t<tr><td>nissan  </td><td>15.87500</td></tr>\n",
       "\t<tr><td>mercury </td><td>15.62500</td></tr>\n",
       "\t<tr><td>jeep    </td><td>15.56250</td></tr>\n",
       "</tbody>\n",
       "</table>\n"
      ],
      "text/latex": [
       "\\begin{tabular}{r|ll}\n",
       " manufacturer & mean\\_tot\\\\\n",
       "\\hline\n",
       "\t subaru   & 21.91667\\\\\n",
       "\t toyota   & 16.31250\\\\\n",
       "\t nissan   & 15.87500\\\\\n",
       "\t mercury  & 15.62500\\\\\n",
       "\t jeep     & 15.56250\\\\\n",
       "\\end{tabular}\n"
      ],
      "text/markdown": [
       "\n",
       "| manufacturer | mean_tot |\n",
       "|---|---|\n",
       "| subaru   | 21.91667 |\n",
       "| toyota   | 16.31250 |\n",
       "| nissan   | 15.87500 |\n",
       "| mercury  | 15.62500 |\n",
       "| jeep     | 15.56250 |\n",
       "\n"
      ],
      "text/plain": [
       "  manufacturer mean_tot\n",
       "1 subaru       21.91667\n",
       "2 toyota       16.31250\n",
       "3 nissan       15.87500\n",
       "4 mercury      15.62500\n",
       "5 jeep         15.56250"
      ]
     },
     "metadata": {},
     "output_type": "display_data"
    }
   ],
   "source": [
    "#회사별로 \"suv\" 자동차의 도시 및 고속도로 통합 연비\n",
    "#평균을 구해 내림차순으로 정렬하고, 상위 5개 출력하기\n",
    "mpg %>%\n",
    "    group_by(manufacturer) %>%\n",
    "    filter(class == \"suv\") %>%\n",
    "    mutate(tot = (cty + hwy)/2) %>%\n",
    "    summarise(mean_tot = mean(tot)) %>%\n",
    "    arrange(desc(mean_tot)) %>%\n",
    "    head(5)\n",
    "    "
   ]
  },
  {
   "cell_type": "markdown",
   "id": "a4412cd0",
   "metadata": {},
   "source": [
    "1. 어떤 차종의 도시 연비가 높은지 비교하려고 함. class별 cty 평균 구한 뒤 내림차순으로 정렬. <br>\n",
    "2. 어떤 회사 자동차의 hwy가 가장 높은지 알아보려고 함. hwy 평균이 가장 높은 회사 세 곳을 출력. <br>\n",
    "3. 어떤 회사에서 \"compact\" 차종을 가장 많이 생산하는지 알아보려고 함. 각 회사별 \"compact\" 차종 수를 내림차순으로 정렬."
   ]
  },
  {
   "cell_type": "code",
   "execution_count": 47,
   "id": "bdddac7b",
   "metadata": {},
   "outputs": [
    {
     "data": {
      "text/html": [
       "<table>\n",
       "<thead><tr><th scope=col>class</th><th scope=col>mean_cty</th></tr></thead>\n",
       "<tbody>\n",
       "\t<tr><td>subcompact</td><td>20.37143  </td></tr>\n",
       "\t<tr><td>compact   </td><td>20.12766  </td></tr>\n",
       "\t<tr><td>midsize   </td><td>18.75610  </td></tr>\n",
       "\t<tr><td>minivan   </td><td>15.81818  </td></tr>\n",
       "\t<tr><td>2seater   </td><td>15.40000  </td></tr>\n",
       "\t<tr><td>suv       </td><td>13.50000  </td></tr>\n",
       "\t<tr><td>pickup    </td><td>13.00000  </td></tr>\n",
       "</tbody>\n",
       "</table>\n"
      ],
      "text/latex": [
       "\\begin{tabular}{r|ll}\n",
       " class & mean\\_cty\\\\\n",
       "\\hline\n",
       "\t subcompact & 20.37143  \\\\\n",
       "\t compact    & 20.12766  \\\\\n",
       "\t midsize    & 18.75610  \\\\\n",
       "\t minivan    & 15.81818  \\\\\n",
       "\t 2seater    & 15.40000  \\\\\n",
       "\t suv        & 13.50000  \\\\\n",
       "\t pickup     & 13.00000  \\\\\n",
       "\\end{tabular}\n"
      ],
      "text/markdown": [
       "\n",
       "| class | mean_cty |\n",
       "|---|---|\n",
       "| subcompact | 20.37143   |\n",
       "| compact    | 20.12766   |\n",
       "| midsize    | 18.75610   |\n",
       "| minivan    | 15.81818   |\n",
       "| 2seater    | 15.40000   |\n",
       "| suv        | 13.50000   |\n",
       "| pickup     | 13.00000   |\n",
       "\n"
      ],
      "text/plain": [
       "  class      mean_cty\n",
       "1 subcompact 20.37143\n",
       "2 compact    20.12766\n",
       "3 midsize    18.75610\n",
       "4 minivan    15.81818\n",
       "5 2seater    15.40000\n",
       "6 suv        13.50000\n",
       "7 pickup     13.00000"
      ]
     },
     "metadata": {},
     "output_type": "display_data"
    }
   ],
   "source": [
    "mpg %>%\n",
    "    group_by(class) %>%\n",
    "    summarise(mean_cty = mean(cty)) %>%\n",
    "    arrange(desc(mean_cty))"
   ]
  },
  {
   "cell_type": "code",
   "execution_count": 53,
   "id": "89119b22",
   "metadata": {},
   "outputs": [
    {
     "data": {
      "text/html": [
       "<table>\n",
       "<thead><tr><th scope=col>manufacturer</th><th scope=col>mean_hwy</th></tr></thead>\n",
       "<tbody>\n",
       "\t<tr><td>honda     </td><td>32.55556  </td></tr>\n",
       "\t<tr><td>volkswagen</td><td>29.22222  </td></tr>\n",
       "\t<tr><td>hyundai   </td><td>26.85714  </td></tr>\n",
       "</tbody>\n",
       "</table>\n"
      ],
      "text/latex": [
       "\\begin{tabular}{r|ll}\n",
       " manufacturer & mean\\_hwy\\\\\n",
       "\\hline\n",
       "\t honda      & 32.55556  \\\\\n",
       "\t volkswagen & 29.22222  \\\\\n",
       "\t hyundai    & 26.85714  \\\\\n",
       "\\end{tabular}\n"
      ],
      "text/markdown": [
       "\n",
       "| manufacturer | mean_hwy |\n",
       "|---|---|\n",
       "| honda      | 32.55556   |\n",
       "| volkswagen | 29.22222   |\n",
       "| hyundai    | 26.85714   |\n",
       "\n"
      ],
      "text/plain": [
       "  manufacturer mean_hwy\n",
       "1 honda        32.55556\n",
       "2 volkswagen   29.22222\n",
       "3 hyundai      26.85714"
      ]
     },
     "metadata": {},
     "output_type": "display_data"
    }
   ],
   "source": [
    "mpg %>%\n",
    "    group_by(manufacturer) %>%\n",
    "    summarise(mean_hwy = mean(hwy)) %>%\n",
    "    arrange(desc(mean_hwy)) %>%\n",
    "    head(3)"
   ]
  },
  {
   "cell_type": "code",
   "execution_count": 54,
   "id": "04b014fa",
   "metadata": {},
   "outputs": [
    {
     "data": {
      "text/html": [
       "<table>\n",
       "<thead><tr><th scope=col>manufacturer</th><th scope=col>count</th></tr></thead>\n",
       "<tbody>\n",
       "\t<tr><td>audi      </td><td>15        </td></tr>\n",
       "\t<tr><td>volkswagen</td><td>14        </td></tr>\n",
       "\t<tr><td>toyota    </td><td>12        </td></tr>\n",
       "\t<tr><td>subaru    </td><td> 4        </td></tr>\n",
       "\t<tr><td>nissan    </td><td> 2        </td></tr>\n",
       "</tbody>\n",
       "</table>\n"
      ],
      "text/latex": [
       "\\begin{tabular}{r|ll}\n",
       " manufacturer & count\\\\\n",
       "\\hline\n",
       "\t audi       & 15        \\\\\n",
       "\t volkswagen & 14        \\\\\n",
       "\t toyota     & 12        \\\\\n",
       "\t subaru     &  4        \\\\\n",
       "\t nissan     &  2        \\\\\n",
       "\\end{tabular}\n"
      ],
      "text/markdown": [
       "\n",
       "| manufacturer | count |\n",
       "|---|---|\n",
       "| audi       | 15         |\n",
       "| volkswagen | 14         |\n",
       "| toyota     | 12         |\n",
       "| subaru     |  4         |\n",
       "| nissan     |  2         |\n",
       "\n"
      ],
      "text/plain": [
       "  manufacturer count\n",
       "1 audi         15   \n",
       "2 volkswagen   14   \n",
       "3 toyota       12   \n",
       "4 subaru        4   \n",
       "5 nissan        2   "
      ]
     },
     "metadata": {},
     "output_type": "display_data"
    }
   ],
   "source": [
    "mpg %>%\n",
    "    filter(class == \"compact\") %>%\n",
    "    group_by(manufacturer) %>%\n",
    "    summarise(count = n()) %>%\n",
    "    arrange(desc(count))"
   ]
  },
  {
   "cell_type": "markdown",
   "id": "50cf722e",
   "metadata": {},
   "source": [
    "## 데이터 합치기"
   ]
  },
  {
   "cell_type": "code",
   "execution_count": 57,
   "id": "ad3ea2a6",
   "metadata": {},
   "outputs": [],
   "source": [
    "# 데이터 생성\n",
    "test1 <- data.frame(id = c(1,2,3,4,5),\n",
    "                    midterm = c(60,50,70,89,90))\n",
    "test2<- data.frame(id = c(1,2,3,4,5),\n",
    "                    final =c(80,70,46,70,90))"
   ]
  },
  {
   "cell_type": "code",
   "execution_count": 58,
   "id": "e35d95d4",
   "metadata": {},
   "outputs": [
    {
     "data": {
      "text/html": [
       "<table>\n",
       "<thead><tr><th scope=col>id</th><th scope=col>midterm</th></tr></thead>\n",
       "<tbody>\n",
       "\t<tr><td>1 </td><td>60</td></tr>\n",
       "\t<tr><td>2 </td><td>50</td></tr>\n",
       "\t<tr><td>3 </td><td>70</td></tr>\n",
       "\t<tr><td>4 </td><td>89</td></tr>\n",
       "\t<tr><td>5 </td><td>90</td></tr>\n",
       "</tbody>\n",
       "</table>\n"
      ],
      "text/latex": [
       "\\begin{tabular}{r|ll}\n",
       " id & midterm\\\\\n",
       "\\hline\n",
       "\t 1  & 60\\\\\n",
       "\t 2  & 50\\\\\n",
       "\t 3  & 70\\\\\n",
       "\t 4  & 89\\\\\n",
       "\t 5  & 90\\\\\n",
       "\\end{tabular}\n"
      ],
      "text/markdown": [
       "\n",
       "| id | midterm |\n",
       "|---|---|\n",
       "| 1  | 60 |\n",
       "| 2  | 50 |\n",
       "| 3  | 70 |\n",
       "| 4  | 89 |\n",
       "| 5  | 90 |\n",
       "\n"
      ],
      "text/plain": [
       "  id midterm\n",
       "1 1  60     \n",
       "2 2  50     \n",
       "3 3  70     \n",
       "4 4  89     \n",
       "5 5  90     "
      ]
     },
     "metadata": {},
     "output_type": "display_data"
    }
   ],
   "source": [
    "test1"
   ]
  },
  {
   "cell_type": "code",
   "execution_count": 59,
   "id": "5ebfc964",
   "metadata": {},
   "outputs": [
    {
     "data": {
      "text/html": [
       "<table>\n",
       "<thead><tr><th scope=col>id</th><th scope=col>final</th></tr></thead>\n",
       "<tbody>\n",
       "\t<tr><td>1 </td><td>80</td></tr>\n",
       "\t<tr><td>2 </td><td>70</td></tr>\n",
       "\t<tr><td>3 </td><td>46</td></tr>\n",
       "\t<tr><td>4 </td><td>70</td></tr>\n",
       "\t<tr><td>5 </td><td>90</td></tr>\n",
       "</tbody>\n",
       "</table>\n"
      ],
      "text/latex": [
       "\\begin{tabular}{r|ll}\n",
       " id & final\\\\\n",
       "\\hline\n",
       "\t 1  & 80\\\\\n",
       "\t 2  & 70\\\\\n",
       "\t 3  & 46\\\\\n",
       "\t 4  & 70\\\\\n",
       "\t 5  & 90\\\\\n",
       "\\end{tabular}\n"
      ],
      "text/markdown": [
       "\n",
       "| id | final |\n",
       "|---|---|\n",
       "| 1  | 80 |\n",
       "| 2  | 70 |\n",
       "| 3  | 46 |\n",
       "| 4  | 70 |\n",
       "| 5  | 90 |\n",
       "\n"
      ],
      "text/plain": [
       "  id final\n",
       "1 1  80   \n",
       "2 2  70   \n",
       "3 3  46   \n",
       "4 4  70   \n",
       "5 5  90   "
      ]
     },
     "metadata": {},
     "output_type": "display_data"
    }
   ],
   "source": [
    "test2"
   ]
  },
  {
   "cell_type": "code",
   "execution_count": 61,
   "id": "f907f648",
   "metadata": {},
   "outputs": [
    {
     "data": {
      "text/html": [
       "<table>\n",
       "<thead><tr><th scope=col>id</th><th scope=col>midterm</th><th scope=col>final</th></tr></thead>\n",
       "<tbody>\n",
       "\t<tr><td>1 </td><td>60</td><td>80</td></tr>\n",
       "\t<tr><td>2 </td><td>50</td><td>70</td></tr>\n",
       "\t<tr><td>3 </td><td>70</td><td>46</td></tr>\n",
       "\t<tr><td>4 </td><td>89</td><td>70</td></tr>\n",
       "\t<tr><td>5 </td><td>90</td><td>90</td></tr>\n",
       "</tbody>\n",
       "</table>\n"
      ],
      "text/latex": [
       "\\begin{tabular}{r|lll}\n",
       " id & midterm & final\\\\\n",
       "\\hline\n",
       "\t 1  & 60 & 80\\\\\n",
       "\t 2  & 50 & 70\\\\\n",
       "\t 3  & 70 & 46\\\\\n",
       "\t 4  & 89 & 70\\\\\n",
       "\t 5  & 90 & 90\\\\\n",
       "\\end{tabular}\n"
      ],
      "text/markdown": [
       "\n",
       "| id | midterm | final |\n",
       "|---|---|---|\n",
       "| 1  | 60 | 80 |\n",
       "| 2  | 50 | 70 |\n",
       "| 3  | 70 | 46 |\n",
       "| 4  | 89 | 70 |\n",
       "| 5  | 90 | 90 |\n",
       "\n"
      ],
      "text/plain": [
       "  id midterm final\n",
       "1 1  60      80   \n",
       "2 2  50      70   \n",
       "3 3  70      46   \n",
       "4 4  89      70   \n",
       "5 5  90      90   "
      ]
     },
     "metadata": {},
     "output_type": "display_data"
    }
   ],
   "source": [
    "# id 기준으로 합쳐서 df_total에 할당\n",
    "df_total <- left_join(test1, test2, by = \"id\")\n",
    "df_total"
   ]
  },
  {
   "cell_type": "code",
   "execution_count": 62,
   "id": "074bec81",
   "metadata": {},
   "outputs": [],
   "source": [
    "df_name <-data.frame(class = c(1,2,3,4,5),\n",
    "    teacher = c(\"kim\",'lee',\"park\",\"choi\",\"jung\"))"
   ]
  },
  {
   "cell_type": "code",
   "execution_count": 63,
   "id": "16f88b76",
   "metadata": {},
   "outputs": [
    {
     "data": {
      "text/html": [
       "<table>\n",
       "<thead><tr><th scope=col>class</th><th scope=col>teacher</th></tr></thead>\n",
       "<tbody>\n",
       "\t<tr><td>1   </td><td>kim </td></tr>\n",
       "\t<tr><td>2   </td><td>lee </td></tr>\n",
       "\t<tr><td>3   </td><td>park</td></tr>\n",
       "\t<tr><td>4   </td><td>choi</td></tr>\n",
       "\t<tr><td>5   </td><td>jung</td></tr>\n",
       "</tbody>\n",
       "</table>\n"
      ],
      "text/latex": [
       "\\begin{tabular}{r|ll}\n",
       " class & teacher\\\\\n",
       "\\hline\n",
       "\t 1    & kim \\\\\n",
       "\t 2    & lee \\\\\n",
       "\t 3    & park\\\\\n",
       "\t 4    & choi\\\\\n",
       "\t 5    & jung\\\\\n",
       "\\end{tabular}\n"
      ],
      "text/markdown": [
       "\n",
       "| class | teacher |\n",
       "|---|---|\n",
       "| 1    | kim  |\n",
       "| 2    | lee  |\n",
       "| 3    | park |\n",
       "| 4    | choi |\n",
       "| 5    | jung |\n",
       "\n"
      ],
      "text/plain": [
       "  class teacher\n",
       "1 1     kim    \n",
       "2 2     lee    \n",
       "3 3     park   \n",
       "4 4     choi   \n",
       "5 5     jung   "
      ]
     },
     "metadata": {},
     "output_type": "display_data"
    }
   ],
   "source": [
    "df_name"
   ]
  },
  {
   "cell_type": "code",
   "execution_count": 65,
   "id": "74eea732",
   "metadata": {},
   "outputs": [
    {
     "data": {
      "text/html": [
       "<table>\n",
       "<thead><tr><th scope=col>id</th><th scope=col>class</th><th scope=col>math</th><th scope=col>english</th><th scope=col>science</th><th scope=col>teacher</th></tr></thead>\n",
       "<tbody>\n",
       "\t<tr><td> 1  </td><td>1   </td><td>50  </td><td>98  </td><td>50  </td><td>kim </td></tr>\n",
       "\t<tr><td> 2  </td><td>1   </td><td>60  </td><td>97  </td><td>60  </td><td>kim </td></tr>\n",
       "\t<tr><td> 3  </td><td>1   </td><td>45  </td><td>86  </td><td>78  </td><td>kim </td></tr>\n",
       "\t<tr><td> 4  </td><td>1   </td><td>30  </td><td>98  </td><td>58  </td><td>kim </td></tr>\n",
       "\t<tr><td> 5  </td><td>2   </td><td>25  </td><td>80  </td><td>65  </td><td>lee </td></tr>\n",
       "\t<tr><td> 6  </td><td>2   </td><td>50  </td><td>89  </td><td>98  </td><td>lee </td></tr>\n",
       "\t<tr><td> 7  </td><td>2   </td><td>80  </td><td>90  </td><td>45  </td><td>lee </td></tr>\n",
       "\t<tr><td> 8  </td><td>2   </td><td>90  </td><td>78  </td><td>25  </td><td>lee </td></tr>\n",
       "\t<tr><td> 9  </td><td>3   </td><td>20  </td><td>98  </td><td>15  </td><td>park</td></tr>\n",
       "\t<tr><td>10  </td><td>3   </td><td>50  </td><td>98  </td><td>45  </td><td>park</td></tr>\n",
       "\t<tr><td>11  </td><td>3   </td><td>65  </td><td>65  </td><td>65  </td><td>park</td></tr>\n",
       "\t<tr><td>12  </td><td>3   </td><td>45  </td><td>85  </td><td>32  </td><td>park</td></tr>\n",
       "\t<tr><td>13  </td><td>4   </td><td>46  </td><td>98  </td><td>65  </td><td>choi</td></tr>\n",
       "\t<tr><td>14  </td><td>4   </td><td>48  </td><td>87  </td><td>12  </td><td>choi</td></tr>\n",
       "\t<tr><td>15  </td><td>4   </td><td>75  </td><td>56  </td><td>78  </td><td>choi</td></tr>\n",
       "\t<tr><td>16  </td><td>4   </td><td>58  </td><td>98  </td><td>65  </td><td>choi</td></tr>\n",
       "\t<tr><td>17  </td><td>5   </td><td>65  </td><td>68  </td><td>98  </td><td>jung</td></tr>\n",
       "\t<tr><td>18  </td><td>5   </td><td>80  </td><td>78  </td><td>90  </td><td>jung</td></tr>\n",
       "\t<tr><td>19  </td><td>5   </td><td>89  </td><td>68  </td><td>87  </td><td>jung</td></tr>\n",
       "\t<tr><td>20  </td><td>5   </td><td>78  </td><td>83  </td><td>58  </td><td>jung</td></tr>\n",
       "</tbody>\n",
       "</table>\n"
      ],
      "text/latex": [
       "\\begin{tabular}{r|llllll}\n",
       " id & class & math & english & science & teacher\\\\\n",
       "\\hline\n",
       "\t  1   & 1    & 50   & 98   & 50   & kim \\\\\n",
       "\t  2   & 1    & 60   & 97   & 60   & kim \\\\\n",
       "\t  3   & 1    & 45   & 86   & 78   & kim \\\\\n",
       "\t  4   & 1    & 30   & 98   & 58   & kim \\\\\n",
       "\t  5   & 2    & 25   & 80   & 65   & lee \\\\\n",
       "\t  6   & 2    & 50   & 89   & 98   & lee \\\\\n",
       "\t  7   & 2    & 80   & 90   & 45   & lee \\\\\n",
       "\t  8   & 2    & 90   & 78   & 25   & lee \\\\\n",
       "\t  9   & 3    & 20   & 98   & 15   & park\\\\\n",
       "\t 10   & 3    & 50   & 98   & 45   & park\\\\\n",
       "\t 11   & 3    & 65   & 65   & 65   & park\\\\\n",
       "\t 12   & 3    & 45   & 85   & 32   & park\\\\\n",
       "\t 13   & 4    & 46   & 98   & 65   & choi\\\\\n",
       "\t 14   & 4    & 48   & 87   & 12   & choi\\\\\n",
       "\t 15   & 4    & 75   & 56   & 78   & choi\\\\\n",
       "\t 16   & 4    & 58   & 98   & 65   & choi\\\\\n",
       "\t 17   & 5    & 65   & 68   & 98   & jung\\\\\n",
       "\t 18   & 5    & 80   & 78   & 90   & jung\\\\\n",
       "\t 19   & 5    & 89   & 68   & 87   & jung\\\\\n",
       "\t 20   & 5    & 78   & 83   & 58   & jung\\\\\n",
       "\\end{tabular}\n"
      ],
      "text/markdown": [
       "\n",
       "| id | class | math | english | science | teacher |\n",
       "|---|---|---|---|---|---|\n",
       "|  1   | 1    | 50   | 98   | 50   | kim  |\n",
       "|  2   | 1    | 60   | 97   | 60   | kim  |\n",
       "|  3   | 1    | 45   | 86   | 78   | kim  |\n",
       "|  4   | 1    | 30   | 98   | 58   | kim  |\n",
       "|  5   | 2    | 25   | 80   | 65   | lee  |\n",
       "|  6   | 2    | 50   | 89   | 98   | lee  |\n",
       "|  7   | 2    | 80   | 90   | 45   | lee  |\n",
       "|  8   | 2    | 90   | 78   | 25   | lee  |\n",
       "|  9   | 3    | 20   | 98   | 15   | park |\n",
       "| 10   | 3    | 50   | 98   | 45   | park |\n",
       "| 11   | 3    | 65   | 65   | 65   | park |\n",
       "| 12   | 3    | 45   | 85   | 32   | park |\n",
       "| 13   | 4    | 46   | 98   | 65   | choi |\n",
       "| 14   | 4    | 48   | 87   | 12   | choi |\n",
       "| 15   | 4    | 75   | 56   | 78   | choi |\n",
       "| 16   | 4    | 58   | 98   | 65   | choi |\n",
       "| 17   | 5    | 65   | 68   | 98   | jung |\n",
       "| 18   | 5    | 80   | 78   | 90   | jung |\n",
       "| 19   | 5    | 89   | 68   | 87   | jung |\n",
       "| 20   | 5    | 78   | 83   | 58   | jung |\n",
       "\n"
      ],
      "text/plain": [
       "   id class math english science teacher\n",
       "1   1 1     50   98      50      kim    \n",
       "2   2 1     60   97      60      kim    \n",
       "3   3 1     45   86      78      kim    \n",
       "4   4 1     30   98      58      kim    \n",
       "5   5 2     25   80      65      lee    \n",
       "6   6 2     50   89      98      lee    \n",
       "7   7 2     80   90      45      lee    \n",
       "8   8 2     90   78      25      lee    \n",
       "9   9 3     20   98      15      park   \n",
       "10 10 3     50   98      45      park   \n",
       "11 11 3     65   65      65      park   \n",
       "12 12 3     45   85      32      park   \n",
       "13 13 4     46   98      65      choi   \n",
       "14 14 4     48   87      12      choi   \n",
       "15 15 4     75   56      78      choi   \n",
       "16 16 4     58   98      65      choi   \n",
       "17 17 5     65   68      98      jung   \n",
       "18 18 5     80   78      90      jung   \n",
       "19 19 5     89   68      87      jung   \n",
       "20 20 5     78   83      58      jung   "
      ]
     },
     "metadata": {},
     "output_type": "display_data"
    }
   ],
   "source": [
    "#class 기준으로 합치기\n",
    "exam_new <- left_join(exam, df_name, by=\"class\")\n",
    "exam_new"
   ]
  },
  {
   "cell_type": "code",
   "execution_count": 66,
   "id": "02fffa3e",
   "metadata": {},
   "outputs": [],
   "source": [
    "#세로로 합치기\n",
    "group_a <- data.frame(id= c(1,2,3,4,5),\n",
    "                     test= c(56,34,76,68,78))\n",
    "#세로로 합치기\n",
    "group_b <- data.frame(id= c(6,7,8,9,10),\n",
    "                     test= c(56,34,96,38,88))"
   ]
  },
  {
   "cell_type": "code",
   "execution_count": 67,
   "id": "59e61e8b",
   "metadata": {},
   "outputs": [
    {
     "data": {
      "text/html": [
       "<table>\n",
       "<thead><tr><th scope=col>id</th><th scope=col>test</th></tr></thead>\n",
       "<tbody>\n",
       "\t<tr><td>1 </td><td>56</td></tr>\n",
       "\t<tr><td>2 </td><td>34</td></tr>\n",
       "\t<tr><td>3 </td><td>76</td></tr>\n",
       "\t<tr><td>4 </td><td>68</td></tr>\n",
       "\t<tr><td>5 </td><td>78</td></tr>\n",
       "</tbody>\n",
       "</table>\n"
      ],
      "text/latex": [
       "\\begin{tabular}{r|ll}\n",
       " id & test\\\\\n",
       "\\hline\n",
       "\t 1  & 56\\\\\n",
       "\t 2  & 34\\\\\n",
       "\t 3  & 76\\\\\n",
       "\t 4  & 68\\\\\n",
       "\t 5  & 78\\\\\n",
       "\\end{tabular}\n"
      ],
      "text/markdown": [
       "\n",
       "| id | test |\n",
       "|---|---|\n",
       "| 1  | 56 |\n",
       "| 2  | 34 |\n",
       "| 3  | 76 |\n",
       "| 4  | 68 |\n",
       "| 5  | 78 |\n",
       "\n"
      ],
      "text/plain": [
       "  id test\n",
       "1 1  56  \n",
       "2 2  34  \n",
       "3 3  76  \n",
       "4 4  68  \n",
       "5 5  78  "
      ]
     },
     "metadata": {},
     "output_type": "display_data"
    }
   ],
   "source": [
    "group_a"
   ]
  },
  {
   "cell_type": "code",
   "execution_count": 68,
   "id": "ad49da49",
   "metadata": {},
   "outputs": [
    {
     "data": {
      "text/html": [
       "<table>\n",
       "<thead><tr><th scope=col>id</th><th scope=col>test</th></tr></thead>\n",
       "<tbody>\n",
       "\t<tr><td> 6</td><td>56</td></tr>\n",
       "\t<tr><td> 7</td><td>34</td></tr>\n",
       "\t<tr><td> 8</td><td>96</td></tr>\n",
       "\t<tr><td> 9</td><td>38</td></tr>\n",
       "\t<tr><td>10</td><td>88</td></tr>\n",
       "</tbody>\n",
       "</table>\n"
      ],
      "text/latex": [
       "\\begin{tabular}{r|ll}\n",
       " id & test\\\\\n",
       "\\hline\n",
       "\t  6 & 56\\\\\n",
       "\t  7 & 34\\\\\n",
       "\t  8 & 96\\\\\n",
       "\t  9 & 38\\\\\n",
       "\t 10 & 88\\\\\n",
       "\\end{tabular}\n"
      ],
      "text/markdown": [
       "\n",
       "| id | test |\n",
       "|---|---|\n",
       "|  6 | 56 |\n",
       "|  7 | 34 |\n",
       "|  8 | 96 |\n",
       "|  9 | 38 |\n",
       "| 10 | 88 |\n",
       "\n"
      ],
      "text/plain": [
       "  id test\n",
       "1  6 56  \n",
       "2  7 34  \n",
       "3  8 96  \n",
       "4  9 38  \n",
       "5 10 88  "
      ]
     },
     "metadata": {},
     "output_type": "display_data"
    }
   ],
   "source": [
    "group_b"
   ]
  },
  {
   "cell_type": "code",
   "execution_count": 69,
   "id": "5ba7e3d1",
   "metadata": {},
   "outputs": [
    {
     "data": {
      "text/html": [
       "<table>\n",
       "<thead><tr><th scope=col>id</th><th scope=col>test</th></tr></thead>\n",
       "<tbody>\n",
       "\t<tr><td> 1</td><td>56</td></tr>\n",
       "\t<tr><td> 2</td><td>34</td></tr>\n",
       "\t<tr><td> 3</td><td>76</td></tr>\n",
       "\t<tr><td> 4</td><td>68</td></tr>\n",
       "\t<tr><td> 5</td><td>78</td></tr>\n",
       "\t<tr><td> 6</td><td>56</td></tr>\n",
       "\t<tr><td> 7</td><td>34</td></tr>\n",
       "\t<tr><td> 8</td><td>96</td></tr>\n",
       "\t<tr><td> 9</td><td>38</td></tr>\n",
       "\t<tr><td>10</td><td>88</td></tr>\n",
       "</tbody>\n",
       "</table>\n"
      ],
      "text/latex": [
       "\\begin{tabular}{r|ll}\n",
       " id & test\\\\\n",
       "\\hline\n",
       "\t  1 & 56\\\\\n",
       "\t  2 & 34\\\\\n",
       "\t  3 & 76\\\\\n",
       "\t  4 & 68\\\\\n",
       "\t  5 & 78\\\\\n",
       "\t  6 & 56\\\\\n",
       "\t  7 & 34\\\\\n",
       "\t  8 & 96\\\\\n",
       "\t  9 & 38\\\\\n",
       "\t 10 & 88\\\\\n",
       "\\end{tabular}\n"
      ],
      "text/markdown": [
       "\n",
       "| id | test |\n",
       "|---|---|\n",
       "|  1 | 56 |\n",
       "|  2 | 34 |\n",
       "|  3 | 76 |\n",
       "|  4 | 68 |\n",
       "|  5 | 78 |\n",
       "|  6 | 56 |\n",
       "|  7 | 34 |\n",
       "|  8 | 96 |\n",
       "|  9 | 38 |\n",
       "| 10 | 88 |\n",
       "\n"
      ],
      "text/plain": [
       "   id test\n",
       "1   1 56  \n",
       "2   2 34  \n",
       "3   3 76  \n",
       "4   4 68  \n",
       "5   5 78  \n",
       "6   6 56  \n",
       "7   7 34  \n",
       "8   8 96  \n",
       "9   9 38  \n",
       "10 10 88  "
      ]
     },
     "metadata": {},
     "output_type": "display_data"
    }
   ],
   "source": [
    "# 데이터를 세로로 합쳐서 group_all 에 할당\n",
    "group_all <- bind_rows(group_a,group_b)\n",
    "group_all"
   ]
  },
  {
   "cell_type": "markdown",
   "id": "14b69c54",
   "metadata": {},
   "source": [
    "## mpg데이터 분석연습"
   ]
  },
  {
   "cell_type": "code",
   "execution_count": 78,
   "id": "e3294b80",
   "metadata": {},
   "outputs": [],
   "source": [
    "#fuel 데이터\n",
    "fuel <- data.frame(fl = c(\"c\",\"d\",\"e\",\"p\",\"r\"),\n",
    "                      price_fl = c(2.34,2.45,2.55,2.12,2.55),\n",
    "                    stringsAsFactors =F)"
   ]
  },
  {
   "cell_type": "code",
   "execution_count": 76,
   "id": "e376f469",
   "metadata": {},
   "outputs": [
    {
     "data": {
      "text/html": [
       "<table>\n",
       "<thead><tr><th scope=col>fl</th><th scope=col>price_fl</th><th scope=col>stringAsFactors</th></tr></thead>\n",
       "<tbody>\n",
       "\t<tr><td>c    </td><td>2.34 </td><td>FALSE</td></tr>\n",
       "\t<tr><td>d    </td><td>2.45 </td><td>FALSE</td></tr>\n",
       "\t<tr><td>e    </td><td>2.55 </td><td>FALSE</td></tr>\n",
       "\t<tr><td>p    </td><td>2.12 </td><td>FALSE</td></tr>\n",
       "\t<tr><td>r    </td><td>2.55 </td><td>FALSE</td></tr>\n",
       "</tbody>\n",
       "</table>\n"
      ],
      "text/latex": [
       "\\begin{tabular}{r|lll}\n",
       " fl & price\\_fl & stringAsFactors\\\\\n",
       "\\hline\n",
       "\t c     & 2.34  & FALSE\\\\\n",
       "\t d     & 2.45  & FALSE\\\\\n",
       "\t e     & 2.55  & FALSE\\\\\n",
       "\t p     & 2.12  & FALSE\\\\\n",
       "\t r     & 2.55  & FALSE\\\\\n",
       "\\end{tabular}\n"
      ],
      "text/markdown": [
       "\n",
       "| fl | price_fl | stringAsFactors |\n",
       "|---|---|---|\n",
       "| c     | 2.34  | FALSE |\n",
       "| d     | 2.45  | FALSE |\n",
       "| e     | 2.55  | FALSE |\n",
       "| p     | 2.12  | FALSE |\n",
       "| r     | 2.55  | FALSE |\n",
       "\n"
      ],
      "text/plain": [
       "  fl price_fl stringAsFactors\n",
       "1 c  2.34     FALSE          \n",
       "2 d  2.45     FALSE          \n",
       "3 e  2.55     FALSE          \n",
       "4 p  2.12     FALSE          \n",
       "5 r  2.55     FALSE          "
      ]
     },
     "metadata": {},
     "output_type": "display_data"
    }
   ],
   "source": [
    "fuel"
   ]
  },
  {
   "cell_type": "code",
   "execution_count": 79,
   "id": "86d68a0d",
   "metadata": {},
   "outputs": [
    {
     "data": {
      "text/html": [
       "<table>\n",
       "<thead><tr><th scope=col>manufacturer</th><th scope=col>model</th><th scope=col>displ</th><th scope=col>year</th><th scope=col>cyl</th><th scope=col>trans</th><th scope=col>drv</th><th scope=col>cty</th><th scope=col>hwy</th><th scope=col>fl</th><th scope=col>class</th><th scope=col>price_fl</th></tr></thead>\n",
       "<tbody>\n",
       "\t<tr><td>audi              </td><td>a4                </td><td>1.8               </td><td>1999              </td><td>4                 </td><td>auto(l5)          </td><td>f                 </td><td>18                </td><td>29                </td><td>p                 </td><td>compact           </td><td>2.12              </td></tr>\n",
       "\t<tr><td>audi              </td><td>a4                </td><td>1.8               </td><td>1999              </td><td>4                 </td><td>manual(m5)        </td><td>f                 </td><td>21                </td><td>29                </td><td>p                 </td><td>compact           </td><td>2.12              </td></tr>\n",
       "\t<tr><td>audi              </td><td>a4                </td><td>2.0               </td><td>2008              </td><td>4                 </td><td>manual(m6)        </td><td>f                 </td><td>20                </td><td>31                </td><td>p                 </td><td>compact           </td><td>2.12              </td></tr>\n",
       "\t<tr><td>audi              </td><td>a4                </td><td>2.0               </td><td>2008              </td><td>4                 </td><td>auto(av)          </td><td>f                 </td><td>21                </td><td>30                </td><td>p                 </td><td>compact           </td><td>2.12              </td></tr>\n",
       "\t<tr><td>audi              </td><td>a4                </td><td>2.8               </td><td>1999              </td><td>6                 </td><td>auto(l5)          </td><td>f                 </td><td>16                </td><td>26                </td><td>p                 </td><td>compact           </td><td>2.12              </td></tr>\n",
       "\t<tr><td>audi              </td><td>a4                </td><td>2.8               </td><td>1999              </td><td>6                 </td><td>manual(m5)        </td><td>f                 </td><td>18                </td><td>26                </td><td>p                 </td><td>compact           </td><td>2.12              </td></tr>\n",
       "\t<tr><td>audi              </td><td>a4                </td><td>3.1               </td><td>2008              </td><td>6                 </td><td>auto(av)          </td><td>f                 </td><td>18                </td><td>27                </td><td>p                 </td><td>compact           </td><td>2.12              </td></tr>\n",
       "\t<tr><td>audi              </td><td>a4 quattro        </td><td>1.8               </td><td>1999              </td><td>4                 </td><td>manual(m5)        </td><td>4                 </td><td>18                </td><td>26                </td><td>p                 </td><td>compact           </td><td>2.12              </td></tr>\n",
       "\t<tr><td>audi              </td><td>a4 quattro        </td><td>1.8               </td><td>1999              </td><td>4                 </td><td>auto(l5)          </td><td>4                 </td><td>16                </td><td>25                </td><td>p                 </td><td>compact           </td><td>2.12              </td></tr>\n",
       "\t<tr><td>audi              </td><td>a4 quattro        </td><td>2.0               </td><td>2008              </td><td>4                 </td><td>manual(m6)        </td><td>4                 </td><td>20                </td><td>28                </td><td>p                 </td><td>compact           </td><td>2.12              </td></tr>\n",
       "\t<tr><td>audi              </td><td>a4 quattro        </td><td>2.0               </td><td>2008              </td><td>4                 </td><td>auto(s6)          </td><td>4                 </td><td>19                </td><td>27                </td><td>p                 </td><td>compact           </td><td>2.12              </td></tr>\n",
       "\t<tr><td>audi              </td><td>a4 quattro        </td><td>2.8               </td><td>1999              </td><td>6                 </td><td>auto(l5)          </td><td>4                 </td><td>15                </td><td>25                </td><td>p                 </td><td>compact           </td><td>2.12              </td></tr>\n",
       "\t<tr><td>audi              </td><td>a4 quattro        </td><td>2.8               </td><td>1999              </td><td>6                 </td><td>manual(m5)        </td><td>4                 </td><td>17                </td><td>25                </td><td>p                 </td><td>compact           </td><td>2.12              </td></tr>\n",
       "\t<tr><td>audi              </td><td>a4 quattro        </td><td>3.1               </td><td>2008              </td><td>6                 </td><td>auto(s6)          </td><td>4                 </td><td>17                </td><td>25                </td><td>p                 </td><td>compact           </td><td>2.12              </td></tr>\n",
       "\t<tr><td>audi              </td><td>a4 quattro        </td><td>3.1               </td><td>2008              </td><td>6                 </td><td>manual(m6)        </td><td>4                 </td><td>15                </td><td>25                </td><td>p                 </td><td>compact           </td><td>2.12              </td></tr>\n",
       "\t<tr><td>audi              </td><td>a6 quattro        </td><td>2.8               </td><td>1999              </td><td>6                 </td><td>auto(l5)          </td><td>4                 </td><td>15                </td><td>24                </td><td>p                 </td><td>midsize           </td><td>2.12              </td></tr>\n",
       "\t<tr><td>audi              </td><td>a6 quattro        </td><td>3.1               </td><td>2008              </td><td>6                 </td><td>auto(s6)          </td><td>4                 </td><td>17                </td><td>25                </td><td>p                 </td><td>midsize           </td><td>2.12              </td></tr>\n",
       "\t<tr><td>audi              </td><td>a6 quattro        </td><td>4.2               </td><td>2008              </td><td>8                 </td><td>auto(s6)          </td><td>4                 </td><td>16                </td><td>23                </td><td>p                 </td><td>midsize           </td><td>2.12              </td></tr>\n",
       "\t<tr><td>chevrolet         </td><td>c1500 suburban 2wd</td><td>5.3               </td><td>2008              </td><td>8                 </td><td>auto(l4)          </td><td>r                 </td><td>14                </td><td>20                </td><td>r                 </td><td>suv               </td><td>2.55              </td></tr>\n",
       "\t<tr><td>chevrolet         </td><td>c1500 suburban 2wd</td><td>5.3               </td><td>2008              </td><td>8                 </td><td>auto(l4)          </td><td>r                 </td><td>11                </td><td>15                </td><td>e                 </td><td>suv               </td><td>2.55              </td></tr>\n",
       "\t<tr><td>chevrolet         </td><td>c1500 suburban 2wd</td><td>5.3               </td><td>2008              </td><td>8                 </td><td>auto(l4)          </td><td>r                 </td><td>14                </td><td>20                </td><td>r                 </td><td>suv               </td><td>2.55              </td></tr>\n",
       "\t<tr><td>chevrolet         </td><td>c1500 suburban 2wd</td><td>5.7               </td><td>1999              </td><td>8                 </td><td>auto(l4)          </td><td>r                 </td><td>13                </td><td>17                </td><td>r                 </td><td>suv               </td><td>2.55              </td></tr>\n",
       "\t<tr><td>chevrolet         </td><td>c1500 suburban 2wd</td><td>6.0               </td><td>2008              </td><td>8                 </td><td>auto(l4)          </td><td>r                 </td><td>12                </td><td>17                </td><td>r                 </td><td>suv               </td><td>2.55              </td></tr>\n",
       "\t<tr><td>chevrolet         </td><td>corvette          </td><td>5.7               </td><td>1999              </td><td>8                 </td><td>manual(m6)        </td><td>r                 </td><td>16                </td><td>26                </td><td>p                 </td><td>2seater           </td><td>2.12              </td></tr>\n",
       "\t<tr><td>chevrolet         </td><td>corvette          </td><td>5.7               </td><td>1999              </td><td>8                 </td><td>auto(l4)          </td><td>r                 </td><td>15                </td><td>23                </td><td>p                 </td><td>2seater           </td><td>2.12              </td></tr>\n",
       "\t<tr><td>chevrolet         </td><td>corvette          </td><td>6.2               </td><td>2008              </td><td>8                 </td><td>manual(m6)        </td><td>r                 </td><td>16                </td><td>26                </td><td>p                 </td><td>2seater           </td><td>2.12              </td></tr>\n",
       "\t<tr><td>chevrolet         </td><td>corvette          </td><td>6.2               </td><td>2008              </td><td>8                 </td><td>auto(s6)          </td><td>r                 </td><td>15                </td><td>25                </td><td>p                 </td><td>2seater           </td><td>2.12              </td></tr>\n",
       "\t<tr><td>chevrolet         </td><td>corvette          </td><td>7.0               </td><td>2008              </td><td>8                 </td><td>manual(m6)        </td><td>r                 </td><td>15                </td><td>24                </td><td>p                 </td><td>2seater           </td><td>2.12              </td></tr>\n",
       "\t<tr><td>chevrolet         </td><td>k1500 tahoe 4wd   </td><td>5.3               </td><td>2008              </td><td>8                 </td><td>auto(l4)          </td><td>4                 </td><td>14                </td><td>19                </td><td>r                 </td><td>suv               </td><td>2.55              </td></tr>\n",
       "\t<tr><td>chevrolet         </td><td>k1500 tahoe 4wd   </td><td>5.3               </td><td>2008              </td><td>8                 </td><td>auto(l4)          </td><td>4                 </td><td>11                </td><td>14                </td><td>e                 </td><td>suv               </td><td>2.55              </td></tr>\n",
       "\t<tr><td>...</td><td>...</td><td>...</td><td>...</td><td>...</td><td>...</td><td>...</td><td>...</td><td>...</td><td>...</td><td>...</td><td>...</td></tr>\n",
       "\t<tr><td>toyota           </td><td>toyota tacoma 4wd</td><td>3.4              </td><td>1999             </td><td>6                </td><td>auto(l4)         </td><td>4                </td><td>15               </td><td>19               </td><td>r                </td><td>pickup           </td><td>2.55             </td></tr>\n",
       "\t<tr><td>toyota           </td><td>toyota tacoma 4wd</td><td>4.0              </td><td>2008             </td><td>6                </td><td>manual(m6)       </td><td>4                </td><td>15               </td><td>18               </td><td>r                </td><td>pickup           </td><td>2.55             </td></tr>\n",
       "\t<tr><td>toyota           </td><td>toyota tacoma 4wd</td><td>4.0              </td><td>2008             </td><td>6                </td><td>auto(l5)         </td><td>4                </td><td>16               </td><td>20               </td><td>r                </td><td>pickup           </td><td>2.55             </td></tr>\n",
       "\t<tr><td>volkswagen       </td><td>gti              </td><td>2.0              </td><td>1999             </td><td>4                </td><td>manual(m5)       </td><td>f                </td><td>21               </td><td>29               </td><td>r                </td><td>compact          </td><td>2.55             </td></tr>\n",
       "\t<tr><td>volkswagen       </td><td>gti              </td><td>2.0              </td><td>1999             </td><td>4                </td><td>auto(l4)         </td><td>f                </td><td>19               </td><td>26               </td><td>r                </td><td>compact          </td><td>2.55             </td></tr>\n",
       "\t<tr><td>volkswagen       </td><td>gti              </td><td>2.0              </td><td>2008             </td><td>4                </td><td>manual(m6)       </td><td>f                </td><td>21               </td><td>29               </td><td>p                </td><td>compact          </td><td>2.12             </td></tr>\n",
       "\t<tr><td>volkswagen       </td><td>gti              </td><td>2.0              </td><td>2008             </td><td>4                </td><td>auto(s6)         </td><td>f                </td><td>22               </td><td>29               </td><td>p                </td><td>compact          </td><td>2.12             </td></tr>\n",
       "\t<tr><td>volkswagen       </td><td>gti              </td><td>2.8              </td><td>1999             </td><td>6                </td><td>manual(m5)       </td><td>f                </td><td>17               </td><td>24               </td><td>r                </td><td>compact          </td><td>2.55             </td></tr>\n",
       "\t<tr><td>volkswagen       </td><td>jetta            </td><td>1.9              </td><td>1999             </td><td>4                </td><td>manual(m5)       </td><td>f                </td><td>33               </td><td>44               </td><td>d                </td><td>compact          </td><td>2.45             </td></tr>\n",
       "\t<tr><td>volkswagen       </td><td>jetta            </td><td>2.0              </td><td>1999             </td><td>4                </td><td>manual(m5)       </td><td>f                </td><td>21               </td><td>29               </td><td>r                </td><td>compact          </td><td>2.55             </td></tr>\n",
       "\t<tr><td>volkswagen       </td><td>jetta            </td><td>2.0              </td><td>1999             </td><td>4                </td><td>auto(l4)         </td><td>f                </td><td>19               </td><td>26               </td><td>r                </td><td>compact          </td><td>2.55             </td></tr>\n",
       "\t<tr><td>volkswagen       </td><td>jetta            </td><td>2.0              </td><td>2008             </td><td>4                </td><td>auto(s6)         </td><td>f                </td><td>22               </td><td>29               </td><td>p                </td><td>compact          </td><td>2.12             </td></tr>\n",
       "\t<tr><td>volkswagen       </td><td>jetta            </td><td>2.0              </td><td>2008             </td><td>4                </td><td>manual(m6)       </td><td>f                </td><td>21               </td><td>29               </td><td>p                </td><td>compact          </td><td>2.12             </td></tr>\n",
       "\t<tr><td>volkswagen       </td><td>jetta            </td><td>2.5              </td><td>2008             </td><td>5                </td><td>auto(s6)         </td><td>f                </td><td>21               </td><td>29               </td><td>r                </td><td>compact          </td><td>2.55             </td></tr>\n",
       "\t<tr><td>volkswagen       </td><td>jetta            </td><td>2.5              </td><td>2008             </td><td>5                </td><td>manual(m5)       </td><td>f                </td><td>21               </td><td>29               </td><td>r                </td><td>compact          </td><td>2.55             </td></tr>\n",
       "\t<tr><td>volkswagen       </td><td>jetta            </td><td>2.8              </td><td>1999             </td><td>6                </td><td>auto(l4)         </td><td>f                </td><td>16               </td><td>23               </td><td>r                </td><td>compact          </td><td>2.55             </td></tr>\n",
       "\t<tr><td>volkswagen       </td><td>jetta            </td><td>2.8              </td><td>1999             </td><td>6                </td><td>manual(m5)       </td><td>f                </td><td>17               </td><td>24               </td><td>r                </td><td>compact          </td><td>2.55             </td></tr>\n",
       "\t<tr><td>volkswagen       </td><td>new beetle       </td><td>1.9              </td><td>1999             </td><td>4                </td><td>manual(m5)       </td><td>f                </td><td>35               </td><td>44               </td><td>d                </td><td>subcompact       </td><td>2.45             </td></tr>\n",
       "\t<tr><td>volkswagen       </td><td>new beetle       </td><td>1.9              </td><td>1999             </td><td>4                </td><td>auto(l4)         </td><td>f                </td><td>29               </td><td>41               </td><td>d                </td><td>subcompact       </td><td>2.45             </td></tr>\n",
       "\t<tr><td>volkswagen       </td><td>new beetle       </td><td>2.0              </td><td>1999             </td><td>4                </td><td>manual(m5)       </td><td>f                </td><td>21               </td><td>29               </td><td>r                </td><td>subcompact       </td><td>2.55             </td></tr>\n",
       "\t<tr><td>volkswagen       </td><td>new beetle       </td><td>2.0              </td><td>1999             </td><td>4                </td><td>auto(l4)         </td><td>f                </td><td>19               </td><td>26               </td><td>r                </td><td>subcompact       </td><td>2.55             </td></tr>\n",
       "\t<tr><td>volkswagen       </td><td>new beetle       </td><td>2.5              </td><td>2008             </td><td>5                </td><td>manual(m5)       </td><td>f                </td><td>20               </td><td>28               </td><td>r                </td><td>subcompact       </td><td>2.55             </td></tr>\n",
       "\t<tr><td>volkswagen       </td><td>new beetle       </td><td>2.5              </td><td>2008             </td><td>5                </td><td>auto(s6)         </td><td>f                </td><td>20               </td><td>29               </td><td>r                </td><td>subcompact       </td><td>2.55             </td></tr>\n",
       "\t<tr><td>volkswagen       </td><td>passat           </td><td>1.8              </td><td>1999             </td><td>4                </td><td>manual(m5)       </td><td>f                </td><td>21               </td><td>29               </td><td>p                </td><td>midsize          </td><td>2.12             </td></tr>\n",
       "\t<tr><td>volkswagen       </td><td>passat           </td><td>1.8              </td><td>1999             </td><td>4                </td><td>auto(l5)         </td><td>f                </td><td>18               </td><td>29               </td><td>p                </td><td>midsize          </td><td>2.12             </td></tr>\n",
       "\t<tr><td>volkswagen       </td><td>passat           </td><td>2.0              </td><td>2008             </td><td>4                </td><td>auto(s6)         </td><td>f                </td><td>19               </td><td>28               </td><td>p                </td><td>midsize          </td><td>2.12             </td></tr>\n",
       "\t<tr><td>volkswagen       </td><td>passat           </td><td>2.0              </td><td>2008             </td><td>4                </td><td>manual(m6)       </td><td>f                </td><td>21               </td><td>29               </td><td>p                </td><td>midsize          </td><td>2.12             </td></tr>\n",
       "\t<tr><td>volkswagen       </td><td>passat           </td><td>2.8              </td><td>1999             </td><td>6                </td><td>auto(l5)         </td><td>f                </td><td>16               </td><td>26               </td><td>p                </td><td>midsize          </td><td>2.12             </td></tr>\n",
       "\t<tr><td>volkswagen       </td><td>passat           </td><td>2.8              </td><td>1999             </td><td>6                </td><td>manual(m5)       </td><td>f                </td><td>18               </td><td>26               </td><td>p                </td><td>midsize          </td><td>2.12             </td></tr>\n",
       "\t<tr><td>volkswagen       </td><td>passat           </td><td>3.6              </td><td>2008             </td><td>6                </td><td>auto(s6)         </td><td>f                </td><td>17               </td><td>26               </td><td>p                </td><td>midsize          </td><td>2.12             </td></tr>\n",
       "</tbody>\n",
       "</table>\n"
      ],
      "text/latex": [
       "\\begin{tabular}{r|llllllllllll}\n",
       " manufacturer & model & displ & year & cyl & trans & drv & cty & hwy & fl & class & price\\_fl\\\\\n",
       "\\hline\n",
       "\t audi               & a4                 & 1.8                & 1999               & 4                  & auto(l5)           & f                  & 18                 & 29                 & p                  & compact            & 2.12              \\\\\n",
       "\t audi               & a4                 & 1.8                & 1999               & 4                  & manual(m5)         & f                  & 21                 & 29                 & p                  & compact            & 2.12              \\\\\n",
       "\t audi               & a4                 & 2.0                & 2008               & 4                  & manual(m6)         & f                  & 20                 & 31                 & p                  & compact            & 2.12              \\\\\n",
       "\t audi               & a4                 & 2.0                & 2008               & 4                  & auto(av)           & f                  & 21                 & 30                 & p                  & compact            & 2.12              \\\\\n",
       "\t audi               & a4                 & 2.8                & 1999               & 6                  & auto(l5)           & f                  & 16                 & 26                 & p                  & compact            & 2.12              \\\\\n",
       "\t audi               & a4                 & 2.8                & 1999               & 6                  & manual(m5)         & f                  & 18                 & 26                 & p                  & compact            & 2.12              \\\\\n",
       "\t audi               & a4                 & 3.1                & 2008               & 6                  & auto(av)           & f                  & 18                 & 27                 & p                  & compact            & 2.12              \\\\\n",
       "\t audi               & a4 quattro         & 1.8                & 1999               & 4                  & manual(m5)         & 4                  & 18                 & 26                 & p                  & compact            & 2.12              \\\\\n",
       "\t audi               & a4 quattro         & 1.8                & 1999               & 4                  & auto(l5)           & 4                  & 16                 & 25                 & p                  & compact            & 2.12              \\\\\n",
       "\t audi               & a4 quattro         & 2.0                & 2008               & 4                  & manual(m6)         & 4                  & 20                 & 28                 & p                  & compact            & 2.12              \\\\\n",
       "\t audi               & a4 quattro         & 2.0                & 2008               & 4                  & auto(s6)           & 4                  & 19                 & 27                 & p                  & compact            & 2.12              \\\\\n",
       "\t audi               & a4 quattro         & 2.8                & 1999               & 6                  & auto(l5)           & 4                  & 15                 & 25                 & p                  & compact            & 2.12              \\\\\n",
       "\t audi               & a4 quattro         & 2.8                & 1999               & 6                  & manual(m5)         & 4                  & 17                 & 25                 & p                  & compact            & 2.12              \\\\\n",
       "\t audi               & a4 quattro         & 3.1                & 2008               & 6                  & auto(s6)           & 4                  & 17                 & 25                 & p                  & compact            & 2.12              \\\\\n",
       "\t audi               & a4 quattro         & 3.1                & 2008               & 6                  & manual(m6)         & 4                  & 15                 & 25                 & p                  & compact            & 2.12              \\\\\n",
       "\t audi               & a6 quattro         & 2.8                & 1999               & 6                  & auto(l5)           & 4                  & 15                 & 24                 & p                  & midsize            & 2.12              \\\\\n",
       "\t audi               & a6 quattro         & 3.1                & 2008               & 6                  & auto(s6)           & 4                  & 17                 & 25                 & p                  & midsize            & 2.12              \\\\\n",
       "\t audi               & a6 quattro         & 4.2                & 2008               & 8                  & auto(s6)           & 4                  & 16                 & 23                 & p                  & midsize            & 2.12              \\\\\n",
       "\t chevrolet          & c1500 suburban 2wd & 5.3                & 2008               & 8                  & auto(l4)           & r                  & 14                 & 20                 & r                  & suv                & 2.55              \\\\\n",
       "\t chevrolet          & c1500 suburban 2wd & 5.3                & 2008               & 8                  & auto(l4)           & r                  & 11                 & 15                 & e                  & suv                & 2.55              \\\\\n",
       "\t chevrolet          & c1500 suburban 2wd & 5.3                & 2008               & 8                  & auto(l4)           & r                  & 14                 & 20                 & r                  & suv                & 2.55              \\\\\n",
       "\t chevrolet          & c1500 suburban 2wd & 5.7                & 1999               & 8                  & auto(l4)           & r                  & 13                 & 17                 & r                  & suv                & 2.55              \\\\\n",
       "\t chevrolet          & c1500 suburban 2wd & 6.0                & 2008               & 8                  & auto(l4)           & r                  & 12                 & 17                 & r                  & suv                & 2.55              \\\\\n",
       "\t chevrolet          & corvette           & 5.7                & 1999               & 8                  & manual(m6)         & r                  & 16                 & 26                 & p                  & 2seater            & 2.12              \\\\\n",
       "\t chevrolet          & corvette           & 5.7                & 1999               & 8                  & auto(l4)           & r                  & 15                 & 23                 & p                  & 2seater            & 2.12              \\\\\n",
       "\t chevrolet          & corvette           & 6.2                & 2008               & 8                  & manual(m6)         & r                  & 16                 & 26                 & p                  & 2seater            & 2.12              \\\\\n",
       "\t chevrolet          & corvette           & 6.2                & 2008               & 8                  & auto(s6)           & r                  & 15                 & 25                 & p                  & 2seater            & 2.12              \\\\\n",
       "\t chevrolet          & corvette           & 7.0                & 2008               & 8                  & manual(m6)         & r                  & 15                 & 24                 & p                  & 2seater            & 2.12              \\\\\n",
       "\t chevrolet          & k1500 tahoe 4wd    & 5.3                & 2008               & 8                  & auto(l4)           & 4                  & 14                 & 19                 & r                  & suv                & 2.55              \\\\\n",
       "\t chevrolet          & k1500 tahoe 4wd    & 5.3                & 2008               & 8                  & auto(l4)           & 4                  & 11                 & 14                 & e                  & suv                & 2.55              \\\\\n",
       "\t ... & ... & ... & ... & ... & ... & ... & ... & ... & ... & ... & ...\\\\\n",
       "\t toyota            & toyota tacoma 4wd & 3.4               & 1999              & 6                 & auto(l4)          & 4                 & 15                & 19                & r                 & pickup            & 2.55             \\\\\n",
       "\t toyota            & toyota tacoma 4wd & 4.0               & 2008              & 6                 & manual(m6)        & 4                 & 15                & 18                & r                 & pickup            & 2.55             \\\\\n",
       "\t toyota            & toyota tacoma 4wd & 4.0               & 2008              & 6                 & auto(l5)          & 4                 & 16                & 20                & r                 & pickup            & 2.55             \\\\\n",
       "\t volkswagen        & gti               & 2.0               & 1999              & 4                 & manual(m5)        & f                 & 21                & 29                & r                 & compact           & 2.55             \\\\\n",
       "\t volkswagen        & gti               & 2.0               & 1999              & 4                 & auto(l4)          & f                 & 19                & 26                & r                 & compact           & 2.55             \\\\\n",
       "\t volkswagen        & gti               & 2.0               & 2008              & 4                 & manual(m6)        & f                 & 21                & 29                & p                 & compact           & 2.12             \\\\\n",
       "\t volkswagen        & gti               & 2.0               & 2008              & 4                 & auto(s6)          & f                 & 22                & 29                & p                 & compact           & 2.12             \\\\\n",
       "\t volkswagen        & gti               & 2.8               & 1999              & 6                 & manual(m5)        & f                 & 17                & 24                & r                 & compact           & 2.55             \\\\\n",
       "\t volkswagen        & jetta             & 1.9               & 1999              & 4                 & manual(m5)        & f                 & 33                & 44                & d                 & compact           & 2.45             \\\\\n",
       "\t volkswagen        & jetta             & 2.0               & 1999              & 4                 & manual(m5)        & f                 & 21                & 29                & r                 & compact           & 2.55             \\\\\n",
       "\t volkswagen        & jetta             & 2.0               & 1999              & 4                 & auto(l4)          & f                 & 19                & 26                & r                 & compact           & 2.55             \\\\\n",
       "\t volkswagen        & jetta             & 2.0               & 2008              & 4                 & auto(s6)          & f                 & 22                & 29                & p                 & compact           & 2.12             \\\\\n",
       "\t volkswagen        & jetta             & 2.0               & 2008              & 4                 & manual(m6)        & f                 & 21                & 29                & p                 & compact           & 2.12             \\\\\n",
       "\t volkswagen        & jetta             & 2.5               & 2008              & 5                 & auto(s6)          & f                 & 21                & 29                & r                 & compact           & 2.55             \\\\\n",
       "\t volkswagen        & jetta             & 2.5               & 2008              & 5                 & manual(m5)        & f                 & 21                & 29                & r                 & compact           & 2.55             \\\\\n",
       "\t volkswagen        & jetta             & 2.8               & 1999              & 6                 & auto(l4)          & f                 & 16                & 23                & r                 & compact           & 2.55             \\\\\n",
       "\t volkswagen        & jetta             & 2.8               & 1999              & 6                 & manual(m5)        & f                 & 17                & 24                & r                 & compact           & 2.55             \\\\\n",
       "\t volkswagen        & new beetle        & 1.9               & 1999              & 4                 & manual(m5)        & f                 & 35                & 44                & d                 & subcompact        & 2.45             \\\\\n",
       "\t volkswagen        & new beetle        & 1.9               & 1999              & 4                 & auto(l4)          & f                 & 29                & 41                & d                 & subcompact        & 2.45             \\\\\n",
       "\t volkswagen        & new beetle        & 2.0               & 1999              & 4                 & manual(m5)        & f                 & 21                & 29                & r                 & subcompact        & 2.55             \\\\\n",
       "\t volkswagen        & new beetle        & 2.0               & 1999              & 4                 & auto(l4)          & f                 & 19                & 26                & r                 & subcompact        & 2.55             \\\\\n",
       "\t volkswagen        & new beetle        & 2.5               & 2008              & 5                 & manual(m5)        & f                 & 20                & 28                & r                 & subcompact        & 2.55             \\\\\n",
       "\t volkswagen        & new beetle        & 2.5               & 2008              & 5                 & auto(s6)          & f                 & 20                & 29                & r                 & subcompact        & 2.55             \\\\\n",
       "\t volkswagen        & passat            & 1.8               & 1999              & 4                 & manual(m5)        & f                 & 21                & 29                & p                 & midsize           & 2.12             \\\\\n",
       "\t volkswagen        & passat            & 1.8               & 1999              & 4                 & auto(l5)          & f                 & 18                & 29                & p                 & midsize           & 2.12             \\\\\n",
       "\t volkswagen        & passat            & 2.0               & 2008              & 4                 & auto(s6)          & f                 & 19                & 28                & p                 & midsize           & 2.12             \\\\\n",
       "\t volkswagen        & passat            & 2.0               & 2008              & 4                 & manual(m6)        & f                 & 21                & 29                & p                 & midsize           & 2.12             \\\\\n",
       "\t volkswagen        & passat            & 2.8               & 1999              & 6                 & auto(l5)          & f                 & 16                & 26                & p                 & midsize           & 2.12             \\\\\n",
       "\t volkswagen        & passat            & 2.8               & 1999              & 6                 & manual(m5)        & f                 & 18                & 26                & p                 & midsize           & 2.12             \\\\\n",
       "\t volkswagen        & passat            & 3.6               & 2008              & 6                 & auto(s6)          & f                 & 17                & 26                & p                 & midsize           & 2.12             \\\\\n",
       "\\end{tabular}\n"
      ],
      "text/markdown": [
       "\n",
       "| manufacturer | model | displ | year | cyl | trans | drv | cty | hwy | fl | class | price_fl |\n",
       "|---|---|---|---|---|---|---|---|---|---|---|---|\n",
       "| audi               | a4                 | 1.8                | 1999               | 4                  | auto(l5)           | f                  | 18                 | 29                 | p                  | compact            | 2.12               |\n",
       "| audi               | a4                 | 1.8                | 1999               | 4                  | manual(m5)         | f                  | 21                 | 29                 | p                  | compact            | 2.12               |\n",
       "| audi               | a4                 | 2.0                | 2008               | 4                  | manual(m6)         | f                  | 20                 | 31                 | p                  | compact            | 2.12               |\n",
       "| audi               | a4                 | 2.0                | 2008               | 4                  | auto(av)           | f                  | 21                 | 30                 | p                  | compact            | 2.12               |\n",
       "| audi               | a4                 | 2.8                | 1999               | 6                  | auto(l5)           | f                  | 16                 | 26                 | p                  | compact            | 2.12               |\n",
       "| audi               | a4                 | 2.8                | 1999               | 6                  | manual(m5)         | f                  | 18                 | 26                 | p                  | compact            | 2.12               |\n",
       "| audi               | a4                 | 3.1                | 2008               | 6                  | auto(av)           | f                  | 18                 | 27                 | p                  | compact            | 2.12               |\n",
       "| audi               | a4 quattro         | 1.8                | 1999               | 4                  | manual(m5)         | 4                  | 18                 | 26                 | p                  | compact            | 2.12               |\n",
       "| audi               | a4 quattro         | 1.8                | 1999               | 4                  | auto(l5)           | 4                  | 16                 | 25                 | p                  | compact            | 2.12               |\n",
       "| audi               | a4 quattro         | 2.0                | 2008               | 4                  | manual(m6)         | 4                  | 20                 | 28                 | p                  | compact            | 2.12               |\n",
       "| audi               | a4 quattro         | 2.0                | 2008               | 4                  | auto(s6)           | 4                  | 19                 | 27                 | p                  | compact            | 2.12               |\n",
       "| audi               | a4 quattro         | 2.8                | 1999               | 6                  | auto(l5)           | 4                  | 15                 | 25                 | p                  | compact            | 2.12               |\n",
       "| audi               | a4 quattro         | 2.8                | 1999               | 6                  | manual(m5)         | 4                  | 17                 | 25                 | p                  | compact            | 2.12               |\n",
       "| audi               | a4 quattro         | 3.1                | 2008               | 6                  | auto(s6)           | 4                  | 17                 | 25                 | p                  | compact            | 2.12               |\n",
       "| audi               | a4 quattro         | 3.1                | 2008               | 6                  | manual(m6)         | 4                  | 15                 | 25                 | p                  | compact            | 2.12               |\n",
       "| audi               | a6 quattro         | 2.8                | 1999               | 6                  | auto(l5)           | 4                  | 15                 | 24                 | p                  | midsize            | 2.12               |\n",
       "| audi               | a6 quattro         | 3.1                | 2008               | 6                  | auto(s6)           | 4                  | 17                 | 25                 | p                  | midsize            | 2.12               |\n",
       "| audi               | a6 quattro         | 4.2                | 2008               | 8                  | auto(s6)           | 4                  | 16                 | 23                 | p                  | midsize            | 2.12               |\n",
       "| chevrolet          | c1500 suburban 2wd | 5.3                | 2008               | 8                  | auto(l4)           | r                  | 14                 | 20                 | r                  | suv                | 2.55               |\n",
       "| chevrolet          | c1500 suburban 2wd | 5.3                | 2008               | 8                  | auto(l4)           | r                  | 11                 | 15                 | e                  | suv                | 2.55               |\n",
       "| chevrolet          | c1500 suburban 2wd | 5.3                | 2008               | 8                  | auto(l4)           | r                  | 14                 | 20                 | r                  | suv                | 2.55               |\n",
       "| chevrolet          | c1500 suburban 2wd | 5.7                | 1999               | 8                  | auto(l4)           | r                  | 13                 | 17                 | r                  | suv                | 2.55               |\n",
       "| chevrolet          | c1500 suburban 2wd | 6.0                | 2008               | 8                  | auto(l4)           | r                  | 12                 | 17                 | r                  | suv                | 2.55               |\n",
       "| chevrolet          | corvette           | 5.7                | 1999               | 8                  | manual(m6)         | r                  | 16                 | 26                 | p                  | 2seater            | 2.12               |\n",
       "| chevrolet          | corvette           | 5.7                | 1999               | 8                  | auto(l4)           | r                  | 15                 | 23                 | p                  | 2seater            | 2.12               |\n",
       "| chevrolet          | corvette           | 6.2                | 2008               | 8                  | manual(m6)         | r                  | 16                 | 26                 | p                  | 2seater            | 2.12               |\n",
       "| chevrolet          | corvette           | 6.2                | 2008               | 8                  | auto(s6)           | r                  | 15                 | 25                 | p                  | 2seater            | 2.12               |\n",
       "| chevrolet          | corvette           | 7.0                | 2008               | 8                  | manual(m6)         | r                  | 15                 | 24                 | p                  | 2seater            | 2.12               |\n",
       "| chevrolet          | k1500 tahoe 4wd    | 5.3                | 2008               | 8                  | auto(l4)           | 4                  | 14                 | 19                 | r                  | suv                | 2.55               |\n",
       "| chevrolet          | k1500 tahoe 4wd    | 5.3                | 2008               | 8                  | auto(l4)           | 4                  | 11                 | 14                 | e                  | suv                | 2.55               |\n",
       "| ... | ... | ... | ... | ... | ... | ... | ... | ... | ... | ... | ... |\n",
       "| toyota            | toyota tacoma 4wd | 3.4               | 1999              | 6                 | auto(l4)          | 4                 | 15                | 19                | r                 | pickup            | 2.55              |\n",
       "| toyota            | toyota tacoma 4wd | 4.0               | 2008              | 6                 | manual(m6)        | 4                 | 15                | 18                | r                 | pickup            | 2.55              |\n",
       "| toyota            | toyota tacoma 4wd | 4.0               | 2008              | 6                 | auto(l5)          | 4                 | 16                | 20                | r                 | pickup            | 2.55              |\n",
       "| volkswagen        | gti               | 2.0               | 1999              | 4                 | manual(m5)        | f                 | 21                | 29                | r                 | compact           | 2.55              |\n",
       "| volkswagen        | gti               | 2.0               | 1999              | 4                 | auto(l4)          | f                 | 19                | 26                | r                 | compact           | 2.55              |\n",
       "| volkswagen        | gti               | 2.0               | 2008              | 4                 | manual(m6)        | f                 | 21                | 29                | p                 | compact           | 2.12              |\n",
       "| volkswagen        | gti               | 2.0               | 2008              | 4                 | auto(s6)          | f                 | 22                | 29                | p                 | compact           | 2.12              |\n",
       "| volkswagen        | gti               | 2.8               | 1999              | 6                 | manual(m5)        | f                 | 17                | 24                | r                 | compact           | 2.55              |\n",
       "| volkswagen        | jetta             | 1.9               | 1999              | 4                 | manual(m5)        | f                 | 33                | 44                | d                 | compact           | 2.45              |\n",
       "| volkswagen        | jetta             | 2.0               | 1999              | 4                 | manual(m5)        | f                 | 21                | 29                | r                 | compact           | 2.55              |\n",
       "| volkswagen        | jetta             | 2.0               | 1999              | 4                 | auto(l4)          | f                 | 19                | 26                | r                 | compact           | 2.55              |\n",
       "| volkswagen        | jetta             | 2.0               | 2008              | 4                 | auto(s6)          | f                 | 22                | 29                | p                 | compact           | 2.12              |\n",
       "| volkswagen        | jetta             | 2.0               | 2008              | 4                 | manual(m6)        | f                 | 21                | 29                | p                 | compact           | 2.12              |\n",
       "| volkswagen        | jetta             | 2.5               | 2008              | 5                 | auto(s6)          | f                 | 21                | 29                | r                 | compact           | 2.55              |\n",
       "| volkswagen        | jetta             | 2.5               | 2008              | 5                 | manual(m5)        | f                 | 21                | 29                | r                 | compact           | 2.55              |\n",
       "| volkswagen        | jetta             | 2.8               | 1999              | 6                 | auto(l4)          | f                 | 16                | 23                | r                 | compact           | 2.55              |\n",
       "| volkswagen        | jetta             | 2.8               | 1999              | 6                 | manual(m5)        | f                 | 17                | 24                | r                 | compact           | 2.55              |\n",
       "| volkswagen        | new beetle        | 1.9               | 1999              | 4                 | manual(m5)        | f                 | 35                | 44                | d                 | subcompact        | 2.45              |\n",
       "| volkswagen        | new beetle        | 1.9               | 1999              | 4                 | auto(l4)          | f                 | 29                | 41                | d                 | subcompact        | 2.45              |\n",
       "| volkswagen        | new beetle        | 2.0               | 1999              | 4                 | manual(m5)        | f                 | 21                | 29                | r                 | subcompact        | 2.55              |\n",
       "| volkswagen        | new beetle        | 2.0               | 1999              | 4                 | auto(l4)          | f                 | 19                | 26                | r                 | subcompact        | 2.55              |\n",
       "| volkswagen        | new beetle        | 2.5               | 2008              | 5                 | manual(m5)        | f                 | 20                | 28                | r                 | subcompact        | 2.55              |\n",
       "| volkswagen        | new beetle        | 2.5               | 2008              | 5                 | auto(s6)          | f                 | 20                | 29                | r                 | subcompact        | 2.55              |\n",
       "| volkswagen        | passat            | 1.8               | 1999              | 4                 | manual(m5)        | f                 | 21                | 29                | p                 | midsize           | 2.12              |\n",
       "| volkswagen        | passat            | 1.8               | 1999              | 4                 | auto(l5)          | f                 | 18                | 29                | p                 | midsize           | 2.12              |\n",
       "| volkswagen        | passat            | 2.0               | 2008              | 4                 | auto(s6)          | f                 | 19                | 28                | p                 | midsize           | 2.12              |\n",
       "| volkswagen        | passat            | 2.0               | 2008              | 4                 | manual(m6)        | f                 | 21                | 29                | p                 | midsize           | 2.12              |\n",
       "| volkswagen        | passat            | 2.8               | 1999              | 6                 | auto(l5)          | f                 | 16                | 26                | p                 | midsize           | 2.12              |\n",
       "| volkswagen        | passat            | 2.8               | 1999              | 6                 | manual(m5)        | f                 | 18                | 26                | p                 | midsize           | 2.12              |\n",
       "| volkswagen        | passat            | 3.6               | 2008              | 6                 | auto(s6)          | f                 | 17                | 26                | p                 | midsize           | 2.12              |\n",
       "\n"
      ],
      "text/plain": [
       "    manufacturer model              displ year cyl trans      drv cty hwy fl \n",
       "1   audi         a4                 1.8   1999 4   auto(l5)   f   18  29  p  \n",
       "2   audi         a4                 1.8   1999 4   manual(m5) f   21  29  p  \n",
       "3   audi         a4                 2.0   2008 4   manual(m6) f   20  31  p  \n",
       "4   audi         a4                 2.0   2008 4   auto(av)   f   21  30  p  \n",
       "5   audi         a4                 2.8   1999 6   auto(l5)   f   16  26  p  \n",
       "6   audi         a4                 2.8   1999 6   manual(m5) f   18  26  p  \n",
       "7   audi         a4                 3.1   2008 6   auto(av)   f   18  27  p  \n",
       "8   audi         a4 quattro         1.8   1999 4   manual(m5) 4   18  26  p  \n",
       "9   audi         a4 quattro         1.8   1999 4   auto(l5)   4   16  25  p  \n",
       "10  audi         a4 quattro         2.0   2008 4   manual(m6) 4   20  28  p  \n",
       "11  audi         a4 quattro         2.0   2008 4   auto(s6)   4   19  27  p  \n",
       "12  audi         a4 quattro         2.8   1999 6   auto(l5)   4   15  25  p  \n",
       "13  audi         a4 quattro         2.8   1999 6   manual(m5) 4   17  25  p  \n",
       "14  audi         a4 quattro         3.1   2008 6   auto(s6)   4   17  25  p  \n",
       "15  audi         a4 quattro         3.1   2008 6   manual(m6) 4   15  25  p  \n",
       "16  audi         a6 quattro         2.8   1999 6   auto(l5)   4   15  24  p  \n",
       "17  audi         a6 quattro         3.1   2008 6   auto(s6)   4   17  25  p  \n",
       "18  audi         a6 quattro         4.2   2008 8   auto(s6)   4   16  23  p  \n",
       "19  chevrolet    c1500 suburban 2wd 5.3   2008 8   auto(l4)   r   14  20  r  \n",
       "20  chevrolet    c1500 suburban 2wd 5.3   2008 8   auto(l4)   r   11  15  e  \n",
       "21  chevrolet    c1500 suburban 2wd 5.3   2008 8   auto(l4)   r   14  20  r  \n",
       "22  chevrolet    c1500 suburban 2wd 5.7   1999 8   auto(l4)   r   13  17  r  \n",
       "23  chevrolet    c1500 suburban 2wd 6.0   2008 8   auto(l4)   r   12  17  r  \n",
       "24  chevrolet    corvette           5.7   1999 8   manual(m6) r   16  26  p  \n",
       "25  chevrolet    corvette           5.7   1999 8   auto(l4)   r   15  23  p  \n",
       "26  chevrolet    corvette           6.2   2008 8   manual(m6) r   16  26  p  \n",
       "27  chevrolet    corvette           6.2   2008 8   auto(s6)   r   15  25  p  \n",
       "28  chevrolet    corvette           7.0   2008 8   manual(m6) r   15  24  p  \n",
       "29  chevrolet    k1500 tahoe 4wd    5.3   2008 8   auto(l4)   4   14  19  r  \n",
       "30  chevrolet    k1500 tahoe 4wd    5.3   2008 8   auto(l4)   4   11  14  e  \n",
       "... ...          ...                ...   ...  ... ...        ... ... ... ...\n",
       "205 toyota       toyota tacoma 4wd  3.4   1999 6   auto(l4)   4   15  19  r  \n",
       "206 toyota       toyota tacoma 4wd  4.0   2008 6   manual(m6) 4   15  18  r  \n",
       "207 toyota       toyota tacoma 4wd  4.0   2008 6   auto(l5)   4   16  20  r  \n",
       "208 volkswagen   gti                2.0   1999 4   manual(m5) f   21  29  r  \n",
       "209 volkswagen   gti                2.0   1999 4   auto(l4)   f   19  26  r  \n",
       "210 volkswagen   gti                2.0   2008 4   manual(m6) f   21  29  p  \n",
       "211 volkswagen   gti                2.0   2008 4   auto(s6)   f   22  29  p  \n",
       "212 volkswagen   gti                2.8   1999 6   manual(m5) f   17  24  r  \n",
       "213 volkswagen   jetta              1.9   1999 4   manual(m5) f   33  44  d  \n",
       "214 volkswagen   jetta              2.0   1999 4   manual(m5) f   21  29  r  \n",
       "215 volkswagen   jetta              2.0   1999 4   auto(l4)   f   19  26  r  \n",
       "216 volkswagen   jetta              2.0   2008 4   auto(s6)   f   22  29  p  \n",
       "217 volkswagen   jetta              2.0   2008 4   manual(m6) f   21  29  p  \n",
       "218 volkswagen   jetta              2.5   2008 5   auto(s6)   f   21  29  r  \n",
       "219 volkswagen   jetta              2.5   2008 5   manual(m5) f   21  29  r  \n",
       "220 volkswagen   jetta              2.8   1999 6   auto(l4)   f   16  23  r  \n",
       "221 volkswagen   jetta              2.8   1999 6   manual(m5) f   17  24  r  \n",
       "222 volkswagen   new beetle         1.9   1999 4   manual(m5) f   35  44  d  \n",
       "223 volkswagen   new beetle         1.9   1999 4   auto(l4)   f   29  41  d  \n",
       "224 volkswagen   new beetle         2.0   1999 4   manual(m5) f   21  29  r  \n",
       "225 volkswagen   new beetle         2.0   1999 4   auto(l4)   f   19  26  r  \n",
       "226 volkswagen   new beetle         2.5   2008 5   manual(m5) f   20  28  r  \n",
       "227 volkswagen   new beetle         2.5   2008 5   auto(s6)   f   20  29  r  \n",
       "228 volkswagen   passat             1.8   1999 4   manual(m5) f   21  29  p  \n",
       "229 volkswagen   passat             1.8   1999 4   auto(l5)   f   18  29  p  \n",
       "230 volkswagen   passat             2.0   2008 4   auto(s6)   f   19  28  p  \n",
       "231 volkswagen   passat             2.0   2008 4   manual(m6) f   21  29  p  \n",
       "232 volkswagen   passat             2.8   1999 6   auto(l5)   f   16  26  p  \n",
       "233 volkswagen   passat             2.8   1999 6   manual(m5) f   18  26  p  \n",
       "234 volkswagen   passat             3.6   2008 6   auto(s6)   f   17  26  p  \n",
       "    class      price_fl\n",
       "1   compact    2.12    \n",
       "2   compact    2.12    \n",
       "3   compact    2.12    \n",
       "4   compact    2.12    \n",
       "5   compact    2.12    \n",
       "6   compact    2.12    \n",
       "7   compact    2.12    \n",
       "8   compact    2.12    \n",
       "9   compact    2.12    \n",
       "10  compact    2.12    \n",
       "11  compact    2.12    \n",
       "12  compact    2.12    \n",
       "13  compact    2.12    \n",
       "14  compact    2.12    \n",
       "15  compact    2.12    \n",
       "16  midsize    2.12    \n",
       "17  midsize    2.12    \n",
       "18  midsize    2.12    \n",
       "19  suv        2.55    \n",
       "20  suv        2.55    \n",
       "21  suv        2.55    \n",
       "22  suv        2.55    \n",
       "23  suv        2.55    \n",
       "24  2seater    2.12    \n",
       "25  2seater    2.12    \n",
       "26  2seater    2.12    \n",
       "27  2seater    2.12    \n",
       "28  2seater    2.12    \n",
       "29  suv        2.55    \n",
       "30  suv        2.55    \n",
       "... ...        ...     \n",
       "205 pickup     2.55    \n",
       "206 pickup     2.55    \n",
       "207 pickup     2.55    \n",
       "208 compact    2.55    \n",
       "209 compact    2.55    \n",
       "210 compact    2.12    \n",
       "211 compact    2.12    \n",
       "212 compact    2.55    \n",
       "213 compact    2.45    \n",
       "214 compact    2.55    \n",
       "215 compact    2.55    \n",
       "216 compact    2.12    \n",
       "217 compact    2.12    \n",
       "218 compact    2.55    \n",
       "219 compact    2.55    \n",
       "220 compact    2.55    \n",
       "221 compact    2.55    \n",
       "222 subcompact 2.45    \n",
       "223 subcompact 2.45    \n",
       "224 subcompact 2.55    \n",
       "225 subcompact 2.55    \n",
       "226 subcompact 2.55    \n",
       "227 subcompact 2.55    \n",
       "228 midsize    2.12    \n",
       "229 midsize    2.12    \n",
       "230 midsize    2.12    \n",
       "231 midsize    2.12    \n",
       "232 midsize    2.12    \n",
       "233 midsize    2.12    \n",
       "234 midsize    2.12    "
      ]
     },
     "metadata": {},
     "output_type": "display_data"
    }
   ],
   "source": [
    "left_join(mpg,fuel,by=\"fl\")"
   ]
  },
  {
   "cell_type": "markdown",
   "id": "f670408b",
   "metadata": {},
   "source": [
    "## midwest 데이터 분석 연습\n",
    "*분석계획* : <br>\n",
    "1. popadults(해당 지역 성인 인구), poptotal(전체 인구)를 이용하여 \"전체 인구 대비 미성년 인구 비율\" 변수를 추가. <br>\n",
    "2. 미성년 인구 비율이 가장 높은 상위 5개 county의 미성년 인구 비율을 출력. <br>\n",
    "3. 아래 기준에 따라 미성년 비율 등급 변수를 추가하고, 각 등급에 몇 개의 지역이 있는지 파악. <br>\n",
    "\n",
    "- large : 40% 이상\n",
    "- middle : 30 ~ 40%\n",
    "- small : 30% 미만 \n",
    "\n",
    "4. popasian(해당 지역의 아시아인 인구)를 활용하여 \"전체 인구 대비 아시아인 인구 비율\" 변수를 추가하고 하위 10개 지역의 state, county, 아시아인 인구 비율을 출력."
   ]
  },
  {
   "cell_type": "code",
   "execution_count": null,
   "id": "af422c28",
   "metadata": {},
   "outputs": [],
   "source": [
    "#3번은 n활용"
   ]
  }
 ],
 "metadata": {
  "kernelspec": {
   "display_name": "R",
   "language": "R",
   "name": "ir"
  },
  "language_info": {
   "codemirror_mode": "r",
   "file_extension": ".r",
   "mimetype": "text/x-r-source",
   "name": "R",
   "pygments_lexer": "r",
   "version": "3.6.1"
  }
 },
 "nbformat": 4,
 "nbformat_minor": 5
}
