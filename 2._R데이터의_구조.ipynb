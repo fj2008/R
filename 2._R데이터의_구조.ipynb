{
 "cells": [
  {
   "cell_type": "markdown",
   "id": "f157e2f7",
   "metadata": {},
   "source": [
    "<img src = \"./img/R데이터구조1.png\">"
   ]
  },
  {
   "cell_type": "markdown",
   "id": "2b56b56b",
   "metadata": {},
   "source": [
    "## 1. 벡터(Vector)\n",
    "\n",
    "- 동일한 유형의 데이터로 구성된 1차원 데이터 구조\n",
    "- R에서 단일값(스칼라)은 원소가 하나인 벡터로 인식"
   ]
  },
  {
   "cell_type": "code",
   "execution_count": 1,
   "id": "d4a1f113",
   "metadata": {},
   "outputs": [],
   "source": [
    "# 벡터 표현법\n",
    "V1 <- c(1, 2, 3)\n",
    "V2 <- c(\"Hello\", \"World\")"
   ]
  },
  {
   "cell_type": "markdown",
   "id": "fee76150",
   "metadata": {},
   "source": [
    "## 2. 요인(Factor)\n",
    "\n",
    "- 범주형 데이터\n",
    "    - 데이터가 사전에 정해진 특정 유형으로 분류되는 경우\n",
    "    - 사전에 정해진 특정 유형을 레벨이라고 함\n",
    "    - 명목형과 순서형으로 구분\n",
    "        - 명목형 : 값들 간 크기 비교가 불가한 경우(성별)\n",
    "        - 순서형 : 대, 중, 소와 같이 값에 순서를 둘 수 있는 경우"
   ]
  },
  {
   "cell_type": "markdown",
   "id": "350a140b",
   "metadata": {},
   "source": [
    "<img src = \"./img/범주형_수치형.png\">"
   ]
  },
  {
   "cell_type": "code",
   "execution_count": 6,
   "id": "d99ca6b8",
   "metadata": {},
   "outputs": [],
   "source": [
    "# 요인 표현법\n",
    "F1 <- factor(c(\"좋다\", \"보통이다\", \"싫다\"),\n",
    "            level = c(\"좋다\", \"보통이다\", \"싫다\"),\n",
    "            order = T)"
   ]
  },
  {
   "cell_type": "code",
   "execution_count": 7,
   "id": "41643291",
   "metadata": {},
   "outputs": [
    {
     "data": {
      "text/html": [
       "<ol class=list-inline>\n",
       "\t<li>좋다</li>\n",
       "\t<li>보통이다</li>\n",
       "\t<li>싫다</li>\n",
       "</ol>\n",
       "\n",
       "<details>\n",
       "\t<summary style=display:list-item;cursor:pointer>\n",
       "\t\t<strong>Levels</strong>:\n",
       "\t</summary>\n",
       "\t<ol class=list-inline>\n",
       "\t\t<li>'좋다'</li>\n",
       "\t\t<li>'보통이다'</li>\n",
       "\t\t<li>'싫다'</li>\n",
       "\t</ol>\n",
       "</details>"
      ],
      "text/latex": [
       "\\begin{enumerate*}\n",
       "\\item 좋다\n",
       "\\item 보통이다\n",
       "\\item 싫다\n",
       "\\end{enumerate*}\n",
       "\n",
       "\\emph{Levels}: \\begin{enumerate*}\n",
       "\\item '좋다'\n",
       "\\item '보통이다'\n",
       "\\item '싫다'\n",
       "\\end{enumerate*}\n"
      ],
      "text/markdown": [
       "1. 좋다\n",
       "2. 보통이다\n",
       "3. 싫다\n",
       "\n",
       "\n",
       "\n",
       "**Levels**: 1. '좋다'\n",
       "2. '보통이다'\n",
       "3. '싫다'\n",
       "\n",
       "\n"
      ],
      "text/plain": [
       "[1] 좋다     보통이다 싫다    \n",
       "Levels: 좋다 < 보통이다 < 싫다"
      ]
     },
     "metadata": {},
     "output_type": "display_data"
    }
   ],
   "source": [
    "F1"
   ]
  },
  {
   "cell_type": "markdown",
   "id": "9533ed9f",
   "metadata": {},
   "source": [
    "## 3. 행렬(Matrix)\n",
    "\n",
    "- 동일한 유형의 2차원 데이터 구조(행과 열)\n",
    "- R에서는 차원을 가진 벡터로 인식"
   ]
  },
  {
   "cell_type": "code",
   "execution_count": 8,
   "id": "48f2a737",
   "metadata": {},
   "outputs": [],
   "source": [
    "# 행렬 표현법\n",
    "M1 <- matrix(1:9, nrow = 3)"
   ]
  },
  {
   "cell_type": "code",
   "execution_count": 9,
   "id": "80b82dce",
   "metadata": {},
   "outputs": [
    {
     "data": {
      "text/html": [
       "<table>\n",
       "<tbody>\n",
       "\t<tr><td>1</td><td>4</td><td>7</td></tr>\n",
       "\t<tr><td>2</td><td>5</td><td>8</td></tr>\n",
       "\t<tr><td>3</td><td>6</td><td>9</td></tr>\n",
       "</tbody>\n",
       "</table>\n"
      ],
      "text/latex": [
       "\\begin{tabular}{lll}\n",
       "\t 1 & 4 & 7\\\\\n",
       "\t 2 & 5 & 8\\\\\n",
       "\t 3 & 6 & 9\\\\\n",
       "\\end{tabular}\n"
      ],
      "text/markdown": [
       "\n",
       "| 1 | 4 | 7 |\n",
       "| 2 | 5 | 8 |\n",
       "| 3 | 6 | 9 |\n",
       "\n"
      ],
      "text/plain": [
       "     [,1] [,2] [,3]\n",
       "[1,] 1    4    7   \n",
       "[2,] 2    5    8   \n",
       "[3,] 3    6    9   "
      ]
     },
     "metadata": {},
     "output_type": "display_data"
    }
   ],
   "source": [
    "M1"
   ]
  },
  {
   "cell_type": "markdown",
   "id": "97ea942d",
   "metadata": {},
   "source": [
    "## 4. 배열(Array)\n",
    "\n",
    "- 2차원 데이터 구조인 행렬을 n차원 데이터구조로 확장한 데이터 구조"
   ]
  },
  {
   "cell_type": "code",
   "execution_count": 10,
   "id": "660e8fd6",
   "metadata": {},
   "outputs": [],
   "source": [
    "# 배열 표현법\n",
    "A1 <- array(data = 1:24, dim = c(4, 3, 2))"
   ]
  },
  {
   "cell_type": "code",
   "execution_count": 11,
   "id": "d217395a",
   "metadata": {},
   "outputs": [
    {
     "name": "stdout",
     "output_type": "stream",
     "text": [
      ", , 1\n",
      "\n",
      "     [,1] [,2] [,3]\n",
      "[1,]    1    5    9\n",
      "[2,]    2    6   10\n",
      "[3,]    3    7   11\n",
      "[4,]    4    8   12\n",
      "\n",
      ", , 2\n",
      "\n",
      "     [,1] [,2] [,3]\n",
      "[1,]   13   17   21\n",
      "[2,]   14   18   22\n",
      "[3,]   15   19   23\n",
      "[4,]   16   20   24\n",
      "\n"
     ]
    }
   ],
   "source": [
    "print(A1)"
   ]
  },
  {
   "cell_type": "markdown",
   "id": "34ce1d2a",
   "metadata": {},
   "source": [
    "## 5. 데이터프레임(DataFrame)\n",
    "\n",
    "- 데이터 유형에 관계없는 2차원 데이터 구조\n",
    "- 엑셀 스프레드 시트와 같은 형태"
   ]
  },
  {
   "cell_type": "code",
   "execution_count": 12,
   "id": "c97a798c",
   "metadata": {},
   "outputs": [],
   "source": [
    "# 데이터프레임 표현법\n",
    "D1 <- c(1, 2, 3)\n",
    "D2 <- c(\"A\", \"B\", \"C\")\n",
    "D3 <- data.frame(D1, D2)"
   ]
  },
  {
   "cell_type": "code",
   "execution_count": 13,
   "id": "6e77c196",
   "metadata": {},
   "outputs": [
    {
     "data": {
      "text/html": [
       "<table>\n",
       "<thead><tr><th scope=col>D1</th><th scope=col>D2</th></tr></thead>\n",
       "<tbody>\n",
       "\t<tr><td>1</td><td>A</td></tr>\n",
       "\t<tr><td>2</td><td>B</td></tr>\n",
       "\t<tr><td>3</td><td>C</td></tr>\n",
       "</tbody>\n",
       "</table>\n"
      ],
      "text/latex": [
       "\\begin{tabular}{r|ll}\n",
       " D1 & D2\\\\\n",
       "\\hline\n",
       "\t 1 & A\\\\\n",
       "\t 2 & B\\\\\n",
       "\t 3 & C\\\\\n",
       "\\end{tabular}\n"
      ],
      "text/markdown": [
       "\n",
       "| D1 | D2 |\n",
       "|---|---|\n",
       "| 1 | A |\n",
       "| 2 | B |\n",
       "| 3 | C |\n",
       "\n"
      ],
      "text/plain": [
       "  D1 D2\n",
       "1 1  A \n",
       "2 2  B \n",
       "3 3  C "
      ]
     },
     "metadata": {},
     "output_type": "display_data"
    }
   ],
   "source": [
    "D3"
   ]
  },
  {
   "cell_type": "markdown",
   "id": "09723343",
   "metadata": {},
   "source": [
    "## 6. 리스트(List)\n",
    "\n",
    "- 데이터 구조에 관계없이 데이터들을 모두 묶은 객체\n",
    "- (키, 값)형태의 데이터를 담는 연관배열이다"
   ]
  },
  {
   "cell_type": "code",
   "execution_count": 15,
   "id": "f6b82a03",
   "metadata": {},
   "outputs": [
    {
     "name": "stdout",
     "output_type": "stream",
     "text": [
      "[[1]]\n",
      "[1] 1 2 3\n",
      "\n",
      "[[2]]\n",
      "[1] 좋다     보통이다 싫다    \n",
      "Levels: 좋다 < 보통이다 < 싫다\n",
      "\n",
      "[[3]]\n",
      "     [,1] [,2] [,3]\n",
      "[1,]    1    4    7\n",
      "[2,]    2    5    8\n",
      "[3,]    3    6    9\n",
      "\n",
      "[[4]]\n",
      ", , 1\n",
      "\n",
      "     [,1] [,2] [,3]\n",
      "[1,]    1    5    9\n",
      "[2,]    2    6   10\n",
      "[3,]    3    7   11\n",
      "[4,]    4    8   12\n",
      "\n",
      ", , 2\n",
      "\n",
      "     [,1] [,2] [,3]\n",
      "[1,]   13   17   21\n",
      "[2,]   14   18   22\n",
      "[3,]   15   19   23\n",
      "[4,]   16   20   24\n",
      "\n",
      "\n",
      "[[5]]\n",
      "  D1 D2\n",
      "1  1  A\n",
      "2  2  B\n",
      "3  3  C\n",
      "\n"
     ]
    }
   ],
   "source": [
    "L1 <- list(V1, F1, M1, A1, D3)\n",
    "print(L1)"
   ]
  },
  {
   "cell_type": "code",
   "execution_count": 16,
   "id": "ad0f07d1",
   "metadata": {},
   "outputs": [
    {
     "name": "stdout",
     "output_type": "stream",
     "text": [
      "$x\n",
      "[1] 1 2 3 4\n",
      "\n",
      "$y\n",
      "[1] \"A\" \"B\"\n",
      "\n"
     ]
    }
   ],
   "source": [
    "L2 <- list(x = 1:4, y = c(\"A\", \"B\"))\n",
    "print(L2)"
   ]
  },
  {
   "cell_type": "code",
   "execution_count": 17,
   "id": "a9e3331b",
   "metadata": {},
   "outputs": [
    {
     "data": {
      "text/html": [
       "<ol class=list-inline>\n",
       "\t<li>1</li>\n",
       "\t<li>2</li>\n",
       "\t<li>3</li>\n",
       "\t<li>4</li>\n",
       "</ol>\n"
      ],
      "text/latex": [
       "\\begin{enumerate*}\n",
       "\\item 1\n",
       "\\item 2\n",
       "\\item 3\n",
       "\\item 4\n",
       "\\end{enumerate*}\n"
      ],
      "text/markdown": [
       "1. 1\n",
       "2. 2\n",
       "3. 3\n",
       "4. 4\n",
       "\n",
       "\n"
      ],
      "text/plain": [
       "[1] 1 2 3 4"
      ]
     },
     "metadata": {},
     "output_type": "display_data"
    }
   ],
   "source": [
    "L2$x"
   ]
  },
  {
   "cell_type": "code",
   "execution_count": 18,
   "id": "1349d696",
   "metadata": {},
   "outputs": [
    {
     "data": {
      "text/html": [
       "<ol class=list-inline>\n",
       "\t<li>'A'</li>\n",
       "\t<li>'B'</li>\n",
       "</ol>\n"
      ],
      "text/latex": [
       "\\begin{enumerate*}\n",
       "\\item 'A'\n",
       "\\item 'B'\n",
       "\\end{enumerate*}\n"
      ],
      "text/markdown": [
       "1. 'A'\n",
       "2. 'B'\n",
       "\n",
       "\n"
      ],
      "text/plain": [
       "[1] \"A\" \"B\""
      ]
     },
     "metadata": {},
     "output_type": "display_data"
    }
   ],
   "source": [
    "L2$y"
   ]
  },
  {
   "cell_type": "markdown",
   "id": "c90590a6",
   "metadata": {},
   "source": [
    "<img src = \"./img/R데이터구조2.png\">"
   ]
  },
  {
   "cell_type": "code",
   "execution_count": null,
   "id": "4a53cca7",
   "metadata": {},
   "outputs": [],
   "source": []
  }
 ],
 "metadata": {
  "kernelspec": {
   "display_name": "R",
   "language": "R",
   "name": "ir"
  },
  "language_info": {
   "codemirror_mode": "r",
   "file_extension": ".r",
   "mimetype": "text/x-r-source",
   "name": "R",
   "pygments_lexer": "r",
   "version": "3.6.1"
  }
 },
 "nbformat": 4,
 "nbformat_minor": 5
}
