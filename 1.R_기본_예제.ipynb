{
 "cells": [
  {
   "cell_type": "markdown",
   "id": "dc4bc241",
   "metadata": {},
   "source": [
    "## 변수 만들기\n",
    "\n",
    "- <- 또는 = 을 이용하여 변수 생성\n",
    "- =는 R 에서 추천하는 방식이 아님"
   ]
  },
  {
   "cell_type": "code",
   "execution_count": 1,
   "id": "78f2f4cd",
   "metadata": {},
   "outputs": [],
   "source": [
    "# 변수 생성 방법\n",
    "a <- 1\n",
    "b = 3\n",
    "c <- 1.5"
   ]
  },
  {
   "cell_type": "code",
   "execution_count": 2,
   "id": "d5a6e2bb",
   "metadata": {},
   "outputs": [
    {
     "name": "stdout",
     "output_type": "stream",
     "text": [
      "[1] 1\n",
      "[1] 3\n"
     ]
    }
   ],
   "source": [
    "# 변수 출력\n",
    "print(a)\n",
    "print(b)"
   ]
  },
  {
   "cell_type": "markdown",
   "id": "9a621b91",
   "metadata": {},
   "source": [
    "## <- 와 =의 차이"
   ]
  },
  {
   "cell_type": "code",
   "execution_count": 3,
   "id": "e52ec746",
   "metadata": {},
   "outputs": [
    {
     "data": {
      "text/html": [
       "3"
      ],
      "text/latex": [
       "3"
      ],
      "text/markdown": [
       "3"
      ],
      "text/plain": [
       "[1] 3"
      ]
     },
     "metadata": {},
     "output_type": "display_data"
    },
    {
     "data": {
      "text/html": [
       "<ol class=list-inline>\n",
       "\t<li>1</li>\n",
       "\t<li>2</li>\n",
       "</ol>\n"
      ],
      "text/latex": [
       "\\begin{enumerate*}\n",
       "\\item 1\n",
       "\\item 2\n",
       "\\end{enumerate*}\n"
      ],
      "text/markdown": [
       "1. 1\n",
       "2. 2\n",
       "\n",
       "\n"
      ],
      "text/plain": [
       "[1] 1 2"
      ]
     },
     "metadata": {},
     "output_type": "display_data"
    }
   ],
   "source": [
    "sum(x <- c(1, 2))\n",
    "x"
   ]
  },
  {
   "cell_type": "code",
   "execution_count": 4,
   "id": "599d4d13",
   "metadata": {},
   "outputs": [
    {
     "data": {
      "text/html": [
       "1"
      ],
      "text/latex": [
       "1"
      ],
      "text/markdown": [
       "1"
      ],
      "text/plain": [
       "[1] 1"
      ]
     },
     "metadata": {},
     "output_type": "display_data"
    }
   ],
   "source": [
    "sum(y = 1)\n",
    "# y\n",
    "# 파라미터로 인식"
   ]
  },
  {
   "cell_type": "markdown",
   "id": "a1562c51",
   "metadata": {},
   "source": [
    "## 기본 연산"
   ]
  },
  {
   "cell_type": "code",
   "execution_count": 5,
   "id": "0edebfae",
   "metadata": {},
   "outputs": [
    {
     "data": {
      "text/html": [
       "4"
      ],
      "text/latex": [
       "4"
      ],
      "text/markdown": [
       "4"
      ],
      "text/plain": [
       "[1] 4"
      ]
     },
     "metadata": {},
     "output_type": "display_data"
    }
   ],
   "source": [
    "a + b"
   ]
  },
  {
   "cell_type": "code",
   "execution_count": 6,
   "id": "e5a794c9",
   "metadata": {},
   "outputs": [
    {
     "data": {
      "text/html": [
       "2"
      ],
      "text/latex": [
       "2"
      ],
      "text/markdown": [
       "2"
      ],
      "text/plain": [
       "[1] 2"
      ]
     },
     "metadata": {},
     "output_type": "display_data"
    }
   ],
   "source": [
    "6 / b"
   ]
  },
  {
   "cell_type": "code",
   "execution_count": 7,
   "id": "2f862b68",
   "metadata": {},
   "outputs": [
    {
     "data": {
      "text/html": [
       "3"
      ],
      "text/latex": [
       "3"
      ],
      "text/markdown": [
       "3"
      ],
      "text/plain": [
       "[1] 3"
      ]
     },
     "metadata": {},
     "output_type": "display_data"
    }
   ],
   "source": [
    "2 * c"
   ]
  },
  {
   "cell_type": "markdown",
   "id": "36ce8f53",
   "metadata": {},
   "source": [
    "## 여러 값으로 구성된 변수\n",
    "\n",
    "- c()함수 : 변수에 여러 값을 넣는 함수(combine)"
   ]
  },
  {
   "cell_type": "code",
   "execution_count": 8,
   "id": "45b4d4a6",
   "metadata": {},
   "outputs": [
    {
     "data": {
      "text/html": [
       "<ol class=list-inline>\n",
       "\t<li>1</li>\n",
       "\t<li>3</li>\n",
       "\t<li>5</li>\n",
       "\t<li>7</li>\n",
       "\t<li>9</li>\n",
       "</ol>\n"
      ],
      "text/latex": [
       "\\begin{enumerate*}\n",
       "\\item 1\n",
       "\\item 3\n",
       "\\item 5\n",
       "\\item 7\n",
       "\\item 9\n",
       "\\end{enumerate*}\n"
      ],
      "text/markdown": [
       "1. 1\n",
       "2. 3\n",
       "3. 5\n",
       "4. 7\n",
       "5. 9\n",
       "\n",
       "\n"
      ],
      "text/plain": [
       "[1] 1 3 5 7 9"
      ]
     },
     "metadata": {},
     "output_type": "display_data"
    }
   ],
   "source": [
    "# 숫자 5개로 이루어진 변수\n",
    "var1 <- c(1, 3, 5, 7, 9)\n",
    "var1"
   ]
  },
  {
   "cell_type": "code",
   "execution_count": 9,
   "id": "305b87d5",
   "metadata": {},
   "outputs": [
    {
     "data": {
      "text/html": [
       "<ol class=list-inline>\n",
       "\t<li>1</li>\n",
       "\t<li>2</li>\n",
       "\t<li>3</li>\n",
       "\t<li>4</li>\n",
       "\t<li>5</li>\n",
       "</ol>\n"
      ],
      "text/latex": [
       "\\begin{enumerate*}\n",
       "\\item 1\n",
       "\\item 2\n",
       "\\item 3\n",
       "\\item 4\n",
       "\\item 5\n",
       "\\end{enumerate*}\n"
      ],
      "text/markdown": [
       "1. 1\n",
       "2. 2\n",
       "3. 3\n",
       "4. 4\n",
       "5. 5\n",
       "\n",
       "\n"
      ],
      "text/plain": [
       "[1] 1 2 3 4 5"
      ]
     },
     "metadata": {},
     "output_type": "display_data"
    }
   ],
   "source": [
    "# 콜론 : 1씩 증가하는 연속된 수(마지막 수 포함)\n",
    "var2 <- c(1:5)\n",
    "var2"
   ]
  },
  {
   "cell_type": "code",
   "execution_count": 10,
   "id": "fd32ea34",
   "metadata": {},
   "outputs": [
    {
     "data": {
      "text/html": [
       "<ol class=list-inline>\n",
       "\t<li>1</li>\n",
       "\t<li>2</li>\n",
       "\t<li>3</li>\n",
       "\t<li>4</li>\n",
       "\t<li>5</li>\n",
       "</ol>\n"
      ],
      "text/latex": [
       "\\begin{enumerate*}\n",
       "\\item 1\n",
       "\\item 2\n",
       "\\item 3\n",
       "\\item 4\n",
       "\\item 5\n",
       "\\end{enumerate*}\n"
      ],
      "text/markdown": [
       "1. 1\n",
       "2. 2\n",
       "3. 3\n",
       "4. 4\n",
       "5. 5\n",
       "\n",
       "\n"
      ],
      "text/plain": [
       "[1] 1 2 3 4 5"
      ]
     },
     "metadata": {},
     "output_type": "display_data"
    }
   ],
   "source": [
    "# seq() : 연속된 값을 지닌 변수 생성(sequence)\n",
    "var3 <- seq(from = 1, to = 5)\n",
    "var3"
   ]
  },
  {
   "cell_type": "code",
   "execution_count": 11,
   "id": "d7027fb7",
   "metadata": {},
   "outputs": [
    {
     "data": {
      "text/html": [
       "<ol class=list-inline>\n",
       "\t<li>1</li>\n",
       "\t<li>3</li>\n",
       "\t<li>5</li>\n",
       "\t<li>7</li>\n",
       "\t<li>9</li>\n",
       "</ol>\n"
      ],
      "text/latex": [
       "\\begin{enumerate*}\n",
       "\\item 1\n",
       "\\item 3\n",
       "\\item 5\n",
       "\\item 7\n",
       "\\item 9\n",
       "\\end{enumerate*}\n"
      ],
      "text/markdown": [
       "1. 1\n",
       "2. 3\n",
       "3. 5\n",
       "4. 7\n",
       "5. 9\n",
       "\n",
       "\n"
      ],
      "text/plain": [
       "[1] 1 3 5 7 9"
      ]
     },
     "metadata": {},
     "output_type": "display_data"
    }
   ],
   "source": [
    "# seq함수의 간격 조절\n",
    "var4 <- seq(1, 10, by = 2)\n",
    "var4"
   ]
  },
  {
   "cell_type": "code",
   "execution_count": 12,
   "id": "546e9355",
   "metadata": {},
   "outputs": [
    {
     "data": {
      "text/html": [
       "<ol class=list-inline>\n",
       "\t<li>1</li>\n",
       "\t<li>3.25</li>\n",
       "\t<li>5.5</li>\n",
       "\t<li>7.75</li>\n",
       "\t<li>10</li>\n",
       "</ol>\n"
      ],
      "text/latex": [
       "\\begin{enumerate*}\n",
       "\\item 1\n",
       "\\item 3.25\n",
       "\\item 5.5\n",
       "\\item 7.75\n",
       "\\item 10\n",
       "\\end{enumerate*}\n"
      ],
      "text/markdown": [
       "1. 1\n",
       "2. 3.25\n",
       "3. 5.5\n",
       "4. 7.75\n",
       "5. 10\n",
       "\n",
       "\n"
      ],
      "text/plain": [
       "[1]  1.00  3.25  5.50  7.75 10.00"
      ]
     },
     "metadata": {},
     "output_type": "display_data"
    }
   ],
   "source": [
    "# 등차수열\n",
    "var5 <- seq(1, 10, length = 5)\n",
    "var5"
   ]
  },
  {
   "cell_type": "code",
   "execution_count": 13,
   "id": "0b952c25",
   "metadata": {},
   "outputs": [
    {
     "data": {
      "text/html": [
       "<ol class=list-inline>\n",
       "\t<li>1</li>\n",
       "\t<li>4</li>\n",
       "\t<li>7</li>\n",
       "\t<li>10</li>\n",
       "</ol>\n"
      ],
      "text/latex": [
       "\\begin{enumerate*}\n",
       "\\item 1\n",
       "\\item 4\n",
       "\\item 7\n",
       "\\item 10\n",
       "\\end{enumerate*}\n"
      ],
      "text/markdown": [
       "1. 1\n",
       "2. 4\n",
       "3. 7\n",
       "4. 10\n",
       "\n",
       "\n"
      ],
      "text/plain": [
       "[1]  1  4  7 10"
      ]
     },
     "metadata": {},
     "output_type": "display_data"
    }
   ],
   "source": [
    "# 수열 개수 지정\n",
    "var6 <- seq(1, by = 3, length.out = 4)\n",
    "var6"
   ]
  },
  {
   "cell_type": "markdown",
   "id": "04b954a4",
   "metadata": {},
   "source": [
    "## 수열 연산\n",
    "\n",
    "- 변수 + 변수\n",
    "- 변수 + 숫자"
   ]
  },
  {
   "cell_type": "code",
   "execution_count": 14,
   "id": "5b101a35",
   "metadata": {},
   "outputs": [
    {
     "data": {
      "text/html": [
       "<ol class=list-inline>\n",
       "\t<li>3</li>\n",
       "\t<li>5</li>\n",
       "\t<li>7</li>\n",
       "\t<li>9</li>\n",
       "\t<li>11</li>\n",
       "</ol>\n"
      ],
      "text/latex": [
       "\\begin{enumerate*}\n",
       "\\item 3\n",
       "\\item 5\n",
       "\\item 7\n",
       "\\item 9\n",
       "\\item 11\n",
       "\\end{enumerate*}\n"
      ],
      "text/markdown": [
       "1. 3\n",
       "2. 5\n",
       "3. 7\n",
       "4. 9\n",
       "5. 11\n",
       "\n",
       "\n"
      ],
      "text/plain": [
       "[1]  3  5  7  9 11"
      ]
     },
     "metadata": {},
     "output_type": "display_data"
    }
   ],
   "source": [
    "# 변수 + 숫자 : 각 변수의 각 값에 2가 더해진 값이 출력\n",
    "var1 + 2"
   ]
  },
  {
   "cell_type": "code",
   "execution_count": 15,
   "id": "2b25e35b",
   "metadata": {},
   "outputs": [
    {
     "data": {
      "text/html": [
       "<ol class=list-inline>\n",
       "\t<li>2</li>\n",
       "\t<li>5</li>\n",
       "\t<li>8</li>\n",
       "\t<li>11</li>\n",
       "\t<li>14</li>\n",
       "</ol>\n"
      ],
      "text/latex": [
       "\\begin{enumerate*}\n",
       "\\item 2\n",
       "\\item 5\n",
       "\\item 8\n",
       "\\item 11\n",
       "\\item 14\n",
       "\\end{enumerate*}\n"
      ],
      "text/markdown": [
       "1. 2\n",
       "2. 5\n",
       "3. 8\n",
       "4. 11\n",
       "5. 14\n",
       "\n",
       "\n"
      ],
      "text/plain": [
       "[1]  2  5  8 11 14"
      ]
     },
     "metadata": {},
     "output_type": "display_data"
    }
   ],
   "source": [
    "# 변수 + 변수 : 같은 순서에 위치한 값끼리 연산\n",
    "var1 + var2"
   ]
  },
  {
   "cell_type": "code",
   "execution_count": 16,
   "id": "7fdbf4ec",
   "metadata": {},
   "outputs": [
    {
     "name": "stderr",
     "output_type": "stream",
     "text": [
      "Warning message in var1 + var6:\n",
      "\"두 객체의 길이가 서로 배수관계에 있지 않습니다\""
     ]
    },
    {
     "data": {
      "text/html": [
       "<ol class=list-inline>\n",
       "\t<li>2</li>\n",
       "\t<li>7</li>\n",
       "\t<li>12</li>\n",
       "\t<li>17</li>\n",
       "\t<li>10</li>\n",
       "</ol>\n"
      ],
      "text/latex": [
       "\\begin{enumerate*}\n",
       "\\item 2\n",
       "\\item 7\n",
       "\\item 12\n",
       "\\item 17\n",
       "\\item 10\n",
       "\\end{enumerate*}\n"
      ],
      "text/markdown": [
       "1. 2\n",
       "2. 7\n",
       "3. 12\n",
       "4. 17\n",
       "5. 10\n",
       "\n",
       "\n"
      ],
      "text/plain": [
       "[1]  2  7 12 17 10"
      ]
     },
     "metadata": {},
     "output_type": "display_data"
    }
   ],
   "source": [
    "# 변수 + 변수 연산에서 데이터의 길이가 다를 경우\n",
    "# 경고 메시지가 출력되지만 결과값도 함께 출력됨\n",
    "var1 + var6"
   ]
  },
  {
   "cell_type": "markdown",
   "id": "ce032fb1",
   "metadata": {},
   "source": [
    "## 문자로 된 변수"
   ]
  },
  {
   "cell_type": "code",
   "execution_count": 19,
   "id": "18bd7a0f",
   "metadata": {},
   "outputs": [
    {
     "data": {
      "text/html": [
       "'Hello, World!'"
      ],
      "text/latex": [
       "'Hello, World!'"
      ],
      "text/markdown": [
       "'Hello, World!'"
      ],
      "text/plain": [
       "[1] \"Hello, World!\""
      ]
     },
     "metadata": {},
     "output_type": "display_data"
    }
   ],
   "source": [
    "str1 <- \"Hello, World!\"\n",
    "str1"
   ]
  },
  {
   "cell_type": "code",
   "execution_count": 20,
   "id": "18e902f5",
   "metadata": {},
   "outputs": [
    {
     "data": {
      "text/html": [
       "<ol class=list-inline>\n",
       "\t<li>'Hello'</li>\n",
       "\t<li>'World'</li>\n",
       "\t<li>'is'</li>\n",
       "\t<li>'good!'</li>\n",
       "</ol>\n"
      ],
      "text/latex": [
       "\\begin{enumerate*}\n",
       "\\item 'Hello'\n",
       "\\item 'World'\n",
       "\\item 'is'\n",
       "\\item 'good!'\n",
       "\\end{enumerate*}\n"
      ],
      "text/markdown": [
       "1. 'Hello'\n",
       "2. 'World'\n",
       "3. 'is'\n",
       "4. 'good!'\n",
       "\n",
       "\n"
      ],
      "text/plain": [
       "[1] \"Hello\" \"World\" \"is\"    \"good!\""
      ]
     },
     "metadata": {},
     "output_type": "display_data"
    }
   ],
   "source": [
    "# 연속 문자 변수\n",
    "str2 <- c(\"Hello\", \"World\", \"is\", \"good!\")\n",
    "str2"
   ]
  },
  {
   "cell_type": "markdown",
   "id": "144f23b4",
   "metadata": {},
   "source": [
    "- 문자형 변수는 연산 불가능"
   ]
  },
  {
   "cell_type": "code",
   "execution_count": 22,
   "id": "96290415",
   "metadata": {},
   "outputs": [],
   "source": [
    "# str1 * 2"
   ]
  },
  {
   "cell_type": "markdown",
   "id": "07bedbd1",
   "metadata": {},
   "source": [
    "## 숫자를 다루는 함수"
   ]
  },
  {
   "cell_type": "code",
   "execution_count": 23,
   "id": "93ea2452",
   "metadata": {},
   "outputs": [
    {
     "data": {
      "text/html": [
       "2"
      ],
      "text/latex": [
       "2"
      ],
      "text/markdown": [
       "2"
      ],
      "text/plain": [
       "[1] 2"
      ]
     },
     "metadata": {},
     "output_type": "display_data"
    },
    {
     "data": {
      "text/html": [
       "3"
      ],
      "text/latex": [
       "3"
      ],
      "text/markdown": [
       "3"
      ],
      "text/plain": [
       "[1] 3"
      ]
     },
     "metadata": {},
     "output_type": "display_data"
    },
    {
     "data": {
      "text/html": [
       "1"
      ],
      "text/latex": [
       "1"
      ],
      "text/markdown": [
       "1"
      ],
      "text/plain": [
       "[1] 1"
      ]
     },
     "metadata": {},
     "output_type": "display_data"
    }
   ],
   "source": [
    "x <- c(1, 2, 3)\n",
    "\n",
    "# 평균\n",
    "mean(x)\n",
    "\n",
    "# 최댓값\n",
    "max(x)\n",
    "\n",
    "# 최솟값\n",
    "min(x)"
   ]
  },
  {
   "cell_type": "markdown",
   "id": "5c51cb05",
   "metadata": {},
   "source": [
    "## 문자를 다루는 함수"
   ]
  },
  {
   "cell_type": "code",
   "execution_count": 24,
   "id": "95fcdf6a",
   "metadata": {},
   "outputs": [
    {
     "data": {
      "text/html": [
       "'Hello World!'"
      ],
      "text/latex": [
       "'Hello World!'"
      ],
      "text/markdown": [
       "'Hello World!'"
      ],
      "text/plain": [
       "[1] \"Hello World!\""
      ]
     },
     "metadata": {},
     "output_type": "display_data"
    }
   ],
   "source": [
    "# paste() : 여러 문자를 합치는 함수\n",
    "paste(\"Hello\", \"World!\")"
   ]
  },
  {
   "cell_type": "code",
   "execution_count": 26,
   "id": "7933be25",
   "metadata": {},
   "outputs": [
    {
     "data": {
      "text/html": [
       "'Hello World is good!'"
      ],
      "text/latex": [
       "'Hello World is good!'"
      ],
      "text/markdown": [
       "'Hello World is good!'"
      ],
      "text/plain": [
       "[1] \"Hello World is good!\""
      ]
     },
     "metadata": {},
     "output_type": "display_data"
    }
   ],
   "source": [
    "paste(str2, collapse = \" \")"
   ]
  },
  {
   "cell_type": "code",
   "execution_count": 27,
   "id": "dcb24698",
   "metadata": {},
   "outputs": [
    {
     "data": {
      "text/html": [
       "<ol class=list-inline>\n",
       "\t<li>'Hello'</li>\n",
       "\t<li>'World!'</li>\n",
       "</ol>\n"
      ],
      "text/latex": [
       "\\begin{enumerate*}\n",
       "\\item 'Hello'\n",
       "\\item 'World!'\n",
       "\\end{enumerate*}\n"
      ],
      "text/markdown": [
       "1. 'Hello'\n",
       "2. 'World!'\n",
       "\n",
       "\n"
      ],
      "text/plain": [
       "[1] \"Hello\"  \"World!\""
      ]
     },
     "metadata": {},
     "output_type": "display_data"
    }
   ],
   "source": [
    "# 묶인 원소는 개별로 인식\n",
    "paste(c(\"Hello\", \"World!\"))"
   ]
  },
  {
   "cell_type": "code",
   "execution_count": 28,
   "id": "1a8ecc31",
   "metadata": {},
   "outputs": [
    {
     "data": {
      "text/html": [
       "<ol class=list-inline>\n",
       "\t<li>'1 st'</li>\n",
       "\t<li>'2 nd'</li>\n",
       "\t<li>'3 rd'</li>\n",
       "\t<li>'4 th'</li>\n",
       "\t<li>'5 th'</li>\n",
       "\t<li>'6 th'</li>\n",
       "\t<li>'7 th'</li>\n",
       "\t<li>'8 th'</li>\n",
       "\t<li>'9 th'</li>\n",
       "\t<li>'10 th'</li>\n",
       "</ol>\n"
      ],
      "text/latex": [
       "\\begin{enumerate*}\n",
       "\\item '1 st'\n",
       "\\item '2 nd'\n",
       "\\item '3 rd'\n",
       "\\item '4 th'\n",
       "\\item '5 th'\n",
       "\\item '6 th'\n",
       "\\item '7 th'\n",
       "\\item '8 th'\n",
       "\\item '9 th'\n",
       "\\item '10 th'\n",
       "\\end{enumerate*}\n"
      ],
      "text/markdown": [
       "1. '1 st'\n",
       "2. '2 nd'\n",
       "3. '3 rd'\n",
       "4. '4 th'\n",
       "5. '5 th'\n",
       "6. '6 th'\n",
       "7. '7 th'\n",
       "8. '8 th'\n",
       "9. '9 th'\n",
       "10. '10 th'\n",
       "\n",
       "\n"
      ],
      "text/plain": [
       " [1] \"1 st\"  \"2 nd\"  \"3 rd\"  \"4 th\"  \"5 th\"  \"6 th\"  \"7 th\"  \"8 th\"  \"9 th\" \n",
       "[10] \"10 th\""
      ]
     },
     "metadata": {},
     "output_type": "display_data"
    }
   ],
   "source": [
    "paste(1:10, c(\"st\", \"nd\", \"rd\", rep(\"th\", 7)))"
   ]
  },
  {
   "cell_type": "markdown",
   "id": "9c5b4518",
   "metadata": {},
   "source": [
    "## 패키지"
   ]
  },
  {
   "cell_type": "code",
   "execution_count": 29,
   "id": "3f61cffc",
   "metadata": {},
   "outputs": [
    {
     "name": "stderr",
     "output_type": "stream",
     "text": [
      "also installing the dependencies 'isoband', 'rlang'\n",
      "\n"
     ]
    },
    {
     "name": "stdout",
     "output_type": "stream",
     "text": [
      "\n",
      "  There are binary versions available but the source versions are later:\n",
      "        binary source needs_compilation\n",
      "isoband  0.2.4  0.2.5              TRUE\n",
      "ggplot2  3.3.3  3.3.5             FALSE\n",
      "\n",
      "  Binaries will be installed\n",
      "package 'isoband' successfully unpacked and MD5 sums checked\n",
      "package 'rlang' successfully unpacked and MD5 sums checked\n",
      "\n",
      "The downloaded binary packages are in\n",
      "\tC:\\Users\\ITPS\\AppData\\Local\\Temp\\RtmpS4ILrU\\downloaded_packages\n"
     ]
    },
    {
     "name": "stderr",
     "output_type": "stream",
     "text": [
      "installing the source package 'ggplot2'\n",
      "\n"
     ]
    }
   ],
   "source": [
    "# ggplot2 패키지 설치\n",
    "install.packages(\"ggplot2\")"
   ]
  },
  {
   "cell_type": "code",
   "execution_count": 31,
   "id": "aa377f2e",
   "metadata": {},
   "outputs": [],
   "source": [
    "# ggplot2 패키지 로드\n",
    "library(ggplot2)"
   ]
  },
  {
   "cell_type": "code",
   "execution_count": 32,
   "id": "39f5d786",
   "metadata": {},
   "outputs": [
    {
     "data": {
      "image/png": "[encoded data removed]",
      "text/plain": [
       "plot without title"
      ]
     },
     "metadata": {},
     "output_type": "display_data"
    }
   ],
   "source": [
    "data <- c(\"a\", \"a\", \"b\", \"c\")\n",
    "\n",
    "# qplot() : Quick plot\n",
    "# 빈도 막대 그래프 그리기\n",
    "qplot(data)"
   ]
  },
  {
   "cell_type": "markdown",
   "id": "00b038e8",
   "metadata": {},
   "source": [
    "### MPG 데이터\n",
    "\n",
    "- MPG(Mile Per Gallon) : 1999 ~ 2008년 미국에서 출시된 자동차 연비데이터\n",
    "    - ggplot2에서 제공하는 예제 데이터\n",
    "    \n",
    "| | |\n",
    "| :-- | :-- |\n",
    "| manufacturer | 제조사 |\n",
    "| model | 자동차 모델명 |\n",
    "| displ | 배기량 |\n",
    "| year | 생산 연도 |\n",
    "| cyl | 실린더 개수 |\n",
    "| trans | 변속기 종류 |\n",
    "| drv | 구동방식 |\n",
    "| cty | 도시 연비 |\n",
    "| hwy | 고속도로 연비 |\n",
    "| fl | 연료 종류 |\n",
    "| class | 자동차 종류 |"
   ]
  },
  {
   "cell_type": "code",
   "execution_count": 33,
   "id": "24d0739b",
   "metadata": {},
   "outputs": [
    {
     "name": "stderr",
     "output_type": "stream",
     "text": [
      "`stat_bin()` using `bins = 30`. Pick better value with `binwidth`.\n"
     ]
    },
    {
     "data": {
      "image/png": "[encoded data removed]",
      "text/plain": [
       "plot without title"
      ]
     },
     "metadata": {},
     "output_type": "display_data"
    }
   ],
   "source": [
    "# data에 mpg, x축에 hwy 변수 지정하여 그래프 그리기\n",
    "qplot(data = mpg, x = hwy)"
   ]
  },
  {
   "cell_type": "code",
   "execution_count": 34,
   "id": "f1d2827e",
   "metadata": {},
   "outputs": [
    {
     "name": "stderr",
     "output_type": "stream",
     "text": [
      "`stat_bin()` using `bins = 30`. Pick better value with `binwidth`.\n"
     ]
    },
    {
     "data": {
      "image/png": "[encoded data removed]",
      "text/plain": [
       "plot without title"
      ]
     },
     "metadata": {},
     "output_type": "display_data"
    }
   ],
   "source": [
    "# x축에 cty\n",
    "qplot(data = mpg, x = cty)"
   ]
  },
  {
   "cell_type": "code",
   "execution_count": 37,
   "id": "88f6ff61",
   "metadata": {},
   "outputs": [
    {
     "data": {
      "image/png": "[encoded data removed]",
      "text/plain": [
       "plot without title"
      ]
     },
     "metadata": {},
     "output_type": "display_data"
    }
   ],
   "source": [
    "# x축에 drv, y축에 hwy 산점도\n",
    "# qplot(data = mpg, x = drv, y = hwy)\n",
    "qplot(data = mpg, x = drv, y = hwy, color = manufacturer)"
   ]
  },
  {
   "cell_type": "code",
   "execution_count": 38,
   "id": "7ce01de5",
   "metadata": {},
   "outputs": [
    {
     "data": {
      "image/png": "[encoded data removed]",
      "text/plain": [
       "plot without title"
      ]
     },
     "metadata": {},
     "output_type": "display_data"
    }
   ],
   "source": [
    "# x축 drv, y축 hwy, 선그래프\n",
    "qplot(data = mpg, x = drv, y = hwy, geom = \"line\")"
   ]
  },
  {
   "cell_type": "code",
   "execution_count": 39,
   "id": "a9f97341",
   "metadata": {},
   "outputs": [
    {
     "data": {
      "image/png": "[encoded data removed]",
      "text/plain": [
       "plot without title"
      ]
     },
     "metadata": {},
     "output_type": "display_data"
    }
   ],
   "source": [
    "# x축 drv, y축 hwy 상자 수염 그림\n",
    "qplot(data = mpg, x = drv, y = hwy, geom = \"boxplot\")"
   ]
  },
  {
   "cell_type": "code",
   "execution_count": null,
   "id": "4d689aca",
   "metadata": {},
   "outputs": [],
   "source": []
  }
 ],
 "metadata": {
  "kernelspec": {
   "display_name": "R",
   "language": "R",
   "name": "ir"
  },
  "language_info": {
   "codemirror_mode": "r",
   "file_extension": ".r",
   "mimetype": "text/x-r-source",
   "name": "R",
   "pygments_lexer": "r",
   "version": "3.6.1"
  }
 },
 "nbformat": 4,
 "nbformat_minor": 5
}
