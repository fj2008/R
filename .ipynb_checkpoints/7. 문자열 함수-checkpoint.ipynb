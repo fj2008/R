{
 "cells": [
  {
   "cell_type": "markdown",
   "id": "cefb9954",
   "metadata": {},
   "source": [
    "# 문자열 함수(stringr 패키지)"
   ]
  },
  {
   "cell_type": "code",
   "execution_count": 1,
   "id": "5a985b7b",
   "metadata": {},
   "outputs": [
    {
     "name": "stdout",
     "output_type": "stream",
     "text": [
      "package 'stringr' successfully unpacked and MD5 sums checked\n"
     ]
    },
    {
     "name": "stderr",
     "output_type": "stream",
     "text": [
      "Warning message:\n",
      "\"cannot remove prior installation of package 'stringr'\"Warning message in file.copy(savedcopy, lib, recursive = TRUE):\n",
      "\"C:\\ProgramData\\Anaconda3\\Lib\\R\\library\\00LOCK\\stringr\\data\\Rdata.rdb를 C:\\ProgramData\\Anaconda3\\Lib\\R\\library\\stringr\\data\\Rdata.rdb로 복사하는데 문제가 발생했습니다: Permission denied\"Warning message in file.copy(savedcopy, lib, recursive = TRUE):\n",
      "\"C:\\ProgramData\\Anaconda3\\Lib\\R\\library\\00LOCK\\stringr\\data\\Rdata.rds를 C:\\ProgramData\\Anaconda3\\Lib\\R\\library\\stringr\\data\\Rdata.rds로 복사하는데 문제가 발생했습니다: Permission denied\"Warning message in file.copy(savedcopy, lib, recursive = TRUE):\n",
      "\"C:\\ProgramData\\Anaconda3\\Lib\\R\\library\\00LOCK\\stringr\\data\\Rdata.rdx를 C:\\ProgramData\\Anaconda3\\Lib\\R\\library\\stringr\\data\\Rdata.rdx로 복사하는데 문제가 발생했습니다: Permission denied\"Warning message in file.copy(savedcopy, lib, recursive = TRUE):\n",
      "\"C:\\ProgramData\\Anaconda3\\Lib\\R\\library\\00LOCK\\stringr\\DESCRIPTION를 C:\\ProgramData\\Anaconda3\\Lib\\R\\library\\stringr\\DESCRIPTION로 복사하는데 문제가 발생했습니다: Permission denied\"Warning message in file.copy(savedcopy, lib, recursive = TRUE):\n",
      "\"C:\\ProgramData\\Anaconda3\\Lib\\R\\library\\00LOCK\\stringr\\doc\\index.html를 C:\\ProgramData\\Anaconda3\\Lib\\R\\library\\stringr\\doc\\index.html로 복사하는데 문제가 발생했습니다: Permission denied\"Warning message in file.copy(savedcopy, lib, recursive = TRUE):\n",
      "\"C:\\ProgramData\\Anaconda3\\Lib\\R\\library\\00LOCK\\stringr\\doc\\regular-expressions.html를 C:\\ProgramData\\Anaconda3\\Lib\\R\\library\\stringr\\doc\\regular-expressions.html로 복사하는데 문제가 발생했습니다: Permission denied\"Warning message in file.copy(savedcopy, lib, recursive = TRUE):\n",
      "\"C:\\ProgramData\\Anaconda3\\Lib\\R\\library\\00LOCK\\stringr\\doc\\regular-expressions.R를 C:\\ProgramData\\Anaconda3\\Lib\\R\\library\\stringr\\doc\\regular-expressions.R로 복사하는데 문제가 발생했습니다: Permission denied\"Warning message in file.copy(savedcopy, lib, recursive = TRUE):\n",
      "\"C:\\ProgramData\\Anaconda3\\Lib\\R\\library\\00LOCK\\stringr\\doc\\regular-expressions.Rmd를 C:\\ProgramData\\Anaconda3\\Lib\\R\\library\\stringr\\doc\\regular-expressions.Rmd로 복사하는데 문제가 발생했습니다: Permission denied\"Warning message in file.copy(savedcopy, lib, recursive = TRUE):\n",
      "\"C:\\ProgramData\\Anaconda3\\Lib\\R\\library\\00LOCK\\stringr\\doc\\stringr.html를 C:\\ProgramData\\Anaconda3\\Lib\\R\\library\\stringr\\doc\\stringr.html로 복사하는데 문제가 발생했습니다: Permission denied\"Warning message in file.copy(savedcopy, lib, recursive = TRUE):\n",
      "\"C:\\ProgramData\\Anaconda3\\Lib\\R\\library\\00LOCK\\stringr\\doc\\stringr.R를 C:\\ProgramData\\Anaconda3\\Lib\\R\\library\\stringr\\doc\\stringr.R로 복사하는데 문제가 발생했습니다: Permission denied\"Warning message in file.copy(savedcopy, lib, recursive = TRUE):\n",
      "\"C:\\ProgramData\\Anaconda3\\Lib\\R\\library\\00LOCK\\stringr\\doc\\stringr.Rmd를 C:\\ProgramData\\Anaconda3\\Lib\\R\\library\\stringr\\doc\\stringr.Rmd로 복사하는데 문제가 발생했습니다: Permission denied\"Warning message in file.copy(savedcopy, lib, recursive = TRUE):\n",
      "\"C:\\ProgramData\\Anaconda3\\Lib\\R\\library\\00LOCK\\stringr\\help\\aliases.rds를 C:\\ProgramData\\Anaconda3\\Lib\\R\\library\\stringr\\help\\aliases.rds로 복사하는데 문제가 발생했습니다: Permission denied\"Warning message in file.copy(savedcopy, lib, recursive = TRUE):\n",
      "\"C:\\ProgramData\\Anaconda3\\Lib\\R\\library\\00LOCK\\stringr\\help\\AnIndex를 C:\\ProgramData\\Anaconda3\\Lib\\R\\library\\stringr\\help\\AnIndex로 복사하는데 문제가 발생했습니다: Permission denied\"Warning message in file.copy(savedcopy, lib, recursive = TRUE):\n",
      "\"C:\\ProgramData\\Anaconda3\\Lib\\R\\library\\00LOCK\\stringr\\help\\figures\\logo.png를 C:\\ProgramData\\Anaconda3\\Lib\\R\\library\\stringr\\help\\figures\\logo.png로 복사하는데 문제가 발생했습니다: Permission denied\"Warning message in file.copy(savedcopy, lib, recursive = TRUE):\n",
      "\"C:\\ProgramData\\Anaconda3\\Lib\\R\\library\\00LOCK\\stringr\\help\\paths.rds를 C:\\ProgramData\\Anaconda3\\Lib\\R\\library\\stringr\\help\\paths.rds로 복사하는데 문제가 발생했습니다: Permission denied\"Warning message in file.copy(savedcopy, lib, recursive = TRUE):\n",
      "\"C:\\ProgramData\\Anaconda3\\Lib\\R\\library\\00LOCK\\stringr\\help\\stringr.rdb를 C:\\ProgramData\\Anaconda3\\Lib\\R\\library\\stringr\\help\\stringr.rdb로 복사하는데 문제가 발생했습니다: Permission denied\"Warning message in file.copy(savedcopy, lib, recursive = TRUE):\n",
      "\"C:\\ProgramData\\Anaconda3\\Lib\\R\\library\\00LOCK\\stringr\\help\\stringr.rdx를 C:\\ProgramData\\Anaconda3\\Lib\\R\\library\\stringr\\help\\stringr.rdx로 복사하는데 문제가 발생했습니다: Permission denied\"Warning message in file.copy(savedcopy, lib, recursive = TRUE):\n",
      "\"C:\\ProgramData\\Anaconda3\\Lib\\R\\library\\00LOCK\\stringr\\html\\00Index.html를 C:\\ProgramData\\Anaconda3\\Lib\\R\\library\\stringr\\html\\00Index.html로 복사하는데 문제가 발생했습니다: Permission denied\"Warning message in file.copy(savedcopy, lib, recursive = TRUE):\n",
      "\"C:\\ProgramData\\Anaconda3\\Lib\\R\\library\\00LOCK\\stringr\\html\\case.html를 C:\\ProgramData\\Anaconda3\\Lib\\R\\library\\stringr\\html\\case.html로 복사하는데 문제가 발생했습니다: Permission denied\"Warning message in file.copy(savedcopy, lib, recursive = TRUE):\n",
      "\"C:\\ProgramData\\Anaconda3\\Lib\\R\\library\\00LOCK\\stringr\\html\\invert_match.html를 C:\\ProgramData\\Anaconda3\\Lib\\R\\library\\stringr\\html\\invert_match.html로 복사하는데 문제가 발생했습니다: Permission denied\"Warning message in file.copy(savedcopy, lib, recursive = TRUE):\n",
      "\"C:\\ProgramData\\Anaconda3\\Lib\\R\\library\\00LOCK\\stringr\\html\\modifiers.html를 C:\\ProgramData\\Anaconda3\\Lib\\R\\library\\stringr\\html\\modifiers.html로 복사하는데 문제가 발생했습니다: Permission denied\"Warning message in file.copy(savedcopy, lib, recursive = TRUE):\n",
      "\"C:\\ProgramData\\Anaconda3\\Lib\\R\\library\\00LOCK\\stringr\\html\\pipe.html를 C:\\ProgramData\\Anaconda3\\Lib\\R\\library\\stringr\\html\\pipe.html로 복사하는데 문제가 발생했습니다: Permission denied\"Warning message in file.copy(savedcopy, lib, recursive = TRUE):\n",
      "\"C:\\ProgramData\\Anaconda3\\Lib\\R\\library\\00LOCK\\stringr\\html\\R.css를 C:\\ProgramData\\Anaconda3\\Lib\\R\\library\\stringr\\html\\R.css로 복사하는데 문제가 발생했습니다: Permission denied\"Warning message in file.copy(savedcopy, lib, recursive = TRUE):\n",
      "\"C:\\ProgramData\\Anaconda3\\Lib\\R\\library\\00LOCK\\stringr\\html\\stringr-data.html를 C:\\ProgramData\\Anaconda3\\Lib\\R\\library\\stringr\\html\\stringr-data.html로 복사하는데 문제가 발생했습니다: Permission denied\"Warning message in file.copy(savedcopy, lib, recursive = TRUE):\n",
      "\"C:\\ProgramData\\Anaconda3\\Lib\\R\\library\\00LOCK\\stringr\\html\\stringr-package.html를 C:\\ProgramData\\Anaconda3\\Lib\\R\\library\\stringr\\html\\stringr-package.html로 복사하는데 문제가 발생했습니다: Permission denied\"Warning message in file.copy(savedcopy, lib, recursive = TRUE):\n",
      "\"C:\\ProgramData\\Anaconda3\\Lib\\R\\library\\00LOCK\\stringr\\html\\str_c.html를 C:\\ProgramData\\Anaconda3\\Lib\\R\\library\\stringr\\html\\str_c.html로 복사하는데 문제가 발생했습니다: Permission denied\"Warning message in file.copy(savedcopy, lib, recursive = TRUE):\n",
      "\"C:\\ProgramData\\Anaconda3\\Lib\\R\\library\\00LOCK\\stringr\\html\\str_conv.html를 C:\\ProgramData\\Anaconda3\\Lib\\R\\library\\stringr\\html\\str_conv.html로 복사하는데 문제가 발생했습니다: Permission denied\"Warning message in file.copy(savedcopy, lib, recursive = TRUE):\n",
      "\"C:\\ProgramData\\Anaconda3\\Lib\\R\\library\\00LOCK\\stringr\\html\\str_count.html를 C:\\ProgramData\\Anaconda3\\Lib\\R\\library\\stringr\\html\\str_count.html로 복사하는데 문제가 발생했습니다: Permission denied\"Warning message in file.copy(savedcopy, lib, recursive = TRUE):\n",
      "\"C:\\ProgramData\\Anaconda3\\Lib\\R\\library\\00LOCK\\stringr\\html\\str_detect.html를 C:\\ProgramData\\Anaconda3\\Lib\\R\\library\\stringr\\html\\str_detect.html로 복사하는데 문제가 발생했습니다: Permission denied\"Warning message in file.copy(savedcopy, lib, recursive = TRUE):\n",
      "\"C:\\ProgramData\\Anaconda3\\Lib\\R\\library\\00LOCK\\stringr\\html\\str_dup.html를 C:\\ProgramData\\Anaconda3\\Lib\\R\\library\\stringr\\html\\str_dup.html로 복사하는데 문제가 발생했습니다: Permission denied\"Warning message in file.copy(savedcopy, lib, recursive = TRUE):\n",
      "\"C:\\ProgramData\\Anaconda3\\Lib\\R\\library\\00LOCK\\stringr\\html\\str_extract.html를 C:\\ProgramData\\Anaconda3\\Lib\\R\\library\\stringr\\html\\str_extract.html로 복사하는데 문제가 발생했습니다: Permission denied\"Warning message in file.copy(savedcopy, lib, recursive = TRUE):\n",
      "\"C:\\ProgramData\\Anaconda3\\Lib\\R\\library\\00LOCK\\stringr\\html\\str_flatten.html를 C:\\ProgramData\\Anaconda3\\Lib\\R\\library\\stringr\\html\\str_flatten.html로 복사하는데 문제가 발생했습니다: Permission denied\"Warning message in file.copy(savedcopy, lib, recursive = TRUE):\n",
      "\"C:\\ProgramData\\Anaconda3\\Lib\\R\\library\\00LOCK\\stringr\\html\\str_glue.html를 C:\\ProgramData\\Anaconda3\\Lib\\R\\library\\stringr\\html\\str_glue.html로 복사하는데 문제가 발생했습니다: Permission denied\"Warning message in file.copy(savedcopy, lib, recursive = TRUE):\n"
     ]
    },
    {
     "name": "stderr",
     "output_type": "stream",
     "text": [
      "\"C:\\ProgramData\\Anaconda3\\Lib\\R\\library\\00LOCK\\stringr\\html\\str_interp.html를 C:\\ProgramData\\Anaconda3\\Lib\\R\\library\\stringr\\html\\str_interp.html로 복사하는데 문제가 발생했습니다: Permission denied\"Warning message in file.copy(savedcopy, lib, recursive = TRUE):\n",
      "\"C:\\ProgramData\\Anaconda3\\Lib\\R\\library\\00LOCK\\stringr\\html\\str_length.html를 C:\\ProgramData\\Anaconda3\\Lib\\R\\library\\stringr\\html\\str_length.html로 복사하는데 문제가 발생했습니다: Permission denied\"Warning message in file.copy(savedcopy, lib, recursive = TRUE):\n",
      "\"C:\\ProgramData\\Anaconda3\\Lib\\R\\library\\00LOCK\\stringr\\html\\str_locate.html를 C:\\ProgramData\\Anaconda3\\Lib\\R\\library\\stringr\\html\\str_locate.html로 복사하는데 문제가 발생했습니다: Permission denied\"Warning message in file.copy(savedcopy, lib, recursive = TRUE):\n",
      "\"C:\\ProgramData\\Anaconda3\\Lib\\R\\library\\00LOCK\\stringr\\html\\str_match.html를 C:\\ProgramData\\Anaconda3\\Lib\\R\\library\\stringr\\html\\str_match.html로 복사하는데 문제가 발생했습니다: Permission denied\"Warning message in file.copy(savedcopy, lib, recursive = TRUE):\n",
      "\"C:\\ProgramData\\Anaconda3\\Lib\\R\\library\\00LOCK\\stringr\\html\\str_order.html를 C:\\ProgramData\\Anaconda3\\Lib\\R\\library\\stringr\\html\\str_order.html로 복사하는데 문제가 발생했습니다: Permission denied\"Warning message in file.copy(savedcopy, lib, recursive = TRUE):\n",
      "\"C:\\ProgramData\\Anaconda3\\Lib\\R\\library\\00LOCK\\stringr\\html\\str_pad.html를 C:\\ProgramData\\Anaconda3\\Lib\\R\\library\\stringr\\html\\str_pad.html로 복사하는데 문제가 발생했습니다: Permission denied\"Warning message in file.copy(savedcopy, lib, recursive = TRUE):\n",
      "\"C:\\ProgramData\\Anaconda3\\Lib\\R\\library\\00LOCK\\stringr\\html\\str_remove.html를 C:\\ProgramData\\Anaconda3\\Lib\\R\\library\\stringr\\html\\str_remove.html로 복사하는데 문제가 발생했습니다: Permission denied\"Warning message in file.copy(savedcopy, lib, recursive = TRUE):\n",
      "\"C:\\ProgramData\\Anaconda3\\Lib\\R\\library\\00LOCK\\stringr\\html\\str_replace.html를 C:\\ProgramData\\Anaconda3\\Lib\\R\\library\\stringr\\html\\str_replace.html로 복사하는데 문제가 발생했습니다: Permission denied\"Warning message in file.copy(savedcopy, lib, recursive = TRUE):\n",
      "\"C:\\ProgramData\\Anaconda3\\Lib\\R\\library\\00LOCK\\stringr\\html\\str_replace_na.html를 C:\\ProgramData\\Anaconda3\\Lib\\R\\library\\stringr\\html\\str_replace_na.html로 복사하는데 문제가 발생했습니다: Permission denied\"Warning message in file.copy(savedcopy, lib, recursive = TRUE):\n",
      "\"C:\\ProgramData\\Anaconda3\\Lib\\R\\library\\00LOCK\\stringr\\html\\str_split.html를 C:\\ProgramData\\Anaconda3\\Lib\\R\\library\\stringr\\html\\str_split.html로 복사하는데 문제가 발생했습니다: Permission denied\"Warning message in file.copy(savedcopy, lib, recursive = TRUE):\n",
      "\"C:\\ProgramData\\Anaconda3\\Lib\\R\\library\\00LOCK\\stringr\\html\\str_starts.html를 C:\\ProgramData\\Anaconda3\\Lib\\R\\library\\stringr\\html\\str_starts.html로 복사하는데 문제가 발생했습니다: Permission denied\"Warning message in file.copy(savedcopy, lib, recursive = TRUE):\n",
      "\"C:\\ProgramData\\Anaconda3\\Lib\\R\\library\\00LOCK\\stringr\\html\\str_sub.html를 C:\\ProgramData\\Anaconda3\\Lib\\R\\library\\stringr\\html\\str_sub.html로 복사하는데 문제가 발생했습니다: Permission denied\"Warning message in file.copy(savedcopy, lib, recursive = TRUE):\n",
      "\"C:\\ProgramData\\Anaconda3\\Lib\\R\\library\\00LOCK\\stringr\\html\\str_subset.html를 C:\\ProgramData\\Anaconda3\\Lib\\R\\library\\stringr\\html\\str_subset.html로 복사하는데 문제가 발생했습니다: Permission denied\"Warning message in file.copy(savedcopy, lib, recursive = TRUE):\n",
      "\"C:\\ProgramData\\Anaconda3\\Lib\\R\\library\\00LOCK\\stringr\\html\\str_trim.html를 C:\\ProgramData\\Anaconda3\\Lib\\R\\library\\stringr\\html\\str_trim.html로 복사하는데 문제가 발생했습니다: Permission denied\"Warning message in file.copy(savedcopy, lib, recursive = TRUE):\n",
      "\"C:\\ProgramData\\Anaconda3\\Lib\\R\\library\\00LOCK\\stringr\\html\\str_trunc.html를 C:\\ProgramData\\Anaconda3\\Lib\\R\\library\\stringr\\html\\str_trunc.html로 복사하는데 문제가 발생했습니다: Permission denied\"Warning message in file.copy(savedcopy, lib, recursive = TRUE):\n",
      "\"C:\\ProgramData\\Anaconda3\\Lib\\R\\library\\00LOCK\\stringr\\html\\str_view.html를 C:\\ProgramData\\Anaconda3\\Lib\\R\\library\\stringr\\html\\str_view.html로 복사하는데 문제가 발생했습니다: Permission denied\"Warning message in file.copy(savedcopy, lib, recursive = TRUE):\n",
      "\"C:\\ProgramData\\Anaconda3\\Lib\\R\\library\\00LOCK\\stringr\\html\\str_wrap.html를 C:\\ProgramData\\Anaconda3\\Lib\\R\\library\\stringr\\html\\str_wrap.html로 복사하는데 문제가 발생했습니다: Permission denied\"Warning message in file.copy(savedcopy, lib, recursive = TRUE):\n",
      "\"C:\\ProgramData\\Anaconda3\\Lib\\R\\library\\00LOCK\\stringr\\html\\word.html를 C:\\ProgramData\\Anaconda3\\Lib\\R\\library\\stringr\\html\\word.html로 복사하는데 문제가 발생했습니다: Permission denied\"Warning message in file.copy(savedcopy, lib, recursive = TRUE):\n",
      "\"C:\\ProgramData\\Anaconda3\\Lib\\R\\library\\00LOCK\\stringr\\htmlwidgets\\lib\\str_view.css를 C:\\ProgramData\\Anaconda3\\Lib\\R\\library\\stringr\\htmlwidgets\\lib\\str_view.css로 복사하는데 문제가 발생했습니다: Permission denied\"Warning message in file.copy(savedcopy, lib, recursive = TRUE):\n",
      "\"C:\\ProgramData\\Anaconda3\\Lib\\R\\library\\00LOCK\\stringr\\htmlwidgets\\str_view.js를 C:\\ProgramData\\Anaconda3\\Lib\\R\\library\\stringr\\htmlwidgets\\str_view.js로 복사하는데 문제가 발생했습니다: Permission denied\"Warning message in file.copy(savedcopy, lib, recursive = TRUE):\n",
      "\"C:\\ProgramData\\Anaconda3\\Lib\\R\\library\\00LOCK\\stringr\\htmlwidgets\\str_view.yaml를 C:\\ProgramData\\Anaconda3\\Lib\\R\\library\\stringr\\htmlwidgets\\str_view.yaml로 복사하는데 문제가 발생했습니다: Permission denied\"Warning message in file.copy(savedcopy, lib, recursive = TRUE):\n",
      "\"C:\\ProgramData\\Anaconda3\\Lib\\R\\library\\00LOCK\\stringr\\INDEX를 C:\\ProgramData\\Anaconda3\\Lib\\R\\library\\stringr\\INDEX로 복사하는데 문제가 발생했습니다: Permission denied\"Warning message in file.copy(savedcopy, lib, recursive = TRUE):\n",
      "\"C:\\ProgramData\\Anaconda3\\Lib\\R\\library\\00LOCK\\stringr\\LICENSE를 C:\\ProgramData\\Anaconda3\\Lib\\R\\library\\stringr\\LICENSE로 복사하는데 문제가 발생했습니다: Permission denied\"Warning message in file.copy(savedcopy, lib, recursive = TRUE):\n",
      "\"C:\\ProgramData\\Anaconda3\\Lib\\R\\library\\00LOCK\\stringr\\MD5를 C:\\ProgramData\\Anaconda3\\Lib\\R\\library\\stringr\\MD5로 복사하는데 문제가 발생했습니다: Permission denied\"Warning message in file.copy(savedcopy, lib, recursive = TRUE):\n",
      "\"C:\\ProgramData\\Anaconda3\\Lib\\R\\library\\00LOCK\\stringr\\Meta\\data.rds를 C:\\ProgramData\\Anaconda3\\Lib\\R\\library\\stringr\\Meta\\data.rds로 복사하는데 문제가 발생했습니다: Permission denied\"Warning message in file.copy(savedcopy, lib, recursive = TRUE):\n",
      "\"C:\\ProgramData\\Anaconda3\\Lib\\R\\library\\00LOCK\\stringr\\Meta\\features.rds를 C:\\ProgramData\\Anaconda3\\Lib\\R\\library\\stringr\\Meta\\features.rds로 복사하는데 문제가 발생했습니다: Permission denied\"Warning message in file.copy(savedcopy, lib, recursive = TRUE):\n",
      "\"C:\\ProgramData\\Anaconda3\\Lib\\R\\library\\00LOCK\\stringr\\Meta\\hsearch.rds를 C:\\ProgramData\\Anaconda3\\Lib\\R\\library\\stringr\\Meta\\hsearch.rds로 복사하는데 문제가 발생했습니다: Permission denied\"Warning message in file.copy(savedcopy, lib, recursive = TRUE):\n",
      "\"C:\\ProgramData\\Anaconda3\\Lib\\R\\library\\00LOCK\\stringr\\Meta\\links.rds를 C:\\ProgramData\\Anaconda3\\Lib\\R\\library\\stringr\\Meta\\links.rds로 복사하는데 문제가 발생했습니다: Permission denied\"Warning message in file.copy(savedcopy, lib, recursive = TRUE):\n",
      "\"C:\\ProgramData\\Anaconda3\\Lib\\R\\library\\00LOCK\\stringr\\Meta\\nsInfo.rds를 C:\\ProgramData\\Anaconda3\\Lib\\R\\library\\stringr\\Meta\\nsInfo.rds로 복사하는데 문제가 발생했습니다: Permission denied\"Warning message in file.copy(savedcopy, lib, recursive = TRUE):\n",
      "\"C:\\ProgramData\\Anaconda3\\Lib\\R\\library\\00LOCK\\stringr\\Meta\\package.rds를 C:\\ProgramData\\Anaconda3\\Lib\\R\\library\\stringr\\Meta\\package.rds로 복사하는데 문제가 발생했습니다: Permission denied\"Warning message in file.copy(savedcopy, lib, recursive = TRUE):\n",
      "\"C:\\ProgramData\\Anaconda3\\Lib\\R\\library\\00LOCK\\stringr\\Meta\\Rd.rds를 C:\\ProgramData\\Anaconda3\\Lib\\R\\library\\stringr\\Meta\\Rd.rds로 복사하는데 문제가 발생했습니다: Permission denied\"Warning message in file.copy(savedcopy, lib, recursive = TRUE):\n",
      "\"C:\\ProgramData\\Anaconda3\\Lib\\R\\library\\00LOCK\\stringr\\Meta\\vignette.rds를 C:\\ProgramData\\Anaconda3\\Lib\\R\\library\\stringr\\Meta\\vignette.rds로 복사하는데 문제가 발생했습니다: Permission denied\"Warning message in file.copy(savedcopy, lib, recursive = TRUE):\n",
      "\"C:\\ProgramData\\Anaconda3\\Lib\\R\\library\\00LOCK\\stringr\\NAMESPACE를 C:\\ProgramData\\Anaconda3\\Lib\\R\\library\\stringr\\NAMESPACE로 복사하는데 문제가 발생했습니다: Permission denied\"Warning message in file.copy(savedcopy, lib, recursive = TRUE):\n",
      "\"C:\\ProgramData\\Anaconda3\\Lib\\R\\library\\00LOCK\\stringr\\NEWS.md를 C:\\ProgramData\\Anaconda3\\Lib\\R\\library\\stringr\\NEWS.md로 복사하는데 문제가 발생했습니다: Permission denied\"Warning message in file.copy(savedcopy, lib, recursive = TRUE):\n"
     ]
    },
    {
     "name": "stderr",
     "output_type": "stream",
     "text": [
      "\"C:\\ProgramData\\Anaconda3\\Lib\\R\\library\\00LOCK\\stringr\\R\\stringr를 C:\\ProgramData\\Anaconda3\\Lib\\R\\library\\stringr\\R\\stringr로 복사하는데 문제가 발생했습니다: Permission denied\"Warning message in file.copy(savedcopy, lib, recursive = TRUE):\n",
      "\"C:\\ProgramData\\Anaconda3\\Lib\\R\\library\\00LOCK\\stringr\\R\\stringr.rdb를 C:\\ProgramData\\Anaconda3\\Lib\\R\\library\\stringr\\R\\stringr.rdb로 복사하는데 문제가 발생했습니다: Permission denied\"Warning message in file.copy(savedcopy, lib, recursive = TRUE):\n",
      "\"C:\\ProgramData\\Anaconda3\\Lib\\R\\library\\00LOCK\\stringr\\R\\stringr.rdx를 C:\\ProgramData\\Anaconda3\\Lib\\R\\library\\stringr\\R\\stringr.rdx로 복사하는데 문제가 발생했습니다: Permission denied\"Warning message:\n",
      "\"restored 'stringr'\""
     ]
    },
    {
     "name": "stdout",
     "output_type": "stream",
     "text": [
      "\n",
      "The downloaded binary packages are in\n",
      "\tC:\\Users\\USER\\AppData\\Local\\Temp\\Rtmpi4f33T\\downloaded_packages\n"
     ]
    }
   ],
   "source": [
    "install.packages(\"stringr\")"
   ]
  },
  {
   "cell_type": "code",
   "execution_count": 2,
   "id": "d4d8157e",
   "metadata": {},
   "outputs": [],
   "source": [
    "library(stringr)"
   ]
  },
  {
   "cell_type": "markdown",
   "id": "6dbbc7da",
   "metadata": {},
   "source": [
    "## str_detect()\n",
    "- 원소별 패턴 검사를 위해 사용\n",
    "\n",
    "- str_detect(데이터,패턴)\n",
    "    - 논리값으로 리턴됨"
   ]
  },
  {
   "cell_type": "code",
   "execution_count": 3,
   "id": "7d961d85",
   "metadata": {},
   "outputs": [],
   "source": [
    "v1 <- c(\"aa\", \"ba\", \"ccb\",\"Ab\",\"Bbc\")"
   ]
  },
  {
   "cell_type": "code",
   "execution_count": 5,
   "id": "3cbceded",
   "metadata": {},
   "outputs": [
    {
     "data": {
      "text/html": [
       "<ol class=list-inline>\n",
       "\t<li>TRUE</li>\n",
       "\t<li>TRUE</li>\n",
       "\t<li>FALSE</li>\n",
       "\t<li>FALSE</li>\n",
       "\t<li>FALSE</li>\n",
       "</ol>\n"
      ],
      "text/latex": [
       "\\begin{enumerate*}\n",
       "\\item TRUE\n",
       "\\item TRUE\n",
       "\\item FALSE\n",
       "\\item FALSE\n",
       "\\item FALSE\n",
       "\\end{enumerate*}\n"
      ],
      "text/markdown": [
       "1. TRUE\n",
       "2. TRUE\n",
       "3. FALSE\n",
       "4. FALSE\n",
       "5. FALSE\n",
       "\n",
       "\n"
      ],
      "text/plain": [
       "[1]  TRUE  TRUE FALSE FALSE FALSE"
      ]
     },
     "metadata": {},
     "output_type": "display_data"
    }
   ],
   "source": [
    "str_detect(v1,\"a\")"
   ]
  },
  {
   "cell_type": "code",
   "execution_count": 6,
   "id": "0127ed1d",
   "metadata": {},
   "outputs": [
    {
     "data": {
      "text/html": [
       "'aa'"
      ],
      "text/latex": [
       "'aa'"
      ],
      "text/markdown": [
       "'aa'"
      ],
      "text/plain": [
       "[1] \"aa\""
      ]
     },
     "metadata": {},
     "output_type": "display_data"
    }
   ],
   "source": [
    "v1[1]"
   ]
  },
  {
   "cell_type": "code",
   "execution_count": 7,
   "id": "e7ee24d0",
   "metadata": {},
   "outputs": [
    {
     "data": {
      "text/html": [
       "<ol class=list-inline>\n",
       "\t<li>'aa'</li>\n",
       "\t<li>'ba'</li>\n",
       "\t<li>'ccb'</li>\n",
       "</ol>\n"
      ],
      "text/latex": [
       "\\begin{enumerate*}\n",
       "\\item 'aa'\n",
       "\\item 'ba'\n",
       "\\item 'ccb'\n",
       "\\end{enumerate*}\n"
      ],
      "text/markdown": [
       "1. 'aa'\n",
       "2. 'ba'\n",
       "3. 'ccb'\n",
       "\n",
       "\n"
      ],
      "text/plain": [
       "[1] \"aa\"  \"ba\"  \"ccb\""
      ]
     },
     "metadata": {},
     "output_type": "display_data"
    }
   ],
   "source": [
    "v1[1:3]"
   ]
  },
  {
   "cell_type": "code",
   "execution_count": 8,
   "id": "963fca19",
   "metadata": {},
   "outputs": [
    {
     "data": {
      "text/html": [
       "<ol class=list-inline>\n",
       "\t<li>'aa'</li>\n",
       "\t<li>'ccb'</li>\n",
       "</ol>\n"
      ],
      "text/latex": [
       "\\begin{enumerate*}\n",
       "\\item 'aa'\n",
       "\\item 'ccb'\n",
       "\\end{enumerate*}\n"
      ],
      "text/markdown": [
       "1. 'aa'\n",
       "2. 'ccb'\n",
       "\n",
       "\n"
      ],
      "text/plain": [
       "[1] \"aa\"  \"ccb\""
      ]
     },
     "metadata": {},
     "output_type": "display_data"
    }
   ],
   "source": [
    "v1[c(1,3)]"
   ]
  },
  {
   "cell_type": "code",
   "execution_count": 9,
   "id": "ac0cb403",
   "metadata": {},
   "outputs": [
    {
     "data": {
      "text/html": [
       "<ol class=list-inline>\n",
       "\t<li>'aa'</li>\n",
       "\t<li>'ba'</li>\n",
       "</ol>\n"
      ],
      "text/latex": [
       "\\begin{enumerate*}\n",
       "\\item 'aa'\n",
       "\\item 'ba'\n",
       "\\end{enumerate*}\n"
      ],
      "text/markdown": [
       "1. 'aa'\n",
       "2. 'ba'\n",
       "\n",
       "\n"
      ],
      "text/plain": [
       "[1] \"aa\" \"ba\""
      ]
     },
     "metadata": {},
     "output_type": "display_data"
    }
   ],
   "source": [
    "v1[c(T,T,F,F,F)]"
   ]
  },
  {
   "cell_type": "code",
   "execution_count": 11,
   "id": "1477598a",
   "metadata": {},
   "outputs": [
    {
     "data": {
      "text/html": [
       "<ol class=list-inline>\n",
       "\t<li>'aa'</li>\n",
       "\t<li>'ba'</li>\n",
       "</ol>\n"
      ],
      "text/latex": [
       "\\begin{enumerate*}\n",
       "\\item 'aa'\n",
       "\\item 'ba'\n",
       "\\end{enumerate*}\n"
      ],
      "text/markdown": [
       "1. 'aa'\n",
       "2. 'ba'\n",
       "\n",
       "\n"
      ],
      "text/plain": [
       "[1] \"aa\" \"ba\""
      ]
     },
     "metadata": {},
     "output_type": "display_data"
    }
   ],
   "source": [
    "#\"a\"를 포함하는 원소를 출력\n",
    "v1[str_detect(v1,\"a\")]"
   ]
  },
  {
   "cell_type": "code",
   "execution_count": 14,
   "id": "12a10024",
   "metadata": {},
   "outputs": [
    {
     "data": {
      "text/html": [
       "'aa'"
      ],
      "text/latex": [
       "'aa'"
      ],
      "text/markdown": [
       "'aa'"
      ],
      "text/plain": [
       "[1] \"aa\""
      ]
     },
     "metadata": {},
     "output_type": "display_data"
    }
   ],
   "source": [
    "# \"a\"로 시작하는 원소(^는 시작의 의미)\n",
    "v1[str_detect(v1,\"^a\")]"
   ]
  },
  {
   "cell_type": "code",
   "execution_count": 16,
   "id": "3d931803",
   "metadata": {},
   "outputs": [
    {
     "data": {
      "text/html": [
       "<ol class=list-inline>\n",
       "\t<li>'aa'</li>\n",
       "\t<li>'Ab'</li>\n",
       "</ol>\n"
      ],
      "text/latex": [
       "\\begin{enumerate*}\n",
       "\\item 'aa'\n",
       "\\item 'Ab'\n",
       "\\end{enumerate*}\n"
      ],
      "text/markdown": [
       "1. 'aa'\n",
       "2. 'Ab'\n",
       "\n",
       "\n"
      ],
      "text/plain": [
       "[1] \"aa\" \"Ab\""
      ]
     },
     "metadata": {},
     "output_type": "display_data"
    }
   ],
   "source": [
    "v1[str_detect(v1, \"^[aA]\")]\n",
    "#a 또는 A로 시작하는 원소"
   ]
  },
  {
   "cell_type": "code",
   "execution_count": 17,
   "id": "e99cdc93",
   "metadata": {},
   "outputs": [
    {
     "data": {
      "text/html": [
       "<ol class=list-inline>\n",
       "\t<li>'aa'</li>\n",
       "\t<li>'ba'</li>\n",
       "\t<li>'Ab'</li>\n",
       "\t<li>'Bbc'</li>\n",
       "</ol>\n"
      ],
      "text/latex": [
       "\\begin{enumerate*}\n",
       "\\item 'aa'\n",
       "\\item 'ba'\n",
       "\\item 'Ab'\n",
       "\\item 'Bbc'\n",
       "\\end{enumerate*}\n"
      ],
      "text/markdown": [
       "1. 'aa'\n",
       "2. 'ba'\n",
       "3. 'Ab'\n",
       "4. 'Bbc'\n",
       "\n",
       "\n"
      ],
      "text/plain": [
       "[1] \"aa\"  \"ba\"  \"Ab\"  \"Bbc\""
      ]
     },
     "metadata": {},
     "output_type": "display_data"
    }
   ],
   "source": [
    "v1[str_detect(v1, \"^[aAbB]\")]"
   ]
  },
  {
   "cell_type": "code",
   "execution_count": 18,
   "id": "d445bb0a",
   "metadata": {},
   "outputs": [
    {
     "data": {
      "text/html": [
       "'Ab'"
      ],
      "text/latex": [
       "'Ab'"
      ],
      "text/markdown": [
       "'Ab'"
      ],
      "text/plain": [
       "[1] \"Ab\""
      ]
     },
     "metadata": {},
     "output_type": "display_data"
    }
   ],
   "source": [
    "v1[str_detect(v1, \"^[aA][bB]\")]\n",
    "# 대소 관계없이 a로 시작, 두번째 글자가 b"
   ]
  },
  {
   "cell_type": "code",
   "execution_count": 19,
   "id": "55f25a59",
   "metadata": {},
   "outputs": [
    {
     "data": {
      "text/html": [
       "<ol class=list-inline>\n",
       "\t<li>'aa'</li>\n",
       "\t<li>'ba'</li>\n",
       "</ol>\n"
      ],
      "text/latex": [
       "\\begin{enumerate*}\n",
       "\\item 'aa'\n",
       "\\item 'ba'\n",
       "\\end{enumerate*}\n"
      ],
      "text/markdown": [
       "1. 'aa'\n",
       "2. 'ba'\n",
       "\n",
       "\n"
      ],
      "text/plain": [
       "[1] \"aa\" \"ba\""
      ]
     },
     "metadata": {},
     "output_type": "display_data"
    }
   ],
   "source": [
    "# a로 끝나는 원소 $기호 사용\n",
    "v1[str_detect(v1,\"a$\")]"
   ]
  },
  {
   "cell_type": "markdown",
   "id": "fa590b0e",
   "metadata": {},
   "source": [
    "## str_count()\n",
    "\n",
    "- 특정 문자의 출현 횟수를 세기 위해 사용"
   ]
  },
  {
   "cell_type": "code",
   "execution_count": 20,
   "id": "4e23b42c",
   "metadata": {},
   "outputs": [
    {
     "data": {
      "text/html": [
       "<ol class=list-inline>\n",
       "\t<li>2</li>\n",
       "\t<li>2</li>\n",
       "\t<li>3</li>\n",
       "\t<li>2</li>\n",
       "\t<li>3</li>\n",
       "</ol>\n"
      ],
      "text/latex": [
       "\\begin{enumerate*}\n",
       "\\item 2\n",
       "\\item 2\n",
       "\\item 3\n",
       "\\item 2\n",
       "\\item 3\n",
       "\\end{enumerate*}\n"
      ],
      "text/markdown": [
       "1. 2\n",
       "2. 2\n",
       "3. 3\n",
       "4. 2\n",
       "5. 3\n",
       "\n",
       "\n"
      ],
      "text/plain": [
       "[1] 2 2 3 2 3"
      ]
     },
     "metadata": {},
     "output_type": "display_data"
    }
   ],
   "source": [
    "# 글자수\n",
    "str_count(v1)"
   ]
  },
  {
   "cell_type": "code",
   "execution_count": 21,
   "id": "93d05121",
   "metadata": {},
   "outputs": [
    {
     "data": {
      "text/html": [
       "<ol class=list-inline>\n",
       "\t<li>2</li>\n",
       "\t<li>1</li>\n",
       "\t<li>0</li>\n",
       "\t<li>0</li>\n",
       "\t<li>0</li>\n",
       "</ol>\n"
      ],
      "text/latex": [
       "\\begin{enumerate*}\n",
       "\\item 2\n",
       "\\item 1\n",
       "\\item 0\n",
       "\\item 0\n",
       "\\item 0\n",
       "\\end{enumerate*}\n"
      ],
      "text/markdown": [
       "1. 2\n",
       "2. 1\n",
       "3. 0\n",
       "4. 0\n",
       "5. 0\n",
       "\n",
       "\n"
      ],
      "text/plain": [
       "[1] 2 1 0 0 0"
      ]
     },
     "metadata": {},
     "output_type": "display_data"
    }
   ],
   "source": [
    "str_count(v1, \"a\")"
   ]
  },
  {
   "cell_type": "markdown",
   "id": "2a0021d5",
   "metadata": {},
   "source": [
    "## str_c()\n",
    "\n",
    "- 문자열 결합"
   ]
  },
  {
   "cell_type": "code",
   "execution_count": 22,
   "id": "7855b088",
   "metadata": {},
   "outputs": [
    {
     "data": {
      "text/html": [
       "'cutedog'"
      ],
      "text/latex": [
       "'cutedog'"
      ],
      "text/markdown": [
       "'cutedog'"
      ],
      "text/plain": [
       "[1] \"cutedog\""
      ]
     },
     "metadata": {},
     "output_type": "display_data"
    }
   ],
   "source": [
    "str_c(\"cute\", \"dog\")"
   ]
  },
  {
   "cell_type": "code",
   "execution_count": 24,
   "id": "ebe2f2fc",
   "metadata": {},
   "outputs": [
    {
     "data": {
      "text/html": [
       "<ol class=list-inline>\n",
       "\t<li>'vector : aa'</li>\n",
       "\t<li>'vector : ba'</li>\n",
       "\t<li>'vector : ccb'</li>\n",
       "\t<li>'vector : Ab'</li>\n",
       "\t<li>'vector : Bbc'</li>\n",
       "</ol>\n"
      ],
      "text/latex": [
       "\\begin{enumerate*}\n",
       "\\item 'vector : aa'\n",
       "\\item 'vector : ba'\n",
       "\\item 'vector : ccb'\n",
       "\\item 'vector : Ab'\n",
       "\\item 'vector : Bbc'\n",
       "\\end{enumerate*}\n"
      ],
      "text/markdown": [
       "1. 'vector : aa'\n",
       "2. 'vector : ba'\n",
       "3. 'vector : ccb'\n",
       "4. 'vector : Ab'\n",
       "5. 'vector : Bbc'\n",
       "\n",
       "\n"
      ],
      "text/plain": [
       "[1] \"vector : aa\"  \"vector : ba\"  \"vector : ccb\" \"vector : Ab\"  \"vector : Bbc\""
      ]
     },
     "metadata": {},
     "output_type": "display_data"
    }
   ],
   "source": [
    "str_c(\"vector : \" , v1)"
   ]
  },
  {
   "cell_type": "code",
   "execution_count": 27,
   "id": "6115238f",
   "metadata": {},
   "outputs": [
    {
     "data": {
      "text/html": [
       "<ol class=list-inline>\n",
       "\t<li>'aa- name is -aa'</li>\n",
       "\t<li>'ba- name is -ba'</li>\n",
       "\t<li>'ccb- name is -ccb'</li>\n",
       "\t<li>'Ab- name is -Ab'</li>\n",
       "\t<li>'Bbc- name is -Bbc'</li>\n",
       "</ol>\n"
      ],
      "text/latex": [
       "\\begin{enumerate*}\n",
       "\\item 'aa- name is -aa'\n",
       "\\item 'ba- name is -ba'\n",
       "\\item 'ccb- name is -ccb'\n",
       "\\item 'Ab- name is -Ab'\n",
       "\\item 'Bbc- name is -Bbc'\n",
       "\\end{enumerate*}\n"
      ],
      "text/markdown": [
       "1. 'aa- name is -aa'\n",
       "2. 'ba- name is -ba'\n",
       "3. 'ccb- name is -ccb'\n",
       "4. 'Ab- name is -Ab'\n",
       "5. 'Bbc- name is -Bbc'\n",
       "\n",
       "\n"
      ],
      "text/plain": [
       "[1] \"aa- name is -aa\"   \"ba- name is -ba\"   \"ccb- name is -ccb\"\n",
       "[4] \"Ab- name is -Ab\"   \"Bbc- name is -Bbc\""
      ]
     },
     "metadata": {},
     "output_type": "display_data"
    }
   ],
   "source": [
    "str_c(v1, \"- name is -\" , v1)"
   ]
  },
  {
   "cell_type": "code",
   "execution_count": 28,
   "id": "de5d0ddb",
   "metadata": {},
   "outputs": [
    {
     "data": {
      "text/html": [
       "'aa-ba-ccb-Ab-Bbc'"
      ],
      "text/latex": [
       "'aa-ba-ccb-Ab-Bbc'"
      ],
      "text/markdown": [
       "'aa-ba-ccb-Ab-Bbc'"
      ],
      "text/plain": [
       "[1] \"aa-ba-ccb-Ab-Bbc\""
      ]
     },
     "metadata": {},
     "output_type": "display_data"
    }
   ],
   "source": [
    "str_c(v1, collapse = \"-\")"
   ]
  },
  {
   "cell_type": "markdown",
   "id": "45714b2b",
   "metadata": {},
   "source": [
    "## str_dup()\n",
    "- 원소마다 반복 출력"
   ]
  },
  {
   "cell_type": "code",
   "execution_count": 29,
   "id": "753bed0d",
   "metadata": {},
   "outputs": [
    {
     "data": {
      "text/html": [
       "<ol class=list-inline>\n",
       "\t<li>'aaaaaa'</li>\n",
       "\t<li>'bababa'</li>\n",
       "\t<li>'ccbccbccb'</li>\n",
       "\t<li>'AbAbAb'</li>\n",
       "\t<li>'BbcBbcBbc'</li>\n",
       "</ol>\n"
      ],
      "text/latex": [
       "\\begin{enumerate*}\n",
       "\\item 'aaaaaa'\n",
       "\\item 'bababa'\n",
       "\\item 'ccbccbccb'\n",
       "\\item 'AbAbAb'\n",
       "\\item 'BbcBbcBbc'\n",
       "\\end{enumerate*}\n"
      ],
      "text/markdown": [
       "1. 'aaaaaa'\n",
       "2. 'bababa'\n",
       "3. 'ccbccbccb'\n",
       "4. 'AbAbAb'\n",
       "5. 'BbcBbcBbc'\n",
       "\n",
       "\n"
      ],
      "text/plain": [
       "[1] \"aaaaaa\"    \"bababa\"    \"ccbccbccb\" \"AbAbAb\"    \"BbcBbcBbc\""
      ]
     },
     "metadata": {},
     "output_type": "display_data"
    }
   ],
   "source": [
    "str_dup(v1, 3)"
   ]
  },
  {
   "cell_type": "markdown",
   "id": "b7224655",
   "metadata": {},
   "source": [
    "## str_length()\n",
    "- 문자열의 길이, 백터의 각 원소의 길이 확인"
   ]
  },
  {
   "cell_type": "code",
   "execution_count": 30,
   "id": "0ea0fa54",
   "metadata": {},
   "outputs": [
    {
     "data": {
      "text/html": [
       "5"
      ],
      "text/latex": [
       "5"
      ],
      "text/markdown": [
       "5"
      ],
      "text/plain": [
       "[1] 5"
      ]
     },
     "metadata": {},
     "output_type": "display_data"
    }
   ],
   "source": [
    "str_length(\"hello\")"
   ]
  },
  {
   "cell_type": "code",
   "execution_count": 31,
   "id": "d3c9966c",
   "metadata": {},
   "outputs": [
    {
     "data": {
      "text/html": [
       "<ol class=list-inline>\n",
       "\t<li>2</li>\n",
       "\t<li>2</li>\n",
       "\t<li>3</li>\n",
       "\t<li>2</li>\n",
       "\t<li>3</li>\n",
       "</ol>\n"
      ],
      "text/latex": [
       "\\begin{enumerate*}\n",
       "\\item 2\n",
       "\\item 2\n",
       "\\item 3\n",
       "\\item 2\n",
       "\\item 3\n",
       "\\end{enumerate*}\n"
      ],
      "text/markdown": [
       "1. 2\n",
       "2. 2\n",
       "3. 3\n",
       "4. 2\n",
       "5. 3\n",
       "\n",
       "\n"
      ],
      "text/plain": [
       "[1] 2 2 3 2 3"
      ]
     },
     "metadata": {},
     "output_type": "display_data"
    }
   ],
   "source": [
    "str_length(v1)"
   ]
  },
  {
   "cell_type": "markdown",
   "id": "96a99e10",
   "metadata": {},
   "source": [
    "## str_locate()\n",
    "- 특정 문자와 매칭하는 문자열의 시작, 끝, 위치확인"
   ]
  },
  {
   "cell_type": "code",
   "execution_count": 33,
   "id": "e5775990",
   "metadata": {},
   "outputs": [
    {
     "data": {
      "text/html": [
       "<table>\n",
       "<thead><tr><th scope=col>start</th><th scope=col>end</th></tr></thead>\n",
       "<tbody>\n",
       "\t<tr><td>1</td><td>1</td></tr>\n",
       "</tbody>\n",
       "</table>\n"
      ],
      "text/latex": [
       "\\begin{tabular}{ll}\n",
       " start & end\\\\\n",
       "\\hline\n",
       "\t 1 & 1\\\\\n",
       "\\end{tabular}\n"
      ],
      "text/markdown": [
       "\n",
       "| start | end |\n",
       "|---|---|\n",
       "| 1 | 1 |\n",
       "\n"
      ],
      "text/plain": [
       "     start end\n",
       "[1,] 1     1  "
      ]
     },
     "metadata": {},
     "output_type": "display_data"
    }
   ],
   "source": [
    "# 처음 나오는 a의 위치\n",
    "str_locate(\"abab\",\"a\")"
   ]
  },
  {
   "cell_type": "code",
   "execution_count": 34,
   "id": "ca53d33e",
   "metadata": {},
   "outputs": [
    {
     "data": {
      "text/html": [
       "<table>\n",
       "<thead><tr><th scope=col>start</th><th scope=col>end</th></tr></thead>\n",
       "<tbody>\n",
       "\t<tr><td>3</td><td>4</td></tr>\n",
       "</tbody>\n",
       "</table>\n"
      ],
      "text/latex": [
       "\\begin{tabular}{ll}\n",
       " start & end\\\\\n",
       "\\hline\n",
       "\t 3 & 4\\\\\n",
       "\\end{tabular}\n"
      ],
      "text/markdown": [
       "\n",
       "| start | end |\n",
       "|---|---|\n",
       "| 3 | 4 |\n",
       "\n"
      ],
      "text/plain": [
       "     start end\n",
       "[1,] 3     4  "
      ]
     },
     "metadata": {},
     "output_type": "display_data"
    }
   ],
   "source": [
    "# 처음 나오는 aa 의 위치\n",
    "str_locate(\"abaab\",\"aa\")\n",
    "## aa가 있는 위치와 끝나는 위치가 표현된다."
   ]
  },
  {
   "cell_type": "code",
   "execution_count": 35,
   "id": "1cf90e78",
   "metadata": {},
   "outputs": [
    {
     "data": {
      "text/html": [
       "<table>\n",
       "<thead><tr><th scope=col>start</th><th scope=col>end</th></tr></thead>\n",
       "<tbody>\n",
       "\t<tr><td> 1</td><td> 1</td></tr>\n",
       "\t<tr><td> 2</td><td> 2</td></tr>\n",
       "\t<tr><td>NA</td><td>NA</td></tr>\n",
       "\t<tr><td>NA</td><td>NA</td></tr>\n",
       "\t<tr><td>NA</td><td>NA</td></tr>\n",
       "</tbody>\n",
       "</table>\n"
      ],
      "text/latex": [
       "\\begin{tabular}{ll}\n",
       " start & end\\\\\n",
       "\\hline\n",
       "\t  1 &  1\\\\\n",
       "\t  2 &  2\\\\\n",
       "\t NA & NA\\\\\n",
       "\t NA & NA\\\\\n",
       "\t NA & NA\\\\\n",
       "\\end{tabular}\n"
      ],
      "text/markdown": [
       "\n",
       "| start | end |\n",
       "|---|---|\n",
       "|  1 |  1 |\n",
       "|  2 |  2 |\n",
       "| NA | NA |\n",
       "| NA | NA |\n",
       "| NA | NA |\n",
       "\n"
      ],
      "text/plain": [
       "     start end\n",
       "[1,]  1     1 \n",
       "[2,]  2     2 \n",
       "[3,] NA    NA \n",
       "[4,] NA    NA \n",
       "[5,] NA    NA "
      ]
     },
     "metadata": {},
     "output_type": "display_data"
    }
   ],
   "source": [
    "# 백터의 각 원소별 위치 확인\n",
    "str_locate(v1,\"a\")"
   ]
  },
  {
   "cell_type": "markdown",
   "id": "c2c2997e",
   "metadata": {},
   "source": [
    "## str_locate_all()\n",
    "\n",
    "- 특정 문자와 매칭하는 문자열의 모든 위치 확인"
   ]
  },
  {
   "cell_type": "code",
   "execution_count": 36,
   "id": "e1e4bc44",
   "metadata": {},
   "outputs": [],
   "source": [
    "v2 <- c(\"a\",\"aba\",\"b\",\"ababab\")"
   ]
  },
  {
   "cell_type": "code",
   "execution_count": 37,
   "id": "f67ad625",
   "metadata": {},
   "outputs": [
    {
     "data": {
      "text/html": [
       "<ol>\n",
       "\t<li><table>\n",
       "<thead><tr><th scope=col>start</th><th scope=col>end</th></tr></thead>\n",
       "<tbody>\n",
       "\t<tr><td>1</td><td>1</td></tr>\n",
       "</tbody>\n",
       "</table>\n",
       "</li>\n",
       "\t<li><table>\n",
       "<thead><tr><th scope=col>start</th><th scope=col>end</th></tr></thead>\n",
       "<tbody>\n",
       "\t<tr><td>1</td><td>1</td></tr>\n",
       "\t<tr><td>3</td><td>3</td></tr>\n",
       "</tbody>\n",
       "</table>\n",
       "</li>\n",
       "\t<li><table>\n",
       "<thead><tr><th scope=col>start</th><th scope=col>end</th></tr></thead>\n",
       "<tbody>\n",
       "</tbody>\n",
       "</table>\n",
       "</li>\n",
       "\t<li><table>\n",
       "<thead><tr><th scope=col>start</th><th scope=col>end</th></tr></thead>\n",
       "<tbody>\n",
       "\t<tr><td>1</td><td>1</td></tr>\n",
       "\t<tr><td>3</td><td>3</td></tr>\n",
       "\t<tr><td>5</td><td>5</td></tr>\n",
       "</tbody>\n",
       "</table>\n",
       "</li>\n",
       "</ol>\n"
      ],
      "text/latex": [
       "\\begin{enumerate}\n",
       "\\item \\begin{tabular}{ll}\n",
       " start & end\\\\\n",
       "\\hline\n",
       "\t 1 & 1\\\\\n",
       "\\end{tabular}\n",
       "\n",
       "\\item \\begin{tabular}{ll}\n",
       " start & end\\\\\n",
       "\\hline\n",
       "\t 1 & 1\\\\\n",
       "\t 3 & 3\\\\\n",
       "\\end{tabular}\n",
       "\n",
       "\\item \\begin{tabular}{ll}\n",
       " start & end\\\\\n",
       "\\hline\n",
       "\\end{tabular}\n",
       "\n",
       "\\item \\begin{tabular}{ll}\n",
       " start & end\\\\\n",
       "\\hline\n",
       "\t 1 & 1\\\\\n",
       "\t 3 & 3\\\\\n",
       "\t 5 & 5\\\\\n",
       "\\end{tabular}\n",
       "\n",
       "\\end{enumerate}\n"
      ],
      "text/markdown": [
       "1. \n",
       "| start | end |\n",
       "|---|---|\n",
       "| 1 | 1 |\n",
       "\n",
       "\n",
       "2. \n",
       "| start | end |\n",
       "|---|---|\n",
       "| 1 | 1 |\n",
       "| 3 | 3 |\n",
       "\n",
       "\n",
       "3. \n",
       "| start | end |\n",
       "|---|---|\n",
       "\n",
       "\n",
       "4. \n",
       "| start | end |\n",
       "|---|---|\n",
       "| 1 | 1 |\n",
       "| 3 | 3 |\n",
       "| 5 | 5 |\n",
       "\n",
       "\n",
       "\n",
       "\n"
      ],
      "text/plain": [
       "[[1]]\n",
       "     start end\n",
       "[1,]     1   1\n",
       "\n",
       "[[2]]\n",
       "     start end\n",
       "[1,]     1   1\n",
       "[2,]     3   3\n",
       "\n",
       "[[3]]\n",
       "     start end\n",
       "\n",
       "[[4]]\n",
       "     start end\n",
       "[1,]     1   1\n",
       "[2,]     3   3\n",
       "[3,]     5   5\n"
      ]
     },
     "metadata": {},
     "output_type": "display_data"
    }
   ],
   "source": [
    "str_locate_all(v2,\"a\")"
   ]
  },
  {
   "cell_type": "code",
   "execution_count": 38,
   "id": "389c41e7",
   "metadata": {},
   "outputs": [
    {
     "data": {
      "text/html": [
       "'list'"
      ],
      "text/latex": [
       "'list'"
      ],
      "text/markdown": [
       "'list'"
      ],
      "text/plain": [
       "[1] \"list\""
      ]
     },
     "metadata": {},
     "output_type": "display_data"
    }
   ],
   "source": [
    "#결과가 리스트 구조\n",
    "class(str_locate_all(v2,\"a\"))"
   ]
  },
  {
   "cell_type": "markdown",
   "id": "55ed8375",
   "metadata": {},
   "source": [
    "## str_replace()\n",
    "\n",
    "- str_replace() :  처음으로 매칭되는 문자의 치환과 삭제\n",
    "\n",
    "- str_replace_all(): 모든 문자의 치환과 삭제"
   ]
  },
  {
   "cell_type": "code",
   "execution_count": 39,
   "id": "dabee58a",
   "metadata": {},
   "outputs": [
    {
     "data": {
      "text/html": [
       "'a*ple'"
      ],
      "text/latex": [
       "'a*ple'"
      ],
      "text/markdown": [
       "'a*ple'"
      ],
      "text/plain": [
       "[1] \"a*ple\""
      ]
     },
     "metadata": {},
     "output_type": "display_data"
    }
   ],
   "source": [
    "# 첫번째 는 넣을 데이터 \n",
    "# 두번째는 찾을 문자\n",
    "# 세번째는 어떤데이터로 치환을 하냐\n",
    "str_replace(\"apple\",\"p\",\"*\")"
   ]
  },
  {
   "cell_type": "code",
   "execution_count": 40,
   "id": "2021c1e0",
   "metadata": {},
   "outputs": [
    {
     "data": {
      "text/html": [
       "'a**ple'"
      ],
      "text/latex": [
       "'a**ple'"
      ],
      "text/markdown": [
       "'a**ple'"
      ],
      "text/plain": [
       "[1] \"a**ple\""
      ]
     },
     "metadata": {},
     "output_type": "display_data"
    }
   ],
   "source": [
    "str_replace(\"apple\",\"p\",\"**\")"
   ]
  },
  {
   "cell_type": "code",
   "execution_count": 41,
   "id": "45ef1061",
   "metadata": {},
   "outputs": [
    {
     "data": {
      "text/html": [
       "'a**le'"
      ],
      "text/latex": [
       "'a**le'"
      ],
      "text/markdown": [
       "'a**le'"
      ],
      "text/plain": [
       "[1] \"a**le\""
      ]
     },
     "metadata": {},
     "output_type": "display_data"
    }
   ],
   "source": [
    "# 모든 p를 찾아서 *로 치환하게 해준다.\n",
    "str_replace_all(\"apple\",\"p\",\"*\")"
   ]
  },
  {
   "cell_type": "code",
   "execution_count": 42,
   "id": "b7d2fef7",
   "metadata": {},
   "outputs": [],
   "source": [
    "v3 <- c(\"1,100\",\"2,300\",\"3,900\")"
   ]
  },
  {
   "cell_type": "code",
   "execution_count": 43,
   "id": "49ac3f4b",
   "metadata": {},
   "outputs": [],
   "source": [
    "v3 <- str_replace(v3,\",\",\"\")"
   ]
  },
  {
   "cell_type": "code",
   "execution_count": 44,
   "id": "3243af9d",
   "metadata": {},
   "outputs": [
    {
     "data": {
      "text/html": [
       "<ol class=list-inline>\n",
       "\t<li>'1100'</li>\n",
       "\t<li>'2300'</li>\n",
       "\t<li>'3900'</li>\n",
       "</ol>\n"
      ],
      "text/latex": [
       "\\begin{enumerate*}\n",
       "\\item '1100'\n",
       "\\item '2300'\n",
       "\\item '3900'\n",
       "\\end{enumerate*}\n"
      ],
      "text/markdown": [
       "1. '1100'\n",
       "2. '2300'\n",
       "3. '3900'\n",
       "\n",
       "\n"
      ],
      "text/plain": [
       "[1] \"1100\" \"2300\" \"3900\""
      ]
     },
     "metadata": {},
     "output_type": "display_data"
    }
   ],
   "source": [
    "v3"
   ]
  },
  {
   "cell_type": "markdown",
   "id": "fe5dc75f",
   "metadata": {},
   "source": [
    "## str_split()\n",
    "\n",
    "- 기호를 기준으로 문자열을 분리"
   ]
  },
  {
   "cell_type": "code",
   "execution_count": 45,
   "id": "31e92506",
   "metadata": {},
   "outputs": [
    {
     "data": {
      "text/html": [
       "'pig/dog/cat'"
      ],
      "text/latex": [
       "'pig/dog/cat'"
      ],
      "text/markdown": [
       "'pig/dog/cat'"
      ],
      "text/plain": [
       "[1] \"pig/dog/cat\""
      ]
     },
     "metadata": {},
     "output_type": "display_data"
    }
   ],
   "source": [
    "animal <- str_c(\"pig\",\"/\",\"dog\",\"/\",\"cat\")\n",
    "animal"
   ]
  },
  {
   "cell_type": "code",
   "execution_count": 46,
   "id": "6729f9ce",
   "metadata": {},
   "outputs": [
    {
     "data": {
      "text/html": [
       "<ol>\n",
       "\t<li><ol class=list-inline>\n",
       "\t<li>'pig'</li>\n",
       "\t<li>'dog'</li>\n",
       "\t<li>'cat'</li>\n",
       "</ol>\n",
       "</li>\n",
       "</ol>\n"
      ],
      "text/latex": [
       "\\begin{enumerate}\n",
       "\\item \\begin{enumerate*}\n",
       "\\item 'pig'\n",
       "\\item 'dog'\n",
       "\\item 'cat'\n",
       "\\end{enumerate*}\n",
       "\n",
       "\\end{enumerate}\n"
      ],
      "text/markdown": [
       "1. 1. 'pig'\n",
       "2. 'dog'\n",
       "3. 'cat'\n",
       "\n",
       "\n",
       "\n",
       "\n",
       "\n"
      ],
      "text/plain": [
       "[[1]]\n",
       "[1] \"pig\" \"dog\" \"cat\"\n"
      ]
     },
     "metadata": {},
     "output_type": "display_data"
    }
   ],
   "source": [
    "#결과물이 리스트타입으로 출력된다.\n",
    "str_split(animal,\"/\")"
   ]
  },
  {
   "cell_type": "markdown",
   "id": "dd17e0af",
   "metadata": {},
   "source": [
    "## str_sub()\n",
    "- 문자열에서 원하는 데이터만 추출, 위치 기반으로"
   ]
  },
  {
   "cell_type": "code",
   "execution_count": 47,
   "id": "e361e395",
   "metadata": {},
   "outputs": [
    {
     "data": {
      "text/html": [
       "'pig'"
      ],
      "text/latex": [
       "'pig'"
      ],
      "text/markdown": [
       "'pig'"
      ],
      "text/plain": [
       "[1] \"pig\""
      ]
     },
     "metadata": {},
     "output_type": "display_data"
    }
   ],
   "source": [
    "str_sub(animal,1,3)"
   ]
  },
  {
   "cell_type": "code",
   "execution_count": 48,
   "id": "0d5551de",
   "metadata": {},
   "outputs": [
    {
     "data": {
      "text/html": [
       "'dog/cat'"
      ],
      "text/latex": [
       "'dog/cat'"
      ],
      "text/markdown": [
       "'dog/cat'"
      ],
      "text/plain": [
       "[1] \"dog/cat\""
      ]
     },
     "metadata": {},
     "output_type": "display_data"
    }
   ],
   "source": [
    "str_sub(animal,5)"
   ]
  },
  {
   "cell_type": "code",
   "execution_count": 49,
   "id": "5babe8d8",
   "metadata": {},
   "outputs": [
    {
     "data": {
      "text/html": [
       "'/cat'"
      ],
      "text/latex": [
       "'/cat'"
      ],
      "text/markdown": [
       "'/cat'"
      ],
      "text/plain": [
       "[1] \"/cat\""
      ]
     },
     "metadata": {},
     "output_type": "display_data"
    }
   ],
   "source": [
    "str_sub(animal,-4)"
   ]
  },
  {
   "cell_type": "markdown",
   "id": "124e21b0",
   "metadata": {},
   "source": [
    "## str_trim()\n",
    "\n",
    "- 공백 제거 용도\n",
    "- 중간 공백은 삭제 되지 않음\n",
    "    - 중간공백 치환은 replace() 사용"
   ]
  },
  {
   "cell_type": "code",
   "execution_count": 50,
   "id": "8d49465b",
   "metadata": {},
   "outputs": [
    {
     "data": {
      "text/html": [
       "'pig dog cat'"
      ],
      "text/latex": [
       "'pig dog cat'"
      ],
      "text/markdown": [
       "'pig dog cat'"
      ],
      "text/plain": [
       "[1] \"pig dog cat\""
      ]
     },
     "metadata": {},
     "output_type": "display_data"
    }
   ],
   "source": [
    "# 문자열데이터를 처음다루게 될때 필요없는 공백을 제거하기 위해서 사용한다.\n",
    "# str_trim은 모든 공백을 제거하는것이아닌 제일처음과 끝 양쪽공백을 제거한다.\n",
    "str_trim(\" pig dog cat \")"
   ]
  },
  {
   "cell_type": "code",
   "execution_count": 51,
   "id": "eafe66f3",
   "metadata": {},
   "outputs": [
    {
     "data": {
      "text/html": [
       "'pig dog cat '"
      ],
      "text/latex": [
       "'pig dog cat '"
      ],
      "text/markdown": [
       "'pig dog cat '"
      ],
      "text/plain": [
       "[1] \"pig dog cat \""
      ]
     },
     "metadata": {},
     "output_type": "display_data"
    }
   ],
   "source": [
    "# 왼쪽 공백 제거\n",
    "str_trim(\" pig dog cat \", side = \"left\")"
   ]
  },
  {
   "cell_type": "code",
   "execution_count": 52,
   "id": "4d5b80d4",
   "metadata": {},
   "outputs": [
    {
     "data": {
      "text/html": [
       "' pig dog cat'"
      ],
      "text/latex": [
       "' pig dog cat'"
      ],
      "text/markdown": [
       "' pig dog cat'"
      ],
      "text/plain": [
       "[1] \" pig dog cat\""
      ]
     },
     "metadata": {},
     "output_type": "display_data"
    }
   ],
   "source": [
    "# 오른쪽 공백 제거\n",
    "str_trim(\" pig dog cat \", side = \"right\")"
   ]
  },
  {
   "cell_type": "code",
   "execution_count": null,
   "id": "84b89f2c",
   "metadata": {},
   "outputs": [],
   "source": []
  }
 ],
 "metadata": {
  "kernelspec": {
   "display_name": "R",
   "language": "R",
   "name": "ir"
  },
  "language_info": {
   "codemirror_mode": "r",
   "file_extension": ".r",
   "mimetype": "text/x-r-source",
   "name": "R",
   "pygments_lexer": "r",
   "version": "3.6.1"
  }
 },
 "nbformat": 4,
 "nbformat_minor": 5
}
