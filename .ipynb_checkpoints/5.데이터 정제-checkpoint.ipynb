{
 "cells": [
  {
   "cell_type": "markdown",
   "id": "00804c87",
   "metadata": {},
   "source": [
    "## 결측치 찾기\n",
    "\n",
    "- 결측치의 의의\n",
    "    - 누락된값, 비어있는 값\n",
    "    - 결측치가 있으면 함수가 적용되지 않거나 분석 결과가 왜곡되는 결과가발생\n",
    "    - 결측치를 제거 한 후 분석 실시\n",
    "    - 표기법 : 대분자 NA() \n",
    "        -NA = NotAvailable"
   ]
  },
  {
   "cell_type": "code",
   "execution_count": 2,
   "id": "b65f511c",
   "metadata": {},
   "outputs": [
    {
     "data": {
      "text/html": [
       "<table>\n",
       "<thead><tr><th scope=col>sex</th><th scope=col>score</th></tr></thead>\n",
       "<tbody>\n",
       "\t<tr><td>M </td><td> 5</td></tr>\n",
       "\t<tr><td>F </td><td> 4</td></tr>\n",
       "\t<tr><td>NA</td><td> 3</td></tr>\n",
       "\t<tr><td>M </td><td> 4</td></tr>\n",
       "\t<tr><td>F </td><td>NA</td></tr>\n",
       "</tbody>\n",
       "</table>\n"
      ],
      "text/latex": [
       "\\begin{tabular}{r|ll}\n",
       " sex & score\\\\\n",
       "\\hline\n",
       "\t M  &  5\\\\\n",
       "\t F  &  4\\\\\n",
       "\t NA &  3\\\\\n",
       "\t M  &  4\\\\\n",
       "\t F  & NA\\\\\n",
       "\\end{tabular}\n"
      ],
      "text/markdown": [
       "\n",
       "| sex | score |\n",
       "|---|---|\n",
       "| M  |  5 |\n",
       "| F  |  4 |\n",
       "| NA |  3 |\n",
       "| M  |  4 |\n",
       "| F  | NA |\n",
       "\n"
      ],
      "text/plain": [
       "  sex score\n",
       "1 M    5   \n",
       "2 F    4   \n",
       "3 NA   3   \n",
       "4 M    4   \n",
       "5 F   NA   "
      ]
     },
     "metadata": {},
     "output_type": "display_data"
    }
   ],
   "source": [
    "#결측치가 있는 데이터 생성\n",
    "df <- data.frame(\n",
    "    sex= c(\"M\",\"F\", NA, \"M\",\"F\"),\n",
    "    score = c(5,4,3,4,NA))\n",
    "df"
   ]
  },
  {
   "cell_type": "code",
   "execution_count": 3,
   "id": "adeb347e",
   "metadata": {},
   "outputs": [
    {
     "data": {
      "text/html": [
       "<table>\n",
       "<thead><tr><th scope=col>sex</th><th scope=col>score</th></tr></thead>\n",
       "<tbody>\n",
       "\t<tr><td>FALSE</td><td>FALSE</td></tr>\n",
       "\t<tr><td>FALSE</td><td>FALSE</td></tr>\n",
       "\t<tr><td> TRUE</td><td>FALSE</td></tr>\n",
       "\t<tr><td>FALSE</td><td>FALSE</td></tr>\n",
       "\t<tr><td>FALSE</td><td> TRUE</td></tr>\n",
       "</tbody>\n",
       "</table>\n"
      ],
      "text/latex": [
       "\\begin{tabular}{ll}\n",
       " sex & score\\\\\n",
       "\\hline\n",
       "\t FALSE & FALSE\\\\\n",
       "\t FALSE & FALSE\\\\\n",
       "\t  TRUE & FALSE\\\\\n",
       "\t FALSE & FALSE\\\\\n",
       "\t FALSE &  TRUE\\\\\n",
       "\\end{tabular}\n"
      ],
      "text/markdown": [
       "\n",
       "| sex | score |\n",
       "|---|---|\n",
       "| FALSE | FALSE |\n",
       "| FALSE | FALSE |\n",
       "|  TRUE | FALSE |\n",
       "| FALSE | FALSE |\n",
       "| FALSE |  TRUE |\n",
       "\n"
      ],
      "text/plain": [
       "     sex   score\n",
       "[1,] FALSE FALSE\n",
       "[2,] FALSE FALSE\n",
       "[3,]  TRUE FALSE\n",
       "[4,] FALSE FALSE\n",
       "[5,] FALSE  TRUE"
      ]
     },
     "metadata": {},
     "output_type": "display_data"
    }
   ],
   "source": [
    "#결측치 확인\n",
    "is.na(df)\n"
   ]
  },
  {
   "cell_type": "code",
   "execution_count": 4,
   "id": "0532c266",
   "metadata": {},
   "outputs": [
    {
     "data": {
      "text/plain": [
       "\n",
       "FALSE  TRUE \n",
       "    8     2 "
      ]
     },
     "metadata": {},
     "output_type": "display_data"
    }
   ],
   "source": [
    "#결측치 빈도 출력\n",
    "table(is.na(df))"
   ]
  },
  {
   "cell_type": "code",
   "execution_count": 5,
   "id": "dd705164",
   "metadata": {},
   "outputs": [
    {
     "data": {
      "text/plain": [
       "\n",
       "FALSE  TRUE \n",
       "    4     1 "
      ]
     },
     "metadata": {},
     "output_type": "display_data"
    },
    {
     "data": {
      "text/plain": [
       "\n",
       "FALSE  TRUE \n",
       "    4     1 "
      ]
     },
     "metadata": {},
     "output_type": "display_data"
    }
   ],
   "source": [
    "#각 변수별로 결측치 확인\n",
    "table(is.na(df$sex))\n",
    "table(is.na(df$score))"
   ]
  },
  {
   "cell_type": "code",
   "execution_count": 6,
   "id": "010adcce",
   "metadata": {},
   "outputs": [
    {
     "data": {
      "text/html": [
       "&lt;NA&gt;"
      ],
      "text/latex": [
       "<NA>"
      ],
      "text/markdown": [
       "&lt;NA&gt;"
      ],
      "text/plain": [
       "[1] NA"
      ]
     },
     "metadata": {},
     "output_type": "display_data"
    }
   ],
   "source": [
    "#결측치가 포함된 상태로 분석\n",
    "mean(df$score)"
   ]
  },
  {
   "cell_type": "markdown",
   "id": "73d18dde",
   "metadata": {},
   "source": [
    "## 결측치 제거하기"
   ]
  },
  {
   "cell_type": "code",
   "execution_count": 4,
   "id": "41b0ceeb",
   "metadata": {},
   "outputs": [
    {
     "name": "stderr",
     "output_type": "stream",
     "text": [
      "\n",
      "Attaching package: 'dplyr'\n",
      "\n",
      "The following objects are masked from 'package:stats':\n",
      "\n",
      "    filter, lag\n",
      "\n",
      "The following objects are masked from 'package:base':\n",
      "\n",
      "    intersect, setdiff, setequal, union\n",
      "\n"
     ]
    }
   ],
   "source": [
    "library(dplyr)"
   ]
  },
  {
   "cell_type": "code",
   "execution_count": 5,
   "id": "5832e2b6",
   "metadata": {},
   "outputs": [
    {
     "data": {
      "text/html": [
       "<table>\n",
       "<thead><tr><th scope=col>sex</th><th scope=col>score</th></tr></thead>\n",
       "<tbody>\n",
       "\t<tr><td>F </td><td>NA</td></tr>\n",
       "</tbody>\n",
       "</table>\n"
      ],
      "text/latex": [
       "\\begin{tabular}{r|ll}\n",
       " sex & score\\\\\n",
       "\\hline\n",
       "\t F  & NA\\\\\n",
       "\\end{tabular}\n"
      ],
      "text/markdown": [
       "\n",
       "| sex | score |\n",
       "|---|---|\n",
       "| F  | NA |\n",
       "\n"
      ],
      "text/plain": [
       "  sex score\n",
       "1 F   NA   "
      ]
     },
     "metadata": {},
     "output_type": "display_data"
    }
   ],
   "source": [
    "#score가 NA인 데이터만 출력\n",
    "df %>%\n",
    "    filter(is.na(score))"
   ]
  },
  {
   "cell_type": "code",
   "execution_count": 7,
   "id": "aeb12c81",
   "metadata": {},
   "outputs": [
    {
     "data": {
      "text/html": [
       "<table>\n",
       "<thead><tr><th scope=col>sex</th><th scope=col>score</th></tr></thead>\n",
       "<tbody>\n",
       "\t<tr><td>M </td><td>5 </td></tr>\n",
       "\t<tr><td>F </td><td>4 </td></tr>\n",
       "\t<tr><td>NA</td><td>3 </td></tr>\n",
       "\t<tr><td>M </td><td>4 </td></tr>\n",
       "</tbody>\n",
       "</table>\n"
      ],
      "text/latex": [
       "\\begin{tabular}{r|ll}\n",
       " sex & score\\\\\n",
       "\\hline\n",
       "\t M  & 5 \\\\\n",
       "\t F  & 4 \\\\\n",
       "\t NA & 3 \\\\\n",
       "\t M  & 4 \\\\\n",
       "\\end{tabular}\n"
      ],
      "text/markdown": [
       "\n",
       "| sex | score |\n",
       "|---|---|\n",
       "| M  | 5  |\n",
       "| F  | 4  |\n",
       "| NA | 3  |\n",
       "| M  | 4  |\n",
       "\n"
      ],
      "text/plain": [
       "  sex score\n",
       "1 M   5    \n",
       "2 F   4    \n",
       "3 NA  3    \n",
       "4 M   4    "
      ]
     },
     "metadata": {},
     "output_type": "display_data"
    }
   ],
   "source": [
    "#score가 결측치가 아닌 데이터만 출력\n",
    "# !: qnwjd(not)\n",
    "df %>%\n",
    "    filter(!is.na(score))"
   ]
  },
  {
   "cell_type": "code",
   "execution_count": 9,
   "id": "270dbe1d",
   "metadata": {},
   "outputs": [
    {
     "data": {
      "text/html": [
       "<table>\n",
       "<thead><tr><th scope=col>sex</th><th scope=col>score</th></tr></thead>\n",
       "<tbody>\n",
       "\t<tr><td>M</td><td>5</td></tr>\n",
       "\t<tr><td>F</td><td>4</td></tr>\n",
       "\t<tr><td>M</td><td>4</td></tr>\n",
       "</tbody>\n",
       "</table>\n"
      ],
      "text/latex": [
       "\\begin{tabular}{r|ll}\n",
       " sex & score\\\\\n",
       "\\hline\n",
       "\t M & 5\\\\\n",
       "\t F & 4\\\\\n",
       "\t M & 4\\\\\n",
       "\\end{tabular}\n"
      ],
      "text/markdown": [
       "\n",
       "| sex | score |\n",
       "|---|---|\n",
       "| M | 5 |\n",
       "| F | 4 |\n",
       "| M | 4 |\n",
       "\n"
      ],
      "text/plain": [
       "  sex score\n",
       "1 M   5    \n",
       "2 F   4    \n",
       "3 M   4    "
      ]
     },
     "metadata": {},
     "output_type": "display_data"
    }
   ],
   "source": [
    "# 여러 변수에 동시에 결측치가 없는 데이터 추츨하기\n",
    "# score, sex 결측치 제외\n",
    "df_nomiss <- df %>%\n",
    "    filter(!is.na(score) & !is.na(sex))\n",
    "\n",
    "df_nomiss"
   ]
  },
  {
   "cell_type": "markdown",
   "id": "87d5ef90",
   "metadata": {},
   "source": [
    "## 함수의 결측치 제외기능"
   ]
  },
  {
   "cell_type": "code",
   "execution_count": 10,
   "id": "a33db443",
   "metadata": {},
   "outputs": [
    {
     "data": {
      "text/html": [
       "4"
      ],
      "text/latex": [
       "4"
      ],
      "text/markdown": [
       "4"
      ],
      "text/plain": [
       "[1] 4"
      ]
     },
     "metadata": {},
     "output_type": "display_data"
    }
   ],
   "source": [
    "# 결측치를 제외한 평균\n",
    "mean(df$score, na.rm = T)"
   ]
  },
  {
   "cell_type": "code",
   "execution_count": 12,
   "id": "5297ea61",
   "metadata": {},
   "outputs": [
    {
     "data": {
      "text/html": [
       "16"
      ],
      "text/latex": [
       "16"
      ],
      "text/markdown": [
       "16"
      ],
      "text/plain": [
       "[1] 16"
      ]
     },
     "metadata": {},
     "output_type": "display_data"
    }
   ],
   "source": [
    "sum(df$score, na.rm = T)"
   ]
  },
  {
   "cell_type": "code",
   "execution_count": 14,
   "id": "84b915f0",
   "metadata": {},
   "outputs": [
    {
     "data": {
      "text/html": [
       "<table>\n",
       "<thead><tr><th scope=col>id</th><th scope=col>class</th><th scope=col>math</th><th scope=col>english</th><th scope=col>science</th></tr></thead>\n",
       "<tbody>\n",
       "\t<tr><td>1 </td><td>1 </td><td>50</td><td>98</td><td>50</td></tr>\n",
       "\t<tr><td>2 </td><td>1 </td><td>60</td><td>97</td><td>60</td></tr>\n",
       "\t<tr><td>3 </td><td>1 </td><td>NA</td><td>86</td><td>78</td></tr>\n",
       "\t<tr><td>4 </td><td>1 </td><td>30</td><td>98</td><td>58</td></tr>\n",
       "\t<tr><td>5 </td><td>2 </td><td>25</td><td>80</td><td>65</td></tr>\n",
       "\t<tr><td>6 </td><td>2 </td><td>50</td><td>89</td><td>98</td></tr>\n",
       "</tbody>\n",
       "</table>\n"
      ],
      "text/latex": [
       "\\begin{tabular}{r|lllll}\n",
       " id & class & math & english & science\\\\\n",
       "\\hline\n",
       "\t 1  & 1  & 50 & 98 & 50\\\\\n",
       "\t 2  & 1  & 60 & 97 & 60\\\\\n",
       "\t 3  & 1  & NA & 86 & 78\\\\\n",
       "\t 4  & 1  & 30 & 98 & 58\\\\\n",
       "\t 5  & 2  & 25 & 80 & 65\\\\\n",
       "\t 6  & 2  & 50 & 89 & 98\\\\\n",
       "\\end{tabular}\n"
      ],
      "text/markdown": [
       "\n",
       "| id | class | math | english | science |\n",
       "|---|---|---|---|---|\n",
       "| 1  | 1  | 50 | 98 | 50 |\n",
       "| 2  | 1  | 60 | 97 | 60 |\n",
       "| 3  | 1  | NA | 86 | 78 |\n",
       "| 4  | 1  | 30 | 98 | 58 |\n",
       "| 5  | 2  | 25 | 80 | 65 |\n",
       "| 6  | 2  | 50 | 89 | 98 |\n",
       "\n"
      ],
      "text/plain": [
       "  id class math english science\n",
       "1 1  1     50   98      50     \n",
       "2 2  1     60   97      60     \n",
       "3 3  1     NA   86      78     \n",
       "4 4  1     30   98      58     \n",
       "5 5  2     25   80      65     \n",
       "6 6  2     50   89      98     "
      ]
     },
     "metadata": {},
     "output_type": "display_data"
    }
   ],
   "source": [
    "exam <- read.csv(\"../data/csv_exam.csv\")\n",
    "exam[c(3,8,15), \"math\"] <- NA\n",
    "head(exam)"
   ]
  },
  {
   "cell_type": "code",
   "execution_count": 15,
   "id": "46da39c0",
   "metadata": {},
   "outputs": [
    {
     "data": {
      "text/html": [
       "<table>\n",
       "<thead><tr><th scope=col>mean_math</th></tr></thead>\n",
       "<tbody>\n",
       "\t<tr><td>NA</td></tr>\n",
       "</tbody>\n",
       "</table>\n"
      ],
      "text/latex": [
       "\\begin{tabular}{r|l}\n",
       " mean\\_math\\\\\n",
       "\\hline\n",
       "\t NA\\\\\n",
       "\\end{tabular}\n"
      ],
      "text/markdown": [
       "\n",
       "| mean_math |\n",
       "|---|\n",
       "| NA |\n",
       "\n"
      ],
      "text/plain": [
       "  mean_math\n",
       "1 NA       "
      ]
     },
     "metadata": {},
     "output_type": "display_data"
    }
   ],
   "source": [
    "# 평균\n",
    "exam %>%\n",
    "    summarise(mean_math = mean(math))"
   ]
  },
  {
   "cell_type": "code",
   "execution_count": 16,
   "id": "ca4a7f84",
   "metadata": {},
   "outputs": [
    {
     "data": {
      "text/html": [
       "<table>\n",
       "<thead><tr><th scope=col>mean_math</th></tr></thead>\n",
       "<tbody>\n",
       "\t<tr><td>55.23529</td></tr>\n",
       "</tbody>\n",
       "</table>\n"
      ],
      "text/latex": [
       "\\begin{tabular}{r|l}\n",
       " mean\\_math\\\\\n",
       "\\hline\n",
       "\t 55.23529\\\\\n",
       "\\end{tabular}\n"
      ],
      "text/markdown": [
       "\n",
       "| mean_math |\n",
       "|---|\n",
       "| 55.23529 |\n",
       "\n"
      ],
      "text/plain": [
       "  mean_math\n",
       "1 55.23529 "
      ]
     },
     "metadata": {},
     "output_type": "display_data"
    }
   ],
   "source": [
    "# 결측치 제외하고 계산한 평균\n",
    "\n",
    "exam %>%\n",
    "    summarise(mean_math = mean(math, na.rm = T))"
   ]
  },
  {
   "cell_type": "markdown",
   "id": "350a2627",
   "metadata": {},
   "source": [
    "## 결측치 대체하기\n",
    "- 데이터가 적고, 결측치가 많은경우, 모든 결측치 데이터를 제외하면 데이터손실이 너무 크다\n",
    "- 대안 : 다른 값 채워 넣기\n",
    "### 결측치 대체법\n",
    "- 대표값(평균,최빈값 등) 으로 일괄 대체\n",
    "- 통계분석 기법 적용, 예측값을 추정해서 대체"
   ]
  },
  {
   "cell_type": "code",
   "execution_count": 18,
   "id": "a0c68b18",
   "metadata": {},
   "outputs": [
    {
     "data": {
      "text/html": [
       "55.2352941176471"
      ],
      "text/latex": [
       "55.2352941176471"
      ],
      "text/markdown": [
       "55.2352941176471"
      ],
      "text/plain": [
       "[1] 55.23529"
      ]
     },
     "metadata": {},
     "output_type": "display_data"
    }
   ],
   "source": [
    "# 평균값으로 대체하기\n",
    "# 결측치 제외하고 math 평균 산출\n",
    "mean(exam$math, na.rm=T)"
   ]
  },
  {
   "cell_type": "code",
   "execution_count": 20,
   "id": "fd4eaea2",
   "metadata": {},
   "outputs": [
    {
     "data": {
      "text/plain": [
       "\n",
       "FALSE \n",
       "   20 "
      ]
     },
     "metadata": {},
     "output_type": "display_data"
    }
   ],
   "source": [
    "# math 가 NA면 평균으로 대체\n",
    "exam$math <- ifelse(is.na(exam$math), 55, exam$math)\n",
    "table(is.na(exam$math))"
   ]
  },
  {
   "cell_type": "code",
   "execution_count": 21,
   "id": "47d20137",
   "metadata": {},
   "outputs": [
    {
     "data": {
      "text/html": [
       "<table>\n",
       "<thead><tr><th scope=col>id</th><th scope=col>class</th><th scope=col>math</th><th scope=col>english</th><th scope=col>science</th></tr></thead>\n",
       "<tbody>\n",
       "\t<tr><td>1 </td><td>1 </td><td>50</td><td>98</td><td>50</td></tr>\n",
       "\t<tr><td>2 </td><td>1 </td><td>60</td><td>97</td><td>60</td></tr>\n",
       "\t<tr><td>3 </td><td>1 </td><td>55</td><td>86</td><td>78</td></tr>\n",
       "\t<tr><td>4 </td><td>1 </td><td>30</td><td>98</td><td>58</td></tr>\n",
       "\t<tr><td>5 </td><td>2 </td><td>25</td><td>80</td><td>65</td></tr>\n",
       "\t<tr><td>6 </td><td>2 </td><td>50</td><td>89</td><td>98</td></tr>\n",
       "</tbody>\n",
       "</table>\n"
      ],
      "text/latex": [
       "\\begin{tabular}{r|lllll}\n",
       " id & class & math & english & science\\\\\n",
       "\\hline\n",
       "\t 1  & 1  & 50 & 98 & 50\\\\\n",
       "\t 2  & 1  & 60 & 97 & 60\\\\\n",
       "\t 3  & 1  & 55 & 86 & 78\\\\\n",
       "\t 4  & 1  & 30 & 98 & 58\\\\\n",
       "\t 5  & 2  & 25 & 80 & 65\\\\\n",
       "\t 6  & 2  & 50 & 89 & 98\\\\\n",
       "\\end{tabular}\n"
      ],
      "text/markdown": [
       "\n",
       "| id | class | math | english | science |\n",
       "|---|---|---|---|---|\n",
       "| 1  | 1  | 50 | 98 | 50 |\n",
       "| 2  | 1  | 60 | 97 | 60 |\n",
       "| 3  | 1  | 55 | 86 | 78 |\n",
       "| 4  | 1  | 30 | 98 | 58 |\n",
       "| 5  | 2  | 25 | 80 | 65 |\n",
       "| 6  | 2  | 50 | 89 | 98 |\n",
       "\n"
      ],
      "text/plain": [
       "  id class math english science\n",
       "1 1  1     50   98      50     \n",
       "2 2  1     60   97      60     \n",
       "3 3  1     55   86      78     \n",
       "4 4  1     30   98      58     \n",
       "5 5  2     25   80      65     \n",
       "6 6  2     50   89      98     "
      ]
     },
     "metadata": {},
     "output_type": "display_data"
    }
   ],
   "source": [
    "head(exam)"
   ]
  },
  {
   "cell_type": "markdown",
   "id": "8705c062",
   "metadata": {},
   "source": [
    "## mpg데이터를 이용한 실습"
   ]
  },
  {
   "cell_type": "code",
   "execution_count": 22,
   "id": "4a4d6b95",
   "metadata": {},
   "outputs": [
    {
     "name": "stderr",
     "output_type": "stream",
     "text": [
      "Registered S3 methods overwritten by 'ggplot2':\n",
      "  method         from \n",
      "  [.quosures     rlang\n",
      "  c.quosures     rlang\n",
      "  print.quosures rlang\n"
     ]
    },
    {
     "data": {
      "text/plain": [
       "\n",
       "FALSE  TRUE \n",
       "  229     5 "
      ]
     },
     "metadata": {},
     "output_type": "display_data"
    }
   ],
   "source": [
    "mpg <- as.data.frame(ggplot2::mpg)\n",
    "mpg[c(65,124,131,153,212), \"hwy\"] <- NA\n",
    "table (is.na(mpg$hwy))"
   ]
  },
  {
   "cell_type": "code",
   "execution_count": 25,
   "id": "5eefcb1d",
   "metadata": {},
   "outputs": [
    {
     "data": {
      "text/html": [
       "<table>\n",
       "<thead><tr><th scope=col>drv</th><th scope=col>mean_hwy</th></tr></thead>\n",
       "<tbody>\n",
       "\t<tr><td>4       </td><td>19.24242</td></tr>\n",
       "\t<tr><td>f       </td><td>28.20000</td></tr>\n",
       "\t<tr><td>r       </td><td>21.00000</td></tr>\n",
       "</tbody>\n",
       "</table>\n"
      ],
      "text/latex": [
       "\\begin{tabular}{r|ll}\n",
       " drv & mean\\_hwy\\\\\n",
       "\\hline\n",
       "\t 4        & 19.24242\\\\\n",
       "\t f        & 28.20000\\\\\n",
       "\t r        & 21.00000\\\\\n",
       "\\end{tabular}\n"
      ],
      "text/markdown": [
       "\n",
       "| drv | mean_hwy |\n",
       "|---|---|\n",
       "| 4        | 19.24242 |\n",
       "| f        | 28.20000 |\n",
       "| r        | 21.00000 |\n",
       "\n"
      ],
      "text/plain": [
       "  drv mean_hwy\n",
       "1 4   19.24242\n",
       "2 f   28.20000\n",
       "3 r   21.00000"
      ]
     },
     "metadata": {},
     "output_type": "display_data"
    }
   ],
   "source": [
    "# drv(구동방식) 별 hwy 평균을 구하기\n",
    "mpg %>%\n",
    "    filter(!is.na(hwy))%>%\n",
    "    group_by(drv)%>%\n",
    "    summarise(mean_hwy = mean(hwy))"
   ]
  },
  {
   "cell_type": "markdown",
   "id": "a986dc8c",
   "metadata": {},
   "source": [
    "# 이상치 정제\n",
    "- 이상치(Outlier)의 의의\n",
    "    - 정상 범주에서 크게 벗어난 값\n",
    "    - 데이터 수집 과정에서 오류 또는 극단적인 값\n",
    "        - 이상치를 포함하고 분석했을대 결과가 왜곡될수 있다\n",
    "\n",
    "- 이상치 종류\n",
    "    - 존재할 수 없는 값\n",
    "        - 예 : 성별 변수에 3 (남여엔 남,여 이렇게 구분하는 경우가 많기때문)\n",
    "        - 해결 방법 :결측 처리\n",
    "    - 극단적인값\n",
    "        - 예 : 몸무게 변수에 200\n",
    "        - 정상범위 기준 정해서 결측 처리\n",
    "        "
   ]
  },
  {
   "cell_type": "code",
   "execution_count": 28,
   "id": "3a6a4311",
   "metadata": {},
   "outputs": [
    {
     "data": {
      "text/html": [
       "<table>\n",
       "<thead><tr><th scope=col>sex</th><th scope=col>score</th></tr></thead>\n",
       "<tbody>\n",
       "\t<tr><td>1</td><td>5</td></tr>\n",
       "\t<tr><td>2</td><td>3</td></tr>\n",
       "\t<tr><td>1</td><td>3</td></tr>\n",
       "\t<tr><td>3</td><td>5</td></tr>\n",
       "\t<tr><td>2</td><td>6</td></tr>\n",
       "\t<tr><td>1</td><td>6</td></tr>\n",
       "</tbody>\n",
       "</table>\n"
      ],
      "text/latex": [
       "\\begin{tabular}{r|ll}\n",
       " sex & score\\\\\n",
       "\\hline\n",
       "\t 1 & 5\\\\\n",
       "\t 2 & 3\\\\\n",
       "\t 1 & 3\\\\\n",
       "\t 3 & 5\\\\\n",
       "\t 2 & 6\\\\\n",
       "\t 1 & 6\\\\\n",
       "\\end{tabular}\n"
      ],
      "text/markdown": [
       "\n",
       "| sex | score |\n",
       "|---|---|\n",
       "| 1 | 5 |\n",
       "| 2 | 3 |\n",
       "| 1 | 3 |\n",
       "| 3 | 5 |\n",
       "| 2 | 6 |\n",
       "| 1 | 6 |\n",
       "\n"
      ],
      "text/plain": [
       "  sex score\n",
       "1 1   5    \n",
       "2 2   3    \n",
       "3 1   3    \n",
       "4 3   5    \n",
       "5 2   6    \n",
       "6 1   6    "
      ]
     },
     "metadata": {},
     "output_type": "display_data"
    }
   ],
   "source": [
    "# 존재할 수 없는 값 제거\n",
    "df_outlier <- data.frame(\n",
    "    sex = c(1,2,1,3,2,1),\n",
    "    score = c(5,3,3,5,6,6))\n",
    "df_outlier\n",
    "\n",
    "#성별에 3, score에 6이 이상치다"
   ]
  },
  {
   "cell_type": "code",
   "execution_count": 29,
   "id": "6fddd9da",
   "metadata": {},
   "outputs": [
    {
     "data": {
      "text/plain": [
       "\n",
       "1 2 3 \n",
       "3 2 1 "
      ]
     },
     "metadata": {},
     "output_type": "display_data"
    }
   ],
   "source": [
    "# 이상치 확인하기\n",
    "table(df_outlier$sex)"
   ]
  },
  {
   "cell_type": "code",
   "execution_count": 30,
   "id": "6787d82e",
   "metadata": {},
   "outputs": [
    {
     "data": {
      "text/plain": [
       "\n",
       "3 5 6 \n",
       "2 2 2 "
      ]
     },
     "metadata": {},
     "output_type": "display_data"
    }
   ],
   "source": [
    "table(df_outlier$score)"
   ]
  },
  {
   "cell_type": "code",
   "execution_count": 31,
   "id": "2d591ec8",
   "metadata": {},
   "outputs": [
    {
     "data": {
      "text/html": [
       "<table>\n",
       "<thead><tr><th scope=col>sex</th><th scope=col>score</th></tr></thead>\n",
       "<tbody>\n",
       "\t<tr><td> 1</td><td> 5</td></tr>\n",
       "\t<tr><td> 2</td><td> 3</td></tr>\n",
       "\t<tr><td> 1</td><td> 3</td></tr>\n",
       "\t<tr><td>NA</td><td> 5</td></tr>\n",
       "\t<tr><td> 2</td><td>NA</td></tr>\n",
       "\t<tr><td> 1</td><td>NA</td></tr>\n",
       "</tbody>\n",
       "</table>\n"
      ],
      "text/latex": [
       "\\begin{tabular}{r|ll}\n",
       " sex & score\\\\\n",
       "\\hline\n",
       "\t  1 &  5\\\\\n",
       "\t  2 &  3\\\\\n",
       "\t  1 &  3\\\\\n",
       "\t NA &  5\\\\\n",
       "\t  2 & NA\\\\\n",
       "\t  1 & NA\\\\\n",
       "\\end{tabular}\n"
      ],
      "text/markdown": [
       "\n",
       "| sex | score |\n",
       "|---|---|\n",
       "|  1 |  5 |\n",
       "|  2 |  3 |\n",
       "|  1 |  3 |\n",
       "| NA |  5 |\n",
       "|  2 | NA |\n",
       "|  1 | NA |\n",
       "\n"
      ],
      "text/plain": [
       "  sex score\n",
       "1  1   5   \n",
       "2  2   3   \n",
       "3  1   3   \n",
       "4 NA   5   \n",
       "5  2  NA   \n",
       "6  1  NA   "
      ]
     },
     "metadata": {},
     "output_type": "display_data"
    }
   ],
   "source": [
    "# sex 가 3 이면 NA 할당\n",
    "# 이상치는 보통 결측치로 만든후 처리를한다.\n",
    "df_outlier$sex <- ifelse(df_outlier$sex ==3 , NA, df_outlier$sex)\n",
    "\n",
    "#score가 1~5가 아니면 NA 할당\n",
    "df_outlier$score <- ifelse(df_outlier$score > 5, NA, df_outlier$score)\n",
    "\n",
    "df_outlier"
   ]
  },
  {
   "cell_type": "code",
   "execution_count": 32,
   "id": "4bc5691a",
   "metadata": {},
   "outputs": [
    {
     "data": {
      "text/html": [
       "<table>\n",
       "<thead><tr><th scope=col>sex</th><th scope=col>mean_score</th></tr></thead>\n",
       "<tbody>\n",
       "\t<tr><td>1 </td><td>NA</td></tr>\n",
       "\t<tr><td>2 </td><td>NA</td></tr>\n",
       "</tbody>\n",
       "</table>\n"
      ],
      "text/latex": [
       "\\begin{tabular}{r|ll}\n",
       " sex & mean\\_score\\\\\n",
       "\\hline\n",
       "\t 1  & NA\\\\\n",
       "\t 2  & NA\\\\\n",
       "\\end{tabular}\n"
      ],
      "text/markdown": [
       "\n",
       "| sex | mean_score |\n",
       "|---|---|\n",
       "| 1  | NA |\n",
       "| 2  | NA |\n",
       "\n"
      ],
      "text/plain": [
       "  sex mean_score\n",
       "1 1   NA        \n",
       "2 2   NA        "
      ]
     },
     "metadata": {},
     "output_type": "display_data"
    }
   ],
   "source": [
    "df_outlier %>%\n",
    "    filter(!is.na(sex) & is.na(score)) %>%\n",
    "    group_by(sex) %>%\n",
    "    summarise(mean_score = mean(score))\n",
    "    "
   ]
  },
  {
   "cell_type": "markdown",
   "id": "631f9c1f",
   "metadata": {},
   "source": [
    " - 극단치\n",
    "     - 정상범위의 기준을 정해서 이를 벗어나면 결측처리\n",
    " - 판단기준\n",
    "     - 논리적 판단 : 성인 몸무게 40kg ~150kg 을 벗어나면 극단치\n",
    "     \n",
    "     - 통계적 판단 : 상하위 0.3%또는 상자그림에서 1.5IQR을 벗어나면 극단치\n",
    "     \n",
    " <img src = \"./img/boxplot.png\">\n",
    " \n",
    " \n",
    "  - Q1에서 1.5IQR 지점보다 작지만 가장 가까운 첫 데이터가 Outliers가 되는것이다.\n",
    "  - Q3도 마찬가지로 1.5.IQR보다 큰값중 가장 가까운 첫 데이터가 Outliers(이상치)가 되는것이다."
   ]
  },
  {
   "cell_type": "code",
   "execution_count": 33,
   "id": "334df7b9",
   "metadata": {},
   "outputs": [
    {
     "data": {
      "text/html": [
       "<ol class=list-inline>\n",
       "\t<li>12</li>\n",
       "\t<li>18</li>\n",
       "\t<li>25</li>\n",
       "\t<li>27</li>\n",
       "\t<li>37</li>\n",
       "</ol>\n"
      ],
      "text/latex": [
       "\\begin{enumerate*}\n",
       "\\item 12\n",
       "\\item 18\n",
       "\\item 25\n",
       "\\item 27\n",
       "\\item 37\n",
       "\\end{enumerate*}\n"
      ],
      "text/markdown": [
       "1. 12\n",
       "2. 18\n",
       "3. 25\n",
       "4. 27\n",
       "5. 37\n",
       "\n",
       "\n"
      ],
      "text/plain": [
       "     [,1]\n",
       "[1,]   12\n",
       "[2,]   18\n",
       "[3,]   25\n",
       "[4,]   27\n",
       "[5,]   37\n",
       "attr(,\"class\")\n",
       "        1 \n",
       "\"integer\" "
      ]
     },
     "metadata": {},
     "output_type": "display_data"
    },
    {
     "data": {
      "image/png": "[encoded data removed]",
      "text/plain": [
       "plot without title"
      ]
     },
     "metadata": {},
     "output_type": "display_data"
    }
   ],
   "source": [
    "boxplot(mpg$hwy)$stats"
   ]
  },
  {
   "cell_type": "code",
   "execution_count": 35,
   "id": "87a3544b",
   "metadata": {},
   "outputs": [
    {
     "data": {
      "text/plain": [
       "\n",
       "FALSE  TRUE \n",
       "  226     8 "
      ]
     },
     "metadata": {},
     "output_type": "display_data"
    }
   ],
   "source": [
    "# 12~37 벗어나면 NA를 할당\n",
    "mpg$hwy <- ifelse(mpg$hwy < 12 | mpg$hwy > 37, NA, mpg$hwy)\n",
    "table(is.na(mpg$hwy))"
   ]
  },
  {
   "cell_type": "code",
   "execution_count": 37,
   "id": "2f9649a0",
   "metadata": {},
   "outputs": [
    {
     "data": {
      "text/html": [
       "<table>\n",
       "<thead><tr><th scope=col>drv</th><th scope=col>mean_hwy</th></tr></thead>\n",
       "<tbody>\n",
       "\t<tr><td>4       </td><td>19.24242</td></tr>\n",
       "\t<tr><td>f       </td><td>27.76471</td></tr>\n",
       "\t<tr><td>r       </td><td>21.00000</td></tr>\n",
       "</tbody>\n",
       "</table>\n"
      ],
      "text/latex": [
       "\\begin{tabular}{r|ll}\n",
       " drv & mean\\_hwy\\\\\n",
       "\\hline\n",
       "\t 4        & 19.24242\\\\\n",
       "\t f        & 27.76471\\\\\n",
       "\t r        & 21.00000\\\\\n",
       "\\end{tabular}\n"
      ],
      "text/markdown": [
       "\n",
       "| drv | mean_hwy |\n",
       "|---|---|\n",
       "| 4        | 19.24242 |\n",
       "| f        | 27.76471 |\n",
       "| r        | 21.00000 |\n",
       "\n"
      ],
      "text/plain": [
       "  drv mean_hwy\n",
       "1 4   19.24242\n",
       "2 f   27.76471\n",
       "3 r   21.00000"
      ]
     },
     "metadata": {},
     "output_type": "display_data"
    }
   ],
   "source": [
    "# 극단치 정제 후 데이터 분석\n",
    "mpg %>%\n",
    "    group_by(drv) %>%\n",
    "    summarise(mean_hwy = mean(hwy, na.rm = T))"
   ]
  },
  {
   "cell_type": "markdown",
   "id": "ed977ee0",
   "metadata": {},
   "source": [
    "## mpg데이터 분석 연습\n",
    "**분석계획** : <br>\n",
    "drv, cty 변수에 이상치 할당 <br>\n",
    "1. drv에 이상치가 있는지 확인한 뒤, 이상치를 결측 처리한 후 이상치가 잘 처리되었는지 확인. <br>\n",
    "2. 상자 그림을 이용해 cty에 이상치가 있는지 확인하고 상자 그림 통계치에서 정상범위를 벗어난 값을 결측처리. 그 후 다시 상자그림을 만들어 이상치가 있는지 확인. <br>\n",
    "3. 이상치를 제외한 다음 drv별로 cty평균이 어떻게 다른지 확인."
   ]
  },
  {
   "cell_type": "code",
   "execution_count": 43,
   "id": "28884159",
   "metadata": {},
   "outputs": [
    {
     "ename": "ERROR",
     "evalue": "Error in Ops.data.frame(mpg, as.data.frame(ggplot2::mpg)): '<=' only defined for equally-sized data frames\n",
     "output_type": "error",
     "traceback": [
      "Error in Ops.data.frame(mpg, as.data.frame(ggplot2::mpg)): '<=' only defined for equally-sized data frames\nTraceback:\n",
      "1. Ops.data.frame(mpg, as.data.frame(ggplot2::mpg))",
      "2. stop(gettextf(\"%s only defined for equally-sized data frames\", \n .     sQuote(.Generic)), domain = NA)"
     ]
    }
   ],
   "source": [
    "mpg <= as.data.frame(ggplot2::mpg)\n",
    "mpg[c(10,14,58,93), \"drv\"] <- \"k\"\n",
    "mpg[c(29,43,129,293), \"cty\"] <- c(3,4,39,42)"
   ]
  },
  {
   "cell_type": "code",
   "execution_count": 45,
   "id": "abd8c84b",
   "metadata": {},
   "outputs": [
    {
     "ename": "ERROR",
     "evalue": "Error in x[floor(d)] + x[ceiling(d)]: 이항연산자에 수치가 아닌 인수입니다\n",
     "output_type": "error",
     "traceback": [
      "Error in x[floor(d)] + x[ceiling(d)]: 이항연산자에 수치가 아닌 인수입니다\nTraceback:\n",
      "1. boxplot(mpg$drv)",
      "2. boxplot.default(mpg$drv)",
      "3. boxplot.stats(unclass(groups[[i]]), range)",
      "4. stats::fivenum(x, na.rm = TRUE)"
     ]
    }
   ],
   "source": [
    "boxplot(mpg$drv)"
   ]
  },
  {
   "cell_type": "code",
   "execution_count": 46,
   "id": "57123292",
   "metadata": {},
   "outputs": [
    {
     "data": {
      "text/plain": [
       "\n",
       "TRUE \n",
       " 293 "
      ]
     },
     "metadata": {},
     "output_type": "display_data"
    }
   ],
   "source": [
    "mpg$drv <- ifelse(mpg$drv < 12 | mpg$drv > 37, NA, mpg$drv)\n",
    "table(is.na(mpg$drv))"
   ]
  },
  {
   "cell_type": "code",
   "execution_count": null,
   "id": "1638afbe",
   "metadata": {},
   "outputs": [],
   "source": []
  }
 ],
 "metadata": {
  "kernelspec": {
   "display_name": "R",
   "language": "R",
   "name": "ir"
  },
  "language_info": {
   "codemirror_mode": "r",
   "file_extension": ".r",
   "mimetype": "text/x-r-source",
   "name": "R",
   "pygments_lexer": "r",
   "version": "3.6.1"
  }
 },
 "nbformat": 4,
 "nbformat_minor": 5
}
