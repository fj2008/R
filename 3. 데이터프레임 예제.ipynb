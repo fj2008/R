{
 "cells": [
  {
   "cell_type": "markdown",
   "id": "a1259748",
   "metadata": {},
   "source": [
    "## 데이터프레임 생성"
   ]
  },
  {
   "cell_type": "code",
   "execution_count": 1,
   "id": "18c1d8b3",
   "metadata": {},
   "outputs": [
    {
     "data": {
      "text/html": [
       "<table>\n",
       "<thead><tr><th scope=col>english</th><th scope=col>math</th></tr></thead>\n",
       "<tbody>\n",
       "\t<tr><td>90 </td><td> 50</td></tr>\n",
       "\t<tr><td>80 </td><td> 60</td></tr>\n",
       "\t<tr><td>60 </td><td>100</td></tr>\n",
       "\t<tr><td>70 </td><td> 20</td></tr>\n",
       "</tbody>\n",
       "</table>\n"
      ],
      "text/latex": [
       "\\begin{tabular}{r|ll}\n",
       " english & math\\\\\n",
       "\\hline\n",
       "\t 90  &  50\\\\\n",
       "\t 80  &  60\\\\\n",
       "\t 60  & 100\\\\\n",
       "\t 70  &  20\\\\\n",
       "\\end{tabular}\n"
      ],
      "text/markdown": [
       "\n",
       "| english | math |\n",
       "|---|---|\n",
       "| 90  |  50 |\n",
       "| 80  |  60 |\n",
       "| 60  | 100 |\n",
       "| 70  |  20 |\n",
       "\n"
      ],
      "text/plain": [
       "  english math\n",
       "1 90       50 \n",
       "2 80       60 \n",
       "3 60      100 \n",
       "4 70       20 "
      ]
     },
     "metadata": {},
     "output_type": "display_data"
    }
   ],
   "source": [
    "# 영어 점수 변수 생성\n",
    "english <- c(90,80,60,70)\n",
    "\n",
    "# 수학 점수 변수 생성\n",
    "math <- c(50,60,100,20)\n",
    "# english, math로 데이터프레임을 생성해서\n",
    "#df_midterm에 할당\n",
    "df_midterm <- data.frame(english,math)\n",
    "df_midterm"
   ]
  },
  {
   "cell_type": "code",
   "execution_count": 3,
   "id": "4ffe3ef9",
   "metadata": {},
   "outputs": [
    {
     "data": {
      "text/html": [
       "<table>\n",
       "<thead><tr><th scope=col>english</th><th scope=col>math</th><th scope=col>class</th></tr></thead>\n",
       "<tbody>\n",
       "\t<tr><td>90 </td><td> 50</td><td>1  </td></tr>\n",
       "\t<tr><td>80 </td><td> 70</td><td>1  </td></tr>\n",
       "\t<tr><td>70 </td><td> 70</td><td>2  </td></tr>\n",
       "\t<tr><td>60 </td><td>100</td><td>2  </td></tr>\n",
       "</tbody>\n",
       "</table>\n"
      ],
      "text/latex": [
       "\\begin{tabular}{r|lll}\n",
       " english & math & class\\\\\n",
       "\\hline\n",
       "\t 90  &  50 & 1  \\\\\n",
       "\t 80  &  70 & 1  \\\\\n",
       "\t 70  &  70 & 2  \\\\\n",
       "\t 60  & 100 & 2  \\\\\n",
       "\\end{tabular}\n"
      ],
      "text/markdown": [
       "\n",
       "| english | math | class |\n",
       "|---|---|---|\n",
       "| 90  |  50 | 1   |\n",
       "| 80  |  70 | 1   |\n",
       "| 70  |  70 | 2   |\n",
       "| 60  | 100 | 2   |\n",
       "\n"
      ],
      "text/plain": [
       "  english math class\n",
       "1 90       50  1    \n",
       "2 80       70  1    \n",
       "3 70       70  2    \n",
       "4 60      100  2    "
      ]
     },
     "metadata": {},
     "output_type": "display_data"
    }
   ],
   "source": [
    "# 변수를 미리 만들지 않고 데이터프레임을 생성\n",
    "df_midterm <- data.frame(english = c(90,80,70,60),\n",
    "                        math = c(50,70,70,100),\n",
    "                        class = c(1,1,2,2))\n",
    "df_midterm"
   ]
  },
  {
   "cell_type": "markdown",
   "id": "b4069763",
   "metadata": {},
   "source": [
    "## 데이터프레임 분석"
   ]
  },
  {
   "cell_type": "code",
   "execution_count": 4,
   "id": "8068bef6",
   "metadata": {},
   "outputs": [
    {
     "data": {
      "text/html": [
       "75"
      ],
      "text/latex": [
       "75"
      ],
      "text/markdown": [
       "75"
      ],
      "text/plain": [
       "[1] 75"
      ]
     },
     "metadata": {},
     "output_type": "display_data"
    }
   ],
   "source": [
    "# df_midterm의 english 평균\n",
    "mean(df_midterm$english)\n",
    "# \"$\"는 특정 데이터에 접근하기위한 문법"
   ]
  },
  {
   "cell_type": "code",
   "execution_count": 5,
   "id": "58d42339",
   "metadata": {},
   "outputs": [
    {
     "data": {
      "text/html": [
       "72.5"
      ],
      "text/latex": [
       "72.5"
      ],
      "text/markdown": [
       "72.5"
      ],
      "text/plain": [
       "[1] 72.5"
      ]
     },
     "metadata": {},
     "output_type": "display_data"
    }
   ],
   "source": [
    "# df)midterm의 math 평균\n",
    "mean(df_midterm$math)\n",
    "# mean은 평균을 구하는 함수"
   ]
  },
  {
   "cell_type": "code",
   "execution_count": 6,
   "id": "04fbea46",
   "metadata": {},
   "outputs": [],
   "source": [
    "#실무에서 데이터를 받으면 가장 먼저해야하는것은 데이터를 전체적으로 파악및\n",
    "#확인하고 들어가야한다.\n",
    "#빅데이터라는 특성상 열어보는데 많은시간이 들수도 아예열수 없을수도 있기때문"
   ]
  },
  {
   "cell_type": "markdown",
   "id": "98987255",
   "metadata": {},
   "source": [
    "## 데이터를 파악하는 함수\n",
    "\n",
    "- head()\n",
    "    - 데이터 앞부분 출력\n",
    "- tail()\n",
    "    - 데이터 뒷부분 출력\n",
    "- dim()\n",
    "    - 데이터 차원 출력(데이터의 모양새)\n",
    "- str()\n",
    "    - 데이터 속성 출력\n",
    "- summary()\n",
    "    - 요약통계량 출력"
   ]
  },
  {
   "cell_type": "code",
   "execution_count": 7,
   "id": "53804b79",
   "metadata": {},
   "outputs": [],
   "source": [
    "# 외부데이터 불러오기\n",
    "exam <- read.csv(\"../data/csv_exam.csv\")"
   ]
  },
  {
   "cell_type": "code",
   "execution_count": 10,
   "id": "f5271c44",
   "metadata": {},
   "outputs": [
    {
     "data": {
      "text/html": [
       "<table>\n",
       "<thead><tr><th scope=col>id</th><th scope=col>class</th><th scope=col>math</th><th scope=col>english</th><th scope=col>science</th></tr></thead>\n",
       "<tbody>\n",
       "\t<tr><td>1 </td><td>1 </td><td>50</td><td>98</td><td>50</td></tr>\n",
       "\t<tr><td>2 </td><td>1 </td><td>60</td><td>97</td><td>60</td></tr>\n",
       "\t<tr><td>3 </td><td>1 </td><td>45</td><td>86</td><td>78</td></tr>\n",
       "\t<tr><td>4 </td><td>1 </td><td>30</td><td>98</td><td>58</td></tr>\n",
       "\t<tr><td>5 </td><td>2 </td><td>25</td><td>80</td><td>65</td></tr>\n",
       "\t<tr><td>6 </td><td>2 </td><td>50</td><td>89</td><td>98</td></tr>\n",
       "</tbody>\n",
       "</table>\n"
      ],
      "text/latex": [
       "\\begin{tabular}{r|lllll}\n",
       " id & class & math & english & science\\\\\n",
       "\\hline\n",
       "\t 1  & 1  & 50 & 98 & 50\\\\\n",
       "\t 2  & 1  & 60 & 97 & 60\\\\\n",
       "\t 3  & 1  & 45 & 86 & 78\\\\\n",
       "\t 4  & 1  & 30 & 98 & 58\\\\\n",
       "\t 5  & 2  & 25 & 80 & 65\\\\\n",
       "\t 6  & 2  & 50 & 89 & 98\\\\\n",
       "\\end{tabular}\n"
      ],
      "text/markdown": [
       "\n",
       "| id | class | math | english | science |\n",
       "|---|---|---|---|---|\n",
       "| 1  | 1  | 50 | 98 | 50 |\n",
       "| 2  | 1  | 60 | 97 | 60 |\n",
       "| 3  | 1  | 45 | 86 | 78 |\n",
       "| 4  | 1  | 30 | 98 | 58 |\n",
       "| 5  | 2  | 25 | 80 | 65 |\n",
       "| 6  | 2  | 50 | 89 | 98 |\n",
       "\n"
      ],
      "text/plain": [
       "  id class math english science\n",
       "1 1  1     50   98      50     \n",
       "2 2  1     60   97      60     \n",
       "3 3  1     45   86      78     \n",
       "4 4  1     30   98      58     \n",
       "5 5  2     25   80      65     \n",
       "6 6  2     50   89      98     "
      ]
     },
     "metadata": {},
     "output_type": "display_data"
    }
   ],
   "source": [
    "head(exam)\n",
    "#앞에서 부터 6행까지 출력 head(exam ,2)이렇게 행갯수를 조절할 수도 있다."
   ]
  },
  {
   "cell_type": "code",
   "execution_count": 11,
   "id": "a454ff5c",
   "metadata": {},
   "outputs": [
    {
     "data": {
      "text/html": [
       "<table>\n",
       "<thead><tr><th></th><th scope=col>id</th><th scope=col>class</th><th scope=col>math</th><th scope=col>english</th><th scope=col>science</th></tr></thead>\n",
       "<tbody>\n",
       "\t<tr><th scope=row>15</th><td>15</td><td>4 </td><td>75</td><td>56</td><td>78</td></tr>\n",
       "\t<tr><th scope=row>16</th><td>16</td><td>4 </td><td>58</td><td>98</td><td>65</td></tr>\n",
       "\t<tr><th scope=row>17</th><td>17</td><td>5 </td><td>65</td><td>68</td><td>98</td></tr>\n",
       "\t<tr><th scope=row>18</th><td>18</td><td>5 </td><td>80</td><td>78</td><td>90</td></tr>\n",
       "\t<tr><th scope=row>19</th><td>19</td><td>5 </td><td>89</td><td>68</td><td>87</td></tr>\n",
       "\t<tr><th scope=row>20</th><td>20</td><td>5 </td><td>78</td><td>83</td><td>58</td></tr>\n",
       "</tbody>\n",
       "</table>\n"
      ],
      "text/latex": [
       "\\begin{tabular}{r|lllll}\n",
       "  & id & class & math & english & science\\\\\n",
       "\\hline\n",
       "\t15 & 15 & 4  & 75 & 56 & 78\\\\\n",
       "\t16 & 16 & 4  & 58 & 98 & 65\\\\\n",
       "\t17 & 17 & 5  & 65 & 68 & 98\\\\\n",
       "\t18 & 18 & 5  & 80 & 78 & 90\\\\\n",
       "\t19 & 19 & 5  & 89 & 68 & 87\\\\\n",
       "\t20 & 20 & 5  & 78 & 83 & 58\\\\\n",
       "\\end{tabular}\n"
      ],
      "text/markdown": [
       "\n",
       "| <!--/--> | id | class | math | english | science |\n",
       "|---|---|---|---|---|---|\n",
       "| 15 | 15 | 4  | 75 | 56 | 78 |\n",
       "| 16 | 16 | 4  | 58 | 98 | 65 |\n",
       "| 17 | 17 | 5  | 65 | 68 | 98 |\n",
       "| 18 | 18 | 5  | 80 | 78 | 90 |\n",
       "| 19 | 19 | 5  | 89 | 68 | 87 |\n",
       "| 20 | 20 | 5  | 78 | 83 | 58 |\n",
       "\n"
      ],
      "text/plain": [
       "   id class math english science\n",
       "15 15 4     75   56      78     \n",
       "16 16 4     58   98      65     \n",
       "17 17 5     65   68      98     \n",
       "18 18 5     80   78      90     \n",
       "19 19 5     89   68      87     \n",
       "20 20 5     78   83      58     "
      ]
     },
     "metadata": {},
     "output_type": "display_data"
    }
   ],
   "source": [
    "tail(exam)\n",
    "#head와 사용법은 마찬가지이다."
   ]
  },
  {
   "cell_type": "code",
   "execution_count": 12,
   "id": "c008fcf4",
   "metadata": {},
   "outputs": [
    {
     "data": {
      "text/html": [
       "<ol class=list-inline>\n",
       "\t<li>20</li>\n",
       "\t<li>5</li>\n",
       "</ol>\n"
      ],
      "text/latex": [
       "\\begin{enumerate*}\n",
       "\\item 20\n",
       "\\item 5\n",
       "\\end{enumerate*}\n"
      ],
      "text/markdown": [
       "1. 20\n",
       "2. 5\n",
       "\n",
       "\n"
      ],
      "text/plain": [
       "[1] 20  5"
      ]
     },
     "metadata": {},
     "output_type": "display_data"
    }
   ],
   "source": [
    "# 데이터의 차원(행,열) 출력\n",
    "# dimensions(차원)의 앞글자\n",
    "dim(exam)\n",
    "#20행 5열이란 뜻이다."
   ]
  },
  {
   "cell_type": "code",
   "execution_count": 13,
   "id": "7b96050a",
   "metadata": {},
   "outputs": [
    {
     "name": "stdout",
     "output_type": "stream",
     "text": [
      "'data.frame':\t20 obs. of  5 variables:\n",
      " $ id     : int  1 2 3 4 5 6 7 8 9 10 ...\n",
      " $ class  : int  1 1 1 1 2 2 2 2 3 3 ...\n",
      " $ math   : int  50 60 45 30 25 50 80 90 20 50 ...\n",
      " $ english: int  98 97 86 98 80 89 90 78 98 98 ...\n",
      " $ science: int  50 60 78 58 65 98 45 25 15 45 ...\n"
     ]
    }
   ],
   "source": [
    "# 데이터 속성 확인\n",
    "str(exam)\n",
    "\n",
    "# data.frame : 데이터프레임\n",
    "# 20 obs (observation): 20개의 관측치\n",
    "# 5variavles : 5개의 변수"
   ]
  },
  {
   "cell_type": "code",
   "execution_count": 14,
   "id": "5ab8c2a6",
   "metadata": {},
   "outputs": [
    {
     "data": {
      "text/plain": [
       "       id            class        math          english        science     \n",
       " Min.   : 1.00   Min.   :1   Min.   :20.00   Min.   :56.0   Min.   :12.00  \n",
       " 1st Qu.: 5.75   1st Qu.:2   1st Qu.:45.75   1st Qu.:78.0   1st Qu.:45.00  \n",
       " Median :10.50   Median :3   Median :54.00   Median :86.5   Median :62.50  \n",
       " Mean   :10.50   Mean   :3   Mean   :57.45   Mean   :84.9   Mean   :59.45  \n",
       " 3rd Qu.:15.25   3rd Qu.:4   3rd Qu.:75.75   3rd Qu.:98.0   3rd Qu.:78.00  \n",
       " Max.   :20.00   Max.   :5   Max.   :90.00   Max.   :98.0   Max.   :98.00  "
      ]
     },
     "metadata": {},
     "output_type": "display_data"
    }
   ],
   "source": [
    "# 요약 통계량 출력\n",
    "summary(exam)"
   ]
  },
  {
   "cell_type": "markdown",
   "id": "07958ca9",
   "metadata": {},
   "source": [
    "- Min : 최솟값\n",
    "    - 가장 작은 값\n",
    "- 1st Qu : 1사분위수(1st Quantile)\n",
    "    -하위 25%(4분의1) 지점에 위치하는 값\n",
    "- Median : 중앙값\n",
    "    - 중앙에 위치하는 값\n",
    "- Mean : 평균\n",
    "    - 모든 값을 더해 값의 개수로 나눈 값\n",
    "- 3rd Qu : 3사 분위수\n",
    "    - 하위 75%지점에 위치하는 값\n",
    "- Max : 최댓값\n",
    "    - 가장큰값"
   ]
  },
  {
   "cell_type": "markdown",
   "id": "df25db82",
   "metadata": {},
   "source": [
    "## ggplot2의 mpg 데이터를 이용한 실습"
   ]
  },
  {
   "cell_type": "code",
   "execution_count": 17,
   "id": "558638c3",
   "metadata": {},
   "outputs": [],
   "source": [
    "# 데이터를 데이터프레임 형태로 불러오기\n",
    "# 더블콜론 : 페키지에 들어있는 함수나 데이터 지정\n",
    "mpg <- as.data.frame(ggplot2::mpg)"
   ]
  },
  {
   "cell_type": "code",
   "execution_count": 18,
   "id": "8b32c5fa",
   "metadata": {},
   "outputs": [
    {
     "data": {
      "text/html": [
       "<table>\n",
       "<thead><tr><th scope=col>manufacturer</th><th scope=col>model</th><th scope=col>displ</th><th scope=col>year</th><th scope=col>cyl</th><th scope=col>trans</th><th scope=col>drv</th><th scope=col>cty</th><th scope=col>hwy</th><th scope=col>fl</th><th scope=col>class</th></tr></thead>\n",
       "<tbody>\n",
       "\t<tr><td>audi      </td><td>a4        </td><td>1.8       </td><td>1999      </td><td>4         </td><td>auto(l5)  </td><td>f         </td><td>18        </td><td>29        </td><td>p         </td><td>compact   </td></tr>\n",
       "\t<tr><td>audi      </td><td>a4        </td><td>1.8       </td><td>1999      </td><td>4         </td><td>manual(m5)</td><td>f         </td><td>21        </td><td>29        </td><td>p         </td><td>compact   </td></tr>\n",
       "\t<tr><td>audi      </td><td>a4        </td><td>2.0       </td><td>2008      </td><td>4         </td><td>manual(m6)</td><td>f         </td><td>20        </td><td>31        </td><td>p         </td><td>compact   </td></tr>\n",
       "\t<tr><td>audi      </td><td>a4        </td><td>2.0       </td><td>2008      </td><td>4         </td><td>auto(av)  </td><td>f         </td><td>21        </td><td>30        </td><td>p         </td><td>compact   </td></tr>\n",
       "\t<tr><td>audi      </td><td>a4        </td><td>2.8       </td><td>1999      </td><td>6         </td><td>auto(l5)  </td><td>f         </td><td>16        </td><td>26        </td><td>p         </td><td>compact   </td></tr>\n",
       "\t<tr><td>audi      </td><td>a4        </td><td>2.8       </td><td>1999      </td><td>6         </td><td>manual(m5)</td><td>f         </td><td>18        </td><td>26        </td><td>p         </td><td>compact   </td></tr>\n",
       "</tbody>\n",
       "</table>\n"
      ],
      "text/latex": [
       "\\begin{tabular}{r|lllllllllll}\n",
       " manufacturer & model & displ & year & cyl & trans & drv & cty & hwy & fl & class\\\\\n",
       "\\hline\n",
       "\t audi       & a4         & 1.8        & 1999       & 4          & auto(l5)   & f          & 18         & 29         & p          & compact   \\\\\n",
       "\t audi       & a4         & 1.8        & 1999       & 4          & manual(m5) & f          & 21         & 29         & p          & compact   \\\\\n",
       "\t audi       & a4         & 2.0        & 2008       & 4          & manual(m6) & f          & 20         & 31         & p          & compact   \\\\\n",
       "\t audi       & a4         & 2.0        & 2008       & 4          & auto(av)   & f          & 21         & 30         & p          & compact   \\\\\n",
       "\t audi       & a4         & 2.8        & 1999       & 6          & auto(l5)   & f          & 16         & 26         & p          & compact   \\\\\n",
       "\t audi       & a4         & 2.8        & 1999       & 6          & manual(m5) & f          & 18         & 26         & p          & compact   \\\\\n",
       "\\end{tabular}\n"
      ],
      "text/markdown": [
       "\n",
       "| manufacturer | model | displ | year | cyl | trans | drv | cty | hwy | fl | class |\n",
       "|---|---|---|---|---|---|---|---|---|---|---|\n",
       "| audi       | a4         | 1.8        | 1999       | 4          | auto(l5)   | f          | 18         | 29         | p          | compact    |\n",
       "| audi       | a4         | 1.8        | 1999       | 4          | manual(m5) | f          | 21         | 29         | p          | compact    |\n",
       "| audi       | a4         | 2.0        | 2008       | 4          | manual(m6) | f          | 20         | 31         | p          | compact    |\n",
       "| audi       | a4         | 2.0        | 2008       | 4          | auto(av)   | f          | 21         | 30         | p          | compact    |\n",
       "| audi       | a4         | 2.8        | 1999       | 6          | auto(l5)   | f          | 16         | 26         | p          | compact    |\n",
       "| audi       | a4         | 2.8        | 1999       | 6          | manual(m5) | f          | 18         | 26         | p          | compact    |\n",
       "\n"
      ],
      "text/plain": [
       "  manufacturer model displ year cyl trans      drv cty hwy fl class  \n",
       "1 audi         a4    1.8   1999 4   auto(l5)   f   18  29  p  compact\n",
       "2 audi         a4    1.8   1999 4   manual(m5) f   21  29  p  compact\n",
       "3 audi         a4    2.0   2008 4   manual(m6) f   20  31  p  compact\n",
       "4 audi         a4    2.0   2008 4   auto(av)   f   21  30  p  compact\n",
       "5 audi         a4    2.8   1999 6   auto(l5)   f   16  26  p  compact\n",
       "6 audi         a4    2.8   1999 6   manual(m5) f   18  26  p  compact"
      ]
     },
     "metadata": {},
     "output_type": "display_data"
    }
   ],
   "source": [
    "head(mpg)"
   ]
  },
  {
   "cell_type": "code",
   "execution_count": 19,
   "id": "f2d84d89",
   "metadata": {},
   "outputs": [
    {
     "data": {
      "text/html": [
       "<table>\n",
       "<thead><tr><th></th><th scope=col>manufacturer</th><th scope=col>model</th><th scope=col>displ</th><th scope=col>year</th><th scope=col>cyl</th><th scope=col>trans</th><th scope=col>drv</th><th scope=col>cty</th><th scope=col>hwy</th><th scope=col>fl</th><th scope=col>class</th></tr></thead>\n",
       "<tbody>\n",
       "\t<tr><th scope=row>229</th><td>volkswagen</td><td>passat    </td><td>1.8       </td><td>1999      </td><td>4         </td><td>auto(l5)  </td><td>f         </td><td>18        </td><td>29        </td><td>p         </td><td>midsize   </td></tr>\n",
       "\t<tr><th scope=row>230</th><td>volkswagen</td><td>passat    </td><td>2.0       </td><td>2008      </td><td>4         </td><td>auto(s6)  </td><td>f         </td><td>19        </td><td>28        </td><td>p         </td><td>midsize   </td></tr>\n",
       "\t<tr><th scope=row>231</th><td>volkswagen</td><td>passat    </td><td>2.0       </td><td>2008      </td><td>4         </td><td>manual(m6)</td><td>f         </td><td>21        </td><td>29        </td><td>p         </td><td>midsize   </td></tr>\n",
       "\t<tr><th scope=row>232</th><td>volkswagen</td><td>passat    </td><td>2.8       </td><td>1999      </td><td>6         </td><td>auto(l5)  </td><td>f         </td><td>16        </td><td>26        </td><td>p         </td><td>midsize   </td></tr>\n",
       "\t<tr><th scope=row>233</th><td>volkswagen</td><td>passat    </td><td>2.8       </td><td>1999      </td><td>6         </td><td>manual(m5)</td><td>f         </td><td>18        </td><td>26        </td><td>p         </td><td>midsize   </td></tr>\n",
       "\t<tr><th scope=row>234</th><td>volkswagen</td><td>passat    </td><td>3.6       </td><td>2008      </td><td>6         </td><td>auto(s6)  </td><td>f         </td><td>17        </td><td>26        </td><td>p         </td><td>midsize   </td></tr>\n",
       "</tbody>\n",
       "</table>\n"
      ],
      "text/latex": [
       "\\begin{tabular}{r|lllllllllll}\n",
       "  & manufacturer & model & displ & year & cyl & trans & drv & cty & hwy & fl & class\\\\\n",
       "\\hline\n",
       "\t229 & volkswagen & passat     & 1.8        & 1999       & 4          & auto(l5)   & f          & 18         & 29         & p          & midsize   \\\\\n",
       "\t230 & volkswagen & passat     & 2.0        & 2008       & 4          & auto(s6)   & f          & 19         & 28         & p          & midsize   \\\\\n",
       "\t231 & volkswagen & passat     & 2.0        & 2008       & 4          & manual(m6) & f          & 21         & 29         & p          & midsize   \\\\\n",
       "\t232 & volkswagen & passat     & 2.8        & 1999       & 6          & auto(l5)   & f          & 16         & 26         & p          & midsize   \\\\\n",
       "\t233 & volkswagen & passat     & 2.8        & 1999       & 6          & manual(m5) & f          & 18         & 26         & p          & midsize   \\\\\n",
       "\t234 & volkswagen & passat     & 3.6        & 2008       & 6          & auto(s6)   & f          & 17         & 26         & p          & midsize   \\\\\n",
       "\\end{tabular}\n"
      ],
      "text/markdown": [
       "\n",
       "| <!--/--> | manufacturer | model | displ | year | cyl | trans | drv | cty | hwy | fl | class |\n",
       "|---|---|---|---|---|---|---|---|---|---|---|---|\n",
       "| 229 | volkswagen | passat     | 1.8        | 1999       | 4          | auto(l5)   | f          | 18         | 29         | p          | midsize    |\n",
       "| 230 | volkswagen | passat     | 2.0        | 2008       | 4          | auto(s6)   | f          | 19         | 28         | p          | midsize    |\n",
       "| 231 | volkswagen | passat     | 2.0        | 2008       | 4          | manual(m6) | f          | 21         | 29         | p          | midsize    |\n",
       "| 232 | volkswagen | passat     | 2.8        | 1999       | 6          | auto(l5)   | f          | 16         | 26         | p          | midsize    |\n",
       "| 233 | volkswagen | passat     | 2.8        | 1999       | 6          | manual(m5) | f          | 18         | 26         | p          | midsize    |\n",
       "| 234 | volkswagen | passat     | 3.6        | 2008       | 6          | auto(s6)   | f          | 17         | 26         | p          | midsize    |\n",
       "\n"
      ],
      "text/plain": [
       "    manufacturer model  displ year cyl trans      drv cty hwy fl class  \n",
       "229 volkswagen   passat 1.8   1999 4   auto(l5)   f   18  29  p  midsize\n",
       "230 volkswagen   passat 2.0   2008 4   auto(s6)   f   19  28  p  midsize\n",
       "231 volkswagen   passat 2.0   2008 4   manual(m6) f   21  29  p  midsize\n",
       "232 volkswagen   passat 2.8   1999 6   auto(l5)   f   16  26  p  midsize\n",
       "233 volkswagen   passat 2.8   1999 6   manual(m5) f   18  26  p  midsize\n",
       "234 volkswagen   passat 3.6   2008 6   auto(s6)   f   17  26  p  midsize"
      ]
     },
     "metadata": {},
     "output_type": "display_data"
    }
   ],
   "source": [
    "tail(mpg)"
   ]
  },
  {
   "cell_type": "code",
   "execution_count": 20,
   "id": "832ea749",
   "metadata": {},
   "outputs": [
    {
     "data": {
      "text/html": [
       "<ol class=list-inline>\n",
       "\t<li>234</li>\n",
       "\t<li>11</li>\n",
       "</ol>\n"
      ],
      "text/latex": [
       "\\begin{enumerate*}\n",
       "\\item 234\n",
       "\\item 11\n",
       "\\end{enumerate*}\n"
      ],
      "text/markdown": [
       "1. 234\n",
       "2. 11\n",
       "\n",
       "\n"
      ],
      "text/plain": [
       "[1] 234  11"
      ]
     },
     "metadata": {},
     "output_type": "display_data"
    }
   ],
   "source": [
    "dim(mpg)"
   ]
  },
  {
   "cell_type": "code",
   "execution_count": 21,
   "id": "d6ad4aef",
   "metadata": {},
   "outputs": [
    {
     "name": "stdout",
     "output_type": "stream",
     "text": [
      "'data.frame':\t234 obs. of  11 variables:\n",
      " $ manufacturer: chr  \"audi\" \"audi\" \"audi\" \"audi\" ...\n",
      " $ model       : chr  \"a4\" \"a4\" \"a4\" \"a4\" ...\n",
      " $ displ       : num  1.8 1.8 2 2 2.8 2.8 3.1 1.8 1.8 2 ...\n",
      " $ year        : int  1999 1999 2008 2008 1999 1999 2008 1999 1999 2008 ...\n",
      " $ cyl         : int  4 4 4 4 6 6 6 4 4 4 ...\n",
      " $ trans       : chr  \"auto(l5)\" \"manual(m5)\" \"manual(m6)\" \"auto(av)\" ...\n",
      " $ drv         : chr  \"f\" \"f\" \"f\" \"f\" ...\n",
      " $ cty         : int  18 21 20 21 16 18 18 18 16 20 ...\n",
      " $ hwy         : int  29 29 31 30 26 26 27 26 25 28 ...\n",
      " $ fl          : chr  \"p\" \"p\" \"p\" \"p\" ...\n",
      " $ class       : chr  \"compact\" \"compact\" \"compact\" \"compact\" ...\n"
     ]
    }
   ],
   "source": [
    "str(mpg)"
   ]
  },
  {
   "cell_type": "code",
   "execution_count": 22,
   "id": "2abee963",
   "metadata": {},
   "outputs": [
    {
     "data": {
      "text/plain": [
       " manufacturer          model               displ            year     \n",
       " Length:234         Length:234         Min.   :1.600   Min.   :1999  \n",
       " Class :character   Class :character   1st Qu.:2.400   1st Qu.:1999  \n",
       " Mode  :character   Mode  :character   Median :3.300   Median :2004  \n",
       "                                       Mean   :3.472   Mean   :2004  \n",
       "                                       3rd Qu.:4.600   3rd Qu.:2008  \n",
       "                                       Max.   :7.000   Max.   :2008  \n",
       "      cyl           trans               drv                 cty       \n",
       " Min.   :4.000   Length:234         Length:234         Min.   : 9.00  \n",
       " 1st Qu.:4.000   Class :character   Class :character   1st Qu.:14.00  \n",
       " Median :6.000   Mode  :character   Mode  :character   Median :17.00  \n",
       " Mean   :5.889                                         Mean   :16.86  \n",
       " 3rd Qu.:8.000                                         3rd Qu.:19.00  \n",
       " Max.   :8.000                                         Max.   :35.00  \n",
       "      hwy             fl               class          \n",
       " Min.   :12.00   Length:234         Length:234        \n",
       " 1st Qu.:18.00   Class :character   Class :character  \n",
       " Median :24.00   Mode  :character   Mode  :character  \n",
       " Mean   :23.44                                        \n",
       " 3rd Qu.:27.00                                        \n",
       " Max.   :44.00                                        "
      ]
     },
     "metadata": {},
     "output_type": "display_data"
    }
   ],
   "source": [
    "summary(mpg)"
   ]
  },
  {
   "cell_type": "markdown",
   "id": "302cfd20",
   "metadata": {},
   "source": [
    "## 데이터 수정\n",
    "\n",
    "- dplyr : 데이터 전처리에 사용하는 패키지"
   ]
  },
  {
   "cell_type": "code",
   "execution_count": 6,
   "id": "c3ea082d",
   "metadata": {},
   "outputs": [
    {
     "name": "stderr",
     "output_type": "stream",
     "text": [
      "also installing the dependencies 'ellipsis', 'glue', 'rlang', 'tibble', 'tidyselect', 'pillar'\n",
      "\n"
     ]
    },
    {
     "name": "stdout",
     "output_type": "stream",
     "text": [
      "\n",
      "  There are binary versions available but the source versions are later:\n",
      "       binary source needs_compilation\n",
      "tibble  3.1.1  3.1.4              TRUE\n",
      "pillar  1.6.0  1.6.2             FALSE\n",
      "dplyr   1.0.6  1.0.7              TRUE\n",
      "\n",
      "  Binaries will be installed\n",
      "package 'ellipsis' successfully unpacked and MD5 sums checked\n"
     ]
    },
    {
     "name": "stderr",
     "output_type": "stream",
     "text": [
      "Warning message:\n",
      "\"cannot remove prior installation of package 'ellipsis'\"Warning message in file.copy(savedcopy, lib, recursive = TRUE):\n",
      "\"C:\\ProgramData\\Anaconda3\\Lib\\R\\library\\00LOCK\\ellipsis\\DESCRIPTION를 C:\\ProgramData\\Anaconda3\\Lib\\R\\library\\ellipsis\\DESCRIPTION로 복사하는데 문제가 발생했습니다: Permission denied\"Warning message in file.copy(savedcopy, lib, recursive = TRUE):\n",
      "\"C:\\ProgramData\\Anaconda3\\Lib\\R\\library\\00LOCK\\ellipsis\\help\\aliases.rds를 C:\\ProgramData\\Anaconda3\\Lib\\R\\library\\ellipsis\\help\\aliases.rds로 복사하는데 문제가 발생했습니다: Permission denied\"Warning message in file.copy(savedcopy, lib, recursive = TRUE):\n",
      "\"C:\\ProgramData\\Anaconda3\\Lib\\R\\library\\00LOCK\\ellipsis\\help\\AnIndex를 C:\\ProgramData\\Anaconda3\\Lib\\R\\library\\ellipsis\\help\\AnIndex로 복사하는데 문제가 발생했습니다: Permission denied\"Warning message in file.copy(savedcopy, lib, recursive = TRUE):\n",
      "\"C:\\ProgramData\\Anaconda3\\Lib\\R\\library\\00LOCK\\ellipsis\\help\\ellipsis.rdb를 C:\\ProgramData\\Anaconda3\\Lib\\R\\library\\ellipsis\\help\\ellipsis.rdb로 복사하는데 문제가 발생했습니다: Permission denied\"Warning message in file.copy(savedcopy, lib, recursive = TRUE):\n",
      "\"C:\\ProgramData\\Anaconda3\\Lib\\R\\library\\00LOCK\\ellipsis\\help\\ellipsis.rdx를 C:\\ProgramData\\Anaconda3\\Lib\\R\\library\\ellipsis\\help\\ellipsis.rdx로 복사하는데 문제가 발생했습니다: Permission denied\"Warning message in file.copy(savedcopy, lib, recursive = TRUE):\n",
      "\"C:\\ProgramData\\Anaconda3\\Lib\\R\\library\\00LOCK\\ellipsis\\help\\paths.rds를 C:\\ProgramData\\Anaconda3\\Lib\\R\\library\\ellipsis\\help\\paths.rds로 복사하는데 문제가 발생했습니다: Permission denied\"Warning message in file.copy(savedcopy, lib, recursive = TRUE):\n",
      "\"C:\\ProgramData\\Anaconda3\\Lib\\R\\library\\00LOCK\\ellipsis\\html\\00Index.html를 C:\\ProgramData\\Anaconda3\\Lib\\R\\library\\ellipsis\\html\\00Index.html로 복사하는데 문제가 발생했습니다: Permission denied\"Warning message in file.copy(savedcopy, lib, recursive = TRUE):\n",
      "\"C:\\ProgramData\\Anaconda3\\Lib\\R\\library\\00LOCK\\ellipsis\\html\\check_dots_unnamed.html를 C:\\ProgramData\\Anaconda3\\Lib\\R\\library\\ellipsis\\html\\check_dots_unnamed.html로 복사하는데 문제가 발생했습니다: Permission denied\"Warning message in file.copy(savedcopy, lib, recursive = TRUE):\n",
      "\"C:\\ProgramData\\Anaconda3\\Lib\\R\\library\\00LOCK\\ellipsis\\html\\check_dots_used.html를 C:\\ProgramData\\Anaconda3\\Lib\\R\\library\\ellipsis\\html\\check_dots_used.html로 복사하는데 문제가 발생했습니다: Permission denied\"Warning message in file.copy(savedcopy, lib, recursive = TRUE):\n",
      "\"C:\\ProgramData\\Anaconda3\\Lib\\R\\library\\00LOCK\\ellipsis\\html\\R.css를 C:\\ProgramData\\Anaconda3\\Lib\\R\\library\\ellipsis\\html\\R.css로 복사하는데 문제가 발생했습니다: Permission denied\"Warning message in file.copy(savedcopy, lib, recursive = TRUE):\n",
      "\"C:\\ProgramData\\Anaconda3\\Lib\\R\\library\\00LOCK\\ellipsis\\html\\safe_median.html를 C:\\ProgramData\\Anaconda3\\Lib\\R\\library\\ellipsis\\html\\safe_median.html로 복사하는데 문제가 발생했습니다: Permission denied\"Warning message in file.copy(savedcopy, lib, recursive = TRUE):\n",
      "\"C:\\ProgramData\\Anaconda3\\Lib\\R\\library\\00LOCK\\ellipsis\\INDEX를 C:\\ProgramData\\Anaconda3\\Lib\\R\\library\\ellipsis\\INDEX로 복사하는데 문제가 발생했습니다: Permission denied\"Warning message in file.copy(savedcopy, lib, recursive = TRUE):\n",
      "\"C:\\ProgramData\\Anaconda3\\Lib\\R\\library\\00LOCK\\ellipsis\\libs\\x64\\ellipsis.dll를 C:\\ProgramData\\Anaconda3\\Lib\\R\\library\\ellipsis\\libs\\x64\\ellipsis.dll로 복사하는데 문제가 발생했습니다: Permission denied\"Warning message in file.copy(savedcopy, lib, recursive = TRUE):\n",
      "\"C:\\ProgramData\\Anaconda3\\Lib\\R\\library\\00LOCK\\ellipsis\\MD5를 C:\\ProgramData\\Anaconda3\\Lib\\R\\library\\ellipsis\\MD5로 복사하는데 문제가 발생했습니다: Permission denied\"Warning message in file.copy(savedcopy, lib, recursive = TRUE):\n",
      "\"C:\\ProgramData\\Anaconda3\\Lib\\R\\library\\00LOCK\\ellipsis\\Meta\\features.rds를 C:\\ProgramData\\Anaconda3\\Lib\\R\\library\\ellipsis\\Meta\\features.rds로 복사하는데 문제가 발생했습니다: Permission denied\"Warning message in file.copy(savedcopy, lib, recursive = TRUE):\n",
      "\"C:\\ProgramData\\Anaconda3\\Lib\\R\\library\\00LOCK\\ellipsis\\Meta\\hsearch.rds를 C:\\ProgramData\\Anaconda3\\Lib\\R\\library\\ellipsis\\Meta\\hsearch.rds로 복사하는데 문제가 발생했습니다: Permission denied\"Warning message in file.copy(savedcopy, lib, recursive = TRUE):\n",
      "\"C:\\ProgramData\\Anaconda3\\Lib\\R\\library\\00LOCK\\ellipsis\\Meta\\links.rds를 C:\\ProgramData\\Anaconda3\\Lib\\R\\library\\ellipsis\\Meta\\links.rds로 복사하는데 문제가 발생했습니다: Permission denied\"Warning message in file.copy(savedcopy, lib, recursive = TRUE):\n",
      "\"C:\\ProgramData\\Anaconda3\\Lib\\R\\library\\00LOCK\\ellipsis\\Meta\\nsInfo.rds를 C:\\ProgramData\\Anaconda3\\Lib\\R\\library\\ellipsis\\Meta\\nsInfo.rds로 복사하는데 문제가 발생했습니다: Permission denied\"Warning message in file.copy(savedcopy, lib, recursive = TRUE):\n",
      "\"C:\\ProgramData\\Anaconda3\\Lib\\R\\library\\00LOCK\\ellipsis\\Meta\\package.rds를 C:\\ProgramData\\Anaconda3\\Lib\\R\\library\\ellipsis\\Meta\\package.rds로 복사하는데 문제가 발생했습니다: Permission denied\"Warning message in file.copy(savedcopy, lib, recursive = TRUE):\n",
      "\"C:\\ProgramData\\Anaconda3\\Lib\\R\\library\\00LOCK\\ellipsis\\Meta\\Rd.rds를 C:\\ProgramData\\Anaconda3\\Lib\\R\\library\\ellipsis\\Meta\\Rd.rds로 복사하는데 문제가 발생했습니다: Permission denied\"Warning message in file.copy(savedcopy, lib, recursive = TRUE):\n",
      "\"C:\\ProgramData\\Anaconda3\\Lib\\R\\library\\00LOCK\\ellipsis\\NAMESPACE를 C:\\ProgramData\\Anaconda3\\Lib\\R\\library\\ellipsis\\NAMESPACE로 복사하는데 문제가 발생했습니다: Permission denied\"Warning message in file.copy(savedcopy, lib, recursive = TRUE):\n",
      "\"C:\\ProgramData\\Anaconda3\\Lib\\R\\library\\00LOCK\\ellipsis\\NEWS.md를 C:\\ProgramData\\Anaconda3\\Lib\\R\\library\\ellipsis\\NEWS.md로 복사하는데 문제가 발생했습니다: Permission denied\"Warning message in file.copy(savedcopy, lib, recursive = TRUE):\n",
      "\"C:\\ProgramData\\Anaconda3\\Lib\\R\\library\\00LOCK\\ellipsis\\R\\ellipsis를 C:\\ProgramData\\Anaconda3\\Lib\\R\\library\\ellipsis\\R\\ellipsis로 복사하는데 문제가 발생했습니다: Permission denied\"Warning message in file.copy(savedcopy, lib, recursive = TRUE):\n",
      "\"C:\\ProgramData\\Anaconda3\\Lib\\R\\library\\00LOCK\\ellipsis\\R\\ellipsis.rdb를 C:\\ProgramData\\Anaconda3\\Lib\\R\\library\\ellipsis\\R\\ellipsis.rdb로 복사하는데 문제가 발생했습니다: Permission denied\"Warning message in file.copy(savedcopy, lib, recursive = TRUE):\n",
      "\"C:\\ProgramData\\Anaconda3\\Lib\\R\\library\\00LOCK\\ellipsis\\R\\ellipsis.rdx를 C:\\ProgramData\\Anaconda3\\Lib\\R\\library\\ellipsis\\R\\ellipsis.rdx로 복사하는데 문제가 발생했습니다: Permission denied\"Warning message:\n",
      "\"restored 'ellipsis'\""
     ]
    },
    {
     "name": "stdout",
     "output_type": "stream",
     "text": [
      "package 'glue' successfully unpacked and MD5 sums checked\n"
     ]
    },
    {
     "name": "stderr",
     "output_type": "stream",
     "text": [
      "Warning message:\n",
      "\"cannot remove prior installation of package 'glue'\"Warning message in file.copy(savedcopy, lib, recursive = TRUE):\n",
      "\"C:\\ProgramData\\Anaconda3\\Lib\\R\\library\\00LOCK\\glue\\DESCRIPTION를 C:\\ProgramData\\Anaconda3\\Lib\\R\\library\\glue\\DESCRIPTION로 복사하는데 문제가 발생했습니다: Permission denied\"Warning message in file.copy(savedcopy, lib, recursive = TRUE):\n",
      "\"C:\\ProgramData\\Anaconda3\\Lib\\R\\library\\00LOCK\\glue\\doc\\index.html를 C:\\ProgramData\\Anaconda3\\Lib\\R\\library\\glue\\doc\\index.html로 복사하는데 문제가 발생했습니다: Permission denied\"Warning message in file.copy(savedcopy, lib, recursive = TRUE):\n",
      "\"C:\\ProgramData\\Anaconda3\\Lib\\R\\library\\00LOCK\\glue\\doc\\speed.html를 C:\\ProgramData\\Anaconda3\\Lib\\R\\library\\glue\\doc\\speed.html로 복사하는데 문제가 발생했습니다: Permission denied\"Warning message in file.copy(savedcopy, lib, recursive = TRUE):\n",
      "\"C:\\ProgramData\\Anaconda3\\Lib\\R\\library\\00LOCK\\glue\\doc\\speed.R를 C:\\ProgramData\\Anaconda3\\Lib\\R\\library\\glue\\doc\\speed.R로 복사하는데 문제가 발생했습니다: Permission denied\"Warning message in file.copy(savedcopy, lib, recursive = TRUE):\n",
      "\"C:\\ProgramData\\Anaconda3\\Lib\\R\\library\\00LOCK\\glue\\doc\\speed.Rmd를 C:\\ProgramData\\Anaconda3\\Lib\\R\\library\\glue\\doc\\speed.Rmd로 복사하는데 문제가 발생했습니다: Permission denied\"Warning message in file.copy(savedcopy, lib, recursive = TRUE):\n",
      "\"C:\\ProgramData\\Anaconda3\\Lib\\R\\library\\00LOCK\\glue\\doc\\transformers.html를 C:\\ProgramData\\Anaconda3\\Lib\\R\\library\\glue\\doc\\transformers.html로 복사하는데 문제가 발생했습니다: Permission denied\"Warning message in file.copy(savedcopy, lib, recursive = TRUE):\n",
      "\"C:\\ProgramData\\Anaconda3\\Lib\\R\\library\\00LOCK\\glue\\doc\\transformers.R를 C:\\ProgramData\\Anaconda3\\Lib\\R\\library\\glue\\doc\\transformers.R로 복사하는데 문제가 발생했습니다: Permission denied\"Warning message in file.copy(savedcopy, lib, recursive = TRUE):\n",
      "\"C:\\ProgramData\\Anaconda3\\Lib\\R\\library\\00LOCK\\glue\\doc\\transformers.Rmd를 C:\\ProgramData\\Anaconda3\\Lib\\R\\library\\glue\\doc\\transformers.Rmd로 복사하는데 문제가 발생했습니다: Permission denied\"Warning message in file.copy(savedcopy, lib, recursive = TRUE):\n",
      "\"C:\\ProgramData\\Anaconda3\\Lib\\R\\library\\00LOCK\\glue\\help\\aliases.rds를 C:\\ProgramData\\Anaconda3\\Lib\\R\\library\\glue\\help\\aliases.rds로 복사하는데 문제가 발생했습니다: Permission denied\"Warning message in file.copy(savedcopy, lib, recursive = TRUE):\n",
      "\"C:\\ProgramData\\Anaconda3\\Lib\\R\\library\\00LOCK\\glue\\help\\AnIndex를 C:\\ProgramData\\Anaconda3\\Lib\\R\\library\\glue\\help\\AnIndex로 복사하는데 문제가 발생했습니다: Permission denied\"Warning message in file.copy(savedcopy, lib, recursive = TRUE):\n",
      "\"C:\\ProgramData\\Anaconda3\\Lib\\R\\library\\00LOCK\\glue\\help\\figures\\logo.png를 C:\\ProgramData\\Anaconda3\\Lib\\R\\library\\glue\\help\\figures\\logo.png로 복사하는데 문제가 발생했습니다: Permission denied\"Warning message in file.copy(savedcopy, lib, recursive = TRUE):\n",
      "\"C:\\ProgramData\\Anaconda3\\Lib\\R\\library\\00LOCK\\glue\\help\\glue.rdb를 C:\\ProgramData\\Anaconda3\\Lib\\R\\library\\glue\\help\\glue.rdb로 복사하는데 문제가 발생했습니다: Permission denied\"Warning message in file.copy(savedcopy, lib, recursive = TRUE):\n",
      "\"C:\\ProgramData\\Anaconda3\\Lib\\R\\library\\00LOCK\\glue\\help\\glue.rdx를 C:\\ProgramData\\Anaconda3\\Lib\\R\\library\\glue\\help\\glue.rdx로 복사하는데 문제가 발생했습니다: Permission denied\"Warning message in file.copy(savedcopy, lib, recursive = TRUE):\n",
      "\"C:\\ProgramData\\Anaconda3\\Lib\\R\\library\\00LOCK\\glue\\help\\paths.rds를 C:\\ProgramData\\Anaconda3\\Lib\\R\\library\\glue\\help\\paths.rds로 복사하는데 문제가 발생했습니다: Permission denied\"Warning message in file.copy(savedcopy, lib, recursive = TRUE):\n",
      "\"C:\\ProgramData\\Anaconda3\\Lib\\R\\library\\00LOCK\\glue\\html\\00Index.html를 C:\\ProgramData\\Anaconda3\\Lib\\R\\library\\glue\\html\\00Index.html로 복사하는데 문제가 발생했습니다: Permission denied\"Warning message in file.copy(savedcopy, lib, recursive = TRUE):\n",
      "\"C:\\ProgramData\\Anaconda3\\Lib\\R\\library\\00LOCK\\glue\\html\\as_glue.html를 C:\\ProgramData\\Anaconda3\\Lib\\R\\library\\glue\\html\\as_glue.html로 복사하는데 문제가 발생했습니다: Permission denied\"Warning message in file.copy(savedcopy, lib, recursive = TRUE):\n",
      "\"C:\\ProgramData\\Anaconda3\\Lib\\R\\library\\00LOCK\\glue\\html\\glue-deprecated.html를 C:\\ProgramData\\Anaconda3\\Lib\\R\\library\\glue\\html\\glue-deprecated.html로 복사하는데 문제가 발생했습니다: Permission denied\"Warning message in file.copy(savedcopy, lib, recursive = TRUE):\n",
      "\"C:\\ProgramData\\Anaconda3\\Lib\\R\\library\\00LOCK\\glue\\html\\glue.html를 C:\\ProgramData\\Anaconda3\\Lib\\R\\library\\glue\\html\\glue.html로 복사하는데 문제가 발생했습니다: Permission denied\"Warning message in file.copy(savedcopy, lib, recursive = TRUE):\n",
      "\"C:\\ProgramData\\Anaconda3\\Lib\\R\\library\\00LOCK\\glue\\html\\glue_col.html를 C:\\ProgramData\\Anaconda3\\Lib\\R\\library\\glue\\html\\glue_col.html로 복사하는데 문제가 발생했습니다: Permission denied\"Warning message in file.copy(savedcopy, lib, recursive = TRUE):\n",
      "\"C:\\ProgramData\\Anaconda3\\Lib\\R\\library\\00LOCK\\glue\\html\\glue_collapse.html를 C:\\ProgramData\\Anaconda3\\Lib\\R\\library\\glue\\html\\glue_collapse.html로 복사하는데 문제가 발생했습니다: Permission denied\"Warning message in file.copy(savedcopy, lib, recursive = TRUE):\n",
      "\"C:\\ProgramData\\Anaconda3\\Lib\\R\\library\\00LOCK\\glue\\html\\glue_sql.html를 C:\\ProgramData\\Anaconda3\\Lib\\R\\library\\glue\\html\\glue_sql.html로 복사하는데 문제가 발생했습니다: Permission denied\"Warning message in file.copy(savedcopy, lib, recursive = TRUE):\n",
      "\"C:\\ProgramData\\Anaconda3\\Lib\\R\\library\\00LOCK\\glue\\html\\identity_transformer.html를 C:\\ProgramData\\Anaconda3\\Lib\\R\\library\\glue\\html\\identity_transformer.html로 복사하는데 문제가 발생했습니다: Permission denied\"Warning message in file.copy(savedcopy, lib, recursive = TRUE):\n",
      "\"C:\\ProgramData\\Anaconda3\\Lib\\R\\library\\00LOCK\\glue\\html\\quoting.html를 C:\\ProgramData\\Anaconda3\\Lib\\R\\library\\glue\\html\\quoting.html로 복사하는데 문제가 발생했습니다: Permission denied\"Warning message in file.copy(savedcopy, lib, recursive = TRUE):\n",
      "\"C:\\ProgramData\\Anaconda3\\Lib\\R\\library\\00LOCK\\glue\\html\\R.css를 C:\\ProgramData\\Anaconda3\\Lib\\R\\library\\glue\\html\\R.css로 복사하는데 문제가 발생했습니다: Permission denied\"Warning message in file.copy(savedcopy, lib, recursive = TRUE):\n",
      "\"C:\\ProgramData\\Anaconda3\\Lib\\R\\library\\00LOCK\\glue\\html\\trim.html를 C:\\ProgramData\\Anaconda3\\Lib\\R\\library\\glue\\html\\trim.html로 복사하는데 문제가 발생했습니다: Permission denied\"Warning message in file.copy(savedcopy, lib, recursive = TRUE):\n",
      "\"C:\\ProgramData\\Anaconda3\\Lib\\R\\library\\00LOCK\\glue\\INDEX를 C:\\ProgramData\\Anaconda3\\Lib\\R\\library\\glue\\INDEX로 복사하는데 문제가 발생했습니다: Permission denied\"Warning message in file.copy(savedcopy, lib, recursive = TRUE):\n",
      "\"C:\\ProgramData\\Anaconda3\\Lib\\R\\library\\00LOCK\\glue\\libs\\x64\\glue.dll를 C:\\ProgramData\\Anaconda3\\Lib\\R\\library\\glue\\libs\\x64\\glue.dll로 복사하는데 문제가 발생했습니다: Permission denied\"Warning message in file.copy(savedcopy, lib, recursive = TRUE):\n",
      "\"C:\\ProgramData\\Anaconda3\\Lib\\R\\library\\00LOCK\\glue\\LICENSE를 C:\\ProgramData\\Anaconda3\\Lib\\R\\library\\glue\\LICENSE로 복사하는데 문제가 발생했습니다: Permission denied\"Warning message in file.copy(savedcopy, lib, recursive = TRUE):\n",
      "\"C:\\ProgramData\\Anaconda3\\Lib\\R\\library\\00LOCK\\glue\\MD5를 C:\\ProgramData\\Anaconda3\\Lib\\R\\library\\glue\\MD5로 복사하는데 문제가 발생했습니다: Permission denied\"Warning message in file.copy(savedcopy, lib, recursive = TRUE):\n",
      "\"C:\\ProgramData\\Anaconda3\\Lib\\R\\library\\00LOCK\\glue\\Meta\\features.rds를 C:\\ProgramData\\Anaconda3\\Lib\\R\\library\\glue\\Meta\\features.rds로 복사하는데 문제가 발생했습니다: Permission denied\"Warning message in file.copy(savedcopy, lib, recursive = TRUE):\n",
      "\"C:\\ProgramData\\Anaconda3\\Lib\\R\\library\\00LOCK\\glue\\Meta\\hsearch.rds를 C:\\ProgramData\\Anaconda3\\Lib\\R\\library\\glue\\Meta\\hsearch.rds로 복사하는데 문제가 발생했습니다: Permission denied\"Warning message in file.copy(savedcopy, lib, recursive = TRUE):\n",
      "\"C:\\ProgramData\\Anaconda3\\Lib\\R\\library\\00LOCK\\glue\\Meta\\links.rds를 C:\\ProgramData\\Anaconda3\\Lib\\R\\library\\glue\\Meta\\links.rds로 복사하는데 문제가 발생했습니다: Permission denied\"Warning message in file.copy(savedcopy, lib, recursive = TRUE):\n",
      "\"C:\\ProgramData\\Anaconda3\\Lib\\R\\library\\00LOCK\\glue\\Meta\\nsInfo.rds를 C:\\ProgramData\\Anaconda3\\Lib\\R\\library\\glue\\Meta\\nsInfo.rds로 복사하는데 문제가 발생했습니다: Permission denied\"Warning message in file.copy(savedcopy, lib, recursive = TRUE):\n",
      "\"C:\\ProgramData\\Anaconda3\\Lib\\R\\library\\00LOCK\\glue\\Meta\\package.rds를 C:\\ProgramData\\Anaconda3\\Lib\\R\\library\\glue\\Meta\\package.rds로 복사하는데 문제가 발생했습니다: Permission denied\"Warning message in file.copy(savedcopy, lib, recursive = TRUE):\n",
      "\"C:\\ProgramData\\Anaconda3\\Lib\\R\\library\\00LOCK\\glue\\Meta\\Rd.rds를 C:\\ProgramData\\Anaconda3\\Lib\\R\\library\\glue\\Meta\\Rd.rds로 복사하는데 문제가 발생했습니다: Permission denied\"Warning message in file.copy(savedcopy, lib, recursive = TRUE):\n"
     ]
    },
    {
     "name": "stderr",
     "output_type": "stream",
     "text": [
      "\"C:\\ProgramData\\Anaconda3\\Lib\\R\\library\\00LOCK\\glue\\Meta\\vignette.rds를 C:\\ProgramData\\Anaconda3\\Lib\\R\\library\\glue\\Meta\\vignette.rds로 복사하는데 문제가 발생했습니다: Permission denied\"Warning message in file.copy(savedcopy, lib, recursive = TRUE):\n",
      "\"C:\\ProgramData\\Anaconda3\\Lib\\R\\library\\00LOCK\\glue\\NAMESPACE를 C:\\ProgramData\\Anaconda3\\Lib\\R\\library\\glue\\NAMESPACE로 복사하는데 문제가 발생했습니다: Permission denied\"Warning message in file.copy(savedcopy, lib, recursive = TRUE):\n",
      "\"C:\\ProgramData\\Anaconda3\\Lib\\R\\library\\00LOCK\\glue\\NEWS.md를 C:\\ProgramData\\Anaconda3\\Lib\\R\\library\\glue\\NEWS.md로 복사하는데 문제가 발생했습니다: Permission denied\"Warning message in file.copy(savedcopy, lib, recursive = TRUE):\n",
      "\"C:\\ProgramData\\Anaconda3\\Lib\\R\\library\\00LOCK\\glue\\R\\glue를 C:\\ProgramData\\Anaconda3\\Lib\\R\\library\\glue\\R\\glue로 복사하는데 문제가 발생했습니다: Permission denied\"Warning message in file.copy(savedcopy, lib, recursive = TRUE):\n",
      "\"C:\\ProgramData\\Anaconda3\\Lib\\R\\library\\00LOCK\\glue\\R\\glue.rdb를 C:\\ProgramData\\Anaconda3\\Lib\\R\\library\\glue\\R\\glue.rdb로 복사하는데 문제가 발생했습니다: Permission denied\"Warning message in file.copy(savedcopy, lib, recursive = TRUE):\n",
      "\"C:\\ProgramData\\Anaconda3\\Lib\\R\\library\\00LOCK\\glue\\R\\glue.rdx를 C:\\ProgramData\\Anaconda3\\Lib\\R\\library\\glue\\R\\glue.rdx로 복사하는데 문제가 발생했습니다: Permission denied\"Warning message:\n",
      "\"restored 'glue'\""
     ]
    },
    {
     "name": "stdout",
     "output_type": "stream",
     "text": [
      "package 'rlang' successfully unpacked and MD5 sums checked\n"
     ]
    },
    {
     "name": "stderr",
     "output_type": "stream",
     "text": [
      "Warning message:\n",
      "\"cannot remove prior installation of package 'rlang'\"Warning message in file.copy(savedcopy, lib, recursive = TRUE):\n",
      "\"C:\\ProgramData\\Anaconda3\\Lib\\R\\library\\00LOCK\\rlang\\DESCRIPTION를 C:\\ProgramData\\Anaconda3\\Lib\\R\\library\\rlang\\DESCRIPTION로 복사하는데 문제가 발생했습니다: Permission denied\"Warning message in file.copy(savedcopy, lib, recursive = TRUE):\n",
      "\"C:\\ProgramData\\Anaconda3\\Lib\\R\\library\\00LOCK\\rlang\\help\\aliases.rds를 C:\\ProgramData\\Anaconda3\\Lib\\R\\library\\rlang\\help\\aliases.rds로 복사하는데 문제가 발생했습니다: Permission denied\"Warning message in file.copy(savedcopy, lib, recursive = TRUE):\n",
      "\"C:\\ProgramData\\Anaconda3\\Lib\\R\\library\\00LOCK\\rlang\\help\\AnIndex를 C:\\ProgramData\\Anaconda3\\Lib\\R\\library\\rlang\\help\\AnIndex로 복사하는데 문제가 발생했습니다: Permission denied\"Warning message in file.copy(savedcopy, lib, recursive = TRUE):\n",
      "\"C:\\ProgramData\\Anaconda3\\Lib\\R\\library\\00LOCK\\rlang\\help\\figures\\lifecycle-archived.svg를 C:\\ProgramData\\Anaconda3\\Lib\\R\\library\\rlang\\help\\figures\\lifecycle-archived.svg로 복사하는데 문제가 발생했습니다: Permission denied\"Warning message in file.copy(savedcopy, lib, recursive = TRUE):\n",
      "\"C:\\ProgramData\\Anaconda3\\Lib\\R\\library\\00LOCK\\rlang\\help\\figures\\lifecycle-defunct.svg를 C:\\ProgramData\\Anaconda3\\Lib\\R\\library\\rlang\\help\\figures\\lifecycle-defunct.svg로 복사하는데 문제가 발생했습니다: Permission denied\"Warning message in file.copy(savedcopy, lib, recursive = TRUE):\n",
      "\"C:\\ProgramData\\Anaconda3\\Lib\\R\\library\\00LOCK\\rlang\\help\\figures\\lifecycle-deprecated.svg를 C:\\ProgramData\\Anaconda3\\Lib\\R\\library\\rlang\\help\\figures\\lifecycle-deprecated.svg로 복사하는데 문제가 발생했습니다: Permission denied\"Warning message in file.copy(savedcopy, lib, recursive = TRUE):\n",
      "\"C:\\ProgramData\\Anaconda3\\Lib\\R\\library\\00LOCK\\rlang\\help\\figures\\lifecycle-experimental.svg를 C:\\ProgramData\\Anaconda3\\Lib\\R\\library\\rlang\\help\\figures\\lifecycle-experimental.svg로 복사하는데 문제가 발생했습니다: Permission denied\"Warning message in file.copy(savedcopy, lib, recursive = TRUE):\n",
      "\"C:\\ProgramData\\Anaconda3\\Lib\\R\\library\\00LOCK\\rlang\\help\\figures\\lifecycle-maturing.svg를 C:\\ProgramData\\Anaconda3\\Lib\\R\\library\\rlang\\help\\figures\\lifecycle-maturing.svg로 복사하는데 문제가 발생했습니다: Permission denied\"Warning message in file.copy(savedcopy, lib, recursive = TRUE):\n",
      "\"C:\\ProgramData\\Anaconda3\\Lib\\R\\library\\00LOCK\\rlang\\help\\figures\\lifecycle-questioning.svg를 C:\\ProgramData\\Anaconda3\\Lib\\R\\library\\rlang\\help\\figures\\lifecycle-questioning.svg로 복사하는데 문제가 발생했습니다: Permission denied\"Warning message in file.copy(savedcopy, lib, recursive = TRUE):\n",
      "\"C:\\ProgramData\\Anaconda3\\Lib\\R\\library\\00LOCK\\rlang\\help\\figures\\lifecycle-retired.svg를 C:\\ProgramData\\Anaconda3\\Lib\\R\\library\\rlang\\help\\figures\\lifecycle-retired.svg로 복사하는데 문제가 발생했습니다: Permission denied\"Warning message in file.copy(savedcopy, lib, recursive = TRUE):\n",
      "\"C:\\ProgramData\\Anaconda3\\Lib\\R\\library\\00LOCK\\rlang\\help\\figures\\lifecycle-soft-deprecated.svg를 C:\\ProgramData\\Anaconda3\\Lib\\R\\library\\rlang\\help\\figures\\lifecycle-soft-deprecated.svg로 복사하는데 문제가 발생했습니다: Permission denied\"Warning message in file.copy(savedcopy, lib, recursive = TRUE):\n",
      "\"C:\\ProgramData\\Anaconda3\\Lib\\R\\library\\00LOCK\\rlang\\help\\figures\\lifecycle-stable.svg를 C:\\ProgramData\\Anaconda3\\Lib\\R\\library\\rlang\\help\\figures\\lifecycle-stable.svg로 복사하는데 문제가 발생했습니다: Permission denied\"Warning message in file.copy(savedcopy, lib, recursive = TRUE):\n",
      "\"C:\\ProgramData\\Anaconda3\\Lib\\R\\library\\00LOCK\\rlang\\help\\figures\\rlang.png를 C:\\ProgramData\\Anaconda3\\Lib\\R\\library\\rlang\\help\\figures\\rlang.png로 복사하는데 문제가 발생했습니다: Permission denied\"Warning message in file.copy(savedcopy, lib, recursive = TRUE):\n",
      "\"C:\\ProgramData\\Anaconda3\\Lib\\R\\library\\00LOCK\\rlang\\help\\paths.rds를 C:\\ProgramData\\Anaconda3\\Lib\\R\\library\\rlang\\help\\paths.rds로 복사하는데 문제가 발생했습니다: Permission denied\"Warning message in file.copy(savedcopy, lib, recursive = TRUE):\n",
      "\"C:\\ProgramData\\Anaconda3\\Lib\\R\\library\\00LOCK\\rlang\\help\\rlang.rdb를 C:\\ProgramData\\Anaconda3\\Lib\\R\\library\\rlang\\help\\rlang.rdb로 복사하는데 문제가 발생했습니다: Permission denied\"Warning message in file.copy(savedcopy, lib, recursive = TRUE):\n",
      "\"C:\\ProgramData\\Anaconda3\\Lib\\R\\library\\00LOCK\\rlang\\help\\rlang.rdx를 C:\\ProgramData\\Anaconda3\\Lib\\R\\library\\rlang\\help\\rlang.rdx로 복사하는데 문제가 발생했습니다: Permission denied\"Warning message in file.copy(savedcopy, lib, recursive = TRUE):\n",
      "\"C:\\ProgramData\\Anaconda3\\Lib\\R\\library\\00LOCK\\rlang\\html\\00Index.html를 C:\\ProgramData\\Anaconda3\\Lib\\R\\library\\rlang\\html\\00Index.html로 복사하는데 문제가 발생했습니다: Permission denied\"Warning message in file.copy(savedcopy, lib, recursive = TRUE):\n",
      "\"C:\\ProgramData\\Anaconda3\\Lib\\R\\library\\00LOCK\\rlang\\html\\abort.html를 C:\\ProgramData\\Anaconda3\\Lib\\R\\library\\rlang\\html\\abort.html로 복사하는데 문제가 발생했습니다: Permission denied\"Warning message in file.copy(savedcopy, lib, recursive = TRUE):\n",
      "\"C:\\ProgramData\\Anaconda3\\Lib\\R\\library\\00LOCK\\rlang\\html\\are_na.html를 C:\\ProgramData\\Anaconda3\\Lib\\R\\library\\rlang\\html\\are_na.html로 복사하는데 문제가 발생했습니다: Permission denied\"Warning message in file.copy(savedcopy, lib, recursive = TRUE):\n",
      "\"C:\\ProgramData\\Anaconda3\\Lib\\R\\library\\00LOCK\\rlang\\html\\arg_match.html를 C:\\ProgramData\\Anaconda3\\Lib\\R\\library\\rlang\\html\\arg_match.html로 복사하는데 문제가 발생했습니다: Permission denied\"Warning message in file.copy(savedcopy, lib, recursive = TRUE):\n",
      "\"C:\\ProgramData\\Anaconda3\\Lib\\R\\library\\00LOCK\\rlang\\html\\as_box.html를 C:\\ProgramData\\Anaconda3\\Lib\\R\\library\\rlang\\html\\as_box.html로 복사하는데 문제가 발생했습니다: Permission denied\"Warning message in file.copy(savedcopy, lib, recursive = TRUE):\n",
      "\"C:\\ProgramData\\Anaconda3\\Lib\\R\\library\\00LOCK\\rlang\\html\\as_bytes.html를 C:\\ProgramData\\Anaconda3\\Lib\\R\\library\\rlang\\html\\as_bytes.html로 복사하는데 문제가 발생했습니다: Permission denied\"Warning message in file.copy(savedcopy, lib, recursive = TRUE):\n",
      "\"C:\\ProgramData\\Anaconda3\\Lib\\R\\library\\00LOCK\\rlang\\html\\as_data_mask.html를 C:\\ProgramData\\Anaconda3\\Lib\\R\\library\\rlang\\html\\as_data_mask.html로 복사하는데 문제가 발생했습니다: Permission denied\"Warning message in file.copy(savedcopy, lib, recursive = TRUE):\n",
      "\"C:\\ProgramData\\Anaconda3\\Lib\\R\\library\\00LOCK\\rlang\\html\\as_env.html를 C:\\ProgramData\\Anaconda3\\Lib\\R\\library\\rlang\\html\\as_env.html로 복사하는데 문제가 발생했습니다: Permission denied\"Warning message in file.copy(savedcopy, lib, recursive = TRUE):\n",
      "\"C:\\ProgramData\\Anaconda3\\Lib\\R\\library\\00LOCK\\rlang\\html\\as_environment.html를 C:\\ProgramData\\Anaconda3\\Lib\\R\\library\\rlang\\html\\as_environment.html로 복사하는데 문제가 발생했습니다: Permission denied\"Warning message in file.copy(savedcopy, lib, recursive = TRUE):\n",
      "\"C:\\ProgramData\\Anaconda3\\Lib\\R\\library\\00LOCK\\rlang\\html\\as_function.html를 C:\\ProgramData\\Anaconda3\\Lib\\R\\library\\rlang\\html\\as_function.html로 복사하는데 문제가 발생했습니다: Permission denied\"Warning message in file.copy(savedcopy, lib, recursive = TRUE):\n",
      "\"C:\\ProgramData\\Anaconda3\\Lib\\R\\library\\00LOCK\\rlang\\html\\as_label.html를 C:\\ProgramData\\Anaconda3\\Lib\\R\\library\\rlang\\html\\as_label.html로 복사하는데 문제가 발생했습니다: Permission denied\"Warning message in file.copy(savedcopy, lib, recursive = TRUE):\n",
      "\"C:\\ProgramData\\Anaconda3\\Lib\\R\\library\\00LOCK\\rlang\\html\\as_name.html를 C:\\ProgramData\\Anaconda3\\Lib\\R\\library\\rlang\\html\\as_name.html로 복사하는데 문제가 발생했습니다: Permission denied\"Warning message in file.copy(savedcopy, lib, recursive = TRUE):\n",
      "\"C:\\ProgramData\\Anaconda3\\Lib\\R\\library\\00LOCK\\rlang\\html\\as_overscope.html를 C:\\ProgramData\\Anaconda3\\Lib\\R\\library\\rlang\\html\\as_overscope.html로 복사하는데 문제가 발생했습니다: Permission denied\"Warning message in file.copy(savedcopy, lib, recursive = TRUE):\n",
      "\"C:\\ProgramData\\Anaconda3\\Lib\\R\\library\\00LOCK\\rlang\\html\\as_pairlist.html를 C:\\ProgramData\\Anaconda3\\Lib\\R\\library\\rlang\\html\\as_pairlist.html로 복사하는데 문제가 발생했습니다: Permission denied\"Warning message in file.copy(savedcopy, lib, recursive = TRUE):\n",
      "\"C:\\ProgramData\\Anaconda3\\Lib\\R\\library\\00LOCK\\rlang\\html\\as_quosure.html를 C:\\ProgramData\\Anaconda3\\Lib\\R\\library\\rlang\\html\\as_quosure.html로 복사하는데 문제가 발생했습니다: Permission denied\"Warning message in file.copy(savedcopy, lib, recursive = TRUE):\n",
      "\"C:\\ProgramData\\Anaconda3\\Lib\\R\\library\\00LOCK\\rlang\\html\\as_string.html를 C:\\ProgramData\\Anaconda3\\Lib\\R\\library\\rlang\\html\\as_string.html로 복사하는데 문제가 발생했습니다: Permission denied\"Warning message in file.copy(savedcopy, lib, recursive = TRUE):\n"
     ]
    },
    {
     "name": "stderr",
     "output_type": "stream",
     "text": [
      "\"C:\\ProgramData\\Anaconda3\\Lib\\R\\library\\00LOCK\\rlang\\html\\as_utf8_character.html를 C:\\ProgramData\\Anaconda3\\Lib\\R\\library\\rlang\\html\\as_utf8_character.html로 복사하는데 문제가 발생했습니다: Permission denied\"Warning message in file.copy(savedcopy, lib, recursive = TRUE):\n",
      "\"C:\\ProgramData\\Anaconda3\\Lib\\R\\library\\00LOCK\\rlang\\html\\bare-type-predicates.html를 C:\\ProgramData\\Anaconda3\\Lib\\R\\library\\rlang\\html\\bare-type-predicates.html로 복사하는데 문제가 발생했습니다: Permission denied\"Warning message in file.copy(savedcopy, lib, recursive = TRUE):\n",
      "\"C:\\ProgramData\\Anaconda3\\Lib\\R\\library\\00LOCK\\rlang\\html\\box.html를 C:\\ProgramData\\Anaconda3\\Lib\\R\\library\\rlang\\html\\box.html로 복사하는데 문제가 발생했습니다: Permission denied\"Warning message in file.copy(savedcopy, lib, recursive = TRUE):\n",
      "\"C:\\ProgramData\\Anaconda3\\Lib\\R\\library\\00LOCK\\rlang\\html\\call2.html를 C:\\ProgramData\\Anaconda3\\Lib\\R\\library\\rlang\\html\\call2.html로 복사하는데 문제가 발생했습니다: Permission denied\"Warning message in file.copy(savedcopy, lib, recursive = TRUE):\n",
      "\"C:\\ProgramData\\Anaconda3\\Lib\\R\\library\\00LOCK\\rlang\\html\\caller_env.html를 C:\\ProgramData\\Anaconda3\\Lib\\R\\library\\rlang\\html\\caller_env.html로 복사하는데 문제가 발생했습니다: Permission denied\"Warning message in file.copy(savedcopy, lib, recursive = TRUE):\n",
      "\"C:\\ProgramData\\Anaconda3\\Lib\\R\\library\\00LOCK\\rlang\\html\\caller_fn.html를 C:\\ProgramData\\Anaconda3\\Lib\\R\\library\\rlang\\html\\caller_fn.html로 복사하는데 문제가 발생했습니다: Permission denied\"Warning message in file.copy(savedcopy, lib, recursive = TRUE):\n",
      "\"C:\\ProgramData\\Anaconda3\\Lib\\R\\library\\00LOCK\\rlang\\html\\caller_frame.html를 C:\\ProgramData\\Anaconda3\\Lib\\R\\library\\rlang\\html\\caller_frame.html로 복사하는데 문제가 발생했습니다: Permission denied\"Warning message in file.copy(savedcopy, lib, recursive = TRUE):\n",
      "\"C:\\ProgramData\\Anaconda3\\Lib\\R\\library\\00LOCK\\rlang\\html\\call_args.html를 C:\\ProgramData\\Anaconda3\\Lib\\R\\library\\rlang\\html\\call_args.html로 복사하는데 문제가 발생했습니다: Permission denied\"Warning message in file.copy(savedcopy, lib, recursive = TRUE):\n",
      "\"C:\\ProgramData\\Anaconda3\\Lib\\R\\library\\00LOCK\\rlang\\html\\call_fn.html를 C:\\ProgramData\\Anaconda3\\Lib\\R\\library\\rlang\\html\\call_fn.html로 복사하는데 문제가 발생했습니다: Permission denied\"Warning message in file.copy(savedcopy, lib, recursive = TRUE):\n",
      "\"C:\\ProgramData\\Anaconda3\\Lib\\R\\library\\00LOCK\\rlang\\html\\call_inspect.html를 C:\\ProgramData\\Anaconda3\\Lib\\R\\library\\rlang\\html\\call_inspect.html로 복사하는데 문제가 발생했습니다: Permission denied\"Warning message in file.copy(savedcopy, lib, recursive = TRUE):\n",
      "\"C:\\ProgramData\\Anaconda3\\Lib\\R\\library\\00LOCK\\rlang\\html\\call_modify.html를 C:\\ProgramData\\Anaconda3\\Lib\\R\\library\\rlang\\html\\call_modify.html로 복사하는데 문제가 발생했습니다: Permission denied\"Warning message in file.copy(savedcopy, lib, recursive = TRUE):\n",
      "\"C:\\ProgramData\\Anaconda3\\Lib\\R\\library\\00LOCK\\rlang\\html\\call_name.html를 C:\\ProgramData\\Anaconda3\\Lib\\R\\library\\rlang\\html\\call_name.html로 복사하는데 문제가 발생했습니다: Permission denied\"Warning message in file.copy(savedcopy, lib, recursive = TRUE):\n",
      "\"C:\\ProgramData\\Anaconda3\\Lib\\R\\library\\00LOCK\\rlang\\html\\call_standardise.html를 C:\\ProgramData\\Anaconda3\\Lib\\R\\library\\rlang\\html\\call_standardise.html로 복사하는데 문제가 발생했습니다: Permission denied\"Warning message in file.copy(savedcopy, lib, recursive = TRUE):\n",
      "\"C:\\ProgramData\\Anaconda3\\Lib\\R\\library\\00LOCK\\rlang\\html\\catch_cnd.html를 C:\\ProgramData\\Anaconda3\\Lib\\R\\library\\rlang\\html\\catch_cnd.html로 복사하는데 문제가 발생했습니다: Permission denied\"Warning message in file.copy(savedcopy, lib, recursive = TRUE):\n",
      "\"C:\\ProgramData\\Anaconda3\\Lib\\R\\library\\00LOCK\\rlang\\html\\chr_unserialise_unicode.html를 C:\\ProgramData\\Anaconda3\\Lib\\R\\library\\rlang\\html\\chr_unserialise_unicode.html로 복사하는데 문제가 발생했습니다: Permission denied\"Warning message in file.copy(savedcopy, lib, recursive = TRUE):\n",
      "\"C:\\ProgramData\\Anaconda3\\Lib\\R\\library\\00LOCK\\rlang\\html\\cnd.html를 C:\\ProgramData\\Anaconda3\\Lib\\R\\library\\rlang\\html\\cnd.html로 복사하는데 문제가 발생했습니다: Permission denied\"Warning message in file.copy(savedcopy, lib, recursive = TRUE):\n",
      "\"C:\\ProgramData\\Anaconda3\\Lib\\R\\library\\00LOCK\\rlang\\html\\cnd_muffle.html를 C:\\ProgramData\\Anaconda3\\Lib\\R\\library\\rlang\\html\\cnd_muffle.html로 복사하는데 문제가 발생했습니다: Permission denied\"Warning message in file.copy(savedcopy, lib, recursive = TRUE):\n",
      "\"C:\\ProgramData\\Anaconda3\\Lib\\R\\library\\00LOCK\\rlang\\html\\cnd_signal.html를 C:\\ProgramData\\Anaconda3\\Lib\\R\\library\\rlang\\html\\cnd_signal.html로 복사하는데 문제가 발생했습니다: Permission denied\"Warning message in file.copy(savedcopy, lib, recursive = TRUE):\n",
      "\"C:\\ProgramData\\Anaconda3\\Lib\\R\\library\\00LOCK\\rlang\\html\\cnd_type.html를 C:\\ProgramData\\Anaconda3\\Lib\\R\\library\\rlang\\html\\cnd_type.html로 복사하는데 문제가 발생했습니다: Permission denied\"Warning message in file.copy(savedcopy, lib, recursive = TRUE):\n",
      "\"C:\\ProgramData\\Anaconda3\\Lib\\R\\library\\00LOCK\\rlang\\html\\dictionary.html를 C:\\ProgramData\\Anaconda3\\Lib\\R\\library\\rlang\\html\\dictionary.html로 복사하는데 문제가 발생했습니다: Permission denied\"Warning message in file.copy(savedcopy, lib, recursive = TRUE):\n",
      "\"C:\\ProgramData\\Anaconda3\\Lib\\R\\library\\00LOCK\\rlang\\html\\done.html를 C:\\ProgramData\\Anaconda3\\Lib\\R\\library\\rlang\\html\\done.html로 복사하는데 문제가 발생했습니다: Permission denied\"Warning message in file.copy(savedcopy, lib, recursive = TRUE):\n",
      "\"C:\\ProgramData\\Anaconda3\\Lib\\R\\library\\00LOCK\\rlang\\html\\dots_definitions.html를 C:\\ProgramData\\Anaconda3\\Lib\\R\\library\\rlang\\html\\dots_definitions.html로 복사하는데 문제가 발생했습니다: Permission denied\"Warning message in file.copy(savedcopy, lib, recursive = TRUE):\n",
      "\"C:\\ProgramData\\Anaconda3\\Lib\\R\\library\\00LOCK\\rlang\\html\\dots_n.html를 C:\\ProgramData\\Anaconda3\\Lib\\R\\library\\rlang\\html\\dots_n.html로 복사하는데 문제가 발생했습니다: Permission denied\"Warning message in file.copy(savedcopy, lib, recursive = TRUE):\n",
      "\"C:\\ProgramData\\Anaconda3\\Lib\\R\\library\\00LOCK\\rlang\\html\\dots_values.html를 C:\\ProgramData\\Anaconda3\\Lib\\R\\library\\rlang\\html\\dots_values.html로 복사하는데 문제가 발생했습니다: Permission denied\"Warning message in file.copy(savedcopy, lib, recursive = TRUE):\n",
      "\"C:\\ProgramData\\Anaconda3\\Lib\\R\\library\\00LOCK\\rlang\\html\\duplicate.html를 C:\\ProgramData\\Anaconda3\\Lib\\R\\library\\rlang\\html\\duplicate.html로 복사하는데 문제가 발생했습니다: Permission denied\"Warning message in file.copy(savedcopy, lib, recursive = TRUE):\n",
      "\"C:\\ProgramData\\Anaconda3\\Lib\\R\\library\\00LOCK\\rlang\\html\\empty_env.html를 C:\\ProgramData\\Anaconda3\\Lib\\R\\library\\rlang\\html\\empty_env.html로 복사하는데 문제가 발생했습니다: Permission denied\"Warning message in file.copy(savedcopy, lib, recursive = TRUE):\n",
      "\"C:\\ProgramData\\Anaconda3\\Lib\\R\\library\\00LOCK\\rlang\\html\\entrace.html를 C:\\ProgramData\\Anaconda3\\Lib\\R\\library\\rlang\\html\\entrace.html로 복사하는데 문제가 발생했습니다: Permission denied\"Warning message in file.copy(savedcopy, lib, recursive = TRUE):\n",
      "\"C:\\ProgramData\\Anaconda3\\Lib\\R\\library\\00LOCK\\rlang\\html\\env.html를 C:\\ProgramData\\Anaconda3\\Lib\\R\\library\\rlang\\html\\env.html로 복사하는데 문제가 발생했습니다: Permission denied\"Warning message in file.copy(savedcopy, lib, recursive = TRUE):\n",
      "\"C:\\ProgramData\\Anaconda3\\Lib\\R\\library\\00LOCK\\rlang\\html\\env_bind.html를 C:\\ProgramData\\Anaconda3\\Lib\\R\\library\\rlang\\html\\env_bind.html로 복사하는데 문제가 발생했습니다: Permission denied\"Warning message in file.copy(savedcopy, lib, recursive = TRUE):\n",
      "\"C:\\ProgramData\\Anaconda3\\Lib\\R\\library\\00LOCK\\rlang\\html\\env_binding_are_active.html를 C:\\ProgramData\\Anaconda3\\Lib\\R\\library\\rlang\\html\\env_binding_are_active.html로 복사하는데 문제가 발생했습니다: Permission denied\"Warning message in file.copy(savedcopy, lib, recursive = TRUE):\n",
      "\"C:\\ProgramData\\Anaconda3\\Lib\\R\\library\\00LOCK\\rlang\\html\\env_binding_lock.html를 C:\\ProgramData\\Anaconda3\\Lib\\R\\library\\rlang\\html\\env_binding_lock.html로 복사하는데 문제가 발생했습니다: Permission denied\"Warning message in file.copy(savedcopy, lib, recursive = TRUE):\n",
      "\"C:\\ProgramData\\Anaconda3\\Lib\\R\\library\\00LOCK\\rlang\\html\\env_bind_exprs.html를 C:\\ProgramData\\Anaconda3\\Lib\\R\\library\\rlang\\html\\env_bind_exprs.html로 복사하는데 문제가 발생했습니다: Permission denied\"Warning message in file.copy(savedcopy, lib, recursive = TRUE):\n",
      "\"C:\\ProgramData\\Anaconda3\\Lib\\R\\library\\00LOCK\\rlang\\html\\env_bury.html를 C:\\ProgramData\\Anaconda3\\Lib\\R\\library\\rlang\\html\\env_bury.html로 복사하는데 문제가 발생했습니다: Permission denied\"Warning message in file.copy(savedcopy, lib, recursive = TRUE):\n"
     ]
    },
    {
     "name": "stderr",
     "output_type": "stream",
     "text": [
      "\"C:\\ProgramData\\Anaconda3\\Lib\\R\\library\\00LOCK\\rlang\\html\\env_clone.html를 C:\\ProgramData\\Anaconda3\\Lib\\R\\library\\rlang\\html\\env_clone.html로 복사하는데 문제가 발생했습니다: Permission denied\"Warning message in file.copy(savedcopy, lib, recursive = TRUE):\n",
      "\"C:\\ProgramData\\Anaconda3\\Lib\\R\\library\\00LOCK\\rlang\\html\\env_depth.html를 C:\\ProgramData\\Anaconda3\\Lib\\R\\library\\rlang\\html\\env_depth.html로 복사하는데 문제가 발생했습니다: Permission denied\"Warning message in file.copy(savedcopy, lib, recursive = TRUE):\n",
      "\"C:\\ProgramData\\Anaconda3\\Lib\\R\\library\\00LOCK\\rlang\\html\\env_get.html를 C:\\ProgramData\\Anaconda3\\Lib\\R\\library\\rlang\\html\\env_get.html로 복사하는데 문제가 발생했습니다: Permission denied\"Warning message in file.copy(savedcopy, lib, recursive = TRUE):\n",
      "\"C:\\ProgramData\\Anaconda3\\Lib\\R\\library\\00LOCK\\rlang\\html\\env_has.html를 C:\\ProgramData\\Anaconda3\\Lib\\R\\library\\rlang\\html\\env_has.html로 복사하는데 문제가 발생했습니다: Permission denied\"Warning message in file.copy(savedcopy, lib, recursive = TRUE):\n",
      "\"C:\\ProgramData\\Anaconda3\\Lib\\R\\library\\00LOCK\\rlang\\html\\env_inherits.html를 C:\\ProgramData\\Anaconda3\\Lib\\R\\library\\rlang\\html\\env_inherits.html로 복사하는데 문제가 발생했습니다: Permission denied\"Warning message in file.copy(savedcopy, lib, recursive = TRUE):\n",
      "\"C:\\ProgramData\\Anaconda3\\Lib\\R\\library\\00LOCK\\rlang\\html\\env_lock.html를 C:\\ProgramData\\Anaconda3\\Lib\\R\\library\\rlang\\html\\env_lock.html로 복사하는데 문제가 발생했습니다: Permission denied\"Warning message in file.copy(savedcopy, lib, recursive = TRUE):\n",
      "\"C:\\ProgramData\\Anaconda3\\Lib\\R\\library\\00LOCK\\rlang\\html\\env_name.html를 C:\\ProgramData\\Anaconda3\\Lib\\R\\library\\rlang\\html\\env_name.html로 복사하는데 문제가 발생했습니다: Permission denied\"Warning message in file.copy(savedcopy, lib, recursive = TRUE):\n",
      "\"C:\\ProgramData\\Anaconda3\\Lib\\R\\library\\00LOCK\\rlang\\html\\env_names.html를 C:\\ProgramData\\Anaconda3\\Lib\\R\\library\\rlang\\html\\env_names.html로 복사하는데 문제가 발생했습니다: Permission denied\"Warning message in file.copy(savedcopy, lib, recursive = TRUE):\n",
      "\"C:\\ProgramData\\Anaconda3\\Lib\\R\\library\\00LOCK\\rlang\\html\\env_parent.html를 C:\\ProgramData\\Anaconda3\\Lib\\R\\library\\rlang\\html\\env_parent.html로 복사하는데 문제가 발생했습니다: Permission denied\"Warning message in file.copy(savedcopy, lib, recursive = TRUE):\n",
      "\"C:\\ProgramData\\Anaconda3\\Lib\\R\\library\\00LOCK\\rlang\\html\\env_poke.html를 C:\\ProgramData\\Anaconda3\\Lib\\R\\library\\rlang\\html\\env_poke.html로 복사하는데 문제가 발생했습니다: Permission denied\"Warning message in file.copy(savedcopy, lib, recursive = TRUE):\n",
      "\"C:\\ProgramData\\Anaconda3\\Lib\\R\\library\\00LOCK\\rlang\\html\\env_print.html를 C:\\ProgramData\\Anaconda3\\Lib\\R\\library\\rlang\\html\\env_print.html로 복사하는데 문제가 발생했습니다: Permission denied\"Warning message in file.copy(savedcopy, lib, recursive = TRUE):\n",
      "\"C:\\ProgramData\\Anaconda3\\Lib\\R\\library\\00LOCK\\rlang\\html\\env_unbind.html를 C:\\ProgramData\\Anaconda3\\Lib\\R\\library\\rlang\\html\\env_unbind.html로 복사하는데 문제가 발생했습니다: Permission denied\"Warning message in file.copy(savedcopy, lib, recursive = TRUE):\n",
      "\"C:\\ProgramData\\Anaconda3\\Lib\\R\\library\\00LOCK\\rlang\\html\\env_unlock.html를 C:\\ProgramData\\Anaconda3\\Lib\\R\\library\\rlang\\html\\env_unlock.html로 복사하는데 문제가 발생했습니다: Permission denied\"Warning message in file.copy(savedcopy, lib, recursive = TRUE):\n",
      "\"C:\\ProgramData\\Anaconda3\\Lib\\R\\library\\00LOCK\\rlang\\html\\eval_bare.html를 C:\\ProgramData\\Anaconda3\\Lib\\R\\library\\rlang\\html\\eval_bare.html로 복사하는데 문제가 발생했습니다: Permission denied\"Warning message in file.copy(savedcopy, lib, recursive = TRUE):\n",
      "\"C:\\ProgramData\\Anaconda3\\Lib\\R\\library\\00LOCK\\rlang\\html\\eval_tidy.html를 C:\\ProgramData\\Anaconda3\\Lib\\R\\library\\rlang\\html\\eval_tidy.html로 복사하는데 문제가 발생했습니다: Permission denied\"Warning message in file.copy(savedcopy, lib, recursive = TRUE):\n",
      "\"C:\\ProgramData\\Anaconda3\\Lib\\R\\library\\00LOCK\\rlang\\html\\eval_tidy_.html를 C:\\ProgramData\\Anaconda3\\Lib\\R\\library\\rlang\\html\\eval_tidy_.html로 복사하는데 문제가 발생했습니다: Permission denied\"Warning message in file.copy(savedcopy, lib, recursive = TRUE):\n",
      "\"C:\\ProgramData\\Anaconda3\\Lib\\R\\library\\00LOCK\\rlang\\html\\exec.html를 C:\\ProgramData\\Anaconda3\\Lib\\R\\library\\rlang\\html\\exec.html로 복사하는데 문제가 발생했습니다: Permission denied\"Warning message in file.copy(savedcopy, lib, recursive = TRUE):\n",
      "\"C:\\ProgramData\\Anaconda3\\Lib\\R\\library\\00LOCK\\rlang\\html\\exiting.html를 C:\\ProgramData\\Anaconda3\\Lib\\R\\library\\rlang\\html\\exiting.html로 복사하는데 문제가 발생했습니다: Permission denied\"Warning message in file.copy(savedcopy, lib, recursive = TRUE):\n",
      "\"C:\\ProgramData\\Anaconda3\\Lib\\R\\library\\00LOCK\\rlang\\html\\exprs_auto_name.html를 C:\\ProgramData\\Anaconda3\\Lib\\R\\library\\rlang\\html\\exprs_auto_name.html로 복사하는데 문제가 발생했습니다: Permission denied\"Warning message in file.copy(savedcopy, lib, recursive = TRUE):\n",
      "\"C:\\ProgramData\\Anaconda3\\Lib\\R\\library\\00LOCK\\rlang\\html\\expr_interp.html를 C:\\ProgramData\\Anaconda3\\Lib\\R\\library\\rlang\\html\\expr_interp.html로 복사하는데 문제가 발생했습니다: Permission denied\"Warning message in file.copy(savedcopy, lib, recursive = TRUE):\n",
      "\"C:\\ProgramData\\Anaconda3\\Lib\\R\\library\\00LOCK\\rlang\\html\\expr_label.html를 C:\\ProgramData\\Anaconda3\\Lib\\R\\library\\rlang\\html\\expr_label.html로 복사하는데 문제가 발생했습니다: Permission denied\"Warning message in file.copy(savedcopy, lib, recursive = TRUE):\n",
      "\"C:\\ProgramData\\Anaconda3\\Lib\\R\\library\\00LOCK\\rlang\\html\\expr_print.html를 C:\\ProgramData\\Anaconda3\\Lib\\R\\library\\rlang\\html\\expr_print.html로 복사하는데 문제가 발생했습니다: Permission denied\"Warning message in file.copy(savedcopy, lib, recursive = TRUE):\n",
      "\"C:\\ProgramData\\Anaconda3\\Lib\\R\\library\\00LOCK\\rlang\\html\\flatten.html를 C:\\ProgramData\\Anaconda3\\Lib\\R\\library\\rlang\\html\\flatten.html로 복사하는데 문제가 발생했습니다: Permission denied\"Warning message in file.copy(savedcopy, lib, recursive = TRUE):\n",
      "\"C:\\ProgramData\\Anaconda3\\Lib\\R\\library\\00LOCK\\rlang\\html\\fn_body.html를 C:\\ProgramData\\Anaconda3\\Lib\\R\\library\\rlang\\html\\fn_body.html로 복사하는데 문제가 발생했습니다: Permission denied\"Warning message in file.copy(savedcopy, lib, recursive = TRUE):\n",
      "\"C:\\ProgramData\\Anaconda3\\Lib\\R\\library\\00LOCK\\rlang\\html\\fn_env.html를 C:\\ProgramData\\Anaconda3\\Lib\\R\\library\\rlang\\html\\fn_env.html로 복사하는데 문제가 발생했습니다: Permission denied\"Warning message in file.copy(savedcopy, lib, recursive = TRUE):\n",
      "\"C:\\ProgramData\\Anaconda3\\Lib\\R\\library\\00LOCK\\rlang\\html\\fn_fmls.html를 C:\\ProgramData\\Anaconda3\\Lib\\R\\library\\rlang\\html\\fn_fmls.html로 복사하는데 문제가 발생했습니다: Permission denied\"Warning message in file.copy(savedcopy, lib, recursive = TRUE):\n",
      "\"C:\\ProgramData\\Anaconda3\\Lib\\R\\library\\00LOCK\\rlang\\html\\frame_position.html를 C:\\ProgramData\\Anaconda3\\Lib\\R\\library\\rlang\\html\\frame_position.html로 복사하는데 문제가 발생했습니다: Permission denied\"Warning message in file.copy(savedcopy, lib, recursive = TRUE):\n",
      "\"C:\\ProgramData\\Anaconda3\\Lib\\R\\library\\00LOCK\\rlang\\html\\friendly_type.html를 C:\\ProgramData\\Anaconda3\\Lib\\R\\library\\rlang\\html\\friendly_type.html로 복사하는데 문제가 발생했습니다: Permission denied\"Warning message in file.copy(savedcopy, lib, recursive = TRUE):\n",
      "\"C:\\ProgramData\\Anaconda3\\Lib\\R\\library\\00LOCK\\rlang\\html\\f_rhs.html를 C:\\ProgramData\\Anaconda3\\Lib\\R\\library\\rlang\\html\\f_rhs.html로 복사하는데 문제가 발생했습니다: Permission denied\"Warning message in file.copy(savedcopy, lib, recursive = TRUE):\n",
      "\"C:\\ProgramData\\Anaconda3\\Lib\\R\\library\\00LOCK\\rlang\\html\\f_text.html를 C:\\ProgramData\\Anaconda3\\Lib\\R\\library\\rlang\\html\\f_text.html로 복사하는데 문제가 발생했습니다: Permission denied\"Warning message in file.copy(savedcopy, lib, recursive = TRUE):\n",
      "\"C:\\ProgramData\\Anaconda3\\Lib\\R\\library\\00LOCK\\rlang\\html\\get_env.html를 C:\\ProgramData\\Anaconda3\\Lib\\R\\library\\rlang\\html\\get_env.html로 복사하는데 문제가 발생했습니다: Permission denied\"Warning message in file.copy(savedcopy, lib, recursive = TRUE):\n",
      "\"C:\\ProgramData\\Anaconda3\\Lib\\R\\library\\00LOCK\\rlang\\html\\has_length.html를 C:\\ProgramData\\Anaconda3\\Lib\\R\\library\\rlang\\html\\has_length.html로 복사하는데 문제가 발생했습니다: Permission denied\"Warning message in file.copy(savedcopy, lib, recursive = TRUE):\n",
      "\"C:\\ProgramData\\Anaconda3\\Lib\\R\\library\\00LOCK\\rlang\\html\\has_name.html를 C:\\ProgramData\\Anaconda3\\Lib\\R\\library\\rlang\\html\\has_name.html로 복사하는데 문제가 발생했습니다: Permission denied\"Warning message in file.copy(savedcopy, lib, recursive = TRUE):\n",
      "\"C:\\ProgramData\\Anaconda3\\Lib\\R\\library\\00LOCK\\rlang\\html\\inherits_any.html를 C:\\ProgramData\\Anaconda3\\Lib\\R\\library\\rlang\\html\\inherits_any.html로 복사하는데 문제가 발생했습니다: Permission denied\"Warning message in file.copy(savedcopy, lib, recursive = TRUE):\n"
     ]
    },
    {
     "name": "stderr",
     "output_type": "stream",
     "text": [
      "\"C:\\ProgramData\\Anaconda3\\Lib\\R\\library\\00LOCK\\rlang\\html\\invoke.html를 C:\\ProgramData\\Anaconda3\\Lib\\R\\library\\rlang\\html\\invoke.html로 복사하는데 문제가 발생했습니다: Permission denied\"Warning message in file.copy(savedcopy, lib, recursive = TRUE):\n",
      "\"C:\\ProgramData\\Anaconda3\\Lib\\R\\library\\00LOCK\\rlang\\html\\is_call.html를 C:\\ProgramData\\Anaconda3\\Lib\\R\\library\\rlang\\html\\is_call.html로 복사하는데 문제가 발생했습니다: Permission denied\"Warning message in file.copy(savedcopy, lib, recursive = TRUE):\n",
      "\"C:\\ProgramData\\Anaconda3\\Lib\\R\\library\\00LOCK\\rlang\\html\\is_callable.html를 C:\\ProgramData\\Anaconda3\\Lib\\R\\library\\rlang\\html\\is_callable.html로 복사하는데 문제가 발생했습니다: Permission denied\"Warning message in file.copy(savedcopy, lib, recursive = TRUE):\n",
      "\"C:\\ProgramData\\Anaconda3\\Lib\\R\\library\\00LOCK\\rlang\\html\\is_condition.html를 C:\\ProgramData\\Anaconda3\\Lib\\R\\library\\rlang\\html\\is_condition.html로 복사하는데 문제가 발생했습니다: Permission denied\"Warning message in file.copy(savedcopy, lib, recursive = TRUE):\n",
      "\"C:\\ProgramData\\Anaconda3\\Lib\\R\\library\\00LOCK\\rlang\\html\\is_copyable.html를 C:\\ProgramData\\Anaconda3\\Lib\\R\\library\\rlang\\html\\is_copyable.html로 복사하는데 문제가 발생했습니다: Permission denied\"Warning message in file.copy(savedcopy, lib, recursive = TRUE):\n",
      "\"C:\\ProgramData\\Anaconda3\\Lib\\R\\library\\00LOCK\\rlang\\html\\is_empty.html를 C:\\ProgramData\\Anaconda3\\Lib\\R\\library\\rlang\\html\\is_empty.html로 복사하는데 문제가 발생했습니다: Permission denied\"Warning message in file.copy(savedcopy, lib, recursive = TRUE):\n",
      "\"C:\\ProgramData\\Anaconda3\\Lib\\R\\library\\00LOCK\\rlang\\html\\is_env.html를 C:\\ProgramData\\Anaconda3\\Lib\\R\\library\\rlang\\html\\is_env.html로 복사하는데 문제가 발생했습니다: Permission denied\"Warning message in file.copy(savedcopy, lib, recursive = TRUE):\n",
      "\"C:\\ProgramData\\Anaconda3\\Lib\\R\\library\\00LOCK\\rlang\\html\\is_environment.html를 C:\\ProgramData\\Anaconda3\\Lib\\R\\library\\rlang\\html\\is_environment.html로 복사하는데 문제가 발생했습니다: Permission denied\"Warning message in file.copy(savedcopy, lib, recursive = TRUE):\n",
      "\"C:\\ProgramData\\Anaconda3\\Lib\\R\\library\\00LOCK\\rlang\\html\\is_expr.html를 C:\\ProgramData\\Anaconda3\\Lib\\R\\library\\rlang\\html\\is_expr.html로 복사하는데 문제가 발생했습니다: Permission denied\"Warning message in file.copy(savedcopy, lib, recursive = TRUE):\n",
      "\"C:\\ProgramData\\Anaconda3\\Lib\\R\\library\\00LOCK\\rlang\\html\\is_expression.html를 C:\\ProgramData\\Anaconda3\\Lib\\R\\library\\rlang\\html\\is_expression.html로 복사하는데 문제가 발생했습니다: Permission denied\"Warning message in file.copy(savedcopy, lib, recursive = TRUE):\n",
      "\"C:\\ProgramData\\Anaconda3\\Lib\\R\\library\\00LOCK\\rlang\\html\\is_formula.html를 C:\\ProgramData\\Anaconda3\\Lib\\R\\library\\rlang\\html\\is_formula.html로 복사하는데 문제가 발생했습니다: Permission denied\"Warning message in file.copy(savedcopy, lib, recursive = TRUE):\n",
      "\"C:\\ProgramData\\Anaconda3\\Lib\\R\\library\\00LOCK\\rlang\\html\\is_frame.html를 C:\\ProgramData\\Anaconda3\\Lib\\R\\library\\rlang\\html\\is_frame.html로 복사하는데 문제가 발생했습니다: Permission denied\"Warning message in file.copy(savedcopy, lib, recursive = TRUE):\n",
      "\"C:\\ProgramData\\Anaconda3\\Lib\\R\\library\\00LOCK\\rlang\\html\\is_function.html를 C:\\ProgramData\\Anaconda3\\Lib\\R\\library\\rlang\\html\\is_function.html로 복사하는데 문제가 발생했습니다: Permission denied\"Warning message in file.copy(savedcopy, lib, recursive = TRUE):\n",
      "\"C:\\ProgramData\\Anaconda3\\Lib\\R\\library\\00LOCK\\rlang\\html\\is_installed.html를 C:\\ProgramData\\Anaconda3\\Lib\\R\\library\\rlang\\html\\is_installed.html로 복사하는데 문제가 발생했습니다: Permission denied\"Warning message in file.copy(savedcopy, lib, recursive = TRUE):\n",
      "\"C:\\ProgramData\\Anaconda3\\Lib\\R\\library\\00LOCK\\rlang\\html\\is_integerish.html를 C:\\ProgramData\\Anaconda3\\Lib\\R\\library\\rlang\\html\\is_integerish.html로 복사하는데 문제가 발생했습니다: Permission denied\"Warning message in file.copy(savedcopy, lib, recursive = TRUE):\n",
      "\"C:\\ProgramData\\Anaconda3\\Lib\\R\\library\\00LOCK\\rlang\\html\\is_interactive.html를 C:\\ProgramData\\Anaconda3\\Lib\\R\\library\\rlang\\html\\is_interactive.html로 복사하는데 문제가 발생했습니다: Permission denied\"Warning message in file.copy(savedcopy, lib, recursive = TRUE):\n",
      "\"C:\\ProgramData\\Anaconda3\\Lib\\R\\library\\00LOCK\\rlang\\html\\is_lang.html를 C:\\ProgramData\\Anaconda3\\Lib\\R\\library\\rlang\\html\\is_lang.html로 복사하는데 문제가 발생했습니다: Permission denied\"Warning message in file.copy(savedcopy, lib, recursive = TRUE):\n",
      "\"C:\\ProgramData\\Anaconda3\\Lib\\R\\library\\00LOCK\\rlang\\html\\is_named.html를 C:\\ProgramData\\Anaconda3\\Lib\\R\\library\\rlang\\html\\is_named.html로 복사하는데 문제가 발생했습니다: Permission denied\"Warning message in file.copy(savedcopy, lib, recursive = TRUE):\n",
      "\"C:\\ProgramData\\Anaconda3\\Lib\\R\\library\\00LOCK\\rlang\\html\\is_namespace.html를 C:\\ProgramData\\Anaconda3\\Lib\\R\\library\\rlang\\html\\is_namespace.html로 복사하는데 문제가 발생했습니다: Permission denied\"Warning message in file.copy(savedcopy, lib, recursive = TRUE):\n",
      "\"C:\\ProgramData\\Anaconda3\\Lib\\R\\library\\00LOCK\\rlang\\html\\is_pairlist.html를 C:\\ProgramData\\Anaconda3\\Lib\\R\\library\\rlang\\html\\is_pairlist.html로 복사하는데 문제가 발생했습니다: Permission denied\"Warning message in file.copy(savedcopy, lib, recursive = TRUE):\n",
      "\"C:\\ProgramData\\Anaconda3\\Lib\\R\\library\\00LOCK\\rlang\\html\\is_quosureish.html를 C:\\ProgramData\\Anaconda3\\Lib\\R\\library\\rlang\\html\\is_quosureish.html로 복사하는데 문제가 발생했습니다: Permission denied\"Warning message in file.copy(savedcopy, lib, recursive = TRUE):\n",
      "\"C:\\ProgramData\\Anaconda3\\Lib\\R\\library\\00LOCK\\rlang\\html\\is_reference.html를 C:\\ProgramData\\Anaconda3\\Lib\\R\\library\\rlang\\html\\is_reference.html로 복사하는데 문제가 발생했습니다: Permission denied\"Warning message in file.copy(savedcopy, lib, recursive = TRUE):\n",
      "\"C:\\ProgramData\\Anaconda3\\Lib\\R\\library\\00LOCK\\rlang\\html\\is_stack.html를 C:\\ProgramData\\Anaconda3\\Lib\\R\\library\\rlang\\html\\is_stack.html로 복사하는데 문제가 발생했습니다: Permission denied\"Warning message in file.copy(savedcopy, lib, recursive = TRUE):\n",
      "\"C:\\ProgramData\\Anaconda3\\Lib\\R\\library\\00LOCK\\rlang\\html\\is_symbol.html를 C:\\ProgramData\\Anaconda3\\Lib\\R\\library\\rlang\\html\\is_symbol.html로 복사하는데 문제가 발생했습니다: Permission denied\"Warning message in file.copy(savedcopy, lib, recursive = TRUE):\n",
      "\"C:\\ProgramData\\Anaconda3\\Lib\\R\\library\\00LOCK\\rlang\\html\\is_true.html를 C:\\ProgramData\\Anaconda3\\Lib\\R\\library\\rlang\\html\\is_true.html로 복사하는데 문제가 발생했습니다: Permission denied\"Warning message in file.copy(savedcopy, lib, recursive = TRUE):\n",
      "\"C:\\ProgramData\\Anaconda3\\Lib\\R\\library\\00LOCK\\rlang\\html\\lang.html를 C:\\ProgramData\\Anaconda3\\Lib\\R\\library\\rlang\\html\\lang.html로 복사하는데 문제가 발생했습니다: Permission denied\"Warning message in file.copy(savedcopy, lib, recursive = TRUE):\n",
      "\"C:\\ProgramData\\Anaconda3\\Lib\\R\\library\\00LOCK\\rlang\\html\\lang_head.html를 C:\\ProgramData\\Anaconda3\\Lib\\R\\library\\rlang\\html\\lang_head.html로 복사하는데 문제가 발생했습니다: Permission denied\"Warning message in file.copy(savedcopy, lib, recursive = TRUE):\n",
      "\"C:\\ProgramData\\Anaconda3\\Lib\\R\\library\\00LOCK\\rlang\\html\\lang_modify.html를 C:\\ProgramData\\Anaconda3\\Lib\\R\\library\\rlang\\html\\lang_modify.html로 복사하는데 문제가 발생했습니다: Permission denied\"Warning message in file.copy(savedcopy, lib, recursive = TRUE):\n",
      "\"C:\\ProgramData\\Anaconda3\\Lib\\R\\library\\00LOCK\\rlang\\html\\last_error.html를 C:\\ProgramData\\Anaconda3\\Lib\\R\\library\\rlang\\html\\last_error.html로 복사하는데 문제가 발생했습니다: Permission denied\"Warning message in file.copy(savedcopy, lib, recursive = TRUE):\n",
      "\"C:\\ProgramData\\Anaconda3\\Lib\\R\\library\\00LOCK\\rlang\\html\\lifecycle.html를 C:\\ProgramData\\Anaconda3\\Lib\\R\\library\\rlang\\html\\lifecycle.html로 복사하는데 문제가 발생했습니다: Permission denied\"Warning message in file.copy(savedcopy, lib, recursive = TRUE):\n",
      "\"C:\\ProgramData\\Anaconda3\\Lib\\R\\library\\00LOCK\\rlang\\html\\missing.html를 C:\\ProgramData\\Anaconda3\\Lib\\R\\library\\rlang\\html\\missing.html로 복사하는데 문제가 발생했습니다: Permission denied\"Warning message in file.copy(savedcopy, lib, recursive = TRUE):\n",
      "\"C:\\ProgramData\\Anaconda3\\Lib\\R\\library\\00LOCK\\rlang\\html\\missing_arg.html를 C:\\ProgramData\\Anaconda3\\Lib\\R\\library\\rlang\\html\\missing_arg.html로 복사하는데 문제가 발생했습니다: Permission denied\"Warning message in file.copy(savedcopy, lib, recursive = TRUE):\n",
      "\"C:\\ProgramData\\Anaconda3\\Lib\\R\\library\\00LOCK\\rlang\\html\\modify.html를 C:\\ProgramData\\Anaconda3\\Lib\\R\\library\\rlang\\html\\modify.html로 복사하는데 문제가 발생했습니다: Permission denied\"Warning message in file.copy(savedcopy, lib, recursive = TRUE):\n",
      "\"C:\\ProgramData\\Anaconda3\\Lib\\R\\library\\00LOCK\\rlang\\html\\mut_node_car.html를 C:\\ProgramData\\Anaconda3\\Lib\\R\\library\\rlang\\html\\mut_node_car.html로 복사하는데 문제가 발생했습니다: Permission denied\"Warning message in file.copy(savedcopy, lib, recursive = TRUE):\n"
     ]
    },
    {
     "name": "stderr",
     "output_type": "stream",
     "text": [
      "\"C:\\ProgramData\\Anaconda3\\Lib\\R\\library\\00LOCK\\rlang\\html\\mut_utf8_locale.html를 C:\\ProgramData\\Anaconda3\\Lib\\R\\library\\rlang\\html\\mut_utf8_locale.html로 복사하는데 문제가 발생했습니다: Permission denied\"Warning message in file.copy(savedcopy, lib, recursive = TRUE):\n",
      "\"C:\\ProgramData\\Anaconda3\\Lib\\R\\library\\00LOCK\\rlang\\html\\names2.html를 C:\\ProgramData\\Anaconda3\\Lib\\R\\library\\rlang\\html\\names2.html로 복사하는데 문제가 발생했습니다: Permission denied\"Warning message in file.copy(savedcopy, lib, recursive = TRUE):\n",
      "\"C:\\ProgramData\\Anaconda3\\Lib\\R\\library\\00LOCK\\rlang\\html\\new-vector-along-retired.html를 C:\\ProgramData\\Anaconda3\\Lib\\R\\library\\rlang\\html\\new-vector-along-retired.html로 복사하는데 문제가 발생했습니다: Permission denied\"Warning message in file.copy(savedcopy, lib, recursive = TRUE):\n",
      "\"C:\\ProgramData\\Anaconda3\\Lib\\R\\library\\00LOCK\\rlang\\html\\new-vector.html를 C:\\ProgramData\\Anaconda3\\Lib\\R\\library\\rlang\\html\\new-vector.html로 복사하는데 문제가 발생했습니다: Permission denied\"Warning message in file.copy(savedcopy, lib, recursive = TRUE):\n",
      "\"C:\\ProgramData\\Anaconda3\\Lib\\R\\library\\00LOCK\\rlang\\html\\new_call.html를 C:\\ProgramData\\Anaconda3\\Lib\\R\\library\\rlang\\html\\new_call.html로 복사하는데 문제가 발생했습니다: Permission denied\"Warning message in file.copy(savedcopy, lib, recursive = TRUE):\n",
      "\"C:\\ProgramData\\Anaconda3\\Lib\\R\\library\\00LOCK\\rlang\\html\\new_formula.html를 C:\\ProgramData\\Anaconda3\\Lib\\R\\library\\rlang\\html\\new_formula.html로 복사하는데 문제가 발생했습니다: Permission denied\"Warning message in file.copy(savedcopy, lib, recursive = TRUE):\n",
      "\"C:\\ProgramData\\Anaconda3\\Lib\\R\\library\\00LOCK\\rlang\\html\\new_function.html를 C:\\ProgramData\\Anaconda3\\Lib\\R\\library\\rlang\\html\\new_function.html로 복사하는데 문제가 발생했습니다: Permission denied\"Warning message in file.copy(savedcopy, lib, recursive = TRUE):\n",
      "\"C:\\ProgramData\\Anaconda3\\Lib\\R\\library\\00LOCK\\rlang\\html\\new_node.html를 C:\\ProgramData\\Anaconda3\\Lib\\R\\library\\rlang\\html\\new_node.html로 복사하는데 문제가 발생했습니다: Permission denied\"Warning message in file.copy(savedcopy, lib, recursive = TRUE):\n",
      "\"C:\\ProgramData\\Anaconda3\\Lib\\R\\library\\00LOCK\\rlang\\html\\new_quosures.html를 C:\\ProgramData\\Anaconda3\\Lib\\R\\library\\rlang\\html\\new_quosures.html로 복사하는데 문제가 발생했습니다: Permission denied\"Warning message in file.copy(savedcopy, lib, recursive = TRUE):\n",
      "\"C:\\ProgramData\\Anaconda3\\Lib\\R\\library\\00LOCK\\rlang\\html\\ns_env.html를 C:\\ProgramData\\Anaconda3\\Lib\\R\\library\\rlang\\html\\ns_env.html로 복사하는데 문제가 발생했습니다: Permission denied\"Warning message in file.copy(savedcopy, lib, recursive = TRUE):\n",
      "\"C:\\ProgramData\\Anaconda3\\Lib\\R\\library\\00LOCK\\rlang\\html\\op-definition.html를 C:\\ProgramData\\Anaconda3\\Lib\\R\\library\\rlang\\html\\op-definition.html로 복사하는데 문제가 발생했습니다: Permission denied\"Warning message in file.copy(savedcopy, lib, recursive = TRUE):\n",
      "\"C:\\ProgramData\\Anaconda3\\Lib\\R\\library\\00LOCK\\rlang\\html\\op-get-attr.html를 C:\\ProgramData\\Anaconda3\\Lib\\R\\library\\rlang\\html\\op-get-attr.html로 복사하는데 문제가 발생했습니다: Permission denied\"Warning message in file.copy(savedcopy, lib, recursive = TRUE):\n",
      "\"C:\\ProgramData\\Anaconda3\\Lib\\R\\library\\00LOCK\\rlang\\html\\op-na-default.html를 C:\\ProgramData\\Anaconda3\\Lib\\R\\library\\rlang\\html\\op-na-default.html로 복사하는데 문제가 발생했습니다: Permission denied\"Warning message in file.copy(savedcopy, lib, recursive = TRUE):\n",
      "\"C:\\ProgramData\\Anaconda3\\Lib\\R\\library\\00LOCK\\rlang\\html\\op-null-default.html를 C:\\ProgramData\\Anaconda3\\Lib\\R\\library\\rlang\\html\\op-null-default.html로 복사하는데 문제가 발생했습니다: Permission denied\"Warning message in file.copy(savedcopy, lib, recursive = TRUE):\n",
      "\"C:\\ProgramData\\Anaconda3\\Lib\\R\\library\\00LOCK\\rlang\\html\\overscope_eval_next.html를 C:\\ProgramData\\Anaconda3\\Lib\\R\\library\\rlang\\html\\overscope_eval_next.html로 복사하는데 문제가 발생했습니다: Permission denied\"Warning message in file.copy(savedcopy, lib, recursive = TRUE):\n",
      "\"C:\\ProgramData\\Anaconda3\\Lib\\R\\library\\00LOCK\\rlang\\html\\parse_expr.html를 C:\\ProgramData\\Anaconda3\\Lib\\R\\library\\rlang\\html\\parse_expr.html로 복사하는데 문제가 발생했습니다: Permission denied\"Warning message in file.copy(savedcopy, lib, recursive = TRUE):\n",
      "\"C:\\ProgramData\\Anaconda3\\Lib\\R\\library\\00LOCK\\rlang\\html\\parse_quosure.html를 C:\\ProgramData\\Anaconda3\\Lib\\R\\library\\rlang\\html\\parse_quosure.html로 복사하는데 문제가 발생했습니다: Permission denied\"Warning message in file.copy(savedcopy, lib, recursive = TRUE):\n",
      "\"C:\\ProgramData\\Anaconda3\\Lib\\R\\library\\00LOCK\\rlang\\html\\prepend.html를 C:\\ProgramData\\Anaconda3\\Lib\\R\\library\\rlang\\html\\prepend.html로 복사하는데 문제가 발생했습니다: Permission denied\"Warning message in file.copy(savedcopy, lib, recursive = TRUE):\n",
      "\"C:\\ProgramData\\Anaconda3\\Lib\\R\\library\\00LOCK\\rlang\\html\\prim_name.html를 C:\\ProgramData\\Anaconda3\\Lib\\R\\library\\rlang\\html\\prim_name.html로 복사하는데 문제가 발생했습니다: Permission denied\"Warning message in file.copy(savedcopy, lib, recursive = TRUE):\n",
      "\"C:\\ProgramData\\Anaconda3\\Lib\\R\\library\\00LOCK\\rlang\\html\\quasiquotation.html를 C:\\ProgramData\\Anaconda3\\Lib\\R\\library\\rlang\\html\\quasiquotation.html로 복사하는데 문제가 발생했습니다: Permission denied\"Warning message in file.copy(savedcopy, lib, recursive = TRUE):\n",
      "\"C:\\ProgramData\\Anaconda3\\Lib\\R\\library\\00LOCK\\rlang\\html\\quosure.html를 C:\\ProgramData\\Anaconda3\\Lib\\R\\library\\rlang\\html\\quosure.html로 복사하는데 문제가 발생했습니다: Permission denied\"Warning message in file.copy(savedcopy, lib, recursive = TRUE):\n",
      "\"C:\\ProgramData\\Anaconda3\\Lib\\R\\library\\00LOCK\\rlang\\html\\quotation.html를 C:\\ProgramData\\Anaconda3\\Lib\\R\\library\\rlang\\html\\quotation.html로 복사하는데 문제가 발생했습니다: Permission denied\"Warning message in file.copy(savedcopy, lib, recursive = TRUE):\n",
      "\"C:\\ProgramData\\Anaconda3\\Lib\\R\\library\\00LOCK\\rlang\\html\\quo_expr.html를 C:\\ProgramData\\Anaconda3\\Lib\\R\\library\\rlang\\html\\quo_expr.html로 복사하는데 문제가 발생했습니다: Permission denied\"Warning message in file.copy(savedcopy, lib, recursive = TRUE):\n",
      "\"C:\\ProgramData\\Anaconda3\\Lib\\R\\library\\00LOCK\\rlang\\html\\quo_label.html를 C:\\ProgramData\\Anaconda3\\Lib\\R\\library\\rlang\\html\\quo_label.html로 복사하는데 문제가 발생했습니다: Permission denied\"Warning message in file.copy(savedcopy, lib, recursive = TRUE):\n",
      "\"C:\\ProgramData\\Anaconda3\\Lib\\R\\library\\00LOCK\\rlang\\html\\quo_squash.html를 C:\\ProgramData\\Anaconda3\\Lib\\R\\library\\rlang\\html\\quo_squash.html로 복사하는데 문제가 발생했습니다: Permission denied\"Warning message in file.copy(savedcopy, lib, recursive = TRUE):\n",
      "\"C:\\ProgramData\\Anaconda3\\Lib\\R\\library\\00LOCK\\rlang\\html\\R.css를 C:\\ProgramData\\Anaconda3\\Lib\\R\\library\\rlang\\html\\R.css로 복사하는데 문제가 발생했습니다: Permission denied\"Warning message in file.copy(savedcopy, lib, recursive = TRUE):\n",
      "\"C:\\ProgramData\\Anaconda3\\Lib\\R\\library\\00LOCK\\rlang\\html\\rep_along.html를 C:\\ProgramData\\Anaconda3\\Lib\\R\\library\\rlang\\html\\rep_along.html로 복사하는데 문제가 발생했습니다: Permission denied\"Warning message in file.copy(savedcopy, lib, recursive = TRUE):\n",
      "\"C:\\ProgramData\\Anaconda3\\Lib\\R\\library\\00LOCK\\rlang\\html\\restarting.html를 C:\\ProgramData\\Anaconda3\\Lib\\R\\library\\rlang\\html\\restarting.html로 복사하는데 문제가 발생했습니다: Permission denied\"Warning message in file.copy(savedcopy, lib, recursive = TRUE):\n",
      "\"C:\\ProgramData\\Anaconda3\\Lib\\R\\library\\00LOCK\\rlang\\html\\return_from.html를 C:\\ProgramData\\Anaconda3\\Lib\\R\\library\\rlang\\html\\return_from.html로 복사하는데 문제가 발생했습니다: Permission denied\"Warning message in file.copy(savedcopy, lib, recursive = TRUE):\n",
      "\"C:\\ProgramData\\Anaconda3\\Lib\\R\\library\\00LOCK\\rlang\\html\\rlang_backtrace_on_error.html를 C:\\ProgramData\\Anaconda3\\Lib\\R\\library\\rlang\\html\\rlang_backtrace_on_error.html로 복사하는데 문제가 발생했습니다: Permission denied\"Warning message in file.copy(savedcopy, lib, recursive = TRUE):\n",
      "\"C:\\ProgramData\\Anaconda3\\Lib\\R\\library\\00LOCK\\rlang\\html\\rst_abort.html를 C:\\ProgramData\\Anaconda3\\Lib\\R\\library\\rlang\\html\\rst_abort.html로 복사하는데 문제가 발생했습니다: Permission denied\"Warning message in file.copy(savedcopy, lib, recursive = TRUE):\n",
      "\"C:\\ProgramData\\Anaconda3\\Lib\\R\\library\\00LOCK\\rlang\\html\\rst_list.html를 C:\\ProgramData\\Anaconda3\\Lib\\R\\library\\rlang\\html\\rst_list.html로 복사하는데 문제가 발생했습니다: Permission denied\"Warning message in file.copy(savedcopy, lib, recursive = TRUE):\n",
      "\"C:\\ProgramData\\Anaconda3\\Lib\\R\\library\\00LOCK\\rlang\\html\\scalar-type-predicates.html를 C:\\ProgramData\\Anaconda3\\Lib\\R\\library\\rlang\\html\\scalar-type-predicates.html로 복사하는데 문제가 발생했습니다: Permission denied\"Warning message in file.copy(savedcopy, lib, recursive = TRUE):\n"
     ]
    },
    {
     "name": "stderr",
     "output_type": "stream",
     "text": [
      "\"C:\\ProgramData\\Anaconda3\\Lib\\R\\library\\00LOCK\\rlang\\html\\scoped_bindings.html를 C:\\ProgramData\\Anaconda3\\Lib\\R\\library\\rlang\\html\\scoped_bindings.html로 복사하는데 문제가 발생했습니다: Permission denied\"Warning message in file.copy(savedcopy, lib, recursive = TRUE):\n",
      "\"C:\\ProgramData\\Anaconda3\\Lib\\R\\library\\00LOCK\\rlang\\html\\scoped_env.html를 C:\\ProgramData\\Anaconda3\\Lib\\R\\library\\rlang\\html\\scoped_env.html로 복사하는데 문제가 발생했습니다: Permission denied\"Warning message in file.copy(savedcopy, lib, recursive = TRUE):\n",
      "\"C:\\ProgramData\\Anaconda3\\Lib\\R\\library\\00LOCK\\rlang\\html\\scoped_options.html를 C:\\ProgramData\\Anaconda3\\Lib\\R\\library\\rlang\\html\\scoped_options.html로 복사하는데 문제가 발생했습니다: Permission denied\"Warning message in file.copy(savedcopy, lib, recursive = TRUE):\n",
      "\"C:\\ProgramData\\Anaconda3\\Lib\\R\\library\\00LOCK\\rlang\\html\\search_envs.html를 C:\\ProgramData\\Anaconda3\\Lib\\R\\library\\rlang\\html\\search_envs.html로 복사하는데 문제가 발생했습니다: Permission denied\"Warning message in file.copy(savedcopy, lib, recursive = TRUE):\n",
      "\"C:\\ProgramData\\Anaconda3\\Lib\\R\\library\\00LOCK\\rlang\\html\\seq2.html를 C:\\ProgramData\\Anaconda3\\Lib\\R\\library\\rlang\\html\\seq2.html로 복사하는데 문제가 발생했습니다: Permission denied\"Warning message in file.copy(savedcopy, lib, recursive = TRUE):\n",
      "\"C:\\ProgramData\\Anaconda3\\Lib\\R\\library\\00LOCK\\rlang\\html\\set_attrs.html를 C:\\ProgramData\\Anaconda3\\Lib\\R\\library\\rlang\\html\\set_attrs.html로 복사하는데 문제가 발생했습니다: Permission denied\"Warning message in file.copy(savedcopy, lib, recursive = TRUE):\n",
      "\"C:\\ProgramData\\Anaconda3\\Lib\\R\\library\\00LOCK\\rlang\\html\\set_chr_encoding.html를 C:\\ProgramData\\Anaconda3\\Lib\\R\\library\\rlang\\html\\set_chr_encoding.html로 복사하는데 문제가 발생했습니다: Permission denied\"Warning message in file.copy(savedcopy, lib, recursive = TRUE):\n",
      "\"C:\\ProgramData\\Anaconda3\\Lib\\R\\library\\00LOCK\\rlang\\html\\set_expr.html를 C:\\ProgramData\\Anaconda3\\Lib\\R\\library\\rlang\\html\\set_expr.html로 복사하는데 문제가 발생했습니다: Permission denied\"Warning message in file.copy(savedcopy, lib, recursive = TRUE):\n",
      "\"C:\\ProgramData\\Anaconda3\\Lib\\R\\library\\00LOCK\\rlang\\html\\set_names.html를 C:\\ProgramData\\Anaconda3\\Lib\\R\\library\\rlang\\html\\set_names.html로 복사하는데 문제가 발생했습니다: Permission denied\"Warning message in file.copy(savedcopy, lib, recursive = TRUE):\n",
      "\"C:\\ProgramData\\Anaconda3\\Lib\\R\\library\\00LOCK\\rlang\\html\\splice.html를 C:\\ProgramData\\Anaconda3\\Lib\\R\\library\\rlang\\html\\splice.html로 복사하는데 문제가 발생했습니다: Permission denied\"Warning message in file.copy(savedcopy, lib, recursive = TRUE):\n",
      "\"C:\\ProgramData\\Anaconda3\\Lib\\R\\library\\00LOCK\\rlang\\html\\stack.html를 C:\\ProgramData\\Anaconda3\\Lib\\R\\library\\rlang\\html\\stack.html로 복사하는데 문제가 발생했습니다: Permission denied\"Warning message in file.copy(savedcopy, lib, recursive = TRUE):\n",
      "\"C:\\ProgramData\\Anaconda3\\Lib\\R\\library\\00LOCK\\rlang\\html\\stack_trim.html를 C:\\ProgramData\\Anaconda3\\Lib\\R\\library\\rlang\\html\\stack_trim.html로 복사하는데 문제가 발생했습니다: Permission denied\"Warning message in file.copy(savedcopy, lib, recursive = TRUE):\n",
      "\"C:\\ProgramData\\Anaconda3\\Lib\\R\\library\\00LOCK\\rlang\\html\\string.html를 C:\\ProgramData\\Anaconda3\\Lib\\R\\library\\rlang\\html\\string.html로 복사하는데 문제가 발생했습니다: Permission denied\"Warning message in file.copy(savedcopy, lib, recursive = TRUE):\n",
      "\"C:\\ProgramData\\Anaconda3\\Lib\\R\\library\\00LOCK\\rlang\\html\\switch_lang.html를 C:\\ProgramData\\Anaconda3\\Lib\\R\\library\\rlang\\html\\switch_lang.html로 복사하는데 문제가 발생했습니다: Permission denied\"Warning message in file.copy(savedcopy, lib, recursive = TRUE):\n",
      "\"C:\\ProgramData\\Anaconda3\\Lib\\R\\library\\00LOCK\\rlang\\html\\switch_type.html를 C:\\ProgramData\\Anaconda3\\Lib\\R\\library\\rlang\\html\\switch_type.html로 복사하는데 문제가 발생했습니다: Permission denied\"Warning message in file.copy(savedcopy, lib, recursive = TRUE):\n",
      "\"C:\\ProgramData\\Anaconda3\\Lib\\R\\library\\00LOCK\\rlang\\html\\sym.html를 C:\\ProgramData\\Anaconda3\\Lib\\R\\library\\rlang\\html\\sym.html로 복사하는데 문제가 발생했습니다: Permission denied\"Warning message in file.copy(savedcopy, lib, recursive = TRUE):\n",
      "\"C:\\ProgramData\\Anaconda3\\Lib\\R\\library\\00LOCK\\rlang\\html\\tidy-dots.html를 C:\\ProgramData\\Anaconda3\\Lib\\R\\library\\rlang\\html\\tidy-dots.html로 복사하는데 문제가 발생했습니다: Permission denied\"Warning message in file.copy(savedcopy, lib, recursive = TRUE):\n",
      "\"C:\\ProgramData\\Anaconda3\\Lib\\R\\library\\00LOCK\\rlang\\html\\tidyeval-data.html를 C:\\ProgramData\\Anaconda3\\Lib\\R\\library\\rlang\\html\\tidyeval-data.html로 복사하는데 문제가 발생했습니다: Permission denied\"Warning message in file.copy(savedcopy, lib, recursive = TRUE):\n",
      "\"C:\\ProgramData\\Anaconda3\\Lib\\R\\library\\00LOCK\\rlang\\html\\trace_back.html를 C:\\ProgramData\\Anaconda3\\Lib\\R\\library\\rlang\\html\\trace_back.html로 복사하는데 문제가 발생했습니다: Permission denied\"Warning message in file.copy(savedcopy, lib, recursive = TRUE):\n",
      "\"C:\\ProgramData\\Anaconda3\\Lib\\R\\library\\00LOCK\\rlang\\html\\type-predicates.html를 C:\\ProgramData\\Anaconda3\\Lib\\R\\library\\rlang\\html\\type-predicates.html로 복사하는데 문제가 발생했습니다: Permission denied\"Warning message in file.copy(savedcopy, lib, recursive = TRUE):\n",
      "\"C:\\ProgramData\\Anaconda3\\Lib\\R\\library\\00LOCK\\rlang\\html\\type_of.html를 C:\\ProgramData\\Anaconda3\\Lib\\R\\library\\rlang\\html\\type_of.html로 복사하는데 문제가 발생했습니다: Permission denied\"Warning message in file.copy(savedcopy, lib, recursive = TRUE):\n",
      "\"C:\\ProgramData\\Anaconda3\\Lib\\R\\library\\00LOCK\\rlang\\html\\UQE.html를 C:\\ProgramData\\Anaconda3\\Lib\\R\\library\\rlang\\html\\UQE.html로 복사하는데 문제가 발생했습니다: Permission denied\"Warning message in file.copy(savedcopy, lib, recursive = TRUE):\n",
      "\"C:\\ProgramData\\Anaconda3\\Lib\\R\\library\\00LOCK\\rlang\\html\\vector-coercion.html를 C:\\ProgramData\\Anaconda3\\Lib\\R\\library\\rlang\\html\\vector-coercion.html로 복사하는데 문제가 발생했습니다: Permission denied\"Warning message in file.copy(savedcopy, lib, recursive = TRUE):\n",
      "\"C:\\ProgramData\\Anaconda3\\Lib\\R\\library\\00LOCK\\rlang\\html\\vector-construction.html를 C:\\ProgramData\\Anaconda3\\Lib\\R\\library\\rlang\\html\\vector-construction.html로 복사하는데 문제가 발생했습니다: Permission denied\"Warning message in file.copy(savedcopy, lib, recursive = TRUE):\n",
      "\"C:\\ProgramData\\Anaconda3\\Lib\\R\\library\\00LOCK\\rlang\\html\\vector-old-ctors.html를 C:\\ProgramData\\Anaconda3\\Lib\\R\\library\\rlang\\html\\vector-old-ctors.html로 복사하는데 문제가 발생했습니다: Permission denied\"Warning message in file.copy(savedcopy, lib, recursive = TRUE):\n",
      "\"C:\\ProgramData\\Anaconda3\\Lib\\R\\library\\00LOCK\\rlang\\html\\vec_poke_n.html를 C:\\ProgramData\\Anaconda3\\Lib\\R\\library\\rlang\\html\\vec_poke_n.html로 복사하는데 문제가 발생했습니다: Permission denied\"Warning message in file.copy(savedcopy, lib, recursive = TRUE):\n",
      "\"C:\\ProgramData\\Anaconda3\\Lib\\R\\library\\00LOCK\\rlang\\html\\with_abort.html를 C:\\ProgramData\\Anaconda3\\Lib\\R\\library\\rlang\\html\\with_abort.html로 복사하는데 문제가 발생했습니다: Permission denied\"Warning message in file.copy(savedcopy, lib, recursive = TRUE):\n",
      "\"C:\\ProgramData\\Anaconda3\\Lib\\R\\library\\00LOCK\\rlang\\html\\with_env.html를 C:\\ProgramData\\Anaconda3\\Lib\\R\\library\\rlang\\html\\with_env.html로 복사하는데 문제가 발생했습니다: Permission denied\"Warning message in file.copy(savedcopy, lib, recursive = TRUE):\n",
      "\"C:\\ProgramData\\Anaconda3\\Lib\\R\\library\\00LOCK\\rlang\\html\\with_handlers.html를 C:\\ProgramData\\Anaconda3\\Lib\\R\\library\\rlang\\html\\with_handlers.html로 복사하는데 문제가 발생했습니다: Permission denied\"Warning message in file.copy(savedcopy, lib, recursive = TRUE):\n",
      "\"C:\\ProgramData\\Anaconda3\\Lib\\R\\library\\00LOCK\\rlang\\html\\with_restarts.html를 C:\\ProgramData\\Anaconda3\\Lib\\R\\library\\rlang\\html\\with_restarts.html로 복사하는데 문제가 발생했습니다: Permission denied\"Warning message in file.copy(savedcopy, lib, recursive = TRUE):\n",
      "\"C:\\ProgramData\\Anaconda3\\Lib\\R\\library\\00LOCK\\rlang\\html\\zap.html를 C:\\ProgramData\\Anaconda3\\Lib\\R\\library\\rlang\\html\\zap.html로 복사하는데 문제가 발생했습니다: Permission denied\"Warning message in file.copy(savedcopy, lib, recursive = TRUE):\n",
      "\"C:\\ProgramData\\Anaconda3\\Lib\\R\\library\\00LOCK\\rlang\\INDEX를 C:\\ProgramData\\Anaconda3\\Lib\\R\\library\\rlang\\INDEX로 복사하는데 문제가 발생했습니다: Permission denied\"Warning message in file.copy(savedcopy, lib, recursive = TRUE):\n",
      "\"C:\\ProgramData\\Anaconda3\\Lib\\R\\library\\00LOCK\\rlang\\libs\\x64\\rlang.dll를 C:\\ProgramData\\Anaconda3\\Lib\\R\\library\\rlang\\libs\\x64\\rlang.dll로 복사하는데 문제가 발생했습니다: Permission denied\"Warning message in file.copy(savedcopy, lib, recursive = TRUE):\n",
      "\"C:\\ProgramData\\Anaconda3\\Lib\\R\\library\\00LOCK\\rlang\\MD5를 C:\\ProgramData\\Anaconda3\\Lib\\R\\library\\rlang\\MD5로 복사하는데 문제가 발생했습니다: Permission denied\"Warning message in file.copy(savedcopy, lib, recursive = TRUE):\n"
     ]
    },
    {
     "name": "stderr",
     "output_type": "stream",
     "text": [
      "\"C:\\ProgramData\\Anaconda3\\Lib\\R\\library\\00LOCK\\rlang\\Meta\\features.rds를 C:\\ProgramData\\Anaconda3\\Lib\\R\\library\\rlang\\Meta\\features.rds로 복사하는데 문제가 발생했습니다: Permission denied\"Warning message in file.copy(savedcopy, lib, recursive = TRUE):\n",
      "\"C:\\ProgramData\\Anaconda3\\Lib\\R\\library\\00LOCK\\rlang\\Meta\\hsearch.rds를 C:\\ProgramData\\Anaconda3\\Lib\\R\\library\\rlang\\Meta\\hsearch.rds로 복사하는데 문제가 발생했습니다: Permission denied\"Warning message in file.copy(savedcopy, lib, recursive = TRUE):\n",
      "\"C:\\ProgramData\\Anaconda3\\Lib\\R\\library\\00LOCK\\rlang\\Meta\\links.rds를 C:\\ProgramData\\Anaconda3\\Lib\\R\\library\\rlang\\Meta\\links.rds로 복사하는데 문제가 발생했습니다: Permission denied\"Warning message in file.copy(savedcopy, lib, recursive = TRUE):\n",
      "\"C:\\ProgramData\\Anaconda3\\Lib\\R\\library\\00LOCK\\rlang\\Meta\\nsInfo.rds를 C:\\ProgramData\\Anaconda3\\Lib\\R\\library\\rlang\\Meta\\nsInfo.rds로 복사하는데 문제가 발생했습니다: Permission denied\"Warning message in file.copy(savedcopy, lib, recursive = TRUE):\n",
      "\"C:\\ProgramData\\Anaconda3\\Lib\\R\\library\\00LOCK\\rlang\\Meta\\package.rds를 C:\\ProgramData\\Anaconda3\\Lib\\R\\library\\rlang\\Meta\\package.rds로 복사하는데 문제가 발생했습니다: Permission denied\"Warning message in file.copy(savedcopy, lib, recursive = TRUE):\n",
      "\"C:\\ProgramData\\Anaconda3\\Lib\\R\\library\\00LOCK\\rlang\\Meta\\Rd.rds를 C:\\ProgramData\\Anaconda3\\Lib\\R\\library\\rlang\\Meta\\Rd.rds로 복사하는데 문제가 발생했습니다: Permission denied\"Warning message in file.copy(savedcopy, lib, recursive = TRUE):\n",
      "\"C:\\ProgramData\\Anaconda3\\Lib\\R\\library\\00LOCK\\rlang\\NAMESPACE를 C:\\ProgramData\\Anaconda3\\Lib\\R\\library\\rlang\\NAMESPACE로 복사하는데 문제가 발생했습니다: Permission denied\"Warning message in file.copy(savedcopy, lib, recursive = TRUE):\n",
      "\"C:\\ProgramData\\Anaconda3\\Lib\\R\\library\\00LOCK\\rlang\\NEWS.md를 C:\\ProgramData\\Anaconda3\\Lib\\R\\library\\rlang\\NEWS.md로 복사하는데 문제가 발생했습니다: Permission denied\"Warning message in file.copy(savedcopy, lib, recursive = TRUE):\n",
      "\"C:\\ProgramData\\Anaconda3\\Lib\\R\\library\\00LOCK\\rlang\\R\\rlang를 C:\\ProgramData\\Anaconda3\\Lib\\R\\library\\rlang\\R\\rlang로 복사하는데 문제가 발생했습니다: Permission denied\"Warning message in file.copy(savedcopy, lib, recursive = TRUE):\n",
      "\"C:\\ProgramData\\Anaconda3\\Lib\\R\\library\\00LOCK\\rlang\\R\\rlang.rdb를 C:\\ProgramData\\Anaconda3\\Lib\\R\\library\\rlang\\R\\rlang.rdb로 복사하는데 문제가 발생했습니다: Permission denied\"Warning message in file.copy(savedcopy, lib, recursive = TRUE):\n",
      "\"C:\\ProgramData\\Anaconda3\\Lib\\R\\library\\00LOCK\\rlang\\R\\rlang.rdx를 C:\\ProgramData\\Anaconda3\\Lib\\R\\library\\rlang\\R\\rlang.rdx로 복사하는데 문제가 발생했습니다: Permission denied\"Warning message:\n",
      "\"restored 'rlang'\""
     ]
    },
    {
     "name": "stdout",
     "output_type": "stream",
     "text": [
      "package 'tibble' successfully unpacked and MD5 sums checked\n"
     ]
    },
    {
     "name": "stderr",
     "output_type": "stream",
     "text": [
      "Warning message:\n",
      "\"cannot remove prior installation of package 'tibble'\"Warning message in file.copy(savedcopy, lib, recursive = TRUE):\n",
      "\"C:\\ProgramData\\Anaconda3\\Lib\\R\\library\\00LOCK\\tibble\\DESCRIPTION를 C:\\ProgramData\\Anaconda3\\Lib\\R\\library\\tibble\\DESCRIPTION로 복사하는데 문제가 발생했습니다: Permission denied\"Warning message in file.copy(savedcopy, lib, recursive = TRUE):\n",
      "\"C:\\ProgramData\\Anaconda3\\Lib\\R\\library\\00LOCK\\tibble\\doc\\extending.html를 C:\\ProgramData\\Anaconda3\\Lib\\R\\library\\tibble\\doc\\extending.html로 복사하는데 문제가 발생했습니다: Permission denied\"Warning message in file.copy(savedcopy, lib, recursive = TRUE):\n",
      "\"C:\\ProgramData\\Anaconda3\\Lib\\R\\library\\00LOCK\\tibble\\doc\\extending.R를 C:\\ProgramData\\Anaconda3\\Lib\\R\\library\\tibble\\doc\\extending.R로 복사하는데 문제가 발생했습니다: Permission denied\"Warning message in file.copy(savedcopy, lib, recursive = TRUE):\n",
      "\"C:\\ProgramData\\Anaconda3\\Lib\\R\\library\\00LOCK\\tibble\\doc\\extending.Rmd를 C:\\ProgramData\\Anaconda3\\Lib\\R\\library\\tibble\\doc\\extending.Rmd로 복사하는데 문제가 발생했습니다: Permission denied\"Warning message in file.copy(savedcopy, lib, recursive = TRUE):\n",
      "\"C:\\ProgramData\\Anaconda3\\Lib\\R\\library\\00LOCK\\tibble\\doc\\index.html를 C:\\ProgramData\\Anaconda3\\Lib\\R\\library\\tibble\\doc\\index.html로 복사하는데 문제가 발생했습니다: Permission denied\"Warning message in file.copy(savedcopy, lib, recursive = TRUE):\n",
      "\"C:\\ProgramData\\Anaconda3\\Lib\\R\\library\\00LOCK\\tibble\\doc\\tibble.html를 C:\\ProgramData\\Anaconda3\\Lib\\R\\library\\tibble\\doc\\tibble.html로 복사하는데 문제가 발생했습니다: Permission denied\"Warning message in file.copy(savedcopy, lib, recursive = TRUE):\n",
      "\"C:\\ProgramData\\Anaconda3\\Lib\\R\\library\\00LOCK\\tibble\\doc\\tibble.R를 C:\\ProgramData\\Anaconda3\\Lib\\R\\library\\tibble\\doc\\tibble.R로 복사하는데 문제가 발생했습니다: Permission denied\"Warning message in file.copy(savedcopy, lib, recursive = TRUE):\n",
      "\"C:\\ProgramData\\Anaconda3\\Lib\\R\\library\\00LOCK\\tibble\\doc\\tibble.Rmd를 C:\\ProgramData\\Anaconda3\\Lib\\R\\library\\tibble\\doc\\tibble.Rmd로 복사하는데 문제가 발생했습니다: Permission denied\"Warning message in file.copy(savedcopy, lib, recursive = TRUE):\n",
      "\"C:\\ProgramData\\Anaconda3\\Lib\\R\\library\\00LOCK\\tibble\\help\\aliases.rds를 C:\\ProgramData\\Anaconda3\\Lib\\R\\library\\tibble\\help\\aliases.rds로 복사하는데 문제가 발생했습니다: Permission denied\"Warning message in file.copy(savedcopy, lib, recursive = TRUE):\n",
      "\"C:\\ProgramData\\Anaconda3\\Lib\\R\\library\\00LOCK\\tibble\\help\\AnIndex를 C:\\ProgramData\\Anaconda3\\Lib\\R\\library\\tibble\\help\\AnIndex로 복사하는데 문제가 발생했습니다: Permission denied\"Warning message in file.copy(savedcopy, lib, recursive = TRUE):\n",
      "\"C:\\ProgramData\\Anaconda3\\Lib\\R\\library\\00LOCK\\tibble\\help\\figures\\lifecycle-archived.svg를 C:\\ProgramData\\Anaconda3\\Lib\\R\\library\\tibble\\help\\figures\\lifecycle-archived.svg로 복사하는데 문제가 발생했습니다: Permission denied\"Warning message in file.copy(savedcopy, lib, recursive = TRUE):\n",
      "\"C:\\ProgramData\\Anaconda3\\Lib\\R\\library\\00LOCK\\tibble\\help\\figures\\lifecycle-defunct.svg를 C:\\ProgramData\\Anaconda3\\Lib\\R\\library\\tibble\\help\\figures\\lifecycle-defunct.svg로 복사하는데 문제가 발생했습니다: Permission denied\"Warning message in file.copy(savedcopy, lib, recursive = TRUE):\n",
      "\"C:\\ProgramData\\Anaconda3\\Lib\\R\\library\\00LOCK\\tibble\\help\\figures\\lifecycle-deprecated.svg를 C:\\ProgramData\\Anaconda3\\Lib\\R\\library\\tibble\\help\\figures\\lifecycle-deprecated.svg로 복사하는데 문제가 발생했습니다: Permission denied\"Warning message in file.copy(savedcopy, lib, recursive = TRUE):\n",
      "\"C:\\ProgramData\\Anaconda3\\Lib\\R\\library\\00LOCK\\tibble\\help\\figures\\lifecycle-experimental.svg를 C:\\ProgramData\\Anaconda3\\Lib\\R\\library\\tibble\\help\\figures\\lifecycle-experimental.svg로 복사하는데 문제가 발생했습니다: Permission denied\"Warning message in file.copy(savedcopy, lib, recursive = TRUE):\n",
      "\"C:\\ProgramData\\Anaconda3\\Lib\\R\\library\\00LOCK\\tibble\\help\\figures\\lifecycle-maturing.svg를 C:\\ProgramData\\Anaconda3\\Lib\\R\\library\\tibble\\help\\figures\\lifecycle-maturing.svg로 복사하는데 문제가 발생했습니다: Permission denied\"Warning message in file.copy(savedcopy, lib, recursive = TRUE):\n",
      "\"C:\\ProgramData\\Anaconda3\\Lib\\R\\library\\00LOCK\\tibble\\help\\figures\\lifecycle-questioning.svg를 C:\\ProgramData\\Anaconda3\\Lib\\R\\library\\tibble\\help\\figures\\lifecycle-questioning.svg로 복사하는데 문제가 발생했습니다: Permission denied\"Warning message in file.copy(savedcopy, lib, recursive = TRUE):\n",
      "\"C:\\ProgramData\\Anaconda3\\Lib\\R\\library\\00LOCK\\tibble\\help\\figures\\lifecycle-soft-deprecated.svg를 C:\\ProgramData\\Anaconda3\\Lib\\R\\library\\tibble\\help\\figures\\lifecycle-soft-deprecated.svg로 복사하는데 문제가 발생했습니다: Permission denied\"Warning message in file.copy(savedcopy, lib, recursive = TRUE):\n",
      "\"C:\\ProgramData\\Anaconda3\\Lib\\R\\library\\00LOCK\\tibble\\help\\figures\\lifecycle-stable.svg를 C:\\ProgramData\\Anaconda3\\Lib\\R\\library\\tibble\\help\\figures\\lifecycle-stable.svg로 복사하는데 문제가 발생했습니다: Permission denied\"Warning message in file.copy(savedcopy, lib, recursive = TRUE):\n",
      "\"C:\\ProgramData\\Anaconda3\\Lib\\R\\library\\00LOCK\\tibble\\help\\figures\\logo.png를 C:\\ProgramData\\Anaconda3\\Lib\\R\\library\\tibble\\help\\figures\\logo.png로 복사하는데 문제가 발생했습니다: Permission denied\"Warning message in file.copy(savedcopy, lib, recursive = TRUE):\n",
      "\"C:\\ProgramData\\Anaconda3\\Lib\\R\\library\\00LOCK\\tibble\\help\\paths.rds를 C:\\ProgramData\\Anaconda3\\Lib\\R\\library\\tibble\\help\\paths.rds로 복사하는데 문제가 발생했습니다: Permission denied\"Warning message in file.copy(savedcopy, lib, recursive = TRUE):\n",
      "\"C:\\ProgramData\\Anaconda3\\Lib\\R\\library\\00LOCK\\tibble\\help\\tibble.rdb를 C:\\ProgramData\\Anaconda3\\Lib\\R\\library\\tibble\\help\\tibble.rdb로 복사하는데 문제가 발생했습니다: Permission denied\"Warning message in file.copy(savedcopy, lib, recursive = TRUE):\n",
      "\"C:\\ProgramData\\Anaconda3\\Lib\\R\\library\\00LOCK\\tibble\\help\\tibble.rdx를 C:\\ProgramData\\Anaconda3\\Lib\\R\\library\\tibble\\help\\tibble.rdx로 복사하는데 문제가 발생했습니다: Permission denied\"Warning message in file.copy(savedcopy, lib, recursive = TRUE):\n",
      "\"C:\\ProgramData\\Anaconda3\\Lib\\R\\library\\00LOCK\\tibble\\html\\00Index.html를 C:\\ProgramData\\Anaconda3\\Lib\\R\\library\\tibble\\html\\00Index.html로 복사하는데 문제가 발생했습니다: Permission denied\"Warning message in file.copy(savedcopy, lib, recursive = TRUE):\n",
      "\"C:\\ProgramData\\Anaconda3\\Lib\\R\\library\\00LOCK\\tibble\\html\\add_column.html를 C:\\ProgramData\\Anaconda3\\Lib\\R\\library\\tibble\\html\\add_column.html로 복사하는데 문제가 발생했습니다: Permission denied\"Warning message in file.copy(savedcopy, lib, recursive = TRUE):\n",
      "\"C:\\ProgramData\\Anaconda3\\Lib\\R\\library\\00LOCK\\tibble\\html\\add_row.html를 C:\\ProgramData\\Anaconda3\\Lib\\R\\library\\tibble\\html\\add_row.html로 복사하는데 문제가 발생했습니다: Permission denied\"Warning message in file.copy(savedcopy, lib, recursive = TRUE):\n",
      "\"C:\\ProgramData\\Anaconda3\\Lib\\R\\library\\00LOCK\\tibble\\html\\as_tibble.html를 C:\\ProgramData\\Anaconda3\\Lib\\R\\library\\tibble\\html\\as_tibble.html로 복사하는데 문제가 발생했습니다: Permission denied\"Warning message in file.copy(savedcopy, lib, recursive = TRUE):\n",
      "\"C:\\ProgramData\\Anaconda3\\Lib\\R\\library\\00LOCK\\tibble\\html\\deprecated.html를 C:\\ProgramData\\Anaconda3\\Lib\\R\\library\\tibble\\html\\deprecated.html로 복사하는데 문제가 발생했습니다: Permission denied\"Warning message in file.copy(savedcopy, lib, recursive = TRUE):\n",
      "\"C:\\ProgramData\\Anaconda3\\Lib\\R\\library\\00LOCK\\tibble\\html\\enframe.html를 C:\\ProgramData\\Anaconda3\\Lib\\R\\library\\tibble\\html\\enframe.html로 복사하는데 문제가 발생했습니다: Permission denied\"Warning message in file.copy(savedcopy, lib, recursive = TRUE):\n",
      "\"C:\\ProgramData\\Anaconda3\\Lib\\R\\library\\00LOCK\\tibble\\html\\formatting.html를 C:\\ProgramData\\Anaconda3\\Lib\\R\\library\\tibble\\html\\formatting.html로 복사하는데 문제가 발생했습니다: Permission denied\"Warning message in file.copy(savedcopy, lib, recursive = TRUE):\n",
      "\"C:\\ProgramData\\Anaconda3\\Lib\\R\\library\\00LOCK\\tibble\\html\\frame_matrix.html를 C:\\ProgramData\\Anaconda3\\Lib\\R\\library\\tibble\\html\\frame_matrix.html로 복사하는데 문제가 발생했습니다: Permission denied\"Warning message in file.copy(savedcopy, lib, recursive = TRUE):\n",
      "\"C:\\ProgramData\\Anaconda3\\Lib\\R\\library\\00LOCK\\tibble\\html\\glimpse.html를 C:\\ProgramData\\Anaconda3\\Lib\\R\\library\\tibble\\html\\glimpse.html로 복사하는데 문제가 발생했습니다: Permission denied\"Warning message in file.copy(savedcopy, lib, recursive = TRUE):\n",
      "\"C:\\ProgramData\\Anaconda3\\Lib\\R\\library\\00LOCK\\tibble\\html\\is.tibble.html를 C:\\ProgramData\\Anaconda3\\Lib\\R\\library\\tibble\\html\\is.tibble.html로 복사하는데 문제가 발생했습니다: Permission denied\"Warning message in file.copy(savedcopy, lib, recursive = TRUE):\n"
     ]
    },
    {
     "name": "stderr",
     "output_type": "stream",
     "text": [
      "\"C:\\ProgramData\\Anaconda3\\Lib\\R\\library\\00LOCK\\tibble\\html\\is_tibble.html를 C:\\ProgramData\\Anaconda3\\Lib\\R\\library\\tibble\\html\\is_tibble.html로 복사하는데 문제가 발생했습니다: Permission denied\"Warning message in file.copy(savedcopy, lib, recursive = TRUE):\n",
      "\"C:\\ProgramData\\Anaconda3\\Lib\\R\\library\\00LOCK\\tibble\\html\\knit_print.trunc_mat.html를 C:\\ProgramData\\Anaconda3\\Lib\\R\\library\\tibble\\html\\knit_print.trunc_mat.html로 복사하는데 문제가 발생했습니다: Permission denied\"Warning message in file.copy(savedcopy, lib, recursive = TRUE):\n",
      "\"C:\\ProgramData\\Anaconda3\\Lib\\R\\library\\00LOCK\\tibble\\html\\lst.html를 C:\\ProgramData\\Anaconda3\\Lib\\R\\library\\tibble\\html\\lst.html로 복사하는데 문제가 발생했습니다: Permission denied\"Warning message in file.copy(savedcopy, lib, recursive = TRUE):\n",
      "\"C:\\ProgramData\\Anaconda3\\Lib\\R\\library\\00LOCK\\tibble\\html\\name-repair-retired.html를 C:\\ProgramData\\Anaconda3\\Lib\\R\\library\\tibble\\html\\name-repair-retired.html로 복사하는데 문제가 발생했습니다: Permission denied\"Warning message in file.copy(savedcopy, lib, recursive = TRUE):\n",
      "\"C:\\ProgramData\\Anaconda3\\Lib\\R\\library\\00LOCK\\tibble\\html\\name-repair.html를 C:\\ProgramData\\Anaconda3\\Lib\\R\\library\\tibble\\html\\name-repair.html로 복사하는데 문제가 발생했습니다: Permission denied\"Warning message in file.copy(savedcopy, lib, recursive = TRUE):\n",
      "\"C:\\ProgramData\\Anaconda3\\Lib\\R\\library\\00LOCK\\tibble\\html\\new_tibble.html를 C:\\ProgramData\\Anaconda3\\Lib\\R\\library\\tibble\\html\\new_tibble.html로 복사하는데 문제가 발생했습니다: Permission denied\"Warning message in file.copy(savedcopy, lib, recursive = TRUE):\n",
      "\"C:\\ProgramData\\Anaconda3\\Lib\\R\\library\\00LOCK\\tibble\\html\\print.tbl_df.html를 C:\\ProgramData\\Anaconda3\\Lib\\R\\library\\tibble\\html\\print.tbl_df.html로 복사하는데 문제가 발생했습니다: Permission denied\"Warning message in file.copy(savedcopy, lib, recursive = TRUE):\n",
      "\"C:\\ProgramData\\Anaconda3\\Lib\\R\\library\\00LOCK\\tibble\\html\\R.css를 C:\\ProgramData\\Anaconda3\\Lib\\R\\library\\tibble\\html\\R.css로 복사하는데 문제가 발생했습니다: Permission denied\"Warning message in file.copy(savedcopy, lib, recursive = TRUE):\n",
      "\"C:\\ProgramData\\Anaconda3\\Lib\\R\\library\\00LOCK\\tibble\\html\\reexports.html를 C:\\ProgramData\\Anaconda3\\Lib\\R\\library\\tibble\\html\\reexports.html로 복사하는데 문제가 발생했습니다: Permission denied\"Warning message in file.copy(savedcopy, lib, recursive = TRUE):\n",
      "\"C:\\ProgramData\\Anaconda3\\Lib\\R\\library\\00LOCK\\tibble\\html\\rownames.html를 C:\\ProgramData\\Anaconda3\\Lib\\R\\library\\tibble\\html\\rownames.html로 복사하는데 문제가 발생했습니다: Permission denied\"Warning message in file.copy(savedcopy, lib, recursive = TRUE):\n",
      "\"C:\\ProgramData\\Anaconda3\\Lib\\R\\library\\00LOCK\\tibble\\html\\subsetting.html를 C:\\ProgramData\\Anaconda3\\Lib\\R\\library\\tibble\\html\\subsetting.html로 복사하는데 문제가 발생했습니다: Permission denied\"Warning message in file.copy(savedcopy, lib, recursive = TRUE):\n",
      "\"C:\\ProgramData\\Anaconda3\\Lib\\R\\library\\00LOCK\\tibble\\html\\tbl_df-class.html를 C:\\ProgramData\\Anaconda3\\Lib\\R\\library\\tibble\\html\\tbl_df-class.html로 복사하는데 문제가 발생했습니다: Permission denied\"Warning message in file.copy(savedcopy, lib, recursive = TRUE):\n",
      "\"C:\\ProgramData\\Anaconda3\\Lib\\R\\library\\00LOCK\\tibble\\html\\tbl_sum.html를 C:\\ProgramData\\Anaconda3\\Lib\\R\\library\\tibble\\html\\tbl_sum.html로 복사하는데 문제가 발생했습니다: Permission denied\"Warning message in file.copy(savedcopy, lib, recursive = TRUE):\n",
      "\"C:\\ProgramData\\Anaconda3\\Lib\\R\\library\\00LOCK\\tibble\\html\\tibble-package.html를 C:\\ProgramData\\Anaconda3\\Lib\\R\\library\\tibble\\html\\tibble-package.html로 복사하는데 문제가 발생했습니다: Permission denied\"Warning message in file.copy(savedcopy, lib, recursive = TRUE):\n",
      "\"C:\\ProgramData\\Anaconda3\\Lib\\R\\library\\00LOCK\\tibble\\html\\tibble.html를 C:\\ProgramData\\Anaconda3\\Lib\\R\\library\\tibble\\html\\tibble.html로 복사하는데 문제가 발생했습니다: Permission denied\"Warning message in file.copy(savedcopy, lib, recursive = TRUE):\n",
      "\"C:\\ProgramData\\Anaconda3\\Lib\\R\\library\\00LOCK\\tibble\\html\\tribble.html를 C:\\ProgramData\\Anaconda3\\Lib\\R\\library\\tibble\\html\\tribble.html로 복사하는데 문제가 발생했습니다: Permission denied\"Warning message in file.copy(savedcopy, lib, recursive = TRUE):\n",
      "\"C:\\ProgramData\\Anaconda3\\Lib\\R\\library\\00LOCK\\tibble\\html\\view.html를 C:\\ProgramData\\Anaconda3\\Lib\\R\\library\\tibble\\html\\view.html로 복사하는데 문제가 발생했습니다: Permission denied\"Warning message in file.copy(savedcopy, lib, recursive = TRUE):\n",
      "\"C:\\ProgramData\\Anaconda3\\Lib\\R\\library\\00LOCK\\tibble\\INDEX를 C:\\ProgramData\\Anaconda3\\Lib\\R\\library\\tibble\\INDEX로 복사하는데 문제가 발생했습니다: Permission denied\"Warning message in file.copy(savedcopy, lib, recursive = TRUE):\n",
      "\"C:\\ProgramData\\Anaconda3\\Lib\\R\\library\\00LOCK\\tibble\\libs\\x64\\tibble.dll를 C:\\ProgramData\\Anaconda3\\Lib\\R\\library\\tibble\\libs\\x64\\tibble.dll로 복사하는데 문제가 발생했습니다: Permission denied\"Warning message in file.copy(savedcopy, lib, recursive = TRUE):\n",
      "\"C:\\ProgramData\\Anaconda3\\Lib\\R\\library\\00LOCK\\tibble\\LICENSE를 C:\\ProgramData\\Anaconda3\\Lib\\R\\library\\tibble\\LICENSE로 복사하는데 문제가 발생했습니다: Permission denied\"Warning message in file.copy(savedcopy, lib, recursive = TRUE):\n",
      "\"C:\\ProgramData\\Anaconda3\\Lib\\R\\library\\00LOCK\\tibble\\MD5를 C:\\ProgramData\\Anaconda3\\Lib\\R\\library\\tibble\\MD5로 복사하는데 문제가 발생했습니다: Permission denied\"Warning message in file.copy(savedcopy, lib, recursive = TRUE):\n",
      "\"C:\\ProgramData\\Anaconda3\\Lib\\R\\library\\00LOCK\\tibble\\Meta\\features.rds를 C:\\ProgramData\\Anaconda3\\Lib\\R\\library\\tibble\\Meta\\features.rds로 복사하는데 문제가 발생했습니다: Permission denied\"Warning message in file.copy(savedcopy, lib, recursive = TRUE):\n",
      "\"C:\\ProgramData\\Anaconda3\\Lib\\R\\library\\00LOCK\\tibble\\Meta\\hsearch.rds를 C:\\ProgramData\\Anaconda3\\Lib\\R\\library\\tibble\\Meta\\hsearch.rds로 복사하는데 문제가 발생했습니다: Permission denied\"Warning message in file.copy(savedcopy, lib, recursive = TRUE):\n",
      "\"C:\\ProgramData\\Anaconda3\\Lib\\R\\library\\00LOCK\\tibble\\Meta\\links.rds를 C:\\ProgramData\\Anaconda3\\Lib\\R\\library\\tibble\\Meta\\links.rds로 복사하는데 문제가 발생했습니다: Permission denied\"Warning message in file.copy(savedcopy, lib, recursive = TRUE):\n",
      "\"C:\\ProgramData\\Anaconda3\\Lib\\R\\library\\00LOCK\\tibble\\Meta\\nsInfo.rds를 C:\\ProgramData\\Anaconda3\\Lib\\R\\library\\tibble\\Meta\\nsInfo.rds로 복사하는데 문제가 발생했습니다: Permission denied\"Warning message in file.copy(savedcopy, lib, recursive = TRUE):\n",
      "\"C:\\ProgramData\\Anaconda3\\Lib\\R\\library\\00LOCK\\tibble\\Meta\\package.rds를 C:\\ProgramData\\Anaconda3\\Lib\\R\\library\\tibble\\Meta\\package.rds로 복사하는데 문제가 발생했습니다: Permission denied\"Warning message in file.copy(savedcopy, lib, recursive = TRUE):\n",
      "\"C:\\ProgramData\\Anaconda3\\Lib\\R\\library\\00LOCK\\tibble\\Meta\\Rd.rds를 C:\\ProgramData\\Anaconda3\\Lib\\R\\library\\tibble\\Meta\\Rd.rds로 복사하는데 문제가 발생했습니다: Permission denied\"Warning message in file.copy(savedcopy, lib, recursive = TRUE):\n",
      "\"C:\\ProgramData\\Anaconda3\\Lib\\R\\library\\00LOCK\\tibble\\Meta\\vignette.rds를 C:\\ProgramData\\Anaconda3\\Lib\\R\\library\\tibble\\Meta\\vignette.rds로 복사하는데 문제가 발생했습니다: Permission denied\"Warning message in file.copy(savedcopy, lib, recursive = TRUE):\n",
      "\"C:\\ProgramData\\Anaconda3\\Lib\\R\\library\\00LOCK\\tibble\\NAMESPACE를 C:\\ProgramData\\Anaconda3\\Lib\\R\\library\\tibble\\NAMESPACE로 복사하는데 문제가 발생했습니다: Permission denied\"Warning message in file.copy(savedcopy, lib, recursive = TRUE):\n",
      "\"C:\\ProgramData\\Anaconda3\\Lib\\R\\library\\00LOCK\\tibble\\NEWS.md를 C:\\ProgramData\\Anaconda3\\Lib\\R\\library\\tibble\\NEWS.md로 복사하는데 문제가 발생했습니다: Permission denied\"Warning message in file.copy(savedcopy, lib, recursive = TRUE):\n",
      "\"C:\\ProgramData\\Anaconda3\\Lib\\R\\library\\00LOCK\\tibble\\R\\tibble를 C:\\ProgramData\\Anaconda3\\Lib\\R\\library\\tibble\\R\\tibble로 복사하는데 문제가 발생했습니다: Permission denied\"Warning message in file.copy(savedcopy, lib, recursive = TRUE):\n",
      "\"C:\\ProgramData\\Anaconda3\\Lib\\R\\library\\00LOCK\\tibble\\R\\tibble.rdb를 C:\\ProgramData\\Anaconda3\\Lib\\R\\library\\tibble\\R\\tibble.rdb로 복사하는데 문제가 발생했습니다: Permission denied\"Warning message in file.copy(savedcopy, lib, recursive = TRUE):\n",
      "\"C:\\ProgramData\\Anaconda3\\Lib\\R\\library\\00LOCK\\tibble\\R\\tibble.rdx를 C:\\ProgramData\\Anaconda3\\Lib\\R\\library\\tibble\\R\\tibble.rdx로 복사하는데 문제가 발생했습니다: Permission denied\"Warning message:\n",
      "\"restored 'tibble'\""
     ]
    },
    {
     "name": "stdout",
     "output_type": "stream",
     "text": [
      "package 'tidyselect' successfully unpacked and MD5 sums checked\n"
     ]
    },
    {
     "name": "stderr",
     "output_type": "stream",
     "text": [
      "Warning message:\n",
      "\"cannot remove prior installation of package 'tidyselect'\"Warning message in file.copy(savedcopy, lib, recursive = TRUE):\n",
      "\"C:\\ProgramData\\Anaconda3\\Lib\\R\\library\\00LOCK\\tidyselect\\DESCRIPTION를 C:\\ProgramData\\Anaconda3\\Lib\\R\\library\\tidyselect\\DESCRIPTION로 복사하는데 문제가 발생했습니다: Permission denied\"Warning message in file.copy(savedcopy, lib, recursive = TRUE):\n",
      "\"C:\\ProgramData\\Anaconda3\\Lib\\R\\library\\00LOCK\\tidyselect\\help\\aliases.rds를 C:\\ProgramData\\Anaconda3\\Lib\\R\\library\\tidyselect\\help\\aliases.rds로 복사하는데 문제가 발생했습니다: Permission denied\"Warning message in file.copy(savedcopy, lib, recursive = TRUE):\n",
      "\"C:\\ProgramData\\Anaconda3\\Lib\\R\\library\\00LOCK\\tidyselect\\help\\AnIndex를 C:\\ProgramData\\Anaconda3\\Lib\\R\\library\\tidyselect\\help\\AnIndex로 복사하는데 문제가 발생했습니다: Permission denied\"Warning message in file.copy(savedcopy, lib, recursive = TRUE):\n",
      "\"C:\\ProgramData\\Anaconda3\\Lib\\R\\library\\00LOCK\\tidyselect\\help\\paths.rds를 C:\\ProgramData\\Anaconda3\\Lib\\R\\library\\tidyselect\\help\\paths.rds로 복사하는데 문제가 발생했습니다: Permission denied\"Warning message in file.copy(savedcopy, lib, recursive = TRUE):\n",
      "\"C:\\ProgramData\\Anaconda3\\Lib\\R\\library\\00LOCK\\tidyselect\\help\\tidyselect.rdb를 C:\\ProgramData\\Anaconda3\\Lib\\R\\library\\tidyselect\\help\\tidyselect.rdb로 복사하는데 문제가 발생했습니다: Permission denied\"Warning message in file.copy(savedcopy, lib, recursive = TRUE):\n",
      "\"C:\\ProgramData\\Anaconda3\\Lib\\R\\library\\00LOCK\\tidyselect\\help\\tidyselect.rdx를 C:\\ProgramData\\Anaconda3\\Lib\\R\\library\\tidyselect\\help\\tidyselect.rdx로 복사하는데 문제가 발생했습니다: Permission denied\"Warning message in file.copy(savedcopy, lib, recursive = TRUE):\n",
      "\"C:\\ProgramData\\Anaconda3\\Lib\\R\\library\\00LOCK\\tidyselect\\html\\00Index.html를 C:\\ProgramData\\Anaconda3\\Lib\\R\\library\\tidyselect\\html\\00Index.html로 복사하는데 문제가 발생했습니다: Permission denied\"Warning message in file.copy(savedcopy, lib, recursive = TRUE):\n",
      "\"C:\\ProgramData\\Anaconda3\\Lib\\R\\library\\00LOCK\\tidyselect\\html\\poke_vars.html를 C:\\ProgramData\\Anaconda3\\Lib\\R\\library\\tidyselect\\html\\poke_vars.html로 복사하는데 문제가 발생했습니다: Permission denied\"Warning message in file.copy(savedcopy, lib, recursive = TRUE):\n",
      "\"C:\\ProgramData\\Anaconda3\\Lib\\R\\library\\00LOCK\\tidyselect\\html\\R.css를 C:\\ProgramData\\Anaconda3\\Lib\\R\\library\\tidyselect\\html\\R.css로 복사하는데 문제가 발생했습니다: Permission denied\"Warning message in file.copy(savedcopy, lib, recursive = TRUE):\n",
      "\"C:\\ProgramData\\Anaconda3\\Lib\\R\\library\\00LOCK\\tidyselect\\html\\reexports.html를 C:\\ProgramData\\Anaconda3\\Lib\\R\\library\\tidyselect\\html\\reexports.html로 복사하는데 문제가 발생했습니다: Permission denied\"Warning message in file.copy(savedcopy, lib, recursive = TRUE):\n",
      "\"C:\\ProgramData\\Anaconda3\\Lib\\R\\library\\00LOCK\\tidyselect\\html\\select_helpers.html를 C:\\ProgramData\\Anaconda3\\Lib\\R\\library\\tidyselect\\html\\select_helpers.html로 복사하는데 문제가 발생했습니다: Permission denied\"Warning message in file.copy(savedcopy, lib, recursive = TRUE):\n",
      "\"C:\\ProgramData\\Anaconda3\\Lib\\R\\library\\00LOCK\\tidyselect\\html\\tidyselect-package.html를 C:\\ProgramData\\Anaconda3\\Lib\\R\\library\\tidyselect\\html\\tidyselect-package.html로 복사하는데 문제가 발생했습니다: Permission denied\"Warning message in file.copy(savedcopy, lib, recursive = TRUE):\n",
      "\"C:\\ProgramData\\Anaconda3\\Lib\\R\\library\\00LOCK\\tidyselect\\html\\vars_pull.html를 C:\\ProgramData\\Anaconda3\\Lib\\R\\library\\tidyselect\\html\\vars_pull.html로 복사하는데 문제가 발생했습니다: Permission denied\"Warning message in file.copy(savedcopy, lib, recursive = TRUE):\n",
      "\"C:\\ProgramData\\Anaconda3\\Lib\\R\\library\\00LOCK\\tidyselect\\html\\vars_select.html를 C:\\ProgramData\\Anaconda3\\Lib\\R\\library\\tidyselect\\html\\vars_select.html로 복사하는데 문제가 발생했습니다: Permission denied\"Warning message in file.copy(savedcopy, lib, recursive = TRUE):\n",
      "\"C:\\ProgramData\\Anaconda3\\Lib\\R\\library\\00LOCK\\tidyselect\\html\\vars_select_helpers.html를 C:\\ProgramData\\Anaconda3\\Lib\\R\\library\\tidyselect\\html\\vars_select_helpers.html로 복사하는데 문제가 발생했습니다: Permission denied\"Warning message in file.copy(savedcopy, lib, recursive = TRUE):\n",
      "\"C:\\ProgramData\\Anaconda3\\Lib\\R\\library\\00LOCK\\tidyselect\\INDEX를 C:\\ProgramData\\Anaconda3\\Lib\\R\\library\\tidyselect\\INDEX로 복사하는데 문제가 발생했습니다: Permission denied\"Warning message in file.copy(savedcopy, lib, recursive = TRUE):\n",
      "\"C:\\ProgramData\\Anaconda3\\Lib\\R\\library\\00LOCK\\tidyselect\\libs\\x64\\tidyselect.dll를 C:\\ProgramData\\Anaconda3\\Lib\\R\\library\\tidyselect\\libs\\x64\\tidyselect.dll로 복사하는데 문제가 발생했습니다: Permission denied\"Warning message in file.copy(savedcopy, lib, recursive = TRUE):\n",
      "\"C:\\ProgramData\\Anaconda3\\Lib\\R\\library\\00LOCK\\tidyselect\\MD5를 C:\\ProgramData\\Anaconda3\\Lib\\R\\library\\tidyselect\\MD5로 복사하는데 문제가 발생했습니다: Permission denied\"Warning message in file.copy(savedcopy, lib, recursive = TRUE):\n",
      "\"C:\\ProgramData\\Anaconda3\\Lib\\R\\library\\00LOCK\\tidyselect\\Meta\\features.rds를 C:\\ProgramData\\Anaconda3\\Lib\\R\\library\\tidyselect\\Meta\\features.rds로 복사하는데 문제가 발생했습니다: Permission denied\"Warning message in file.copy(savedcopy, lib, recursive = TRUE):\n",
      "\"C:\\ProgramData\\Anaconda3\\Lib\\R\\library\\00LOCK\\tidyselect\\Meta\\hsearch.rds를 C:\\ProgramData\\Anaconda3\\Lib\\R\\library\\tidyselect\\Meta\\hsearch.rds로 복사하는데 문제가 발생했습니다: Permission denied\"Warning message in file.copy(savedcopy, lib, recursive = TRUE):\n",
      "\"C:\\ProgramData\\Anaconda3\\Lib\\R\\library\\00LOCK\\tidyselect\\Meta\\links.rds를 C:\\ProgramData\\Anaconda3\\Lib\\R\\library\\tidyselect\\Meta\\links.rds로 복사하는데 문제가 발생했습니다: Permission denied\"Warning message in file.copy(savedcopy, lib, recursive = TRUE):\n",
      "\"C:\\ProgramData\\Anaconda3\\Lib\\R\\library\\00LOCK\\tidyselect\\Meta\\nsInfo.rds를 C:\\ProgramData\\Anaconda3\\Lib\\R\\library\\tidyselect\\Meta\\nsInfo.rds로 복사하는데 문제가 발생했습니다: Permission denied\"Warning message in file.copy(savedcopy, lib, recursive = TRUE):\n",
      "\"C:\\ProgramData\\Anaconda3\\Lib\\R\\library\\00LOCK\\tidyselect\\Meta\\package.rds를 C:\\ProgramData\\Anaconda3\\Lib\\R\\library\\tidyselect\\Meta\\package.rds로 복사하는데 문제가 발생했습니다: Permission denied\"Warning message in file.copy(savedcopy, lib, recursive = TRUE):\n",
      "\"C:\\ProgramData\\Anaconda3\\Lib\\R\\library\\00LOCK\\tidyselect\\Meta\\Rd.rds를 C:\\ProgramData\\Anaconda3\\Lib\\R\\library\\tidyselect\\Meta\\Rd.rds로 복사하는데 문제가 발생했습니다: Permission denied\"Warning message in file.copy(savedcopy, lib, recursive = TRUE):\n",
      "\"C:\\ProgramData\\Anaconda3\\Lib\\R\\library\\00LOCK\\tidyselect\\NAMESPACE를 C:\\ProgramData\\Anaconda3\\Lib\\R\\library\\tidyselect\\NAMESPACE로 복사하는데 문제가 발생했습니다: Permission denied\"Warning message in file.copy(savedcopy, lib, recursive = TRUE):\n",
      "\"C:\\ProgramData\\Anaconda3\\Lib\\R\\library\\00LOCK\\tidyselect\\NEWS.md를 C:\\ProgramData\\Anaconda3\\Lib\\R\\library\\tidyselect\\NEWS.md로 복사하는데 문제가 발생했습니다: Permission denied\"Warning message in file.copy(savedcopy, lib, recursive = TRUE):\n",
      "\"C:\\ProgramData\\Anaconda3\\Lib\\R\\library\\00LOCK\\tidyselect\\R\\tidyselect를 C:\\ProgramData\\Anaconda3\\Lib\\R\\library\\tidyselect\\R\\tidyselect로 복사하는데 문제가 발생했습니다: Permission denied\"Warning message in file.copy(savedcopy, lib, recursive = TRUE):\n",
      "\"C:\\ProgramData\\Anaconda3\\Lib\\R\\library\\00LOCK\\tidyselect\\R\\tidyselect.rdb를 C:\\ProgramData\\Anaconda3\\Lib\\R\\library\\tidyselect\\R\\tidyselect.rdb로 복사하는데 문제가 발생했습니다: Permission denied\"Warning message in file.copy(savedcopy, lib, recursive = TRUE):\n",
      "\"C:\\ProgramData\\Anaconda3\\Lib\\R\\library\\00LOCK\\tidyselect\\R\\tidyselect.rdx를 C:\\ProgramData\\Anaconda3\\Lib\\R\\library\\tidyselect\\R\\tidyselect.rdx로 복사하는데 문제가 발생했습니다: Permission denied\"Warning message:\n",
      "\"restored 'tidyselect'\""
     ]
    },
    {
     "name": "stdout",
     "output_type": "stream",
     "text": [
      "package 'dplyr' successfully unpacked and MD5 sums checked\n"
     ]
    },
    {
     "name": "stderr",
     "output_type": "stream",
     "text": [
      "Warning message:\n",
      "\"cannot remove prior installation of package 'dplyr'\"Warning message in file.copy(savedcopy, lib, recursive = TRUE):\n",
      "\"C:\\ProgramData\\Anaconda3\\Lib\\R\\library\\00LOCK\\dplyr\\data\\Rdata.rdb를 C:\\ProgramData\\Anaconda3\\Lib\\R\\library\\dplyr\\data\\Rdata.rdb로 복사하는데 문제가 발생했습니다: Permission denied\"Warning message in file.copy(savedcopy, lib, recursive = TRUE):\n",
      "\"C:\\ProgramData\\Anaconda3\\Lib\\R\\library\\00LOCK\\dplyr\\data\\Rdata.rds를 C:\\ProgramData\\Anaconda3\\Lib\\R\\library\\dplyr\\data\\Rdata.rds로 복사하는데 문제가 발생했습니다: Permission denied\"Warning message in file.copy(savedcopy, lib, recursive = TRUE):\n",
      "\"C:\\ProgramData\\Anaconda3\\Lib\\R\\library\\00LOCK\\dplyr\\data\\Rdata.rdx를 C:\\ProgramData\\Anaconda3\\Lib\\R\\library\\dplyr\\data\\Rdata.rdx로 복사하는데 문제가 발생했습니다: Permission denied\"Warning message in file.copy(savedcopy, lib, recursive = TRUE):\n",
      "\"C:\\ProgramData\\Anaconda3\\Lib\\R\\library\\00LOCK\\dplyr\\DESCRIPTION를 C:\\ProgramData\\Anaconda3\\Lib\\R\\library\\dplyr\\DESCRIPTION로 복사하는데 문제가 발생했습니다: Permission denied\"Warning message in file.copy(savedcopy, lib, recursive = TRUE):\n",
      "\"C:\\ProgramData\\Anaconda3\\Lib\\R\\library\\00LOCK\\dplyr\\doc\\compatibility.html를 C:\\ProgramData\\Anaconda3\\Lib\\R\\library\\dplyr\\doc\\compatibility.html로 복사하는데 문제가 발생했습니다: Permission denied\"Warning message in file.copy(savedcopy, lib, recursive = TRUE):\n",
      "\"C:\\ProgramData\\Anaconda3\\Lib\\R\\library\\00LOCK\\dplyr\\doc\\compatibility.R를 C:\\ProgramData\\Anaconda3\\Lib\\R\\library\\dplyr\\doc\\compatibility.R로 복사하는데 문제가 발생했습니다: Permission denied\"Warning message in file.copy(savedcopy, lib, recursive = TRUE):\n",
      "\"C:\\ProgramData\\Anaconda3\\Lib\\R\\library\\00LOCK\\dplyr\\doc\\compatibility.Rmd를 C:\\ProgramData\\Anaconda3\\Lib\\R\\library\\dplyr\\doc\\compatibility.Rmd로 복사하는데 문제가 발생했습니다: Permission denied\"Warning message in file.copy(savedcopy, lib, recursive = TRUE):\n",
      "\"C:\\ProgramData\\Anaconda3\\Lib\\R\\library\\00LOCK\\dplyr\\doc\\dplyr.html를 C:\\ProgramData\\Anaconda3\\Lib\\R\\library\\dplyr\\doc\\dplyr.html로 복사하는데 문제가 발생했습니다: Permission denied\"Warning message in file.copy(savedcopy, lib, recursive = TRUE):\n",
      "\"C:\\ProgramData\\Anaconda3\\Lib\\R\\library\\00LOCK\\dplyr\\doc\\dplyr.R를 C:\\ProgramData\\Anaconda3\\Lib\\R\\library\\dplyr\\doc\\dplyr.R로 복사하는데 문제가 발생했습니다: Permission denied\"Warning message in file.copy(savedcopy, lib, recursive = TRUE):\n",
      "\"C:\\ProgramData\\Anaconda3\\Lib\\R\\library\\00LOCK\\dplyr\\doc\\dplyr.Rmd를 C:\\ProgramData\\Anaconda3\\Lib\\R\\library\\dplyr\\doc\\dplyr.Rmd로 복사하는데 문제가 발생했습니다: Permission denied\"Warning message in file.copy(savedcopy, lib, recursive = TRUE):\n",
      "\"C:\\ProgramData\\Anaconda3\\Lib\\R\\library\\00LOCK\\dplyr\\doc\\index.html를 C:\\ProgramData\\Anaconda3\\Lib\\R\\library\\dplyr\\doc\\index.html로 복사하는데 문제가 발생했습니다: Permission denied\"Warning message in file.copy(savedcopy, lib, recursive = TRUE):\n",
      "\"C:\\ProgramData\\Anaconda3\\Lib\\R\\library\\00LOCK\\dplyr\\doc\\programming.html를 C:\\ProgramData\\Anaconda3\\Lib\\R\\library\\dplyr\\doc\\programming.html로 복사하는데 문제가 발생했습니다: Permission denied\"Warning message in file.copy(savedcopy, lib, recursive = TRUE):\n",
      "\"C:\\ProgramData\\Anaconda3\\Lib\\R\\library\\00LOCK\\dplyr\\doc\\programming.R를 C:\\ProgramData\\Anaconda3\\Lib\\R\\library\\dplyr\\doc\\programming.R로 복사하는데 문제가 발생했습니다: Permission denied\"Warning message in file.copy(savedcopy, lib, recursive = TRUE):\n",
      "\"C:\\ProgramData\\Anaconda3\\Lib\\R\\library\\00LOCK\\dplyr\\doc\\programming.Rmd를 C:\\ProgramData\\Anaconda3\\Lib\\R\\library\\dplyr\\doc\\programming.Rmd로 복사하는데 문제가 발생했습니다: Permission denied\"Warning message in file.copy(savedcopy, lib, recursive = TRUE):\n",
      "\"C:\\ProgramData\\Anaconda3\\Lib\\R\\library\\00LOCK\\dplyr\\doc\\two-table.html를 C:\\ProgramData\\Anaconda3\\Lib\\R\\library\\dplyr\\doc\\two-table.html로 복사하는데 문제가 발생했습니다: Permission denied\"Warning message in file.copy(savedcopy, lib, recursive = TRUE):\n",
      "\"C:\\ProgramData\\Anaconda3\\Lib\\R\\library\\00LOCK\\dplyr\\doc\\two-table.R를 C:\\ProgramData\\Anaconda3\\Lib\\R\\library\\dplyr\\doc\\two-table.R로 복사하는데 문제가 발생했습니다: Permission denied\"Warning message in file.copy(savedcopy, lib, recursive = TRUE):\n",
      "\"C:\\ProgramData\\Anaconda3\\Lib\\R\\library\\00LOCK\\dplyr\\doc\\two-table.Rmd를 C:\\ProgramData\\Anaconda3\\Lib\\R\\library\\dplyr\\doc\\two-table.Rmd로 복사하는데 문제가 발생했습니다: Permission denied\"Warning message in file.copy(savedcopy, lib, recursive = TRUE):\n",
      "\"C:\\ProgramData\\Anaconda3\\Lib\\R\\library\\00LOCK\\dplyr\\doc\\window-functions.html를 C:\\ProgramData\\Anaconda3\\Lib\\R\\library\\dplyr\\doc\\window-functions.html로 복사하는데 문제가 발생했습니다: Permission denied\"Warning message in file.copy(savedcopy, lib, recursive = TRUE):\n",
      "\"C:\\ProgramData\\Anaconda3\\Lib\\R\\library\\00LOCK\\dplyr\\doc\\window-functions.R를 C:\\ProgramData\\Anaconda3\\Lib\\R\\library\\dplyr\\doc\\window-functions.R로 복사하는데 문제가 발생했습니다: Permission denied\"Warning message in file.copy(savedcopy, lib, recursive = TRUE):\n",
      "\"C:\\ProgramData\\Anaconda3\\Lib\\R\\library\\00LOCK\\dplyr\\doc\\window-functions.Rmd를 C:\\ProgramData\\Anaconda3\\Lib\\R\\library\\dplyr\\doc\\window-functions.Rmd로 복사하는데 문제가 발생했습니다: Permission denied\"Warning message in file.copy(savedcopy, lib, recursive = TRUE):\n",
      "\"C:\\ProgramData\\Anaconda3\\Lib\\R\\library\\00LOCK\\dplyr\\help\\aliases.rds를 C:\\ProgramData\\Anaconda3\\Lib\\R\\library\\dplyr\\help\\aliases.rds로 복사하는데 문제가 발생했습니다: Permission denied\"Warning message in file.copy(savedcopy, lib, recursive = TRUE):\n",
      "\"C:\\ProgramData\\Anaconda3\\Lib\\R\\library\\00LOCK\\dplyr\\help\\AnIndex를 C:\\ProgramData\\Anaconda3\\Lib\\R\\library\\dplyr\\help\\AnIndex로 복사하는데 문제가 발생했습니다: Permission denied\"Warning message in file.copy(savedcopy, lib, recursive = TRUE):\n",
      "\"C:\\ProgramData\\Anaconda3\\Lib\\R\\library\\00LOCK\\dplyr\\help\\dplyr.rdb를 C:\\ProgramData\\Anaconda3\\Lib\\R\\library\\dplyr\\help\\dplyr.rdb로 복사하는데 문제가 발생했습니다: Permission denied\"Warning message in file.copy(savedcopy, lib, recursive = TRUE):\n",
      "\"C:\\ProgramData\\Anaconda3\\Lib\\R\\library\\00LOCK\\dplyr\\help\\dplyr.rdx를 C:\\ProgramData\\Anaconda3\\Lib\\R\\library\\dplyr\\help\\dplyr.rdx로 복사하는데 문제가 발생했습니다: Permission denied\"Warning message in file.copy(savedcopy, lib, recursive = TRUE):\n",
      "\"C:\\ProgramData\\Anaconda3\\Lib\\R\\library\\00LOCK\\dplyr\\help\\figures\\lifecycle-archived.svg를 C:\\ProgramData\\Anaconda3\\Lib\\R\\library\\dplyr\\help\\figures\\lifecycle-archived.svg로 복사하는데 문제가 발생했습니다: Permission denied\"Warning message in file.copy(savedcopy, lib, recursive = TRUE):\n",
      "\"C:\\ProgramData\\Anaconda3\\Lib\\R\\library\\00LOCK\\dplyr\\help\\figures\\lifecycle-defunct.svg를 C:\\ProgramData\\Anaconda3\\Lib\\R\\library\\dplyr\\help\\figures\\lifecycle-defunct.svg로 복사하는데 문제가 발생했습니다: Permission denied\"Warning message in file.copy(savedcopy, lib, recursive = TRUE):\n",
      "\"C:\\ProgramData\\Anaconda3\\Lib\\R\\library\\00LOCK\\dplyr\\help\\figures\\lifecycle-deprecated.svg를 C:\\ProgramData\\Anaconda3\\Lib\\R\\library\\dplyr\\help\\figures\\lifecycle-deprecated.svg로 복사하는데 문제가 발생했습니다: Permission denied\"Warning message in file.copy(savedcopy, lib, recursive = TRUE):\n",
      "\"C:\\ProgramData\\Anaconda3\\Lib\\R\\library\\00LOCK\\dplyr\\help\\figures\\lifecycle-experimental.svg를 C:\\ProgramData\\Anaconda3\\Lib\\R\\library\\dplyr\\help\\figures\\lifecycle-experimental.svg로 복사하는데 문제가 발생했습니다: Permission denied\"Warning message in file.copy(savedcopy, lib, recursive = TRUE):\n",
      "\"C:\\ProgramData\\Anaconda3\\Lib\\R\\library\\00LOCK\\dplyr\\help\\figures\\lifecycle-maturing.svg를 C:\\ProgramData\\Anaconda3\\Lib\\R\\library\\dplyr\\help\\figures\\lifecycle-maturing.svg로 복사하는데 문제가 발생했습니다: Permission denied\"Warning message in file.copy(savedcopy, lib, recursive = TRUE):\n",
      "\"C:\\ProgramData\\Anaconda3\\Lib\\R\\library\\00LOCK\\dplyr\\help\\figures\\lifecycle-questioning.svg를 C:\\ProgramData\\Anaconda3\\Lib\\R\\library\\dplyr\\help\\figures\\lifecycle-questioning.svg로 복사하는데 문제가 발생했습니다: Permission denied\"Warning message in file.copy(savedcopy, lib, recursive = TRUE):\n",
      "\"C:\\ProgramData\\Anaconda3\\Lib\\R\\library\\00LOCK\\dplyr\\help\\figures\\lifecycle-retired.svg를 C:\\ProgramData\\Anaconda3\\Lib\\R\\library\\dplyr\\help\\figures\\lifecycle-retired.svg로 복사하는데 문제가 발생했습니다: Permission denied\"Warning message in file.copy(savedcopy, lib, recursive = TRUE):\n",
      "\"C:\\ProgramData\\Anaconda3\\Lib\\R\\library\\00LOCK\\dplyr\\help\\figures\\lifecycle-soft-deprecated.svg를 C:\\ProgramData\\Anaconda3\\Lib\\R\\library\\dplyr\\help\\figures\\lifecycle-soft-deprecated.svg로 복사하는데 문제가 발생했습니다: Permission denied\"Warning message in file.copy(savedcopy, lib, recursive = TRUE):\n",
      "\"C:\\ProgramData\\Anaconda3\\Lib\\R\\library\\00LOCK\\dplyr\\help\\figures\\lifecycle-stable.svg를 C:\\ProgramData\\Anaconda3\\Lib\\R\\library\\dplyr\\help\\figures\\lifecycle-stable.svg로 복사하는데 문제가 발생했습니다: Permission denied\"Warning message in file.copy(savedcopy, lib, recursive = TRUE):\n"
     ]
    },
    {
     "name": "stderr",
     "output_type": "stream",
     "text": [
      "\"C:\\ProgramData\\Anaconda3\\Lib\\R\\library\\00LOCK\\dplyr\\help\\figures\\logo.png를 C:\\ProgramData\\Anaconda3\\Lib\\R\\library\\dplyr\\help\\figures\\logo.png로 복사하는데 문제가 발생했습니다: Permission denied\"Warning message in file.copy(savedcopy, lib, recursive = TRUE):\n",
      "\"C:\\ProgramData\\Anaconda3\\Lib\\R\\library\\00LOCK\\dplyr\\help\\paths.rds를 C:\\ProgramData\\Anaconda3\\Lib\\R\\library\\dplyr\\help\\paths.rds로 복사하는데 문제가 발생했습니다: Permission denied\"Warning message in file.copy(savedcopy, lib, recursive = TRUE):\n",
      "\"C:\\ProgramData\\Anaconda3\\Lib\\R\\library\\00LOCK\\dplyr\\html\\00Index.html를 C:\\ProgramData\\Anaconda3\\Lib\\R\\library\\dplyr\\html\\00Index.html로 복사하는데 문제가 발생했습니다: Permission denied\"Warning message in file.copy(savedcopy, lib, recursive = TRUE):\n",
      "\"C:\\ProgramData\\Anaconda3\\Lib\\R\\library\\00LOCK\\dplyr\\html\\add_rownames.html를 C:\\ProgramData\\Anaconda3\\Lib\\R\\library\\dplyr\\html\\add_rownames.html로 복사하는데 문제가 발생했습니다: Permission denied\"Warning message in file.copy(savedcopy, lib, recursive = TRUE):\n",
      "\"C:\\ProgramData\\Anaconda3\\Lib\\R\\library\\00LOCK\\dplyr\\html\\all_equal.html를 C:\\ProgramData\\Anaconda3\\Lib\\R\\library\\dplyr\\html\\all_equal.html로 복사하는데 문제가 발생했습니다: Permission denied\"Warning message in file.copy(savedcopy, lib, recursive = TRUE):\n",
      "\"C:\\ProgramData\\Anaconda3\\Lib\\R\\library\\00LOCK\\dplyr\\html\\all_vars.html를 C:\\ProgramData\\Anaconda3\\Lib\\R\\library\\dplyr\\html\\all_vars.html로 복사하는데 문제가 발생했습니다: Permission denied\"Warning message in file.copy(savedcopy, lib, recursive = TRUE):\n",
      "\"C:\\ProgramData\\Anaconda3\\Lib\\R\\library\\00LOCK\\dplyr\\html\\arrange.html를 C:\\ProgramData\\Anaconda3\\Lib\\R\\library\\dplyr\\html\\arrange.html로 복사하는데 문제가 발생했습니다: Permission denied\"Warning message in file.copy(savedcopy, lib, recursive = TRUE):\n",
      "\"C:\\ProgramData\\Anaconda3\\Lib\\R\\library\\00LOCK\\dplyr\\html\\arrange_all.html를 C:\\ProgramData\\Anaconda3\\Lib\\R\\library\\dplyr\\html\\arrange_all.html로 복사하는데 문제가 발생했습니다: Permission denied\"Warning message in file.copy(savedcopy, lib, recursive = TRUE):\n",
      "\"C:\\ProgramData\\Anaconda3\\Lib\\R\\library\\00LOCK\\dplyr\\html\\as.table.tbl_cube.html를 C:\\ProgramData\\Anaconda3\\Lib\\R\\library\\dplyr\\html\\as.table.tbl_cube.html로 복사하는데 문제가 발생했습니다: Permission denied\"Warning message in file.copy(savedcopy, lib, recursive = TRUE):\n",
      "\"C:\\ProgramData\\Anaconda3\\Lib\\R\\library\\00LOCK\\dplyr\\html\\as.tbl_cube.html를 C:\\ProgramData\\Anaconda3\\Lib\\R\\library\\dplyr\\html\\as.tbl_cube.html로 복사하는데 문제가 발생했습니다: Permission denied\"Warning message in file.copy(savedcopy, lib, recursive = TRUE):\n",
      "\"C:\\ProgramData\\Anaconda3\\Lib\\R\\library\\00LOCK\\dplyr\\html\\auto_copy.html를 C:\\ProgramData\\Anaconda3\\Lib\\R\\library\\dplyr\\html\\auto_copy.html로 복사하는데 문제가 발생했습니다: Permission denied\"Warning message in file.copy(savedcopy, lib, recursive = TRUE):\n",
      "\"C:\\ProgramData\\Anaconda3\\Lib\\R\\library\\00LOCK\\dplyr\\html\\backend_dbplyr.html를 C:\\ProgramData\\Anaconda3\\Lib\\R\\library\\dplyr\\html\\backend_dbplyr.html로 복사하는데 문제가 발생했습니다: Permission denied\"Warning message in file.copy(savedcopy, lib, recursive = TRUE):\n",
      "\"C:\\ProgramData\\Anaconda3\\Lib\\R\\library\\00LOCK\\dplyr\\html\\band_members.html를 C:\\ProgramData\\Anaconda3\\Lib\\R\\library\\dplyr\\html\\band_members.html로 복사하는데 문제가 발생했습니다: Permission denied\"Warning message in file.copy(savedcopy, lib, recursive = TRUE):\n",
      "\"C:\\ProgramData\\Anaconda3\\Lib\\R\\library\\00LOCK\\dplyr\\html\\bench_compare.html를 C:\\ProgramData\\Anaconda3\\Lib\\R\\library\\dplyr\\html\\bench_compare.html로 복사하는데 문제가 발생했습니다: Permission denied\"Warning message in file.copy(savedcopy, lib, recursive = TRUE):\n",
      "\"C:\\ProgramData\\Anaconda3\\Lib\\R\\library\\00LOCK\\dplyr\\html\\between.html를 C:\\ProgramData\\Anaconda3\\Lib\\R\\library\\dplyr\\html\\between.html로 복사하는데 문제가 발생했습니다: Permission denied\"Warning message in file.copy(savedcopy, lib, recursive = TRUE):\n",
      "\"C:\\ProgramData\\Anaconda3\\Lib\\R\\library\\00LOCK\\dplyr\\html\\bind.html를 C:\\ProgramData\\Anaconda3\\Lib\\R\\library\\dplyr\\html\\bind.html로 복사하는데 문제가 발생했습니다: Permission denied\"Warning message in file.copy(savedcopy, lib, recursive = TRUE):\n",
      "\"C:\\ProgramData\\Anaconda3\\Lib\\R\\library\\00LOCK\\dplyr\\html\\case_when.html를 C:\\ProgramData\\Anaconda3\\Lib\\R\\library\\dplyr\\html\\case_when.html로 복사하는데 문제가 발생했습니다: Permission denied\"Warning message in file.copy(savedcopy, lib, recursive = TRUE):\n",
      "\"C:\\ProgramData\\Anaconda3\\Lib\\R\\library\\00LOCK\\dplyr\\html\\check_dbplyr.html를 C:\\ProgramData\\Anaconda3\\Lib\\R\\library\\dplyr\\html\\check_dbplyr.html로 복사하는데 문제가 발생했습니다: Permission denied\"Warning message in file.copy(savedcopy, lib, recursive = TRUE):\n",
      "\"C:\\ProgramData\\Anaconda3\\Lib\\R\\library\\00LOCK\\dplyr\\html\\coalesce.html를 C:\\ProgramData\\Anaconda3\\Lib\\R\\library\\dplyr\\html\\coalesce.html로 복사하는데 문제가 발생했습니다: Permission denied\"Warning message in file.copy(savedcopy, lib, recursive = TRUE):\n",
      "\"C:\\ProgramData\\Anaconda3\\Lib\\R\\library\\00LOCK\\dplyr\\html\\combine.html를 C:\\ProgramData\\Anaconda3\\Lib\\R\\library\\dplyr\\html\\combine.html로 복사하는데 문제가 발생했습니다: Permission denied\"Warning message in file.copy(savedcopy, lib, recursive = TRUE):\n",
      "\"C:\\ProgramData\\Anaconda3\\Lib\\R\\library\\00LOCK\\dplyr\\html\\common_by.html를 C:\\ProgramData\\Anaconda3\\Lib\\R\\library\\dplyr\\html\\common_by.html로 복사하는데 문제가 발생했습니다: Permission denied\"Warning message in file.copy(savedcopy, lib, recursive = TRUE):\n",
      "\"C:\\ProgramData\\Anaconda3\\Lib\\R\\library\\00LOCK\\dplyr\\html\\compute.html를 C:\\ProgramData\\Anaconda3\\Lib\\R\\library\\dplyr\\html\\compute.html로 복사하는데 문제가 발생했습니다: Permission denied\"Warning message in file.copy(savedcopy, lib, recursive = TRUE):\n",
      "\"C:\\ProgramData\\Anaconda3\\Lib\\R\\library\\00LOCK\\dplyr\\html\\copy_to.html를 C:\\ProgramData\\Anaconda3\\Lib\\R\\library\\dplyr\\html\\copy_to.html로 복사하는데 문제가 발생했습니다: Permission denied\"Warning message in file.copy(savedcopy, lib, recursive = TRUE):\n",
      "\"C:\\ProgramData\\Anaconda3\\Lib\\R\\library\\00LOCK\\dplyr\\html\\cumall.html를 C:\\ProgramData\\Anaconda3\\Lib\\R\\library\\dplyr\\html\\cumall.html로 복사하는데 문제가 발생했습니다: Permission denied\"Warning message in file.copy(savedcopy, lib, recursive = TRUE):\n",
      "\"C:\\ProgramData\\Anaconda3\\Lib\\R\\library\\00LOCK\\dplyr\\html\\desc.html를 C:\\ProgramData\\Anaconda3\\Lib\\R\\library\\dplyr\\html\\desc.html로 복사하는데 문제가 발생했습니다: Permission denied\"Warning message in file.copy(savedcopy, lib, recursive = TRUE):\n",
      "\"C:\\ProgramData\\Anaconda3\\Lib\\R\\library\\00LOCK\\dplyr\\html\\dim_desc.html를 C:\\ProgramData\\Anaconda3\\Lib\\R\\library\\dplyr\\html\\dim_desc.html로 복사하는데 문제가 발생했습니다: Permission denied\"Warning message in file.copy(savedcopy, lib, recursive = TRUE):\n",
      "\"C:\\ProgramData\\Anaconda3\\Lib\\R\\library\\00LOCK\\dplyr\\html\\distinct.html를 C:\\ProgramData\\Anaconda3\\Lib\\R\\library\\dplyr\\html\\distinct.html로 복사하는데 문제가 발생했습니다: Permission denied\"Warning message in file.copy(savedcopy, lib, recursive = TRUE):\n",
      "\"C:\\ProgramData\\Anaconda3\\Lib\\R\\library\\00LOCK\\dplyr\\html\\distinct_all.html를 C:\\ProgramData\\Anaconda3\\Lib\\R\\library\\dplyr\\html\\distinct_all.html로 복사하는데 문제가 발생했습니다: Permission denied\"Warning message in file.copy(savedcopy, lib, recursive = TRUE):\n",
      "\"C:\\ProgramData\\Anaconda3\\Lib\\R\\library\\00LOCK\\dplyr\\html\\do.html를 C:\\ProgramData\\Anaconda3\\Lib\\R\\library\\dplyr\\html\\do.html로 복사하는데 문제가 발생했습니다: Permission denied\"Warning message in file.copy(savedcopy, lib, recursive = TRUE):\n",
      "\"C:\\ProgramData\\Anaconda3\\Lib\\R\\library\\00LOCK\\dplyr\\html\\dplyr-package.html를 C:\\ProgramData\\Anaconda3\\Lib\\R\\library\\dplyr\\html\\dplyr-package.html로 복사하는데 문제가 발생했습니다: Permission denied\"Warning message in file.copy(savedcopy, lib, recursive = TRUE):\n",
      "\"C:\\ProgramData\\Anaconda3\\Lib\\R\\library\\00LOCK\\dplyr\\html\\dr_dplyr.html를 C:\\ProgramData\\Anaconda3\\Lib\\R\\library\\dplyr\\html\\dr_dplyr.html로 복사하는데 문제가 발생했습니다: Permission denied\"Warning message in file.copy(savedcopy, lib, recursive = TRUE):\n",
      "\"C:\\ProgramData\\Anaconda3\\Lib\\R\\library\\00LOCK\\dplyr\\html\\explain.html를 C:\\ProgramData\\Anaconda3\\Lib\\R\\library\\dplyr\\html\\explain.html로 복사하는데 문제가 발생했습니다: Permission denied\"Warning message in file.copy(savedcopy, lib, recursive = TRUE):\n",
      "\"C:\\ProgramData\\Anaconda3\\Lib\\R\\library\\00LOCK\\dplyr\\html\\failwith.html를 C:\\ProgramData\\Anaconda3\\Lib\\R\\library\\dplyr\\html\\failwith.html로 복사하는데 문제가 발생했습니다: Permission denied\"Warning message in file.copy(savedcopy, lib, recursive = TRUE):\n",
      "\"C:\\ProgramData\\Anaconda3\\Lib\\R\\library\\00LOCK\\dplyr\\html\\filter.html를 C:\\ProgramData\\Anaconda3\\Lib\\R\\library\\dplyr\\html\\filter.html로 복사하는데 문제가 발생했습니다: Permission denied\"Warning message in file.copy(savedcopy, lib, recursive = TRUE):\n"
     ]
    },
    {
     "name": "stderr",
     "output_type": "stream",
     "text": [
      "\"C:\\ProgramData\\Anaconda3\\Lib\\R\\library\\00LOCK\\dplyr\\html\\filter_all.html를 C:\\ProgramData\\Anaconda3\\Lib\\R\\library\\dplyr\\html\\filter_all.html로 복사하는데 문제가 발생했습니다: Permission denied\"Warning message in file.copy(savedcopy, lib, recursive = TRUE):\n",
      "\"C:\\ProgramData\\Anaconda3\\Lib\\R\\library\\00LOCK\\dplyr\\html\\funs.html를 C:\\ProgramData\\Anaconda3\\Lib\\R\\library\\dplyr\\html\\funs.html로 복사하는데 문제가 발생했습니다: Permission denied\"Warning message in file.copy(savedcopy, lib, recursive = TRUE):\n",
      "\"C:\\ProgramData\\Anaconda3\\Lib\\R\\library\\00LOCK\\dplyr\\html\\grouped_df.html를 C:\\ProgramData\\Anaconda3\\Lib\\R\\library\\dplyr\\html\\grouped_df.html로 복사하는데 문제가 발생했습니다: Permission denied\"Warning message in file.copy(savedcopy, lib, recursive = TRUE):\n",
      "\"C:\\ProgramData\\Anaconda3\\Lib\\R\\library\\00LOCK\\dplyr\\html\\groups.html를 C:\\ProgramData\\Anaconda3\\Lib\\R\\library\\dplyr\\html\\groups.html로 복사하는데 문제가 발생했습니다: Permission denied\"Warning message in file.copy(savedcopy, lib, recursive = TRUE):\n",
      "\"C:\\ProgramData\\Anaconda3\\Lib\\R\\library\\00LOCK\\dplyr\\html\\group_by.html를 C:\\ProgramData\\Anaconda3\\Lib\\R\\library\\dplyr\\html\\group_by.html로 복사하는데 문제가 발생했습니다: Permission denied\"Warning message in file.copy(savedcopy, lib, recursive = TRUE):\n",
      "\"C:\\ProgramData\\Anaconda3\\Lib\\R\\library\\00LOCK\\dplyr\\html\\group_by_all.html를 C:\\ProgramData\\Anaconda3\\Lib\\R\\library\\dplyr\\html\\group_by_all.html로 복사하는데 문제가 발생했습니다: Permission denied\"Warning message in file.copy(savedcopy, lib, recursive = TRUE):\n",
      "\"C:\\ProgramData\\Anaconda3\\Lib\\R\\library\\00LOCK\\dplyr\\html\\group_by_prepare.html를 C:\\ProgramData\\Anaconda3\\Lib\\R\\library\\dplyr\\html\\group_by_prepare.html로 복사하는데 문제가 발생했습니다: Permission denied\"Warning message in file.copy(savedcopy, lib, recursive = TRUE):\n",
      "\"C:\\ProgramData\\Anaconda3\\Lib\\R\\library\\00LOCK\\dplyr\\html\\group_cols.html를 C:\\ProgramData\\Anaconda3\\Lib\\R\\library\\dplyr\\html\\group_cols.html로 복사하는데 문제가 발생했습니다: Permission denied\"Warning message in file.copy(savedcopy, lib, recursive = TRUE):\n",
      "\"C:\\ProgramData\\Anaconda3\\Lib\\R\\library\\00LOCK\\dplyr\\html\\group_data.html를 C:\\ProgramData\\Anaconda3\\Lib\\R\\library\\dplyr\\html\\group_data.html로 복사하는데 문제가 발생했습니다: Permission denied\"Warning message in file.copy(savedcopy, lib, recursive = TRUE):\n",
      "\"C:\\ProgramData\\Anaconda3\\Lib\\R\\library\\00LOCK\\dplyr\\html\\group_indices.html를 C:\\ProgramData\\Anaconda3\\Lib\\R\\library\\dplyr\\html\\group_indices.html로 복사하는데 문제가 발생했습니다: Permission denied\"Warning message in file.copy(savedcopy, lib, recursive = TRUE):\n",
      "\"C:\\ProgramData\\Anaconda3\\Lib\\R\\library\\00LOCK\\dplyr\\html\\group_map.html를 C:\\ProgramData\\Anaconda3\\Lib\\R\\library\\dplyr\\html\\group_map.html로 복사하는데 문제가 발생했습니다: Permission denied\"Warning message in file.copy(savedcopy, lib, recursive = TRUE):\n",
      "\"C:\\ProgramData\\Anaconda3\\Lib\\R\\library\\00LOCK\\dplyr\\html\\group_nest.html를 C:\\ProgramData\\Anaconda3\\Lib\\R\\library\\dplyr\\html\\group_nest.html로 복사하는데 문제가 발생했습니다: Permission denied\"Warning message in file.copy(savedcopy, lib, recursive = TRUE):\n",
      "\"C:\\ProgramData\\Anaconda3\\Lib\\R\\library\\00LOCK\\dplyr\\html\\group_size.html를 C:\\ProgramData\\Anaconda3\\Lib\\R\\library\\dplyr\\html\\group_size.html로 복사하는데 문제가 발생했습니다: Permission denied\"Warning message in file.copy(savedcopy, lib, recursive = TRUE):\n",
      "\"C:\\ProgramData\\Anaconda3\\Lib\\R\\library\\00LOCK\\dplyr\\html\\group_split.html를 C:\\ProgramData\\Anaconda3\\Lib\\R\\library\\dplyr\\html\\group_split.html로 복사하는데 문제가 발생했습니다: Permission denied\"Warning message in file.copy(savedcopy, lib, recursive = TRUE):\n",
      "\"C:\\ProgramData\\Anaconda3\\Lib\\R\\library\\00LOCK\\dplyr\\html\\group_trim.html를 C:\\ProgramData\\Anaconda3\\Lib\\R\\library\\dplyr\\html\\group_trim.html로 복사하는데 문제가 발생했습니다: Permission denied\"Warning message in file.copy(savedcopy, lib, recursive = TRUE):\n",
      "\"C:\\ProgramData\\Anaconda3\\Lib\\R\\library\\00LOCK\\dplyr\\html\\hybrid_call.html를 C:\\ProgramData\\Anaconda3\\Lib\\R\\library\\dplyr\\html\\hybrid_call.html로 복사하는데 문제가 발생했습니다: Permission denied\"Warning message in file.copy(savedcopy, lib, recursive = TRUE):\n",
      "\"C:\\ProgramData\\Anaconda3\\Lib\\R\\library\\00LOCK\\dplyr\\html\\id.html를 C:\\ProgramData\\Anaconda3\\Lib\\R\\library\\dplyr\\html\\id.html로 복사하는데 문제가 발생했습니다: Permission denied\"Warning message in file.copy(savedcopy, lib, recursive = TRUE):\n",
      "\"C:\\ProgramData\\Anaconda3\\Lib\\R\\library\\00LOCK\\dplyr\\html\\ident.html를 C:\\ProgramData\\Anaconda3\\Lib\\R\\library\\dplyr\\html\\ident.html로 복사하는데 문제가 발생했습니다: Permission denied\"Warning message in file.copy(savedcopy, lib, recursive = TRUE):\n",
      "\"C:\\ProgramData\\Anaconda3\\Lib\\R\\library\\00LOCK\\dplyr\\html\\if_else.html를 C:\\ProgramData\\Anaconda3\\Lib\\R\\library\\dplyr\\html\\if_else.html로 복사하는데 문제가 발생했습니다: Permission denied\"Warning message in file.copy(savedcopy, lib, recursive = TRUE):\n",
      "\"C:\\ProgramData\\Anaconda3\\Lib\\R\\library\\00LOCK\\dplyr\\html\\init_logging.html를 C:\\ProgramData\\Anaconda3\\Lib\\R\\library\\dplyr\\html\\init_logging.html로 복사하는데 문제가 발생했습니다: Permission denied\"Warning message in file.copy(savedcopy, lib, recursive = TRUE):\n",
      "\"C:\\ProgramData\\Anaconda3\\Lib\\R\\library\\00LOCK\\dplyr\\html\\join.html를 C:\\ProgramData\\Anaconda3\\Lib\\R\\library\\dplyr\\html\\join.html로 복사하는데 문제가 발생했습니다: Permission denied\"Warning message in file.copy(savedcopy, lib, recursive = TRUE):\n",
      "\"C:\\ProgramData\\Anaconda3\\Lib\\R\\library\\00LOCK\\dplyr\\html\\join.tbl_df.html를 C:\\ProgramData\\Anaconda3\\Lib\\R\\library\\dplyr\\html\\join.tbl_df.html로 복사하는데 문제가 발생했습니다: Permission denied\"Warning message in file.copy(savedcopy, lib, recursive = TRUE):\n",
      "\"C:\\ProgramData\\Anaconda3\\Lib\\R\\library\\00LOCK\\dplyr\\html\\lead-lag.html를 C:\\ProgramData\\Anaconda3\\Lib\\R\\library\\dplyr\\html\\lead-lag.html로 복사하는데 문제가 발생했습니다: Permission denied\"Warning message in file.copy(savedcopy, lib, recursive = TRUE):\n",
      "\"C:\\ProgramData\\Anaconda3\\Lib\\R\\library\\00LOCK\\dplyr\\html\\location.html를 C:\\ProgramData\\Anaconda3\\Lib\\R\\library\\dplyr\\html\\location.html로 복사하는데 문제가 발생했습니다: Permission denied\"Warning message in file.copy(savedcopy, lib, recursive = TRUE):\n",
      "\"C:\\ProgramData\\Anaconda3\\Lib\\R\\library\\00LOCK\\dplyr\\html\\make_tbl.html를 C:\\ProgramData\\Anaconda3\\Lib\\R\\library\\dplyr\\html\\make_tbl.html로 복사하는데 문제가 발생했습니다: Permission denied\"Warning message in file.copy(savedcopy, lib, recursive = TRUE):\n",
      "\"C:\\ProgramData\\Anaconda3\\Lib\\R\\library\\00LOCK\\dplyr\\html\\mutate.html를 C:\\ProgramData\\Anaconda3\\Lib\\R\\library\\dplyr\\html\\mutate.html로 복사하는데 문제가 발생했습니다: Permission denied\"Warning message in file.copy(savedcopy, lib, recursive = TRUE):\n",
      "\"C:\\ProgramData\\Anaconda3\\Lib\\R\\library\\00LOCK\\dplyr\\html\\mutate_all.html를 C:\\ProgramData\\Anaconda3\\Lib\\R\\library\\dplyr\\html\\mutate_all.html로 복사하는데 문제가 발생했습니다: Permission denied\"Warning message in file.copy(savedcopy, lib, recursive = TRUE):\n",
      "\"C:\\ProgramData\\Anaconda3\\Lib\\R\\library\\00LOCK\\dplyr\\html\\n.html를 C:\\ProgramData\\Anaconda3\\Lib\\R\\library\\dplyr\\html\\n.html로 복사하는데 문제가 발생했습니다: Permission denied\"Warning message in file.copy(savedcopy, lib, recursive = TRUE):\n",
      "\"C:\\ProgramData\\Anaconda3\\Lib\\R\\library\\00LOCK\\dplyr\\html\\nasa.html를 C:\\ProgramData\\Anaconda3\\Lib\\R\\library\\dplyr\\html\\nasa.html로 복사하는데 문제가 발생했습니다: Permission denied\"Warning message in file.copy(savedcopy, lib, recursive = TRUE):\n",
      "\"C:\\ProgramData\\Anaconda3\\Lib\\R\\library\\00LOCK\\dplyr\\html\\na_if.html를 C:\\ProgramData\\Anaconda3\\Lib\\R\\library\\dplyr\\html\\na_if.html로 복사하는데 문제가 발생했습니다: Permission denied\"Warning message in file.copy(savedcopy, lib, recursive = TRUE):\n",
      "\"C:\\ProgramData\\Anaconda3\\Lib\\R\\library\\00LOCK\\dplyr\\html\\near.html를 C:\\ProgramData\\Anaconda3\\Lib\\R\\library\\dplyr\\html\\near.html로 복사하는데 문제가 발생했습니다: Permission denied\"Warning message in file.copy(savedcopy, lib, recursive = TRUE):\n",
      "\"C:\\ProgramData\\Anaconda3\\Lib\\R\\library\\00LOCK\\dplyr\\html\\new_grouped_df.html를 C:\\ProgramData\\Anaconda3\\Lib\\R\\library\\dplyr\\html\\new_grouped_df.html로 복사하는데 문제가 발생했습니다: Permission denied\"Warning message in file.copy(savedcopy, lib, recursive = TRUE):\n",
      "\"C:\\ProgramData\\Anaconda3\\Lib\\R\\library\\00LOCK\\dplyr\\html\\nth.html를 C:\\ProgramData\\Anaconda3\\Lib\\R\\library\\dplyr\\html\\nth.html로 복사하는데 문제가 발생했습니다: Permission denied\"Warning message in file.copy(savedcopy, lib, recursive = TRUE):\n",
      "\"C:\\ProgramData\\Anaconda3\\Lib\\R\\library\\00LOCK\\dplyr\\html\\n_distinct.html를 C:\\ProgramData\\Anaconda3\\Lib\\R\\library\\dplyr\\html\\n_distinct.html로 복사하는데 문제가 발생했습니다: Permission denied\"Warning message in file.copy(savedcopy, lib, recursive = TRUE):\n"
     ]
    },
    {
     "name": "stderr",
     "output_type": "stream",
     "text": [
      "\"C:\\ProgramData\\Anaconda3\\Lib\\R\\library\\00LOCK\\dplyr\\html\\order_by.html를 C:\\ProgramData\\Anaconda3\\Lib\\R\\library\\dplyr\\html\\order_by.html로 복사하는데 문제가 발생했습니다: Permission denied\"Warning message in file.copy(savedcopy, lib, recursive = TRUE):\n",
      "\"C:\\ProgramData\\Anaconda3\\Lib\\R\\library\\00LOCK\\dplyr\\html\\progress_estimated.html를 C:\\ProgramData\\Anaconda3\\Lib\\R\\library\\dplyr\\html\\progress_estimated.html로 복사하는데 문제가 발생했습니다: Permission denied\"Warning message in file.copy(savedcopy, lib, recursive = TRUE):\n",
      "\"C:\\ProgramData\\Anaconda3\\Lib\\R\\library\\00LOCK\\dplyr\\html\\pull.html를 C:\\ProgramData\\Anaconda3\\Lib\\R\\library\\dplyr\\html\\pull.html로 복사하는데 문제가 발생했습니다: Permission denied\"Warning message in file.copy(savedcopy, lib, recursive = TRUE):\n",
      "\"C:\\ProgramData\\Anaconda3\\Lib\\R\\library\\00LOCK\\dplyr\\html\\R.css를 C:\\ProgramData\\Anaconda3\\Lib\\R\\library\\dplyr\\html\\R.css로 복사하는데 문제가 발생했습니다: Permission denied\"Warning message in file.copy(savedcopy, lib, recursive = TRUE):\n",
      "\"C:\\ProgramData\\Anaconda3\\Lib\\R\\library\\00LOCK\\dplyr\\html\\ranking.html를 C:\\ProgramData\\Anaconda3\\Lib\\R\\library\\dplyr\\html\\ranking.html로 복사하는데 문제가 발생했습니다: Permission denied\"Warning message in file.copy(savedcopy, lib, recursive = TRUE):\n",
      "\"C:\\ProgramData\\Anaconda3\\Lib\\R\\library\\00LOCK\\dplyr\\html\\recode.html를 C:\\ProgramData\\Anaconda3\\Lib\\R\\library\\dplyr\\html\\recode.html로 복사하는데 문제가 발생했습니다: Permission denied\"Warning message in file.copy(savedcopy, lib, recursive = TRUE):\n",
      "\"C:\\ProgramData\\Anaconda3\\Lib\\R\\library\\00LOCK\\dplyr\\html\\reexports.html를 C:\\ProgramData\\Anaconda3\\Lib\\R\\library\\dplyr\\html\\reexports.html로 복사하는데 문제가 발생했습니다: Permission denied\"Warning message in file.copy(savedcopy, lib, recursive = TRUE):\n",
      "\"C:\\ProgramData\\Anaconda3\\Lib\\R\\library\\00LOCK\\dplyr\\html\\rowwise.html를 C:\\ProgramData\\Anaconda3\\Lib\\R\\library\\dplyr\\html\\rowwise.html로 복사하는데 문제가 발생했습니다: Permission denied\"Warning message in file.copy(savedcopy, lib, recursive = TRUE):\n",
      "\"C:\\ProgramData\\Anaconda3\\Lib\\R\\library\\00LOCK\\dplyr\\html\\same_src.html를 C:\\ProgramData\\Anaconda3\\Lib\\R\\library\\dplyr\\html\\same_src.html로 복사하는데 문제가 발생했습니다: Permission denied\"Warning message in file.copy(savedcopy, lib, recursive = TRUE):\n",
      "\"C:\\ProgramData\\Anaconda3\\Lib\\R\\library\\00LOCK\\dplyr\\html\\sample.html를 C:\\ProgramData\\Anaconda3\\Lib\\R\\library\\dplyr\\html\\sample.html로 복사하는데 문제가 발생했습니다: Permission denied\"Warning message in file.copy(savedcopy, lib, recursive = TRUE):\n",
      "\"C:\\ProgramData\\Anaconda3\\Lib\\R\\library\\00LOCK\\dplyr\\html\\scoped.html를 C:\\ProgramData\\Anaconda3\\Lib\\R\\library\\dplyr\\html\\scoped.html로 복사하는데 문제가 발생했습니다: Permission denied\"Warning message in file.copy(savedcopy, lib, recursive = TRUE):\n",
      "\"C:\\ProgramData\\Anaconda3\\Lib\\R\\library\\00LOCK\\dplyr\\html\\se-deprecated.html를 C:\\ProgramData\\Anaconda3\\Lib\\R\\library\\dplyr\\html\\se-deprecated.html로 복사하는데 문제가 발생했습니다: Permission denied\"Warning message in file.copy(savedcopy, lib, recursive = TRUE):\n",
      "\"C:\\ProgramData\\Anaconda3\\Lib\\R\\library\\00LOCK\\dplyr\\html\\select.html를 C:\\ProgramData\\Anaconda3\\Lib\\R\\library\\dplyr\\html\\select.html로 복사하는데 문제가 발생했습니다: Permission denied\"Warning message in file.copy(savedcopy, lib, recursive = TRUE):\n",
      "\"C:\\ProgramData\\Anaconda3\\Lib\\R\\library\\00LOCK\\dplyr\\html\\select_all.html를 C:\\ProgramData\\Anaconda3\\Lib\\R\\library\\dplyr\\html\\select_all.html로 복사하는데 문제가 발생했습니다: Permission denied\"Warning message in file.copy(savedcopy, lib, recursive = TRUE):\n",
      "\"C:\\ProgramData\\Anaconda3\\Lib\\R\\library\\00LOCK\\dplyr\\html\\select_vars.html를 C:\\ProgramData\\Anaconda3\\Lib\\R\\library\\dplyr\\html\\select_vars.html로 복사하는데 문제가 발생했습니다: Permission denied\"Warning message in file.copy(savedcopy, lib, recursive = TRUE):\n",
      "\"C:\\ProgramData\\Anaconda3\\Lib\\R\\library\\00LOCK\\dplyr\\html\\setops.html를 C:\\ProgramData\\Anaconda3\\Lib\\R\\library\\dplyr\\html\\setops.html로 복사하는데 문제가 발생했습니다: Permission denied\"Warning message in file.copy(savedcopy, lib, recursive = TRUE):\n",
      "\"C:\\ProgramData\\Anaconda3\\Lib\\R\\library\\00LOCK\\dplyr\\html\\slice.html를 C:\\ProgramData\\Anaconda3\\Lib\\R\\library\\dplyr\\html\\slice.html로 복사하는데 문제가 발생했습니다: Permission denied\"Warning message in file.copy(savedcopy, lib, recursive = TRUE):\n",
      "\"C:\\ProgramData\\Anaconda3\\Lib\\R\\library\\00LOCK\\dplyr\\html\\sql.html를 C:\\ProgramData\\Anaconda3\\Lib\\R\\library\\dplyr\\html\\sql.html로 복사하는데 문제가 발생했습니다: Permission denied\"Warning message in file.copy(savedcopy, lib, recursive = TRUE):\n",
      "\"C:\\ProgramData\\Anaconda3\\Lib\\R\\library\\00LOCK\\dplyr\\html\\src.html를 C:\\ProgramData\\Anaconda3\\Lib\\R\\library\\dplyr\\html\\src.html로 복사하는데 문제가 발생했습니다: Permission denied\"Warning message in file.copy(savedcopy, lib, recursive = TRUE):\n",
      "\"C:\\ProgramData\\Anaconda3\\Lib\\R\\library\\00LOCK\\dplyr\\html\\src_dbi.html를 C:\\ProgramData\\Anaconda3\\Lib\\R\\library\\dplyr\\html\\src_dbi.html로 복사하는데 문제가 발생했습니다: Permission denied\"Warning message in file.copy(savedcopy, lib, recursive = TRUE):\n",
      "\"C:\\ProgramData\\Anaconda3\\Lib\\R\\library\\00LOCK\\dplyr\\html\\src_local.html를 C:\\ProgramData\\Anaconda3\\Lib\\R\\library\\dplyr\\html\\src_local.html로 복사하는데 문제가 발생했습니다: Permission denied\"Warning message in file.copy(savedcopy, lib, recursive = TRUE):\n",
      "\"C:\\ProgramData\\Anaconda3\\Lib\\R\\library\\00LOCK\\dplyr\\html\\src_tbls.html를 C:\\ProgramData\\Anaconda3\\Lib\\R\\library\\dplyr\\html\\src_tbls.html로 복사하는데 문제가 발생했습니다: Permission denied\"Warning message in file.copy(savedcopy, lib, recursive = TRUE):\n",
      "\"C:\\ProgramData\\Anaconda3\\Lib\\R\\library\\00LOCK\\dplyr\\html\\starwars.html를 C:\\ProgramData\\Anaconda3\\Lib\\R\\library\\dplyr\\html\\starwars.html로 복사하는데 문제가 발생했습니다: Permission denied\"Warning message in file.copy(savedcopy, lib, recursive = TRUE):\n",
      "\"C:\\ProgramData\\Anaconda3\\Lib\\R\\library\\00LOCK\\dplyr\\html\\storms.html를 C:\\ProgramData\\Anaconda3\\Lib\\R\\library\\dplyr\\html\\storms.html로 복사하는데 문제가 발생했습니다: Permission denied\"Warning message in file.copy(savedcopy, lib, recursive = TRUE):\n",
      "\"C:\\ProgramData\\Anaconda3\\Lib\\R\\library\\00LOCK\\dplyr\\html\\summarise.html를 C:\\ProgramData\\Anaconda3\\Lib\\R\\library\\dplyr\\html\\summarise.html로 복사하는데 문제가 발생했습니다: Permission denied\"Warning message in file.copy(savedcopy, lib, recursive = TRUE):\n",
      "\"C:\\ProgramData\\Anaconda3\\Lib\\R\\library\\00LOCK\\dplyr\\html\\summarise_all.html를 C:\\ProgramData\\Anaconda3\\Lib\\R\\library\\dplyr\\html\\summarise_all.html로 복사하는데 문제가 발생했습니다: Permission denied\"Warning message in file.copy(savedcopy, lib, recursive = TRUE):\n",
      "\"C:\\ProgramData\\Anaconda3\\Lib\\R\\library\\00LOCK\\dplyr\\html\\summarise_each.html를 C:\\ProgramData\\Anaconda3\\Lib\\R\\library\\dplyr\\html\\summarise_each.html로 복사하는데 문제가 발생했습니다: Permission denied\"Warning message in file.copy(savedcopy, lib, recursive = TRUE):\n",
      "\"C:\\ProgramData\\Anaconda3\\Lib\\R\\library\\00LOCK\\dplyr\\html\\tally.html를 C:\\ProgramData\\Anaconda3\\Lib\\R\\library\\dplyr\\html\\tally.html로 복사하는데 문제가 발생했습니다: Permission denied\"Warning message in file.copy(savedcopy, lib, recursive = TRUE):\n",
      "\"C:\\ProgramData\\Anaconda3\\Lib\\R\\library\\00LOCK\\dplyr\\html\\tbl.html를 C:\\ProgramData\\Anaconda3\\Lib\\R\\library\\dplyr\\html\\tbl.html로 복사하는데 문제가 발생했습니다: Permission denied\"Warning message in file.copy(savedcopy, lib, recursive = TRUE):\n",
      "\"C:\\ProgramData\\Anaconda3\\Lib\\R\\library\\00LOCK\\dplyr\\html\\tbl_cube.html를 C:\\ProgramData\\Anaconda3\\Lib\\R\\library\\dplyr\\html\\tbl_cube.html로 복사하는데 문제가 발생했습니다: Permission denied\"Warning message in file.copy(savedcopy, lib, recursive = TRUE):\n",
      "\"C:\\ProgramData\\Anaconda3\\Lib\\R\\library\\00LOCK\\dplyr\\html\\tbl_df.html를 C:\\ProgramData\\Anaconda3\\Lib\\R\\library\\dplyr\\html\\tbl_df.html로 복사하는데 문제가 발생했습니다: Permission denied\"Warning message in file.copy(savedcopy, lib, recursive = TRUE):\n",
      "\"C:\\ProgramData\\Anaconda3\\Lib\\R\\library\\00LOCK\\dplyr\\html\\tbl_vars.html를 C:\\ProgramData\\Anaconda3\\Lib\\R\\library\\dplyr\\html\\tbl_vars.html로 복사하는데 문제가 발생했습니다: Permission denied\"Warning message in file.copy(savedcopy, lib, recursive = TRUE):\n",
      "\"C:\\ProgramData\\Anaconda3\\Lib\\R\\library\\00LOCK\\dplyr\\html\\tidyeval.html를 C:\\ProgramData\\Anaconda3\\Lib\\R\\library\\dplyr\\html\\tidyeval.html로 복사하는데 문제가 발생했습니다: Permission denied\"Warning message in file.copy(savedcopy, lib, recursive = TRUE):\n",
      "\"C:\\ProgramData\\Anaconda3\\Lib\\R\\library\\00LOCK\\dplyr\\html\\top_n.html를 C:\\ProgramData\\Anaconda3\\Lib\\R\\library\\dplyr\\html\\top_n.html로 복사하는데 문제가 발생했습니다: Permission denied\"Warning message in file.copy(savedcopy, lib, recursive = TRUE):\n"
     ]
    },
    {
     "name": "stderr",
     "output_type": "stream",
     "text": [
      "\"C:\\ProgramData\\Anaconda3\\Lib\\R\\library\\00LOCK\\dplyr\\html\\vars.html를 C:\\ProgramData\\Anaconda3\\Lib\\R\\library\\dplyr\\html\\vars.html로 복사하는데 문제가 발생했습니다: Permission denied\"Warning message in file.copy(savedcopy, lib, recursive = TRUE):\n",
      "\"C:\\ProgramData\\Anaconda3\\Lib\\R\\library\\00LOCK\\dplyr\\html\\with_order.html를 C:\\ProgramData\\Anaconda3\\Lib\\R\\library\\dplyr\\html\\with_order.html로 복사하는데 문제가 발생했습니다: Permission denied\"Warning message in file.copy(savedcopy, lib, recursive = TRUE):\n",
      "\"C:\\ProgramData\\Anaconda3\\Lib\\R\\library\\00LOCK\\dplyr\\include\\dplyr\\allow_list.h를 C:\\ProgramData\\Anaconda3\\Lib\\R\\library\\dplyr\\include\\dplyr\\allow_list.h로 복사하는데 문제가 발생했습니다: Permission denied\"Warning message in file.copy(savedcopy, lib, recursive = TRUE):\n",
      "\"C:\\ProgramData\\Anaconda3\\Lib\\R\\library\\00LOCK\\dplyr\\include\\dplyr\\checks.h를 C:\\ProgramData\\Anaconda3\\Lib\\R\\library\\dplyr\\include\\dplyr\\checks.h로 복사하는데 문제가 발생했습니다: Permission denied\"Warning message in file.copy(savedcopy, lib, recursive = TRUE):\n",
      "\"C:\\ProgramData\\Anaconda3\\Lib\\R\\library\\00LOCK\\dplyr\\include\\dplyr\\Collecter.h를 C:\\ProgramData\\Anaconda3\\Lib\\R\\library\\dplyr\\include\\dplyr\\Collecter.h로 복사하는데 문제가 발생했습니다: Permission denied\"Warning message in file.copy(savedcopy, lib, recursive = TRUE):\n",
      "\"C:\\ProgramData\\Anaconda3\\Lib\\R\\library\\00LOCK\\dplyr\\include\\dplyr\\config.h를 C:\\ProgramData\\Anaconda3\\Lib\\R\\library\\dplyr\\include\\dplyr\\config.h로 복사하는데 문제가 발생했습니다: Permission denied\"Warning message in file.copy(savedcopy, lib, recursive = TRUE):\n",
      "\"C:\\ProgramData\\Anaconda3\\Lib\\R\\library\\00LOCK\\dplyr\\include\\dplyr\\data\\DataMask.h를 C:\\ProgramData\\Anaconda3\\Lib\\R\\library\\dplyr\\include\\dplyr\\data\\DataMask.h로 복사하는데 문제가 발생했습니다: Permission denied\"Warning message in file.copy(savedcopy, lib, recursive = TRUE):\n",
      "\"C:\\ProgramData\\Anaconda3\\Lib\\R\\library\\00LOCK\\dplyr\\include\\dplyr\\data\\GroupedDataFrame.h를 C:\\ProgramData\\Anaconda3\\Lib\\R\\library\\dplyr\\include\\dplyr\\data\\GroupedDataFrame.h로 복사하는데 문제가 발생했습니다: Permission denied\"Warning message in file.copy(savedcopy, lib, recursive = TRUE):\n",
      "\"C:\\ProgramData\\Anaconda3\\Lib\\R\\library\\00LOCK\\dplyr\\include\\dplyr\\data\\NaturalDataFrame.h를 C:\\ProgramData\\Anaconda3\\Lib\\R\\library\\dplyr\\include\\dplyr\\data\\NaturalDataFrame.h로 복사하는데 문제가 발생했습니다: Permission denied\"Warning message in file.copy(savedcopy, lib, recursive = TRUE):\n",
      "\"C:\\ProgramData\\Anaconda3\\Lib\\R\\library\\00LOCK\\dplyr\\include\\dplyr\\data\\RowwiseDataFrame.h를 C:\\ProgramData\\Anaconda3\\Lib\\R\\library\\dplyr\\include\\dplyr\\data\\RowwiseDataFrame.h로 복사하는데 문제가 발생했습니다: Permission denied\"Warning message in file.copy(savedcopy, lib, recursive = TRUE):\n",
      "\"C:\\ProgramData\\Anaconda3\\Lib\\R\\library\\00LOCK\\dplyr\\include\\dplyr\\dplyr.h를 C:\\ProgramData\\Anaconda3\\Lib\\R\\library\\dplyr\\include\\dplyr\\dplyr.h로 복사하는데 문제가 발생했습니다: Permission denied\"Warning message in file.copy(savedcopy, lib, recursive = TRUE):\n",
      "\"C:\\ProgramData\\Anaconda3\\Lib\\R\\library\\00LOCK\\dplyr\\include\\dplyr\\Groups.h를 C:\\ProgramData\\Anaconda3\\Lib\\R\\library\\dplyr\\include\\dplyr\\Groups.h로 복사하는데 문제가 발생했습니다: Permission denied\"Warning message in file.copy(savedcopy, lib, recursive = TRUE):\n",
      "\"C:\\ProgramData\\Anaconda3\\Lib\\R\\library\\00LOCK\\dplyr\\include\\dplyr\\hybrid\\Column.h를 C:\\ProgramData\\Anaconda3\\Lib\\R\\library\\dplyr\\include\\dplyr\\hybrid\\Column.h로 복사하는데 문제가 발생했습니다: Permission denied\"Warning message in file.copy(savedcopy, lib, recursive = TRUE):\n",
      "\"C:\\ProgramData\\Anaconda3\\Lib\\R\\library\\00LOCK\\dplyr\\include\\dplyr\\hybrid\\Dispatch.h를 C:\\ProgramData\\Anaconda3\\Lib\\R\\library\\dplyr\\include\\dplyr\\hybrid\\Dispatch.h로 복사하는데 문제가 발생했습니다: Permission denied\"Warning message in file.copy(savedcopy, lib, recursive = TRUE):\n",
      "\"C:\\ProgramData\\Anaconda3\\Lib\\R\\library\\00LOCK\\dplyr\\include\\dplyr\\hybrid\\Expression.h를 C:\\ProgramData\\Anaconda3\\Lib\\R\\library\\dplyr\\include\\dplyr\\hybrid\\Expression.h로 복사하는데 문제가 발생했습니다: Permission denied\"Warning message in file.copy(savedcopy, lib, recursive = TRUE):\n",
      "\"C:\\ProgramData\\Anaconda3\\Lib\\R\\library\\00LOCK\\dplyr\\include\\dplyr\\hybrid\\hybrid.h를 C:\\ProgramData\\Anaconda3\\Lib\\R\\library\\dplyr\\include\\dplyr\\hybrid\\hybrid.h로 복사하는데 문제가 발생했습니다: Permission denied\"Warning message in file.copy(savedcopy, lib, recursive = TRUE):\n",
      "\"C:\\ProgramData\\Anaconda3\\Lib\\R\\library\\00LOCK\\dplyr\\include\\dplyr\\hybrid\\HybridVectorScalarResult.h를 C:\\ProgramData\\Anaconda3\\Lib\\R\\library\\dplyr\\include\\dplyr\\hybrid\\HybridVectorScalarResult.h로 복사하는데 문제가 발생했습니다: Permission denied\"Warning message in file.copy(savedcopy, lib, recursive = TRUE):\n",
      "\"C:\\ProgramData\\Anaconda3\\Lib\\R\\library\\00LOCK\\dplyr\\include\\dplyr\\hybrid\\HybridVectorSummaryRecycleResult.h를 C:\\ProgramData\\Anaconda3\\Lib\\R\\library\\dplyr\\include\\dplyr\\hybrid\\HybridVectorSummaryRecycleResult.h로 복사하는데 문제가 발생했습니다: Permission denied\"Warning message in file.copy(savedcopy, lib, recursive = TRUE):\n",
      "\"C:\\ProgramData\\Anaconda3\\Lib\\R\\library\\00LOCK\\dplyr\\include\\dplyr\\hybrid\\HybridVectorVectorResult.h를 C:\\ProgramData\\Anaconda3\\Lib\\R\\library\\dplyr\\include\\dplyr\\hybrid\\HybridVectorVectorResult.h로 복사하는데 문제가 발생했습니다: Permission denied\"Warning message in file.copy(savedcopy, lib, recursive = TRUE):\n",
      "\"C:\\ProgramData\\Anaconda3\\Lib\\R\\library\\00LOCK\\dplyr\\include\\dplyr\\hybrid\\scalar_result\\first_last.h를 C:\\ProgramData\\Anaconda3\\Lib\\R\\library\\dplyr\\include\\dplyr\\hybrid\\scalar_result\\first_last.h로 복사하는데 문제가 발생했습니다: Permission denied\"Warning message in file.copy(savedcopy, lib, recursive = TRUE):\n",
      "\"C:\\ProgramData\\Anaconda3\\Lib\\R\\library\\00LOCK\\dplyr\\include\\dplyr\\hybrid\\scalar_result\\group_indices.h를 C:\\ProgramData\\Anaconda3\\Lib\\R\\library\\dplyr\\include\\dplyr\\hybrid\\scalar_result\\group_indices.h로 복사하는데 문제가 발생했습니다: Permission denied\"Warning message in file.copy(savedcopy, lib, recursive = TRUE):\n",
      "\"C:\\ProgramData\\Anaconda3\\Lib\\R\\library\\00LOCK\\dplyr\\include\\dplyr\\hybrid\\scalar_result\\mean_sd_var.h를 C:\\ProgramData\\Anaconda3\\Lib\\R\\library\\dplyr\\include\\dplyr\\hybrid\\scalar_result\\mean_sd_var.h로 복사하는데 문제가 발생했습니다: Permission denied\"Warning message in file.copy(savedcopy, lib, recursive = TRUE):\n",
      "\"C:\\ProgramData\\Anaconda3\\Lib\\R\\library\\00LOCK\\dplyr\\include\\dplyr\\hybrid\\scalar_result\\min_max.h를 C:\\ProgramData\\Anaconda3\\Lib\\R\\library\\dplyr\\include\\dplyr\\hybrid\\scalar_result\\min_max.h로 복사하는데 문제가 발생했습니다: Permission denied\"Warning message in file.copy(savedcopy, lib, recursive = TRUE):\n",
      "\"C:\\ProgramData\\Anaconda3\\Lib\\R\\library\\00LOCK\\dplyr\\include\\dplyr\\hybrid\\scalar_result\\n.h를 C:\\ProgramData\\Anaconda3\\Lib\\R\\library\\dplyr\\include\\dplyr\\hybrid\\scalar_result\\n.h로 복사하는데 문제가 발생했습니다: Permission denied\"Warning message in file.copy(savedcopy, lib, recursive = TRUE):\n",
      "\"C:\\ProgramData\\Anaconda3\\Lib\\R\\library\\00LOCK\\dplyr\\include\\dplyr\\hybrid\\scalar_result\\n_distinct.h를 C:\\ProgramData\\Anaconda3\\Lib\\R\\library\\dplyr\\include\\dplyr\\hybrid\\scalar_result\\n_distinct.h로 복사하는데 문제가 발생했습니다: Permission denied\"Warning message in file.copy(savedcopy, lib, recursive = TRUE):\n",
      "\"C:\\ProgramData\\Anaconda3\\Lib\\R\\library\\00LOCK\\dplyr\\include\\dplyr\\hybrid\\scalar_result\\sum.h를 C:\\ProgramData\\Anaconda3\\Lib\\R\\library\\dplyr\\include\\dplyr\\hybrid\\scalar_result\\sum.h로 복사하는데 문제가 발생했습니다: Permission denied\"Warning message in file.copy(savedcopy, lib, recursive = TRUE):\n",
      "\"C:\\ProgramData\\Anaconda3\\Lib\\R\\library\\00LOCK\\dplyr\\include\\dplyr\\hybrid\\vector_result\\echo.h를 C:\\ProgramData\\Anaconda3\\Lib\\R\\library\\dplyr\\include\\dplyr\\hybrid\\vector_result\\echo.h로 복사하는데 문제가 발생했습니다: Permission denied\"Warning message in file.copy(savedcopy, lib, recursive = TRUE):\n",
      "\"C:\\ProgramData\\Anaconda3\\Lib\\R\\library\\00LOCK\\dplyr\\include\\dplyr\\hybrid\\vector_result\\in.h를 C:\\ProgramData\\Anaconda3\\Lib\\R\\library\\dplyr\\include\\dplyr\\hybrid\\vector_result\\in.h로 복사하는데 문제가 발생했습니다: Permission denied\"Warning message in file.copy(savedcopy, lib, recursive = TRUE):\n",
      "\"C:\\ProgramData\\Anaconda3\\Lib\\R\\library\\00LOCK\\dplyr\\include\\dplyr\\hybrid\\vector_result\\lead_lag.h를 C:\\ProgramData\\Anaconda3\\Lib\\R\\library\\dplyr\\include\\dplyr\\hybrid\\vector_result\\lead_lag.h로 복사하는데 문제가 발생했습니다: Permission denied\"Warning message in file.copy(savedcopy, lib, recursive = TRUE):\n",
      "\"C:\\ProgramData\\Anaconda3\\Lib\\R\\library\\00LOCK\\dplyr\\include\\dplyr\\hybrid\\vector_result\\ntile.h를 C:\\ProgramData\\Anaconda3\\Lib\\R\\library\\dplyr\\include\\dplyr\\hybrid\\vector_result\\ntile.h로 복사하는데 문제가 발생했습니다: Permission denied\"Warning message in file.copy(savedcopy, lib, recursive = TRUE):\n"
     ]
    },
    {
     "name": "stderr",
     "output_type": "stream",
     "text": [
      "\"C:\\ProgramData\\Anaconda3\\Lib\\R\\library\\00LOCK\\dplyr\\include\\dplyr\\hybrid\\vector_result\\rank.h를 C:\\ProgramData\\Anaconda3\\Lib\\R\\library\\dplyr\\include\\dplyr\\hybrid\\vector_result\\rank.h로 복사하는데 문제가 발생했습니다: Permission denied\"Warning message in file.copy(savedcopy, lib, recursive = TRUE):\n",
      "\"C:\\ProgramData\\Anaconda3\\Lib\\R\\library\\00LOCK\\dplyr\\include\\dplyr\\hybrid\\vector_result\\row_number.h를 C:\\ProgramData\\Anaconda3\\Lib\\R\\library\\dplyr\\include\\dplyr\\hybrid\\vector_result\\row_number.h로 복사하는데 문제가 발생했습니다: Permission denied\"Warning message in file.copy(savedcopy, lib, recursive = TRUE):\n",
      "\"C:\\ProgramData\\Anaconda3\\Lib\\R\\library\\00LOCK\\dplyr\\include\\dplyr\\lifecycle.h를 C:\\ProgramData\\Anaconda3\\Lib\\R\\library\\dplyr\\include\\dplyr\\lifecycle.h로 복사하는데 문제가 발생했습니다: Permission denied\"Warning message in file.copy(savedcopy, lib, recursive = TRUE):\n",
      "\"C:\\ProgramData\\Anaconda3\\Lib\\R\\library\\00LOCK\\dplyr\\include\\dplyr\\main.h를 C:\\ProgramData\\Anaconda3\\Lib\\R\\library\\dplyr\\include\\dplyr\\main.h로 복사하는데 문제가 발생했습니다: Permission denied\"Warning message in file.copy(savedcopy, lib, recursive = TRUE):\n",
      "\"C:\\ProgramData\\Anaconda3\\Lib\\R\\library\\00LOCK\\dplyr\\include\\dplyr\\NamedListAccumulator.h를 C:\\ProgramData\\Anaconda3\\Lib\\R\\library\\dplyr\\include\\dplyr\\NamedListAccumulator.h로 복사하는데 문제가 발생했습니다: Permission denied\"Warning message in file.copy(savedcopy, lib, recursive = TRUE):\n",
      "\"C:\\ProgramData\\Anaconda3\\Lib\\R\\library\\00LOCK\\dplyr\\include\\dplyr\\registration.h를 C:\\ProgramData\\Anaconda3\\Lib\\R\\library\\dplyr\\include\\dplyr\\registration.h로 복사하는데 문제가 발생했습니다: Permission denied\"Warning message in file.copy(savedcopy, lib, recursive = TRUE):\n",
      "\"C:\\ProgramData\\Anaconda3\\Lib\\R\\library\\00LOCK\\dplyr\\include\\dplyr\\standard\\GroupedCallReducer.h를 C:\\ProgramData\\Anaconda3\\Lib\\R\\library\\dplyr\\include\\dplyr\\standard\\GroupedCallReducer.h로 복사하는데 문제가 발생했습니다: Permission denied\"Warning message in file.copy(savedcopy, lib, recursive = TRUE):\n",
      "\"C:\\ProgramData\\Anaconda3\\Lib\\R\\library\\00LOCK\\dplyr\\include\\dplyr\\symbols.h를 C:\\ProgramData\\Anaconda3\\Lib\\R\\library\\dplyr\\include\\dplyr\\symbols.h로 복사하는데 문제가 발생했습니다: Permission denied\"Warning message in file.copy(savedcopy, lib, recursive = TRUE):\n",
      "\"C:\\ProgramData\\Anaconda3\\Lib\\R\\library\\00LOCK\\dplyr\\include\\dplyr\\visitors\\CharacterVectorOrderer.h를 C:\\ProgramData\\Anaconda3\\Lib\\R\\library\\dplyr\\include\\dplyr\\visitors\\CharacterVectorOrderer.h로 복사하는데 문제가 발생했습니다: Permission denied\"Warning message in file.copy(savedcopy, lib, recursive = TRUE):\n",
      "\"C:\\ProgramData\\Anaconda3\\Lib\\R\\library\\00LOCK\\dplyr\\include\\dplyr\\visitors\\Comparer.h를 C:\\ProgramData\\Anaconda3\\Lib\\R\\library\\dplyr\\include\\dplyr\\visitors\\Comparer.h로 복사하는데 문제가 발생했습니다: Permission denied\"Warning message in file.copy(savedcopy, lib, recursive = TRUE):\n",
      "\"C:\\ProgramData\\Anaconda3\\Lib\\R\\library\\00LOCK\\dplyr\\include\\dplyr\\visitors\\join\\Column.h를 C:\\ProgramData\\Anaconda3\\Lib\\R\\library\\dplyr\\include\\dplyr\\visitors\\join\\Column.h로 복사하는데 문제가 발생했습니다: Permission denied\"Warning message in file.copy(savedcopy, lib, recursive = TRUE):\n",
      "\"C:\\ProgramData\\Anaconda3\\Lib\\R\\library\\00LOCK\\dplyr\\include\\dplyr\\visitors\\join\\DataFrameJoinVisitors.h를 C:\\ProgramData\\Anaconda3\\Lib\\R\\library\\dplyr\\include\\dplyr\\visitors\\join\\DataFrameJoinVisitors.h로 복사하는데 문제가 발생했습니다: Permission denied\"Warning message in file.copy(savedcopy, lib, recursive = TRUE):\n",
      "\"C:\\ProgramData\\Anaconda3\\Lib\\R\\library\\00LOCK\\dplyr\\include\\dplyr\\visitors\\join\\JoinVisitor.h를 C:\\ProgramData\\Anaconda3\\Lib\\R\\library\\dplyr\\include\\dplyr\\visitors\\join\\JoinVisitor.h로 복사하는데 문제가 발생했습니다: Permission denied\"Warning message in file.copy(savedcopy, lib, recursive = TRUE):\n",
      "\"C:\\ProgramData\\Anaconda3\\Lib\\R\\library\\00LOCK\\dplyr\\include\\dplyr\\visitors\\join\\JoinVisitorImpl.h를 C:\\ProgramData\\Anaconda3\\Lib\\R\\library\\dplyr\\include\\dplyr\\visitors\\join\\JoinVisitorImpl.h로 복사하는데 문제가 발생했습니다: Permission denied\"Warning message in file.copy(savedcopy, lib, recursive = TRUE):\n",
      "\"C:\\ProgramData\\Anaconda3\\Lib\\R\\library\\00LOCK\\dplyr\\include\\dplyr\\visitors\\join\\join_match.h를 C:\\ProgramData\\Anaconda3\\Lib\\R\\library\\dplyr\\include\\dplyr\\visitors\\join\\join_match.h로 복사하는데 문제가 발생했습니다: Permission denied\"Warning message in file.copy(savedcopy, lib, recursive = TRUE):\n",
      "\"C:\\ProgramData\\Anaconda3\\Lib\\R\\library\\00LOCK\\dplyr\\include\\dplyr\\visitors\\order\\Order.h를 C:\\ProgramData\\Anaconda3\\Lib\\R\\library\\dplyr\\include\\dplyr\\visitors\\order\\Order.h로 복사하는데 문제가 발생했습니다: Permission denied\"Warning message in file.copy(savedcopy, lib, recursive = TRUE):\n",
      "\"C:\\ProgramData\\Anaconda3\\Lib\\R\\library\\00LOCK\\dplyr\\include\\dplyr\\visitors\\order\\OrderVisitor.h를 C:\\ProgramData\\Anaconda3\\Lib\\R\\library\\dplyr\\include\\dplyr\\visitors\\order\\OrderVisitor.h로 복사하는데 문제가 발생했습니다: Permission denied\"Warning message in file.copy(savedcopy, lib, recursive = TRUE):\n",
      "\"C:\\ProgramData\\Anaconda3\\Lib\\R\\library\\00LOCK\\dplyr\\include\\dplyr\\visitors\\order\\OrderVisitorImpl.h를 C:\\ProgramData\\Anaconda3\\Lib\\R\\library\\dplyr\\include\\dplyr\\visitors\\order\\OrderVisitorImpl.h로 복사하는데 문제가 발생했습니다: Permission denied\"Warning message in file.copy(savedcopy, lib, recursive = TRUE):\n",
      "\"C:\\ProgramData\\Anaconda3\\Lib\\R\\library\\00LOCK\\dplyr\\include\\dplyr\\visitors\\SliceVisitor.h를 C:\\ProgramData\\Anaconda3\\Lib\\R\\library\\dplyr\\include\\dplyr\\visitors\\SliceVisitor.h로 복사하는데 문제가 발생했습니다: Permission denied\"Warning message in file.copy(savedcopy, lib, recursive = TRUE):\n",
      "\"C:\\ProgramData\\Anaconda3\\Lib\\R\\library\\00LOCK\\dplyr\\include\\dplyr\\visitors\\subset\\column_subset.h를 C:\\ProgramData\\Anaconda3\\Lib\\R\\library\\dplyr\\include\\dplyr\\visitors\\subset\\column_subset.h로 복사하는데 문제가 발생했습니다: Permission denied\"Warning message in file.copy(savedcopy, lib, recursive = TRUE):\n",
      "\"C:\\ProgramData\\Anaconda3\\Lib\\R\\library\\00LOCK\\dplyr\\include\\dplyr\\visitors\\subset\\DataFrameSelect.h를 C:\\ProgramData\\Anaconda3\\Lib\\R\\library\\dplyr\\include\\dplyr\\visitors\\subset\\DataFrameSelect.h로 복사하는데 문제가 발생했습니다: Permission denied\"Warning message in file.copy(savedcopy, lib, recursive = TRUE):\n",
      "\"C:\\ProgramData\\Anaconda3\\Lib\\R\\library\\00LOCK\\dplyr\\include\\dplyr\\visitors\\subset\\DataFrameSubsetVisitors.h를 C:\\ProgramData\\Anaconda3\\Lib\\R\\library\\dplyr\\include\\dplyr\\visitors\\subset\\DataFrameSubsetVisitors.h로 복사하는데 문제가 발생했습니다: Permission denied\"Warning message in file.copy(savedcopy, lib, recursive = TRUE):\n",
      "\"C:\\ProgramData\\Anaconda3\\Lib\\R\\library\\00LOCK\\dplyr\\include\\dplyr\\visitors\\vector\\DataFrameColumnVisitor.h를 C:\\ProgramData\\Anaconda3\\Lib\\R\\library\\dplyr\\include\\dplyr\\visitors\\vector\\DataFrameColumnVisitor.h로 복사하는데 문제가 발생했습니다: Permission denied\"Warning message in file.copy(savedcopy, lib, recursive = TRUE):\n",
      "\"C:\\ProgramData\\Anaconda3\\Lib\\R\\library\\00LOCK\\dplyr\\include\\dplyr\\visitors\\vector\\DataFrameVisitors.h를 C:\\ProgramData\\Anaconda3\\Lib\\R\\library\\dplyr\\include\\dplyr\\visitors\\vector\\DataFrameVisitors.h로 복사하는데 문제가 발생했습니다: Permission denied\"Warning message in file.copy(savedcopy, lib, recursive = TRUE):\n",
      "\"C:\\ProgramData\\Anaconda3\\Lib\\R\\library\\00LOCK\\dplyr\\include\\dplyr\\visitors\\vector\\MatrixColumnVisitor.h를 C:\\ProgramData\\Anaconda3\\Lib\\R\\library\\dplyr\\include\\dplyr\\visitors\\vector\\MatrixColumnVisitor.h로 복사하는데 문제가 발생했습니다: Permission denied\"Warning message in file.copy(savedcopy, lib, recursive = TRUE):\n",
      "\"C:\\ProgramData\\Anaconda3\\Lib\\R\\library\\00LOCK\\dplyr\\include\\dplyr\\visitors\\vector\\MultipleVectorVisitors.h를 C:\\ProgramData\\Anaconda3\\Lib\\R\\library\\dplyr\\include\\dplyr\\visitors\\vector\\MultipleVectorVisitors.h로 복사하는데 문제가 발생했습니다: Permission denied\"Warning message in file.copy(savedcopy, lib, recursive = TRUE):\n",
      "\"C:\\ProgramData\\Anaconda3\\Lib\\R\\library\\00LOCK\\dplyr\\include\\dplyr\\visitors\\vector\\VectorVisitor.h를 C:\\ProgramData\\Anaconda3\\Lib\\R\\library\\dplyr\\include\\dplyr\\visitors\\vector\\VectorVisitor.h로 복사하는데 문제가 발생했습니다: Permission denied\"Warning message in file.copy(savedcopy, lib, recursive = TRUE):\n",
      "\"C:\\ProgramData\\Anaconda3\\Lib\\R\\library\\00LOCK\\dplyr\\include\\dplyr\\visitors\\vector\\VectorVisitorImpl.h를 C:\\ProgramData\\Anaconda3\\Lib\\R\\library\\dplyr\\include\\dplyr\\visitors\\vector\\VectorVisitorImpl.h로 복사하는데 문제가 발생했습니다: Permission denied\"Warning message in file.copy(savedcopy, lib, recursive = TRUE):\n"
     ]
    },
    {
     "name": "stderr",
     "output_type": "stream",
     "text": [
      "\"C:\\ProgramData\\Anaconda3\\Lib\\R\\library\\00LOCK\\dplyr\\include\\dplyr\\visitors\\vector\\visitor.h를 C:\\ProgramData\\Anaconda3\\Lib\\R\\library\\dplyr\\include\\dplyr\\visitors\\vector\\visitor.h로 복사하는데 문제가 발생했습니다: Permission denied\"Warning message in file.copy(savedcopy, lib, recursive = TRUE):\n",
      "\"C:\\ProgramData\\Anaconda3\\Lib\\R\\library\\00LOCK\\dplyr\\include\\dplyr\\visitors\\vector\\visitor_impl.h를 C:\\ProgramData\\Anaconda3\\Lib\\R\\library\\dplyr\\include\\dplyr\\visitors\\vector\\visitor_impl.h로 복사하는데 문제가 발생했습니다: Permission denied\"Warning message in file.copy(savedcopy, lib, recursive = TRUE):\n",
      "\"C:\\ProgramData\\Anaconda3\\Lib\\R\\library\\00LOCK\\dplyr\\include\\dplyr\\visitor_set\\VisitorEqualPredicate.h를 C:\\ProgramData\\Anaconda3\\Lib\\R\\library\\dplyr\\include\\dplyr\\visitor_set\\VisitorEqualPredicate.h로 복사하는데 문제가 발생했습니다: Permission denied\"Warning message in file.copy(savedcopy, lib, recursive = TRUE):\n",
      "\"C:\\ProgramData\\Anaconda3\\Lib\\R\\library\\00LOCK\\dplyr\\include\\dplyr\\visitor_set\\VisitorHash.h를 C:\\ProgramData\\Anaconda3\\Lib\\R\\library\\dplyr\\include\\dplyr\\visitor_set\\VisitorHash.h로 복사하는데 문제가 발생했습니다: Permission denied\"Warning message in file.copy(savedcopy, lib, recursive = TRUE):\n",
      "\"C:\\ProgramData\\Anaconda3\\Lib\\R\\library\\00LOCK\\dplyr\\include\\dplyr\\visitor_set\\VisitorSetEqual.h를 C:\\ProgramData\\Anaconda3\\Lib\\R\\library\\dplyr\\include\\dplyr\\visitor_set\\VisitorSetEqual.h로 복사하는데 문제가 발생했습니다: Permission denied\"Warning message in file.copy(savedcopy, lib, recursive = TRUE):\n",
      "\"C:\\ProgramData\\Anaconda3\\Lib\\R\\library\\00LOCK\\dplyr\\include\\dplyr\\visitor_set\\VisitorSetEqualPredicate.h를 C:\\ProgramData\\Anaconda3\\Lib\\R\\library\\dplyr\\include\\dplyr\\visitor_set\\VisitorSetEqualPredicate.h로 복사하는데 문제가 발생했습니다: Permission denied\"Warning message in file.copy(savedcopy, lib, recursive = TRUE):\n",
      "\"C:\\ProgramData\\Anaconda3\\Lib\\R\\library\\00LOCK\\dplyr\\include\\dplyr\\visitor_set\\VisitorSetGreater.h를 C:\\ProgramData\\Anaconda3\\Lib\\R\\library\\dplyr\\include\\dplyr\\visitor_set\\VisitorSetGreater.h로 복사하는데 문제가 발생했습니다: Permission denied\"Warning message in file.copy(savedcopy, lib, recursive = TRUE):\n",
      "\"C:\\ProgramData\\Anaconda3\\Lib\\R\\library\\00LOCK\\dplyr\\include\\dplyr\\visitor_set\\VisitorSetHash.h를 C:\\ProgramData\\Anaconda3\\Lib\\R\\library\\dplyr\\include\\dplyr\\visitor_set\\VisitorSetHash.h로 복사하는데 문제가 발생했습니다: Permission denied\"Warning message in file.copy(savedcopy, lib, recursive = TRUE):\n",
      "\"C:\\ProgramData\\Anaconda3\\Lib\\R\\library\\00LOCK\\dplyr\\include\\dplyr\\visitor_set\\VisitorSetHasher.h를 C:\\ProgramData\\Anaconda3\\Lib\\R\\library\\dplyr\\include\\dplyr\\visitor_set\\VisitorSetHasher.h로 복사하는데 문제가 발생했습니다: Permission denied\"Warning message in file.copy(savedcopy, lib, recursive = TRUE):\n",
      "\"C:\\ProgramData\\Anaconda3\\Lib\\R\\library\\00LOCK\\dplyr\\include\\dplyr\\visitor_set\\VisitorSetIndexMap.h를 C:\\ProgramData\\Anaconda3\\Lib\\R\\library\\dplyr\\include\\dplyr\\visitor_set\\VisitorSetIndexMap.h로 복사하는데 문제가 발생했습니다: Permission denied\"Warning message in file.copy(savedcopy, lib, recursive = TRUE):\n",
      "\"C:\\ProgramData\\Anaconda3\\Lib\\R\\library\\00LOCK\\dplyr\\include\\dplyr\\visitor_set\\VisitorSetIndexSet.h를 C:\\ProgramData\\Anaconda3\\Lib\\R\\library\\dplyr\\include\\dplyr\\visitor_set\\VisitorSetIndexSet.h로 복사하는데 문제가 발생했습니다: Permission denied\"Warning message in file.copy(savedcopy, lib, recursive = TRUE):\n",
      "\"C:\\ProgramData\\Anaconda3\\Lib\\R\\library\\00LOCK\\dplyr\\include\\dplyr\\visitor_set\\VisitorSetLess.h를 C:\\ProgramData\\Anaconda3\\Lib\\R\\library\\dplyr\\include\\dplyr\\visitor_set\\VisitorSetLess.h로 복사하는데 문제가 발생했습니다: Permission denied\"Warning message in file.copy(savedcopy, lib, recursive = TRUE):\n",
      "\"C:\\ProgramData\\Anaconda3\\Lib\\R\\library\\00LOCK\\dplyr\\include\\dplyr\\visitor_set\\visitor_set.h를 C:\\ProgramData\\Anaconda3\\Lib\\R\\library\\dplyr\\include\\dplyr\\visitor_set\\visitor_set.h로 복사하는데 문제가 발생했습니다: Permission denied\"Warning message in file.copy(savedcopy, lib, recursive = TRUE):\n",
      "\"C:\\ProgramData\\Anaconda3\\Lib\\R\\library\\00LOCK\\dplyr\\include\\dplyr\\workarounds\\installChar.h를 C:\\ProgramData\\Anaconda3\\Lib\\R\\library\\dplyr\\include\\dplyr\\workarounds\\installChar.h로 복사하는데 문제가 발생했습니다: Permission denied\"Warning message in file.copy(savedcopy, lib, recursive = TRUE):\n",
      "\"C:\\ProgramData\\Anaconda3\\Lib\\R\\library\\00LOCK\\dplyr\\include\\dplyr\\workarounds\\static_assert.h를 C:\\ProgramData\\Anaconda3\\Lib\\R\\library\\dplyr\\include\\dplyr\\workarounds\\static_assert.h로 복사하는데 문제가 발생했습니다: Permission denied\"Warning message in file.copy(savedcopy, lib, recursive = TRUE):\n",
      "\"C:\\ProgramData\\Anaconda3\\Lib\\R\\library\\00LOCK\\dplyr\\include\\dplyr\\workarounds\\xlen.h를 C:\\ProgramData\\Anaconda3\\Lib\\R\\library\\dplyr\\include\\dplyr\\workarounds\\xlen.h로 복사하는데 문제가 발생했습니다: Permission denied\"Warning message in file.copy(savedcopy, lib, recursive = TRUE):\n",
      "\"C:\\ProgramData\\Anaconda3\\Lib\\R\\library\\00LOCK\\dplyr\\include\\dplyr.h를 C:\\ProgramData\\Anaconda3\\Lib\\R\\library\\dplyr\\include\\dplyr.h로 복사하는데 문제가 발생했습니다: Permission denied\"Warning message in file.copy(savedcopy, lib, recursive = TRUE):\n",
      "\"C:\\ProgramData\\Anaconda3\\Lib\\R\\library\\00LOCK\\dplyr\\include\\dplyr_RcppExports.h를 C:\\ProgramData\\Anaconda3\\Lib\\R\\library\\dplyr\\include\\dplyr_RcppExports.h로 복사하는데 문제가 발생했습니다: Permission denied\"Warning message in file.copy(savedcopy, lib, recursive = TRUE):\n",
      "\"C:\\ProgramData\\Anaconda3\\Lib\\R\\library\\00LOCK\\dplyr\\include\\dplyr_types.h를 C:\\ProgramData\\Anaconda3\\Lib\\R\\library\\dplyr\\include\\dplyr_types.h로 복사하는데 문제가 발생했습니다: Permission denied\"Warning message in file.copy(savedcopy, lib, recursive = TRUE):\n",
      "\"C:\\ProgramData\\Anaconda3\\Lib\\R\\library\\00LOCK\\dplyr\\include\\solaris\\solaris.h를 C:\\ProgramData\\Anaconda3\\Lib\\R\\library\\dplyr\\include\\solaris\\solaris.h로 복사하는데 문제가 발생했습니다: Permission denied\"Warning message in file.copy(savedcopy, lib, recursive = TRUE):\n",
      "\"C:\\ProgramData\\Anaconda3\\Lib\\R\\library\\00LOCK\\dplyr\\include\\tools\\all_na.h를 C:\\ProgramData\\Anaconda3\\Lib\\R\\library\\dplyr\\include\\tools\\all_na.h로 복사하는데 문제가 발생했습니다: Permission denied\"Warning message in file.copy(savedcopy, lib, recursive = TRUE):\n",
      "\"C:\\ProgramData\\Anaconda3\\Lib\\R\\library\\00LOCK\\dplyr\\include\\tools\\bad.h를 C:\\ProgramData\\Anaconda3\\Lib\\R\\library\\dplyr\\include\\tools\\bad.h로 복사하는데 문제가 발생했습니다: Permission denied\"Warning message in file.copy(savedcopy, lib, recursive = TRUE):\n",
      "\"C:\\ProgramData\\Anaconda3\\Lib\\R\\library\\00LOCK\\dplyr\\include\\tools\\BoolResult.h를 C:\\ProgramData\\Anaconda3\\Lib\\R\\library\\dplyr\\include\\tools\\BoolResult.h로 복사하는데 문제가 발생했습니다: Permission denied\"Warning message in file.copy(savedcopy, lib, recursive = TRUE):\n",
      "\"C:\\ProgramData\\Anaconda3\\Lib\\R\\library\\00LOCK\\dplyr\\include\\tools\\collapse.h를 C:\\ProgramData\\Anaconda3\\Lib\\R\\library\\dplyr\\include\\tools\\collapse.h로 복사하는데 문제가 발생했습니다: Permission denied\"Warning message in file.copy(savedcopy, lib, recursive = TRUE):\n",
      "\"C:\\ProgramData\\Anaconda3\\Lib\\R\\library\\00LOCK\\dplyr\\include\\tools\\comparisons.h를 C:\\ProgramData\\Anaconda3\\Lib\\R\\library\\dplyr\\include\\tools\\comparisons.h로 복사하는데 문제가 발생했습니다: Permission denied\"Warning message in file.copy(savedcopy, lib, recursive = TRUE):\n",
      "\"C:\\ProgramData\\Anaconda3\\Lib\\R\\library\\00LOCK\\dplyr\\include\\tools\\debug.h를 C:\\ProgramData\\Anaconda3\\Lib\\R\\library\\dplyr\\include\\tools\\debug.h로 복사하는데 문제가 발생했습니다: Permission denied\"Warning message in file.copy(savedcopy, lib, recursive = TRUE):\n",
      "\"C:\\ProgramData\\Anaconda3\\Lib\\R\\library\\00LOCK\\dplyr\\include\\tools\\default_value.h를 C:\\ProgramData\\Anaconda3\\Lib\\R\\library\\dplyr\\include\\tools\\default_value.h로 복사하는데 문제가 발생했습니다: Permission denied\"Warning message in file.copy(savedcopy, lib, recursive = TRUE):\n",
      "\"C:\\ProgramData\\Anaconda3\\Lib\\R\\library\\00LOCK\\dplyr\\include\\tools\\encoding.h를 C:\\ProgramData\\Anaconda3\\Lib\\R\\library\\dplyr\\include\\tools\\encoding.h로 복사하는데 문제가 발생했습니다: Permission denied\"Warning message in file.copy(savedcopy, lib, recursive = TRUE):\n",
      "\"C:\\ProgramData\\Anaconda3\\Lib\\R\\library\\00LOCK\\dplyr\\include\\tools\\hash.h를 C:\\ProgramData\\Anaconda3\\Lib\\R\\library\\dplyr\\include\\tools\\hash.h로 복사하는데 문제가 발생했습니다: Permission denied\"Warning message in file.copy(savedcopy, lib, recursive = TRUE):\n",
      "\"C:\\ProgramData\\Anaconda3\\Lib\\R\\library\\00LOCK\\dplyr\\include\\tools\\match.h를 C:\\ProgramData\\Anaconda3\\Lib\\R\\library\\dplyr\\include\\tools\\match.h로 복사하는데 문제가 발생했습니다: Permission denied\"Warning message in file.copy(savedcopy, lib, recursive = TRUE):\n"
     ]
    },
    {
     "name": "stderr",
     "output_type": "stream",
     "text": [
      "\"C:\\ProgramData\\Anaconda3\\Lib\\R\\library\\00LOCK\\dplyr\\include\\tools\\pointer_vector.h를 C:\\ProgramData\\Anaconda3\\Lib\\R\\library\\dplyr\\include\\tools\\pointer_vector.h로 복사하는데 문제가 발생했습니다: Permission denied\"Warning message in file.copy(savedcopy, lib, recursive = TRUE):\n",
      "\"C:\\ProgramData\\Anaconda3\\Lib\\R\\library\\00LOCK\\dplyr\\include\\tools\\Quosure.h를 C:\\ProgramData\\Anaconda3\\Lib\\R\\library\\dplyr\\include\\tools\\Quosure.h로 복사하는데 문제가 발생했습니다: Permission denied\"Warning message in file.copy(savedcopy, lib, recursive = TRUE):\n",
      "\"C:\\ProgramData\\Anaconda3\\Lib\\R\\library\\00LOCK\\dplyr\\include\\tools\\rlang-export.h를 C:\\ProgramData\\Anaconda3\\Lib\\R\\library\\dplyr\\include\\tools\\rlang-export.h로 복사하는데 문제가 발생했습니다: Permission denied\"Warning message in file.copy(savedcopy, lib, recursive = TRUE):\n",
      "\"C:\\ProgramData\\Anaconda3\\Lib\\R\\library\\00LOCK\\dplyr\\include\\tools\\scalar_type.h를 C:\\ProgramData\\Anaconda3\\Lib\\R\\library\\dplyr\\include\\tools\\scalar_type.h로 복사하는데 문제가 발생했습니다: Permission denied\"Warning message in file.copy(savedcopy, lib, recursive = TRUE):\n",
      "\"C:\\ProgramData\\Anaconda3\\Lib\\R\\library\\00LOCK\\dplyr\\include\\tools\\set_rownames.h를 C:\\ProgramData\\Anaconda3\\Lib\\R\\library\\dplyr\\include\\tools\\set_rownames.h로 복사하는데 문제가 발생했습니다: Permission denied\"Warning message in file.copy(savedcopy, lib, recursive = TRUE):\n",
      "\"C:\\ProgramData\\Anaconda3\\Lib\\R\\library\\00LOCK\\dplyr\\include\\tools\\SlicingIndex.h를 C:\\ProgramData\\Anaconda3\\Lib\\R\\library\\dplyr\\include\\tools\\SlicingIndex.h로 복사하는데 문제가 발생했습니다: Permission denied\"Warning message in file.copy(savedcopy, lib, recursive = TRUE):\n",
      "\"C:\\ProgramData\\Anaconda3\\Lib\\R\\library\\00LOCK\\dplyr\\include\\tools\\SymbolMap.h를 C:\\ProgramData\\Anaconda3\\Lib\\R\\library\\dplyr\\include\\tools\\SymbolMap.h로 복사하는데 문제가 발생했습니다: Permission denied\"Warning message in file.copy(savedcopy, lib, recursive = TRUE):\n",
      "\"C:\\ProgramData\\Anaconda3\\Lib\\R\\library\\00LOCK\\dplyr\\include\\tools\\SymbolString.h를 C:\\ProgramData\\Anaconda3\\Lib\\R\\library\\dplyr\\include\\tools\\SymbolString.h로 복사하는데 문제가 발생했습니다: Permission denied\"Warning message in file.copy(savedcopy, lib, recursive = TRUE):\n",
      "\"C:\\ProgramData\\Anaconda3\\Lib\\R\\library\\00LOCK\\dplyr\\include\\tools\\SymbolVector.h를 C:\\ProgramData\\Anaconda3\\Lib\\R\\library\\dplyr\\include\\tools\\SymbolVector.h로 복사하는데 문제가 발생했습니다: Permission denied\"Warning message in file.copy(savedcopy, lib, recursive = TRUE):\n",
      "\"C:\\ProgramData\\Anaconda3\\Lib\\R\\library\\00LOCK\\dplyr\\include\\tools\\tools.h를 C:\\ProgramData\\Anaconda3\\Lib\\R\\library\\dplyr\\include\\tools\\tools.h로 복사하는데 문제가 발생했습니다: Permission denied\"Warning message in file.copy(savedcopy, lib, recursive = TRUE):\n",
      "\"C:\\ProgramData\\Anaconda3\\Lib\\R\\library\\00LOCK\\dplyr\\include\\tools\\train.h를 C:\\ProgramData\\Anaconda3\\Lib\\R\\library\\dplyr\\include\\tools\\train.h로 복사하는데 문제가 발생했습니다: Permission denied\"Warning message in file.copy(savedcopy, lib, recursive = TRUE):\n",
      "\"C:\\ProgramData\\Anaconda3\\Lib\\R\\library\\00LOCK\\dplyr\\include\\tools\\utils.h를 C:\\ProgramData\\Anaconda3\\Lib\\R\\library\\dplyr\\include\\tools\\utils.h로 복사하는데 문제가 발생했습니다: Permission denied\"Warning message in file.copy(savedcopy, lib, recursive = TRUE):\n",
      "\"C:\\ProgramData\\Anaconda3\\Lib\\R\\library\\00LOCK\\dplyr\\include\\tools\\VectorView.h를 C:\\ProgramData\\Anaconda3\\Lib\\R\\library\\dplyr\\include\\tools\\VectorView.h로 복사하는데 문제가 발생했습니다: Permission denied\"Warning message in file.copy(savedcopy, lib, recursive = TRUE):\n",
      "\"C:\\ProgramData\\Anaconda3\\Lib\\R\\library\\00LOCK\\dplyr\\include\\tools\\vector_class.h를 C:\\ProgramData\\Anaconda3\\Lib\\R\\library\\dplyr\\include\\tools\\vector_class.h로 복사하는데 문제가 발생했습니다: Permission denied\"Warning message in file.copy(savedcopy, lib, recursive = TRUE):\n",
      "\"C:\\ProgramData\\Anaconda3\\Lib\\R\\library\\00LOCK\\dplyr\\INDEX를 C:\\ProgramData\\Anaconda3\\Lib\\R\\library\\dplyr\\INDEX로 복사하는데 문제가 발생했습니다: Permission denied\"Warning message in file.copy(savedcopy, lib, recursive = TRUE):\n",
      "\"C:\\ProgramData\\Anaconda3\\Lib\\R\\library\\00LOCK\\dplyr\\libs\\x64\\dplyr.dll를 C:\\ProgramData\\Anaconda3\\Lib\\R\\library\\dplyr\\libs\\x64\\dplyr.dll로 복사하는데 문제가 발생했습니다: Permission denied\"Warning message in file.copy(savedcopy, lib, recursive = TRUE):\n",
      "\"C:\\ProgramData\\Anaconda3\\Lib\\R\\library\\00LOCK\\dplyr\\LICENSE를 C:\\ProgramData\\Anaconda3\\Lib\\R\\library\\dplyr\\LICENSE로 복사하는데 문제가 발생했습니다: Permission denied\"Warning message in file.copy(savedcopy, lib, recursive = TRUE):\n",
      "\"C:\\ProgramData\\Anaconda3\\Lib\\R\\library\\00LOCK\\dplyr\\MD5를 C:\\ProgramData\\Anaconda3\\Lib\\R\\library\\dplyr\\MD5로 복사하는데 문제가 발생했습니다: Permission denied\"Warning message in file.copy(savedcopy, lib, recursive = TRUE):\n",
      "\"C:\\ProgramData\\Anaconda3\\Lib\\R\\library\\00LOCK\\dplyr\\Meta\\data.rds를 C:\\ProgramData\\Anaconda3\\Lib\\R\\library\\dplyr\\Meta\\data.rds로 복사하는데 문제가 발생했습니다: Permission denied\"Warning message in file.copy(savedcopy, lib, recursive = TRUE):\n",
      "\"C:\\ProgramData\\Anaconda3\\Lib\\R\\library\\00LOCK\\dplyr\\Meta\\features.rds를 C:\\ProgramData\\Anaconda3\\Lib\\R\\library\\dplyr\\Meta\\features.rds로 복사하는데 문제가 발생했습니다: Permission denied\"Warning message in file.copy(savedcopy, lib, recursive = TRUE):\n",
      "\"C:\\ProgramData\\Anaconda3\\Lib\\R\\library\\00LOCK\\dplyr\\Meta\\hsearch.rds를 C:\\ProgramData\\Anaconda3\\Lib\\R\\library\\dplyr\\Meta\\hsearch.rds로 복사하는데 문제가 발생했습니다: Permission denied\"Warning message in file.copy(savedcopy, lib, recursive = TRUE):\n",
      "\"C:\\ProgramData\\Anaconda3\\Lib\\R\\library\\00LOCK\\dplyr\\Meta\\links.rds를 C:\\ProgramData\\Anaconda3\\Lib\\R\\library\\dplyr\\Meta\\links.rds로 복사하는데 문제가 발생했습니다: Permission denied\"Warning message in file.copy(savedcopy, lib, recursive = TRUE):\n",
      "\"C:\\ProgramData\\Anaconda3\\Lib\\R\\library\\00LOCK\\dplyr\\Meta\\nsInfo.rds를 C:\\ProgramData\\Anaconda3\\Lib\\R\\library\\dplyr\\Meta\\nsInfo.rds로 복사하는데 문제가 발생했습니다: Permission denied\"Warning message in file.copy(savedcopy, lib, recursive = TRUE):\n",
      "\"C:\\ProgramData\\Anaconda3\\Lib\\R\\library\\00LOCK\\dplyr\\Meta\\package.rds를 C:\\ProgramData\\Anaconda3\\Lib\\R\\library\\dplyr\\Meta\\package.rds로 복사하는데 문제가 발생했습니다: Permission denied\"Warning message in file.copy(savedcopy, lib, recursive = TRUE):\n",
      "\"C:\\ProgramData\\Anaconda3\\Lib\\R\\library\\00LOCK\\dplyr\\Meta\\Rd.rds를 C:\\ProgramData\\Anaconda3\\Lib\\R\\library\\dplyr\\Meta\\Rd.rds로 복사하는데 문제가 발생했습니다: Permission denied\"Warning message in file.copy(savedcopy, lib, recursive = TRUE):\n",
      "\"C:\\ProgramData\\Anaconda3\\Lib\\R\\library\\00LOCK\\dplyr\\Meta\\vignette.rds를 C:\\ProgramData\\Anaconda3\\Lib\\R\\library\\dplyr\\Meta\\vignette.rds로 복사하는데 문제가 발생했습니다: Permission denied\"Warning message in file.copy(savedcopy, lib, recursive = TRUE):\n",
      "\"C:\\ProgramData\\Anaconda3\\Lib\\R\\library\\00LOCK\\dplyr\\NAMESPACE를 C:\\ProgramData\\Anaconda3\\Lib\\R\\library\\dplyr\\NAMESPACE로 복사하는데 문제가 발생했습니다: Permission denied\"Warning message in file.copy(savedcopy, lib, recursive = TRUE):\n",
      "\"C:\\ProgramData\\Anaconda3\\Lib\\R\\library\\00LOCK\\dplyr\\NEWS.md를 C:\\ProgramData\\Anaconda3\\Lib\\R\\library\\dplyr\\NEWS.md로 복사하는데 문제가 발생했습니다: Permission denied\"Warning message in file.copy(savedcopy, lib, recursive = TRUE):\n",
      "\"C:\\ProgramData\\Anaconda3\\Lib\\R\\library\\00LOCK\\dplyr\\R\\dplyr를 C:\\ProgramData\\Anaconda3\\Lib\\R\\library\\dplyr\\R\\dplyr로 복사하는데 문제가 발생했습니다: Permission denied\"Warning message in file.copy(savedcopy, lib, recursive = TRUE):\n",
      "\"C:\\ProgramData\\Anaconda3\\Lib\\R\\library\\00LOCK\\dplyr\\R\\dplyr.rdb를 C:\\ProgramData\\Anaconda3\\Lib\\R\\library\\dplyr\\R\\dplyr.rdb로 복사하는데 문제가 발생했습니다: Permission denied\"Warning message in file.copy(savedcopy, lib, recursive = TRUE):\n",
      "\"C:\\ProgramData\\Anaconda3\\Lib\\R\\library\\00LOCK\\dplyr\\R\\dplyr.rdx를 C:\\ProgramData\\Anaconda3\\Lib\\R\\library\\dplyr\\R\\dplyr.rdx로 복사하는데 문제가 발생했습니다: Permission denied\"Warning message:\n",
      "\"restored 'dplyr'\""
     ]
    },
    {
     "name": "stdout",
     "output_type": "stream",
     "text": [
      "\n",
      "The downloaded binary packages are in\n",
      "\tC:\\Users\\USER\\AppData\\Local\\Temp\\RtmpADCQSm\\downloaded_packages\n"
     ]
    },
    {
     "name": "stderr",
     "output_type": "stream",
     "text": [
      "installing the source package 'pillar'\n",
      "\n",
      "Warning message in install.packages(\"dplyr\"):\n",
      "\"installation of package 'pillar' had non-zero exit status\""
     ]
    }
   ],
   "source": [
    "install.packages(\"dplyr\")"
   ]
  },
  {
   "cell_type": "code",
   "execution_count": 7,
   "id": "a0b26e1f",
   "metadata": {},
   "outputs": [
    {
     "name": "stderr",
     "output_type": "stream",
     "text": [
      "\n",
      "Attaching package: 'dplyr'\n",
      "\n",
      "The following objects are masked from 'package:stats':\n",
      "\n",
      "    filter, lag\n",
      "\n",
      "The following objects are masked from 'package:base':\n",
      "\n",
      "    intersect, setdiff, setequal, union\n",
      "\n"
     ]
    }
   ],
   "source": [
    "# dplyr 로드\n",
    "library(dplyr)"
   ]
  },
  {
   "cell_type": "code",
   "execution_count": 27,
   "id": "74cbe2c2",
   "metadata": {},
   "outputs": [
    {
     "data": {
      "text/html": [
       "<table>\n",
       "<thead><tr><th scope=col>var1</th><th scope=col>var2</th></tr></thead>\n",
       "<tbody>\n",
       "\t<tr><td>1</td><td>2</td></tr>\n",
       "\t<tr><td>2</td><td>3</td></tr>\n",
       "\t<tr><td>1</td><td>2</td></tr>\n",
       "</tbody>\n",
       "</table>\n"
      ],
      "text/latex": [
       "\\begin{tabular}{r|ll}\n",
       " var1 & var2\\\\\n",
       "\\hline\n",
       "\t 1 & 2\\\\\n",
       "\t 2 & 3\\\\\n",
       "\t 1 & 2\\\\\n",
       "\\end{tabular}\n"
      ],
      "text/markdown": [
       "\n",
       "| var1 | var2 |\n",
       "|---|---|\n",
       "| 1 | 2 |\n",
       "| 2 | 3 |\n",
       "| 1 | 2 |\n",
       "\n"
      ],
      "text/plain": [
       "  var1 var2\n",
       "1 1    2   \n",
       "2 2    3   \n",
       "3 1    2   "
      ]
     },
     "metadata": {},
     "output_type": "display_data"
    }
   ],
   "source": [
    "df_raw <- data.frame(var1 = c(1,2,1),\n",
    "                    var2 = c(2,3,2))\n",
    "df_raw"
   ]
  },
  {
   "cell_type": "code",
   "execution_count": 28,
   "id": "15677a6c",
   "metadata": {},
   "outputs": [
    {
     "data": {
      "text/html": [
       "<table>\n",
       "<thead><tr><th scope=col>var1</th><th scope=col>var2</th></tr></thead>\n",
       "<tbody>\n",
       "\t<tr><td>1</td><td>2</td></tr>\n",
       "\t<tr><td>2</td><td>3</td></tr>\n",
       "\t<tr><td>1</td><td>2</td></tr>\n",
       "</tbody>\n",
       "</table>\n"
      ],
      "text/latex": [
       "\\begin{tabular}{r|ll}\n",
       " var1 & var2\\\\\n",
       "\\hline\n",
       "\t 1 & 2\\\\\n",
       "\t 2 & 3\\\\\n",
       "\t 1 & 2\\\\\n",
       "\\end{tabular}\n"
      ],
      "text/markdown": [
       "\n",
       "| var1 | var2 |\n",
       "|---|---|\n",
       "| 1 | 2 |\n",
       "| 2 | 3 |\n",
       "| 1 | 2 |\n",
       "\n"
      ],
      "text/plain": [
       "  var1 var2\n",
       "1 1    2   \n",
       "2 2    3   \n",
       "3 1    2   "
      ]
     },
     "metadata": {},
     "output_type": "display_data"
    }
   ],
   "source": [
    "# 복사본 생성\n",
    "df_new <- df_raw\n",
    "df_new\n",
    "\n",
    "# 복사본을 만드는 이유는\n",
    "# 데이터를 가공하는 도중에 잘못됐을시에\n",
    "# 수정할때 돌아가기 위한 하나의 방법이다.\n",
    "# git같은 것이다."
   ]
  },
  {
   "cell_type": "markdown",
   "id": "c2e72cce",
   "metadata": {},
   "source": [
    "## 변수명 바꾸기"
   ]
  },
  {
   "cell_type": "code",
   "execution_count": 30,
   "id": "0406d4ca",
   "metadata": {},
   "outputs": [
    {
     "data": {
      "text/html": [
       "<table>\n",
       "<thead><tr><th scope=col>var1</th><th scope=col>v2</th></tr></thead>\n",
       "<tbody>\n",
       "\t<tr><td>1</td><td>2</td></tr>\n",
       "\t<tr><td>2</td><td>3</td></tr>\n",
       "\t<tr><td>1</td><td>2</td></tr>\n",
       "</tbody>\n",
       "</table>\n"
      ],
      "text/latex": [
       "\\begin{tabular}{r|ll}\n",
       " var1 & v2\\\\\n",
       "\\hline\n",
       "\t 1 & 2\\\\\n",
       "\t 2 & 3\\\\\n",
       "\t 1 & 2\\\\\n",
       "\\end{tabular}\n"
      ],
      "text/markdown": [
       "\n",
       "| var1 | v2 |\n",
       "|---|---|\n",
       "| 1 | 2 |\n",
       "| 2 | 3 |\n",
       "| 1 | 2 |\n",
       "\n"
      ],
      "text/plain": [
       "  var1 v2\n",
       "1 1    2 \n",
       "2 2    3 \n",
       "3 1    2 "
      ]
     },
     "metadata": {},
     "output_type": "display_data"
    }
   ],
   "source": [
    "# rename(데이터, 새변수명 = 기존변수명)\n",
    "# 순서에 유의 해야한다.\n",
    "df_new <- rename(df_new, v2 = var2)\n",
    "df_new"
   ]
  },
  {
   "cell_type": "markdown",
   "id": "32398f24",
   "metadata": {},
   "source": [
    "## 파생변수 만들기\n",
    "- 파생변수(Derived Variable) : 기존의 변수들을 이용하여 새로운 변수를 만들어 낸 것"
   ]
  },
  {
   "cell_type": "code",
   "execution_count": 31,
   "id": "bb2e38c3",
   "metadata": {},
   "outputs": [
    {
     "data": {
      "text/html": [
       "<table>\n",
       "<thead><tr><th scope=col>var1</th><th scope=col>var2</th></tr></thead>\n",
       "<tbody>\n",
       "\t<tr><td>4 </td><td> 2</td></tr>\n",
       "\t<tr><td>2 </td><td>45</td></tr>\n",
       "\t<tr><td>3 </td><td> 5</td></tr>\n",
       "</tbody>\n",
       "</table>\n"
      ],
      "text/latex": [
       "\\begin{tabular}{r|ll}\n",
       " var1 & var2\\\\\n",
       "\\hline\n",
       "\t 4  &  2\\\\\n",
       "\t 2  & 45\\\\\n",
       "\t 3  &  5\\\\\n",
       "\\end{tabular}\n"
      ],
      "text/markdown": [
       "\n",
       "| var1 | var2 |\n",
       "|---|---|\n",
       "| 4  |  2 |\n",
       "| 2  | 45 |\n",
       "| 3  |  5 |\n",
       "\n"
      ],
      "text/plain": [
       "  var1 var2\n",
       "1 4     2  \n",
       "2 2    45  \n",
       "3 3     5  "
      ]
     },
     "metadata": {},
     "output_type": "display_data"
    }
   ],
   "source": [
    "df <- data.frame(var1 = c(4,2,3),\n",
    "                var2 = c(2,45,5))\n",
    "df"
   ]
  },
  {
   "cell_type": "code",
   "execution_count": 32,
   "id": "122df6b7",
   "metadata": {},
   "outputs": [
    {
     "data": {
      "text/html": [
       "<table>\n",
       "<thead><tr><th scope=col>var1</th><th scope=col>var2</th><th scope=col>var_sum</th></tr></thead>\n",
       "<tbody>\n",
       "\t<tr><td>4 </td><td> 2</td><td> 6</td></tr>\n",
       "\t<tr><td>2 </td><td>45</td><td>47</td></tr>\n",
       "\t<tr><td>3 </td><td> 5</td><td> 8</td></tr>\n",
       "</tbody>\n",
       "</table>\n"
      ],
      "text/latex": [
       "\\begin{tabular}{r|lll}\n",
       " var1 & var2 & var\\_sum\\\\\n",
       "\\hline\n",
       "\t 4  &  2 &  6\\\\\n",
       "\t 2  & 45 & 47\\\\\n",
       "\t 3  &  5 &  8\\\\\n",
       "\\end{tabular}\n"
      ],
      "text/markdown": [
       "\n",
       "| var1 | var2 | var_sum |\n",
       "|---|---|---|\n",
       "| 4  |  2 |  6 |\n",
       "| 2  | 45 | 47 |\n",
       "| 3  |  5 |  8 |\n",
       "\n"
      ],
      "text/plain": [
       "  var1 var2 var_sum\n",
       "1 4     2    6     \n",
       "2 2    45   47     \n",
       "3 3     5    8     "
      ]
     },
     "metadata": {},
     "output_type": "display_data"
    }
   ],
   "source": [
    "# var_sum 파생변수 생성\n",
    "df$var_sum <- df$var1 + df$var2\n",
    "df"
   ]
  },
  {
   "cell_type": "code",
   "execution_count": 33,
   "id": "13649a04",
   "metadata": {},
   "outputs": [
    {
     "data": {
      "text/html": [
       "<table>\n",
       "<thead><tr><th scope=col>var1</th><th scope=col>var2</th><th scope=col>var_sum</th><th scope=col>var_mean</th></tr></thead>\n",
       "<tbody>\n",
       "\t<tr><td>4   </td><td> 2  </td><td> 6  </td><td> 3.0</td></tr>\n",
       "\t<tr><td>2   </td><td>45  </td><td>47  </td><td>23.5</td></tr>\n",
       "\t<tr><td>3   </td><td> 5  </td><td> 8  </td><td> 4.0</td></tr>\n",
       "</tbody>\n",
       "</table>\n"
      ],
      "text/latex": [
       "\\begin{tabular}{r|llll}\n",
       " var1 & var2 & var\\_sum & var\\_mean\\\\\n",
       "\\hline\n",
       "\t 4    &  2   &  6   &  3.0\\\\\n",
       "\t 2    & 45   & 47   & 23.5\\\\\n",
       "\t 3    &  5   &  8   &  4.0\\\\\n",
       "\\end{tabular}\n"
      ],
      "text/markdown": [
       "\n",
       "| var1 | var2 | var_sum | var_mean |\n",
       "|---|---|---|---|\n",
       "| 4    |  2   |  6   |  3.0 |\n",
       "| 2    | 45   | 47   | 23.5 |\n",
       "| 3    |  5   |  8   |  4.0 |\n",
       "\n"
      ],
      "text/plain": [
       "  var1 var2 var_sum var_mean\n",
       "1 4     2    6       3.0    \n",
       "2 2    45   47      23.5    \n",
       "3 3     5    8       4.0    "
      ]
     },
     "metadata": {},
     "output_type": "display_data"
    }
   ],
   "source": [
    "# var_mean 파생변수 생성\n",
    "df$var_mean <- (df$var1 + df$var2) /2\n",
    "df"
   ]
  },
  {
   "cell_type": "markdown",
   "id": "15db56e4",
   "metadata": {},
   "source": [
    "## mpg 데이터 수정 실습\n",
    "\n",
    "**분석 시나리오 ** <hr>\n",
    "*요구사항* : 도시 연비와 고속도로 연비 데이터는 있지만, 도로 유형을 통합한 연비를 알고싶다.\n",
    "\n",
    "*분석 계획* :\n",
    "1. 통합 연비 변수 생성(도시연비, 고속도로 연비의 평균)\n",
    "2. 통합 연비의 평균 구하기\n",
    "3. 통합 연비 요약통계량 구하기"
   ]
  },
  {
   "cell_type": "code",
   "execution_count": 39,
   "id": "6883f967",
   "metadata": {
    "scrolled": true
   },
   "outputs": [
    {
     "data": {
      "text/html": [
       "<table>\n",
       "<thead><tr><th scope=col>manufacturer</th><th scope=col>model</th><th scope=col>displ</th><th scope=col>year</th><th scope=col>cyl</th><th scope=col>trans</th><th scope=col>drv</th><th scope=col>cty</th><th scope=col>hwy</th><th scope=col>fl</th><th scope=col>class</th><th scope=col>ty</th></tr></thead>\n",
       "<tbody>\n",
       "\t<tr><td>audi      </td><td>a4        </td><td>1.8       </td><td>1999      </td><td>4         </td><td>auto(l5)  </td><td>f         </td><td>18        </td><td>29        </td><td>p         </td><td>compact   </td><td>32.5      </td></tr>\n",
       "\t<tr><td>audi      </td><td>a4        </td><td>1.8       </td><td>1999      </td><td>4         </td><td>manual(m5)</td><td>f         </td><td>21        </td><td>29        </td><td>p         </td><td>compact   </td><td>35.5      </td></tr>\n",
       "\t<tr><td>audi      </td><td>a4        </td><td>2.0       </td><td>2008      </td><td>4         </td><td>manual(m6)</td><td>f         </td><td>20        </td><td>31        </td><td>p         </td><td>compact   </td><td>35.5      </td></tr>\n",
       "\t<tr><td>audi      </td><td>a4        </td><td>2.0       </td><td>2008      </td><td>4         </td><td>auto(av)  </td><td>f         </td><td>21        </td><td>30        </td><td>p         </td><td>compact   </td><td>36.0      </td></tr>\n",
       "\t<tr><td>audi      </td><td>a4        </td><td>2.8       </td><td>1999      </td><td>6         </td><td>auto(l5)  </td><td>f         </td><td>16        </td><td>26        </td><td>p         </td><td>compact   </td><td>29.0      </td></tr>\n",
       "\t<tr><td>audi      </td><td>a4        </td><td>2.8       </td><td>1999      </td><td>6         </td><td>manual(m5)</td><td>f         </td><td>18        </td><td>26        </td><td>p         </td><td>compact   </td><td>31.0      </td></tr>\n",
       "</tbody>\n",
       "</table>\n"
      ],
      "text/latex": [
       "\\begin{tabular}{r|llllllllllll}\n",
       " manufacturer & model & displ & year & cyl & trans & drv & cty & hwy & fl & class & ty\\\\\n",
       "\\hline\n",
       "\t audi       & a4         & 1.8        & 1999       & 4          & auto(l5)   & f          & 18         & 29         & p          & compact    & 32.5      \\\\\n",
       "\t audi       & a4         & 1.8        & 1999       & 4          & manual(m5) & f          & 21         & 29         & p          & compact    & 35.5      \\\\\n",
       "\t audi       & a4         & 2.0        & 2008       & 4          & manual(m6) & f          & 20         & 31         & p          & compact    & 35.5      \\\\\n",
       "\t audi       & a4         & 2.0        & 2008       & 4          & auto(av)   & f          & 21         & 30         & p          & compact    & 36.0      \\\\\n",
       "\t audi       & a4         & 2.8        & 1999       & 6          & auto(l5)   & f          & 16         & 26         & p          & compact    & 29.0      \\\\\n",
       "\t audi       & a4         & 2.8        & 1999       & 6          & manual(m5) & f          & 18         & 26         & p          & compact    & 31.0      \\\\\n",
       "\\end{tabular}\n"
      ],
      "text/markdown": [
       "\n",
       "| manufacturer | model | displ | year | cyl | trans | drv | cty | hwy | fl | class | ty |\n",
       "|---|---|---|---|---|---|---|---|---|---|---|---|\n",
       "| audi       | a4         | 1.8        | 1999       | 4          | auto(l5)   | f          | 18         | 29         | p          | compact    | 32.5       |\n",
       "| audi       | a4         | 1.8        | 1999       | 4          | manual(m5) | f          | 21         | 29         | p          | compact    | 35.5       |\n",
       "| audi       | a4         | 2.0        | 2008       | 4          | manual(m6) | f          | 20         | 31         | p          | compact    | 35.5       |\n",
       "| audi       | a4         | 2.0        | 2008       | 4          | auto(av)   | f          | 21         | 30         | p          | compact    | 36.0       |\n",
       "| audi       | a4         | 2.8        | 1999       | 6          | auto(l5)   | f          | 16         | 26         | p          | compact    | 29.0       |\n",
       "| audi       | a4         | 2.8        | 1999       | 6          | manual(m5) | f          | 18         | 26         | p          | compact    | 31.0       |\n",
       "\n"
      ],
      "text/plain": [
       "  manufacturer model displ year cyl trans      drv cty hwy fl class   ty  \n",
       "1 audi         a4    1.8   1999 4   auto(l5)   f   18  29  p  compact 32.5\n",
       "2 audi         a4    1.8   1999 4   manual(m5) f   21  29  p  compact 35.5\n",
       "3 audi         a4    2.0   2008 4   manual(m6) f   20  31  p  compact 35.5\n",
       "4 audi         a4    2.0   2008 4   auto(av)   f   21  30  p  compact 36.0\n",
       "5 audi         a4    2.8   1999 6   auto(l5)   f   16  26  p  compact 29.0\n",
       "6 audi         a4    2.8   1999 6   manual(m5) f   18  26  p  compact 31.0"
      ]
     },
     "metadata": {},
     "output_type": "display_data"
    }
   ],
   "source": [
    "## 통합 연비변수 생성\n",
    "mpg$ty <- mpg$cty + mpg$hwy /2\n",
    "head(mpg)"
   ]
  },
  {
   "cell_type": "code",
   "execution_count": 41,
   "id": "4ce5d43b",
   "metadata": {},
   "outputs": [
    {
     "data": {
      "text/html": [
       "28.5790598290598"
      ],
      "text/latex": [
       "28.5790598290598"
      ],
      "text/markdown": [
       "28.5790598290598"
      ],
      "text/plain": [
       "[1] 28.57906"
      ]
     },
     "metadata": {},
     "output_type": "display_data"
    }
   ],
   "source": [
    "## 통합 연비의 평균 구하기\n",
    "mean(mpg$ty)"
   ]
  },
  {
   "cell_type": "code",
   "execution_count": 42,
   "id": "0a90a610",
   "metadata": {},
   "outputs": [
    {
     "data": {
      "text/plain": [
       "   Min. 1st Qu.  Median    Mean 3rd Qu.    Max. \n",
       "  15.00   22.50   29.00   28.58   32.88   57.00 "
      ]
     },
     "metadata": {},
     "output_type": "display_data"
    }
   ],
   "source": [
    "## 통합 연비 요약통계량 구하기\n",
    "summary(mpg$ty)"
   ]
  },
  {
   "cell_type": "markdown",
   "id": "55f8def0",
   "metadata": {},
   "source": [
    "## 조건문으로 파생변수 생성\n",
    "**분석 시나리오 ** <hr>\n",
    "*요구사항* : 전체 자동차 중 연비가 우수한 자동차에'고연비 인증서'를 부여하려 한다. 따라서.'고연비'의 기준을 구하고 p/f여부를 구해주기로함"
   ]
  },
  {
   "cell_type": "code",
   "execution_count": 43,
   "id": "e9793a5a",
   "metadata": {},
   "outputs": [
    {
     "data": {
      "image/png": "[encoded data removed]",
      "text/plain": [
       "Plot with title \"Histogram of mpg$ty\""
      ]
     },
     "metadata": {},
     "output_type": "display_data"
    }
   ],
   "source": [
    "#통합 연비 히스토그램 그래프 그리기\n",
    "hist(mpg$ty)"
   ]
  },
  {
   "cell_type": "code",
   "execution_count": 45,
   "id": "ba0d34b6",
   "metadata": {},
   "outputs": [
    {
     "data": {
      "text/html": [
       "<table>\n",
       "<thead><tr><th scope=col>manufacturer</th><th scope=col>model</th><th scope=col>displ</th><th scope=col>year</th><th scope=col>cyl</th><th scope=col>trans</th><th scope=col>drv</th><th scope=col>cty</th><th scope=col>hwy</th><th scope=col>fl</th><th scope=col>class</th><th scope=col>ty</th><th scope=col>test</th></tr></thead>\n",
       "<tbody>\n",
       "\t<tr><td>audi      </td><td>a4        </td><td>1.8       </td><td>1999      </td><td>4         </td><td>auto(l5)  </td><td>f         </td><td>18        </td><td>29        </td><td>p         </td><td>compact   </td><td>32.5      </td><td>pass      </td></tr>\n",
       "\t<tr><td>audi      </td><td>a4        </td><td>1.8       </td><td>1999      </td><td>4         </td><td>manual(m5)</td><td>f         </td><td>21        </td><td>29        </td><td>p         </td><td>compact   </td><td>35.5      </td><td>pass      </td></tr>\n",
       "\t<tr><td>audi      </td><td>a4        </td><td>2.0       </td><td>2008      </td><td>4         </td><td>manual(m6)</td><td>f         </td><td>20        </td><td>31        </td><td>p         </td><td>compact   </td><td>35.5      </td><td>pass      </td></tr>\n",
       "\t<tr><td>audi      </td><td>a4        </td><td>2.0       </td><td>2008      </td><td>4         </td><td>auto(av)  </td><td>f         </td><td>21        </td><td>30        </td><td>p         </td><td>compact   </td><td>36.0      </td><td>pass      </td></tr>\n",
       "\t<tr><td>audi      </td><td>a4        </td><td>2.8       </td><td>1999      </td><td>6         </td><td>auto(l5)  </td><td>f         </td><td>16        </td><td>26        </td><td>p         </td><td>compact   </td><td>29.0      </td><td>pass      </td></tr>\n",
       "\t<tr><td>audi      </td><td>a4        </td><td>2.8       </td><td>1999      </td><td>6         </td><td>manual(m5)</td><td>f         </td><td>18        </td><td>26        </td><td>p         </td><td>compact   </td><td>31.0      </td><td>pass      </td></tr>\n",
       "</tbody>\n",
       "</table>\n"
      ],
      "text/latex": [
       "\\begin{tabular}{r|lllllllllllll}\n",
       " manufacturer & model & displ & year & cyl & trans & drv & cty & hwy & fl & class & ty & test\\\\\n",
       "\\hline\n",
       "\t audi       & a4         & 1.8        & 1999       & 4          & auto(l5)   & f          & 18         & 29         & p          & compact    & 32.5       & pass      \\\\\n",
       "\t audi       & a4         & 1.8        & 1999       & 4          & manual(m5) & f          & 21         & 29         & p          & compact    & 35.5       & pass      \\\\\n",
       "\t audi       & a4         & 2.0        & 2008       & 4          & manual(m6) & f          & 20         & 31         & p          & compact    & 35.5       & pass      \\\\\n",
       "\t audi       & a4         & 2.0        & 2008       & 4          & auto(av)   & f          & 21         & 30         & p          & compact    & 36.0       & pass      \\\\\n",
       "\t audi       & a4         & 2.8        & 1999       & 6          & auto(l5)   & f          & 16         & 26         & p          & compact    & 29.0       & pass      \\\\\n",
       "\t audi       & a4         & 2.8        & 1999       & 6          & manual(m5) & f          & 18         & 26         & p          & compact    & 31.0       & pass      \\\\\n",
       "\\end{tabular}\n"
      ],
      "text/markdown": [
       "\n",
       "| manufacturer | model | displ | year | cyl | trans | drv | cty | hwy | fl | class | ty | test |\n",
       "|---|---|---|---|---|---|---|---|---|---|---|---|---|\n",
       "| audi       | a4         | 1.8        | 1999       | 4          | auto(l5)   | f          | 18         | 29         | p          | compact    | 32.5       | pass       |\n",
       "| audi       | a4         | 1.8        | 1999       | 4          | manual(m5) | f          | 21         | 29         | p          | compact    | 35.5       | pass       |\n",
       "| audi       | a4         | 2.0        | 2008       | 4          | manual(m6) | f          | 20         | 31         | p          | compact    | 35.5       | pass       |\n",
       "| audi       | a4         | 2.0        | 2008       | 4          | auto(av)   | f          | 21         | 30         | p          | compact    | 36.0       | pass       |\n",
       "| audi       | a4         | 2.8        | 1999       | 6          | auto(l5)   | f          | 16         | 26         | p          | compact    | 29.0       | pass       |\n",
       "| audi       | a4         | 2.8        | 1999       | 6          | manual(m5) | f          | 18         | 26         | p          | compact    | 31.0       | pass       |\n",
       "\n"
      ],
      "text/plain": [
       "  manufacturer model displ year cyl trans      drv cty hwy fl class   ty   test\n",
       "1 audi         a4    1.8   1999 4   auto(l5)   f   18  29  p  compact 32.5 pass\n",
       "2 audi         a4    1.8   1999 4   manual(m5) f   21  29  p  compact 35.5 pass\n",
       "3 audi         a4    2.0   2008 4   manual(m6) f   20  31  p  compact 35.5 pass\n",
       "4 audi         a4    2.0   2008 4   auto(av)   f   21  30  p  compact 36.0 pass\n",
       "5 audi         a4    2.8   1999 6   auto(l5)   f   16  26  p  compact 29.0 pass\n",
       "6 audi         a4    2.8   1999 6   manual(m5) f   18  26  p  compact 31.0 pass"
      ]
     },
     "metadata": {},
     "output_type": "display_data"
    }
   ],
   "source": [
    "# 고연비의 기준 : ty변수가 20이상이면 pass, 20미만이면 fail하기로함\n",
    "#ifelst()조건문으로 파생변수 생성\n",
    "#ifelse(조건, 참일때 값, 부정일때 값)\n",
    "mpg$test <- ifelse(mpg$ty >= 20, \"pass\" ,\"fail\")\n",
    "head(mpg)"
   ]
  },
  {
   "cell_type": "code",
   "execution_count": 46,
   "id": "d8b1e704",
   "metadata": {},
   "outputs": [
    {
     "data": {
      "text/plain": [
       "\n",
       "fail pass \n",
       "  25  209 "
      ]
     },
     "metadata": {},
     "output_type": "display_data"
    }
   ],
   "source": [
    "#table() : 빈도표를 생성하는 함수\n",
    "# 연비 합격 빈도표 생성\n",
    "table(mpg$test)"
   ]
  },
  {
   "cell_type": "code",
   "execution_count": 47,
   "id": "aa573e92",
   "metadata": {},
   "outputs": [
    {
     "name": "stderr",
     "output_type": "stream",
     "text": [
      "also installing the dependencies 'isoband', 'rlang'\n",
      "\n"
     ]
    },
    {
     "name": "stdout",
     "output_type": "stream",
     "text": [
      "\n",
      "  There are binary versions available but the source versions are later:\n",
      "        binary source needs_compilation\n",
      "isoband  0.2.4  0.2.5              TRUE\n",
      "ggplot2  3.3.3  3.3.5             FALSE\n",
      "\n",
      "  Binaries will be installed\n",
      "package 'isoband' successfully unpacked and MD5 sums checked\n",
      "package 'rlang' successfully unpacked and MD5 sums checked\n"
     ]
    },
    {
     "name": "stderr",
     "output_type": "stream",
     "text": [
      "Warning message:\n",
      "\"cannot remove prior installation of package 'rlang'\"Warning message in file.copy(savedcopy, lib, recursive = TRUE):\n",
      "\"C:\\ProgramData\\Anaconda3\\Lib\\R\\library\\00LOCK\\rlang\\DESCRIPTION를 C:\\ProgramData\\Anaconda3\\Lib\\R\\library\\rlang\\DESCRIPTION로 복사하는데 문제가 발생했습니다: Permission denied\"Warning message in file.copy(savedcopy, lib, recursive = TRUE):\n",
      "\"C:\\ProgramData\\Anaconda3\\Lib\\R\\library\\00LOCK\\rlang\\help\\aliases.rds를 C:\\ProgramData\\Anaconda3\\Lib\\R\\library\\rlang\\help\\aliases.rds로 복사하는데 문제가 발생했습니다: Permission denied\"Warning message in file.copy(savedcopy, lib, recursive = TRUE):\n",
      "\"C:\\ProgramData\\Anaconda3\\Lib\\R\\library\\00LOCK\\rlang\\help\\AnIndex를 C:\\ProgramData\\Anaconda3\\Lib\\R\\library\\rlang\\help\\AnIndex로 복사하는데 문제가 발생했습니다: Permission denied\"Warning message in file.copy(savedcopy, lib, recursive = TRUE):\n",
      "\"C:\\ProgramData\\Anaconda3\\Lib\\R\\library\\00LOCK\\rlang\\help\\figures\\lifecycle-archived.svg를 C:\\ProgramData\\Anaconda3\\Lib\\R\\library\\rlang\\help\\figures\\lifecycle-archived.svg로 복사하는데 문제가 발생했습니다: Permission denied\"Warning message in file.copy(savedcopy, lib, recursive = TRUE):\n",
      "\"C:\\ProgramData\\Anaconda3\\Lib\\R\\library\\00LOCK\\rlang\\help\\figures\\lifecycle-defunct.svg를 C:\\ProgramData\\Anaconda3\\Lib\\R\\library\\rlang\\help\\figures\\lifecycle-defunct.svg로 복사하는데 문제가 발생했습니다: Permission denied\"Warning message in file.copy(savedcopy, lib, recursive = TRUE):\n",
      "\"C:\\ProgramData\\Anaconda3\\Lib\\R\\library\\00LOCK\\rlang\\help\\figures\\lifecycle-deprecated.svg를 C:\\ProgramData\\Anaconda3\\Lib\\R\\library\\rlang\\help\\figures\\lifecycle-deprecated.svg로 복사하는데 문제가 발생했습니다: Permission denied\"Warning message in file.copy(savedcopy, lib, recursive = TRUE):\n",
      "\"C:\\ProgramData\\Anaconda3\\Lib\\R\\library\\00LOCK\\rlang\\help\\figures\\lifecycle-experimental.svg를 C:\\ProgramData\\Anaconda3\\Lib\\R\\library\\rlang\\help\\figures\\lifecycle-experimental.svg로 복사하는데 문제가 발생했습니다: Permission denied\"Warning message in file.copy(savedcopy, lib, recursive = TRUE):\n",
      "\"C:\\ProgramData\\Anaconda3\\Lib\\R\\library\\00LOCK\\rlang\\help\\figures\\lifecycle-maturing.svg를 C:\\ProgramData\\Anaconda3\\Lib\\R\\library\\rlang\\help\\figures\\lifecycle-maturing.svg로 복사하는데 문제가 발생했습니다: Permission denied\"Warning message in file.copy(savedcopy, lib, recursive = TRUE):\n",
      "\"C:\\ProgramData\\Anaconda3\\Lib\\R\\library\\00LOCK\\rlang\\help\\figures\\lifecycle-questioning.svg를 C:\\ProgramData\\Anaconda3\\Lib\\R\\library\\rlang\\help\\figures\\lifecycle-questioning.svg로 복사하는데 문제가 발생했습니다: Permission denied\"Warning message in file.copy(savedcopy, lib, recursive = TRUE):\n",
      "\"C:\\ProgramData\\Anaconda3\\Lib\\R\\library\\00LOCK\\rlang\\help\\figures\\lifecycle-retired.svg를 C:\\ProgramData\\Anaconda3\\Lib\\R\\library\\rlang\\help\\figures\\lifecycle-retired.svg로 복사하는데 문제가 발생했습니다: Permission denied\"Warning message in file.copy(savedcopy, lib, recursive = TRUE):\n",
      "\"C:\\ProgramData\\Anaconda3\\Lib\\R\\library\\00LOCK\\rlang\\help\\figures\\lifecycle-soft-deprecated.svg를 C:\\ProgramData\\Anaconda3\\Lib\\R\\library\\rlang\\help\\figures\\lifecycle-soft-deprecated.svg로 복사하는데 문제가 발생했습니다: Permission denied\"Warning message in file.copy(savedcopy, lib, recursive = TRUE):\n",
      "\"C:\\ProgramData\\Anaconda3\\Lib\\R\\library\\00LOCK\\rlang\\help\\figures\\lifecycle-stable.svg를 C:\\ProgramData\\Anaconda3\\Lib\\R\\library\\rlang\\help\\figures\\lifecycle-stable.svg로 복사하는데 문제가 발생했습니다: Permission denied\"Warning message in file.copy(savedcopy, lib, recursive = TRUE):\n",
      "\"C:\\ProgramData\\Anaconda3\\Lib\\R\\library\\00LOCK\\rlang\\help\\figures\\rlang.png를 C:\\ProgramData\\Anaconda3\\Lib\\R\\library\\rlang\\help\\figures\\rlang.png로 복사하는데 문제가 발생했습니다: Permission denied\"Warning message in file.copy(savedcopy, lib, recursive = TRUE):\n",
      "\"C:\\ProgramData\\Anaconda3\\Lib\\R\\library\\00LOCK\\rlang\\help\\paths.rds를 C:\\ProgramData\\Anaconda3\\Lib\\R\\library\\rlang\\help\\paths.rds로 복사하는데 문제가 발생했습니다: Permission denied\"Warning message in file.copy(savedcopy, lib, recursive = TRUE):\n",
      "\"C:\\ProgramData\\Anaconda3\\Lib\\R\\library\\00LOCK\\rlang\\help\\rlang.rdb를 C:\\ProgramData\\Anaconda3\\Lib\\R\\library\\rlang\\help\\rlang.rdb로 복사하는데 문제가 발생했습니다: Permission denied\"Warning message in file.copy(savedcopy, lib, recursive = TRUE):\n",
      "\"C:\\ProgramData\\Anaconda3\\Lib\\R\\library\\00LOCK\\rlang\\help\\rlang.rdx를 C:\\ProgramData\\Anaconda3\\Lib\\R\\library\\rlang\\help\\rlang.rdx로 복사하는데 문제가 발생했습니다: Permission denied\"Warning message in file.copy(savedcopy, lib, recursive = TRUE):\n",
      "\"C:\\ProgramData\\Anaconda3\\Lib\\R\\library\\00LOCK\\rlang\\html\\00Index.html를 C:\\ProgramData\\Anaconda3\\Lib\\R\\library\\rlang\\html\\00Index.html로 복사하는데 문제가 발생했습니다: Permission denied\"Warning message in file.copy(savedcopy, lib, recursive = TRUE):\n",
      "\"C:\\ProgramData\\Anaconda3\\Lib\\R\\library\\00LOCK\\rlang\\html\\abort.html를 C:\\ProgramData\\Anaconda3\\Lib\\R\\library\\rlang\\html\\abort.html로 복사하는데 문제가 발생했습니다: Permission denied\"Warning message in file.copy(savedcopy, lib, recursive = TRUE):\n",
      "\"C:\\ProgramData\\Anaconda3\\Lib\\R\\library\\00LOCK\\rlang\\html\\are_na.html를 C:\\ProgramData\\Anaconda3\\Lib\\R\\library\\rlang\\html\\are_na.html로 복사하는데 문제가 발생했습니다: Permission denied\"Warning message in file.copy(savedcopy, lib, recursive = TRUE):\n",
      "\"C:\\ProgramData\\Anaconda3\\Lib\\R\\library\\00LOCK\\rlang\\html\\arg_match.html를 C:\\ProgramData\\Anaconda3\\Lib\\R\\library\\rlang\\html\\arg_match.html로 복사하는데 문제가 발생했습니다: Permission denied\"Warning message in file.copy(savedcopy, lib, recursive = TRUE):\n",
      "\"C:\\ProgramData\\Anaconda3\\Lib\\R\\library\\00LOCK\\rlang\\html\\as_box.html를 C:\\ProgramData\\Anaconda3\\Lib\\R\\library\\rlang\\html\\as_box.html로 복사하는데 문제가 발생했습니다: Permission denied\"Warning message in file.copy(savedcopy, lib, recursive = TRUE):\n",
      "\"C:\\ProgramData\\Anaconda3\\Lib\\R\\library\\00LOCK\\rlang\\html\\as_bytes.html를 C:\\ProgramData\\Anaconda3\\Lib\\R\\library\\rlang\\html\\as_bytes.html로 복사하는데 문제가 발생했습니다: Permission denied\"Warning message in file.copy(savedcopy, lib, recursive = TRUE):\n",
      "\"C:\\ProgramData\\Anaconda3\\Lib\\R\\library\\00LOCK\\rlang\\html\\as_data_mask.html를 C:\\ProgramData\\Anaconda3\\Lib\\R\\library\\rlang\\html\\as_data_mask.html로 복사하는데 문제가 발생했습니다: Permission denied\"Warning message in file.copy(savedcopy, lib, recursive = TRUE):\n",
      "\"C:\\ProgramData\\Anaconda3\\Lib\\R\\library\\00LOCK\\rlang\\html\\as_env.html를 C:\\ProgramData\\Anaconda3\\Lib\\R\\library\\rlang\\html\\as_env.html로 복사하는데 문제가 발생했습니다: Permission denied\"Warning message in file.copy(savedcopy, lib, recursive = TRUE):\n",
      "\"C:\\ProgramData\\Anaconda3\\Lib\\R\\library\\00LOCK\\rlang\\html\\as_environment.html를 C:\\ProgramData\\Anaconda3\\Lib\\R\\library\\rlang\\html\\as_environment.html로 복사하는데 문제가 발생했습니다: Permission denied\"Warning message in file.copy(savedcopy, lib, recursive = TRUE):\n",
      "\"C:\\ProgramData\\Anaconda3\\Lib\\R\\library\\00LOCK\\rlang\\html\\as_function.html를 C:\\ProgramData\\Anaconda3\\Lib\\R\\library\\rlang\\html\\as_function.html로 복사하는데 문제가 발생했습니다: Permission denied\"Warning message in file.copy(savedcopy, lib, recursive = TRUE):\n",
      "\"C:\\ProgramData\\Anaconda3\\Lib\\R\\library\\00LOCK\\rlang\\html\\as_label.html를 C:\\ProgramData\\Anaconda3\\Lib\\R\\library\\rlang\\html\\as_label.html로 복사하는데 문제가 발생했습니다: Permission denied\"Warning message in file.copy(savedcopy, lib, recursive = TRUE):\n",
      "\"C:\\ProgramData\\Anaconda3\\Lib\\R\\library\\00LOCK\\rlang\\html\\as_name.html를 C:\\ProgramData\\Anaconda3\\Lib\\R\\library\\rlang\\html\\as_name.html로 복사하는데 문제가 발생했습니다: Permission denied\"Warning message in file.copy(savedcopy, lib, recursive = TRUE):\n",
      "\"C:\\ProgramData\\Anaconda3\\Lib\\R\\library\\00LOCK\\rlang\\html\\as_overscope.html를 C:\\ProgramData\\Anaconda3\\Lib\\R\\library\\rlang\\html\\as_overscope.html로 복사하는데 문제가 발생했습니다: Permission denied\"Warning message in file.copy(savedcopy, lib, recursive = TRUE):\n",
      "\"C:\\ProgramData\\Anaconda3\\Lib\\R\\library\\00LOCK\\rlang\\html\\as_pairlist.html를 C:\\ProgramData\\Anaconda3\\Lib\\R\\library\\rlang\\html\\as_pairlist.html로 복사하는데 문제가 발생했습니다: Permission denied\"Warning message in file.copy(savedcopy, lib, recursive = TRUE):\n",
      "\"C:\\ProgramData\\Anaconda3\\Lib\\R\\library\\00LOCK\\rlang\\html\\as_quosure.html를 C:\\ProgramData\\Anaconda3\\Lib\\R\\library\\rlang\\html\\as_quosure.html로 복사하는데 문제가 발생했습니다: Permission denied\"Warning message in file.copy(savedcopy, lib, recursive = TRUE):\n",
      "\"C:\\ProgramData\\Anaconda3\\Lib\\R\\library\\00LOCK\\rlang\\html\\as_string.html를 C:\\ProgramData\\Anaconda3\\Lib\\R\\library\\rlang\\html\\as_string.html로 복사하는데 문제가 발생했습니다: Permission denied\"Warning message in file.copy(savedcopy, lib, recursive = TRUE):\n",
      "\"C:\\ProgramData\\Anaconda3\\Lib\\R\\library\\00LOCK\\rlang\\html\\as_utf8_character.html를 C:\\ProgramData\\Anaconda3\\Lib\\R\\library\\rlang\\html\\as_utf8_character.html로 복사하는데 문제가 발생했습니다: Permission denied\"Warning message in file.copy(savedcopy, lib, recursive = TRUE):\n",
      "\"C:\\ProgramData\\Anaconda3\\Lib\\R\\library\\00LOCK\\rlang\\html\\bare-type-predicates.html를 C:\\ProgramData\\Anaconda3\\Lib\\R\\library\\rlang\\html\\bare-type-predicates.html로 복사하는데 문제가 발생했습니다: Permission denied\"Warning message in file.copy(savedcopy, lib, recursive = TRUE):\n",
      "\"C:\\ProgramData\\Anaconda3\\Lib\\R\\library\\00LOCK\\rlang\\html\\box.html를 C:\\ProgramData\\Anaconda3\\Lib\\R\\library\\rlang\\html\\box.html로 복사하는데 문제가 발생했습니다: Permission denied\"Warning message in file.copy(savedcopy, lib, recursive = TRUE):\n",
      "\"C:\\ProgramData\\Anaconda3\\Lib\\R\\library\\00LOCK\\rlang\\html\\call2.html를 C:\\ProgramData\\Anaconda3\\Lib\\R\\library\\rlang\\html\\call2.html로 복사하는데 문제가 발생했습니다: Permission denied\"Warning message in file.copy(savedcopy, lib, recursive = TRUE):\n",
      "\"C:\\ProgramData\\Anaconda3\\Lib\\R\\library\\00LOCK\\rlang\\html\\caller_env.html를 C:\\ProgramData\\Anaconda3\\Lib\\R\\library\\rlang\\html\\caller_env.html로 복사하는데 문제가 발생했습니다: Permission denied\"Warning message in file.copy(savedcopy, lib, recursive = TRUE):\n",
      "\"C:\\ProgramData\\Anaconda3\\Lib\\R\\library\\00LOCK\\rlang\\html\\caller_fn.html를 C:\\ProgramData\\Anaconda3\\Lib\\R\\library\\rlang\\html\\caller_fn.html로 복사하는데 문제가 발생했습니다: Permission denied\"Warning message in file.copy(savedcopy, lib, recursive = TRUE):\n",
      "\"C:\\ProgramData\\Anaconda3\\Lib\\R\\library\\00LOCK\\rlang\\html\\caller_frame.html를 C:\\ProgramData\\Anaconda3\\Lib\\R\\library\\rlang\\html\\caller_frame.html로 복사하는데 문제가 발생했습니다: Permission denied\"Warning message in file.copy(savedcopy, lib, recursive = TRUE):\n",
      "\"C:\\ProgramData\\Anaconda3\\Lib\\R\\library\\00LOCK\\rlang\\html\\call_args.html를 C:\\ProgramData\\Anaconda3\\Lib\\R\\library\\rlang\\html\\call_args.html로 복사하는데 문제가 발생했습니다: Permission denied\"Warning message in file.copy(savedcopy, lib, recursive = TRUE):\n",
      "\"C:\\ProgramData\\Anaconda3\\Lib\\R\\library\\00LOCK\\rlang\\html\\call_fn.html를 C:\\ProgramData\\Anaconda3\\Lib\\R\\library\\rlang\\html\\call_fn.html로 복사하는데 문제가 발생했습니다: Permission denied\"Warning message in file.copy(savedcopy, lib, recursive = TRUE):\n",
      "\"C:\\ProgramData\\Anaconda3\\Lib\\R\\library\\00LOCK\\rlang\\html\\call_inspect.html를 C:\\ProgramData\\Anaconda3\\Lib\\R\\library\\rlang\\html\\call_inspect.html로 복사하는데 문제가 발생했습니다: Permission denied\"Warning message in file.copy(savedcopy, lib, recursive = TRUE):\n",
      "\"C:\\ProgramData\\Anaconda3\\Lib\\R\\library\\00LOCK\\rlang\\html\\call_modify.html를 C:\\ProgramData\\Anaconda3\\Lib\\R\\library\\rlang\\html\\call_modify.html로 복사하는데 문제가 발생했습니다: Permission denied\"Warning message in file.copy(savedcopy, lib, recursive = TRUE):\n",
      "\"C:\\ProgramData\\Anaconda3\\Lib\\R\\library\\00LOCK\\rlang\\html\\call_name.html를 C:\\ProgramData\\Anaconda3\\Lib\\R\\library\\rlang\\html\\call_name.html로 복사하는데 문제가 발생했습니다: Permission denied\"Warning message in file.copy(savedcopy, lib, recursive = TRUE):\n",
      "\"C:\\ProgramData\\Anaconda3\\Lib\\R\\library\\00LOCK\\rlang\\html\\call_standardise.html를 C:\\ProgramData\\Anaconda3\\Lib\\R\\library\\rlang\\html\\call_standardise.html로 복사하는데 문제가 발생했습니다: Permission denied\"Warning message in file.copy(savedcopy, lib, recursive = TRUE):\n",
      "\"C:\\ProgramData\\Anaconda3\\Lib\\R\\library\\00LOCK\\rlang\\html\\catch_cnd.html를 C:\\ProgramData\\Anaconda3\\Lib\\R\\library\\rlang\\html\\catch_cnd.html로 복사하는데 문제가 발생했습니다: Permission denied\"Warning message in file.copy(savedcopy, lib, recursive = TRUE):\n",
      "\"C:\\ProgramData\\Anaconda3\\Lib\\R\\library\\00LOCK\\rlang\\html\\chr_unserialise_unicode.html를 C:\\ProgramData\\Anaconda3\\Lib\\R\\library\\rlang\\html\\chr_unserialise_unicode.html로 복사하는데 문제가 발생했습니다: Permission denied\"Warning message in file.copy(savedcopy, lib, recursive = TRUE):\n",
      "\"C:\\ProgramData\\Anaconda3\\Lib\\R\\library\\00LOCK\\rlang\\html\\cnd.html를 C:\\ProgramData\\Anaconda3\\Lib\\R\\library\\rlang\\html\\cnd.html로 복사하는데 문제가 발생했습니다: Permission denied\"Warning message in file.copy(savedcopy, lib, recursive = TRUE):\n",
      "\"C:\\ProgramData\\Anaconda3\\Lib\\R\\library\\00LOCK\\rlang\\html\\cnd_muffle.html를 C:\\ProgramData\\Anaconda3\\Lib\\R\\library\\rlang\\html\\cnd_muffle.html로 복사하는데 문제가 발생했습니다: Permission denied\"Warning message in file.copy(savedcopy, lib, recursive = TRUE):\n",
      "\"C:\\ProgramData\\Anaconda3\\Lib\\R\\library\\00LOCK\\rlang\\html\\cnd_signal.html를 C:\\ProgramData\\Anaconda3\\Lib\\R\\library\\rlang\\html\\cnd_signal.html로 복사하는데 문제가 발생했습니다: Permission denied\"Warning message in file.copy(savedcopy, lib, recursive = TRUE):\n",
      "\"C:\\ProgramData\\Anaconda3\\Lib\\R\\library\\00LOCK\\rlang\\html\\cnd_type.html를 C:\\ProgramData\\Anaconda3\\Lib\\R\\library\\rlang\\html\\cnd_type.html로 복사하는데 문제가 발생했습니다: Permission denied\"Warning message in file.copy(savedcopy, lib, recursive = TRUE):\n",
      "\"C:\\ProgramData\\Anaconda3\\Lib\\R\\library\\00LOCK\\rlang\\html\\dictionary.html를 C:\\ProgramData\\Anaconda3\\Lib\\R\\library\\rlang\\html\\dictionary.html로 복사하는데 문제가 발생했습니다: Permission denied\"Warning message in file.copy(savedcopy, lib, recursive = TRUE):\n",
      "\"C:\\ProgramData\\Anaconda3\\Lib\\R\\library\\00LOCK\\rlang\\html\\done.html를 C:\\ProgramData\\Anaconda3\\Lib\\R\\library\\rlang\\html\\done.html로 복사하는데 문제가 발생했습니다: Permission denied\"Warning message in file.copy(savedcopy, lib, recursive = TRUE):\n",
      "\"C:\\ProgramData\\Anaconda3\\Lib\\R\\library\\00LOCK\\rlang\\html\\dots_definitions.html를 C:\\ProgramData\\Anaconda3\\Lib\\R\\library\\rlang\\html\\dots_definitions.html로 복사하는데 문제가 발생했습니다: Permission denied\"Warning message in file.copy(savedcopy, lib, recursive = TRUE):\n",
      "\"C:\\ProgramData\\Anaconda3\\Lib\\R\\library\\00LOCK\\rlang\\html\\dots_n.html를 C:\\ProgramData\\Anaconda3\\Lib\\R\\library\\rlang\\html\\dots_n.html로 복사하는데 문제가 발생했습니다: Permission denied\"Warning message in file.copy(savedcopy, lib, recursive = TRUE):\n",
      "\"C:\\ProgramData\\Anaconda3\\Lib\\R\\library\\00LOCK\\rlang\\html\\dots_values.html를 C:\\ProgramData\\Anaconda3\\Lib\\R\\library\\rlang\\html\\dots_values.html로 복사하는데 문제가 발생했습니다: Permission denied\"Warning message in file.copy(savedcopy, lib, recursive = TRUE):\n",
      "\"C:\\ProgramData\\Anaconda3\\Lib\\R\\library\\00LOCK\\rlang\\html\\duplicate.html를 C:\\ProgramData\\Anaconda3\\Lib\\R\\library\\rlang\\html\\duplicate.html로 복사하는데 문제가 발생했습니다: Permission denied\"Warning message in file.copy(savedcopy, lib, recursive = TRUE):\n",
      "\"C:\\ProgramData\\Anaconda3\\Lib\\R\\library\\00LOCK\\rlang\\html\\empty_env.html를 C:\\ProgramData\\Anaconda3\\Lib\\R\\library\\rlang\\html\\empty_env.html로 복사하는데 문제가 발생했습니다: Permission denied\"Warning message in file.copy(savedcopy, lib, recursive = TRUE):\n",
      "\"C:\\ProgramData\\Anaconda3\\Lib\\R\\library\\00LOCK\\rlang\\html\\entrace.html를 C:\\ProgramData\\Anaconda3\\Lib\\R\\library\\rlang\\html\\entrace.html로 복사하는데 문제가 발생했습니다: Permission denied\"Warning message in file.copy(savedcopy, lib, recursive = TRUE):\n",
      "\"C:\\ProgramData\\Anaconda3\\Lib\\R\\library\\00LOCK\\rlang\\html\\env.html를 C:\\ProgramData\\Anaconda3\\Lib\\R\\library\\rlang\\html\\env.html로 복사하는데 문제가 발생했습니다: Permission denied\"Warning message in file.copy(savedcopy, lib, recursive = TRUE):\n",
      "\"C:\\ProgramData\\Anaconda3\\Lib\\R\\library\\00LOCK\\rlang\\html\\env_bind.html를 C:\\ProgramData\\Anaconda3\\Lib\\R\\library\\rlang\\html\\env_bind.html로 복사하는데 문제가 발생했습니다: Permission denied\"Warning message in file.copy(savedcopy, lib, recursive = TRUE):\n",
      "\"C:\\ProgramData\\Anaconda3\\Lib\\R\\library\\00LOCK\\rlang\\html\\env_binding_are_active.html를 C:\\ProgramData\\Anaconda3\\Lib\\R\\library\\rlang\\html\\env_binding_are_active.html로 복사하는데 문제가 발생했습니다: Permission denied\"Warning message in file.copy(savedcopy, lib, recursive = TRUE):\n",
      "\"C:\\ProgramData\\Anaconda3\\Lib\\R\\library\\00LOCK\\rlang\\html\\env_binding_lock.html를 C:\\ProgramData\\Anaconda3\\Lib\\R\\library\\rlang\\html\\env_binding_lock.html로 복사하는데 문제가 발생했습니다: Permission denied\"Warning message in file.copy(savedcopy, lib, recursive = TRUE):\n",
      "\"C:\\ProgramData\\Anaconda3\\Lib\\R\\library\\00LOCK\\rlang\\html\\env_bind_exprs.html를 C:\\ProgramData\\Anaconda3\\Lib\\R\\library\\rlang\\html\\env_bind_exprs.html로 복사하는데 문제가 발생했습니다: Permission denied\"Warning message in file.copy(savedcopy, lib, recursive = TRUE):\n",
      "\"C:\\ProgramData\\Anaconda3\\Lib\\R\\library\\00LOCK\\rlang\\html\\env_bury.html를 C:\\ProgramData\\Anaconda3\\Lib\\R\\library\\rlang\\html\\env_bury.html로 복사하는데 문제가 발생했습니다: Permission denied\"Warning message in file.copy(savedcopy, lib, recursive = TRUE):\n"
     ]
    },
    {
     "name": "stderr",
     "output_type": "stream",
     "text": [
      "\"C:\\ProgramData\\Anaconda3\\Lib\\R\\library\\00LOCK\\rlang\\html\\env_clone.html를 C:\\ProgramData\\Anaconda3\\Lib\\R\\library\\rlang\\html\\env_clone.html로 복사하는데 문제가 발생했습니다: Permission denied\"Warning message in file.copy(savedcopy, lib, recursive = TRUE):\n",
      "\"C:\\ProgramData\\Anaconda3\\Lib\\R\\library\\00LOCK\\rlang\\html\\env_depth.html를 C:\\ProgramData\\Anaconda3\\Lib\\R\\library\\rlang\\html\\env_depth.html로 복사하는데 문제가 발생했습니다: Permission denied\"Warning message in file.copy(savedcopy, lib, recursive = TRUE):\n",
      "\"C:\\ProgramData\\Anaconda3\\Lib\\R\\library\\00LOCK\\rlang\\html\\env_get.html를 C:\\ProgramData\\Anaconda3\\Lib\\R\\library\\rlang\\html\\env_get.html로 복사하는데 문제가 발생했습니다: Permission denied\"Warning message in file.copy(savedcopy, lib, recursive = TRUE):\n",
      "\"C:\\ProgramData\\Anaconda3\\Lib\\R\\library\\00LOCK\\rlang\\html\\env_has.html를 C:\\ProgramData\\Anaconda3\\Lib\\R\\library\\rlang\\html\\env_has.html로 복사하는데 문제가 발생했습니다: Permission denied\"Warning message in file.copy(savedcopy, lib, recursive = TRUE):\n",
      "\"C:\\ProgramData\\Anaconda3\\Lib\\R\\library\\00LOCK\\rlang\\html\\env_inherits.html를 C:\\ProgramData\\Anaconda3\\Lib\\R\\library\\rlang\\html\\env_inherits.html로 복사하는데 문제가 발생했습니다: Permission denied\"Warning message in file.copy(savedcopy, lib, recursive = TRUE):\n",
      "\"C:\\ProgramData\\Anaconda3\\Lib\\R\\library\\00LOCK\\rlang\\html\\env_lock.html를 C:\\ProgramData\\Anaconda3\\Lib\\R\\library\\rlang\\html\\env_lock.html로 복사하는데 문제가 발생했습니다: Permission denied\"Warning message in file.copy(savedcopy, lib, recursive = TRUE):\n",
      "\"C:\\ProgramData\\Anaconda3\\Lib\\R\\library\\00LOCK\\rlang\\html\\env_name.html를 C:\\ProgramData\\Anaconda3\\Lib\\R\\library\\rlang\\html\\env_name.html로 복사하는데 문제가 발생했습니다: Permission denied\"Warning message in file.copy(savedcopy, lib, recursive = TRUE):\n",
      "\"C:\\ProgramData\\Anaconda3\\Lib\\R\\library\\00LOCK\\rlang\\html\\env_names.html를 C:\\ProgramData\\Anaconda3\\Lib\\R\\library\\rlang\\html\\env_names.html로 복사하는데 문제가 발생했습니다: Permission denied\"Warning message in file.copy(savedcopy, lib, recursive = TRUE):\n",
      "\"C:\\ProgramData\\Anaconda3\\Lib\\R\\library\\00LOCK\\rlang\\html\\env_parent.html를 C:\\ProgramData\\Anaconda3\\Lib\\R\\library\\rlang\\html\\env_parent.html로 복사하는데 문제가 발생했습니다: Permission denied\"Warning message in file.copy(savedcopy, lib, recursive = TRUE):\n",
      "\"C:\\ProgramData\\Anaconda3\\Lib\\R\\library\\00LOCK\\rlang\\html\\env_poke.html를 C:\\ProgramData\\Anaconda3\\Lib\\R\\library\\rlang\\html\\env_poke.html로 복사하는데 문제가 발생했습니다: Permission denied\"Warning message in file.copy(savedcopy, lib, recursive = TRUE):\n",
      "\"C:\\ProgramData\\Anaconda3\\Lib\\R\\library\\00LOCK\\rlang\\html\\env_print.html를 C:\\ProgramData\\Anaconda3\\Lib\\R\\library\\rlang\\html\\env_print.html로 복사하는데 문제가 발생했습니다: Permission denied\"Warning message in file.copy(savedcopy, lib, recursive = TRUE):\n",
      "\"C:\\ProgramData\\Anaconda3\\Lib\\R\\library\\00LOCK\\rlang\\html\\env_unbind.html를 C:\\ProgramData\\Anaconda3\\Lib\\R\\library\\rlang\\html\\env_unbind.html로 복사하는데 문제가 발생했습니다: Permission denied\"Warning message in file.copy(savedcopy, lib, recursive = TRUE):\n",
      "\"C:\\ProgramData\\Anaconda3\\Lib\\R\\library\\00LOCK\\rlang\\html\\env_unlock.html를 C:\\ProgramData\\Anaconda3\\Lib\\R\\library\\rlang\\html\\env_unlock.html로 복사하는데 문제가 발생했습니다: Permission denied\"Warning message in file.copy(savedcopy, lib, recursive = TRUE):\n",
      "\"C:\\ProgramData\\Anaconda3\\Lib\\R\\library\\00LOCK\\rlang\\html\\eval_bare.html를 C:\\ProgramData\\Anaconda3\\Lib\\R\\library\\rlang\\html\\eval_bare.html로 복사하는데 문제가 발생했습니다: Permission denied\"Warning message in file.copy(savedcopy, lib, recursive = TRUE):\n",
      "\"C:\\ProgramData\\Anaconda3\\Lib\\R\\library\\00LOCK\\rlang\\html\\eval_tidy.html를 C:\\ProgramData\\Anaconda3\\Lib\\R\\library\\rlang\\html\\eval_tidy.html로 복사하는데 문제가 발생했습니다: Permission denied\"Warning message in file.copy(savedcopy, lib, recursive = TRUE):\n",
      "\"C:\\ProgramData\\Anaconda3\\Lib\\R\\library\\00LOCK\\rlang\\html\\eval_tidy_.html를 C:\\ProgramData\\Anaconda3\\Lib\\R\\library\\rlang\\html\\eval_tidy_.html로 복사하는데 문제가 발생했습니다: Permission denied\"Warning message in file.copy(savedcopy, lib, recursive = TRUE):\n",
      "\"C:\\ProgramData\\Anaconda3\\Lib\\R\\library\\00LOCK\\rlang\\html\\exec.html를 C:\\ProgramData\\Anaconda3\\Lib\\R\\library\\rlang\\html\\exec.html로 복사하는데 문제가 발생했습니다: Permission denied\"Warning message in file.copy(savedcopy, lib, recursive = TRUE):\n",
      "\"C:\\ProgramData\\Anaconda3\\Lib\\R\\library\\00LOCK\\rlang\\html\\exiting.html를 C:\\ProgramData\\Anaconda3\\Lib\\R\\library\\rlang\\html\\exiting.html로 복사하는데 문제가 발생했습니다: Permission denied\"Warning message in file.copy(savedcopy, lib, recursive = TRUE):\n",
      "\"C:\\ProgramData\\Anaconda3\\Lib\\R\\library\\00LOCK\\rlang\\html\\exprs_auto_name.html를 C:\\ProgramData\\Anaconda3\\Lib\\R\\library\\rlang\\html\\exprs_auto_name.html로 복사하는데 문제가 발생했습니다: Permission denied\"Warning message in file.copy(savedcopy, lib, recursive = TRUE):\n",
      "\"C:\\ProgramData\\Anaconda3\\Lib\\R\\library\\00LOCK\\rlang\\html\\expr_interp.html를 C:\\ProgramData\\Anaconda3\\Lib\\R\\library\\rlang\\html\\expr_interp.html로 복사하는데 문제가 발생했습니다: Permission denied\"Warning message in file.copy(savedcopy, lib, recursive = TRUE):\n",
      "\"C:\\ProgramData\\Anaconda3\\Lib\\R\\library\\00LOCK\\rlang\\html\\expr_label.html를 C:\\ProgramData\\Anaconda3\\Lib\\R\\library\\rlang\\html\\expr_label.html로 복사하는데 문제가 발생했습니다: Permission denied\"Warning message in file.copy(savedcopy, lib, recursive = TRUE):\n",
      "\"C:\\ProgramData\\Anaconda3\\Lib\\R\\library\\00LOCK\\rlang\\html\\expr_print.html를 C:\\ProgramData\\Anaconda3\\Lib\\R\\library\\rlang\\html\\expr_print.html로 복사하는데 문제가 발생했습니다: Permission denied\"Warning message in file.copy(savedcopy, lib, recursive = TRUE):\n",
      "\"C:\\ProgramData\\Anaconda3\\Lib\\R\\library\\00LOCK\\rlang\\html\\flatten.html를 C:\\ProgramData\\Anaconda3\\Lib\\R\\library\\rlang\\html\\flatten.html로 복사하는데 문제가 발생했습니다: Permission denied\"Warning message in file.copy(savedcopy, lib, recursive = TRUE):\n",
      "\"C:\\ProgramData\\Anaconda3\\Lib\\R\\library\\00LOCK\\rlang\\html\\fn_body.html를 C:\\ProgramData\\Anaconda3\\Lib\\R\\library\\rlang\\html\\fn_body.html로 복사하는데 문제가 발생했습니다: Permission denied\"Warning message in file.copy(savedcopy, lib, recursive = TRUE):\n",
      "\"C:\\ProgramData\\Anaconda3\\Lib\\R\\library\\00LOCK\\rlang\\html\\fn_env.html를 C:\\ProgramData\\Anaconda3\\Lib\\R\\library\\rlang\\html\\fn_env.html로 복사하는데 문제가 발생했습니다: Permission denied\"Warning message in file.copy(savedcopy, lib, recursive = TRUE):\n",
      "\"C:\\ProgramData\\Anaconda3\\Lib\\R\\library\\00LOCK\\rlang\\html\\fn_fmls.html를 C:\\ProgramData\\Anaconda3\\Lib\\R\\library\\rlang\\html\\fn_fmls.html로 복사하는데 문제가 발생했습니다: Permission denied\"Warning message in file.copy(savedcopy, lib, recursive = TRUE):\n",
      "\"C:\\ProgramData\\Anaconda3\\Lib\\R\\library\\00LOCK\\rlang\\html\\frame_position.html를 C:\\ProgramData\\Anaconda3\\Lib\\R\\library\\rlang\\html\\frame_position.html로 복사하는데 문제가 발생했습니다: Permission denied\"Warning message in file.copy(savedcopy, lib, recursive = TRUE):\n",
      "\"C:\\ProgramData\\Anaconda3\\Lib\\R\\library\\00LOCK\\rlang\\html\\friendly_type.html를 C:\\ProgramData\\Anaconda3\\Lib\\R\\library\\rlang\\html\\friendly_type.html로 복사하는데 문제가 발생했습니다: Permission denied\"Warning message in file.copy(savedcopy, lib, recursive = TRUE):\n",
      "\"C:\\ProgramData\\Anaconda3\\Lib\\R\\library\\00LOCK\\rlang\\html\\f_rhs.html를 C:\\ProgramData\\Anaconda3\\Lib\\R\\library\\rlang\\html\\f_rhs.html로 복사하는데 문제가 발생했습니다: Permission denied\"Warning message in file.copy(savedcopy, lib, recursive = TRUE):\n",
      "\"C:\\ProgramData\\Anaconda3\\Lib\\R\\library\\00LOCK\\rlang\\html\\f_text.html를 C:\\ProgramData\\Anaconda3\\Lib\\R\\library\\rlang\\html\\f_text.html로 복사하는데 문제가 발생했습니다: Permission denied\"Warning message in file.copy(savedcopy, lib, recursive = TRUE):\n",
      "\"C:\\ProgramData\\Anaconda3\\Lib\\R\\library\\00LOCK\\rlang\\html\\get_env.html를 C:\\ProgramData\\Anaconda3\\Lib\\R\\library\\rlang\\html\\get_env.html로 복사하는데 문제가 발생했습니다: Permission denied\"Warning message in file.copy(savedcopy, lib, recursive = TRUE):\n",
      "\"C:\\ProgramData\\Anaconda3\\Lib\\R\\library\\00LOCK\\rlang\\html\\has_length.html를 C:\\ProgramData\\Anaconda3\\Lib\\R\\library\\rlang\\html\\has_length.html로 복사하는데 문제가 발생했습니다: Permission denied\"Warning message in file.copy(savedcopy, lib, recursive = TRUE):\n",
      "\"C:\\ProgramData\\Anaconda3\\Lib\\R\\library\\00LOCK\\rlang\\html\\has_name.html를 C:\\ProgramData\\Anaconda3\\Lib\\R\\library\\rlang\\html\\has_name.html로 복사하는데 문제가 발생했습니다: Permission denied\"Warning message in file.copy(savedcopy, lib, recursive = TRUE):\n",
      "\"C:\\ProgramData\\Anaconda3\\Lib\\R\\library\\00LOCK\\rlang\\html\\inherits_any.html를 C:\\ProgramData\\Anaconda3\\Lib\\R\\library\\rlang\\html\\inherits_any.html로 복사하는데 문제가 발생했습니다: Permission denied\"Warning message in file.copy(savedcopy, lib, recursive = TRUE):\n",
      "\"C:\\ProgramData\\Anaconda3\\Lib\\R\\library\\00LOCK\\rlang\\html\\invoke.html를 C:\\ProgramData\\Anaconda3\\Lib\\R\\library\\rlang\\html\\invoke.html로 복사하는데 문제가 발생했습니다: Permission denied\"Warning message in file.copy(savedcopy, lib, recursive = TRUE):\n",
      "\"C:\\ProgramData\\Anaconda3\\Lib\\R\\library\\00LOCK\\rlang\\html\\is_call.html를 C:\\ProgramData\\Anaconda3\\Lib\\R\\library\\rlang\\html\\is_call.html로 복사하는데 문제가 발생했습니다: Permission denied\"Warning message in file.copy(savedcopy, lib, recursive = TRUE):\n",
      "\"C:\\ProgramData\\Anaconda3\\Lib\\R\\library\\00LOCK\\rlang\\html\\is_callable.html를 C:\\ProgramData\\Anaconda3\\Lib\\R\\library\\rlang\\html\\is_callable.html로 복사하는데 문제가 발생했습니다: Permission denied\"Warning message in file.copy(savedcopy, lib, recursive = TRUE):\n",
      "\"C:\\ProgramData\\Anaconda3\\Lib\\R\\library\\00LOCK\\rlang\\html\\is_condition.html를 C:\\ProgramData\\Anaconda3\\Lib\\R\\library\\rlang\\html\\is_condition.html로 복사하는데 문제가 발생했습니다: Permission denied\"Warning message in file.copy(savedcopy, lib, recursive = TRUE):\n",
      "\"C:\\ProgramData\\Anaconda3\\Lib\\R\\library\\00LOCK\\rlang\\html\\is_copyable.html를 C:\\ProgramData\\Anaconda3\\Lib\\R\\library\\rlang\\html\\is_copyable.html로 복사하는데 문제가 발생했습니다: Permission denied\"Warning message in file.copy(savedcopy, lib, recursive = TRUE):\n",
      "\"C:\\ProgramData\\Anaconda3\\Lib\\R\\library\\00LOCK\\rlang\\html\\is_empty.html를 C:\\ProgramData\\Anaconda3\\Lib\\R\\library\\rlang\\html\\is_empty.html로 복사하는데 문제가 발생했습니다: Permission denied\"Warning message in file.copy(savedcopy, lib, recursive = TRUE):\n",
      "\"C:\\ProgramData\\Anaconda3\\Lib\\R\\library\\00LOCK\\rlang\\html\\is_env.html를 C:\\ProgramData\\Anaconda3\\Lib\\R\\library\\rlang\\html\\is_env.html로 복사하는데 문제가 발생했습니다: Permission denied\"Warning message in file.copy(savedcopy, lib, recursive = TRUE):\n",
      "\"C:\\ProgramData\\Anaconda3\\Lib\\R\\library\\00LOCK\\rlang\\html\\is_environment.html를 C:\\ProgramData\\Anaconda3\\Lib\\R\\library\\rlang\\html\\is_environment.html로 복사하는데 문제가 발생했습니다: Permission denied\"Warning message in file.copy(savedcopy, lib, recursive = TRUE):\n",
      "\"C:\\ProgramData\\Anaconda3\\Lib\\R\\library\\00LOCK\\rlang\\html\\is_expr.html를 C:\\ProgramData\\Anaconda3\\Lib\\R\\library\\rlang\\html\\is_expr.html로 복사하는데 문제가 발생했습니다: Permission denied\"Warning message in file.copy(savedcopy, lib, recursive = TRUE):\n",
      "\"C:\\ProgramData\\Anaconda3\\Lib\\R\\library\\00LOCK\\rlang\\html\\is_expression.html를 C:\\ProgramData\\Anaconda3\\Lib\\R\\library\\rlang\\html\\is_expression.html로 복사하는데 문제가 발생했습니다: Permission denied\"Warning message in file.copy(savedcopy, lib, recursive = TRUE):\n",
      "\"C:\\ProgramData\\Anaconda3\\Lib\\R\\library\\00LOCK\\rlang\\html\\is_formula.html를 C:\\ProgramData\\Anaconda3\\Lib\\R\\library\\rlang\\html\\is_formula.html로 복사하는데 문제가 발생했습니다: Permission denied\"Warning message in file.copy(savedcopy, lib, recursive = TRUE):\n",
      "\"C:\\ProgramData\\Anaconda3\\Lib\\R\\library\\00LOCK\\rlang\\html\\is_frame.html를 C:\\ProgramData\\Anaconda3\\Lib\\R\\library\\rlang\\html\\is_frame.html로 복사하는데 문제가 발생했습니다: Permission denied\"Warning message in file.copy(savedcopy, lib, recursive = TRUE):\n",
      "\"C:\\ProgramData\\Anaconda3\\Lib\\R\\library\\00LOCK\\rlang\\html\\is_function.html를 C:\\ProgramData\\Anaconda3\\Lib\\R\\library\\rlang\\html\\is_function.html로 복사하는데 문제가 발생했습니다: Permission denied\"Warning message in file.copy(savedcopy, lib, recursive = TRUE):\n",
      "\"C:\\ProgramData\\Anaconda3\\Lib\\R\\library\\00LOCK\\rlang\\html\\is_installed.html를 C:\\ProgramData\\Anaconda3\\Lib\\R\\library\\rlang\\html\\is_installed.html로 복사하는데 문제가 발생했습니다: Permission denied\"Warning message in file.copy(savedcopy, lib, recursive = TRUE):\n",
      "\"C:\\ProgramData\\Anaconda3\\Lib\\R\\library\\00LOCK\\rlang\\html\\is_integerish.html를 C:\\ProgramData\\Anaconda3\\Lib\\R\\library\\rlang\\html\\is_integerish.html로 복사하는데 문제가 발생했습니다: Permission denied\"Warning message in file.copy(savedcopy, lib, recursive = TRUE):\n",
      "\"C:\\ProgramData\\Anaconda3\\Lib\\R\\library\\00LOCK\\rlang\\html\\is_interactive.html를 C:\\ProgramData\\Anaconda3\\Lib\\R\\library\\rlang\\html\\is_interactive.html로 복사하는데 문제가 발생했습니다: Permission denied\"Warning message in file.copy(savedcopy, lib, recursive = TRUE):\n",
      "\"C:\\ProgramData\\Anaconda3\\Lib\\R\\library\\00LOCK\\rlang\\html\\is_lang.html를 C:\\ProgramData\\Anaconda3\\Lib\\R\\library\\rlang\\html\\is_lang.html로 복사하는데 문제가 발생했습니다: Permission denied\"Warning message in file.copy(savedcopy, lib, recursive = TRUE):\n",
      "\"C:\\ProgramData\\Anaconda3\\Lib\\R\\library\\00LOCK\\rlang\\html\\is_named.html를 C:\\ProgramData\\Anaconda3\\Lib\\R\\library\\rlang\\html\\is_named.html로 복사하는데 문제가 발생했습니다: Permission denied\"Warning message in file.copy(savedcopy, lib, recursive = TRUE):\n",
      "\"C:\\ProgramData\\Anaconda3\\Lib\\R\\library\\00LOCK\\rlang\\html\\is_namespace.html를 C:\\ProgramData\\Anaconda3\\Lib\\R\\library\\rlang\\html\\is_namespace.html로 복사하는데 문제가 발생했습니다: Permission denied\"Warning message in file.copy(savedcopy, lib, recursive = TRUE):\n",
      "\"C:\\ProgramData\\Anaconda3\\Lib\\R\\library\\00LOCK\\rlang\\html\\is_pairlist.html를 C:\\ProgramData\\Anaconda3\\Lib\\R\\library\\rlang\\html\\is_pairlist.html로 복사하는데 문제가 발생했습니다: Permission denied\"Warning message in file.copy(savedcopy, lib, recursive = TRUE):\n",
      "\"C:\\ProgramData\\Anaconda3\\Lib\\R\\library\\00LOCK\\rlang\\html\\is_quosureish.html를 C:\\ProgramData\\Anaconda3\\Lib\\R\\library\\rlang\\html\\is_quosureish.html로 복사하는데 문제가 발생했습니다: Permission denied\"Warning message in file.copy(savedcopy, lib, recursive = TRUE):\n",
      "\"C:\\ProgramData\\Anaconda3\\Lib\\R\\library\\00LOCK\\rlang\\html\\is_reference.html를 C:\\ProgramData\\Anaconda3\\Lib\\R\\library\\rlang\\html\\is_reference.html로 복사하는데 문제가 발생했습니다: Permission denied\"Warning message in file.copy(savedcopy, lib, recursive = TRUE):\n",
      "\"C:\\ProgramData\\Anaconda3\\Lib\\R\\library\\00LOCK\\rlang\\html\\is_stack.html를 C:\\ProgramData\\Anaconda3\\Lib\\R\\library\\rlang\\html\\is_stack.html로 복사하는데 문제가 발생했습니다: Permission denied\"Warning message in file.copy(savedcopy, lib, recursive = TRUE):\n",
      "\"C:\\ProgramData\\Anaconda3\\Lib\\R\\library\\00LOCK\\rlang\\html\\is_symbol.html를 C:\\ProgramData\\Anaconda3\\Lib\\R\\library\\rlang\\html\\is_symbol.html로 복사하는데 문제가 발생했습니다: Permission denied\"Warning message in file.copy(savedcopy, lib, recursive = TRUE):\n",
      "\"C:\\ProgramData\\Anaconda3\\Lib\\R\\library\\00LOCK\\rlang\\html\\is_true.html를 C:\\ProgramData\\Anaconda3\\Lib\\R\\library\\rlang\\html\\is_true.html로 복사하는데 문제가 발생했습니다: Permission denied\"Warning message in file.copy(savedcopy, lib, recursive = TRUE):\n",
      "\"C:\\ProgramData\\Anaconda3\\Lib\\R\\library\\00LOCK\\rlang\\html\\lang.html를 C:\\ProgramData\\Anaconda3\\Lib\\R\\library\\rlang\\html\\lang.html로 복사하는데 문제가 발생했습니다: Permission denied\"Warning message in file.copy(savedcopy, lib, recursive = TRUE):\n",
      "\"C:\\ProgramData\\Anaconda3\\Lib\\R\\library\\00LOCK\\rlang\\html\\lang_head.html를 C:\\ProgramData\\Anaconda3\\Lib\\R\\library\\rlang\\html\\lang_head.html로 복사하는데 문제가 발생했습니다: Permission denied\"Warning message in file.copy(savedcopy, lib, recursive = TRUE):\n",
      "\"C:\\ProgramData\\Anaconda3\\Lib\\R\\library\\00LOCK\\rlang\\html\\lang_modify.html를 C:\\ProgramData\\Anaconda3\\Lib\\R\\library\\rlang\\html\\lang_modify.html로 복사하는데 문제가 발생했습니다: Permission denied\"Warning message in file.copy(savedcopy, lib, recursive = TRUE):\n",
      "\"C:\\ProgramData\\Anaconda3\\Lib\\R\\library\\00LOCK\\rlang\\html\\last_error.html를 C:\\ProgramData\\Anaconda3\\Lib\\R\\library\\rlang\\html\\last_error.html로 복사하는데 문제가 발생했습니다: Permission denied\"Warning message in file.copy(savedcopy, lib, recursive = TRUE):\n",
      "\"C:\\ProgramData\\Anaconda3\\Lib\\R\\library\\00LOCK\\rlang\\html\\lifecycle.html를 C:\\ProgramData\\Anaconda3\\Lib\\R\\library\\rlang\\html\\lifecycle.html로 복사하는데 문제가 발생했습니다: Permission denied\"Warning message in file.copy(savedcopy, lib, recursive = TRUE):\n",
      "\"C:\\ProgramData\\Anaconda3\\Lib\\R\\library\\00LOCK\\rlang\\html\\missing.html를 C:\\ProgramData\\Anaconda3\\Lib\\R\\library\\rlang\\html\\missing.html로 복사하는데 문제가 발생했습니다: Permission denied\"Warning message in file.copy(savedcopy, lib, recursive = TRUE):\n",
      "\"C:\\ProgramData\\Anaconda3\\Lib\\R\\library\\00LOCK\\rlang\\html\\missing_arg.html를 C:\\ProgramData\\Anaconda3\\Lib\\R\\library\\rlang\\html\\missing_arg.html로 복사하는데 문제가 발생했습니다: Permission denied\"Warning message in file.copy(savedcopy, lib, recursive = TRUE):\n",
      "\"C:\\ProgramData\\Anaconda3\\Lib\\R\\library\\00LOCK\\rlang\\html\\modify.html를 C:\\ProgramData\\Anaconda3\\Lib\\R\\library\\rlang\\html\\modify.html로 복사하는데 문제가 발생했습니다: Permission denied\"Warning message in file.copy(savedcopy, lib, recursive = TRUE):\n",
      "\"C:\\ProgramData\\Anaconda3\\Lib\\R\\library\\00LOCK\\rlang\\html\\mut_node_car.html를 C:\\ProgramData\\Anaconda3\\Lib\\R\\library\\rlang\\html\\mut_node_car.html로 복사하는데 문제가 발생했습니다: Permission denied\"Warning message in file.copy(savedcopy, lib, recursive = TRUE):\n"
     ]
    },
    {
     "name": "stderr",
     "output_type": "stream",
     "text": [
      "\"C:\\ProgramData\\Anaconda3\\Lib\\R\\library\\00LOCK\\rlang\\html\\mut_utf8_locale.html를 C:\\ProgramData\\Anaconda3\\Lib\\R\\library\\rlang\\html\\mut_utf8_locale.html로 복사하는데 문제가 발생했습니다: Permission denied\"Warning message in file.copy(savedcopy, lib, recursive = TRUE):\n",
      "\"C:\\ProgramData\\Anaconda3\\Lib\\R\\library\\00LOCK\\rlang\\html\\names2.html를 C:\\ProgramData\\Anaconda3\\Lib\\R\\library\\rlang\\html\\names2.html로 복사하는데 문제가 발생했습니다: Permission denied\"Warning message in file.copy(savedcopy, lib, recursive = TRUE):\n",
      "\"C:\\ProgramData\\Anaconda3\\Lib\\R\\library\\00LOCK\\rlang\\html\\new-vector-along-retired.html를 C:\\ProgramData\\Anaconda3\\Lib\\R\\library\\rlang\\html\\new-vector-along-retired.html로 복사하는데 문제가 발생했습니다: Permission denied\"Warning message in file.copy(savedcopy, lib, recursive = TRUE):\n",
      "\"C:\\ProgramData\\Anaconda3\\Lib\\R\\library\\00LOCK\\rlang\\html\\new-vector.html를 C:\\ProgramData\\Anaconda3\\Lib\\R\\library\\rlang\\html\\new-vector.html로 복사하는데 문제가 발생했습니다: Permission denied\"Warning message in file.copy(savedcopy, lib, recursive = TRUE):\n",
      "\"C:\\ProgramData\\Anaconda3\\Lib\\R\\library\\00LOCK\\rlang\\html\\new_call.html를 C:\\ProgramData\\Anaconda3\\Lib\\R\\library\\rlang\\html\\new_call.html로 복사하는데 문제가 발생했습니다: Permission denied\"Warning message in file.copy(savedcopy, lib, recursive = TRUE):\n",
      "\"C:\\ProgramData\\Anaconda3\\Lib\\R\\library\\00LOCK\\rlang\\html\\new_formula.html를 C:\\ProgramData\\Anaconda3\\Lib\\R\\library\\rlang\\html\\new_formula.html로 복사하는데 문제가 발생했습니다: Permission denied\"Warning message in file.copy(savedcopy, lib, recursive = TRUE):\n",
      "\"C:\\ProgramData\\Anaconda3\\Lib\\R\\library\\00LOCK\\rlang\\html\\new_function.html를 C:\\ProgramData\\Anaconda3\\Lib\\R\\library\\rlang\\html\\new_function.html로 복사하는데 문제가 발생했습니다: Permission denied\"Warning message in file.copy(savedcopy, lib, recursive = TRUE):\n",
      "\"C:\\ProgramData\\Anaconda3\\Lib\\R\\library\\00LOCK\\rlang\\html\\new_node.html를 C:\\ProgramData\\Anaconda3\\Lib\\R\\library\\rlang\\html\\new_node.html로 복사하는데 문제가 발생했습니다: Permission denied\"Warning message in file.copy(savedcopy, lib, recursive = TRUE):\n",
      "\"C:\\ProgramData\\Anaconda3\\Lib\\R\\library\\00LOCK\\rlang\\html\\new_quosures.html를 C:\\ProgramData\\Anaconda3\\Lib\\R\\library\\rlang\\html\\new_quosures.html로 복사하는데 문제가 발생했습니다: Permission denied\"Warning message in file.copy(savedcopy, lib, recursive = TRUE):\n",
      "\"C:\\ProgramData\\Anaconda3\\Lib\\R\\library\\00LOCK\\rlang\\html\\ns_env.html를 C:\\ProgramData\\Anaconda3\\Lib\\R\\library\\rlang\\html\\ns_env.html로 복사하는데 문제가 발생했습니다: Permission denied\"Warning message in file.copy(savedcopy, lib, recursive = TRUE):\n",
      "\"C:\\ProgramData\\Anaconda3\\Lib\\R\\library\\00LOCK\\rlang\\html\\op-definition.html를 C:\\ProgramData\\Anaconda3\\Lib\\R\\library\\rlang\\html\\op-definition.html로 복사하는데 문제가 발생했습니다: Permission denied\"Warning message in file.copy(savedcopy, lib, recursive = TRUE):\n",
      "\"C:\\ProgramData\\Anaconda3\\Lib\\R\\library\\00LOCK\\rlang\\html\\op-get-attr.html를 C:\\ProgramData\\Anaconda3\\Lib\\R\\library\\rlang\\html\\op-get-attr.html로 복사하는데 문제가 발생했습니다: Permission denied\"Warning message in file.copy(savedcopy, lib, recursive = TRUE):\n",
      "\"C:\\ProgramData\\Anaconda3\\Lib\\R\\library\\00LOCK\\rlang\\html\\op-na-default.html를 C:\\ProgramData\\Anaconda3\\Lib\\R\\library\\rlang\\html\\op-na-default.html로 복사하는데 문제가 발생했습니다: Permission denied\"Warning message in file.copy(savedcopy, lib, recursive = TRUE):\n",
      "\"C:\\ProgramData\\Anaconda3\\Lib\\R\\library\\00LOCK\\rlang\\html\\op-null-default.html를 C:\\ProgramData\\Anaconda3\\Lib\\R\\library\\rlang\\html\\op-null-default.html로 복사하는데 문제가 발생했습니다: Permission denied\"Warning message in file.copy(savedcopy, lib, recursive = TRUE):\n",
      "\"C:\\ProgramData\\Anaconda3\\Lib\\R\\library\\00LOCK\\rlang\\html\\overscope_eval_next.html를 C:\\ProgramData\\Anaconda3\\Lib\\R\\library\\rlang\\html\\overscope_eval_next.html로 복사하는데 문제가 발생했습니다: Permission denied\"Warning message in file.copy(savedcopy, lib, recursive = TRUE):\n",
      "\"C:\\ProgramData\\Anaconda3\\Lib\\R\\library\\00LOCK\\rlang\\html\\parse_expr.html를 C:\\ProgramData\\Anaconda3\\Lib\\R\\library\\rlang\\html\\parse_expr.html로 복사하는데 문제가 발생했습니다: Permission denied\"Warning message in file.copy(savedcopy, lib, recursive = TRUE):\n",
      "\"C:\\ProgramData\\Anaconda3\\Lib\\R\\library\\00LOCK\\rlang\\html\\parse_quosure.html를 C:\\ProgramData\\Anaconda3\\Lib\\R\\library\\rlang\\html\\parse_quosure.html로 복사하는데 문제가 발생했습니다: Permission denied\"Warning message in file.copy(savedcopy, lib, recursive = TRUE):\n",
      "\"C:\\ProgramData\\Anaconda3\\Lib\\R\\library\\00LOCK\\rlang\\html\\prepend.html를 C:\\ProgramData\\Anaconda3\\Lib\\R\\library\\rlang\\html\\prepend.html로 복사하는데 문제가 발생했습니다: Permission denied\"Warning message in file.copy(savedcopy, lib, recursive = TRUE):\n",
      "\"C:\\ProgramData\\Anaconda3\\Lib\\R\\library\\00LOCK\\rlang\\html\\prim_name.html를 C:\\ProgramData\\Anaconda3\\Lib\\R\\library\\rlang\\html\\prim_name.html로 복사하는데 문제가 발생했습니다: Permission denied\"Warning message in file.copy(savedcopy, lib, recursive = TRUE):\n",
      "\"C:\\ProgramData\\Anaconda3\\Lib\\R\\library\\00LOCK\\rlang\\html\\quasiquotation.html를 C:\\ProgramData\\Anaconda3\\Lib\\R\\library\\rlang\\html\\quasiquotation.html로 복사하는데 문제가 발생했습니다: Permission denied\"Warning message in file.copy(savedcopy, lib, recursive = TRUE):\n",
      "\"C:\\ProgramData\\Anaconda3\\Lib\\R\\library\\00LOCK\\rlang\\html\\quosure.html를 C:\\ProgramData\\Anaconda3\\Lib\\R\\library\\rlang\\html\\quosure.html로 복사하는데 문제가 발생했습니다: Permission denied\"Warning message in file.copy(savedcopy, lib, recursive = TRUE):\n",
      "\"C:\\ProgramData\\Anaconda3\\Lib\\R\\library\\00LOCK\\rlang\\html\\quotation.html를 C:\\ProgramData\\Anaconda3\\Lib\\R\\library\\rlang\\html\\quotation.html로 복사하는데 문제가 발생했습니다: Permission denied\"Warning message in file.copy(savedcopy, lib, recursive = TRUE):\n",
      "\"C:\\ProgramData\\Anaconda3\\Lib\\R\\library\\00LOCK\\rlang\\html\\quo_expr.html를 C:\\ProgramData\\Anaconda3\\Lib\\R\\library\\rlang\\html\\quo_expr.html로 복사하는데 문제가 발생했습니다: Permission denied\"Warning message in file.copy(savedcopy, lib, recursive = TRUE):\n",
      "\"C:\\ProgramData\\Anaconda3\\Lib\\R\\library\\00LOCK\\rlang\\html\\quo_label.html를 C:\\ProgramData\\Anaconda3\\Lib\\R\\library\\rlang\\html\\quo_label.html로 복사하는데 문제가 발생했습니다: Permission denied\"Warning message in file.copy(savedcopy, lib, recursive = TRUE):\n",
      "\"C:\\ProgramData\\Anaconda3\\Lib\\R\\library\\00LOCK\\rlang\\html\\quo_squash.html를 C:\\ProgramData\\Anaconda3\\Lib\\R\\library\\rlang\\html\\quo_squash.html로 복사하는데 문제가 발생했습니다: Permission denied\"Warning message in file.copy(savedcopy, lib, recursive = TRUE):\n",
      "\"C:\\ProgramData\\Anaconda3\\Lib\\R\\library\\00LOCK\\rlang\\html\\R.css를 C:\\ProgramData\\Anaconda3\\Lib\\R\\library\\rlang\\html\\R.css로 복사하는데 문제가 발생했습니다: Permission denied\"Warning message in file.copy(savedcopy, lib, recursive = TRUE):\n",
      "\"C:\\ProgramData\\Anaconda3\\Lib\\R\\library\\00LOCK\\rlang\\html\\rep_along.html를 C:\\ProgramData\\Anaconda3\\Lib\\R\\library\\rlang\\html\\rep_along.html로 복사하는데 문제가 발생했습니다: Permission denied\"Warning message in file.copy(savedcopy, lib, recursive = TRUE):\n",
      "\"C:\\ProgramData\\Anaconda3\\Lib\\R\\library\\00LOCK\\rlang\\html\\restarting.html를 C:\\ProgramData\\Anaconda3\\Lib\\R\\library\\rlang\\html\\restarting.html로 복사하는데 문제가 발생했습니다: Permission denied\"Warning message in file.copy(savedcopy, lib, recursive = TRUE):\n",
      "\"C:\\ProgramData\\Anaconda3\\Lib\\R\\library\\00LOCK\\rlang\\html\\return_from.html를 C:\\ProgramData\\Anaconda3\\Lib\\R\\library\\rlang\\html\\return_from.html로 복사하는데 문제가 발생했습니다: Permission denied\"Warning message in file.copy(savedcopy, lib, recursive = TRUE):\n",
      "\"C:\\ProgramData\\Anaconda3\\Lib\\R\\library\\00LOCK\\rlang\\html\\rlang_backtrace_on_error.html를 C:\\ProgramData\\Anaconda3\\Lib\\R\\library\\rlang\\html\\rlang_backtrace_on_error.html로 복사하는데 문제가 발생했습니다: Permission denied\"Warning message in file.copy(savedcopy, lib, recursive = TRUE):\n",
      "\"C:\\ProgramData\\Anaconda3\\Lib\\R\\library\\00LOCK\\rlang\\html\\rst_abort.html를 C:\\ProgramData\\Anaconda3\\Lib\\R\\library\\rlang\\html\\rst_abort.html로 복사하는데 문제가 발생했습니다: Permission denied\"Warning message in file.copy(savedcopy, lib, recursive = TRUE):\n",
      "\"C:\\ProgramData\\Anaconda3\\Lib\\R\\library\\00LOCK\\rlang\\html\\rst_list.html를 C:\\ProgramData\\Anaconda3\\Lib\\R\\library\\rlang\\html\\rst_list.html로 복사하는데 문제가 발생했습니다: Permission denied\"Warning message in file.copy(savedcopy, lib, recursive = TRUE):\n",
      "\"C:\\ProgramData\\Anaconda3\\Lib\\R\\library\\00LOCK\\rlang\\html\\scalar-type-predicates.html를 C:\\ProgramData\\Anaconda3\\Lib\\R\\library\\rlang\\html\\scalar-type-predicates.html로 복사하는데 문제가 발생했습니다: Permission denied\"Warning message in file.copy(savedcopy, lib, recursive = TRUE):\n",
      "\"C:\\ProgramData\\Anaconda3\\Lib\\R\\library\\00LOCK\\rlang\\html\\scoped_bindings.html를 C:\\ProgramData\\Anaconda3\\Lib\\R\\library\\rlang\\html\\scoped_bindings.html로 복사하는데 문제가 발생했습니다: Permission denied\"Warning message in file.copy(savedcopy, lib, recursive = TRUE):\n",
      "\"C:\\ProgramData\\Anaconda3\\Lib\\R\\library\\00LOCK\\rlang\\html\\scoped_env.html를 C:\\ProgramData\\Anaconda3\\Lib\\R\\library\\rlang\\html\\scoped_env.html로 복사하는데 문제가 발생했습니다: Permission denied\"Warning message in file.copy(savedcopy, lib, recursive = TRUE):\n",
      "\"C:\\ProgramData\\Anaconda3\\Lib\\R\\library\\00LOCK\\rlang\\html\\scoped_options.html를 C:\\ProgramData\\Anaconda3\\Lib\\R\\library\\rlang\\html\\scoped_options.html로 복사하는데 문제가 발생했습니다: Permission denied\"Warning message in file.copy(savedcopy, lib, recursive = TRUE):\n",
      "\"C:\\ProgramData\\Anaconda3\\Lib\\R\\library\\00LOCK\\rlang\\html\\search_envs.html를 C:\\ProgramData\\Anaconda3\\Lib\\R\\library\\rlang\\html\\search_envs.html로 복사하는데 문제가 발생했습니다: Permission denied\"Warning message in file.copy(savedcopy, lib, recursive = TRUE):\n",
      "\"C:\\ProgramData\\Anaconda3\\Lib\\R\\library\\00LOCK\\rlang\\html\\seq2.html를 C:\\ProgramData\\Anaconda3\\Lib\\R\\library\\rlang\\html\\seq2.html로 복사하는데 문제가 발생했습니다: Permission denied\"Warning message in file.copy(savedcopy, lib, recursive = TRUE):\n",
      "\"C:\\ProgramData\\Anaconda3\\Lib\\R\\library\\00LOCK\\rlang\\html\\set_attrs.html를 C:\\ProgramData\\Anaconda3\\Lib\\R\\library\\rlang\\html\\set_attrs.html로 복사하는데 문제가 발생했습니다: Permission denied\"Warning message in file.copy(savedcopy, lib, recursive = TRUE):\n",
      "\"C:\\ProgramData\\Anaconda3\\Lib\\R\\library\\00LOCK\\rlang\\html\\set_chr_encoding.html를 C:\\ProgramData\\Anaconda3\\Lib\\R\\library\\rlang\\html\\set_chr_encoding.html로 복사하는데 문제가 발생했습니다: Permission denied\"Warning message in file.copy(savedcopy, lib, recursive = TRUE):\n",
      "\"C:\\ProgramData\\Anaconda3\\Lib\\R\\library\\00LOCK\\rlang\\html\\set_expr.html를 C:\\ProgramData\\Anaconda3\\Lib\\R\\library\\rlang\\html\\set_expr.html로 복사하는데 문제가 발생했습니다: Permission denied\"Warning message in file.copy(savedcopy, lib, recursive = TRUE):\n",
      "\"C:\\ProgramData\\Anaconda3\\Lib\\R\\library\\00LOCK\\rlang\\html\\set_names.html를 C:\\ProgramData\\Anaconda3\\Lib\\R\\library\\rlang\\html\\set_names.html로 복사하는데 문제가 발생했습니다: Permission denied\"Warning message in file.copy(savedcopy, lib, recursive = TRUE):\n",
      "\"C:\\ProgramData\\Anaconda3\\Lib\\R\\library\\00LOCK\\rlang\\html\\splice.html를 C:\\ProgramData\\Anaconda3\\Lib\\R\\library\\rlang\\html\\splice.html로 복사하는데 문제가 발생했습니다: Permission denied\"Warning message in file.copy(savedcopy, lib, recursive = TRUE):\n",
      "\"C:\\ProgramData\\Anaconda3\\Lib\\R\\library\\00LOCK\\rlang\\html\\stack.html를 C:\\ProgramData\\Anaconda3\\Lib\\R\\library\\rlang\\html\\stack.html로 복사하는데 문제가 발생했습니다: Permission denied\"Warning message in file.copy(savedcopy, lib, recursive = TRUE):\n",
      "\"C:\\ProgramData\\Anaconda3\\Lib\\R\\library\\00LOCK\\rlang\\html\\stack_trim.html를 C:\\ProgramData\\Anaconda3\\Lib\\R\\library\\rlang\\html\\stack_trim.html로 복사하는데 문제가 발생했습니다: Permission denied\"Warning message in file.copy(savedcopy, lib, recursive = TRUE):\n",
      "\"C:\\ProgramData\\Anaconda3\\Lib\\R\\library\\00LOCK\\rlang\\html\\string.html를 C:\\ProgramData\\Anaconda3\\Lib\\R\\library\\rlang\\html\\string.html로 복사하는데 문제가 발생했습니다: Permission denied\"Warning message in file.copy(savedcopy, lib, recursive = TRUE):\n",
      "\"C:\\ProgramData\\Anaconda3\\Lib\\R\\library\\00LOCK\\rlang\\html\\switch_lang.html를 C:\\ProgramData\\Anaconda3\\Lib\\R\\library\\rlang\\html\\switch_lang.html로 복사하는데 문제가 발생했습니다: Permission denied\"Warning message in file.copy(savedcopy, lib, recursive = TRUE):\n",
      "\"C:\\ProgramData\\Anaconda3\\Lib\\R\\library\\00LOCK\\rlang\\html\\switch_type.html를 C:\\ProgramData\\Anaconda3\\Lib\\R\\library\\rlang\\html\\switch_type.html로 복사하는데 문제가 발생했습니다: Permission denied\"Warning message in file.copy(savedcopy, lib, recursive = TRUE):\n",
      "\"C:\\ProgramData\\Anaconda3\\Lib\\R\\library\\00LOCK\\rlang\\html\\sym.html를 C:\\ProgramData\\Anaconda3\\Lib\\R\\library\\rlang\\html\\sym.html로 복사하는데 문제가 발생했습니다: Permission denied\"Warning message in file.copy(savedcopy, lib, recursive = TRUE):\n",
      "\"C:\\ProgramData\\Anaconda3\\Lib\\R\\library\\00LOCK\\rlang\\html\\tidy-dots.html를 C:\\ProgramData\\Anaconda3\\Lib\\R\\library\\rlang\\html\\tidy-dots.html로 복사하는데 문제가 발생했습니다: Permission denied\"Warning message in file.copy(savedcopy, lib, recursive = TRUE):\n",
      "\"C:\\ProgramData\\Anaconda3\\Lib\\R\\library\\00LOCK\\rlang\\html\\tidyeval-data.html를 C:\\ProgramData\\Anaconda3\\Lib\\R\\library\\rlang\\html\\tidyeval-data.html로 복사하는데 문제가 발생했습니다: Permission denied\"Warning message in file.copy(savedcopy, lib, recursive = TRUE):\n",
      "\"C:\\ProgramData\\Anaconda3\\Lib\\R\\library\\00LOCK\\rlang\\html\\trace_back.html를 C:\\ProgramData\\Anaconda3\\Lib\\R\\library\\rlang\\html\\trace_back.html로 복사하는데 문제가 발생했습니다: Permission denied\"Warning message in file.copy(savedcopy, lib, recursive = TRUE):\n",
      "\"C:\\ProgramData\\Anaconda3\\Lib\\R\\library\\00LOCK\\rlang\\html\\type-predicates.html를 C:\\ProgramData\\Anaconda3\\Lib\\R\\library\\rlang\\html\\type-predicates.html로 복사하는데 문제가 발생했습니다: Permission denied\"Warning message in file.copy(savedcopy, lib, recursive = TRUE):\n",
      "\"C:\\ProgramData\\Anaconda3\\Lib\\R\\library\\00LOCK\\rlang\\html\\type_of.html를 C:\\ProgramData\\Anaconda3\\Lib\\R\\library\\rlang\\html\\type_of.html로 복사하는데 문제가 발생했습니다: Permission denied\"Warning message in file.copy(savedcopy, lib, recursive = TRUE):\n",
      "\"C:\\ProgramData\\Anaconda3\\Lib\\R\\library\\00LOCK\\rlang\\html\\UQE.html를 C:\\ProgramData\\Anaconda3\\Lib\\R\\library\\rlang\\html\\UQE.html로 복사하는데 문제가 발생했습니다: Permission denied\"Warning message in file.copy(savedcopy, lib, recursive = TRUE):\n",
      "\"C:\\ProgramData\\Anaconda3\\Lib\\R\\library\\00LOCK\\rlang\\html\\vector-coercion.html를 C:\\ProgramData\\Anaconda3\\Lib\\R\\library\\rlang\\html\\vector-coercion.html로 복사하는데 문제가 발생했습니다: Permission denied\"Warning message in file.copy(savedcopy, lib, recursive = TRUE):\n",
      "\"C:\\ProgramData\\Anaconda3\\Lib\\R\\library\\00LOCK\\rlang\\html\\vector-construction.html를 C:\\ProgramData\\Anaconda3\\Lib\\R\\library\\rlang\\html\\vector-construction.html로 복사하는데 문제가 발생했습니다: Permission denied\"Warning message in file.copy(savedcopy, lib, recursive = TRUE):\n",
      "\"C:\\ProgramData\\Anaconda3\\Lib\\R\\library\\00LOCK\\rlang\\html\\vector-old-ctors.html를 C:\\ProgramData\\Anaconda3\\Lib\\R\\library\\rlang\\html\\vector-old-ctors.html로 복사하는데 문제가 발생했습니다: Permission denied\"Warning message in file.copy(savedcopy, lib, recursive = TRUE):\n",
      "\"C:\\ProgramData\\Anaconda3\\Lib\\R\\library\\00LOCK\\rlang\\html\\vec_poke_n.html를 C:\\ProgramData\\Anaconda3\\Lib\\R\\library\\rlang\\html\\vec_poke_n.html로 복사하는데 문제가 발생했습니다: Permission denied\"Warning message in file.copy(savedcopy, lib, recursive = TRUE):\n",
      "\"C:\\ProgramData\\Anaconda3\\Lib\\R\\library\\00LOCK\\rlang\\html\\with_abort.html를 C:\\ProgramData\\Anaconda3\\Lib\\R\\library\\rlang\\html\\with_abort.html로 복사하는데 문제가 발생했습니다: Permission denied\"Warning message in file.copy(savedcopy, lib, recursive = TRUE):\n",
      "\"C:\\ProgramData\\Anaconda3\\Lib\\R\\library\\00LOCK\\rlang\\html\\with_env.html를 C:\\ProgramData\\Anaconda3\\Lib\\R\\library\\rlang\\html\\with_env.html로 복사하는데 문제가 발생했습니다: Permission denied\"Warning message in file.copy(savedcopy, lib, recursive = TRUE):\n",
      "\"C:\\ProgramData\\Anaconda3\\Lib\\R\\library\\00LOCK\\rlang\\html\\with_handlers.html를 C:\\ProgramData\\Anaconda3\\Lib\\R\\library\\rlang\\html\\with_handlers.html로 복사하는데 문제가 발생했습니다: Permission denied\"Warning message in file.copy(savedcopy, lib, recursive = TRUE):\n",
      "\"C:\\ProgramData\\Anaconda3\\Lib\\R\\library\\00LOCK\\rlang\\html\\with_restarts.html를 C:\\ProgramData\\Anaconda3\\Lib\\R\\library\\rlang\\html\\with_restarts.html로 복사하는데 문제가 발생했습니다: Permission denied\"Warning message in file.copy(savedcopy, lib, recursive = TRUE):\n",
      "\"C:\\ProgramData\\Anaconda3\\Lib\\R\\library\\00LOCK\\rlang\\html\\zap.html를 C:\\ProgramData\\Anaconda3\\Lib\\R\\library\\rlang\\html\\zap.html로 복사하는데 문제가 발생했습니다: Permission denied\"Warning message in file.copy(savedcopy, lib, recursive = TRUE):\n",
      "\"C:\\ProgramData\\Anaconda3\\Lib\\R\\library\\00LOCK\\rlang\\INDEX를 C:\\ProgramData\\Anaconda3\\Lib\\R\\library\\rlang\\INDEX로 복사하는데 문제가 발생했습니다: Permission denied\"Warning message in file.copy(savedcopy, lib, recursive = TRUE):\n",
      "\"C:\\ProgramData\\Anaconda3\\Lib\\R\\library\\00LOCK\\rlang\\libs\\x64\\rlang.dll를 C:\\ProgramData\\Anaconda3\\Lib\\R\\library\\rlang\\libs\\x64\\rlang.dll로 복사하는데 문제가 발생했습니다: Permission denied\"Warning message in file.copy(savedcopy, lib, recursive = TRUE):\n",
      "\"C:\\ProgramData\\Anaconda3\\Lib\\R\\library\\00LOCK\\rlang\\MD5를 C:\\ProgramData\\Anaconda3\\Lib\\R\\library\\rlang\\MD5로 복사하는데 문제가 발생했습니다: Permission denied\"Warning message in file.copy(savedcopy, lib, recursive = TRUE):\n"
     ]
    },
    {
     "name": "stderr",
     "output_type": "stream",
     "text": [
      "\"C:\\ProgramData\\Anaconda3\\Lib\\R\\library\\00LOCK\\rlang\\Meta\\features.rds를 C:\\ProgramData\\Anaconda3\\Lib\\R\\library\\rlang\\Meta\\features.rds로 복사하는데 문제가 발생했습니다: Permission denied\"Warning message in file.copy(savedcopy, lib, recursive = TRUE):\n",
      "\"C:\\ProgramData\\Anaconda3\\Lib\\R\\library\\00LOCK\\rlang\\Meta\\hsearch.rds를 C:\\ProgramData\\Anaconda3\\Lib\\R\\library\\rlang\\Meta\\hsearch.rds로 복사하는데 문제가 발생했습니다: Permission denied\"Warning message in file.copy(savedcopy, lib, recursive = TRUE):\n",
      "\"C:\\ProgramData\\Anaconda3\\Lib\\R\\library\\00LOCK\\rlang\\Meta\\links.rds를 C:\\ProgramData\\Anaconda3\\Lib\\R\\library\\rlang\\Meta\\links.rds로 복사하는데 문제가 발생했습니다: Permission denied\"Warning message in file.copy(savedcopy, lib, recursive = TRUE):\n",
      "\"C:\\ProgramData\\Anaconda3\\Lib\\R\\library\\00LOCK\\rlang\\Meta\\nsInfo.rds를 C:\\ProgramData\\Anaconda3\\Lib\\R\\library\\rlang\\Meta\\nsInfo.rds로 복사하는데 문제가 발생했습니다: Permission denied\"Warning message in file.copy(savedcopy, lib, recursive = TRUE):\n",
      "\"C:\\ProgramData\\Anaconda3\\Lib\\R\\library\\00LOCK\\rlang\\Meta\\package.rds를 C:\\ProgramData\\Anaconda3\\Lib\\R\\library\\rlang\\Meta\\package.rds로 복사하는데 문제가 발생했습니다: Permission denied\"Warning message in file.copy(savedcopy, lib, recursive = TRUE):\n",
      "\"C:\\ProgramData\\Anaconda3\\Lib\\R\\library\\00LOCK\\rlang\\Meta\\Rd.rds를 C:\\ProgramData\\Anaconda3\\Lib\\R\\library\\rlang\\Meta\\Rd.rds로 복사하는데 문제가 발생했습니다: Permission denied\"Warning message in file.copy(savedcopy, lib, recursive = TRUE):\n",
      "\"C:\\ProgramData\\Anaconda3\\Lib\\R\\library\\00LOCK\\rlang\\NAMESPACE를 C:\\ProgramData\\Anaconda3\\Lib\\R\\library\\rlang\\NAMESPACE로 복사하는데 문제가 발생했습니다: Permission denied\"Warning message in file.copy(savedcopy, lib, recursive = TRUE):\n",
      "\"C:\\ProgramData\\Anaconda3\\Lib\\R\\library\\00LOCK\\rlang\\NEWS.md를 C:\\ProgramData\\Anaconda3\\Lib\\R\\library\\rlang\\NEWS.md로 복사하는데 문제가 발생했습니다: Permission denied\"Warning message in file.copy(savedcopy, lib, recursive = TRUE):\n",
      "\"C:\\ProgramData\\Anaconda3\\Lib\\R\\library\\00LOCK\\rlang\\R\\rlang를 C:\\ProgramData\\Anaconda3\\Lib\\R\\library\\rlang\\R\\rlang로 복사하는데 문제가 발생했습니다: Permission denied\"Warning message in file.copy(savedcopy, lib, recursive = TRUE):\n",
      "\"C:\\ProgramData\\Anaconda3\\Lib\\R\\library\\00LOCK\\rlang\\R\\rlang.rdb를 C:\\ProgramData\\Anaconda3\\Lib\\R\\library\\rlang\\R\\rlang.rdb로 복사하는데 문제가 발생했습니다: Permission denied\"Warning message in file.copy(savedcopy, lib, recursive = TRUE):\n",
      "\"C:\\ProgramData\\Anaconda3\\Lib\\R\\library\\00LOCK\\rlang\\R\\rlang.rdx를 C:\\ProgramData\\Anaconda3\\Lib\\R\\library\\rlang\\R\\rlang.rdx로 복사하는데 문제가 발생했습니다: Permission denied\"Warning message:\n",
      "\"restored 'rlang'\""
     ]
    },
    {
     "name": "stdout",
     "output_type": "stream",
     "text": [
      "\n",
      "The downloaded binary packages are in\n",
      "\tC:\\Users\\USER\\AppData\\Local\\Temp\\RtmpiC4Gqt\\downloaded_packages\n"
     ]
    },
    {
     "name": "stderr",
     "output_type": "stream",
     "text": [
      "installing the source package 'ggplot2'\n",
      "\n",
      "Warning message in install.packages(\"ggplot2\"):\n",
      "\"installation of package 'ggplot2' had non-zero exit status\""
     ]
    }
   ],
   "source": [
    "# 막대 그래프로 빈도표 시각화\n",
    "install.packages(\"ggplot2\")"
   ]
  },
  {
   "cell_type": "code",
   "execution_count": 16,
   "id": "b48fb612",
   "metadata": {},
   "outputs": [
    {
     "name": "stderr",
     "output_type": "stream",
     "text": [
      "\n",
      "Attaching package: 'ggplot2'\n",
      "\n",
      "The following object is masked _by_ '.GlobalEnv':\n",
      "\n",
      "    midwest\n",
      "\n",
      "Warning message:\n",
      "\"Unknown or uninitialised column: 'test'.\"Warning message:\n",
      "\"Unknown or uninitialised column: 'test'.\"Warning message:\n",
      "\"Unknown or uninitialised column: 'test'.\"ERROR while rich displaying an object: All columns in a tibble must be 1d or 2d objects:\n",
      "* Column `x` is NULL\n",
      "Traceback:\n",
      "1. FUN(X[[i]], ...)\n",
      "2. tryCatch(withCallingHandlers({\n",
      " .     if (!mime %in% names(repr::mime2repr)) \n",
      " .         stop(\"No repr_* for mimetype \", mime, \" in repr::mime2repr\")\n",
      " .     rpr <- repr::mime2repr[[mime]](obj)\n",
      " .     if (is.null(rpr)) \n",
      " .         return(NULL)\n",
      " .     prepare_content(is.raw(rpr), rpr)\n",
      " . }, error = error_handler), error = outer_handler)\n",
      "3. tryCatchList(expr, classes, parentenv, handlers)\n",
      "4. tryCatchOne(expr, names, parentenv, handlers[[1L]])\n",
      "5. doTryCatch(return(expr), name, parentenv, handler)\n",
      "6. withCallingHandlers({\n",
      " .     if (!mime %in% names(repr::mime2repr)) \n",
      " .         stop(\"No repr_* for mimetype \", mime, \" in repr::mime2repr\")\n",
      " .     rpr <- repr::mime2repr[[mime]](obj)\n",
      " .     if (is.null(rpr)) \n",
      " .         return(NULL)\n",
      " .     prepare_content(is.raw(rpr), rpr)\n",
      " . }, error = error_handler)\n",
      "7. repr::mime2repr[[mime]](obj)\n",
      "8. repr_text.default(obj)\n",
      "9. paste(capture.output(print(obj)), collapse = \"\\n\")\n",
      "10. capture.output(print(obj))\n",
      "11. evalVis(expr)\n",
      "12. withVisible(eval(expr, pf))\n",
      "13. eval(expr, pf)\n",
      "14. eval(expr, pf)\n",
      "15. print(obj)\n",
      "16. print.ggplot(obj)\n",
      "17. ggplot_build(x)\n",
      "18. ggplot_build.ggplot(x)\n",
      "19. by_layer(function(l, d) l$compute_aesthetics(d, plot))\n",
      "20. f(l = layers[[i]], d = data[[i]])\n",
      "21. l$compute_aesthetics(d, plot)\n",
      "22. f(..., self = self)\n",
      "23. as_gg_data_frame(evaled)\n",
      "24. as.data.frame(tibble::as_tibble(x))\n",
      "25. tibble::as_tibble(x)\n",
      "26. as_tibble.list(x)\n",
      "27. lst_to_tibble(x, .rows, .name_repair, col_lengths(x))\n",
      "28. check_valid_cols(x)\n",
      "29. abort(error_column_must_be_vector(names_x[is_xd], classes))\n"
     ]
    },
    {
     "data": {
      "image/png": "[encoded data removed]",
      "text/plain": [
       "plot without title"
      ]
     },
     "metadata": {},
     "output_type": "display_data"
    }
   ],
   "source": [
    "library(ggplot2)\n",
    "qplot(mpg$test)"
   ]
  },
  {
   "cell_type": "markdown",
   "id": "cab838dc",
   "metadata": {},
   "source": [
    "## 중첩 조건문"
   ]
  },
  {
   "cell_type": "code",
   "execution_count": 51,
   "id": "a4483c70",
   "metadata": {},
   "outputs": [],
   "source": [
    "#total을 기준으로 A,B,C,D 등급 부여\n",
    "mpg$grade <- ifelse(mpg$ty >= 30, \"A\",\n",
    "                   ifelse(mpg$ty >= 25, \"B\",\n",
    "                         ifelse(mpg$ty >= 20, \"C\",\"D\")))"
   ]
  },
  {
   "cell_type": "code",
   "execution_count": 53,
   "id": "d9ed3987",
   "metadata": {},
   "outputs": [
    {
     "data": {
      "text/html": [
       "<ol class=list-inline>\n",
       "\t<li>'A'</li>\n",
       "\t<li>'A'</li>\n",
       "\t<li>'A'</li>\n",
       "\t<li>'A'</li>\n",
       "\t<li>'B'</li>\n",
       "\t<li>'A'</li>\n",
       "</ol>\n"
      ],
      "text/latex": [
       "\\begin{enumerate*}\n",
       "\\item 'A'\n",
       "\\item 'A'\n",
       "\\item 'A'\n",
       "\\item 'A'\n",
       "\\item 'B'\n",
       "\\item 'A'\n",
       "\\end{enumerate*}\n"
      ],
      "text/markdown": [
       "1. 'A'\n",
       "2. 'A'\n",
       "3. 'A'\n",
       "4. 'A'\n",
       "5. 'B'\n",
       "6. 'A'\n",
       "\n",
       "\n"
      ],
      "text/plain": [
       "[1] \"A\" \"A\" \"A\" \"A\" \"B\" \"A\""
      ]
     },
     "metadata": {},
     "output_type": "display_data"
    }
   ],
   "source": [
    "head(mpg$grade)"
   ]
  },
  {
   "cell_type": "code",
   "execution_count": 54,
   "id": "45d6d096",
   "metadata": {},
   "outputs": [
    {
     "data": {
      "text/plain": [
       "\n",
       "  A   B   C   D \n",
       "105  47  57  25 "
      ]
     },
     "metadata": {},
     "output_type": "display_data"
    }
   ],
   "source": [
    "table(mpg$grade)"
   ]
  },
  {
   "cell_type": "code",
   "execution_count": 55,
   "id": "4475ceb9",
   "metadata": {},
   "outputs": [
    {
     "data": {
      "image/png": "[encoded data removed]",
      "text/plain": [
       "plot without title"
      ]
     },
     "metadata": {},
     "output_type": "display_data"
    }
   ],
   "source": [
    "qplot(mpg$grade)"
   ]
  },
  {
   "cell_type": "markdown",
   "id": "d49e59de",
   "metadata": {},
   "source": [
    "## 미국 중서부 437개 지역의 인구통계 데이터로 분석 실습\n",
    "*분석 계획* :\n",
    "\n",
    "1. ggplot2의 midwest 데이터를 데이터 프레임 형태로 불러온 다음 데이터의 특징을 파악하기.\n",
    "\n",
    "2. poptotal(전체 인구) 변수를 total로,\n",
    "popasian(아시아 인구) 변수를 asian으로 수정하기.\n",
    "\n",
    "3. total, asian 변수를 이용해 \"전체 인구 대비 아시아 인구 백분율\" 파생변수를 만들고, 히스토그램을 만들어 도시들이 어떻게 분포하는지 알아보기.\n",
    "\n",
    "4. 아시아 인구 백분율 전체 평균을 구하고, 평균을 초과하면 \"large\", 그 외에는 \"small\"을 부여하는 파생변수를 만들기.\n",
    "\n",
    "5. \"large\"와 \"small\"에 해당하는 지역이 얼마나 되는지 빈도표와 빈도 막대 그래프를 만들기. "
   ]
  },
  {
   "cell_type": "code",
   "execution_count": 2,
   "id": "ad49c6c9",
   "metadata": {},
   "outputs": [
    {
     "name": "stderr",
     "output_type": "stream",
     "text": [
      "Registered S3 methods overwritten by 'ggplot2':\n",
      "  method         from \n",
      "  [.quosures     rlang\n",
      "  c.quosures     rlang\n",
      "  print.quosures rlang\n"
     ]
    },
    {
     "data": {
      "text/html": [
       "<table>\n",
       "<thead><tr><th scope=col>PID</th><th scope=col>county</th><th scope=col>state</th><th scope=col>area</th><th scope=col>poptotal</th><th scope=col>popdensity</th><th scope=col>popwhite</th><th scope=col>popblack</th><th scope=col>popamerindian</th><th scope=col>popasian</th><th scope=col>...</th><th scope=col>percollege</th><th scope=col>percprof</th><th scope=col>poppovertyknown</th><th scope=col>percpovertyknown</th><th scope=col>percbelowpoverty</th><th scope=col>percchildbelowpovert</th><th scope=col>percadultpoverty</th><th scope=col>percelderlypoverty</th><th scope=col>inmetro</th><th scope=col>category</th></tr></thead>\n",
       "<tbody>\n",
       "\t<tr><td>561      </td><td>ADAMS    </td><td>IL       </td><td>0.052    </td><td>66090    </td><td>1270.9615</td><td>63917    </td><td>1702     </td><td>98       </td><td>249      </td><td>...      </td><td>19.63139 </td><td>4.355859 </td><td>63628    </td><td>96.27478 </td><td>13.151443</td><td>18.01172 </td><td>11.009776</td><td>12.443812</td><td>0        </td><td>AAR      </td></tr>\n",
       "\t<tr><td>562      </td><td>ALEXANDER</td><td>IL       </td><td>0.014    </td><td>10626    </td><td> 759.0000</td><td> 7054    </td><td>3496     </td><td>19       </td><td> 48      </td><td>...      </td><td>11.24331 </td><td>2.870315 </td><td>10529    </td><td>99.08714 </td><td>32.244278</td><td>45.82651 </td><td>27.385647</td><td>25.228976</td><td>0        </td><td>LHR      </td></tr>\n",
       "\t<tr><td>563      </td><td>BOND     </td><td>IL       </td><td>0.022    </td><td>14991    </td><td> 681.4091</td><td>14477    </td><td> 429     </td><td>35       </td><td> 16      </td><td>...      </td><td>17.03382 </td><td>4.488572 </td><td>14235    </td><td>94.95697 </td><td>12.068844</td><td>14.03606 </td><td>10.852090</td><td>12.697410</td><td>0        </td><td>AAR      </td></tr>\n",
       "\t<tr><td>564      </td><td>BOONE    </td><td>IL       </td><td>0.017    </td><td>30806    </td><td>1812.1176</td><td>29344    </td><td> 127     </td><td>46       </td><td>150      </td><td>...      </td><td>17.27895 </td><td>4.197800 </td><td>30337    </td><td>98.47757 </td><td> 7.209019</td><td>11.17954 </td><td> 5.536013</td><td> 6.217047</td><td>1        </td><td>ALU      </td></tr>\n",
       "\t<tr><td>565      </td><td>BROWN    </td><td>IL       </td><td>0.018    </td><td> 5836    </td><td> 324.2222</td><td> 5264    </td><td> 547     </td><td>14       </td><td>  5      </td><td>...      </td><td>14.47600 </td><td>3.367680 </td><td> 4815    </td><td>82.50514 </td><td>13.520249</td><td>13.02289 </td><td>11.143211</td><td>19.200000</td><td>0        </td><td>AAR      </td></tr>\n",
       "\t<tr><td>566      </td><td>BUREAU   </td><td>IL       </td><td>0.050    </td><td>35688    </td><td> 713.7600</td><td>35157    </td><td>  50     </td><td>65       </td><td>195      </td><td>...      </td><td>18.90462 </td><td>3.275891 </td><td>35107    </td><td>98.37200 </td><td>10.399635</td><td>14.15882 </td><td> 8.179287</td><td>11.008586</td><td>0        </td><td>AAR      </td></tr>\n",
       "</tbody>\n",
       "</table>\n"
      ],
      "text/latex": [
       "\\begin{tabular}{r|llllllllllllllllllllllllllll}\n",
       " PID & county & state & area & poptotal & popdensity & popwhite & popblack & popamerindian & popasian & ... & percollege & percprof & poppovertyknown & percpovertyknown & percbelowpoverty & percchildbelowpovert & percadultpoverty & percelderlypoverty & inmetro & category\\\\\n",
       "\\hline\n",
       "\t 561       & ADAMS     & IL        & 0.052     & 66090     & 1270.9615 & 63917     & 1702      & 98        & 249       & ...       & 19.63139  & 4.355859  & 63628     & 96.27478  & 13.151443 & 18.01172  & 11.009776 & 12.443812 & 0         & AAR      \\\\\n",
       "\t 562       & ALEXANDER & IL        & 0.014     & 10626     &  759.0000 &  7054     & 3496      & 19        &  48       & ...       & 11.24331  & 2.870315  & 10529     & 99.08714  & 32.244278 & 45.82651  & 27.385647 & 25.228976 & 0         & LHR      \\\\\n",
       "\t 563       & BOND      & IL        & 0.022     & 14991     &  681.4091 & 14477     &  429      & 35        &  16       & ...       & 17.03382  & 4.488572  & 14235     & 94.95697  & 12.068844 & 14.03606  & 10.852090 & 12.697410 & 0         & AAR      \\\\\n",
       "\t 564       & BOONE     & IL        & 0.017     & 30806     & 1812.1176 & 29344     &  127      & 46        & 150       & ...       & 17.27895  & 4.197800  & 30337     & 98.47757  &  7.209019 & 11.17954  &  5.536013 &  6.217047 & 1         & ALU      \\\\\n",
       "\t 565       & BROWN     & IL        & 0.018     &  5836     &  324.2222 &  5264     &  547      & 14        &   5       & ...       & 14.47600  & 3.367680  &  4815     & 82.50514  & 13.520249 & 13.02289  & 11.143211 & 19.200000 & 0         & AAR      \\\\\n",
       "\t 566       & BUREAU    & IL        & 0.050     & 35688     &  713.7600 & 35157     &   50      & 65        & 195       & ...       & 18.90462  & 3.275891  & 35107     & 98.37200  & 10.399635 & 14.15882  &  8.179287 & 11.008586 & 0         & AAR      \\\\\n",
       "\\end{tabular}\n"
      ],
      "text/markdown": [
       "\n",
       "| PID | county | state | area | poptotal | popdensity | popwhite | popblack | popamerindian | popasian | ... | percollege | percprof | poppovertyknown | percpovertyknown | percbelowpoverty | percchildbelowpovert | percadultpoverty | percelderlypoverty | inmetro | category |\n",
       "|---|---|---|---|---|---|---|---|---|---|---|---|---|---|---|---|---|---|---|---|---|\n",
       "| 561       | ADAMS     | IL        | 0.052     | 66090     | 1270.9615 | 63917     | 1702      | 98        | 249       | ...       | 19.63139  | 4.355859  | 63628     | 96.27478  | 13.151443 | 18.01172  | 11.009776 | 12.443812 | 0         | AAR       |\n",
       "| 562       | ALEXANDER | IL        | 0.014     | 10626     |  759.0000 |  7054     | 3496      | 19        |  48       | ...       | 11.24331  | 2.870315  | 10529     | 99.08714  | 32.244278 | 45.82651  | 27.385647 | 25.228976 | 0         | LHR       |\n",
       "| 563       | BOND      | IL        | 0.022     | 14991     |  681.4091 | 14477     |  429      | 35        |  16       | ...       | 17.03382  | 4.488572  | 14235     | 94.95697  | 12.068844 | 14.03606  | 10.852090 | 12.697410 | 0         | AAR       |\n",
       "| 564       | BOONE     | IL        | 0.017     | 30806     | 1812.1176 | 29344     |  127      | 46        | 150       | ...       | 17.27895  | 4.197800  | 30337     | 98.47757  |  7.209019 | 11.17954  |  5.536013 |  6.217047 | 1         | ALU       |\n",
       "| 565       | BROWN     | IL        | 0.018     |  5836     |  324.2222 |  5264     |  547      | 14        |   5       | ...       | 14.47600  | 3.367680  |  4815     | 82.50514  | 13.520249 | 13.02289  | 11.143211 | 19.200000 | 0         | AAR       |\n",
       "| 566       | BUREAU    | IL        | 0.050     | 35688     |  713.7600 | 35157     |   50      | 65        | 195       | ...       | 18.90462  | 3.275891  | 35107     | 98.37200  | 10.399635 | 14.15882  |  8.179287 | 11.008586 | 0         | AAR       |\n",
       "\n"
      ],
      "text/plain": [
       "  PID county    state area  poptotal popdensity popwhite popblack popamerindian\n",
       "1 561 ADAMS     IL    0.052 66090    1270.9615  63917    1702     98           \n",
       "2 562 ALEXANDER IL    0.014 10626     759.0000   7054    3496     19           \n",
       "3 563 BOND      IL    0.022 14991     681.4091  14477     429     35           \n",
       "4 564 BOONE     IL    0.017 30806    1812.1176  29344     127     46           \n",
       "5 565 BROWN     IL    0.018  5836     324.2222   5264     547     14           \n",
       "6 566 BUREAU    IL    0.050 35688     713.7600  35157      50     65           \n",
       "  popasian ... percollege percprof poppovertyknown percpovertyknown\n",
       "1 249      ... 19.63139   4.355859 63628           96.27478        \n",
       "2  48      ... 11.24331   2.870315 10529           99.08714        \n",
       "3  16      ... 17.03382   4.488572 14235           94.95697        \n",
       "4 150      ... 17.27895   4.197800 30337           98.47757        \n",
       "5   5      ... 14.47600   3.367680  4815           82.50514        \n",
       "6 195      ... 18.90462   3.275891 35107           98.37200        \n",
       "  percbelowpoverty percchildbelowpovert percadultpoverty percelderlypoverty\n",
       "1 13.151443        18.01172             11.009776        12.443812         \n",
       "2 32.244278        45.82651             27.385647        25.228976         \n",
       "3 12.068844        14.03606             10.852090        12.697410         \n",
       "4  7.209019        11.17954              5.536013         6.217047         \n",
       "5 13.520249        13.02289             11.143211        19.200000         \n",
       "6 10.399635        14.15882              8.179287        11.008586         \n",
       "  inmetro category\n",
       "1 0       AAR     \n",
       "2 0       LHR     \n",
       "3 0       AAR     \n",
       "4 1       ALU     \n",
       "5 0       AAR     \n",
       "6 0       AAR     "
      ]
     },
     "metadata": {},
     "output_type": "display_data"
    }
   ],
   "source": [
    "midwest <- as.data.frame(ggplot2::midwest)\n",
    "head(midwest)"
   ]
  },
  {
   "cell_type": "code",
   "execution_count": 3,
   "id": "b48aa62d",
   "metadata": {},
   "outputs": [
    {
     "data": {
      "text/plain": [
       "      PID          county             state                area        \n",
       " Min.   : 561   Length:437         Length:437         Min.   :0.00500  \n",
       " 1st Qu.: 670   Class :character   Class :character   1st Qu.:0.02400  \n",
       " Median :1221   Mode  :character   Mode  :character   Median :0.03000  \n",
       " Mean   :1437                                         Mean   :0.03317  \n",
       " 3rd Qu.:2059                                         3rd Qu.:0.03800  \n",
       " Max.   :3052                                         Max.   :0.11000  \n",
       "    poptotal         popdensity          popwhite          popblack      \n",
       " Min.   :   1701   Min.   :   85.05   Min.   :    416   Min.   :      0  \n",
       " 1st Qu.:  18840   1st Qu.:  622.41   1st Qu.:  18630   1st Qu.:     29  \n",
       " Median :  35324   Median : 1156.21   Median :  34471   Median :    201  \n",
       " Mean   :  96130   Mean   : 3097.74   Mean   :  81840   Mean   :  11024  \n",
       " 3rd Qu.:  75651   3rd Qu.: 2330.00   3rd Qu.:  72968   3rd Qu.:   1291  \n",
       " Max.   :5105067   Max.   :88018.40   Max.   :3204947   Max.   :1317147  \n",
       " popamerindian        popasian         popother        percwhite    \n",
       " Min.   :    4.0   Min.   :     0   Min.   :     0   Min.   :10.69  \n",
       " 1st Qu.:   44.0   1st Qu.:    35   1st Qu.:    20   1st Qu.:94.89  \n",
       " Median :   94.0   Median :   102   Median :    66   Median :98.03  \n",
       " Mean   :  343.1   Mean   :  1310   Mean   :  1613   Mean   :95.56  \n",
       " 3rd Qu.:  288.0   3rd Qu.:   401   3rd Qu.:   345   3rd Qu.:99.07  \n",
       " Max.   :10289.0   Max.   :188565   Max.   :384119   Max.   :99.82  \n",
       "   percblack       percamerindan        percasian        percother      \n",
       " Min.   : 0.0000   Min.   : 0.05623   Min.   :0.0000   Min.   :0.00000  \n",
       " 1st Qu.: 0.1157   1st Qu.: 0.15793   1st Qu.:0.1737   1st Qu.:0.09102  \n",
       " Median : 0.5390   Median : 0.21502   Median :0.2972   Median :0.17844  \n",
       " Mean   : 2.6763   Mean   : 0.79894   Mean   :0.4872   Mean   :0.47906  \n",
       " 3rd Qu.: 2.6014   3rd Qu.: 0.38362   3rd Qu.:0.5212   3rd Qu.:0.48050  \n",
       " Max.   :40.2100   Max.   :89.17738   Max.   :5.0705   Max.   :7.52427  \n",
       "   popadults          perchsd        percollege        percprof      \n",
       " Min.   :   1287   Min.   :46.91   Min.   : 7.336   Min.   : 0.5203  \n",
       " 1st Qu.:  12271   1st Qu.:71.33   1st Qu.:14.114   1st Qu.: 2.9980  \n",
       " Median :  22188   Median :74.25   Median :16.798   Median : 3.8142  \n",
       " Mean   :  60973   Mean   :73.97   Mean   :18.273   Mean   : 4.4473  \n",
       " 3rd Qu.:  47541   3rd Qu.:77.20   3rd Qu.:20.550   3rd Qu.: 4.9493  \n",
       " Max.   :3291995   Max.   :88.90   Max.   :48.079   Max.   :20.7913  \n",
       " poppovertyknown   percpovertyknown percbelowpoverty percchildbelowpovert\n",
       " Min.   :   1696   Min.   :80.90    Min.   : 2.180   Min.   : 1.919      \n",
       " 1st Qu.:  18364   1st Qu.:96.89    1st Qu.: 9.199   1st Qu.:11.624      \n",
       " Median :  33788   Median :98.17    Median :11.822   Median :15.270      \n",
       " Mean   :  93642   Mean   :97.11    Mean   :12.511   Mean   :16.447      \n",
       " 3rd Qu.:  72840   3rd Qu.:98.60    3rd Qu.:15.133   3rd Qu.:20.352      \n",
       " Max.   :5023523   Max.   :99.86    Max.   :48.691   Max.   :64.308      \n",
       " percadultpoverty percelderlypoverty    inmetro         category        \n",
       " Min.   : 1.938   Min.   : 3.547     Min.   :0.0000   Length:437        \n",
       " 1st Qu.: 7.668   1st Qu.: 8.912     1st Qu.:0.0000   Class :character  \n",
       " Median :10.008   Median :10.869     Median :0.0000   Mode  :character  \n",
       " Mean   :10.919   Mean   :11.389     Mean   :0.3432                     \n",
       " 3rd Qu.:13.182   3rd Qu.:13.412     3rd Qu.:1.0000                     \n",
       " Max.   :43.312   Max.   :31.162     Max.   :1.0000                     "
      ]
     },
     "metadata": {},
     "output_type": "display_data"
    }
   ],
   "source": [
    "summary(midwest)"
   ]
  },
  {
   "cell_type": "code",
   "execution_count": 4,
   "id": "e701b0e6",
   "metadata": {},
   "outputs": [
    {
     "name": "stdout",
     "output_type": "stream",
     "text": [
      "'data.frame':\t437 obs. of  28 variables:\n",
      " $ PID                 : int  561 562 563 564 565 566 567 568 569 570 ...\n",
      " $ county              : chr  \"ADAMS\" \"ALEXANDER\" \"BOND\" \"BOONE\" ...\n",
      " $ state               : chr  \"IL\" \"IL\" \"IL\" \"IL\" ...\n",
      " $ area                : num  0.052 0.014 0.022 0.017 0.018 0.05 0.017 0.027 0.024 0.058 ...\n",
      " $ poptotal            : int  66090 10626 14991 30806 5836 35688 5322 16805 13437 173025 ...\n",
      " $ popdensity          : num  1271 759 681 1812 324 ...\n",
      " $ popwhite            : int  63917 7054 14477 29344 5264 35157 5298 16519 13384 146506 ...\n",
      " $ popblack            : int  1702 3496 429 127 547 50 1 111 16 16559 ...\n",
      " $ popamerindian       : int  98 19 35 46 14 65 8 30 8 331 ...\n",
      " $ popasian            : int  249 48 16 150 5 195 15 61 23 8033 ...\n",
      " $ popother            : int  124 9 34 1139 6 221 0 84 6 1596 ...\n",
      " $ percwhite           : num  96.7 66.4 96.6 95.3 90.2 ...\n",
      " $ percblack           : num  2.575 32.9 2.862 0.412 9.373 ...\n",
      " $ percamerindan       : num  0.148 0.179 0.233 0.149 0.24 ...\n",
      " $ percasian           : num  0.3768 0.4517 0.1067 0.4869 0.0857 ...\n",
      " $ percother           : num  0.1876 0.0847 0.2268 3.6973 0.1028 ...\n",
      " $ popadults           : int  43298 6724 9669 19272 3979 23444 3583 11323 8825 95971 ...\n",
      " $ perchsd             : num  75.1 59.7 69.3 75.5 68.9 ...\n",
      " $ percollege          : num  19.6 11.2 17 17.3 14.5 ...\n",
      " $ percprof            : num  4.36 2.87 4.49 4.2 3.37 ...\n",
      " $ poppovertyknown     : int  63628 10529 14235 30337 4815 35107 5241 16455 13081 154934 ...\n",
      " $ percpovertyknown    : num  96.3 99.1 95 98.5 82.5 ...\n",
      " $ percbelowpoverty    : num  13.15 32.24 12.07 7.21 13.52 ...\n",
      " $ percchildbelowpovert: num  18 45.8 14 11.2 13 ...\n",
      " $ percadultpoverty    : num  11.01 27.39 10.85 5.54 11.14 ...\n",
      " $ percelderlypoverty  : num  12.44 25.23 12.7 6.22 19.2 ...\n",
      " $ inmetro             : int  0 0 0 1 0 0 0 0 0 1 ...\n",
      " $ category            : chr  \"AAR\" \"LHR\" \"AAR\" \"ALU\" ...\n"
     ]
    }
   ],
   "source": [
    "str(midwest)"
   ]
  },
  {
   "cell_type": "code",
   "execution_count": null,
   "id": "7d37070b",
   "metadata": {},
   "outputs": [],
   "source": [
    "#poptotal(전체 인구) 변수를 total로, popasian(아시아 인구) 변수를 asian으로 수정하기.\n",
    "midwest <- rename(midwest, total = poptotal, asian = popasian)"
   ]
  },
  {
   "cell_type": "code",
   "execution_count": 10,
   "id": "a67e212f",
   "metadata": {},
   "outputs": [
    {
     "data": {
      "text/html": [
       "<table>\n",
       "<thead><tr><th scope=col>PID</th><th scope=col>county</th><th scope=col>state</th><th scope=col>area</th><th scope=col>total</th><th scope=col>popdensity</th><th scope=col>popwhite</th><th scope=col>popblack</th><th scope=col>popamerindian</th><th scope=col>asian</th><th scope=col>...</th><th scope=col>percollege</th><th scope=col>percprof</th><th scope=col>poppovertyknown</th><th scope=col>percpovertyknown</th><th scope=col>percbelowpoverty</th><th scope=col>percchildbelowpovert</th><th scope=col>percadultpoverty</th><th scope=col>percelderlypoverty</th><th scope=col>inmetro</th><th scope=col>category</th></tr></thead>\n",
       "<tbody>\n",
       "\t<tr><td>561      </td><td>ADAMS    </td><td>IL       </td><td>0.052    </td><td>66090    </td><td>1270.9615</td><td>63917    </td><td>1702     </td><td>98       </td><td>249      </td><td>...      </td><td>19.63139 </td><td>4.355859 </td><td>63628    </td><td>96.27478 </td><td>13.151443</td><td>18.01172 </td><td>11.009776</td><td>12.443812</td><td>0        </td><td>AAR      </td></tr>\n",
       "\t<tr><td>562      </td><td>ALEXANDER</td><td>IL       </td><td>0.014    </td><td>10626    </td><td> 759.0000</td><td> 7054    </td><td>3496     </td><td>19       </td><td> 48      </td><td>...      </td><td>11.24331 </td><td>2.870315 </td><td>10529    </td><td>99.08714 </td><td>32.244278</td><td>45.82651 </td><td>27.385647</td><td>25.228976</td><td>0        </td><td>LHR      </td></tr>\n",
       "\t<tr><td>563      </td><td>BOND     </td><td>IL       </td><td>0.022    </td><td>14991    </td><td> 681.4091</td><td>14477    </td><td> 429     </td><td>35       </td><td> 16      </td><td>...      </td><td>17.03382 </td><td>4.488572 </td><td>14235    </td><td>94.95697 </td><td>12.068844</td><td>14.03606 </td><td>10.852090</td><td>12.697410</td><td>0        </td><td>AAR      </td></tr>\n",
       "\t<tr><td>564      </td><td>BOONE    </td><td>IL       </td><td>0.017    </td><td>30806    </td><td>1812.1176</td><td>29344    </td><td> 127     </td><td>46       </td><td>150      </td><td>...      </td><td>17.27895 </td><td>4.197800 </td><td>30337    </td><td>98.47757 </td><td> 7.209019</td><td>11.17954 </td><td> 5.536013</td><td> 6.217047</td><td>1        </td><td>ALU      </td></tr>\n",
       "\t<tr><td>565      </td><td>BROWN    </td><td>IL       </td><td>0.018    </td><td> 5836    </td><td> 324.2222</td><td> 5264    </td><td> 547     </td><td>14       </td><td>  5      </td><td>...      </td><td>14.47600 </td><td>3.367680 </td><td> 4815    </td><td>82.50514 </td><td>13.520249</td><td>13.02289 </td><td>11.143211</td><td>19.200000</td><td>0        </td><td>AAR      </td></tr>\n",
       "\t<tr><td>566      </td><td>BUREAU   </td><td>IL       </td><td>0.050    </td><td>35688    </td><td> 713.7600</td><td>35157    </td><td>  50     </td><td>65       </td><td>195      </td><td>...      </td><td>18.90462 </td><td>3.275891 </td><td>35107    </td><td>98.37200 </td><td>10.399635</td><td>14.15882 </td><td> 8.179287</td><td>11.008586</td><td>0        </td><td>AAR      </td></tr>\n",
       "</tbody>\n",
       "</table>\n"
      ],
      "text/latex": [
       "\\begin{tabular}{r|llllllllllllllllllllllllllll}\n",
       " PID & county & state & area & total & popdensity & popwhite & popblack & popamerindian & asian & ... & percollege & percprof & poppovertyknown & percpovertyknown & percbelowpoverty & percchildbelowpovert & percadultpoverty & percelderlypoverty & inmetro & category\\\\\n",
       "\\hline\n",
       "\t 561       & ADAMS     & IL        & 0.052     & 66090     & 1270.9615 & 63917     & 1702      & 98        & 249       & ...       & 19.63139  & 4.355859  & 63628     & 96.27478  & 13.151443 & 18.01172  & 11.009776 & 12.443812 & 0         & AAR      \\\\\n",
       "\t 562       & ALEXANDER & IL        & 0.014     & 10626     &  759.0000 &  7054     & 3496      & 19        &  48       & ...       & 11.24331  & 2.870315  & 10529     & 99.08714  & 32.244278 & 45.82651  & 27.385647 & 25.228976 & 0         & LHR      \\\\\n",
       "\t 563       & BOND      & IL        & 0.022     & 14991     &  681.4091 & 14477     &  429      & 35        &  16       & ...       & 17.03382  & 4.488572  & 14235     & 94.95697  & 12.068844 & 14.03606  & 10.852090 & 12.697410 & 0         & AAR      \\\\\n",
       "\t 564       & BOONE     & IL        & 0.017     & 30806     & 1812.1176 & 29344     &  127      & 46        & 150       & ...       & 17.27895  & 4.197800  & 30337     & 98.47757  &  7.209019 & 11.17954  &  5.536013 &  6.217047 & 1         & ALU      \\\\\n",
       "\t 565       & BROWN     & IL        & 0.018     &  5836     &  324.2222 &  5264     &  547      & 14        &   5       & ...       & 14.47600  & 3.367680  &  4815     & 82.50514  & 13.520249 & 13.02289  & 11.143211 & 19.200000 & 0         & AAR      \\\\\n",
       "\t 566       & BUREAU    & IL        & 0.050     & 35688     &  713.7600 & 35157     &   50      & 65        & 195       & ...       & 18.90462  & 3.275891  & 35107     & 98.37200  & 10.399635 & 14.15882  &  8.179287 & 11.008586 & 0         & AAR      \\\\\n",
       "\\end{tabular}\n"
      ],
      "text/markdown": [
       "\n",
       "| PID | county | state | area | total | popdensity | popwhite | popblack | popamerindian | asian | ... | percollege | percprof | poppovertyknown | percpovertyknown | percbelowpoverty | percchildbelowpovert | percadultpoverty | percelderlypoverty | inmetro | category |\n",
       "|---|---|---|---|---|---|---|---|---|---|---|---|---|---|---|---|---|---|---|---|---|\n",
       "| 561       | ADAMS     | IL        | 0.052     | 66090     | 1270.9615 | 63917     | 1702      | 98        | 249       | ...       | 19.63139  | 4.355859  | 63628     | 96.27478  | 13.151443 | 18.01172  | 11.009776 | 12.443812 | 0         | AAR       |\n",
       "| 562       | ALEXANDER | IL        | 0.014     | 10626     |  759.0000 |  7054     | 3496      | 19        |  48       | ...       | 11.24331  | 2.870315  | 10529     | 99.08714  | 32.244278 | 45.82651  | 27.385647 | 25.228976 | 0         | LHR       |\n",
       "| 563       | BOND      | IL        | 0.022     | 14991     |  681.4091 | 14477     |  429      | 35        |  16       | ...       | 17.03382  | 4.488572  | 14235     | 94.95697  | 12.068844 | 14.03606  | 10.852090 | 12.697410 | 0         | AAR       |\n",
       "| 564       | BOONE     | IL        | 0.017     | 30806     | 1812.1176 | 29344     |  127      | 46        | 150       | ...       | 17.27895  | 4.197800  | 30337     | 98.47757  |  7.209019 | 11.17954  |  5.536013 |  6.217047 | 1         | ALU       |\n",
       "| 565       | BROWN     | IL        | 0.018     |  5836     |  324.2222 |  5264     |  547      | 14        |   5       | ...       | 14.47600  | 3.367680  |  4815     | 82.50514  | 13.520249 | 13.02289  | 11.143211 | 19.200000 | 0         | AAR       |\n",
       "| 566       | BUREAU    | IL        | 0.050     | 35688     |  713.7600 | 35157     |   50      | 65        | 195       | ...       | 18.90462  | 3.275891  | 35107     | 98.37200  | 10.399635 | 14.15882  |  8.179287 | 11.008586 | 0         | AAR       |\n",
       "\n"
      ],
      "text/plain": [
       "  PID county    state area  total popdensity popwhite popblack popamerindian\n",
       "1 561 ADAMS     IL    0.052 66090 1270.9615  63917    1702     98           \n",
       "2 562 ALEXANDER IL    0.014 10626  759.0000   7054    3496     19           \n",
       "3 563 BOND      IL    0.022 14991  681.4091  14477     429     35           \n",
       "4 564 BOONE     IL    0.017 30806 1812.1176  29344     127     46           \n",
       "5 565 BROWN     IL    0.018  5836  324.2222   5264     547     14           \n",
       "6 566 BUREAU    IL    0.050 35688  713.7600  35157      50     65           \n",
       "  asian ... percollege percprof poppovertyknown percpovertyknown\n",
       "1 249   ... 19.63139   4.355859 63628           96.27478        \n",
       "2  48   ... 11.24331   2.870315 10529           99.08714        \n",
       "3  16   ... 17.03382   4.488572 14235           94.95697        \n",
       "4 150   ... 17.27895   4.197800 30337           98.47757        \n",
       "5   5   ... 14.47600   3.367680  4815           82.50514        \n",
       "6 195   ... 18.90462   3.275891 35107           98.37200        \n",
       "  percbelowpoverty percchildbelowpovert percadultpoverty percelderlypoverty\n",
       "1 13.151443        18.01172             11.009776        12.443812         \n",
       "2 32.244278        45.82651             27.385647        25.228976         \n",
       "3 12.068844        14.03606             10.852090        12.697410         \n",
       "4  7.209019        11.17954              5.536013         6.217047         \n",
       "5 13.520249        13.02289             11.143211        19.200000         \n",
       "6 10.399635        14.15882              8.179287        11.008586         \n",
       "  inmetro category\n",
       "1 0       AAR     \n",
       "2 0       LHR     \n",
       "3 0       AAR     \n",
       "4 1       ALU     \n",
       "5 0       AAR     \n",
       "6 0       AAR     "
      ]
     },
     "metadata": {},
     "output_type": "display_data"
    }
   ],
   "source": [
    "head(midwest)"
   ]
  },
  {
   "cell_type": "code",
   "execution_count": 11,
   "id": "c874e1c6",
   "metadata": {},
   "outputs": [],
   "source": [
    "#total, asian 변수를 이용해 \n",
    "#\"전체 인구 대비 아시아 인구 백분율\" 파생변수를 만들고,\n",
    "#히스토그램을 만들어 도시들이 어떻게 분포하는지 알아보기.\n",
    "\n",
    "midwest$ratio <- (midwest$asian / midwest$total) * 100"
   ]
  },
  {
   "cell_type": "code",
   "execution_count": 12,
   "id": "96c6731a",
   "metadata": {},
   "outputs": [
    {
     "data": {
      "image/png": "[encoded data removed]",
      "text/plain": [
       "Plot with title \"Histogram of midwest$ratio\""
      ]
     },
     "metadata": {},
     "output_type": "display_data"
    }
   ],
   "source": [
    "hist(midwest$ratio)"
   ]
  },
  {
   "cell_type": "code",
   "execution_count": 13,
   "id": "df3472a9",
   "metadata": {},
   "outputs": [
    {
     "data": {
      "text/html": [
       "0.487246183435734"
      ],
      "text/latex": [
       "0.487246183435734"
      ],
      "text/markdown": [
       "0.487246183435734"
      ],
      "text/plain": [
       "[1] 0.4872462"
      ]
     },
     "metadata": {},
     "output_type": "display_data"
    }
   ],
   "source": [
    "#아시아 인구 백분율 전체 평균을 구하고, \n",
    "#평균을 초과하면 \"large\", 그 외에는 \"small\"을 부여하는 파생변수를 만들기.\n",
    "mean(midwest$ratio)"
   ]
  },
  {
   "cell_type": "code",
   "execution_count": 14,
   "id": "20acacc7",
   "metadata": {},
   "outputs": [],
   "source": [
    "midwest$group <- ifelse(midwest$ratio >= mean(midwest$ratio), \"large\",\"small\")"
   ]
  },
  {
   "cell_type": "code",
   "execution_count": 15,
   "id": "6ab6b40f",
   "metadata": {},
   "outputs": [
    {
     "data": {
      "text/html": [
       "<table>\n",
       "<thead><tr><th scope=col>PID</th><th scope=col>county</th><th scope=col>state</th><th scope=col>area</th><th scope=col>total</th><th scope=col>popdensity</th><th scope=col>popwhite</th><th scope=col>popblack</th><th scope=col>popamerindian</th><th scope=col>asian</th><th scope=col>...</th><th scope=col>poppovertyknown</th><th scope=col>percpovertyknown</th><th scope=col>percbelowpoverty</th><th scope=col>percchildbelowpovert</th><th scope=col>percadultpoverty</th><th scope=col>percelderlypoverty</th><th scope=col>inmetro</th><th scope=col>category</th><th scope=col>ratio</th><th scope=col>group</th></tr></thead>\n",
       "<tbody>\n",
       "\t<tr><td>561       </td><td>ADAMS     </td><td>IL        </td><td>0.052     </td><td>66090     </td><td>1270.9615 </td><td>63917     </td><td>1702      </td><td>98        </td><td>249       </td><td>...       </td><td>63628     </td><td>96.27478  </td><td>13.151443 </td><td>18.01172  </td><td>11.009776 </td><td>12.443812 </td><td>0         </td><td>AAR       </td><td>0.37675897</td><td>small     </td></tr>\n",
       "\t<tr><td>562       </td><td>ALEXANDER </td><td>IL        </td><td>0.014     </td><td>10626     </td><td> 759.0000 </td><td> 7054     </td><td>3496      </td><td>19        </td><td> 48       </td><td>...       </td><td>10529     </td><td>99.08714  </td><td>32.244278 </td><td>45.82651  </td><td>27.385647 </td><td>25.228976 </td><td>0         </td><td>LHR       </td><td>0.45172219</td><td>small     </td></tr>\n",
       "\t<tr><td>563       </td><td>BOND      </td><td>IL        </td><td>0.022     </td><td>14991     </td><td> 681.4091 </td><td>14477     </td><td> 429      </td><td>35        </td><td> 16       </td><td>...       </td><td>14235     </td><td>94.95697  </td><td>12.068844 </td><td>14.03606  </td><td>10.852090 </td><td>12.697410 </td><td>0         </td><td>AAR       </td><td>0.10673071</td><td>small     </td></tr>\n",
       "\t<tr><td>564       </td><td>BOONE     </td><td>IL        </td><td>0.017     </td><td>30806     </td><td>1812.1176 </td><td>29344     </td><td> 127      </td><td>46        </td><td>150       </td><td>...       </td><td>30337     </td><td>98.47757  </td><td> 7.209019 </td><td>11.17954  </td><td> 5.536013 </td><td> 6.217047 </td><td>1         </td><td>ALU       </td><td>0.48691813</td><td>small     </td></tr>\n",
       "\t<tr><td>565       </td><td>BROWN     </td><td>IL        </td><td>0.018     </td><td> 5836     </td><td> 324.2222 </td><td> 5264     </td><td> 547      </td><td>14        </td><td>  5       </td><td>...       </td><td> 4815     </td><td>82.50514  </td><td>13.520249 </td><td>13.02289  </td><td>11.143211 </td><td>19.200000 </td><td>0         </td><td>AAR       </td><td>0.08567512</td><td>small     </td></tr>\n",
       "\t<tr><td>566       </td><td>BUREAU    </td><td>IL        </td><td>0.050     </td><td>35688     </td><td> 713.7600 </td><td>35157     </td><td>  50      </td><td>65        </td><td>195       </td><td>...       </td><td>35107     </td><td>98.37200  </td><td>10.399635 </td><td>14.15882  </td><td> 8.179287 </td><td>11.008586 </td><td>0         </td><td>AAR       </td><td>0.54640215</td><td>large     </td></tr>\n",
       "</tbody>\n",
       "</table>\n"
      ],
      "text/latex": [
       "\\begin{tabular}{r|llllllllllllllllllllllllllllll}\n",
       " PID & county & state & area & total & popdensity & popwhite & popblack & popamerindian & asian & ... & poppovertyknown & percpovertyknown & percbelowpoverty & percchildbelowpovert & percadultpoverty & percelderlypoverty & inmetro & category & ratio & group\\\\\n",
       "\\hline\n",
       "\t 561        & ADAMS      & IL         & 0.052      & 66090      & 1270.9615  & 63917      & 1702       & 98         & 249        & ...        & 63628      & 96.27478   & 13.151443  & 18.01172   & 11.009776  & 12.443812  & 0          & AAR        & 0.37675897 & small     \\\\\n",
       "\t 562        & ALEXANDER  & IL         & 0.014      & 10626      &  759.0000  &  7054      & 3496       & 19         &  48        & ...        & 10529      & 99.08714   & 32.244278  & 45.82651   & 27.385647  & 25.228976  & 0          & LHR        & 0.45172219 & small     \\\\\n",
       "\t 563        & BOND       & IL         & 0.022      & 14991      &  681.4091  & 14477      &  429       & 35         &  16        & ...        & 14235      & 94.95697   & 12.068844  & 14.03606   & 10.852090  & 12.697410  & 0          & AAR        & 0.10673071 & small     \\\\\n",
       "\t 564        & BOONE      & IL         & 0.017      & 30806      & 1812.1176  & 29344      &  127       & 46         & 150        & ...        & 30337      & 98.47757   &  7.209019  & 11.17954   &  5.536013  &  6.217047  & 1          & ALU        & 0.48691813 & small     \\\\\n",
       "\t 565        & BROWN      & IL         & 0.018      &  5836      &  324.2222  &  5264      &  547       & 14         &   5        & ...        &  4815      & 82.50514   & 13.520249  & 13.02289   & 11.143211  & 19.200000  & 0          & AAR        & 0.08567512 & small     \\\\\n",
       "\t 566        & BUREAU     & IL         & 0.050      & 35688      &  713.7600  & 35157      &   50       & 65         & 195        & ...        & 35107      & 98.37200   & 10.399635  & 14.15882   &  8.179287  & 11.008586  & 0          & AAR        & 0.54640215 & large     \\\\\n",
       "\\end{tabular}\n"
      ],
      "text/markdown": [
       "\n",
       "| PID | county | state | area | total | popdensity | popwhite | popblack | popamerindian | asian | ... | poppovertyknown | percpovertyknown | percbelowpoverty | percchildbelowpovert | percadultpoverty | percelderlypoverty | inmetro | category | ratio | group |\n",
       "|---|---|---|---|---|---|---|---|---|---|---|---|---|---|---|---|---|---|---|---|---|\n",
       "| 561        | ADAMS      | IL         | 0.052      | 66090      | 1270.9615  | 63917      | 1702       | 98         | 249        | ...        | 63628      | 96.27478   | 13.151443  | 18.01172   | 11.009776  | 12.443812  | 0          | AAR        | 0.37675897 | small      |\n",
       "| 562        | ALEXANDER  | IL         | 0.014      | 10626      |  759.0000  |  7054      | 3496       | 19         |  48        | ...        | 10529      | 99.08714   | 32.244278  | 45.82651   | 27.385647  | 25.228976  | 0          | LHR        | 0.45172219 | small      |\n",
       "| 563        | BOND       | IL         | 0.022      | 14991      |  681.4091  | 14477      |  429       | 35         |  16        | ...        | 14235      | 94.95697   | 12.068844  | 14.03606   | 10.852090  | 12.697410  | 0          | AAR        | 0.10673071 | small      |\n",
       "| 564        | BOONE      | IL         | 0.017      | 30806      | 1812.1176  | 29344      |  127       | 46         | 150        | ...        | 30337      | 98.47757   |  7.209019  | 11.17954   |  5.536013  |  6.217047  | 1          | ALU        | 0.48691813 | small      |\n",
       "| 565        | BROWN      | IL         | 0.018      |  5836      |  324.2222  |  5264      |  547       | 14         |   5        | ...        |  4815      | 82.50514   | 13.520249  | 13.02289   | 11.143211  | 19.200000  | 0          | AAR        | 0.08567512 | small      |\n",
       "| 566        | BUREAU     | IL         | 0.050      | 35688      |  713.7600  | 35157      |   50       | 65         | 195        | ...        | 35107      | 98.37200   | 10.399635  | 14.15882   |  8.179287  | 11.008586  | 0          | AAR        | 0.54640215 | large      |\n",
       "\n"
      ],
      "text/plain": [
       "  PID county    state area  total popdensity popwhite popblack popamerindian\n",
       "1 561 ADAMS     IL    0.052 66090 1270.9615  63917    1702     98           \n",
       "2 562 ALEXANDER IL    0.014 10626  759.0000   7054    3496     19           \n",
       "3 563 BOND      IL    0.022 14991  681.4091  14477     429     35           \n",
       "4 564 BOONE     IL    0.017 30806 1812.1176  29344     127     46           \n",
       "5 565 BROWN     IL    0.018  5836  324.2222   5264     547     14           \n",
       "6 566 BUREAU    IL    0.050 35688  713.7600  35157      50     65           \n",
       "  asian ... poppovertyknown percpovertyknown percbelowpoverty\n",
       "1 249   ... 63628           96.27478         13.151443       \n",
       "2  48   ... 10529           99.08714         32.244278       \n",
       "3  16   ... 14235           94.95697         12.068844       \n",
       "4 150   ... 30337           98.47757          7.209019       \n",
       "5   5   ...  4815           82.50514         13.520249       \n",
       "6 195   ... 35107           98.37200         10.399635       \n",
       "  percchildbelowpovert percadultpoverty percelderlypoverty inmetro category\n",
       "1 18.01172             11.009776        12.443812          0       AAR     \n",
       "2 45.82651             27.385647        25.228976          0       LHR     \n",
       "3 14.03606             10.852090        12.697410          0       AAR     \n",
       "4 11.17954              5.536013         6.217047          1       ALU     \n",
       "5 13.02289             11.143211        19.200000          0       AAR     \n",
       "6 14.15882              8.179287        11.008586          0       AAR     \n",
       "  ratio      group\n",
       "1 0.37675897 small\n",
       "2 0.45172219 small\n",
       "3 0.10673071 small\n",
       "4 0.48691813 small\n",
       "5 0.08567512 small\n",
       "6 0.54640215 large"
      ]
     },
     "metadata": {},
     "output_type": "display_data"
    }
   ],
   "source": [
    "head(midwest)"
   ]
  },
  {
   "cell_type": "code",
   "execution_count": 17,
   "id": "2baf6cba",
   "metadata": {},
   "outputs": [
    {
     "data": {
      "image/png": "[encoded data removed]",
      "text/plain": [
       "plot without title"
      ]
     },
     "metadata": {},
     "output_type": "display_data"
    }
   ],
   "source": [
    "qplot(midwest$group)"
   ]
  },
  {
   "cell_type": "code",
   "execution_count": null,
   "id": "a0fd9ffc",
   "metadata": {},
   "outputs": [],
   "source": []
  }
 ],
 "metadata": {
  "kernelspec": {
   "display_name": "R",
   "language": "R",
   "name": "ir"
  },
  "language_info": {
   "codemirror_mode": "r",
   "file_extension": ".r",
   "mimetype": "text/x-r-source",
   "name": "R",
   "pygments_lexer": "r",
   "version": "3.6.1"
  }
 },
 "nbformat": 4,
 "nbformat_minor": 5
}
