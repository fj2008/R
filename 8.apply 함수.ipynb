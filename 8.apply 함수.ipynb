{
 "cells": [
  {
   "cell_type": "markdown",
   "id": "1bdfe083",
   "metadata": {},
   "source": [
    "# apply()\n",
    "\n",
    "- 함수를 특정 단위로 쉽게 사용할 수 있도록 지원하는 함수\n",
    "    - apply계열 함수들의 차이점 : 입력 데이터의 종류, 결과의 형태, 연산 단위"
   ]
  },
  {
   "cell_type": "markdown",
   "id": "3f70b8f3",
   "metadata": {},
   "source": [
    "## apply함수의 문법\n",
    "- apply(함수를 적용할 대상, 방향, 함수)"
   ]
  },
  {
   "cell_type": "code",
   "execution_count": 1,
   "id": "89161cc6",
   "metadata": {},
   "outputs": [
    {
     "name": "stdout",
     "output_type": "stream",
     "text": [
      "     [,1] [,2] [,3] [,4]\n",
      "[1,]    1    4    7   10\n",
      "[2,]    2    5    8   11\n",
      "[3,]    3    6    9   12\n"
     ]
    }
   ],
   "source": [
    "a <- array(1:12, dim= c(3,4))\n",
    "print(a)"
   ]
  },
  {
   "cell_type": "markdown",
   "id": "e8b24aa4",
   "metadata": {},
   "source": [
    "## 적용방향\n",
    "\n",
    "- 1 : 가로\n",
    "- 2 : 세로\n",
    "<img src =\"./img/2d_apply.jpg\">"
   ]
  },
  {
   "cell_type": "code",
   "execution_count": 2,
   "id": "16b23e25",
   "metadata": {},
   "outputs": [
    {
     "data": {
      "text/html": [
       "<ol class=list-inline>\n",
       "\t<li>10</li>\n",
       "\t<li>11</li>\n",
       "\t<li>12</li>\n",
       "</ol>\n"
      ],
      "text/latex": [
       "\\begin{enumerate*}\n",
       "\\item 10\n",
       "\\item 11\n",
       "\\item 12\n",
       "\\end{enumerate*}\n"
      ],
      "text/markdown": [
       "1. 10\n",
       "2. 11\n",
       "3. 12\n",
       "\n",
       "\n"
      ],
      "text/plain": [
       "[1] 10 11 12"
      ]
     },
     "metadata": {},
     "output_type": "display_data"
    }
   ],
   "source": [
    "apply(a,1,max)"
   ]
  },
  {
   "cell_type": "code",
   "execution_count": 3,
   "id": "a22a6de7",
   "metadata": {},
   "outputs": [
    {
     "data": {
      "text/html": [
       "<ol class=list-inline>\n",
       "\t<li>3</li>\n",
       "\t<li>6</li>\n",
       "\t<li>9</li>\n",
       "\t<li>12</li>\n",
       "</ol>\n"
      ],
      "text/latex": [
       "\\begin{enumerate*}\n",
       "\\item 3\n",
       "\\item 6\n",
       "\\item 9\n",
       "\\item 12\n",
       "\\end{enumerate*}\n"
      ],
      "text/markdown": [
       "1. 3\n",
       "2. 6\n",
       "3. 9\n",
       "4. 12\n",
       "\n",
       "\n"
      ],
      "text/plain": [
       "[1]  3  6  9 12"
      ]
     },
     "metadata": {},
     "output_type": "display_data"
    }
   ],
   "source": [
    "apply(a,2,max)"
   ]
  },
  {
   "cell_type": "code",
   "execution_count": 4,
   "id": "b2f9f8df",
   "metadata": {},
   "outputs": [],
   "source": [
    "# 적용할 함수 작성하기\n",
    "#\"^\"는 제곱이란 뜻\n",
    "f <- function(vec){\n",
    "    max(vec)^2 +3\n",
    "}"
   ]
  },
  {
   "cell_type": "code",
   "execution_count": 5,
   "id": "bab643d6",
   "metadata": {},
   "outputs": [
    {
     "data": {
      "text/html": [
       "<ol class=list-inline>\n",
       "\t<li>103</li>\n",
       "\t<li>124</li>\n",
       "\t<li>147</li>\n",
       "</ol>\n"
      ],
      "text/latex": [
       "\\begin{enumerate*}\n",
       "\\item 103\n",
       "\\item 124\n",
       "\\item 147\n",
       "\\end{enumerate*}\n"
      ],
      "text/markdown": [
       "1. 103\n",
       "2. 124\n",
       "3. 147\n",
       "\n",
       "\n"
      ],
      "text/plain": [
       "[1] 103 124 147"
      ]
     },
     "metadata": {},
     "output_type": "display_data"
    }
   ],
   "source": [
    "apply(a,1,f)\n",
    "\n",
    "# ex)10제곱에 +3 103"
   ]
  },
  {
   "cell_type": "markdown",
   "id": "a1c7eb8b",
   "metadata": {},
   "source": [
    "## 3차원 array에 적용\n",
    "\n",
    "<img src = \"./img/3d_apply_1.jpg\" width = 500 height = 500>\n",
    "- 3차원 데이터 가로\n",
    "<img src = \"./img/3d_apply_2.jpg\" width = 500 height = 500>\n",
    "- 3차원 데이터 세로"
   ]
  },
  {
   "cell_type": "code",
   "execution_count": 6,
   "id": "726c490b",
   "metadata": {},
   "outputs": [
    {
     "name": "stdout",
     "output_type": "stream",
     "text": [
      ", , 1\n",
      "\n",
      "     [,1] [,2] [,3] [,4]\n",
      "[1,]    1    4    7   10\n",
      "[2,]    2    5    8   11\n",
      "[3,]    3    6    9   12\n",
      "\n",
      ", , 2\n",
      "\n",
      "     [,1] [,2] [,3] [,4]\n",
      "[1,]   13   16   19   22\n",
      "[2,]   14   17   20   23\n",
      "[3,]   15   18   21   24\n",
      "\n"
     ]
    }
   ],
   "source": [
    "a <- array(1:24, dim = c(3,4,2))\n",
    "print(a)"
   ]
  },
  {
   "cell_type": "code",
   "execution_count": 7,
   "id": "005c3159",
   "metadata": {},
   "outputs": [
    {
     "data": {
      "text/html": [
       "<ol class=list-inline>\n",
       "\t<li>22</li>\n",
       "\t<li>23</li>\n",
       "\t<li>24</li>\n",
       "</ol>\n"
      ],
      "text/latex": [
       "\\begin{enumerate*}\n",
       "\\item 22\n",
       "\\item 23\n",
       "\\item 24\n",
       "\\end{enumerate*}\n"
      ],
      "text/markdown": [
       "1. 22\n",
       "2. 23\n",
       "3. 24\n",
       "\n",
       "\n"
      ],
      "text/plain": [
       "[1] 22 23 24"
      ]
     },
     "metadata": {},
     "output_type": "display_data"
    }
   ],
   "source": [
    "# 3차원배열 가로로 잘랐음\n",
    "apply(a,1,max)"
   ]
  },
  {
   "cell_type": "code",
   "execution_count": 8,
   "id": "0a97e8ba",
   "metadata": {},
   "outputs": [
    {
     "data": {
      "text/html": [
       "<ol class=list-inline>\n",
       "\t<li>15</li>\n",
       "\t<li>18</li>\n",
       "\t<li>21</li>\n",
       "\t<li>24</li>\n",
       "</ol>\n"
      ],
      "text/latex": [
       "\\begin{enumerate*}\n",
       "\\item 15\n",
       "\\item 18\n",
       "\\item 21\n",
       "\\item 24\n",
       "\\end{enumerate*}\n"
      ],
      "text/markdown": [
       "1. 15\n",
       "2. 18\n",
       "3. 21\n",
       "4. 24\n",
       "\n",
       "\n"
      ],
      "text/plain": [
       "[1] 15 18 21 24"
      ]
     },
     "metadata": {},
     "output_type": "display_data"
    }
   ],
   "source": [
    "# 3차원배열 세로로 잘랐음\n",
    "apply(a,2,max)"
   ]
  },
  {
   "cell_type": "code",
   "execution_count": 9,
   "id": "8663f571",
   "metadata": {},
   "outputs": [
    {
     "name": "stdout",
     "output_type": "stream",
     "text": [
      ", , 1\n",
      "\n",
      "     [,1] [,2] [,3] [,4]\n",
      "[1,]   13    6   11    5\n",
      "[2,]   10   18   22   23\n",
      "[3,]    3    2   14   15\n",
      "\n",
      ", , 2\n",
      "\n",
      "     [,1] [,2] [,3] [,4]\n",
      "[1,]    7    8   21    4\n",
      "[2,]   20   12    9   16\n",
      "[3,]   19   17    1   24\n",
      "\n"
     ]
    }
   ],
   "source": [
    "a <- array(sample(24,24), dim = c(3,4,2))\n",
    "print(a)"
   ]
  },
  {
   "cell_type": "code",
   "execution_count": 10,
   "id": "6b09a063",
   "metadata": {},
   "outputs": [
    {
     "data": {
      "text/html": [
       "<ol class=list-inline>\n",
       "\t<li>21</li>\n",
       "\t<li>23</li>\n",
       "\t<li>24</li>\n",
       "</ol>\n"
      ],
      "text/latex": [
       "\\begin{enumerate*}\n",
       "\\item 21\n",
       "\\item 23\n",
       "\\item 24\n",
       "\\end{enumerate*}\n"
      ],
      "text/markdown": [
       "1. 21\n",
       "2. 23\n",
       "3. 24\n",
       "\n",
       "\n"
      ],
      "text/plain": [
       "[1] 21 23 24"
      ]
     },
     "metadata": {},
     "output_type": "display_data"
    }
   ],
   "source": [
    "apply(a,1,max)"
   ]
  },
  {
   "cell_type": "code",
   "execution_count": 11,
   "id": "ec9d639e",
   "metadata": {},
   "outputs": [
    {
     "data": {
      "text/html": [
       "<ol class=list-inline>\n",
       "\t<li>23</li>\n",
       "\t<li>24</li>\n",
       "</ol>\n"
      ],
      "text/latex": [
       "\\begin{enumerate*}\n",
       "\\item 23\n",
       "\\item 24\n",
       "\\end{enumerate*}\n"
      ],
      "text/markdown": [
       "1. 23\n",
       "2. 24\n",
       "\n",
       "\n"
      ],
      "text/plain": [
       "[1] 23 24"
      ]
     },
     "metadata": {},
     "output_type": "display_data"
    }
   ],
   "source": [
    "# 3 : 레이어 별로 적용\n",
    "apply(a,3,max)"
   ]
  },
  {
   "cell_type": "code",
   "execution_count": 12,
   "id": "97738ff5",
   "metadata": {},
   "outputs": [],
   "source": [
    "a[2,4,1] <- NA\n",
    "a[2,1,1] <- NA"
   ]
  },
  {
   "cell_type": "code",
   "execution_count": 17,
   "id": "9ca8db2f",
   "metadata": {},
   "outputs": [
    {
     "name": "stdout",
     "output_type": "stream",
     "text": [
      ", , 1\n",
      "\n",
      "     [,1] [,2] [,3] [,4]\n",
      "[1,]   13    6   11    5\n",
      "[2,]   NA   18   22   NA\n",
      "[3,]    3    2   14   15\n",
      "\n",
      ", , 2\n",
      "\n",
      "     [,1] [,2] [,3] [,4]\n",
      "[1,]    7    8   21    4\n",
      "[2,]   20   12    9   16\n",
      "[3,]   19   17    1   24\n",
      "\n"
     ]
    }
   ],
   "source": [
    "print(a)"
   ]
  },
  {
   "cell_type": "code",
   "execution_count": 14,
   "id": "a5f066f6",
   "metadata": {},
   "outputs": [
    {
     "data": {
      "text/html": [
       "<ol class=list-inline>\n",
       "\t<li>9.375</li>\n",
       "\t<li>&lt;NA&gt;</li>\n",
       "\t<li>11.875</li>\n",
       "</ol>\n"
      ],
      "text/latex": [
       "\\begin{enumerate*}\n",
       "\\item 9.375\n",
       "\\item <NA>\n",
       "\\item 11.875\n",
       "\\end{enumerate*}\n"
      ],
      "text/markdown": [
       "1. 9.375\n",
       "2. &lt;NA&gt;\n",
       "3. 11.875\n",
       "\n",
       "\n"
      ],
      "text/plain": [
       "[1]  9.375     NA 11.875"
      ]
     },
     "metadata": {},
     "output_type": "display_data"
    }
   ],
   "source": [
    "# 2번째 열에 na값이 있어서 결과가 나오지 않는다.\n",
    "apply(a,1,mean)"
   ]
  },
  {
   "cell_type": "code",
   "execution_count": 15,
   "id": "013df2d8",
   "metadata": {},
   "outputs": [
    {
     "data": {
      "text/html": [
       "<ol class=list-inline>\n",
       "\t<li>&lt;NA&gt;</li>\n",
       "\t<li>10.5</li>\n",
       "\t<li>13</li>\n",
       "\t<li>&lt;NA&gt;</li>\n",
       "</ol>\n"
      ],
      "text/latex": [
       "\\begin{enumerate*}\n",
       "\\item <NA>\n",
       "\\item 10.5\n",
       "\\item 13\n",
       "\\item <NA>\n",
       "\\end{enumerate*}\n"
      ],
      "text/markdown": [
       "1. &lt;NA&gt;\n",
       "2. 10.5\n",
       "3. 13\n",
       "4. &lt;NA&gt;\n",
       "\n",
       "\n"
      ],
      "text/plain": [
       "[1]   NA 10.5 13.0   NA"
      ]
     },
     "metadata": {},
     "output_type": "display_data"
    }
   ],
   "source": [
    "apply(a,2,mean)"
   ]
  },
  {
   "cell_type": "code",
   "execution_count": 16,
   "id": "f4e85215",
   "metadata": {},
   "outputs": [
    {
     "data": {
      "text/html": [
       "<ol class=list-inline>\n",
       "\t<li>9.375</li>\n",
       "\t<li>16.1666666666667</li>\n",
       "\t<li>11.875</li>\n",
       "</ol>\n"
      ],
      "text/latex": [
       "\\begin{enumerate*}\n",
       "\\item 9.375\n",
       "\\item 16.1666666666667\n",
       "\\item 11.875\n",
       "\\end{enumerate*}\n"
      ],
      "text/markdown": [
       "1. 9.375\n",
       "2. 16.1666666666667\n",
       "3. 11.875\n",
       "\n",
       "\n"
      ],
      "text/plain": [
       "[1]  9.37500 16.16667 11.87500"
      ]
     },
     "metadata": {},
     "output_type": "display_data"
    }
   ],
   "source": [
    "apply(a,1,mean,na.rm = T)"
   ]
  },
  {
   "cell_type": "markdown",
   "id": "dd5c87a6",
   "metadata": {},
   "source": [
    "# lapply\n",
    "\n",
    "- list + apply\n",
    "- 실행 결과가 list형태로 출력"
   ]
  },
  {
   "cell_type": "code",
   "execution_count": 18,
   "id": "90bf653e",
   "metadata": {},
   "outputs": [
    {
     "data": {
      "text/html": [
       "<ol>\n",
       "\t<li>26</li>\n",
       "\t<li>&lt;NA&gt;</li>\n",
       "\t<li>6</li>\n",
       "\t<li>12</li>\n",
       "\t<li>36</li>\n",
       "\t<li>4</li>\n",
       "\t<li>22</li>\n",
       "\t<li>44</li>\n",
       "\t<li>28</li>\n",
       "\t<li>10</li>\n",
       "\t<li>&lt;NA&gt;</li>\n",
       "\t<li>30</li>\n",
       "\t<li>14</li>\n",
       "\t<li>40</li>\n",
       "\t<li>38</li>\n",
       "\t<li>16</li>\n",
       "\t<li>24</li>\n",
       "\t<li>34</li>\n",
       "\t<li>42</li>\n",
       "\t<li>18</li>\n",
       "\t<li>2</li>\n",
       "\t<li>8</li>\n",
       "\t<li>32</li>\n",
       "\t<li>48</li>\n",
       "</ol>\n"
      ],
      "text/latex": [
       "\\begin{enumerate}\n",
       "\\item 26\n",
       "\\item <NA>\n",
       "\\item 6\n",
       "\\item 12\n",
       "\\item 36\n",
       "\\item 4\n",
       "\\item 22\n",
       "\\item 44\n",
       "\\item 28\n",
       "\\item 10\n",
       "\\item <NA>\n",
       "\\item 30\n",
       "\\item 14\n",
       "\\item 40\n",
       "\\item 38\n",
       "\\item 16\n",
       "\\item 24\n",
       "\\item 34\n",
       "\\item 42\n",
       "\\item 18\n",
       "\\item 2\n",
       "\\item 8\n",
       "\\item 32\n",
       "\\item 48\n",
       "\\end{enumerate}\n"
      ],
      "text/markdown": [
       "1. 26\n",
       "2. &lt;NA&gt;\n",
       "3. 6\n",
       "4. 12\n",
       "5. 36\n",
       "6. 4\n",
       "7. 22\n",
       "8. 44\n",
       "9. 28\n",
       "10. 10\n",
       "11. &lt;NA&gt;\n",
       "12. 30\n",
       "13. 14\n",
       "14. 40\n",
       "15. 38\n",
       "16. 16\n",
       "17. 24\n",
       "18. 34\n",
       "19. 42\n",
       "20. 18\n",
       "21. 2\n",
       "22. 8\n",
       "23. 32\n",
       "24. 48\n",
       "\n",
       "\n"
      ],
      "text/plain": [
       "[[1]]\n",
       "[1] 26\n",
       "\n",
       "[[2]]\n",
       "[1] NA\n",
       "\n",
       "[[3]]\n",
       "[1] 6\n",
       "\n",
       "[[4]]\n",
       "[1] 12\n",
       "\n",
       "[[5]]\n",
       "[1] 36\n",
       "\n",
       "[[6]]\n",
       "[1] 4\n",
       "\n",
       "[[7]]\n",
       "[1] 22\n",
       "\n",
       "[[8]]\n",
       "[1] 44\n",
       "\n",
       "[[9]]\n",
       "[1] 28\n",
       "\n",
       "[[10]]\n",
       "[1] 10\n",
       "\n",
       "[[11]]\n",
       "[1] NA\n",
       "\n",
       "[[12]]\n",
       "[1] 30\n",
       "\n",
       "[[13]]\n",
       "[1] 14\n",
       "\n",
       "[[14]]\n",
       "[1] 40\n",
       "\n",
       "[[15]]\n",
       "[1] 38\n",
       "\n",
       "[[16]]\n",
       "[1] 16\n",
       "\n",
       "[[17]]\n",
       "[1] 24\n",
       "\n",
       "[[18]]\n",
       "[1] 34\n",
       "\n",
       "[[19]]\n",
       "[1] 42\n",
       "\n",
       "[[20]]\n",
       "[1] 18\n",
       "\n",
       "[[21]]\n",
       "[1] 2\n",
       "\n",
       "[[22]]\n",
       "[1] 8\n",
       "\n",
       "[[23]]\n",
       "[1] 32\n",
       "\n",
       "[[24]]\n",
       "[1] 48\n"
      ]
     },
     "metadata": {},
     "output_type": "display_data"
    }
   ],
   "source": [
    "lapply(a, function(x){x*2})"
   ]
  },
  {
   "cell_type": "markdown",
   "id": "5243c7df",
   "metadata": {},
   "source": [
    "# sapply\n",
    "\n",
    "- lapply에서 사용자 편의성을 고려한 함수\n",
    "- 기본적으로는 벡터형태로 출력\n",
    "    - 입력데이터가 리스트 형태인 경우 리스트로 출력\n",
    "    - simplify = F인 경우 리스트 형태로 출력"
   ]
  },
  {
   "cell_type": "code",
   "execution_count": 19,
   "id": "ddf530c0",
   "metadata": {},
   "outputs": [
    {
     "data": {
      "text/html": [
       "<ol>\n",
       "\t<li>26</li>\n",
       "\t<li>&lt;NA&gt;</li>\n",
       "\t<li>6</li>\n",
       "\t<li>12</li>\n",
       "\t<li>36</li>\n",
       "\t<li>4</li>\n",
       "\t<li>22</li>\n",
       "\t<li>44</li>\n",
       "\t<li>28</li>\n",
       "\t<li>10</li>\n",
       "\t<li>&lt;NA&gt;</li>\n",
       "\t<li>30</li>\n",
       "\t<li>14</li>\n",
       "\t<li>40</li>\n",
       "\t<li>38</li>\n",
       "\t<li>16</li>\n",
       "\t<li>24</li>\n",
       "\t<li>34</li>\n",
       "\t<li>42</li>\n",
       "\t<li>18</li>\n",
       "\t<li>2</li>\n",
       "\t<li>8</li>\n",
       "\t<li>32</li>\n",
       "\t<li>48</li>\n",
       "</ol>\n"
      ],
      "text/latex": [
       "\\begin{enumerate}\n",
       "\\item 26\n",
       "\\item <NA>\n",
       "\\item 6\n",
       "\\item 12\n",
       "\\item 36\n",
       "\\item 4\n",
       "\\item 22\n",
       "\\item 44\n",
       "\\item 28\n",
       "\\item 10\n",
       "\\item <NA>\n",
       "\\item 30\n",
       "\\item 14\n",
       "\\item 40\n",
       "\\item 38\n",
       "\\item 16\n",
       "\\item 24\n",
       "\\item 34\n",
       "\\item 42\n",
       "\\item 18\n",
       "\\item 2\n",
       "\\item 8\n",
       "\\item 32\n",
       "\\item 48\n",
       "\\end{enumerate}\n"
      ],
      "text/markdown": [
       "1. 26\n",
       "2. &lt;NA&gt;\n",
       "3. 6\n",
       "4. 12\n",
       "5. 36\n",
       "6. 4\n",
       "7. 22\n",
       "8. 44\n",
       "9. 28\n",
       "10. 10\n",
       "11. &lt;NA&gt;\n",
       "12. 30\n",
       "13. 14\n",
       "14. 40\n",
       "15. 38\n",
       "16. 16\n",
       "17. 24\n",
       "18. 34\n",
       "19. 42\n",
       "20. 18\n",
       "21. 2\n",
       "22. 8\n",
       "23. 32\n",
       "24. 48\n",
       "\n",
       "\n"
      ],
      "text/plain": [
       "[[1]]\n",
       "[1] 26\n",
       "\n",
       "[[2]]\n",
       "[1] NA\n",
       "\n",
       "[[3]]\n",
       "[1] 6\n",
       "\n",
       "[[4]]\n",
       "[1] 12\n",
       "\n",
       "[[5]]\n",
       "[1] 36\n",
       "\n",
       "[[6]]\n",
       "[1] 4\n",
       "\n",
       "[[7]]\n",
       "[1] 22\n",
       "\n",
       "[[8]]\n",
       "[1] 44\n",
       "\n",
       "[[9]]\n",
       "[1] 28\n",
       "\n",
       "[[10]]\n",
       "[1] 10\n",
       "\n",
       "[[11]]\n",
       "[1] NA\n",
       "\n",
       "[[12]]\n",
       "[1] 30\n",
       "\n",
       "[[13]]\n",
       "[1] 14\n",
       "\n",
       "[[14]]\n",
       "[1] 40\n",
       "\n",
       "[[15]]\n",
       "[1] 38\n",
       "\n",
       "[[16]]\n",
       "[1] 16\n",
       "\n",
       "[[17]]\n",
       "[1] 24\n",
       "\n",
       "[[18]]\n",
       "[1] 34\n",
       "\n",
       "[[19]]\n",
       "[1] 42\n",
       "\n",
       "[[20]]\n",
       "[1] 18\n",
       "\n",
       "[[21]]\n",
       "[1] 2\n",
       "\n",
       "[[22]]\n",
       "[1] 8\n",
       "\n",
       "[[23]]\n",
       "[1] 32\n",
       "\n",
       "[[24]]\n",
       "[1] 48\n"
      ]
     },
     "metadata": {},
     "output_type": "display_data"
    }
   ],
   "source": [
    "sapply(a, function(x){x*2},simplify = F)"
   ]
  },
  {
   "cell_type": "code",
   "execution_count": null,
   "id": "39dda78f",
   "metadata": {},
   "outputs": [],
   "source": []
  }
 ],
 "metadata": {
  "kernelspec": {
   "display_name": "R",
   "language": "R",
   "name": "ir"
  },
  "language_info": {
   "codemirror_mode": "r",
   "file_extension": ".r",
   "mimetype": "text/x-r-source",
   "name": "R",
   "pygments_lexer": "r",
   "version": "3.6.1"
  }
 },
 "nbformat": 4,
 "nbformat_minor": 5
}
